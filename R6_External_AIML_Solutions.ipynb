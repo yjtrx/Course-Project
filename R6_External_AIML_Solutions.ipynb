{
  "nbformat": 4,
  "nbformat_minor": 0,
  "metadata": {
    "colab": {
      "name": "R6_External_AIML_Solutions.ipynb",
      "provenance": [],
      "collapsed_sections": [],
      "machine_shape": "hm"
    },
    "kernelspec": {
      "name": "python3",
      "display_name": "Python 3"
    },
    "accelerator": "GPU"
  },
  "cells": [
    {
      "cell_type": "markdown",
      "metadata": {
        "id": "YYk8NG3yOIT9",
        "colab_type": "text"
      },
      "source": [
        "### A MNIST-like fashion product database\n",
        "\n",
        "In this, we classify the images into respective classes given in the dataset. We use a Neural Net and a Deep Neural Net in Keras to solve this and check the accuracy scores."
      ]
    },
    {
      "cell_type": "markdown",
      "metadata": {
        "id": "tFO6PuxzOIT_",
        "colab_type": "text"
      },
      "source": [
        "### Load tensorflow"
      ]
    },
    {
      "cell_type": "code",
      "metadata": {
        "id": "UDZOfWk5vPWY",
        "colab_type": "code",
        "outputId": "63538548-7489-429c-a233-4e10928cd8a2",
        "colab": {
          "base_uri": "https://localhost:8080/",
          "height": 34
        }
      },
      "source": [
        "%tensorflow_version 2.x"
      ],
      "execution_count": 1,
      "outputs": [
        {
          "output_type": "stream",
          "text": [
            "TensorFlow 2.x selected.\n"
          ],
          "name": "stdout"
        }
      ]
    },
    {
      "cell_type": "code",
      "metadata": {
        "id": "efNjNImfOIUC",
        "colab_type": "code",
        "colab": {}
      },
      "source": [
        "import tensorflow as tf\n",
        "tf.random.set_seed(42)"
      ],
      "execution_count": 0,
      "outputs": []
    },
    {
      "cell_type": "code",
      "metadata": {
        "id": "l9C4aAIGOIUH",
        "colab_type": "code",
        "outputId": "c91d1a07-689e-4070-875b-945198d13d69",
        "colab": {
          "base_uri": "https://localhost:8080/",
          "height": 34
        }
      },
      "source": [
        "tf.__version__"
      ],
      "execution_count": 3,
      "outputs": [
        {
          "output_type": "execute_result",
          "data": {
            "text/plain": [
              "'2.1.0-rc1'"
            ]
          },
          "metadata": {
            "tags": []
          },
          "execution_count": 3
        }
      ]
    },
    {
      "cell_type": "markdown",
      "metadata": {
        "id": "HcoZBStrOIUQ",
        "colab_type": "text"
      },
      "source": [
        "### Collect Data"
      ]
    },
    {
      "cell_type": "code",
      "metadata": {
        "id": "Jt8No7r6GIGc",
        "colab_type": "code",
        "outputId": "e5cb8590-35ef-416c-fb8d-6d4f3bf1013a",
        "colab": {
          "base_uri": "https://localhost:8080/",
          "height": 34
        }
      },
      "source": [
        "import keras"
      ],
      "execution_count": 4,
      "outputs": [
        {
          "output_type": "stream",
          "text": [
            "Using TensorFlow backend.\n"
          ],
          "name": "stderr"
        }
      ]
    },
    {
      "cell_type": "code",
      "metadata": {
        "id": "qnbx7TyQOIUY",
        "colab_type": "code",
        "colab": {
          "base_uri": "https://localhost:8080/",
          "height": 158
        },
        "outputId": "df531335-0489-4c97-ba96-0a14b0fd4968"
      },
      "source": [
        "(trainX, trainY), (testX, testY) = keras.datasets.fashion_mnist.load_data()"
      ],
      "execution_count": 5,
      "outputs": [
        {
          "output_type": "stream",
          "text": [
            "Downloading data from http://fashion-mnist.s3-website.eu-central-1.amazonaws.com/train-labels-idx1-ubyte.gz\n",
            "32768/29515 [=================================] - 0s 4us/step\n",
            "Downloading data from http://fashion-mnist.s3-website.eu-central-1.amazonaws.com/train-images-idx3-ubyte.gz\n",
            "26427392/26421880 [==============================] - 2s 0us/step\n",
            "Downloading data from http://fashion-mnist.s3-website.eu-central-1.amazonaws.com/t10k-labels-idx1-ubyte.gz\n",
            "8192/5148 [===============================================] - 0s 0us/step\n",
            "Downloading data from http://fashion-mnist.s3-website.eu-central-1.amazonaws.com/t10k-images-idx3-ubyte.gz\n",
            "4423680/4422102 [==============================] - 1s 0us/step\n"
          ],
          "name": "stdout"
        }
      ]
    },
    {
      "cell_type": "code",
      "metadata": {
        "id": "ToEamIT58f4y",
        "colab_type": "code",
        "colab": {
          "base_uri": "https://localhost:8080/",
          "height": 52
        },
        "outputId": "0ac0a13a-cd42-4a0b-eb29-c84749e950a7"
      },
      "source": [
        "print(trainY.shape)\n",
        "print('First 5 examples now are: ', trainY[0:5])"
      ],
      "execution_count": 6,
      "outputs": [
        {
          "output_type": "stream",
          "text": [
            "(60000,)\n",
            "First 5 examples now are:  [9 0 0 3 0]\n"
          ],
          "name": "stdout"
        }
      ]
    },
    {
      "cell_type": "code",
      "metadata": {
        "id": "UbiHj5YPOIUc",
        "colab_type": "code",
        "outputId": "6ecd38f6-a1e9-4d5e-c8ee-3229fcf3195a",
        "colab": {
          "base_uri": "https://localhost:8080/",
          "height": 34
        }
      },
      "source": [
        "print(testY[0:5])"
      ],
      "execution_count": 7,
      "outputs": [
        {
          "output_type": "stream",
          "text": [
            "[9 2 1 1 6]\n"
          ],
          "name": "stdout"
        }
      ]
    },
    {
      "cell_type": "code",
      "metadata": {
        "id": "hOlbTcBLnY_I",
        "colab_type": "code",
        "colab": {}
      },
      "source": [
        "class_names = ['T-shirt/top','Trouser','Pullover','Dress','Coat',\n",
        "               'Sandal','Shirt','Sneaker','Bag','Ankle boot']"
      ],
      "execution_count": 0,
      "outputs": []
    },
    {
      "cell_type": "code",
      "metadata": {
        "id": "FEoXuJrjrlre",
        "colab_type": "code",
        "outputId": "c3f6d727-cbcd-464f-fe82-dd89a044ace8",
        "colab": {
          "base_uri": "https://localhost:8080/",
          "height": 210
        }
      },
      "source": [
        "import pandas as pd\n",
        "class_names = pd.Series(class_names)\n",
        "class_names"
      ],
      "execution_count": 9,
      "outputs": [
        {
          "output_type": "execute_result",
          "data": {
            "text/plain": [
              "0    T-shirt/top\n",
              "1        Trouser\n",
              "2       Pullover\n",
              "3          Dress\n",
              "4           Coat\n",
              "5         Sandal\n",
              "6          Shirt\n",
              "7        Sneaker\n",
              "8            Bag\n",
              "9     Ankle boot\n",
              "dtype: object"
            ]
          },
          "metadata": {
            "tags": []
          },
          "execution_count": 9
        }
      ]
    },
    {
      "cell_type": "code",
      "metadata": {
        "id": "Qf9cHf-d3xkr",
        "colab_type": "code",
        "colab": {}
      },
      "source": [
        "trainX = trainX.astype('float32')"
      ],
      "execution_count": 0,
      "outputs": []
    },
    {
      "cell_type": "code",
      "metadata": {
        "id": "eCsbs7io3xyf",
        "colab_type": "code",
        "colab": {}
      },
      "source": [
        "trainY = trainY.astype('float32')\n",
        "testX = testX.astype('float32')\n",
        "testY = testY.astype('float32')"
      ],
      "execution_count": 0,
      "outputs": []
    },
    {
      "cell_type": "markdown",
      "metadata": {
        "id": "lDAYzkwyOIUj",
        "colab_type": "text"
      },
      "source": [
        "### Convert both training and testing labels into one-hot vectors.\n",
        "\n",
        "**Hint:** check **tf.keras.utils.to_categorical()**"
      ]
    },
    {
      "cell_type": "code",
      "metadata": {
        "id": "om1UXRWeirbT",
        "colab_type": "code",
        "colab": {}
      },
      "source": [
        "#Training & test labels are the ones to be predicted so trainY & testY are to be one hot encoded\n",
        "trainY = tf.keras.utils.to_categorical(trainY,num_classes=10)"
      ],
      "execution_count": 0,
      "outputs": []
    },
    {
      "cell_type": "markdown",
      "metadata": {
        "id": "bcHekZE_NrjA",
        "colab_type": "text"
      },
      "source": [
        ""
      ]
    },
    {
      "cell_type": "code",
      "metadata": {
        "id": "Vds12J9Bir2E",
        "colab_type": "code",
        "colab": {}
      },
      "source": [
        "testY1 = tf.keras.utils.to_categorical(testY,num_classes=10)"
      ],
      "execution_count": 0,
      "outputs": []
    },
    {
      "cell_type": "code",
      "metadata": {
        "id": "y5Nhp9mz446f",
        "colab_type": "code",
        "outputId": "4a8f6015-6c80-429a-fa4f-122cd53baf0a",
        "colab": {
          "base_uri": "https://localhost:8080/",
          "height": 34
        }
      },
      "source": [
        "trainX.shape"
      ],
      "execution_count": 14,
      "outputs": [
        {
          "output_type": "execute_result",
          "data": {
            "text/plain": [
              "(60000, 28, 28)"
            ]
          },
          "metadata": {
            "tags": []
          },
          "execution_count": 14
        }
      ]
    },
    {
      "cell_type": "code",
      "metadata": {
        "id": "33NqmmgRi5Kk",
        "colab_type": "code",
        "colab": {
          "base_uri": "https://localhost:8080/",
          "height": 34
        },
        "outputId": "3305f668-a672-4373-b539-c497d2e76193"
      },
      "source": [
        "testX.shape"
      ],
      "execution_count": 15,
      "outputs": [
        {
          "output_type": "execute_result",
          "data": {
            "text/plain": [
              "(10000, 28, 28)"
            ]
          },
          "metadata": {
            "tags": []
          },
          "execution_count": 15
        }
      ]
    },
    {
      "cell_type": "code",
      "metadata": {
        "id": "_fX5J76F2jdQ",
        "colab_type": "code",
        "outputId": "fa134b21-e139-439e-adfd-d43d22d0467b",
        "colab": {
          "base_uri": "https://localhost:8080/",
          "height": 34
        }
      },
      "source": [
        "trainY.shape"
      ],
      "execution_count": 16,
      "outputs": [
        {
          "output_type": "execute_result",
          "data": {
            "text/plain": [
              "(60000, 10)"
            ]
          },
          "metadata": {
            "tags": []
          },
          "execution_count": 16
        }
      ]
    },
    {
      "cell_type": "code",
      "metadata": {
        "id": "cvxyI5tvREj3",
        "colab_type": "code",
        "outputId": "bf16d27d-9010-46cc-8cf1-eebde04dd357",
        "colab": {
          "base_uri": "https://localhost:8080/",
          "height": 34
        }
      },
      "source": [
        "testY1.shape"
      ],
      "execution_count": 17,
      "outputs": [
        {
          "output_type": "execute_result",
          "data": {
            "text/plain": [
              "(10000, 10)"
            ]
          },
          "metadata": {
            "tags": []
          },
          "execution_count": 17
        }
      ]
    },
    {
      "cell_type": "code",
      "metadata": {
        "id": "2LYjhMJYh2LX",
        "colab_type": "code",
        "colab": {
          "base_uri": "https://localhost:8080/",
          "height": 34
        },
        "outputId": "824d6648-00f3-418d-f476-8e758c024171"
      },
      "source": [
        "testY.shape"
      ],
      "execution_count": 18,
      "outputs": [
        {
          "output_type": "execute_result",
          "data": {
            "text/plain": [
              "(10000,)"
            ]
          },
          "metadata": {
            "tags": []
          },
          "execution_count": 18
        }
      ]
    },
    {
      "cell_type": "markdown",
      "metadata": {
        "id": "FwhQ8e7VOIUw",
        "colab_type": "text"
      },
      "source": [
        "### Visualize the data\n",
        "\n",
        "Plot first 10 images in the triaining set and their labels."
      ]
    },
    {
      "cell_type": "code",
      "metadata": {
        "id": "AvDML2OoOIUx",
        "colab_type": "code",
        "outputId": "6bd74931-f0ba-465a-987c-9c38ef46ab5d",
        "colab": {
          "base_uri": "https://localhost:8080/",
          "height": 1000
        }
      },
      "source": [
        "import matplotlib.pyplot as plt\n",
        "i = 0\n",
        "for i in range(10):\n",
        "  figure = plt.figure(figsize=(10,10))\n",
        "  plt.subplot(2,5,i+1)\n",
        "  plt.imshow(trainX[i])\n",
        "  plt.xlabel(trainY[i])\n",
        "  i += 1"
      ],
      "execution_count": 19,
      "outputs": [
        {
          "output_type": "stream",
          "text": [
            "/usr/local/lib/python3.6/dist-packages/matplotlib/text.py:1150: FutureWarning: elementwise comparison failed; returning scalar instead, but in the future will perform elementwise comparison\n",
            "  if s != self._text:\n"
          ],
          "name": "stderr"
        },
        {
          "output_type": "display_data",
          "data": {
            "image/png": "[encoded data removed]",
            "text/plain": [
              "<Figure size 720x720 with 1 Axes>"
            ]
          },
          "metadata": {
            "tags": []
          }
        },
        {
          "output_type": "display_data",
          "data": {
            "image/png": "[encoded data removed]",
            "text/plain": [
              "<Figure size 720x720 with 1 Axes>"
            ]
          },
          "metadata": {
            "tags": []
          }
        },
        {
          "output_type": "display_data",
          "data": {
            "image/png": "[encoded data removed]",
            "text/plain": [
              "<Figure size 720x720 with 1 Axes>"
            ]
          },
          "metadata": {
            "tags": []
          }
        },
        {
          "output_type": "display_data",
          "data": {
            "image/png": "[encoded data removed]",
            "text/plain": [
              "<Figure size 720x720 with 1 Axes>"
            ]
          },
          "metadata": {
            "tags": []
          }
        },
        {
          "output_type": "display_data",
          "data": {
            "image/png": "[encoded data removed]",
            "text/plain": [
              "<Figure size 720x720 with 1 Axes>"
            ]
          },
          "metadata": {
            "tags": []
          }
        },
        {
          "output_type": "display_data",
          "data": {
            "image/png": "[encoded data removed]",
            "text/plain": [
              "<Figure size 720x720 with 1 Axes>"
            ]
          },
          "metadata": {
            "tags": []
          }
        },
        {
          "output_type": "display_data",
          "data": {
            "image/png": "[encoded data removed]",
            "text/plain": [
              "<Figure size 720x720 with 1 Axes>"
            ]
          },
          "metadata": {
            "tags": []
          }
        },
        {
          "output_type": "display_data",
          "data": {
            "image/png": "[encoded data removed]",
            "text/plain": [
              "<Figure size 720x720 with 1 Axes>"
            ]
          },
          "metadata": {
            "tags": []
          }
        },
        {
          "output_type": "display_data",
          "data": {
            "image/png": "[encoded data removed]",
            "text/plain": [
              "<Figure size 720x720 with 1 Axes>"
            ]
          },
          "metadata": {
            "tags": []
          }
        },
        {
          "output_type": "display_data",
          "data": {
            "image/png": "[encoded data removed]",
            "text/plain": [
              "<Figure size 720x720 with 1 Axes>"
            ]
          },
          "metadata": {
            "tags": []
          }
        }
      ]
    },
    {
      "cell_type": "markdown",
      "metadata": {
        "id": "l4TbJGeSOIU4",
        "colab_type": "text"
      },
      "source": [
        "### Build a neural Network with a cross entropy loss function and sgd optimizer in Keras. The output layer with 10 neurons as we have 10 classes."
      ]
    },
    {
      "cell_type": "code",
      "metadata": {
        "colab_type": "code",
        "id": "sHcVd0J0WILD",
        "colab": {}
      },
      "source": [
        "from tensorflow.python.keras import layers\n",
        "from tensorflow.python.keras.layers import Dense\n",
        "from tensorflow.python.keras.models import Sequential\n",
        "model = Sequential([layers.Flatten(input_shape=(28,28))])\n",
        "model.add(Dense(60,input_dim=10,activation='relu'))\n",
        "model.add(Dense(40,activation='relu'))\n",
        "model.add(Dense(20,activation='relu'))\n",
        "model.add(Dense(10,activation='softmax'))\n",
        "model.compile(optimizer ='sgd',loss ='binary_crossentropy',metrics=['accuracy'])"
      ],
      "execution_count": 0,
      "outputs": []
    },
    {
      "cell_type": "markdown",
      "metadata": {
        "id": "3hQpLv3aOIU_",
        "colab_type": "text"
      },
      "source": [
        "\n",
        "\n",
        "### Execute the model using model.fit()"
      ]
    },
    {
      "cell_type": "code",
      "metadata": {
        "id": "kndfpdidOIVI",
        "colab_type": "code",
        "outputId": "c5059c83-f0ca-4714-dcb9-253dc236ca66",
        "colab": {
          "base_uri": "https://localhost:8080/",
          "height": 334
        }
      },
      "source": [
        "model.summary()"
      ],
      "execution_count": 21,
      "outputs": [
        {
          "output_type": "stream",
          "text": [
            "Model: \"sequential\"\n",
            "_________________________________________________________________\n",
            "Layer (type)                 Output Shape              Param #   \n",
            "=================================================================\n",
            "flatten (Flatten)            (None, 784)               0         \n",
            "_________________________________________________________________\n",
            "dense (Dense)                (None, 60)                47100     \n",
            "_________________________________________________________________\n",
            "dense_1 (Dense)              (None, 40)                2440      \n",
            "_________________________________________________________________\n",
            "dense_2 (Dense)              (None, 20)                820       \n",
            "_________________________________________________________________\n",
            "dense_3 (Dense)              (None, 10)                210       \n",
            "=================================================================\n",
            "Total params: 50,570\n",
            "Trainable params: 50,570\n",
            "Non-trainable params: 0\n",
            "_________________________________________________________________\n"
          ],
          "name": "stdout"
        }
      ]
    },
    {
      "cell_type": "code",
      "metadata": {
        "id": "0HRDt0Lpdckn",
        "colab_type": "code",
        "outputId": "0d8d9e6b-5ee8-46aa-993c-4e4e236db5a0",
        "colab": {
          "base_uri": "https://localhost:8080/",
          "height": 105
        }
      },
      "source": [
        "test_loss, test_acc = model.evaluate(testX,  testY1, verbose=2)\n",
        "\n",
        "print('\\nTest accuracy:', test_acc)\n",
        "print('\\nTest Loss', test_loss)"
      ],
      "execution_count": 22,
      "outputs": [
        {
          "output_type": "stream",
          "text": [
            "10000/10000 - 2s - loss: 2.4051 - accuracy: 0.8222\n",
            "\n",
            "Test accuracy: 0.8221801\n",
            "\n",
            "Test Loss 2.4050881650924683\n"
          ],
          "name": "stdout"
        }
      ]
    },
    {
      "cell_type": "code",
      "metadata": {
        "id": "O59C_-IgOIVB",
        "colab_type": "code",
        "outputId": "4094c0e2-e36d-4a63-adee-cde48a5a968c",
        "colab": {
          "base_uri": "https://localhost:8080/",
          "height": 404
        }
      },
      "source": [
        "model.fit(trainX,trainY,epochs=10)"
      ],
      "execution_count": 23,
      "outputs": [
        {
          "output_type": "stream",
          "text": [
            "Train on 60000 samples\n",
            "Epoch 1/10\n",
            "60000/60000 [==============================] - 4s 68us/sample - loss: 0.3187 - accuracy: 0.9158\n",
            "Epoch 2/10\n",
            "60000/60000 [==============================] - 4s 64us/sample - loss: 0.2279 - accuracy: 0.9275\n",
            "Epoch 3/10\n",
            "60000/60000 [==============================] - 4s 63us/sample - loss: 0.1961 - accuracy: 0.9360\n",
            "Epoch 4/10\n",
            "60000/60000 [==============================] - 4s 64us/sample - loss: 0.1600 - accuracy: 0.9476\n",
            "Epoch 5/10\n",
            "60000/60000 [==============================] - 4s 65us/sample - loss: 0.1516 - accuracy: 0.9491\n",
            "Epoch 6/10\n",
            "60000/60000 [==============================] - 4s 63us/sample - loss: 0.1447 - accuracy: 0.9501\n",
            "Epoch 7/10\n",
            "60000/60000 [==============================] - 4s 63us/sample - loss: 0.1322 - accuracy: 0.9538\n",
            "Epoch 8/10\n",
            "60000/60000 [==============================] - 4s 63us/sample - loss: 0.1250 - accuracy: 0.9551\n",
            "Epoch 9/10\n",
            "60000/60000 [==============================] - 4s 63us/sample - loss: 0.1185 - accuracy: 0.9563\n",
            "Epoch 10/10\n",
            "60000/60000 [==============================] - 4s 64us/sample - loss: 0.1124 - accuracy: 0.9572\n"
          ],
          "name": "stdout"
        },
        {
          "output_type": "execute_result",
          "data": {
            "text/plain": [
              "<tensorflow.python.keras.callbacks.History at 0x7ff220225080>"
            ]
          },
          "metadata": {
            "tags": []
          },
          "execution_count": 23
        }
      ]
    },
    {
      "cell_type": "markdown",
      "metadata": {
        "id": "mwk3T5LJOIVN",
        "colab_type": "text"
      },
      "source": [
        "### Execute the model"
      ]
    },
    {
      "cell_type": "code",
      "metadata": {
        "id": "JNLR8tcBOIVP",
        "colab_type": "code",
        "outputId": "6f0e49d5-0f56-48ca-a95c-e7b2f360d21f",
        "colab": {
          "base_uri": "https://localhost:8080/",
          "height": 246
        }
      },
      "source": [
        "y_pred=model.predict(testX)\n",
        "y_pred"
      ],
      "execution_count": 24,
      "outputs": [
        {
          "output_type": "execute_result",
          "data": {
            "text/plain": [
              "array([[6.1812083e-11, 3.4835963e-08, 1.4150280e-13, ..., 6.7229599e-02,\n",
              "        5.9028243e-06, 8.9702487e-01],\n",
              "       [1.0639594e-01, 6.3272610e-02, 2.0054005e-01, ..., 4.8998859e-02,\n",
              "        4.9432263e-02, 4.3272305e-02],\n",
              "       [9.0381651e-15, 9.9999058e-01, 3.9061482e-28, ..., 9.3901503e-13,\n",
              "        4.1442364e-19, 1.2339581e-21],\n",
              "       ...,\n",
              "       [1.7207598e-02, 1.2511700e-14, 1.1728664e-10, ..., 1.7765051e-10,\n",
              "        9.5109355e-01, 1.1008251e-06],\n",
              "       [6.3953515e-10, 9.9932599e-01, 4.1150098e-19, ..., 2.2005828e-07,\n",
              "        7.1979441e-12, 4.3102203e-13],\n",
              "       [7.4518503e-05, 8.9089212e-07, 3.7040453e-09, ..., 1.2821184e-01,\n",
              "        1.8035413e-06, 4.1430943e-02]], dtype=float32)"
            ]
          },
          "metadata": {
            "tags": []
          },
          "execution_count": 24
        }
      ]
    },
    {
      "cell_type": "code",
      "metadata": {
        "id": "r_yGDaZm0IBq",
        "colab_type": "code",
        "outputId": "6920e94b-b8a6-4d48-d147-8b4824d5dff6",
        "colab": {
          "base_uri": "https://localhost:8080/",
          "height": 54
        }
      },
      "source": [
        "import numpy as np\n",
        "out = []\n",
        "for val in y_pred:\n",
        "  out.append(np.argmax(val))\n",
        "print(out)"
      ],
      "execution_count": 25,
      "outputs": [
        {
          "output_type": "stream",
          "text": [
            "[9, 2, 1, 1, 2, 1, 2, 2, 5, 7, 2, 5, 5, 3, 2, 1, 6, 2, 8, 0, 0, 5, 7, 8, 1, 2, 2, 0, 9, 3, 8, 8, 3, 3, 8, 0, 7, 5, 7, 9, 0, 1, 6, 9, 2, 9, 6, 1, 2, 2, 2, 2, 5, 0, 4, 6, 8, 2, 8, 0, 7, 7, 8, 0, 1, 1, 2, 2, 7, 8, 7, 0, 6, 0, 2, 3, 1, 2, 8, 2, 1, 8, 5, 9, 5, 0, 3, 2, 0, 6, 5, 1, 2, 7, 1, 8, 0, 1, 2, 2, 3, 2, 7, 2, 7, 8, 5, 9, 9, 2, 2, 5, 7, 0, 5, 2, 8, 2, 7, 0, 0, 0, 9, 9, 3, 0, 8, 2, 1, 5, 2, 1, 9, 1, 8, 2, 2, 1, 2, 5, 1, 0, 0, 0, 1, 0, 1, 3, 6, 2, 6, 6, 1, 3, 5, 0, 4, 7, 9, 3, 7, 2, 3, 9, 0, 9, 2, 7, 2, 2, 0, 5, 2, 1, 2, 1, 3, 0, 9, 1, 0, 9, 0, 0, 7, 9, 9, 2, 2, 7, 1, 2, 3, 2, 3, 2, 8, 3, 6, 1, 1, 0, 2, 9, 2, 2, 0, 7, 9, 8, 2, 1, 8, 2, 1, 3, 1, 2, 7, 2, 8, 5, 6, 0, 7, 7, 0, 2, 7, 0, 7, 8, 9, 2, 9, 0, 5, 1, 2, 2, 5, 2, 9, 2, 2, 8, 2, 2, 2, 2, 9, 7, 6, 5, 5, 2, 8, 5, 2, 3, 0, 2, 8, 0, 0, 2, 1, 0, 9, 0, 1, 6, 0, 2, 3, 0, 8, 3, 7, 2, 0, 1, 2, 3, 0, 2, 0, 7, 5, 1, 5, 9, 5, 2, 5, 5, 1, 9, 8, 0, 3, 3, 2, 8, 0, 0, 2, 9, 7, 7, 1, 0, 0, 2, 2, 2, 7, 1, 2, 2, 8, 2, 0, 5, 2, 2, 7, 7, 7, 3, 3, 7, 2, 7, 1, 3, 7, 2, 2, 3, 2, 0, 3, 1, 0, 1, 9, 2, 9, 9, 1, 7, 0, 3, 0, 0, 2, 2, 8, 0, 1, 2, 2, 2, 2, 7, 3, 2, 2, 5, 0, 7, 9, 2, 0, 9, 3, 9, 6, 6, 5, 0, 0, 3, 5, 8, 1, 2, 2, 2, 2, 2, 9, 5, 2, 0, 2, 2, 1, 2, 0, 9, 7, 0, 2, 2, 6, 0, 2, 0, 0, 2, 7, 6, 9, 6, 2, 1, 5, 2, 5, 3, 8, 5, 8, 2, 2, 8, 9, 8, 2, 2, 2, 2, 6, 4, 1, 2, 1, 3, 0, 7, 8, 0, 2, 5, 3, 1, 9, 5, 3, 3, 0, 1, 6, 2, 9, 2, 0, 0, 1, 2, 2, 0, 0, 6, 3, 6, 2, 8, 9, 6, 0, 7, 0, 2, 2, 9, 4, 9, 7, 9, 3, 7, 5, 7, 8, 1, 0, 0, 6, 2, 8, 9, 7, 9, 1, 2, 7, 0, 2, 0, 5, 7, 1, 8, 2, 2, 6, 6, 2, 2, 2, 1, 9, 8, 5, 1, 9, 1, 2, 8, 3, 8, 9, 2, 2, 2, 8, 0, 2, 7, 5, 8, 8, 5, 3, 9, 2, 3, 4, 4, 9, 1, 6, 1, 4, 0, 2, 9, 2, 1, 5, 1, 1, 1, 9, 3, 2, 5, 3, 0, 2, 0, 2, 0, 0, 5, 8, 0, 6, 4, 0, 7, 7, 8, 9, 0, 6, 8, 7, 0, 7, 9, 3, 2, 0, 0, 5, 0, 1, 1, 5, 9, 3, 6, 5, 7, 8, 1, 2, 9, 7, 7, 1, 0, 9, 0, 2, 9, 0, 7, 6, 8, 2, 7, 0, 2, 3, 8, 2, 2, 0, 9, 3, 0, 7, 8, 0, 2, 9, 2, 2, 0, 2, 2, 0, 6, 2, 2, 7, 5, 8, 4, 9, 1, 0, 5, 2, 2, 2, 0, 0, 2, 5, 2, 0, 4, 5, 4, 1, 6, 1, 3, 2, 2, 3, 8, 2, 8, 6, 5, 0, 2, 0, 8, 5, 0, 8, 2, 9, 0, 8, 9, 6, 3, 2, 9, 6, 2, 5, 0, 9, 5, 3, 2, 2, 0, 3, 0, 8, 3, 2, 0, 9, 7, 9, 2, 8, 9, 1, 0, 7, 3, 0, 2, 2, 7, 1, 0, 0, 0, 7, 2, 2, 2, 2, 2, 1, 5, 9, 0, 0, 1, 2, 7, 0, 2, 3, 3, 3, 8, 1, 1, 8, 5, 7, 7, 8, 7, 2, 6, 7, 0, 8, 0, 9, 7, 2, 1, 6, 2, 2, 8, 0, 0, 3, 2, 8, 2, 0, 8, 9, 2, 4, 5, 9, 1, 2, 2, 9, 6, 3, 7, 9, 0, 8, 3, 7, 7, 1, 1, 1, 2, 9, 5, 3, 8, 2, 2, 9, 0, 8, 3, 2, 2, 4, 7, 1, 4, 9, 3, 5, 8, 5, 2, 7, 2, 8, 5, 9, 3, 3, 2, 7, 1, 7, 3, 5, 2, 2, 5, 8, 3, 7, 1, 2, 0, 1, 9, 8, 2, 7, 1, 2, 7, 5, 9, 9, 1, 8, 2, 5, 7, 1, 9, 8, 1, 0, 0, 2, 1, 7, 1, 1, 5, 7, 1, 5, 2, 2, 3, 3, 1, 1, 2, 9, 2, 3, 7, 7, 0, 8, 9, 9, 2, 1, 1, 4, 0, 3, 5, 9, 2, 3, 5, 5, 1, 5, 7, 8, 7, 9, 3, 2, 2, 0, 2, 0, 2, 0, 2, 5, 5, 1, 2, 0, 9, 3, 7, 8, 2, 8, 3, 2, 7, 6, 7, 4, 8, 0, 3, 4, 4, 3, 2, 9, 0, 6, 4, 9, 1, 8, 1, 7, 5, 5, 2, 0, 2, 1, 0, 5, 2, 0, 0, 6, 7, 5, 0, 1, 5, 9, 6, 8, 6, 0, 4, 0, 2, 9, 6, 7, 7, 1, 2, 2, 0, 5, 0, 9, 5, 8, 8, 3, 0, 2, 2, 2, 2, 3, 6, 3, 7, 2, 9, 3, 2, 7, 7, 0, 3, 5, 5, 2, 2, 5, 9, 4, 3, 7, 5, 1, 9, 8, 8, 9, 9, 2, 7, 2, 2, 3, 8, 7, 2, 2, 5, 2, 3, 2, 1, 4, 9, 3, 1, 2, 5, 6, 5, 7, 5, 2, 3, 3, 9, 2, 3, 2, 0, 2, 5, 0, 2, 9, 2, 0, 3, 2, 7, 0, 2, 1, 1, 3, 2, 0, 5, 9, 0, 1, 2, 5, 1, 6, 4, 8, 2, 7, 7, 3, 8, 3, 1, 9, 8, 1, 3, 3, 7, 6, 3, 5, 7, 0, 9, 6, 3, 5, 8, 2, 2, 3, 8, 2, 5, 5, 2, 8, 1, 5, 3, 5, 4, 8, 2, 6, 1, 1, 7, 9, 2, 2, 7, 2, 2, 8, 2, 2, 0, 6, 2, 2, 9, 2, 8, 2, 5, 9, 0, 3, 9, 6, 9, 8, 7, 4, 2, 6, 5, 3, 7, 0, 7, 1, 9, 3, 7, 0, 9, 3, 8, 4, 2, 7, 6, 4, 2, 2, 0, 7, 8, 2, 2, 2, 5, 5, 0, 4, 5, 5, 8, 1, 1, 7, 2, 6, 9, 0, 8, 7, 4, 0, 1, 6, 7, 7, 2, 9, 8, 5, 1, 1, 0, 2, 0, 9, 6, 1, 9, 6, 5, 5, 6, 0, 7, 0, 2, 3, 1, 3, 1, 3, 2, 7, 2, 2, 9, 5, 4, 9, 2, 3, 2, 2, 0, 0, 5, 2, 2, 5, 2, 1, 2, 2, 5, 2, 4, 8, 0, 2, 4, 0, 2, 2, 2, 0, 3, 8, 6, 0, 4, 2, 8, 8, 2, 5, 2, 2, 3, 0, 1, 9, 0, 9, 1, 9, 4, 5, 2, 2, 7, 3, 8, 5, 0, 0, 6, 7, 5, 5, 9, 5, 0, 0, 0, 3, 2, 4, 2, 6, 7, 1, 3, 2, 0, 2, 5, 1, 2, 7, 3, 2, 8, 8, 2, 8, 7, 4, 3, 2, 5, 2, 7, 8, 5, 6, 8, 5, 2, 2, 8, 9, 8, 2, 3, 0, 8, 8, 6, 3, 9, 2, 2, 8, 1, 3, 2, 1, 9, 6, 1, 2, 2, 7, 9, 2, 6, 0, 2, 4, 6, 4, 5, 0, 2, 8, 3, 7, 2, 2, 0, 0, 5, 2, 0, 2, 2, 3, 0, 2, 1, 7, 7, 5, 2, 7, 4, 6, 7, 1, 3, 1, 3, 3, 2, 6, 1, 7, 6, 4, 7, 1, 0, 2, 5, 8, 4, 2, 7, 9, 5, 0, 7, 9, 5, 1, 2, 9, 5, 5, 3, 9, 9, 1, 2, 7, 0, 0, 1, 7, 2, 7, 1, 1, 5, 5, 2, 2, 5, 9, 5, 5, 2, 3, 9, 3, 8, 5, 2, 0, 0, 0, 5, 7, 6, 5, 2, 0, 2, 2, 7, 0, 0, 5, 1, 7, 2, 3, 6, 8, 7, 8, 7, 1, 2, 3, 2, 9, 7, 5, 0, 0, 2, 7, 1, 2, 2, 9, 3, 2, 2, 2, 3, 6, 0, 6, 3, 2, 1, 3, 7, 2, 5, 3, 9, 1, 1, 8, 6, 9, 5, 0, 5, 4, 6, 7, 1, 1, 5, 3, 8, 7, 8, 3, 8, 9, 6, 2, 1, 1, 3, 5, 0, 7, 1, 9, 9, 2, 2, 7, 0, 1, 3, 9, 2, 3, 7, 0, 0, 1, 8, 0, 7, 9, 8, 5, 8, 2, 0, 2, 0, 2, 5, 8, 3, 8, 8, 5, 7, 3, 7, 0, 7, 0, 2, 6, 5, 3, 5, 1, 1, 7, 7, 2, 0, 6, 6, 6, 8, 2, 3, 1, 2, 9, 9, 2, 5, 6, 2, 7, 8, 0, 7, 9, 1, 2, 9, 2, 7, 3, 2, 3, 3, 1, 8, 8, 5, 3, 8, 6, 0, 2, 3, 2, 8, 2, 7, 3, 2, 8, 3, 9, 7, 3, 1, 7, 5, 8, 8, 2, 3, 0, 6, 2, 8, 5, 7, 0, 2, 0, 7, 7, 3, 9, 2, 5, 9, 7, 6, 7, 2, 2, 5, 1, 4, 5, 2, 5, 0, 2, 2, 1, 2, 4, 8, 2, 5, 9, 2, 1, 1, 7, 2, 6, 5, 0, 3, 9, 7, 5, 3, 8, 8, 8, 9, 1, 1, 6, 3, 1, 2, 3, 2, 9, 9, 0, 0, 2, 9, 2, 9, 0, 2, 1, 8, 9, 6, 6, 4, 8, 0, 7, 2, 3, 0, 2, 5, 2, 1, 9, 6, 2, 2, 9, 9, 0, 8, 3, 0, 6, 2, 0, 2, 6, 2, 0, 5, 0, 2, 7, 8, 7, 2, 0, 0, 6, 5, 2, 2, 2, 9, 5, 2, 2, 7, 0, 1, 9, 5, 5, 0, 7, 7, 5, 0, 5, 0, 0, 2, 7, 9, 8, 2, 2, 7, 3, 3, 7, 7, 7, 8, 2, 9, 5, 7, 2, 5, 9, 5, 1, 3, 0, 2, 9, 9, 8, 3, 7, 0, 4, 2, 9, 3, 3, 1, 9, 9, 1, 5, 7, 2, 5, 2, 5, 5, 0, 7, 5, 5, 4, 0, 7, 1, 3, 0, 0, 4, 9, 9, 0, 0, 0, 8, 3, 8, 8, 2, 2, 1, 8, 4, 6, 5, 0, 2, 2, 3, 0, 0, 1, 0, 8, 2, 9, 0, 7, 6, 7, 7, 1, 5, 8, 7, 2, 9, 9, 1, 2, 2, 1, 1, 1, 8, 8, 1, 3, 7, 5, 2, 0, 8, 2, 8, 9, 2, 1, 3, 1, 9, 8, 1, 1, 1, 8, 0, 9, 9, 7, 2, 0, 2, 2, 1, 1, 7, 9, 2, 2, 6, 0, 0, 2, 8, 1, 7, 2, 2, 2, 2, 4, 8, 7, 1, 8, 5, 5, 7, 7, 2, 2, 2, 9, 0, 2, 3, 5, 5, 0, 2, 1, 0, 3, 7, 9, 3, 7, 2, 5, 7, 9, 8, 9, 1, 2, 8, 3, 2, 0, 6, 0, 0, 3, 8, 0, 6, 6, 0, 8, 8, 3, 2, 9, 3, 2, 0, 8, 5, 7, 0, 1, 1, 1, 9, 0, 1, 3, 3, 2, 0, 8, 4, 1, 3, 8, 8, 0, 7, 5, 0, 2, 7, 3, 3, 2, 2, 2, 5, 5, 2, 2, 3, 9, 1, 1, 7, 3, 8, 7, 2, 2, 9, 3, 9, 9, 0, 1, 5, 1, 4, 8, 1, 6, 9, 3, 2, 0, 0, 7, 2, 9, 9, 5, 7, 7, 0, 9, 0, 3, 6, 9, 8, 2, 2, 6, 3, 9, 2, 3, 2, 7, 4, 0, 0, 0, 1, 0, 7, 0, 2, 5, 2, 2, 9, 1, 7, 2, 9, 1, 2, 2, 0, 8, 7, 7, 7, 7, 2, 2, 0, 7, 5, 8, 5, 0, 0, 6, 4, 9, 2, 6, 3, 1, 9, 3, 1, 2, 2, 0, 3, 7, 5, 7, 2, 2, 2, 1, 6, 3, 5, 2, 6, 9, 1, 5, 9, 3, 2, 6, 2, 0, 1, 7, 7, 2, 2, 7, 7, 0, 0, 6, 3, 2, 7, 8, 7, 2, 8, 0, 0, 7, 2, 2, 2, 7, 0, 9, 9, 3, 3, 5, 9, 3, 1, 0, 3, 3, 5, 9, 7, 9, 0, 3, 5, 9, 3, 7, 9, 3, 2, 0, 0, 5, 7, 7, 2, 3, 5, 3, 1, 1, 9, 2, 3, 9, 5, 5, 7, 6, 2, 9, 0, 2, 1, 9, 7, 1, 5, 0, 5, 5, 6, 3, 7, 0, 3, 3, 7, 4, 2, 2, 8, 5, 9, 2, 1, 0, 5, 5, 8, 5, 3, 7, 2, 2, 4, 9, 0, 0, 6, 9, 1, 2, 0, 1, 5, 3, 8, 5, 1, 1, 2, 9, 2, 0, 5, 6, 8, 0, 2, 9, 8, 2, 2, 8, 3, 8, 0, 2, 4, 0, 2, 8, 5, 2, 9, 0, 9, 8, 8, 0, 9, 1, 4, 7, 2, 1, 2, 0, 6, 2, 5, 0, 2, 8, 5, 5, 2, 0, 0, 8, 0, 6, 1, 9, 2, 7, 7, 1, 6, 2, 8, 3, 2, 8, 5, 2, 0, 3, 3, 1, 2, 2, 0, 2, 9, 0, 2, 1, 9, 9, 8, 1, 8, 8, 3, 3, 3, 8, 5, 9, 2, 6, 8, 7, 6, 3, 0, 0, 0, 5, 7, 5, 0, 7, 9, 1, 8, 2, 8, 9, 3, 5, 6, 0, 2, 2, 7, 5, 9, 1, 0, 6, 5, 5, 3, 1, 1, 8, 8, 3, 0, 7, 0, 1, 8, 3, 0, 2, 9, 8, 9, 8, 8, 2, 9, 1, 8, 2, 2, 7, 7, 0, 5, 1, 1, 0, 0, 2, 4, 0, 2, 3, 7, 1, 2, 3, 3, 2, 4, 5, 0, 9, 8, 3, 3, 1, 0, 6, 1, 2, 2, 2, 8, 2, 9, 0, 5, 9, 5, 6, 0, 0, 5, 0, 3, 9, 8, 3, 2, 1, 9, 2, 1, 0, 2, 5, 2, 1, 2, 8, 5, 9, 2, 5, 3, 3, 0, 3, 0, 2, 8, 9, 0, 5, 0, 2, 6, 9, 3, 6, 2, 8, 5, 9, 2, 3, 1, 0, 3, 2, 2, 7, 6, 1, 2, 4, 4, 0, 2, 8, 5, 0, 8, 5, 2, 7, 8, 1, 5, 9, 8, 0, 9, 0, 9, 3, 9, 5, 9, 9, 6, 0, 7, 1, 5, 5, 9, 5, 4, 2, 2, 2, 5, 9, 7, 2, 2, 6, 9, 9, 2, 6, 1, 3, 7, 1, 8, 7, 7, 1, 8, 9, 3, 7, 9, 7, 1, 7, 4, 2, 6, 2, 0, 5, 2, 8, 9, 0, 8, 0, 0, 7, 7, 5, 0, 1, 9, 2, 0, 2, 5, 2, 2, 2, 9, 1, 0, 5, 8, 7, 2, 8, 0, 3, 2, 1, 7, 4, 8, 7, 2, 1, 7, 0, 6, 4, 6, 2, 2, 1, 8, 2, 7, 2, 9, 2, 5, 6, 3, 3, 8, 8, 2, 0, 7, 2, 2, 0, 4, 1, 0, 8, 1, 7, 7, 2, 2, 3, 1, 2, 7, 0, 6, 0, 0, 2, 7, 2, 0, 3, 2, 3, 0, 9, 7, 0, 5, 4, 9, 6, 2, 8, 0, 0, 8, 4, 0, 2, 2, 0, 2, 1, 2, 4, 6, 7, 1, 0, 2, 6, 1, 1, 5, 2, 6, 8, 3, 3, 1, 7, 2, 9, 8, 8, 2, 5, 5, 2, 7, 0, 9, 1, 0, 5, 3, 7, 2, 1, 1, 8, 6, 2, 0, 5, 9, 6, 0, 8, 1, 0, 4, 0, 2, 2, 8, 8, 2, 2, 3, 9, 1, 7, 9, 5, 7, 2, 1, 5, 8, 8, 2, 0, 2, 2, 3, 1, 0, 4, 0, 6, 9, 8, 2, 0, 8, 4, 3, 9, 7, 1, 1, 9, 5, 1, 9, 2, 2, 2, 3, 8, 0, 7, 1, 3, 0, 7, 3, 5, 8, 1, 2, 2, 3, 2, 8, 8, 8, 0, 0, 1, 8, 9, 3, 0, 0, 0, 2, 9, 7, 3, 7, 0, 1, 6, 5, 9, 6, 0, 5, 0, 5, 8, 7, 4, 2, 2, 8, 0, 0, 9, 3, 6, 5, 0, 1, 1, 2, 6, 0, 0, 8, 6, 2, 3, 3, 9, 5, 2, 2, 3, 1, 8, 1, 5, 2, 0, 0, 7, 9, 3, 2, 7, 1, 7, 2, 1, 2, 6, 0, 2, 7, 6, 2, 9, 3, 2, 5, 0, 8, 2, 6, 2, 9, 2, 2, 1, 1, 0, 0, 5, 5, 2, 2, 2, 1, 8, 5, 2, 2, 3, 2, 2, 7, 6, 2, 9, 2, 6, 6, 0, 4, 5, 2, 9, 8, 1, 2, 3, 6, 2, 9, 2, 3, 5, 1, 2, 2, 0, 1, 1, 0, 2, 6, 9, 9, 0, 1, 2, 2, 0, 7, 2, 1, 1, 7, 7, 8, 7, 6, 5, 3, 7, 6, 0, 9, 2, 1, 2, 6, 2, 5, 8, 5, 2, 9, 8, 2, 0, 9, 0, 8, 1, 3, 8, 6, 8, 2, 0, 2, 3, 8, 7, 8, 2, 2, 6, 2, 0, 2, 5, 3, 4, 1, 1, 9, 7, 0, 2, 6, 1, 2, 2, 7, 5, 1, 8, 0, 3, 7, 9, 8, 7, 6, 7, 9, 7, 2, 2, 6, 0, 3, 3, 9, 1, 1, 2, 8, 0, 9, 7, 5, 2, 8, 8, 3, 6, 3, 0, 8, 2, 2, 5, 9, 6, 4, 8, 3, 2, 8, 3, 0, 6, 2, 3, 0, 1, 8, 2, 1, 5, 8, 1, 5, 8, 0, 7, 9, 7, 5, 6, 5, 5, 3, 0, 7, 8, 2, 5, 1, 0, 6, 6, 2, 3, 7, 7, 9, 7, 2, 5, 8, 5, 0, 5, 3, 0, 9, 7, 2, 0, 0, 8, 2, 0, 7, 3, 7, 2, 0, 2, 7, 0, 0, 2, 0, 2, 7, 8, 1, 3, 8, 1, 5, 3, 2, 1, 1, 2, 2, 9, 8, 2, 0, 2, 7, 7, 1, 3, 0, 0, 0, 7, 8, 7, 2, 5, 2, 2, 7, 5, 5, 0, 9, 7, 3, 2, 2, 8, 3, 5, 5, 7, 2, 6, 2, 7, 3, 8, 5, 1, 8, 9, 2, 2, 1, 2, 2, 7, 2, 0, 2, 2, 0, 9, 7, 9, 6, 2, 8, 2, 0, 0, 2, 3, 2, 1, 5, 2, 7, 5, 3, 7, 2, 2, 3, 5, 1, 1, 0, 7, 0, 8, 8, 7, 5, 9, 9, 5, 5, 4, 0, 7, 1, 2, 2, 0, 9, 9, 6, 0, 8, 0, 5, 5, 8, 8, 2, 7, 6, 6, 2, 8, 1, 0, 2, 0, 0, 7, 5, 8, 7, 7, 7, 5, 0, 7, 2, 6, 2, 0, 3, 2, 2, 0, 2, 9, 2, 5, 4, 4, 1, 2, 5, 9, 0, 6, 6, 2, 5, 0, 3, 6, 6, 0, 7, 2, 7, 2, 3, 2, 7, 1, 2, 3, 2, 2, 2, 0, 9, 9, 2, 8, 0, 4, 0, 0, 1, 9, 3, 9, 0, 8, 6, 9, 2, 7, 9, 1, 5, 8, 1, 0, 0, 2, 2, 8, 0, 3, 3, 0, 0, 6, 3, 6, 1, 2, 8, 4, 7, 3, 0, 6, 5, 8, 8, 8, 2, 1, 6, 8, 9, 0, 5, 8, 7, 0, 7, 2, 7, 1, 5, 5, 8, 3, 6, 8, 5, 9, 9, 2, 0, 2, 7, 1, 8, 8, 8, 7, 2, 0, 9, 7, 9, 2, 9, 4, 1, 2, 7, 2, 5, 2, 2, 2, 9, 0, 7, 1, 9, 7, 0, 5, 0, 8, 2, 9, 0, 9, 5, 7, 5, 1, 3, 3, 2, 0, 7, 8, 3, 5, 5, 8, 7, 7, 2, 2, 5, 5, 6, 2, 8, 3, 0, 9, 2, 0, 2, 0, 9, 2, 5, 9, 1, 2, 8, 1, 2, 7, 8, 2, 6, 7, 2, 0, 2, 2, 4, 2, 3, 0, 5, 2, 3, 0, 8, 8, 0, 8, 4, 2, 2, 8, 3, 5, 1, 0, 9, 1, 2, 9, 0, 7, 2, 6, 0, 2, 5, 6, 3, 5, 6, 5, 1, 7, 9, 2, 0, 7, 3, 0, 2, 8, 1, 0, 9, 9, 9, 8, 2, 6, 9, 7, 7, 5, 8, 0, 7, 5, 3, 5, 5, 0, 8, 9, 7, 2, 1, 2, 9, 1, 3, 2, 6, 2, 6, 9, 2, 7, 7, 0, 5, 0, 8, 8, 2, 8, 5, 2, 3, 7, 3, 0, 0, 6, 5, 2, 0, 7, 7, 5, 1, 5, 2, 3, 8, 5, 2, 2, 8, 7, 7, 2, 7, 1, 0, 9, 5, 3, 9, 3, 5, 0, 7, 4, 2, 0, 1, 2, 5, 9, 3, 2, 8, 5, 7, 3, 1, 2, 0, 8, 1, 8, 5, 6, 9, 3, 3, 8, 6, 2, 2, 0, 3, 2, 2, 3, 2, 5, 9, 1, 1, 9, 2, 7, 0, 0, 6, 0, 0, 7, 7, 0, 7, 8, 0, 5, 2, 2, 3, 8, 9, 7, 2, 9, 5, 3, 7, 2, 2, 1, 9, 7, 0, 1, 0, 9, 3, 2, 7, 8, 2, 5, 0, 9, 9, 9, 7, 0, 2, 2, 3, 2, 6, 9, 5, 3, 9, 4, 8, 0, 0, 0, 2, 1, 9, 3, 3, 5, 1, 5, 5, 9, 6, 8, 5, 5, 9, 5, 2, 0, 7, 3, 5, 2, 2, 6, 9, 2, 8, 1, 9, 2, 2, 6, 2, 0, 8, 7, 7, 6, 9, 3, 9, 0, 8, 2, 2, 9, 0, 4, 2, 5, 5, 0, 2, 2, 2, 1, 3, 1, 0, 7, 8, 8, 9, 7, 6, 5, 5, 3, 2, 0, 2, 0, 3, 2, 8, 8, 8, 0, 2, 3, 2, 8, 0, 1, 2, 1, 1, 2, 3, 2, 2, 8, 0, 6, 2, 1, 0, 6, 7, 0, 2, 7, 9, 9, 2, 7, 0, 9, 9, 8, 2, 8, 3, 2, 0, 9, 2, 2, 2, 3, 8, 2, 0, 2, 9, 0, 2, 7, 3, 7, 0, 8, 2, 2, 8, 8, 6, 1, 5, 8, 9, 8, 7, 2, 0, 3, 2, 0, 0, 9, 3, 9, 9, 1, 5, 9, 4, 1, 7, 0, 1, 0, 5, 3, 8, 0, 2, 1, 7, 0, 5, 0, 2, 1, 7, 1, 7, 9, 2, 3, 9, 6, 2, 9, 3, 5, 8, 8, 2, 2, 7, 7, 4, 2, 0, 5, 5, 3, 0, 6, 5, 6, 8, 5, 2, 9, 1, 3, 1, 6, 5, 9, 3, 7, 0, 3, 5, 2, 1, 5, 8, 5, 2, 0, 9, 1, 9, 1, 7, 1, 8, 6, 3, 2, 0, 2, 0, 3, 3, 0, 8, 0, 3, 2, 8, 1, 0, 3, 3, 2, 2, 1, 8, 3, 2, 0, 2, 4, 4, 3, 8, 2, 3, 0, 2, 5, 7, 1, 2, 1, 6, 0, 6, 8, 5, 1, 2, 5, 2, 8, 1, 7, 1, 6, 2, 9, 4, 6, 1, 5, 6, 0, 5, 8, 7, 7, 7, 2, 7, 5, 2, 6, 2, 0, 2, 0, 9, 9, 5, 8, 0, 2, 2, 1, 3, 7, 5, 0, 0, 9, 8, 5, 0, 0, 7, 1, 9, 5, 8, 2, 0, 9, 9, 1, 2, 0, 0, 2, 2, 5, 1, 0, 2, 8, 3, 2, 8, 4, 2, 0, 0, 3, 0, 7, 2, 2, 1, 7, 3, 0, 7, 9, 5, 1, 5, 0, 9, 1, 2, 0, 1, 6, 8, 4, 5, 9, 8, 0, 2, 2, 7, 4, 9, 5, 0, 8, 7, 8, 6, 2, 9, 2, 5, 5, 9, 9, 2, 2, 2, 0, 0, 6, 8, 7, 6, 2, 7, 5, 2, 9, 0, 3, 2, 2, 8, 2, 0, 2, 9, 0, 5, 6, 6, 2, 8, 0, 0, 4, 0, 2, 5, 5, 8, 0, 7, 0, 8, 9, 0, 2, 1, 2, 5, 1, 0, 2, 9, 6, 2, 9, 9, 1, 4, 3, 1, 6, 8, 0, 3, 0, 2, 2, 0, 2, 3, 0, 5, 2, 3, 2, 0, 0, 5, 4, 6, 1, 0, 2, 2, 2, 7, 9, 2, 2, 0, 3, 0, 8, 5, 2, 4, 6, 3, 3, 5, 2, 5, 1, 5, 5, 1, 9, 5, 2, 1, 8, 8, 0, 9, 0, 2, 0, 3, 2, 1, 0, 3, 2, 2, 1, 6, 0, 3, 0, 8, 5, 1, 8, 0, 2, 0, 3, 9, 8, 6, 0, 1, 0, 2, 2, 2, 0, 3, 7, 5, 0, 2, 2, 0, 8, 2, 2, 1, 8, 2, 8, 2, 9, 2, 2, 8, 5, 6, 7, 3, 2, 2, 0, 5, 2, 8, 5, 2, 1, 5, 2, 8, 2, 9, 0, 6, 3, 2, 4, 2, 7, 7, 9, 0, 2, 9, 0, 3, 5, 8, 7, 7, 0, 7, 7, 0, 7, 7, 2, 9, 7, 2, 2, 2, 3, 8, 0, 1, 9, 8, 0, 6, 2, 0, 0, 8, 0, 7, 2, 3, 3, 8, 1, 3, 8, 7, 3, 0, 3, 2, 8, 8, 9, 1, 3, 2, 1, 2, 8, 0, 2, 2, 7, 3, 9, 2, 9, 0, 2, 6, 5, 7, 0, 8, 1, 7, 5, 2, 9, 5, 7, 3, 2, 0, 9, 8, 7, 3, 7, 7, 2, 7, 5, 8, 8, 2, 2, 6, 6, 3, 8, 9, 7, 1, 3, 2, 2, 9, 7, 1, 4, 2, 6, 0, 5, 5, 2, 5, 2, 8, 9, 2, 9, 9, 2, 2, 8, 1, 5, 5, 5, 6, 8, 1, 5, 5, 7, 7, 9, 8, 3, 1, 1, 4, 2, 0, 9, 3, 2, 2, 2, 8, 6, 0, 2, 9, 0, 2, 8, 2, 8, 2, 3, 2, 1, 2, 3, 3, 8, 2, 9, 9, 0, 7, 9, 5, 3, 1, 7, 2, 8, 2, 9, 0, 1, 6, 0, 5, 0, 1, 9, 3, 0, 8, 3, 8, 2, 2, 5, 2, 9, 0, 1, 2, 0, 7, 9, 0, 1, 3, 9, 5, 1, 2, 1, 1, 4, 8, 6, 9, 5, 2, 2, 3, 7, 7, 7, 0, 3, 5, 1, 9, 2, 2, 0, 7, 2, 6, 9, 9, 0, 6, 2, 9, 0, 2, 0, 2, 7, 9, 2, 1, 1, 2, 0, 8, 8, 7, 2, 2, 7, 5, 7, 2, 1, 8, 1, 2, 9, 8, 9, 6, 1, 0, 2, 0, 3, 0, 2, 2, 1, 9, 7, 1, 2, 2, 5, 3, 4, 1, 7, 2, 7, 0, 2, 8, 8, 1, 4, 9, 9, 6, 3, 2, 9, 3, 9, 8, 5, 3, 8, 2, 7, 1, 2, 1, 9, 2, 8, 3, 2, 2, 6, 1, 1, 5, 8, 0, 1, 0, 6, 9, 0, 9, 5, 3, 5, 0, 6, 5, 2, 8, 3, 8, 0, 0, 9, 5, 1, 5, 3, 2, 6, 5, 3, 0, 0, 0, 7, 2, 0, 2, 1, 9, 5, 1, 7, 5, 5, 5, 9, 2, 8, 2, 8, 0, 2, 2, 4, 1, 1, 2, 2, 8, 2, 9, 0, 5, 8, 1, 3, 0, 3, 2, 4, 8, 0, 6, 9, 3, 2, 9, 7, 2, 6, 2, 0, 8, 9, 2, 1, 2, 7, 9, 9, 7, 3, 2, 9, 2, 7, 3, 0, 2, 0, 9, 2, 3, 3, 1, 9, 5, 8, 2, 3, 5, 0, 0, 2, 5, 8, 3, 5, 0, 7, 7, 2, 0, 9, 5, 1, 2, 2, 5, 3, 0, 6, 1, 4, 0, 5, 4, 8, 5, 7, 1, 0, 8, 3, 5, 2, 2, 9, 8, 9, 5, 8, 1, 8, 5, 0, 1, 5, 3, 3, 3, 3, 2, 2, 3, 0, 7, 8, 0, 9, 0, 3, 0, 4, 2, 7, 3, 5, 7, 3, 7, 8, 2, 6, 2, 2, 3, 1, 0, 5, 5, 0, 2, 2, 1, 1, 2, 7, 6, 3, 5, 5, 0, 2, 2, 4, 8, 9, 9, 2, 0, 9, 8, 3, 5, 3, 1, 2, 5, 0, 1, 8, 5, 0, 2, 0, 7, 8, 9, 2, 2, 0, 3, 2, 2, 2, 7, 9, 1, 9, 7, 2, 5, 6, 3, 2, 2, 0, 2, 0, 5, 8, 0, 2, 2, 9, 2, 7, 8, 0, 0, 2, 7, 7, 8, 9, 5, 7, 3, 8, 7, 5, 9, 7, 8, 2, 1, 0, 8, 0, 2, 6, 7, 9, 0, 2, 5, 2, 3, 2, 1, 1, 9, 0, 5, 5, 2, 9, 0, 9, 0, 5, 2, 0, 0, 5, 7, 8, 4, 8, 8, 7, 2, 9, 0, 9, 2, 9, 7, 3, 9, 9, 3, 0, 0, 2, 0, 7, 9, 4, 0, 3, 2, 1, 0, 3, 8, 2, 8, 2, 2, 6, 3, 5, 7, 7, 8, 5, 6, 3, 2, 1, 8, 3, 0, 8, 2, 2, 3, 0, 8, 3, 3, 2, 9, 0, 9, 9, 0, 1, 8, 3, 0, 3, 8, 2, 0, 5, 1, 3, 6, 1, 9, 3, 5, 0, 2, 2, 6, 1, 5, 3, 2, 8, 5, 7, 8, 0, 1, 3, 0, 2, 2, 5, 9, 0, 7, 2, 3, 0, 2, 2, 3, 3, 9, 4, 9, 0, 8, 6, 5, 0, 2, 0, 1, 3, 9, 2, 2, 5, 6, 5, 1, 2, 5, 0, 0, 0, 0, 0, 9, 1, 3, 3, 6, 5, 9, 2, 6, 1, 2, 9, 7, 2, 2, 7, 5, 7, 1, 2, 8, 7, 9, 5, 7, 0, 2, 9, 2, 5, 0, 7, 0, 2, 5, 6, 9, 4, 3, 2, 5, 9, 2, 5, 7, 7, 3, 8, 6, 9, 2, 5, 3, 0, 7, 0, 9, 9, 1, 3, 2, 9, 1, 2, 2, 5, 3, 2, 9, 9, 1, 6, 6, 2, 2, 3, 8, 7, 9, 9, 3, 8, 8, 9, 0, 7, 0, 4, 0, 8, 0, 2, 2, 0, 1, 2, 0, 2, 1, 5, 2, 2, 0, 0, 3, 2, 5, 2, 0, 7, 2, 0, 3, 1, 8, 6, 8, 9, 9, 5, 5, 8, 2, 5, 4, 2, 2, 5, 2, 9, 2, 7, 1, 0, 6, 4, 0, 9, 8, 0, 2, 9, 1, 9, 2, 7, 3, 5, 2, 3, 2, 2, 1, 0, 2, 2, 3, 7, 8, 4, 5, 5, 9, 0, 2, 3, 2, 5, 5, 5, 7, 6, 1, 3, 3, 7, 0, 5, 7, 0, 8, 3, 5, 5, 8, 1, 9, 2, 0, 2, 6, 1, 2, 0, 1, 2, 5, 0, 0, 1, 1, 7, 0, 2, 5, 9, 0, 8, 3, 2, 2, 2, 7, 0, 5, 3, 6, 2, 3, 7, 1, 2, 2, 3, 2, 0, 0, 6, 2, 8, 7, 0, 0, 6, 4, 7, 3, 2, 2, 0, 2, 2, 2, 1, 8, 1, 9, 1, 2, 2, 2, 2, 5, 3, 3, 5, 3, 5, 8, 3, 9, 7, 3, 0, 6, 1, 0, 1, 0, 7, 7, 6, 8, 9, 6, 1, 5, 2, 9, 2, 7, 9, 9, 9, 0, 1, 0, 9, 9, 5, 1, 7, 2, 9, 3, 5, 2, 8, 1, 5, 3, 3, 8, 2, 7, 8, 8, 9, 0, 8, 4, 5, 0, 2, 5, 9, 0, 0, 5, 3, 7, 7, 2, 2, 7, 2, 5, 8, 3, 7, 2, 7, 3, 8, 8, 8, 7, 8, 2, 0, 5, 7, 9, 8, 5, 6, 0, 2, 2, 2, 2, 8, 9, 9, 1, 9, 5, 8, 2, 2, 6, 2, 0, 7, 2, 8, 3, 0, 7, 8, 8, 4, 9, 9, 5, 9, 6, 2, 9, 7, 5, 7, 2, 9, 9, 2, 3, 9, 5, 3, 5, 3, 1, 2, 9, 1, 2, 8, 5, 1, 7, 9, 6, 3, 3, 0, 9, 0, 2, 0, 0, 0, 2, 9, 7, 1, 9, 0, 5, 2, 8, 5, 9, 5, 2, 2, 0, 5, 2, 2, 5, 2, 2, 7, 1, 0, 0, 2, 6, 5, 2, 2, 6, 7, 5, 5, 1, 5, 2, 2, 4, 2, 2, 1, 9, 0, 7, 2, 7, 4, 0, 9, 7, 2, 2, 0, 1, 7, 1, 2, 7, 0, 1, 7, 3, 0, 3, 8, 2, 8, 0, 2, 1, 7, 9, 0, 2, 9, 2, 0, 7, 1, 9, 5, 6, 9, 8, 2, 2, 0, 3, 3, 2, 2, 8, 1, 0, 8, 1, 8, 1, 0, 1, 2, 7, 3, 7, 7, 3, 1, 9, 9, 0, 6, 2, 5, 8, 9, 2, 4, 5, 2, 1, 6, 9, 2, 3, 2, 0, 1, 8, 1, 4, 4, 0, 2, 1, 7, 0, 5, 4, 5, 3, 0, 2, 1, 6, 0, 7, 6, 2, 2, 3, 2, 2, 5, 2, 9, 0, 0, 0, 4, 2, 6, 1, 7, 5, 3, 3, 3, 2, 6, 3, 5, 2, 2, 2, 5, 1, 2, 2, 2, 1, 9, 3, 6, 2, 9, 5, 8, 0, 0, 3, 2, 0, 8, 1, 2, 3, 3, 1, 5, 5, 3, 4, 2, 7, 1, 3, 0, 3, 0, 3, 2, 2, 8, 0, 8, 2, 7, 0, 3, 2, 3, 0, 3, 2, 1, 2, 0, 0, 0, 7, 7, 8, 3, 0, 9, 5, 2, 0, 9, 9, 2, 0, 8, 7, 3, 6, 3, 7, 9, 0, 2, 5, 1, 0, 5, 0, 3, 9, 7, 9, 2, 0, 7, 1, 0, 0, 0, 0, 2, 6, 7, 8, 2, 2, 2, 2, 9, 7, 3, 2, 5, 2, 5, 1, 9, 5, 0, 5, 0, 2, 1, 7, 9, 3, 1, 3, 2, 9, 1, 0, 3, 9, 5, 4, 8, 2, 2, 1, 2, 0, 0, 7, 9, 0, 3, 1, 2, 1, 0, 9, 0, 1, 3, 7, 3, 9, 9, 5, 2, 2, 3, 6, 8, 8, 5, 5, 1, 0, 8, 5, 7, 9, 9, 3, 4, 2, 2, 7, 9, 2, 0, 7, 5, 4, 7, 2, 1, 2, 2, 4, 0, 9, 0, 0, 5, 1, 1, 7, 8, 3, 2, 2, 2, 0, 0, 2, 9, 5, 2, 2, 2, 2, 0, 1, 5, 4, 7, 8, 2, 7, 7, 0, 8, 2, 0, 2, 9, 1, 2, 1, 7, 2, 3, 2, 9, 9, 6, 2, 4, 3, 0, 0, 7, 5, 2, 7, 8, 9, 9, 2, 7, 8, 7, 7, 5, 8, 7, 2, 2, 9, 0, 1, 8, 7, 5, 2, 5, 3, 7, 2, 2, 5, 5, 2, 9, 9, 1, 9, 5, 9, 2, 2, 1, 9, 8, 3, 5, 1, 8, 2, 5, 3, 2, 3, 7, 1, 1, 1, 8, 7, 5, 2, 3, 2, 7, 0, 0, 5, 3, 2, 8, 2, 5, 2, 7, 0, 6, 3, 2, 7, 8, 0, 7, 0, 9, 5, 8, 0, 7, 3, 5, 0, 9, 7, 3, 0, 0, 5, 7, 8, 2, 3, 1, 9, 0, 2, 9, 1, 3, 2, 0, 3, 6, 6, 2, 4, 8, 2, 2, 9, 5, 0, 1, 8, 2, 4, 1, 2, 2, 9, 2, 3, 7, 9, 0, 3, 5, 2, 5, 9, 8, 5, 3, 0, 1, 2, 2, 2, 1, 9, 2, 4, 0, 5, 8, 2, 2, 2, 0, 1, 4, 9, 9, 7, 0, 1, 2, 0, 0, 2, 2, 2, 5, 9, 2, 8, 2, 2, 1, 5, 5, 2, 1, 0, 9, 3, 1, 7, 1, 1, 1, 9, 1, 3, 8, 9, 9, 1, 9, 2, 0, 5, 8, 5, 5, 5, 3, 0, 9, 3, 7, 8, 2, 9, 2, 0, 1, 5, 0, 7, 8, 0, 0, 9, 1, 1, 8, 2, 8, 9, 2, 0, 7, 6, 0, 0, 5, 1, 6, 0, 2, 3, 7, 6, 3, 9, 7, 2, 1, 3, 7, 2, 2, 0, 3, 7, 5, 1, 1, 9, 5, 3, 5, 2, 2, 2, 1, 5, 2, 1, 0, 2, 5, 9, 9, 2, 6, 2, 1, 7, 9, 0, 5, 7, 3, 3, 8, 2, 1, 8, 2, 5, 2, 2, 0, 9, 2, 9, 3, 2, 2, 1, 1, 6, 2, 1, 2, 9, 0, 5, 9, 1, 5, 0, 9, 4, 2, 1, 7, 2, 9, 8, 8, 9, 8, 5, 3, 8, 2, 0, 3, 2, 1, 1, 9, 8, 9, 7, 5, 3, 2, 5, 5, 5, 2, 2, 9, 9, 3, 0, 2, 4, 1, 7, 2, 9, 2, 0, 5, 8, 2, 0, 1, 3, 2, 2, 3, 0, 2, 0, 6, 8, 3, 2, 0, 0, 1, 0, 6, 5, 2, 2, 3, 9, 0, 2, 3, 2, 5, 2, 2, 7, 3, 7, 3, 3, 2, 9, 0, 8, 5, 2, 0, 3, 2, 7, 2, 5, 3, 1, 1, 9, 7, 5, 2, 2, 1, 2, 2, 5, 9, 2, 5, 5, 2, 3, 0, 9, 2, 4, 6, 6, 2, 1, 9, 2, 3, 0, 6, 2, 0, 2, 1, 3, 7, 2, 2, 2, 2, 3, 2, 3, 0, 8, 3, 5, 1, 2, 3, 8, 2, 1, 2, 1, 1, 9, 0, 5, 9, 0, 8, 0, 3, 2, 3, 0, 3, 7, 5, 2, 1, 1, 2, 0, 5, 5, 0, 1, 0, 5, 2, 8, 9, 7, 9, 1, 1, 3, 3, 5, 0, 7, 5, 9, 2, 9, 3, 6, 2, 2, 8, 5, 6, 7, 9, 8, 3, 8, 1, 3, 3, 3, 5, 2, 8, 2, 2, 9, 0, 7, 1, 2, 8, 3, 7, 7, 0, 7, 9, 2, 7, 7, 0, 1, 2, 1, 2, 8, 2, 2, 7, 2, 7, 1, 8, 7, 5, 1, 3, 1, 0, 3, 2, 5, 3, 8, 2, 3, 2, 9, 0, 1, 5, 3, 0, 7, 0, 6, 2, 5, 1, 6, 2, 3, 8, 0, 9, 8, 6, 7, 6, 2, 2, 5, 1, 9, 6, 3, 8, 7, 1, 8, 1, 2, 0, 9, 2, 2, 3, 4, 2, 1, 3, 5, 2, 9, 5, 5, 3, 5, 5, 5, 2, 2, 8, 0, 7, 0, 8, 6, 2, 1, 7, 7, 7, 6, 8, 0, 3, 0, 9, 8, 5, 0, 4, 8, 1, 5, 5, 9, 0, 1, 2, 1, 3, 2, 4, 2, 2, 1, 7, 2, 2, 2, 2, 1, 0, 2, 2, 2, 3, 0, 8, 8, 2, 2, 2, 0, 7, 0, 8, 9, 1, 2, 2, 7, 0, 8, 1, 8, 2, 2, 2, 7, 0, 7, 9, 9, 3, 9, 2, 2, 0, 6, 1, 6, 0, 2, 2, 7, 6, 2, 2, 9, 1, 8, 0, 0, 2, 2, 0, 3, 2, 6, 1, 0, 2, 3, 4, 1, 7, 8, 1, 0, 7, 6, 5, 0, 0, 2, 8, 5, 0, 7, 8, 4, 5, 9, 5, 5, 1, 2, 2, 7, 2, 9, 7, 0, 0, 7, 4, 2, 0, 0, 8, 2, 5, 1, 8, 0, 4, 2, 6, 9, 8, 9, 0, 2, 7, 9, 0, 5, 9, 8, 2, 3, 9, 5, 9, 3, 0, 8, 2, 3, 0, 3, 5, 8, 0, 0, 3, 8, 2, 9, 0, 0, 7, 2, 0, 0, 7, 2, 8, 8, 2, 0, 3, 0, 7, 1, 2, 7, 2, 6, 9, 1, 0, 5, 2, 0, 7, 9, 0, 6, 8, 6, 1, 1, 8, 8, 0, 5, 7, 5, 2, 9, 2, 3, 9, 3, 8, 9, 0, 2, 0, 2, 5, 7, 0, 2, 3, 9, 5, 7, 2, 6, 5, 8, 3, 1, 3, 5, 2, 9, 4, 3, 9, 7, 2, 0, 0, 2, 9, 1, 9, 9, 0, 7, 1, 2, 5, 0, 3, 8, 7, 2, 9, 5, 9, 3, 2, 0, 0, 9, 0, 5, 0, 1, 3, 7, 9, 1, 5, 9, 3, 0, 9, 7, 2, 9, 2, 1, 6, 7, 5, 1, 0, 7, 3, 2, 7, 2, 2, 2, 8, 5, 7, 9, 5, 7, 3, 0, 3, 9, 0, 0, 1, 5, 0, 9, 7, 2, 0, 0, 5, 8, 0, 7, 7, 3, 2, 0, 2, 8, 2, 0, 2, 9, 8, 9, 0, 5, 0, 2, 0, 2, 6, 3, 1, 8, 7, 2, 1, 9, 1, 2, 0, 5, 2, 3, 0, 0, 2, 6, 0, 7, 6, 1, 8, 2, 8, 7, 9, 2, 1, 2, 5, 7, 7, 3, 2, 5, 9, 3, 2, 7, 3, 2, 0, 9, 2, 7, 3, 9, 1, 2, 1, 9, 7, 6, 3, 3, 8, 1, 0, 3, 5, 0, 5, 3, 8, 9, 7, 2, 9, 0, 0, 8, 4, 2, 3, 3, 2, 3, 7, 8, 7, 1, 3, 7, 0, 9, 5, 5, 2, 2, 2, 5, 0, 0, 6, 6, 2, 0, 8, 8, 9, 2, 9, 1, 5, 1, 2, 1, 2, 0, 2, 0, 2, 5, 7, 5, 9, 2, 0, 5, 7, 0, 5, 2, 5, 0, 6, 2, 0, 7, 1, 5, 2, 9, 0, 1, 7, 0, 2, 2, 0, 7, 1, 8, 5, 7, 8, 5, 5, 1, 8, 5, 7, 7, 7, 2, 5, 2, 2, 1, 2, 2, 2, 1, 0, 6, 9, 1, 8, 2, 6, 7, 2, 9, 5, 9, 2, 3, 9, 5, 0, 2, 2, 7, 3, 9, 0, 0, 5, 9, 0, 9, 2, 0, 6, 5, 9, 1, 2, 5, 2, 0, 2, 3, 1, 1, 1, 7, 2, 2, 2, 5, 9, 8, 7, 9, 3, 2, 7, 9, 2, 0, 1, 1, 1, 2, 8, 6, 8, 0, 5, 5, 2, 7, 6, 8, 2, 4, 2, 2, 2, 2, 5, 7, 2, 9, 7, 2, 2, 2, 0, 7, 2, 5, 2, 3, 6, 1, 9, 8, 1, 8, 2, 2, 3, 9, 1, 9, 7, 2, 9, 0, 9, 3, 0, 2, 0, 0, 2, 2, 0, 9, 2, 1, 1, 0, 5, 0, 7, 0, 4, 1, 1, 7, 0, 0, 1, 9, 6, 7, 3, 9, 2, 1, 2, 6, 6, 0, 3, 0, 2, 3, 5, 9, 5, 8, 9, 3, 1, 7, 8, 9, 4, 1, 1, 9, 0, 7, 0, 0, 9, 0, 0, 2, 9, 0, 8, 5, 5, 9, 3, 3, 5, 7, 1, 3, 3, 3, 5, 2, 0, 2, 1, 1, 9, 1, 2, 0, 2, 2, 2, 6, 2, 0, 3, 5, 0, 3, 0, 5, 1, 1, 0, 2, 5, 3, 5, 1, 6, 2, 3, 2, 2, 7, 9, 2, 3, 8, 5, 2, 6, 9, 1, 5, 7, 7, 2, 2, 2, 7, 5, 2, 1, 5, 7, 7, 8, 2, 8, 3, 7, 2, 0, 6, 9, 9, 0, 0, 7, 3, 1, 0, 8, 2, 2, 2, 2, 7, 1, 8, 2, 0, 3, 4, 0, 6, 9, 8, 0, 0, 8, 3, 9, 2, 1, 5, 6, 5, 0, 0, 2, 2, 5, 9, 3, 0, 2, 7, 8, 5, 9, 5, 0, 0, 2, 9, 7, 2, 9, 2, 2, 2, 2, 0, 1, 2, 3, 9, 2, 0, 3, 2, 2, 0, 9, 2, 7, 2, 5, 2, 3, 2, 5, 5, 0, 2, 1, 1, 8, 7, 3, 2, 6, 9, 2, 3, 8, 8, 8, 9, 2, 0, 9, 2, 6, 3, 0, 6, 6, 8, 8, 5, 9, 6, 7, 1, 9, 0, 3, 3, 3, 2, 3, 9, 9, 0, 3, 0, 2, 2, 2, 2, 2, 5, 3, 2, 9, 8, 5, 8, 3, 2, 1, 2, 8, 8, 2, 2, 6, 3, 5, 0, 3, 5, 2, 5, 3, 9, 1, 0, 9, 8, 9, 4, 8, 8, 5, 5, 8, 2, 4, 6, 8, 3, 0, 2, 9, 2, 1, 0, 5, 1, 2, 3, 9, 2, 2, 3, 2, 7, 2, 2, 2, 3, 8, 5, 1, 8, 3, 2, 2, 5, 0, 0, 5, 8, 7, 4, 2, 2, 6, 9, 3, 5, 0, 9, 9, 0, 1, 3, 7, 1, 9, 2, 5, 2, 2, 9, 5, 7, 9, 2, 2, 8, 3, 1, 7, 8, 8, 2, 8, 0, 5, 5, 7, 1, 9, 2, 2, 1, 5, 1, 9, 0, 1, 0, 3, 2, 5, 3, 9, 3, 5, 2, 0, 0, 9, 5, 2, 6, 3, 8, 5, 8, 0, 0, 2, 1, 2, 9, 5, 0, 9, 8, 3, 2, 9, 5, 9, 1, 1, 1, 8, 2, 1, 2, 2, 9, 9, 8, 9, 7, 2, 2, 1, 9, 9, 1, 9, 6, 2, 3, 7, 3, 1, 6, 0, 8, 3, 2, 3, 3, 8, 2, 7, 1, 0, 3, 8, 3, 7, 9, 0, 0, 3, 0, 4, 5, 7, 6, 7, 0, 5, 0, 2, 6, 3, 3, 0, 6, 2, 2, 2, 2, 2, 9, 9, 0, 7, 2, 3, 4, 0, 1, 9, 5, 9, 9, 0, 5, 8, 2, 7, 3, 9, 5, 2, 8, 9, 5, 8, 0, 0, 4, 0, 0, 3, 7, 8, 0, 1, 2, 2, 2, 1, 1, 6, 6, 2, 5, 2, 2, 9, 3, 4, 2, 3, 7, 2, 9, 2, 1, 2, 7, 5, 5, 9, 2, 0, 9, 7, 9, 9, 2, 1, 8, 3, 3, 8, 0, 0, 7, 0, 7, 7, 9, 2, 4, 2, 3, 7, 2, 1, 5, 2, 0, 5, 8, 2, 7, 0, 1, 0, 5, 2, 2, 1, 2, 1, 8, 7, 9, 5, 7, 3, 2, 2, 2, 7, 2, 3, 9, 0, 3, 9, 5, 1, 0, 9, 6, 7, 2, 3, 5, 7, 2, 7, 2, 8, 7, 5, 2, 5, 7, 2, 3, 5, 0, 2, 5, 5, 0, 1, 9, 0, 7, 1, 0, 3, 2, 2, 2, 5, 7, 2, 1, 1, 7, 7, 9, 0, 1, 2, 8, 5, 2, 5, 2, 7, 8, 7, 7, 0, 8, 5, 0, 0, 5, 5, 2, 7, 7, 9, 7, 1, 0, 0, 8, 0, 2, 0, 6, 2, 5, 5, 0, 5, 3, 6, 2, 5, 6, 7, 1, 8, 7, 1, 0, 2, 6, 2, 5, 3, 7, 2, 8, 0, 3, 9, 2, 0, 6, 0, 8, 7, 3, 3, 0, 5, 6, 1, 5, 0, 9, 9, 1, 3, 0, 2, 1, 2, 0, 5, 7, 2, 2, 0, 9, 2, 0, 8, 2, 8, 3, 7, 7, 3, 3, 9, 5, 7, 0, 6, 9, 2, 5, 0, 7, 2, 9, 5, 5, 8, 5, 2, 9, 5, 2, 3, 0, 3, 0, 2, 7, 2, 4, 2, 5, 2, 1, 5, 7, 9, 9, 3, 9, 8, 0, 5, 1, 9, 0, 3, 0, 2, 8, 0, 7, 0, 9, 8, 8, 4, 3, 4, 1, 7, 7, 1, 2, 2, 7, 0, 3, 2, 8, 7, 8, 7, 9, 1, 1, 3, 8, 7, 5, 9, 1, 0, 6, 0, 2, 4, 2, 7, 1, 2, 0, 1, 5, 6, 2, 9, 2, 2, 2, 2, 0, 7, 7, 2, 7, 1, 2, 0, 8, 3, 3, 5, 6, 0, 8, 3, 6, 2, 0, 1, 8, 2, 0, 2, 9, 5, 2, 4, 5, 2, 1, 0, 2, 2, 5, 0, 0, 7, 3, 0, 2, 7, 2, 6, 3, 2, 4, 4, 6, 3, 2, 5, 1, 7, 5, 2, 5, 7, 7, 9, 9, 9, 2, 0, 9, 2, 0, 5, 5, 5, 0, 5, 2, 0, 6, 0, 2, 9, 9, 2, 4, 5, 2, 0, 1, 0, 8, 9, 5, 7, 3, 0, 2, 2, 1, 6, 8, 1, 8, 2, 6, 2, 9, 8, 5, 1, 2, 2, 0, 9, 0, 0, 8, 0, 7, 3, 2, 9, 8, 9, 9, 2, 9, 2, 3, 3, 2, 9, 0, 8, 0, 2, 0, 3, 0, 0, 0, 3, 3, 5, 9, 2, 7, 1, 5, 6, 1, 2, 1, 7, 9, 2, 0, 2, 5, 2, 9, 2, 9, 8, 8, 7, 2, 2, 3, 9, 3, 2, 7, 6, 2, 5, 0, 2, 1, 0, 5, 7, 3, 5, 9, 6, 3, 2, 8, 5, 8, 1, 9, 6, 7, 0, 7, 3, 6, 0, 5, 8, 8, 8, 8, 7, 2, 0, 5, 1, 5, 9, 2, 0, 9, 5, 8, 5, 7, 3, 9, 8, 3, 2, 0, 5, 7, 5, 1, 1, 5, 6, 1, 6, 8, 8, 2, 9, 0, 3, 3, 2, 0, 2, 2, 1, 1, 2, 7, 0, 7, 0, 2, 0, 8, 8, 8, 7, 7, 1, 2, 0, 2, 1, 2, 0, 2, 5, 8, 2, 2, 6, 6, 1, 5, 5, 2, 2, 0, 5, 2, 7, 0, 3, 2, 5, 9, 7, 5, 7, 0, 1, 1, 9, 7, 5, 0, 1, 9, 2, 3, 2, 5, 2, 0, 2, 5, 7, 2, 2, 2, 2, 5, 2, 2, 3, 7, 8, 0, 2, 2, 1, 1, 7, 5, 2, 5, 3, 2, 8, 5, 8, 0, 2, 1, 2, 3, 7, 2, 9, 0, 2, 9, 2, 3, 2, 9, 5, 5, 9, 2, 0, 2, 1, 1, 8, 9, 2, 2, 2, 3, 3, 6, 7, 1, 8, 0, 5, 0, 1, 7, 7, 1, 0, 1, 2, 1, 5, 0, 2, 1, 1, 0, 9, 3, 7, 4, 5, 0, 1, 8, 9, 0, 6, 2, 0, 9, 1, 6, 1, 2, 7, 0, 0, 5, 0, 8, 2, 5, 5, 1, 5, 9, 1, 8, 5, 0, 1, 2, 2, 3, 7, 3, 5, 2, 8, 0, 7, 1, 2, 3, 9, 8, 3, 8, 7, 7, 9, 7, 0, 9, 2, 6, 9, 6, 1, 9, 8, 2, 3, 7, 2, 9, 5, 2, 7, 1, 0, 1, 2, 0, 9, 2, 0, 5, 0, 0, 5, 5, 2, 0, 9, 9, 1, 6, 7, 7, 7, 2, 5, 1, 2, 0, 2, 3, 8, 9, 8, 2, 1, 0, 8, 3, 9, 8, 8, 7, 8, 3, 2, 0, 7, 2, 8, 0, 9, 9, 2, 7, 7, 2, 6, 1, 5, 6, 2, 0, 5, 5, 0, 0, 2, 7, 8, 9, 4, 2, 1, 7, 2, 2, 2, 9, 4, 3, 2, 0, 7, 7, 8, 0, 9, 1, 2, 2, 2, 9, 7, 1, 9, 9, 3, 3, 1, 2, 3, 5, 6, 3, 7, 2, 1, 2, 2, 2, 7, 5, 2, 2, 7, 7, 8, 1, 8, 1, 6, 2, 5, 5, 0, 1, 2, 2, 0, 1, 2, 0, 7, 2, 8, 8, 2, 8, 2, 5, 0, 0, 1, 7, 9, 7, 3, 9, 2, 0, 2, 8, 7, 1, 0, 8, 7, 0, 0, 2, 8, 2, 8, 0, 1, 5, 3, 8, 1, 7, 2, 9, 3, 7, 9, 5, 1, 8, 3, 0, 9, 6, 6, 2, 4, 6, 7, 6, 0, 9, 8, 8, 1, 5, 7, 7, 1, 7, 5, 2, 4, 0, 7, 8, 7, 3, 7, 0, 6, 5, 5, 2, 6, 7, 6, 0, 3, 2, 0, 2, 7, 0, 2, 6, 0, 1, 5, 3, 8, 3, 9, 7, 1, 7, 1, 6, 2, 0, 5, 0, 0, 2, 2, 1, 1, 2, 9, 0, 6, 6, 1, 3, 2, 7, 0, 1, 8, 5, 7, 0, 0, 5, 0, 2, 2, 4, 2, 5, 2, 1, 8, 2, 1, 9, 3, 0, 8, 9, 9, 0, 1, 8, 1, 2, 9, 0, 3, 1, 1, 2, 7, 8, 3, 2, 9, 0, 2, 8, 2, 8, 2, 9, 2, 7, 5, 3, 3, 6, 2, 5, 7, 3, 7, 2, 2, 0, 9, 3, 0, 5, 2, 1, 2, 1, 8, 1, 9, 2, 8, 9, 9, 4, 3, 7, 0, 0, 6, 1, 0, 4, 6, 4, 6, 2, 9, 0, 0, 0, 2, 0, 0, 1, 3, 0, 6, 5, 7, 9, 4, 6, 3, 7, 5, 1, 6, 7, 7, 5, 8, 0, 9, 1, 0, 1, 2, 9, 1, 6, 5, 3, 3, 0, 7, 1, 6, 7, 9, 3, 7, 2, 2, 6, 2, 7, 2, 7, 0, 1, 9, 8, 8, 7, 0, 1, 2, 0, 9, 7, 5, 9, 1, 2, 0, 4, 7, 2, 3, 4, 1, 7, 5, 7, 0, 9, 0, 0, 3, 1, 2, 7, 9, 0, 2, 7, 8, 2, 7, 2, 0, 8, 3, 0, 1, 7, 9, 6, 9, 1, 2, 2, 7, 1, 0, 2, 3, 9, 0, 1, 8, 2, 5, 9, 5, 8, 1, 0, 9, 0, 0, 6, 1, 1, 2, 7, 0, 0, 7, 5, 0, 9, 5, 4, 0, 2, 5, 2, 3, 8, 3, 8, 1, 1, 2, 2, 8, 1, 0, 8, 1, 8, 5, 3, 2, 7, 0, 0, 2, 9, 2, 6, 3, 9, 9, 0, 9, 9, 2, 7, 3, 4, 3, 3, 9, 2, 7, 7, 8, 1, 1, 6, 2, 5, 7, 9, 4, 7, 2, 7, 0, 6, 6, 9, 7, 7, 7, 5, 0, 1, 2, 3, 2, 2, 2, 0, 9, 8, 7, 8, 2, 2, 8, 9, 9, 1, 2, 7, 9, 9, 0, 1, 5, 1, 1, 3, 2, 9, 9, 8, 3, 6, 8, 5, 2, 4, 3, 2, 8, 0, 9, 0, 2, 9, 0, 1, 2, 8, 1, 0, 2, 1, 8, 1, 7, 1, 9, 1, 8, 3, 8, 2, 1, 3, 0, 2, 2, 2, 8, 2, 2, 5, 5, 0, 2, 2, 9, 0, 0, 1, 0, 0, 2, 8, 3, 2, 7, 7, 5, 9, 4, 5, 2, 2, 9, 9, 2, 6, 7, 6, 9, 1, 2, 6, 2, 8, 0, 1, 9, 0, 1, 6, 7, 0, 0, 5, 6, 2, 2, 2, 1, 1, 9, 8, 8, 9, 2, 2, 2, 0, 5, 2, 5, 3, 8, 3, 0, 3, 0, 2, 1, 5, 0, 3, 3, 1, 9, 6, 8, 7, 8, 2, 3, 2, 2, 5, 0, 9, 0, 7, 1, 1, 7, 9, 0, 1, 2, 5, 7, 2, 2, 3, 3, 2, 1, 0, 0, 9, 9, 8, 2, 9, 0, 2, 5, 2, 7, 6, 0, 5, 2, 0, 9, 3, 9, 0, 6, 3, 5, 6, 2, 3, 2, 0, 9, 8, 0, 0, 2, 0, 6, 3, 9, 2, 2, 0, 1, 9, 2, 6, 9, 0, 0, 6, 0, 8, 7, 3, 5, 0, 2, 3, 1, 3, 0, 9, 5, 2, 3, 7, 0, 6, 6, 9, 0, 7, 6, 5, 2, 8, 2, 1, 0, 0, 2, 5, 9, 3, 5, 0, 2, 0, 7, 2, 0, 8, 3, 1, 8, 0, 3, 8, 9, 2, 0, 0, 8, 0, 8, 6, 5, 7, 0, 3, 6, 8, 3, 5, 9, 2, 2, 8, 9, 6, 1, 0, 5, 0, 2, 2, 8, 2, 0, 0, 7, 2, 5, 3, 7, 2, 5, 0, 8, 3, 9, 5, 6, 6, 4, 2, 3, 6, 2, 9, 2, 5, 2, 5, 0, 3, 1, 7, 8, 0, 2, 7, 3, 3, 8, 0, 0, 9, 2, 8, 9, 2, 9, 2, 2, 2, 0, 0, 1, 1, 9, 3, 8, 0, 1, 9, 5, 8, 2, 8, 2, 3, 5, 6, 2, 2, 9, 6, 2, 6, 9, 8, 0, 5, 9, 2, 2, 5, 2, 1, 0, 7, 2, 2, 0, 5, 2, 0, 0, 0, 1, 5, 2, 0, 1, 9, 7, 5, 2, 5, 6, 9, 6, 2, 6, 5, 2, 8, 9, 0, 9, 5, 5, 8, 7, 9, 3, 2, 8, 2, 3, 9, 3, 1, 0, 2, 5, 2, 8, 7, 9, 7, 7, 7, 9, 2, 0, 0, 2, 7, 0, 1, 8, 0, 3, 8, 5, 0, 5, 2, 9, 1, 1, 2, 0, 8, 9, 7, 7, 5, 8, 0, 1, 2, 0, 1, 8, 6, 3, 2, 7, 9, 3, 7, 5, 5, 0, 9, 1, 2, 1, 6, 7, 6, 0, 9, 3, 4, 2, 1, 7, 8, 1, 6, 5, 9, 0, 2, 9, 8, 3, 8, 8, 2, 8, 5, 7, 0, 7, 0, 9, 2, 9, 6, 9, 2, 8, 5, 3, 0, 1, 6, 2, 2, 7, 4, 1, 7, 7, 8, 5, 9, 0, 2, 2, 2, 1, 3, 8, 0, 1, 2, 7, 5, 9, 1, 0, 2, 6, 7, 6, 2, 3, 1, 8, 2, 7, 2, 5, 5, 3, 1, 5, 1, 9, 2, 9, 2, 2, 2, 1, 8, 3, 5, 8, 2, 0, 4, 8, 4, 5, 1, 6, 2, 2, 2, 2, 8, 5, 7, 8, 7, 6, 5, 5, 7, 9, 9, 8, 2, 8, 2, 1, 3, 3, 2, 8, 9, 2, 0, 5, 0, 2, 8, 1, 6, 2, 1, 0, 5, 2, 9, 7, 2, 8, 7, 3, 7, 0, 1, 2, 1, 7, 2, 0, 8, 5, 0, 2, 0, 0, 1, 6, 2, 5, 0, 1, 5, 5, 2, 5, 1, 7, 8, 7, 1, 2, 7, 0, 9, 0, 4, 9, 0, 4, 2, 6, 5, 9, 9, 2, 0, 7, 1, 8, 1, 2, 2, 3, 7, 8, 2, 0, 2, 5, 1, 2, 9, 3, 5, 8, 0, 1, 9, 2, 7, 3, 7, 4, 2, 6, 0, 2, 1, 3, 3, 0, 7, 0, 5, 9, 0, 5, 3, 7, 9, 9, 6, 8, 8, 0, 1, 2, 2, 0, 6, 8, 1, 6, 1, 0, 3, 2, 7, 8, 7, 0, 4, 3, 2, 2, 5, 7, 7, 2, 0, 2, 2, 5, 0, 1, 7, 6, 7, 2, 0, 0, 6, 5, 1, 1, 2, 4, 2, 9, 8, 1, 6, 1, 2, 8, 5, 2, 0, 2, 0, 2, 9, 3, 8, 5, 2, 8, 2, 2, 8, 6, 2, 2, 6, 8, 7, 5, 2, 8, 9, 2, 9, 5, 9, 2, 1, 6, 2, 1, 7, 7, 1, 7, 3, 5, 8, 7, 2, 5, 1, 5, 6, 0, 0, 0, 1, 6, 2, 2, 8, 0, 3, 2, 0, 3, 5, 1, 6, 3, 6, 5, 1, 8, 3, 1, 0, 5, 8, 2, 2, 0, 3, 7, 8, 1, 0, 9, 0, 2, 8, 1, 2, 0, 8, 3, 0, 8, 5, 7, 5, 2, 7, 7, 0, 1, 8, 1, 7, 7, 0, 3, 1, 2, 5, 5, 3, 8, 9, 4, 6, 9, 5, 1, 7, 2, 1, 5, 2, 0, 1, 3, 6, 7, 1, 3, 2, 4, 5, 7, 3, 2, 7, 3, 3, 7, 8, 8, 2, 5, 2, 9, 7, 3, 6, 9, 3, 6, 5, 5, 6, 9, 1, 2, 1, 5, 2, 2, 1, 2, 0, 3, 3, 6, 3, 0, 8, 2, 7, 5, 5, 7, 0, 7, 9, 2, 0, 2, 9, 2, 8, 1, 0, 8, 8, 5, 8, 3, 8, 9, 3, 0, 0, 2, 1, 8, 2, 2, 0, 0, 9, 5, 3, 1, 5, 1, 3, 5, 0, 0, 2, 1, 7, 3, 0, 8, 2, 9, 0, 9, 0, 0, 2, 1, 2, 6, 2, 9, 1, 4, 9, 7, 6, 2, 2, 0, 9, 7, 8, 5, 0, 9, 0, 0, 0, 8, 1, 3, 2, 7, 5, 8, 2, 5, 2, 8, 9, 1, 9, 1, 8, 1, 5]\n"
          ],
          "name": "stdout"
        }
      ]
    },
    {
      "cell_type": "code",
      "metadata": {
        "id": "LP02JTeo0UTK",
        "colab_type": "code",
        "outputId": "43560ed0-f3fd-4806-9109-e92073e3f5b6",
        "colab": {
          "base_uri": "https://localhost:8080/",
          "height": 34
        }
      },
      "source": [
        "np.unique(out)"
      ],
      "execution_count": 26,
      "outputs": [
        {
          "output_type": "execute_result",
          "data": {
            "text/plain": [
              "array([0, 1, 2, 3, 4, 5, 6, 7, 8, 9])"
            ]
          },
          "metadata": {
            "tags": []
          },
          "execution_count": 26
        }
      ]
    },
    {
      "cell_type": "code",
      "metadata": {
        "id": "tQNAlVonf4l8",
        "colab_type": "code",
        "colab": {
          "base_uri": "https://localhost:8080/",
          "height": 351
        },
        "outputId": "5cdbb0ee-ea16-4f6e-a900-10445fddcfc1"
      },
      "source": [
        "from sklearn.metrics import classification_report,accuracy_score\n",
        "acc = accuracy_score(testY,out)\n",
        "report = classification_report(testY,out)\n",
        "print(\"The accuracy of the model is {}%\".format(acc*100))\n",
        "print(\"The following is the classification report:-\\n {}\".format(report))"
      ],
      "execution_count": 27,
      "outputs": [
        {
          "output_type": "stream",
          "text": [
            "The accuracy of the model is 72.85000000000001%\n",
            "The following is the classification report:-\n",
            "               precision    recall  f1-score   support\n",
            "\n",
            "         0.0       0.59      0.85      0.70      1000\n",
            "         1.0       0.98      0.94      0.96      1000\n",
            "         2.0       0.36      0.78      0.50      1000\n",
            "         3.0       0.88      0.79      0.83      1000\n",
            "         4.0       0.65      0.13      0.22      1000\n",
            "         5.0       0.95      0.93      0.94      1000\n",
            "         6.0       0.30      0.15      0.20      1000\n",
            "         7.0       0.94      0.92      0.93      1000\n",
            "         8.0       0.96      0.85      0.90      1000\n",
            "         9.0       0.93      0.94      0.93      1000\n",
            "\n",
            "    accuracy                           0.73     10000\n",
            "   macro avg       0.75      0.73      0.71     10000\n",
            "weighted avg       0.75      0.73      0.71     10000\n",
            "\n"
          ],
          "name": "stdout"
        }
      ]
    },
    {
      "cell_type": "markdown",
      "metadata": {
        "id": "Py-KwkmjOIVU",
        "colab_type": "text"
      },
      "source": [
        "### Customize the learning rate to 0.001 in sgd optimizer and run the model"
      ]
    },
    {
      "cell_type": "code",
      "metadata": {
        "id": "yLXUE9jWOIVV",
        "colab_type": "code",
        "colab": {}
      },
      "source": [
        "model.compile(optimizer = tf.keras.optimizers.SGD(lr = 0.001),loss = 'binary_crossentropy',metrics = ['accuracy'])"
      ],
      "execution_count": 0,
      "outputs": []
    },
    {
      "cell_type": "code",
      "metadata": {
        "id": "4AB8HLiHeP9r",
        "colab_type": "code",
        "outputId": "d9481bac-0b2b-47af-e74c-ce52d6a4f8de",
        "colab": {
          "base_uri": "https://localhost:8080/",
          "height": 334
        }
      },
      "source": [
        "model.summary()"
      ],
      "execution_count": 29,
      "outputs": [
        {
          "output_type": "stream",
          "text": [
            "Model: \"sequential\"\n",
            "_________________________________________________________________\n",
            "Layer (type)                 Output Shape              Param #   \n",
            "=================================================================\n",
            "flatten (Flatten)            (None, 784)               0         \n",
            "_________________________________________________________________\n",
            "dense (Dense)                (None, 60)                47100     \n",
            "_________________________________________________________________\n",
            "dense_1 (Dense)              (None, 40)                2440      \n",
            "_________________________________________________________________\n",
            "dense_2 (Dense)              (None, 20)                820       \n",
            "_________________________________________________________________\n",
            "dense_3 (Dense)              (None, 10)                210       \n",
            "=================================================================\n",
            "Total params: 50,570\n",
            "Trainable params: 50,570\n",
            "Non-trainable params: 0\n",
            "_________________________________________________________________\n"
          ],
          "name": "stdout"
        }
      ]
    },
    {
      "cell_type": "code",
      "metadata": {
        "id": "pJUqA5T4OIVc",
        "colab_type": "code",
        "outputId": "11dc3bf4-931b-4361-c6ed-b4c27d4b1586",
        "colab": {
          "base_uri": "https://localhost:8080/",
          "height": 404
        }
      },
      "source": [
        "model.fit(trainX,trainY,epochs=10)"
      ],
      "execution_count": 30,
      "outputs": [
        {
          "output_type": "stream",
          "text": [
            "Train on 60000 samples\n",
            "Epoch 1/10\n",
            "60000/60000 [==============================] - 4s 70us/sample - loss: 0.1050 - accuracy: 0.9591\n",
            "Epoch 2/10\n",
            "60000/60000 [==============================] - 4s 65us/sample - loss: 0.1035 - accuracy: 0.9596\n",
            "Epoch 3/10\n",
            "60000/60000 [==============================] - 4s 66us/sample - loss: 0.1025 - accuracy: 0.9599\n",
            "Epoch 4/10\n",
            "60000/60000 [==============================] - 4s 68us/sample - loss: 0.1014 - accuracy: 0.9601\n",
            "Epoch 5/10\n",
            "60000/60000 [==============================] - 4s 68us/sample - loss: 0.0998 - accuracy: 0.9604\n",
            "Epoch 6/10\n",
            "60000/60000 [==============================] - 4s 67us/sample - loss: 0.0977 - accuracy: 0.9609\n",
            "Epoch 7/10\n",
            "60000/60000 [==============================] - 4s 66us/sample - loss: 0.0951 - accuracy: 0.9616\n",
            "Epoch 8/10\n",
            "60000/60000 [==============================] - 4s 67us/sample - loss: 0.0929 - accuracy: 0.9623\n",
            "Epoch 9/10\n",
            "60000/60000 [==============================] - 4s 67us/sample - loss: 0.0914 - accuracy: 0.9625\n",
            "Epoch 10/10\n",
            "60000/60000 [==============================] - 4s 67us/sample - loss: 0.0901 - accuracy: 0.9629\n"
          ],
          "name": "stdout"
        },
        {
          "output_type": "execute_result",
          "data": {
            "text/plain": [
              "<tensorflow.python.keras.callbacks.History at 0x7ff22023e7f0>"
            ]
          },
          "metadata": {
            "tags": []
          },
          "execution_count": 30
        }
      ]
    },
    {
      "cell_type": "code",
      "metadata": {
        "id": "_V1ljR-besMr",
        "colab_type": "code",
        "colab": {}
      },
      "source": [
        "y_pred1 = model.predict(testX)"
      ],
      "execution_count": 0,
      "outputs": []
    },
    {
      "cell_type": "code",
      "metadata": {
        "id": "fqwTblKUnWmL",
        "colab_type": "code",
        "colab": {
          "base_uri": "https://localhost:8080/",
          "height": 54
        },
        "outputId": "5390c29b-57ae-4e86-ee8e-289416798542"
      },
      "source": [
        "import numpy as np\n",
        "out1 = []\n",
        "for val in y_pred1:\n",
        "  out1.append(np.argmax(val))\n",
        "print(out1)"
      ],
      "execution_count": 32,
      "outputs": [
        {
          "output_type": "stream",
          "text": [
            "[9, 4, 1, 1, 2, 1, 4, 6, 5, 7, 4, 5, 5, 3, 4, 1, 2, 6, 8, 0, 6, 5, 7, 5, 1, 4, 2, 0, 9, 4, 8, 8, 3, 3, 8, 0, 7, 5, 7, 9, 0, 1, 0, 7, 6, 7, 6, 1, 2, 2, 4, 2, 5, 6, 4, 4, 8, 0, 8, 0, 7, 7, 8, 5, 1, 1, 2, 4, 7, 8, 7, 0, 2, 6, 4, 3, 1, 4, 8, 4, 1, 8, 5, 9, 5, 0, 3, 2, 0, 2, 5, 1, 6, 7, 1, 8, 0, 1, 2, 4, 3, 6, 7, 2, 7, 8, 5, 9, 9, 4, 2, 5, 7, 0, 5, 4, 8, 4, 7, 8, 6, 0, 9, 9, 3, 0, 8, 4, 1, 5, 4, 1, 9, 1, 8, 2, 6, 1, 4, 5, 1, 0, 0, 0, 1, 6, 1, 3, 6, 6, 6, 6, 1, 3, 5, 0, 4, 7, 9, 3, 7, 4, 3, 9, 0, 9, 4, 7, 4, 4, 6, 5, 4, 1, 4, 1, 3, 0, 9, 1, 0, 9, 3, 6, 7, 9, 9, 4, 4, 7, 1, 4, 3, 4, 3, 4, 8, 3, 6, 1, 1, 0, 4, 9, 4, 2, 0, 7, 9, 8, 4, 1, 8, 4, 1, 3, 1, 2, 7, 2, 8, 5, 6, 0, 7, 7, 6, 6, 7, 0, 7, 8, 9, 4, 9, 0, 5, 1, 4, 4, 5, 4, 9, 6, 4, 8, 6, 4, 6, 4, 9, 7, 6, 5, 5, 4, 8, 5, 4, 3, 0, 2, 8, 0, 0, 6, 3, 8, 9, 6, 1, 6, 0, 4, 3, 0, 8, 3, 7, 4, 0, 1, 2, 3, 0, 6, 6, 7, 5, 4, 5, 9, 5, 6, 5, 5, 1, 9, 8, 0, 3, 3, 6, 8, 0, 0, 4, 9, 7, 7, 1, 6, 6, 6, 2, 4, 7, 1, 6, 4, 8, 2, 6, 5, 6, 6, 7, 7, 7, 3, 3, 7, 6, 7, 1, 3, 7, 2, 6, 3, 4, 6, 3, 1, 6, 1, 9, 4, 9, 9, 1, 7, 8, 3, 0, 0, 6, 4, 8, 6, 1, 4, 4, 4, 4, 7, 3, 4, 4, 5, 6, 7, 9, 4, 0, 9, 3, 9, 3, 6, 5, 6, 6, 3, 5, 8, 1, 2, 4, 4, 6, 4, 9, 5, 4, 0, 6, 6, 1, 4, 0, 9, 7, 0, 4, 4, 6, 6, 4, 0, 0, 2, 7, 6, 9, 6, 4, 1, 5, 4, 5, 3, 8, 5, 8, 4, 4, 8, 9, 8, 6, 4, 4, 4, 6, 3, 1, 6, 1, 3, 0, 7, 8, 8, 4, 5, 3, 1, 9, 5, 3, 3, 6, 1, 6, 2, 9, 4, 0, 6, 1, 4, 4, 0, 0, 2, 3, 6, 4, 8, 9, 2, 0, 7, 6, 4, 2, 9, 4, 9, 7, 9, 3, 7, 5, 7, 8, 1, 0, 0, 6, 6, 8, 9, 7, 9, 1, 4, 7, 0, 2, 0, 5, 7, 1, 8, 2, 4, 2, 4, 4, 4, 2, 1, 9, 8, 5, 1, 9, 1, 4, 8, 3, 8, 9, 4, 6, 2, 8, 6, 2, 7, 5, 8, 8, 5, 3, 9, 4, 3, 4, 4, 9, 1, 2, 1, 4, 0, 4, 9, 6, 1, 5, 1, 1, 1, 9, 3, 4, 5, 3, 6, 4, 0, 2, 0, 0, 5, 8, 0, 6, 4, 0, 7, 7, 8, 9, 0, 6, 8, 7, 6, 7, 9, 3, 4, 6, 3, 5, 0, 1, 1, 5, 9, 4, 2, 5, 7, 8, 1, 4, 9, 7, 7, 1, 0, 9, 0, 2, 9, 0, 7, 6, 8, 4, 7, 0, 4, 3, 8, 2, 4, 6, 8, 3, 0, 7, 8, 8, 4, 9, 4, 4, 0, 2, 2, 0, 3, 4, 4, 7, 5, 8, 4, 9, 1, 0, 5, 4, 4, 4, 0, 0, 4, 5, 2, 0, 4, 5, 4, 1, 6, 1, 3, 6, 4, 3, 8, 4, 8, 6, 7, 0, 4, 6, 8, 5, 0, 8, 4, 9, 0, 8, 9, 6, 3, 4, 9, 6, 6, 5, 0, 9, 5, 3, 6, 6, 6, 3, 0, 8, 3, 4, 0, 9, 7, 9, 4, 8, 9, 1, 3, 7, 3, 0, 4, 2, 7, 1, 0, 0, 8, 7, 4, 6, 4, 6, 4, 1, 5, 9, 0, 0, 1, 6, 7, 0, 2, 3, 3, 3, 8, 1, 1, 8, 5, 7, 7, 8, 7, 4, 6, 7, 6, 8, 0, 9, 7, 6, 1, 0, 2, 4, 8, 0, 6, 3, 6, 8, 4, 0, 8, 9, 4, 4, 5, 9, 1, 4, 4, 9, 2, 3, 7, 9, 5, 8, 3, 7, 7, 1, 1, 1, 2, 9, 5, 3, 8, 4, 4, 9, 6, 8, 3, 4, 4, 4, 7, 1, 4, 9, 3, 5, 8, 5, 4, 7, 4, 8, 5, 9, 3, 3, 6, 7, 1, 7, 3, 5, 4, 4, 5, 8, 3, 9, 1, 2, 6, 1, 9, 8, 4, 7, 1, 2, 7, 5, 9, 9, 1, 8, 4, 5, 7, 1, 9, 8, 1, 3, 6, 6, 1, 7, 1, 1, 5, 7, 1, 5, 4, 4, 3, 3, 1, 1, 4, 9, 4, 3, 7, 7, 6, 8, 9, 9, 6, 1, 1, 4, 0, 3, 5, 9, 4, 3, 5, 5, 1, 5, 7, 8, 7, 9, 3, 6, 4, 0, 4, 0, 2, 0, 4, 5, 5, 1, 4, 0, 9, 3, 7, 8, 2, 8, 3, 2, 7, 6, 7, 4, 8, 6, 3, 4, 4, 3, 6, 9, 6, 6, 4, 9, 1, 8, 1, 7, 5, 5, 6, 6, 4, 1, 0, 5, 2, 0, 0, 2, 7, 5, 0, 1, 5, 9, 2, 8, 6, 6, 4, 6, 4, 9, 6, 7, 7, 1, 2, 6, 6, 5, 0, 9, 9, 8, 8, 3, 6, 4, 4, 6, 6, 3, 6, 3, 7, 4, 9, 3, 4, 7, 7, 0, 3, 5, 5, 4, 4, 5, 9, 2, 3, 7, 5, 1, 9, 8, 8, 9, 9, 2, 7, 4, 4, 3, 8, 7, 4, 4, 5, 4, 3, 6, 1, 4, 9, 3, 1, 6, 5, 6, 5, 7, 5, 4, 3, 3, 9, 6, 3, 6, 0, 2, 5, 0, 4, 9, 6, 0, 3, 6, 7, 0, 2, 1, 1, 4, 4, 6, 5, 9, 0, 1, 6, 5, 1, 2, 4, 8, 4, 7, 7, 3, 8, 3, 1, 9, 8, 1, 3, 3, 7, 6, 3, 5, 7, 6, 9, 6, 3, 5, 8, 4, 6, 3, 8, 6, 5, 5, 4, 7, 1, 5, 3, 5, 4, 8, 2, 6, 1, 1, 7, 9, 6, 6, 7, 4, 4, 8, 2, 4, 6, 6, 4, 4, 9, 6, 8, 4, 5, 9, 6, 3, 9, 6, 9, 8, 7, 4, 4, 2, 5, 3, 7, 0, 7, 1, 9, 3, 7, 0, 9, 4, 8, 4, 4, 7, 6, 2, 6, 4, 0, 7, 8, 4, 4, 4, 5, 5, 0, 4, 5, 5, 8, 1, 1, 7, 6, 6, 9, 0, 8, 7, 4, 0, 1, 2, 7, 7, 4, 9, 8, 5, 1, 1, 0, 4, 0, 9, 6, 1, 9, 0, 5, 5, 6, 0, 7, 0, 6, 3, 1, 3, 1, 3, 4, 7, 4, 4, 9, 5, 4, 9, 6, 3, 4, 4, 0, 0, 5, 4, 2, 5, 6, 1, 2, 6, 5, 4, 4, 8, 0, 4, 3, 0, 6, 2, 6, 6, 3, 8, 2, 0, 4, 2, 8, 8, 2, 5, 4, 4, 3, 0, 1, 9, 0, 9, 1, 9, 9, 5, 4, 4, 7, 3, 8, 5, 6, 8, 6, 7, 5, 5, 9, 5, 0, 0, 0, 3, 4, 4, 4, 8, 7, 1, 3, 4, 6, 6, 5, 1, 6, 7, 3, 4, 8, 8, 2, 8, 7, 4, 3, 6, 5, 4, 7, 8, 5, 6, 8, 5, 4, 2, 8, 9, 8, 2, 3, 0, 8, 8, 6, 3, 9, 4, 4, 8, 1, 3, 6, 1, 9, 2, 1, 6, 4, 7, 9, 4, 6, 0, 4, 4, 2, 4, 5, 0, 4, 8, 3, 7, 6, 4, 0, 0, 5, 4, 0, 4, 4, 3, 0, 4, 1, 7, 7, 5, 4, 7, 2, 2, 7, 1, 3, 1, 3, 3, 6, 6, 1, 7, 2, 4, 7, 1, 0, 6, 5, 8, 4, 4, 7, 9, 5, 0, 7, 9, 5, 1, 4, 9, 5, 5, 3, 9, 9, 1, 2, 7, 8, 0, 1, 7, 4, 7, 1, 1, 5, 5, 6, 4, 5, 9, 5, 5, 4, 3, 9, 3, 8, 5, 4, 0, 0, 0, 5, 7, 6, 5, 4, 0, 4, 4, 7, 8, 0, 5, 1, 7, 4, 3, 6, 8, 7, 8, 7, 1, 4, 3, 2, 9, 7, 5, 6, 0, 6, 7, 1, 2, 2, 9, 3, 6, 2, 4, 3, 6, 6, 6, 3, 2, 1, 3, 7, 2, 5, 3, 9, 1, 1, 8, 6, 9, 5, 0, 5, 4, 4, 7, 1, 1, 5, 3, 8, 7, 8, 3, 8, 9, 6, 2, 1, 1, 3, 5, 6, 7, 1, 9, 9, 4, 4, 7, 0, 1, 3, 9, 6, 3, 7, 2, 8, 1, 8, 0, 7, 9, 8, 5, 8, 4, 6, 2, 0, 6, 5, 8, 3, 8, 5, 5, 7, 3, 7, 0, 7, 0, 4, 2, 5, 3, 5, 1, 1, 7, 7, 6, 0, 6, 2, 6, 8, 6, 3, 1, 4, 9, 9, 4, 5, 6, 4, 7, 8, 0, 7, 9, 1, 6, 9, 4, 7, 3, 4, 3, 3, 1, 8, 8, 5, 3, 8, 6, 3, 2, 3, 4, 8, 4, 7, 3, 2, 8, 3, 7, 7, 3, 1, 7, 5, 8, 8, 2, 3, 6, 6, 4, 8, 5, 7, 0, 6, 0, 7, 7, 3, 9, 4, 5, 9, 7, 6, 7, 4, 4, 5, 1, 4, 5, 4, 5, 0, 4, 4, 1, 4, 4, 8, 4, 5, 9, 4, 1, 1, 7, 4, 6, 5, 6, 3, 9, 7, 5, 3, 8, 8, 8, 9, 1, 1, 6, 3, 1, 4, 3, 4, 9, 9, 0, 0, 2, 9, 4, 9, 6, 6, 1, 8, 9, 2, 5, 4, 8, 0, 7, 4, 3, 6, 0, 5, 6, 1, 9, 6, 4, 4, 9, 9, 6, 8, 3, 6, 6, 6, 0, 4, 6, 6, 6, 5, 0, 6, 7, 8, 7, 4, 0, 6, 6, 5, 4, 4, 4, 9, 5, 4, 6, 7, 0, 1, 9, 5, 5, 0, 7, 7, 5, 0, 5, 6, 6, 4, 7, 9, 8, 4, 4, 7, 3, 3, 7, 7, 7, 8, 4, 9, 5, 7, 6, 5, 9, 5, 1, 3, 0, 4, 9, 9, 8, 3, 7, 0, 4, 4, 9, 3, 3, 1, 7, 8, 1, 5, 7, 2, 5, 6, 5, 5, 0, 7, 5, 5, 4, 0, 7, 1, 3, 2, 6, 4, 9, 9, 0, 3, 6, 8, 3, 8, 8, 4, 4, 1, 8, 4, 6, 5, 0, 2, 2, 3, 0, 0, 1, 6, 8, 4, 9, 0, 7, 6, 7, 7, 1, 5, 8, 7, 4, 9, 9, 1, 4, 4, 1, 1, 1, 8, 8, 1, 3, 7, 5, 4, 0, 8, 4, 8, 9, 6, 1, 3, 1, 9, 8, 1, 1, 1, 8, 0, 9, 9, 7, 6, 0, 4, 4, 1, 1, 7, 9, 4, 4, 6, 3, 6, 4, 8, 1, 7, 4, 4, 4, 4, 4, 8, 7, 1, 8, 5, 5, 7, 7, 2, 6, 4, 9, 0, 6, 3, 5, 5, 0, 4, 1, 0, 3, 7, 8, 3, 7, 4, 5, 7, 9, 8, 9, 1, 4, 8, 3, 2, 6, 6, 6, 8, 3, 8, 6, 8, 6, 0, 8, 8, 3, 4, 9, 3, 6, 0, 8, 5, 7, 0, 1, 1, 1, 9, 5, 1, 3, 3, 6, 0, 8, 4, 1, 0, 8, 8, 0, 7, 5, 0, 6, 7, 3, 3, 4, 4, 4, 5, 5, 2, 4, 3, 9, 1, 1, 7, 3, 8, 7, 4, 4, 9, 3, 9, 9, 0, 1, 7, 1, 4, 8, 1, 2, 9, 3, 4, 0, 0, 7, 6, 9, 9, 5, 7, 7, 0, 9, 0, 3, 6, 9, 8, 4, 4, 6, 1, 9, 4, 3, 4, 7, 4, 0, 3, 6, 1, 8, 7, 3, 4, 5, 4, 4, 9, 1, 7, 2, 9, 1, 2, 4, 6, 8, 7, 7, 7, 7, 4, 6, 6, 7, 5, 8, 5, 6, 0, 6, 4, 9, 4, 2, 3, 1, 9, 3, 1, 4, 4, 6, 3, 7, 5, 7, 4, 4, 4, 1, 6, 3, 5, 4, 6, 9, 1, 5, 9, 3, 6, 2, 2, 0, 1, 7, 7, 4, 2, 7, 7, 6, 0, 6, 3, 4, 7, 8, 7, 2, 8, 0, 8, 7, 2, 2, 4, 7, 6, 9, 9, 3, 3, 5, 9, 3, 1, 0, 3, 3, 5, 5, 7, 9, 6, 3, 5, 9, 3, 7, 9, 3, 4, 0, 0, 5, 7, 7, 4, 3, 5, 3, 1, 1, 9, 4, 3, 9, 5, 5, 7, 2, 4, 9, 0, 4, 1, 9, 7, 1, 5, 0, 5, 5, 6, 3, 7, 0, 3, 3, 7, 4, 4, 6, 8, 5, 9, 4, 1, 6, 5, 5, 8, 5, 3, 7, 2, 4, 4, 9, 0, 0, 6, 9, 1, 4, 3, 1, 5, 3, 8, 5, 1, 1, 4, 9, 4, 0, 5, 2, 8, 6, 4, 9, 8, 4, 4, 8, 1, 8, 0, 4, 4, 0, 2, 8, 5, 2, 9, 0, 9, 5, 8, 0, 9, 1, 4, 7, 4, 1, 6, 6, 6, 4, 5, 0, 4, 8, 5, 5, 2, 0, 0, 8, 6, 4, 1, 9, 4, 7, 7, 4, 6, 4, 8, 3, 4, 8, 5, 6, 8, 3, 3, 1, 4, 4, 0, 4, 9, 0, 4, 1, 9, 9, 8, 1, 8, 8, 3, 3, 3, 8, 5, 9, 2, 6, 8, 7, 4, 3, 0, 0, 3, 5, 7, 5, 0, 7, 9, 1, 8, 4, 8, 9, 3, 5, 6, 0, 4, 6, 7, 5, 9, 1, 8, 2, 5, 5, 3, 1, 1, 8, 8, 3, 0, 7, 0, 1, 8, 3, 6, 4, 9, 8, 9, 8, 8, 6, 9, 1, 8, 4, 4, 7, 7, 0, 5, 1, 1, 0, 0, 4, 2, 0, 4, 3, 7, 1, 4, 3, 3, 4, 4, 5, 6, 9, 8, 3, 3, 1, 0, 6, 1, 4, 4, 4, 8, 4, 9, 0, 9, 9, 5, 0, 6, 0, 5, 0, 3, 9, 5, 3, 6, 1, 9, 4, 1, 6, 4, 5, 2, 1, 4, 8, 5, 9, 4, 5, 3, 3, 8, 3, 0, 2, 8, 9, 0, 5, 6, 4, 6, 9, 3, 2, 4, 8, 5, 9, 4, 3, 1, 0, 3, 4, 4, 7, 2, 1, 4, 4, 4, 0, 4, 8, 5, 0, 8, 5, 6, 7, 8, 1, 5, 9, 8, 6, 9, 0, 9, 3, 7, 5, 7, 9, 6, 0, 7, 1, 5, 5, 9, 5, 4, 6, 2, 2, 5, 9, 7, 4, 4, 6, 9, 9, 4, 2, 1, 3, 7, 1, 8, 7, 7, 1, 8, 9, 3, 7, 7, 7, 1, 7, 1, 4, 6, 4, 0, 5, 4, 8, 9, 6, 8, 0, 0, 7, 7, 5, 0, 1, 9, 2, 0, 4, 5, 6, 6, 6, 7, 1, 6, 5, 8, 9, 4, 8, 6, 3, 6, 1, 7, 4, 8, 7, 4, 1, 7, 8, 6, 4, 6, 4, 4, 1, 8, 2, 7, 4, 9, 2, 5, 2, 3, 3, 8, 8, 4, 0, 7, 4, 4, 0, 4, 1, 0, 8, 1, 7, 7, 4, 6, 3, 1, 4, 7, 6, 6, 0, 6, 2, 7, 4, 6, 3, 2, 3, 0, 9, 7, 3, 5, 4, 9, 6, 4, 5, 0, 6, 8, 4, 0, 4, 4, 0, 2, 1, 6, 4, 6, 7, 1, 0, 2, 4, 1, 1, 5, 4, 6, 8, 3, 3, 1, 7, 4, 9, 8, 8, 4, 5, 5, 6, 7, 3, 9, 1, 0, 5, 3, 7, 4, 1, 1, 8, 6, 4, 0, 5, 9, 6, 3, 8, 1, 6, 4, 8, 4, 4, 8, 7, 6, 4, 3, 9, 4, 7, 9, 5, 7, 6, 1, 5, 8, 8, 4, 6, 4, 6, 3, 1, 0, 4, 0, 6, 9, 8, 4, 0, 8, 4, 3, 9, 7, 1, 1, 9, 5, 1, 9, 4, 4, 4, 3, 8, 6, 7, 1, 3, 0, 7, 3, 5, 8, 1, 4, 4, 3, 4, 8, 8, 8, 6, 8, 1, 8, 9, 3, 0, 0, 0, 2, 9, 7, 3, 7, 0, 1, 6, 5, 9, 6, 0, 5, 0, 5, 8, 7, 4, 6, 4, 8, 6, 0, 9, 3, 6, 5, 8, 1, 1, 4, 0, 0, 0, 8, 2, 4, 3, 3, 9, 5, 2, 3, 3, 1, 8, 1, 5, 4, 0, 0, 7, 9, 3, 4, 7, 1, 7, 2, 1, 2, 2, 8, 2, 7, 9, 4, 9, 3, 4, 5, 0, 8, 2, 2, 2, 7, 6, 4, 1, 1, 0, 0, 5, 5, 4, 6, 2, 1, 8, 5, 6, 4, 3, 4, 4, 7, 6, 2, 9, 6, 6, 6, 8, 4, 5, 2, 9, 8, 1, 6, 3, 6, 4, 9, 4, 3, 5, 1, 4, 6, 0, 1, 1, 0, 4, 6, 9, 7, 6, 1, 4, 4, 0, 7, 6, 1, 1, 7, 7, 8, 7, 0, 5, 3, 7, 6, 0, 9, 6, 1, 6, 2, 2, 5, 8, 5, 4, 9, 8, 4, 0, 9, 0, 8, 1, 3, 8, 6, 8, 4, 0, 2, 3, 8, 7, 8, 4, 4, 6, 6, 0, 4, 5, 3, 4, 1, 1, 9, 7, 6, 6, 6, 1, 2, 4, 7, 5, 1, 8, 3, 3, 7, 9, 8, 7, 4, 7, 9, 7, 2, 4, 6, 6, 3, 3, 9, 1, 1, 4, 8, 0, 9, 7, 5, 4, 8, 8, 3, 6, 3, 8, 8, 6, 2, 5, 9, 0, 4, 8, 3, 2, 8, 3, 0, 6, 4, 3, 0, 1, 8, 4, 1, 5, 8, 1, 5, 8, 0, 7, 8, 7, 5, 9, 5, 5, 3, 6, 7, 8, 4, 5, 1, 0, 2, 6, 4, 3, 7, 7, 9, 7, 2, 5, 8, 5, 8, 5, 3, 0, 9, 7, 4, 0, 6, 8, 2, 0, 7, 3, 7, 6, 8, 4, 7, 0, 0, 4, 0, 4, 7, 8, 1, 3, 8, 1, 5, 3, 6, 1, 1, 6, 6, 9, 8, 4, 6, 4, 7, 7, 1, 3, 0, 0, 0, 7, 8, 7, 6, 5, 2, 6, 7, 5, 5, 6, 9, 7, 3, 4, 4, 8, 3, 5, 5, 7, 6, 6, 6, 7, 3, 8, 5, 1, 8, 9, 4, 4, 1, 2, 6, 7, 2, 0, 2, 4, 8, 9, 7, 9, 6, 4, 8, 4, 6, 0, 6, 3, 6, 1, 5, 4, 7, 5, 3, 7, 6, 4, 3, 5, 1, 1, 0, 7, 3, 8, 8, 7, 5, 9, 9, 5, 5, 4, 0, 7, 1, 4, 4, 0, 9, 9, 2, 0, 8, 0, 5, 7, 8, 8, 4, 7, 6, 6, 4, 8, 1, 6, 4, 6, 0, 7, 5, 8, 7, 7, 7, 5, 0, 7, 6, 6, 4, 0, 3, 4, 4, 0, 2, 9, 4, 5, 4, 4, 1, 4, 5, 9, 0, 5, 6, 4, 5, 0, 3, 6, 6, 6, 7, 6, 7, 4, 3, 4, 7, 1, 2, 3, 4, 6, 4, 0, 9, 9, 6, 8, 0, 4, 0, 0, 1, 9, 3, 9, 6, 8, 6, 9, 4, 7, 9, 1, 5, 8, 1, 0, 0, 4, 4, 8, 0, 3, 3, 0, 0, 0, 3, 6, 1, 0, 8, 4, 9, 3, 0, 6, 5, 8, 8, 8, 6, 1, 6, 8, 9, 8, 5, 8, 7, 0, 7, 4, 7, 3, 5, 5, 8, 3, 6, 8, 5, 9, 9, 2, 0, 6, 7, 1, 8, 8, 8, 7, 4, 0, 9, 7, 9, 6, 9, 4, 1, 4, 7, 4, 5, 2, 6, 4, 9, 0, 7, 1, 9, 7, 6, 5, 0, 8, 4, 9, 3, 9, 5, 7, 5, 1, 3, 3, 2, 6, 9, 5, 3, 5, 5, 8, 7, 7, 4, 6, 5, 5, 6, 4, 8, 3, 0, 9, 4, 0, 4, 8, 7, 4, 5, 7, 1, 4, 8, 1, 4, 7, 8, 4, 6, 7, 4, 6, 2, 6, 4, 2, 3, 0, 5, 2, 3, 6, 8, 5, 6, 9, 4, 6, 4, 8, 3, 5, 1, 0, 9, 1, 4, 9, 6, 7, 4, 6, 0, 4, 5, 6, 3, 5, 6, 5, 1, 7, 9, 4, 6, 7, 3, 0, 4, 8, 1, 0, 9, 9, 9, 8, 4, 6, 9, 7, 7, 5, 8, 8, 7, 5, 3, 5, 5, 0, 8, 9, 7, 2, 1, 2, 7, 1, 3, 6, 3, 2, 6, 9, 4, 7, 7, 6, 5, 0, 8, 8, 4, 8, 5, 6, 0, 7, 3, 0, 0, 4, 5, 2, 0, 7, 7, 5, 1, 5, 4, 3, 8, 5, 4, 4, 8, 7, 7, 6, 7, 1, 0, 9, 5, 3, 9, 3, 5, 0, 7, 4, 4, 0, 1, 4, 5, 9, 3, 4, 8, 5, 7, 3, 1, 4, 0, 8, 1, 8, 5, 6, 9, 3, 3, 8, 6, 4, 2, 0, 3, 4, 4, 3, 4, 5, 9, 1, 1, 9, 4, 7, 0, 3, 6, 0, 0, 7, 7, 0, 7, 8, 0, 5, 6, 4, 4, 8, 9, 7, 4, 9, 5, 3, 7, 4, 4, 1, 9, 7, 8, 1, 3, 9, 3, 6, 7, 8, 6, 5, 8, 9, 9, 9, 7, 0, 2, 4, 3, 4, 6, 9, 5, 3, 9, 4, 8, 6, 6, 0, 4, 1, 9, 3, 3, 5, 1, 5, 5, 9, 2, 8, 5, 5, 9, 5, 6, 0, 7, 3, 5, 4, 4, 6, 9, 4, 8, 1, 9, 4, 6, 6, 4, 6, 8, 7, 7, 6, 9, 3, 9, 6, 8, 4, 6, 9, 0, 4, 4, 5, 5, 0, 4, 6, 4, 1, 3, 1, 6, 7, 8, 8, 9, 7, 6, 5, 7, 3, 6, 0, 4, 6, 3, 6, 8, 8, 8, 0, 2, 3, 4, 8, 6, 1, 4, 1, 1, 6, 3, 4, 6, 8, 0, 6, 4, 1, 6, 6, 7, 0, 2, 7, 9, 9, 4, 7, 0, 9, 9, 8, 4, 8, 3, 4, 0, 9, 6, 4, 4, 3, 8, 2, 0, 6, 9, 6, 4, 7, 3, 7, 8, 8, 4, 4, 8, 8, 0, 1, 5, 8, 9, 8, 7, 2, 6, 3, 4, 0, 0, 9, 3, 9, 9, 1, 5, 9, 4, 1, 7, 0, 1, 0, 5, 3, 8, 8, 4, 1, 7, 6, 5, 0, 4, 1, 7, 1, 7, 9, 4, 3, 9, 6, 2, 9, 3, 5, 8, 8, 4, 4, 7, 7, 4, 2, 0, 5, 5, 3, 8, 6, 5, 6, 8, 5, 6, 9, 1, 3, 1, 2, 5, 9, 3, 7, 0, 3, 5, 2, 1, 5, 8, 5, 4, 0, 9, 1, 9, 1, 7, 1, 8, 6, 3, 4, 6, 2, 6, 3, 3, 8, 8, 0, 3, 2, 8, 1, 6, 3, 3, 4, 4, 1, 8, 3, 4, 6, 2, 4, 4, 3, 7, 4, 3, 0, 4, 5, 7, 1, 6, 1, 6, 6, 6, 8, 9, 1, 2, 5, 4, 8, 1, 7, 1, 6, 4, 9, 4, 2, 1, 5, 6, 3, 5, 8, 7, 7, 7, 4, 7, 5, 2, 6, 4, 0, 4, 6, 9, 9, 5, 8, 0, 6, 4, 1, 3, 7, 2, 0, 0, 9, 8, 5, 0, 0, 7, 1, 9, 5, 8, 4, 0, 9, 9, 1, 4, 6, 3, 4, 4, 5, 1, 0, 4, 8, 3, 4, 8, 4, 4, 0, 0, 3, 6, 7, 4, 4, 1, 7, 3, 6, 7, 9, 5, 1, 5, 5, 9, 1, 4, 6, 1, 6, 8, 4, 5, 7, 8, 0, 2, 4, 7, 4, 7, 5, 0, 8, 7, 8, 6, 4, 9, 2, 5, 5, 9, 9, 4, 4, 2, 6, 0, 2, 8, 7, 6, 4, 7, 5, 4, 7, 0, 3, 4, 4, 8, 4, 0, 2, 9, 6, 5, 6, 6, 2, 8, 0, 6, 4, 3, 4, 5, 5, 8, 0, 7, 0, 8, 9, 0, 4, 1, 4, 5, 1, 6, 4, 9, 6, 4, 9, 9, 1, 4, 3, 1, 6, 8, 0, 3, 3, 4, 4, 0, 4, 3, 6, 5, 4, 3, 4, 0, 6, 5, 4, 6, 1, 0, 4, 4, 2, 7, 9, 6, 4, 3, 3, 6, 8, 5, 4, 0, 6, 3, 3, 5, 4, 5, 1, 5, 5, 1, 9, 5, 4, 1, 8, 8, 0, 9, 6, 4, 0, 3, 4, 1, 8, 3, 4, 4, 1, 6, 0, 3, 0, 8, 5, 1, 5, 0, 4, 6, 3, 9, 8, 6, 0, 1, 0, 2, 6, 4, 6, 3, 7, 5, 0, 6, 4, 0, 8, 4, 6, 1, 8, 6, 8, 4, 9, 4, 6, 8, 5, 6, 7, 3, 6, 4, 6, 6, 6, 8, 5, 4, 1, 5, 4, 8, 4, 9, 3, 6, 3, 6, 4, 4, 7, 7, 9, 0, 4, 9, 6, 3, 5, 8, 7, 7, 0, 7, 7, 0, 7, 7, 4, 9, 7, 2, 2, 6, 3, 8, 0, 1, 9, 8, 0, 6, 2, 6, 3, 8, 0, 7, 6, 3, 3, 8, 1, 3, 8, 7, 3, 6, 3, 4, 8, 8, 9, 1, 3, 2, 1, 4, 8, 6, 4, 4, 7, 3, 9, 4, 9, 0, 4, 6, 5, 7, 0, 8, 1, 7, 5, 4, 9, 5, 7, 3, 2, 0, 9, 8, 7, 3, 7, 7, 4, 7, 5, 8, 8, 4, 4, 6, 4, 3, 8, 9, 7, 1, 3, 4, 2, 9, 7, 1, 4, 2, 6, 0, 5, 5, 2, 5, 2, 8, 9, 4, 9, 9, 4, 4, 8, 1, 5, 5, 5, 6, 8, 1, 5, 5, 7, 7, 9, 8, 2, 1, 1, 4, 6, 6, 9, 3, 4, 6, 4, 8, 6, 5, 4, 9, 0, 4, 8, 4, 8, 4, 3, 6, 1, 4, 3, 3, 8, 2, 9, 9, 0, 7, 9, 5, 3, 1, 7, 4, 8, 4, 9, 0, 1, 6, 0, 5, 8, 1, 9, 3, 0, 8, 3, 8, 4, 4, 5, 6, 9, 6, 1, 4, 6, 7, 9, 0, 1, 3, 9, 5, 1, 4, 1, 1, 4, 8, 6, 9, 5, 4, 4, 3, 7, 7, 7, 6, 3, 5, 1, 9, 4, 4, 0, 7, 2, 2, 9, 7, 0, 6, 4, 9, 0, 4, 0, 4, 7, 9, 2, 1, 1, 6, 0, 8, 8, 7, 4, 4, 7, 5, 7, 6, 1, 8, 1, 4, 9, 8, 9, 2, 1, 0, 2, 0, 3, 0, 6, 4, 1, 9, 7, 1, 4, 4, 5, 3, 4, 1, 7, 4, 7, 0, 4, 8, 8, 1, 3, 9, 7, 6, 3, 4, 9, 3, 9, 8, 5, 3, 8, 4, 7, 1, 4, 1, 9, 2, 8, 3, 4, 4, 6, 1, 1, 5, 8, 6, 1, 6, 2, 9, 0, 9, 5, 3, 5, 0, 6, 5, 6, 8, 3, 8, 0, 0, 9, 5, 1, 5, 3, 2, 6, 5, 3, 6, 3, 0, 7, 4, 0, 4, 1, 9, 5, 1, 7, 5, 5, 5, 9, 4, 8, 4, 8, 6, 4, 4, 4, 1, 1, 4, 4, 8, 4, 9, 0, 5, 8, 1, 3, 8, 3, 4, 4, 8, 6, 2, 9, 3, 2, 9, 7, 4, 6, 4, 6, 8, 9, 2, 1, 4, 7, 7, 9, 7, 3, 2, 9, 4, 7, 3, 6, 2, 0, 5, 4, 3, 3, 1, 9, 5, 8, 4, 3, 5, 0, 0, 4, 5, 8, 3, 5, 0, 7, 7, 2, 0, 9, 5, 1, 4, 4, 5, 3, 0, 6, 1, 4, 0, 5, 4, 8, 5, 7, 1, 6, 8, 3, 5, 4, 4, 9, 8, 9, 5, 8, 1, 8, 5, 0, 1, 5, 3, 3, 3, 3, 4, 4, 3, 6, 7, 8, 0, 9, 6, 0, 0, 4, 4, 7, 3, 5, 7, 3, 7, 8, 6, 6, 4, 4, 3, 1, 0, 5, 5, 0, 6, 4, 1, 1, 4, 7, 2, 3, 5, 5, 0, 4, 4, 4, 8, 9, 9, 2, 0, 9, 8, 3, 7, 3, 1, 4, 5, 0, 1, 8, 5, 8, 4, 0, 7, 8, 9, 4, 4, 6, 3, 2, 6, 4, 7, 9, 1, 9, 7, 2, 5, 0, 3, 4, 4, 5, 6, 3, 5, 8, 6, 4, 4, 9, 4, 7, 8, 0, 0, 4, 7, 7, 5, 9, 5, 7, 3, 8, 7, 5, 9, 9, 8, 4, 1, 0, 8, 0, 4, 6, 7, 9, 6, 4, 5, 4, 3, 4, 1, 1, 9, 0, 5, 5, 4, 9, 8, 9, 6, 9, 2, 0, 6, 5, 7, 8, 4, 8, 8, 7, 4, 9, 3, 9, 6, 9, 7, 3, 9, 9, 3, 0, 6, 2, 6, 7, 9, 4, 0, 1, 4, 1, 0, 3, 8, 4, 8, 4, 4, 2, 3, 5, 7, 7, 8, 5, 2, 3, 2, 1, 8, 3, 8, 8, 4, 6, 3, 0, 8, 3, 3, 4, 9, 0, 9, 9, 0, 1, 8, 0, 6, 3, 8, 6, 8, 5, 1, 3, 6, 1, 9, 3, 5, 0, 6, 4, 6, 1, 5, 3, 4, 8, 5, 7, 8, 0, 1, 3, 0, 6, 4, 5, 9, 6, 7, 4, 3, 6, 4, 2, 3, 3, 9, 4, 7, 0, 8, 6, 5, 6, 4, 0, 1, 3, 9, 4, 4, 5, 6, 5, 3, 2, 5, 6, 0, 8, 0, 6, 9, 1, 3, 4, 6, 5, 9, 2, 6, 1, 4, 9, 7, 2, 4, 7, 5, 7, 1, 4, 8, 7, 9, 5, 7, 0, 2, 9, 4, 5, 0, 7, 6, 4, 5, 6, 7, 4, 3, 4, 5, 9, 4, 5, 7, 7, 3, 8, 6, 9, 6, 5, 3, 6, 7, 6, 9, 5, 1, 3, 4, 9, 1, 2, 2, 5, 3, 2, 9, 9, 1, 6, 2, 4, 6, 4, 8, 7, 9, 9, 4, 8, 8, 9, 0, 7, 6, 4, 0, 8, 6, 4, 2, 0, 1, 4, 0, 2, 1, 5, 4, 6, 6, 0, 3, 4, 5, 6, 8, 7, 6, 6, 3, 1, 8, 6, 8, 9, 9, 5, 5, 8, 2, 5, 4, 4, 4, 5, 4, 9, 4, 7, 1, 0, 6, 4, 6, 9, 8, 3, 4, 9, 1, 9, 4, 7, 3, 5, 4, 3, 4, 2, 1, 0, 6, 4, 3, 7, 8, 4, 7, 5, 9, 0, 4, 3, 4, 5, 5, 5, 7, 6, 1, 3, 3, 7, 0, 5, 7, 6, 8, 3, 5, 5, 8, 1, 9, 4, 6, 4, 2, 1, 6, 0, 1, 4, 5, 3, 8, 1, 1, 7, 6, 2, 5, 9, 0, 8, 3, 2, 4, 4, 7, 0, 5, 3, 6, 4, 1, 7, 1, 6, 4, 3, 4, 0, 0, 6, 2, 8, 7, 0, 0, 6, 4, 7, 3, 4, 6, 0, 4, 4, 4, 1, 8, 1, 9, 1, 4, 2, 4, 2, 5, 3, 3, 5, 3, 5, 8, 3, 9, 7, 3, 0, 6, 1, 0, 1, 0, 7, 7, 6, 8, 9, 6, 1, 5, 4, 9, 4, 7, 9, 9, 9, 0, 1, 0, 9, 9, 5, 1, 7, 4, 9, 3, 5, 6, 8, 1, 7, 3, 3, 8, 2, 7, 8, 8, 9, 6, 8, 4, 5, 6, 4, 5, 9, 0, 0, 5, 3, 7, 7, 4, 4, 7, 4, 5, 8, 3, 7, 4, 7, 3, 8, 8, 8, 7, 8, 6, 0, 5, 7, 9, 8, 5, 2, 0, 6, 4, 2, 2, 8, 9, 9, 1, 9, 5, 8, 4, 4, 6, 4, 6, 7, 4, 8, 3, 0, 7, 8, 8, 4, 9, 9, 5, 9, 4, 6, 9, 7, 5, 7, 4, 9, 9, 2, 3, 9, 5, 3, 5, 3, 1, 4, 9, 1, 2, 8, 5, 1, 7, 9, 6, 3, 3, 6, 9, 3, 4, 6, 0, 0, 4, 9, 7, 1, 9, 8, 5, 4, 8, 5, 9, 5, 2, 4, 6, 5, 4, 4, 5, 4, 4, 7, 1, 6, 0, 2, 6, 5, 6, 4, 6, 7, 5, 5, 1, 5, 4, 2, 4, 4, 4, 1, 9, 6, 7, 4, 7, 4, 2, 9, 7, 4, 4, 6, 1, 7, 1, 4, 7, 0, 1, 7, 3, 0, 3, 8, 6, 8, 0, 4, 1, 7, 9, 0, 4, 9, 2, 6, 7, 1, 9, 5, 6, 9, 8, 2, 4, 0, 3, 3, 2, 2, 8, 1, 0, 8, 1, 8, 1, 0, 1, 4, 7, 3, 7, 7, 3, 3, 9, 9, 0, 6, 4, 5, 8, 9, 2, 3, 5, 4, 1, 6, 9, 2, 3, 4, 6, 1, 8, 1, 4, 4, 0, 6, 1, 7, 0, 5, 4, 5, 3, 6, 4, 1, 2, 0, 7, 6, 6, 4, 3, 4, 2, 5, 4, 9, 6, 8, 0, 4, 2, 6, 1, 7, 5, 3, 3, 3, 4, 6, 3, 5, 6, 6, 4, 5, 1, 4, 4, 4, 1, 9, 3, 6, 6, 9, 7, 8, 0, 0, 3, 6, 0, 8, 1, 4, 3, 3, 1, 5, 5, 3, 4, 4, 7, 1, 3, 0, 3, 6, 1, 4, 4, 8, 6, 8, 2, 7, 0, 3, 1, 3, 6, 3, 4, 1, 4, 0, 0, 6, 7, 7, 8, 3, 6, 9, 5, 6, 0, 9, 9, 4, 3, 8, 7, 3, 6, 3, 7, 9, 0, 2, 5, 1, 0, 5, 0, 3, 9, 7, 9, 6, 0, 7, 1, 6, 0, 8, 6, 4, 2, 7, 8, 6, 2, 4, 6, 9, 7, 3, 4, 5, 4, 5, 1, 9, 5, 0, 5, 6, 4, 1, 7, 9, 3, 4, 3, 2, 9, 1, 0, 3, 9, 5, 2, 8, 4, 4, 1, 4, 0, 0, 7, 5, 0, 3, 1, 4, 1, 6, 9, 8, 1, 3, 7, 3, 9, 9, 5, 4, 4, 3, 6, 8, 8, 5, 5, 1, 6, 8, 5, 7, 9, 9, 3, 4, 4, 4, 7, 9, 4, 6, 7, 5, 4, 7, 6, 1, 4, 2, 4, 0, 9, 0, 0, 5, 1, 1, 7, 8, 3, 2, 6, 4, 0, 6, 4, 9, 5, 2, 4, 4, 4, 0, 1, 5, 4, 7, 8, 6, 7, 7, 0, 8, 4, 3, 6, 9, 1, 4, 1, 7, 4, 3, 4, 9, 9, 6, 2, 4, 3, 3, 5, 7, 5, 4, 7, 8, 9, 9, 2, 7, 8, 7, 7, 5, 8, 7, 6, 6, 9, 0, 1, 8, 7, 5, 6, 5, 3, 7, 6, 6, 5, 5, 4, 9, 9, 1, 9, 5, 9, 4, 4, 1, 9, 8, 3, 5, 1, 8, 6, 5, 3, 4, 3, 7, 1, 1, 1, 8, 7, 5, 4, 3, 4, 7, 0, 0, 5, 3, 4, 8, 6, 5, 4, 7, 3, 6, 3, 4, 7, 8, 0, 7, 0, 9, 5, 8, 0, 7, 3, 5, 0, 9, 7, 3, 6, 6, 5, 7, 8, 4, 3, 1, 9, 0, 2, 9, 1, 3, 4, 6, 3, 6, 6, 4, 4, 8, 6, 2, 9, 5, 0, 1, 8, 4, 4, 1, 4, 2, 9, 1, 3, 7, 9, 6, 3, 5, 2, 5, 9, 8, 5, 3, 0, 1, 4, 2, 2, 1, 9, 2, 4, 0, 5, 5, 4, 4, 6, 0, 1, 4, 9, 9, 7, 0, 1, 4, 0, 0, 2, 6, 2, 5, 9, 4, 8, 4, 6, 1, 5, 9, 4, 1, 6, 9, 3, 1, 7, 1, 1, 1, 9, 1, 3, 8, 9, 9, 1, 9, 6, 0, 5, 8, 5, 5, 5, 3, 8, 9, 4, 7, 8, 4, 9, 6, 0, 1, 5, 0, 7, 8, 0, 0, 9, 1, 1, 8, 4, 8, 9, 2, 0, 7, 0, 3, 0, 5, 1, 6, 8, 4, 3, 7, 6, 3, 9, 7, 4, 1, 3, 7, 4, 4, 0, 3, 7, 5, 1, 1, 9, 5, 3, 5, 4, 6, 6, 1, 5, 4, 1, 6, 4, 5, 9, 9, 4, 4, 4, 1, 7, 9, 0, 5, 7, 0, 3, 8, 4, 1, 8, 2, 5, 6, 2, 8, 9, 2, 9, 3, 4, 4, 1, 1, 6, 4, 1, 0, 9, 6, 5, 9, 1, 5, 6, 9, 4, 4, 1, 7, 2, 9, 8, 8, 9, 8, 5, 3, 8, 4, 0, 3, 2, 1, 1, 9, 8, 9, 7, 5, 3, 2, 5, 5, 5, 4, 6, 9, 9, 3, 0, 6, 4, 1, 7, 4, 9, 2, 8, 5, 8, 6, 0, 1, 3, 4, 4, 3, 6, 6, 6, 6, 8, 3, 4, 6, 6, 1, 8, 6, 5, 4, 4, 3, 9, 0, 4, 3, 4, 5, 4, 4, 7, 3, 7, 3, 3, 6, 9, 6, 8, 5, 6, 6, 3, 6, 7, 2, 5, 3, 1, 1, 9, 7, 5, 4, 2, 1, 6, 4, 5, 9, 4, 5, 5, 4, 3, 0, 9, 2, 4, 2, 6, 4, 1, 9, 4, 3, 3, 6, 4, 0, 4, 1, 3, 7, 4, 6, 4, 4, 3, 2, 3, 0, 8, 3, 5, 1, 4, 3, 8, 4, 1, 2, 1, 1, 9, 6, 5, 9, 6, 8, 0, 3, 4, 3, 6, 3, 7, 5, 4, 1, 1, 4, 0, 5, 5, 0, 1, 0, 5, 4, 8, 9, 7, 9, 1, 1, 3, 3, 5, 0, 7, 5, 9, 2, 9, 3, 0, 6, 4, 8, 5, 0, 7, 9, 8, 3, 8, 1, 3, 3, 3, 5, 4, 5, 2, 4, 9, 6, 7, 1, 6, 8, 3, 7, 7, 6, 7, 9, 4, 7, 7, 0, 1, 6, 1, 4, 8, 2, 4, 7, 4, 7, 1, 8, 7, 5, 1, 3, 1, 6, 3, 6, 5, 3, 8, 6, 3, 4, 9, 0, 1, 5, 3, 0, 7, 0, 6, 4, 5, 1, 6, 6, 3, 8, 6, 9, 8, 6, 7, 0, 2, 4, 5, 1, 9, 6, 3, 8, 7, 1, 8, 1, 4, 0, 9, 4, 4, 3, 4, 6, 1, 3, 5, 4, 9, 7, 5, 3, 5, 5, 5, 6, 4, 8, 0, 7, 0, 8, 6, 4, 1, 7, 7, 7, 6, 8, 0, 3, 0, 9, 8, 5, 6, 4, 8, 1, 5, 5, 7, 0, 1, 6, 1, 3, 4, 4, 4, 4, 1, 7, 6, 4, 2, 6, 1, 8, 4, 4, 6, 3, 0, 8, 8, 4, 6, 4, 0, 7, 0, 8, 9, 1, 4, 2, 7, 6, 8, 1, 8, 4, 2, 2, 7, 5, 7, 9, 9, 3, 9, 4, 4, 0, 2, 1, 4, 8, 2, 4, 7, 6, 4, 4, 9, 1, 8, 0, 6, 4, 4, 0, 3, 2, 6, 1, 3, 6, 3, 4, 1, 7, 8, 1, 0, 7, 6, 5, 6, 0, 4, 8, 5, 8, 7, 8, 4, 5, 9, 5, 5, 1, 4, 4, 7, 2, 9, 7, 8, 6, 7, 4, 6, 3, 8, 8, 4, 5, 1, 8, 6, 4, 4, 2, 9, 8, 9, 0, 2, 7, 9, 3, 5, 9, 8, 4, 3, 9, 5, 9, 3, 0, 8, 6, 3, 6, 3, 5, 8, 0, 0, 3, 8, 4, 9, 0, 0, 7, 2, 0, 6, 7, 2, 8, 8, 4, 6, 3, 6, 7, 1, 2, 7, 4, 6, 7, 1, 6, 5, 4, 0, 7, 9, 6, 2, 8, 6, 1, 1, 8, 8, 0, 5, 7, 7, 4, 9, 4, 3, 9, 3, 8, 9, 0, 4, 0, 4, 5, 7, 0, 6, 3, 9, 5, 7, 2, 6, 5, 8, 3, 1, 3, 5, 4, 9, 4, 3, 9, 7, 4, 0, 6, 6, 9, 1, 9, 9, 0, 7, 1, 4, 5, 0, 3, 8, 7, 4, 9, 5, 9, 3, 2, 0, 6, 9, 0, 5, 0, 1, 3, 7, 9, 1, 5, 9, 3, 0, 9, 7, 4, 9, 4, 1, 6, 7, 5, 1, 0, 7, 3, 4, 7, 2, 4, 6, 8, 5, 7, 9, 5, 7, 3, 4, 3, 9, 0, 3, 1, 5, 6, 9, 7, 2, 0, 6, 5, 8, 0, 7, 7, 3, 4, 0, 4, 8, 4, 0, 6, 9, 8, 9, 6, 5, 0, 6, 0, 4, 6, 3, 1, 8, 7, 4, 1, 9, 1, 4, 6, 5, 2, 3, 6, 0, 2, 6, 6, 7, 2, 1, 8, 4, 8, 7, 9, 4, 1, 4, 5, 7, 7, 3, 6, 5, 7, 0, 6, 7, 3, 4, 6, 9, 6, 7, 3, 9, 1, 2, 1, 9, 7, 2, 3, 3, 8, 1, 8, 3, 5, 0, 5, 3, 8, 9, 7, 6, 9, 0, 6, 8, 4, 6, 3, 3, 6, 3, 7, 8, 7, 1, 3, 7, 8, 9, 5, 5, 4, 4, 4, 5, 0, 8, 6, 6, 6, 0, 8, 8, 9, 2, 9, 1, 5, 1, 4, 1, 6, 0, 4, 2, 4, 5, 7, 5, 9, 4, 0, 5, 7, 6, 5, 6, 5, 6, 6, 2, 0, 7, 1, 5, 4, 9, 8, 1, 7, 6, 4, 6, 0, 7, 1, 8, 5, 7, 8, 5, 5, 1, 8, 5, 7, 7, 7, 2, 5, 4, 4, 1, 2, 4, 4, 1, 6, 6, 9, 1, 8, 4, 6, 7, 4, 9, 5, 9, 4, 3, 9, 5, 6, 2, 4, 7, 3, 9, 0, 0, 5, 9, 6, 9, 2, 0, 2, 5, 9, 1, 2, 5, 2, 0, 4, 3, 1, 1, 1, 7, 2, 4, 2, 5, 9, 8, 7, 9, 3, 4, 7, 9, 2, 0, 1, 1, 1, 4, 8, 6, 8, 0, 5, 5, 6, 7, 6, 8, 4, 4, 2, 4, 6, 4, 5, 7, 4, 9, 8, 4, 4, 4, 0, 7, 4, 5, 2, 3, 0, 1, 9, 8, 1, 8, 2, 2, 3, 9, 1, 9, 7, 2, 9, 6, 9, 3, 0, 6, 6, 6, 2, 4, 0, 9, 4, 1, 1, 0, 5, 6, 7, 0, 4, 1, 1, 7, 0, 0, 1, 9, 6, 7, 3, 5, 4, 1, 6, 6, 8, 0, 3, 6, 4, 3, 5, 9, 5, 8, 9, 3, 1, 7, 8, 9, 4, 1, 1, 9, 0, 7, 0, 0, 9, 3, 0, 4, 9, 6, 8, 5, 5, 9, 3, 3, 5, 7, 1, 3, 3, 3, 5, 6, 0, 4, 1, 1, 9, 1, 4, 6, 6, 6, 4, 6, 2, 0, 4, 5, 0, 3, 0, 5, 1, 1, 8, 4, 5, 3, 5, 1, 6, 2, 3, 1, 2, 7, 9, 2, 3, 8, 5, 2, 6, 9, 1, 5, 7, 7, 2, 4, 4, 7, 5, 4, 1, 5, 7, 7, 8, 2, 8, 3, 7, 4, 0, 6, 9, 9, 0, 0, 7, 3, 1, 0, 8, 4, 4, 4, 4, 7, 1, 8, 4, 6, 3, 4, 6, 6, 9, 8, 0, 3, 8, 3, 9, 4, 1, 5, 6, 5, 0, 6, 4, 2, 5, 9, 3, 0, 4, 7, 8, 5, 9, 5, 0, 0, 6, 9, 7, 2, 9, 2, 2, 6, 4, 0, 1, 2, 3, 9, 4, 0, 3, 4, 4, 6, 9, 4, 7, 6, 5, 4, 3, 4, 5, 5, 0, 2, 1, 1, 8, 7, 3, 4, 6, 9, 4, 3, 8, 8, 8, 9, 6, 0, 9, 4, 6, 3, 0, 8, 6, 8, 8, 5, 9, 6, 7, 1, 9, 0, 3, 3, 3, 4, 3, 9, 9, 5, 3, 6, 4, 2, 4, 6, 4, 5, 3, 4, 9, 8, 5, 8, 3, 4, 1, 4, 8, 8, 4, 2, 2, 3, 5, 0, 3, 5, 4, 5, 3, 9, 1, 0, 9, 8, 9, 3, 8, 8, 5, 5, 8, 2, 4, 6, 8, 3, 0, 4, 9, 2, 1, 0, 5, 1, 4, 3, 9, 4, 6, 3, 6, 7, 2, 6, 4, 3, 8, 5, 1, 8, 3, 2, 4, 5, 0, 0, 7, 8, 7, 4, 2, 4, 6, 9, 3, 5, 0, 9, 9, 0, 1, 3, 7, 1, 9, 6, 7, 4, 2, 9, 5, 7, 9, 2, 4, 8, 3, 1, 7, 8, 8, 6, 8, 0, 5, 5, 7, 1, 9, 6, 4, 1, 5, 1, 9, 0, 1, 6, 3, 2, 5, 3, 9, 3, 5, 4, 0, 6, 9, 5, 4, 6, 3, 8, 5, 8, 0, 6, 4, 1, 4, 9, 5, 8, 9, 8, 3, 2, 9, 5, 9, 1, 1, 1, 8, 2, 1, 4, 6, 9, 9, 8, 9, 7, 4, 0, 1, 9, 9, 1, 9, 6, 6, 3, 7, 3, 1, 6, 6, 8, 3, 2, 3, 3, 8, 4, 7, 1, 6, 3, 8, 4, 7, 9, 8, 0, 3, 0, 4, 5, 7, 2, 7, 0, 5, 0, 4, 6, 3, 3, 0, 6, 4, 4, 4, 4, 6, 9, 9, 6, 7, 4, 0, 4, 6, 1, 9, 5, 9, 9, 0, 5, 8, 4, 7, 3, 9, 5, 2, 8, 9, 5, 8, 0, 0, 4, 0, 6, 3, 7, 8, 0, 1, 4, 4, 6, 1, 1, 6, 4, 6, 5, 4, 2, 9, 3, 4, 2, 3, 7, 4, 9, 4, 1, 4, 7, 5, 5, 9, 4, 0, 9, 7, 9, 7, 4, 1, 8, 3, 3, 8, 0, 8, 7, 0, 7, 7, 9, 4, 4, 2, 3, 7, 0, 1, 5, 4, 0, 5, 8, 6, 7, 0, 1, 0, 5, 6, 4, 1, 4, 1, 8, 7, 9, 5, 7, 3, 2, 4, 4, 7, 6, 3, 9, 6, 0, 9, 5, 1, 6, 9, 8, 7, 4, 3, 5, 7, 4, 7, 4, 8, 7, 5, 4, 5, 9, 4, 3, 5, 0, 4, 5, 5, 3, 1, 9, 0, 7, 1, 0, 3, 4, 4, 4, 5, 7, 4, 1, 1, 7, 7, 7, 0, 1, 6, 8, 5, 4, 5, 2, 7, 8, 7, 7, 0, 8, 5, 6, 0, 5, 5, 6, 7, 7, 9, 7, 1, 0, 0, 8, 0, 4, 0, 6, 4, 5, 5, 0, 5, 3, 6, 4, 5, 6, 7, 1, 8, 7, 1, 6, 4, 6, 2, 5, 3, 7, 4, 8, 6, 3, 9, 4, 6, 6, 0, 8, 7, 3, 3, 0, 5, 6, 1, 5, 0, 9, 9, 1, 3, 6, 6, 1, 2, 6, 5, 7, 6, 4, 0, 9, 4, 0, 8, 4, 8, 3, 7, 7, 3, 3, 9, 5, 7, 6, 0, 9, 4, 5, 0, 7, 6, 9, 5, 5, 8, 7, 4, 9, 5, 6, 3, 6, 3, 0, 4, 7, 6, 4, 6, 5, 4, 1, 5, 7, 9, 9, 3, 9, 8, 8, 5, 1, 9, 6, 3, 0, 6, 8, 0, 7, 6, 9, 8, 8, 4, 3, 4, 1, 7, 7, 1, 2, 6, 7, 0, 3, 4, 8, 7, 8, 7, 9, 1, 1, 3, 8, 7, 5, 9, 1, 0, 6, 3, 4, 4, 4, 7, 1, 4, 0, 1, 5, 6, 4, 5, 4, 4, 4, 4, 6, 7, 7, 4, 7, 1, 4, 0, 8, 3, 3, 5, 2, 0, 8, 3, 0, 2, 0, 1, 8, 4, 0, 4, 9, 5, 2, 4, 5, 4, 1, 6, 4, 4, 5, 8, 0, 7, 3, 0, 6, 7, 6, 4, 3, 6, 4, 4, 6, 3, 2, 5, 1, 7, 5, 4, 5, 7, 9, 9, 9, 9, 2, 6, 9, 4, 0, 5, 5, 5, 0, 5, 6, 0, 6, 0, 4, 9, 9, 4, 4, 5, 4, 0, 1, 0, 8, 9, 5, 7, 3, 0, 2, 4, 1, 6, 8, 1, 8, 4, 6, 6, 9, 8, 5, 1, 4, 4, 0, 9, 6, 8, 8, 0, 7, 3, 6, 9, 8, 9, 9, 2, 9, 6, 3, 3, 4, 5, 0, 8, 0, 4, 6, 3, 0, 0, 0, 3, 3, 5, 9, 4, 7, 1, 5, 4, 1, 4, 1, 7, 9, 4, 6, 4, 5, 6, 9, 4, 9, 8, 8, 7, 2, 4, 3, 9, 3, 6, 7, 6, 4, 5, 0, 2, 1, 0, 5, 7, 3, 5, 9, 6, 3, 2, 8, 5, 8, 1, 9, 2, 7, 6, 7, 3, 0, 2, 5, 8, 8, 8, 8, 7, 4, 0, 5, 1, 5, 9, 6, 0, 9, 5, 8, 5, 7, 3, 9, 8, 3, 4, 6, 5, 7, 5, 1, 1, 5, 4, 1, 6, 5, 8, 4, 9, 6, 3, 3, 4, 0, 6, 4, 1, 1, 4, 7, 6, 7, 0, 4, 6, 8, 8, 8, 7, 7, 1, 4, 6, 4, 1, 6, 0, 4, 5, 8, 2, 4, 6, 6, 1, 5, 5, 4, 4, 0, 5, 4, 7, 0, 3, 4, 5, 5, 7, 5, 7, 0, 1, 1, 9, 7, 9, 0, 1, 9, 6, 3, 6, 5, 4, 0, 4, 5, 7, 2, 2, 4, 4, 5, 2, 2, 3, 7, 8, 6, 4, 4, 1, 1, 7, 5, 4, 5, 3, 0, 8, 5, 8, 6, 4, 1, 4, 3, 7, 2, 9, 0, 4, 7, 4, 3, 2, 9, 5, 5, 9, 4, 6, 4, 1, 1, 8, 9, 6, 4, 2, 3, 3, 0, 7, 1, 8, 8, 5, 0, 3, 7, 7, 1, 0, 1, 4, 1, 5, 0, 4, 1, 1, 0, 9, 3, 7, 4, 9, 0, 1, 8, 9, 0, 6, 6, 0, 9, 1, 6, 1, 4, 7, 8, 0, 5, 6, 8, 4, 5, 5, 1, 5, 9, 1, 8, 5, 3, 1, 2, 4, 3, 7, 3, 5, 4, 8, 0, 7, 1, 4, 3, 9, 8, 3, 8, 7, 7, 9, 7, 0, 9, 4, 0, 9, 6, 1, 9, 8, 6, 3, 7, 2, 9, 5, 4, 7, 1, 0, 1, 2, 3, 9, 2, 0, 5, 6, 0, 5, 5, 4, 6, 9, 9, 1, 6, 7, 7, 7, 4, 5, 1, 4, 0, 2, 3, 8, 9, 8, 4, 1, 0, 8, 3, 9, 8, 8, 7, 8, 3, 2, 0, 7, 2, 8, 6, 9, 9, 6, 7, 7, 2, 4, 1, 5, 2, 2, 0, 5, 5, 0, 8, 4, 7, 8, 9, 4, 2, 1, 7, 4, 6, 4, 9, 4, 3, 2, 0, 7, 7, 8, 0, 9, 1, 4, 6, 4, 9, 7, 1, 9, 9, 3, 3, 1, 4, 3, 5, 6, 3, 7, 4, 1, 4, 2, 4, 7, 5, 4, 6, 7, 7, 8, 1, 8, 1, 6, 4, 5, 5, 6, 1, 4, 4, 0, 1, 4, 0, 7, 6, 8, 8, 4, 8, 4, 5, 0, 0, 1, 7, 9, 7, 3, 9, 4, 0, 4, 8, 7, 1, 6, 8, 7, 8, 6, 4, 8, 4, 8, 0, 1, 5, 3, 8, 1, 7, 4, 9, 3, 7, 9, 5, 1, 8, 3, 0, 9, 2, 6, 6, 4, 2, 7, 6, 0, 9, 8, 8, 1, 5, 7, 7, 1, 7, 5, 4, 3, 0, 7, 8, 7, 3, 7, 0, 6, 5, 5, 4, 6, 7, 2, 0, 3, 4, 0, 4, 7, 8, 6, 2, 0, 1, 5, 3, 8, 3, 9, 7, 1, 7, 1, 0, 2, 6, 5, 6, 0, 6, 4, 1, 1, 4, 9, 0, 4, 6, 1, 3, 4, 7, 0, 1, 8, 5, 7, 3, 0, 5, 0, 4, 6, 4, 2, 5, 2, 1, 8, 4, 1, 7, 3, 8, 8, 9, 9, 0, 1, 8, 1, 4, 9, 0, 3, 1, 1, 4, 7, 8, 3, 4, 9, 0, 4, 8, 4, 8, 2, 9, 4, 7, 5, 3, 3, 6, 2, 5, 7, 3, 7, 6, 6, 6, 9, 3, 6, 5, 4, 1, 6, 1, 8, 1, 9, 4, 8, 9, 9, 1, 3, 7, 0, 0, 6, 1, 6, 4, 6, 4, 2, 4, 7, 0, 0, 3, 4, 0, 0, 1, 6, 8, 6, 5, 7, 9, 4, 6, 3, 7, 5, 1, 6, 7, 7, 5, 8, 0, 9, 1, 0, 1, 2, 9, 1, 6, 5, 3, 3, 0, 7, 1, 2, 7, 9, 3, 7, 6, 4, 6, 6, 7, 4, 7, 6, 1, 7, 8, 8, 7, 0, 1, 2, 0, 9, 7, 5, 9, 1, 4, 0, 4, 7, 2, 3, 4, 1, 7, 5, 7, 8, 9, 6, 0, 3, 1, 4, 7, 9, 0, 6, 7, 8, 4, 7, 4, 0, 8, 3, 0, 1, 7, 9, 6, 9, 1, 6, 6, 7, 1, 0, 6, 3, 7, 6, 1, 8, 2, 5, 9, 5, 8, 1, 0, 9, 0, 0, 6, 1, 1, 4, 7, 3, 0, 7, 9, 6, 9, 5, 4, 0, 2, 5, 4, 3, 8, 3, 8, 1, 1, 4, 4, 8, 1, 0, 8, 1, 8, 5, 3, 6, 7, 0, 2, 4, 9, 6, 2, 3, 9, 9, 6, 9, 9, 6, 7, 3, 4, 3, 3, 9, 4, 7, 7, 8, 1, 1, 6, 2, 5, 7, 9, 4, 7, 4, 7, 0, 6, 2, 9, 7, 7, 7, 5, 6, 1, 4, 3, 2, 6, 4, 0, 9, 8, 7, 8, 4, 4, 8, 9, 9, 1, 2, 7, 9, 9, 0, 1, 5, 1, 1, 3, 6, 9, 9, 8, 3, 6, 8, 5, 4, 4, 3, 6, 8, 0, 9, 6, 6, 9, 0, 1, 4, 8, 1, 8, 2, 1, 8, 1, 7, 1, 9, 1, 8, 3, 7, 4, 1, 6, 6, 2, 4, 4, 8, 4, 4, 5, 5, 0, 4, 2, 9, 8, 0, 1, 0, 0, 4, 8, 3, 4, 7, 7, 5, 9, 4, 5, 4, 2, 9, 9, 2, 6, 7, 6, 9, 1, 4, 6, 4, 8, 3, 1, 9, 0, 1, 6, 7, 0, 8, 5, 6, 4, 6, 4, 1, 1, 9, 8, 8, 9, 4, 4, 6, 6, 5, 4, 5, 3, 8, 3, 0, 3, 6, 6, 1, 5, 0, 3, 3, 1, 9, 6, 8, 7, 8, 4, 3, 6, 4, 5, 0, 9, 0, 7, 1, 1, 7, 9, 0, 1, 2, 5, 7, 4, 2, 3, 3, 4, 1, 0, 0, 9, 9, 8, 4, 9, 6, 4, 5, 4, 7, 6, 6, 5, 4, 6, 9, 3, 7, 0, 6, 3, 5, 2, 4, 3, 4, 6, 9, 8, 8, 0, 4, 0, 6, 3, 9, 4, 4, 8, 1, 9, 4, 6, 9, 6, 0, 2, 0, 8, 7, 3, 5, 0, 2, 3, 1, 3, 0, 9, 5, 4, 3, 7, 6, 2, 6, 9, 0, 7, 0, 5, 2, 8, 4, 1, 0, 0, 4, 5, 9, 3, 5, 0, 4, 0, 7, 4, 6, 8, 3, 1, 8, 6, 3, 8, 9, 4, 0, 6, 8, 0, 8, 6, 5, 7, 0, 3, 6, 8, 1, 5, 9, 6, 4, 8, 9, 6, 1, 0, 5, 5, 4, 4, 8, 4, 6, 6, 7, 2, 5, 3, 7, 4, 5, 6, 8, 3, 9, 5, 6, 6, 4, 4, 3, 6, 2, 9, 4, 5, 6, 5, 6, 3, 1, 7, 8, 6, 4, 7, 3, 3, 8, 0, 8, 9, 4, 8, 9, 4, 9, 6, 3, 4, 6, 0, 1, 1, 9, 3, 8, 2, 1, 9, 5, 8, 4, 8, 4, 3, 5, 6, 0, 4, 9, 6, 6, 4, 9, 8, 6, 5, 9, 4, 4, 5, 4, 1, 6, 7, 4, 4, 2, 5, 4, 6, 0, 6, 1, 5, 4, 0, 1, 9, 7, 5, 6, 5, 6, 9, 6, 6, 0, 5, 4, 8, 9, 0, 9, 7, 5, 5, 7, 9, 3, 2, 8, 4, 3, 9, 3, 1, 0, 4, 5, 4, 8, 7, 9, 7, 7, 7, 9, 4, 6, 0, 6, 7, 6, 1, 8, 0, 3, 8, 5, 0, 5, 6, 9, 1, 1, 4, 0, 8, 9, 7, 7, 5, 8, 6, 1, 4, 0, 1, 8, 6, 3, 4, 7, 9, 3, 7, 5, 5, 0, 9, 1, 4, 1, 6, 7, 6, 6, 9, 3, 4, 4, 1, 7, 5, 1, 6, 5, 9, 0, 2, 9, 9, 3, 8, 8, 2, 8, 5, 7, 0, 7, 0, 9, 6, 9, 2, 9, 2, 8, 5, 3, 0, 1, 6, 4, 4, 7, 4, 1, 7, 7, 8, 5, 9, 0, 4, 6, 4, 1, 3, 8, 0, 1, 4, 7, 5, 9, 1, 0, 4, 3, 7, 6, 4, 3, 1, 8, 4, 7, 4, 5, 5, 3, 1, 5, 1, 9, 4, 9, 6, 2, 2, 1, 8, 3, 9, 8, 4, 0, 4, 8, 4, 5, 1, 6, 4, 6, 4, 2, 8, 5, 7, 7, 7, 6, 5, 5, 7, 9, 9, 8, 4, 8, 2, 1, 3, 3, 4, 8, 9, 2, 6, 5, 3, 6, 8, 1, 6, 6, 1, 0, 5, 4, 9, 7, 4, 8, 7, 3, 7, 6, 1, 4, 1, 7, 4, 8, 8, 5, 6, 4, 0, 6, 1, 6, 6, 5, 0, 1, 5, 5, 4, 5, 1, 7, 8, 7, 1, 6, 7, 0, 9, 3, 1, 9, 0, 4, 2, 6, 5, 9, 9, 4, 0, 7, 1, 8, 1, 4, 4, 3, 7, 8, 4, 0, 4, 5, 1, 4, 9, 3, 5, 8, 0, 1, 9, 6, 7, 3, 7, 4, 4, 6, 0, 4, 1, 3, 3, 6, 7, 0, 5, 9, 8, 5, 3, 7, 9, 9, 6, 8, 8, 0, 1, 4, 4, 0, 6, 8, 1, 6, 1, 0, 3, 4, 7, 8, 7, 0, 4, 3, 4, 4, 5, 7, 7, 2, 5, 4, 4, 5, 0, 1, 7, 6, 7, 6, 0, 0, 0, 5, 1, 1, 4, 4, 6, 9, 8, 1, 2, 1, 6, 8, 5, 4, 0, 4, 0, 4, 9, 3, 8, 5, 4, 8, 6, 4, 8, 6, 4, 2, 0, 8, 7, 5, 2, 8, 9, 6, 9, 5, 9, 2, 1, 6, 4, 1, 7, 7, 1, 7, 3, 5, 8, 7, 4, 5, 1, 5, 6, 0, 0, 0, 1, 6, 4, 2, 8, 0, 3, 4, 6, 3, 5, 1, 6, 3, 6, 5, 1, 8, 3, 1, 8, 5, 8, 4, 4, 0, 3, 7, 8, 1, 3, 9, 0, 4, 8, 1, 4, 8, 8, 3, 0, 8, 5, 7, 5, 4, 7, 7, 6, 1, 8, 1, 7, 7, 0, 3, 1, 6, 5, 5, 3, 8, 9, 4, 0, 9, 5, 1, 7, 6, 1, 5, 2, 6, 1, 3, 8, 7, 1, 3, 4, 4, 5, 7, 3, 2, 7, 3, 3, 7, 8, 8, 4, 5, 6, 9, 7, 3, 6, 9, 3, 6, 5, 5, 0, 9, 1, 4, 1, 5, 4, 4, 1, 4, 0, 3, 3, 6, 3, 6, 8, 2, 7, 5, 5, 7, 0, 7, 9, 2, 3, 4, 9, 4, 7, 1, 8, 8, 8, 5, 8, 3, 8, 9, 3, 8, 0, 4, 1, 8, 4, 4, 0, 0, 9, 5, 3, 1, 5, 1, 3, 5, 0, 8, 4, 1, 7, 3, 0, 8, 2, 9, 6, 9, 0, 0, 4, 1, 4, 6, 2, 9, 1, 4, 9, 7, 6, 4, 6, 0, 9, 7, 8, 5, 0, 9, 0, 0, 6, 8, 1, 3, 6, 7, 5, 8, 4, 5, 2, 8, 9, 1, 9, 1, 8, 1, 5]\n"
          ],
          "name": "stdout"
        }
      ]
    },
    {
      "cell_type": "code",
      "metadata": {
        "id": "n_QPSEvbnWXj",
        "colab_type": "code",
        "colab": {
          "base_uri": "https://localhost:8080/",
          "height": 34
        },
        "outputId": "d6c11059-010e-4f5e-fb23-647b0510a57c"
      },
      "source": [
        "np.unique(out)"
      ],
      "execution_count": 33,
      "outputs": [
        {
          "output_type": "execute_result",
          "data": {
            "text/plain": [
              "array([0, 1, 2, 3, 4, 5, 6, 7, 8, 9])"
            ]
          },
          "metadata": {
            "tags": []
          },
          "execution_count": 33
        }
      ]
    },
    {
      "cell_type": "code",
      "metadata": {
        "id": "MJFvWStlngqD",
        "colab_type": "code",
        "colab": {
          "base_uri": "https://localhost:8080/",
          "height": 351
        },
        "outputId": "afe9f46c-34f3-4daf-f162-83d9d1fb02f0"
      },
      "source": [
        "from sklearn.metrics import classification_report,accuracy_score\n",
        "acc1 = accuracy_score(testY,out1)\n",
        "report1 = classification_report(testY,out1)\n",
        "print(\"The accuracy of the model is {}%\".format(acc1*100))\n",
        "print(\"The following is the classification report:-\\n {}\".format(report1))"
      ],
      "execution_count": 34,
      "outputs": [
        {
          "output_type": "stream",
          "text": [
            "The accuracy of the model is 77.75999999999999%\n",
            "The following is the classification report:-\n",
            "               precision    recall  f1-score   support\n",
            "\n",
            "         0.0       0.77      0.72      0.74      1000\n",
            "         1.0       0.98      0.94      0.96      1000\n",
            "         2.0       0.42      0.21      0.28      1000\n",
            "         3.0       0.86      0.82      0.84      1000\n",
            "         4.0       0.49      0.77      0.60      1000\n",
            "         5.0       0.95      0.95      0.95      1000\n",
            "         6.0       0.50      0.56      0.53      1000\n",
            "         7.0       0.93      0.94      0.94      1000\n",
            "         8.0       0.95      0.93      0.94      1000\n",
            "         9.0       0.95      0.93      0.94      1000\n",
            "\n",
            "    accuracy                           0.78     10000\n",
            "   macro avg       0.78      0.78      0.77     10000\n",
            "weighted avg       0.78      0.78      0.77     10000\n",
            "\n"
          ],
          "name": "stdout"
        }
      ]
    },
    {
      "cell_type": "markdown",
      "metadata": {
        "id": "j9CSqKvpOIVk",
        "colab_type": "text"
      },
      "source": [
        "### Build the Neural Network model with 3 Dense layers with 100,100,10 neurons respectively in each layer. Use cross entropy loss function and singmoid as activation in the hidden layers and softmax as activation function in the output layer. Use sgd optimizer with learning rate 0.03."
      ]
    },
    {
      "cell_type": "code",
      "metadata": {
        "id": "GGAad54JOIVm",
        "colab_type": "code",
        "colab": {}
      },
      "source": [
        "model1 = Sequential([layers.Flatten(input_shape=(28,28))])\n",
        "model1.add(Dense(100,input_dim = 4,activation='relu'))\n",
        "model1.add(Dense(100,activation='sigmoid'))\n",
        "model1.add(Dense(10,activation='softmax'))\n",
        "model1.compile(optimizer = tf.keras.optimizers.SGD(lr = 0.03),loss = 'binary_crossentropy',metrics = ['accuracy'])"
      ],
      "execution_count": 0,
      "outputs": []
    },
    {
      "cell_type": "markdown",
      "metadata": {
        "id": "Nr2YsZV0OIV0",
        "colab_type": "text"
      },
      "source": [
        "## Review model"
      ]
    },
    {
      "cell_type": "code",
      "metadata": {
        "id": "X-O-fFxnOIVt",
        "colab_type": "code",
        "outputId": "d49dc5eb-6c43-4b21-9d5f-6aef025ba0ba",
        "colab": {
          "base_uri": "https://localhost:8080/",
          "height": 298
        }
      },
      "source": [
        "model1.summary()"
      ],
      "execution_count": 36,
      "outputs": [
        {
          "output_type": "stream",
          "text": [
            "Model: \"sequential_1\"\n",
            "_________________________________________________________________\n",
            "Layer (type)                 Output Shape              Param #   \n",
            "=================================================================\n",
            "flatten_1 (Flatten)          (None, 784)               0         \n",
            "_________________________________________________________________\n",
            "dense_4 (Dense)              (None, 100)               78500     \n",
            "_________________________________________________________________\n",
            "dense_5 (Dense)              (None, 100)               10100     \n",
            "_________________________________________________________________\n",
            "dense_6 (Dense)              (None, 10)                1010      \n",
            "=================================================================\n",
            "Total params: 89,610\n",
            "Trainable params: 89,610\n",
            "Non-trainable params: 0\n",
            "_________________________________________________________________\n"
          ],
          "name": "stdout"
        }
      ]
    },
    {
      "cell_type": "code",
      "metadata": {
        "id": "h4ojW6-oOIV2",
        "colab_type": "code",
        "outputId": "f56ab29e-b034-4d7f-d41c-12212f591d29",
        "colab": {
          "base_uri": "https://localhost:8080/",
          "height": 70
        }
      },
      "source": [
        "test_loss, test_accuracy=model1.evaluate(testX,testY1)\n",
        "print(\"This test loss is {}%.\".format(test_loss * 100))\n",
        "print(\"The test accuracy acheived is {}%.\".format(test_accuracy * 100))"
      ],
      "execution_count": 37,
      "outputs": [
        {
          "output_type": "stream",
          "text": [
            "10000/10000 [==============================] - 1s 59us/sample - loss: 0.3445 - accuracy: 0.8986\n",
            "This test loss is 34.446924815177915%.\n",
            "The test accuracy acheived is 89.86095786094666%.\n"
          ],
          "name": "stdout"
        }
      ]
    },
    {
      "cell_type": "markdown",
      "metadata": {
        "id": "gfFGmbZLOIV5",
        "colab_type": "text"
      },
      "source": [
        "### Run the model"
      ]
    },
    {
      "cell_type": "code",
      "metadata": {
        "id": "MQ7oIymROIVp",
        "colab_type": "code",
        "outputId": "6dc3f390-8c21-4811-d60d-73b7b2c15d55",
        "colab": {
          "base_uri": "https://localhost:8080/",
          "height": 404
        }
      },
      "source": [
        "model1.fit(trainX,trainY,epochs = 10)"
      ],
      "execution_count": 38,
      "outputs": [
        {
          "output_type": "stream",
          "text": [
            "Train on 60000 samples\n",
            "Epoch 1/10\n",
            "60000/60000 [==============================] - 4s 67us/sample - loss: 0.1533 - accuracy: 0.9418\n",
            "Epoch 2/10\n",
            "60000/60000 [==============================] - 4s 63us/sample - loss: 0.1033 - accuracy: 0.9604\n",
            "Epoch 3/10\n",
            "60000/60000 [==============================] - 4s 64us/sample - loss: 0.0923 - accuracy: 0.9647\n",
            "Epoch 4/10\n",
            "60000/60000 [==============================] - 4s 64us/sample - loss: 0.0876 - accuracy: 0.9660\n",
            "Epoch 5/10\n",
            "60000/60000 [==============================] - 4s 64us/sample - loss: 0.0846 - accuracy: 0.9674\n",
            "Epoch 6/10\n",
            "60000/60000 [==============================] - 4s 64us/sample - loss: 0.0813 - accuracy: 0.9682\n",
            "Epoch 7/10\n",
            "60000/60000 [==============================] - 4s 64us/sample - loss: 0.0795 - accuracy: 0.9690\n",
            "Epoch 8/10\n",
            "60000/60000 [==============================] - 4s 64us/sample - loss: 0.0780 - accuracy: 0.9694\n",
            "Epoch 9/10\n",
            "60000/60000 [==============================] - 4s 64us/sample - loss: 0.0768 - accuracy: 0.9698\n",
            "Epoch 10/10\n",
            "60000/60000 [==============================] - 4s 64us/sample - loss: 0.0753 - accuracy: 0.9704\n"
          ],
          "name": "stdout"
        },
        {
          "output_type": "execute_result",
          "data": {
            "text/plain": [
              "<tensorflow.python.keras.callbacks.History at 0x7ff1e19537f0>"
            ]
          },
          "metadata": {
            "tags": []
          },
          "execution_count": 38
        }
      ]
    },
    {
      "cell_type": "code",
      "metadata": {
        "id": "bIkbMEN5OIV7",
        "colab_type": "code",
        "outputId": "149bd13b-994b-419a-8694-fbb628fd5799",
        "colab": {
          "base_uri": "https://localhost:8080/",
          "height": 246
        }
      },
      "source": [
        "y_pred2 = model.predict(testX)\n",
        "y_pred2"
      ],
      "execution_count": 39,
      "outputs": [
        {
          "output_type": "execute_result",
          "data": {
            "text/plain": [
              "array([[2.58887129e-15, 1.21104804e-09, 2.00213360e-17, ...,\n",
              "        1.11378625e-01, 4.45072951e-10, 8.49612653e-01],\n",
              "       [7.09038526e-02, 4.42711776e-03, 3.57828498e-01, ...,\n",
              "        2.58376710e-02, 5.17221261e-03, 7.07367063e-03],\n",
              "       [9.06349076e-16, 9.99997020e-01, 1.85664827e-27, ...,\n",
              "        1.40966336e-10, 1.86611582e-17, 9.32044884e-19],\n",
              "       ...,\n",
              "       [4.34004731e-04, 2.52271492e-17, 2.55906594e-14, ...,\n",
              "        1.87572180e-12, 9.94739950e-01, 6.25695691e-08],\n",
              "       [7.62886698e-11, 9.99592602e-01, 3.97602068e-20, ...,\n",
              "        4.87226316e-06, 1.16855373e-10, 1.57230427e-11],\n",
              "       [1.65684412e-07, 5.52469892e-09, 3.43156059e-13, ...,\n",
              "        1.72716707e-01, 2.95402947e-09, 2.83226045e-03]], dtype=float32)"
            ]
          },
          "metadata": {
            "tags": []
          },
          "execution_count": 39
        }
      ]
    },
    {
      "cell_type": "code",
      "metadata": {
        "id": "XG5_mZ9EzON6",
        "colab_type": "code",
        "colab": {
          "base_uri": "https://localhost:8080/",
          "height": 54
        },
        "outputId": "9f59f404-0b21-48f6-8f74-33c194586aea"
      },
      "source": [
        "import numpy as np\n",
        "out2 = []\n",
        "for val in y_pred2:\n",
        "  out2.append(np.argmax(val))\n",
        "print(out2)"
      ],
      "execution_count": 40,
      "outputs": [
        {
          "output_type": "stream",
          "text": [
            "[9, 4, 1, 1, 2, 1, 4, 6, 5, 7, 4, 5, 5, 3, 4, 1, 2, 6, 8, 0, 6, 5, 7, 5, 1, 4, 2, 0, 9, 4, 8, 8, 3, 3, 8, 0, 7, 5, 7, 9, 0, 1, 0, 7, 6, 7, 6, 1, 2, 2, 4, 2, 5, 6, 4, 4, 8, 0, 8, 0, 7, 7, 8, 5, 1, 1, 2, 4, 7, 8, 7, 0, 2, 6, 4, 3, 1, 4, 8, 4, 1, 8, 5, 9, 5, 0, 3, 2, 0, 2, 5, 1, 6, 7, 1, 8, 0, 1, 2, 4, 3, 6, 7, 2, 7, 8, 5, 9, 9, 4, 2, 5, 7, 0, 5, 4, 8, 4, 7, 8, 6, 0, 9, 9, 3, 0, 8, 4, 1, 5, 4, 1, 9, 1, 8, 2, 6, 1, 4, 5, 1, 0, 0, 0, 1, 6, 1, 3, 6, 6, 6, 6, 1, 3, 5, 0, 4, 7, 9, 3, 7, 4, 3, 9, 0, 9, 4, 7, 4, 4, 6, 5, 4, 1, 4, 1, 3, 0, 9, 1, 0, 9, 3, 6, 7, 9, 9, 4, 4, 7, 1, 4, 3, 4, 3, 4, 8, 3, 6, 1, 1, 0, 4, 9, 4, 2, 0, 7, 9, 8, 4, 1, 8, 4, 1, 3, 1, 2, 7, 2, 8, 5, 6, 0, 7, 7, 6, 6, 7, 0, 7, 8, 9, 4, 9, 0, 5, 1, 4, 4, 5, 4, 9, 6, 4, 8, 6, 4, 6, 4, 9, 7, 6, 5, 5, 4, 8, 5, 4, 3, 0, 2, 8, 0, 0, 6, 3, 8, 9, 6, 1, 6, 0, 4, 3, 0, 8, 3, 7, 4, 0, 1, 2, 3, 0, 6, 6, 7, 5, 4, 5, 9, 5, 6, 5, 5, 1, 9, 8, 0, 3, 3, 6, 8, 0, 0, 4, 9, 7, 7, 1, 6, 6, 6, 2, 4, 7, 1, 6, 4, 8, 2, 6, 5, 6, 6, 7, 7, 7, 3, 3, 7, 6, 7, 1, 3, 7, 2, 6, 3, 4, 6, 3, 1, 6, 1, 9, 4, 9, 9, 1, 7, 8, 3, 0, 0, 6, 4, 8, 6, 1, 4, 4, 4, 4, 7, 3, 4, 4, 5, 6, 7, 9, 4, 0, 9, 3, 9, 3, 6, 5, 6, 6, 3, 5, 8, 1, 2, 4, 4, 6, 4, 9, 5, 4, 0, 6, 6, 1, 4, 0, 9, 7, 0, 4, 4, 6, 6, 4, 0, 0, 2, 7, 6, 9, 6, 4, 1, 5, 4, 5, 3, 8, 5, 8, 4, 4, 8, 9, 8, 6, 4, 4, 4, 6, 3, 1, 6, 1, 3, 0, 7, 8, 8, 4, 5, 3, 1, 9, 5, 3, 3, 6, 1, 6, 2, 9, 4, 0, 6, 1, 4, 4, 0, 0, 2, 3, 6, 4, 8, 9, 2, 0, 7, 6, 4, 2, 9, 4, 9, 7, 9, 3, 7, 5, 7, 8, 1, 0, 0, 6, 6, 8, 9, 7, 9, 1, 4, 7, 0, 2, 0, 5, 7, 1, 8, 2, 4, 2, 4, 4, 4, 2, 1, 9, 8, 5, 1, 9, 1, 4, 8, 3, 8, 9, 4, 6, 2, 8, 6, 2, 7, 5, 8, 8, 5, 3, 9, 4, 3, 4, 4, 9, 1, 2, 1, 4, 0, 4, 9, 6, 1, 5, 1, 1, 1, 9, 3, 4, 5, 3, 6, 4, 0, 2, 0, 0, 5, 8, 0, 6, 4, 0, 7, 7, 8, 9, 0, 6, 8, 7, 6, 7, 9, 3, 4, 6, 3, 5, 0, 1, 1, 5, 9, 4, 2, 5, 7, 8, 1, 4, 9, 7, 7, 1, 0, 9, 0, 2, 9, 0, 7, 6, 8, 4, 7, 0, 4, 3, 8, 2, 4, 6, 8, 3, 0, 7, 8, 8, 4, 9, 4, 4, 0, 2, 2, 0, 3, 4, 4, 7, 5, 8, 4, 9, 1, 0, 5, 4, 4, 4, 0, 0, 4, 5, 2, 0, 4, 5, 4, 1, 6, 1, 3, 6, 4, 3, 8, 4, 8, 6, 7, 0, 4, 6, 8, 5, 0, 8, 4, 9, 0, 8, 9, 6, 3, 4, 9, 6, 6, 5, 0, 9, 5, 3, 6, 6, 6, 3, 0, 8, 3, 4, 0, 9, 7, 9, 4, 8, 9, 1, 3, 7, 3, 0, 4, 2, 7, 1, 0, 0, 8, 7, 4, 6, 4, 6, 4, 1, 5, 9, 0, 0, 1, 6, 7, 0, 2, 3, 3, 3, 8, 1, 1, 8, 5, 7, 7, 8, 7, 4, 6, 7, 6, 8, 0, 9, 7, 6, 1, 0, 2, 4, 8, 0, 6, 3, 6, 8, 4, 0, 8, 9, 4, 4, 5, 9, 1, 4, 4, 9, 2, 3, 7, 9, 5, 8, 3, 7, 7, 1, 1, 1, 2, 9, 5, 3, 8, 4, 4, 9, 6, 8, 3, 4, 4, 4, 7, 1, 4, 9, 3, 5, 8, 5, 4, 7, 4, 8, 5, 9, 3, 3, 6, 7, 1, 7, 3, 5, 4, 4, 5, 8, 3, 9, 1, 2, 6, 1, 9, 8, 4, 7, 1, 2, 7, 5, 9, 9, 1, 8, 4, 5, 7, 1, 9, 8, 1, 3, 6, 6, 1, 7, 1, 1, 5, 7, 1, 5, 4, 4, 3, 3, 1, 1, 4, 9, 4, 3, 7, 7, 6, 8, 9, 9, 6, 1, 1, 4, 0, 3, 5, 9, 4, 3, 5, 5, 1, 5, 7, 8, 7, 9, 3, 6, 4, 0, 4, 0, 2, 0, 4, 5, 5, 1, 4, 0, 9, 3, 7, 8, 2, 8, 3, 2, 7, 6, 7, 4, 8, 6, 3, 4, 4, 3, 6, 9, 6, 6, 4, 9, 1, 8, 1, 7, 5, 5, 6, 6, 4, 1, 0, 5, 2, 0, 0, 2, 7, 5, 0, 1, 5, 9, 2, 8, 6, 6, 4, 6, 4, 9, 6, 7, 7, 1, 2, 6, 6, 5, 0, 9, 9, 8, 8, 3, 6, 4, 4, 6, 6, 3, 6, 3, 7, 4, 9, 3, 4, 7, 7, 0, 3, 5, 5, 4, 4, 5, 9, 2, 3, 7, 5, 1, 9, 8, 8, 9, 9, 2, 7, 4, 4, 3, 8, 7, 4, 4, 5, 4, 3, 6, 1, 4, 9, 3, 1, 6, 5, 6, 5, 7, 5, 4, 3, 3, 9, 6, 3, 6, 0, 2, 5, 0, 4, 9, 6, 0, 3, 6, 7, 0, 2, 1, 1, 4, 4, 6, 5, 9, 0, 1, 6, 5, 1, 2, 4, 8, 4, 7, 7, 3, 8, 3, 1, 9, 8, 1, 3, 3, 7, 6, 3, 5, 7, 6, 9, 6, 3, 5, 8, 4, 6, 3, 8, 6, 5, 5, 4, 7, 1, 5, 3, 5, 4, 8, 2, 6, 1, 1, 7, 9, 6, 6, 7, 4, 4, 8, 2, 4, 6, 6, 4, 4, 9, 6, 8, 4, 5, 9, 6, 3, 9, 6, 9, 8, 7, 4, 4, 2, 5, 3, 7, 0, 7, 1, 9, 3, 7, 0, 9, 4, 8, 4, 4, 7, 6, 2, 6, 4, 0, 7, 8, 4, 4, 4, 5, 5, 0, 4, 5, 5, 8, 1, 1, 7, 6, 6, 9, 0, 8, 7, 4, 0, 1, 2, 7, 7, 4, 9, 8, 5, 1, 1, 0, 4, 0, 9, 6, 1, 9, 0, 5, 5, 6, 0, 7, 0, 6, 3, 1, 3, 1, 3, 4, 7, 4, 4, 9, 5, 4, 9, 6, 3, 4, 4, 0, 0, 5, 4, 2, 5, 6, 1, 2, 6, 5, 4, 4, 8, 0, 4, 3, 0, 6, 2, 6, 6, 3, 8, 2, 0, 4, 2, 8, 8, 2, 5, 4, 4, 3, 0, 1, 9, 0, 9, 1, 9, 9, 5, 4, 4, 7, 3, 8, 5, 6, 8, 6, 7, 5, 5, 9, 5, 0, 0, 0, 3, 4, 4, 4, 8, 7, 1, 3, 4, 6, 6, 5, 1, 6, 7, 3, 4, 8, 8, 2, 8, 7, 4, 3, 6, 5, 4, 7, 8, 5, 6, 8, 5, 4, 2, 8, 9, 8, 2, 3, 0, 8, 8, 6, 3, 9, 4, 4, 8, 1, 3, 6, 1, 9, 2, 1, 6, 4, 7, 9, 4, 6, 0, 4, 4, 2, 4, 5, 0, 4, 8, 3, 7, 6, 4, 0, 0, 5, 4, 0, 4, 4, 3, 0, 4, 1, 7, 7, 5, 4, 7, 2, 2, 7, 1, 3, 1, 3, 3, 6, 6, 1, 7, 2, 4, 7, 1, 0, 6, 5, 8, 4, 4, 7, 9, 5, 0, 7, 9, 5, 1, 4, 9, 5, 5, 3, 9, 9, 1, 2, 7, 8, 0, 1, 7, 4, 7, 1, 1, 5, 5, 6, 4, 5, 9, 5, 5, 4, 3, 9, 3, 8, 5, 4, 0, 0, 0, 5, 7, 6, 5, 4, 0, 4, 4, 7, 8, 0, 5, 1, 7, 4, 3, 6, 8, 7, 8, 7, 1, 4, 3, 2, 9, 7, 5, 6, 0, 6, 7, 1, 2, 2, 9, 3, 6, 2, 4, 3, 6, 6, 6, 3, 2, 1, 3, 7, 2, 5, 3, 9, 1, 1, 8, 6, 9, 5, 0, 5, 4, 4, 7, 1, 1, 5, 3, 8, 7, 8, 3, 8, 9, 6, 2, 1, 1, 3, 5, 6, 7, 1, 9, 9, 4, 4, 7, 0, 1, 3, 9, 6, 3, 7, 2, 8, 1, 8, 0, 7, 9, 8, 5, 8, 4, 6, 2, 0, 6, 5, 8, 3, 8, 5, 5, 7, 3, 7, 0, 7, 0, 4, 2, 5, 3, 5, 1, 1, 7, 7, 6, 0, 6, 2, 6, 8, 6, 3, 1, 4, 9, 9, 4, 5, 6, 4, 7, 8, 0, 7, 9, 1, 6, 9, 4, 7, 3, 4, 3, 3, 1, 8, 8, 5, 3, 8, 6, 3, 2, 3, 4, 8, 4, 7, 3, 2, 8, 3, 7, 7, 3, 1, 7, 5, 8, 8, 2, 3, 6, 6, 4, 8, 5, 7, 0, 6, 0, 7, 7, 3, 9, 4, 5, 9, 7, 6, 7, 4, 4, 5, 1, 4, 5, 4, 5, 0, 4, 4, 1, 4, 4, 8, 4, 5, 9, 4, 1, 1, 7, 4, 6, 5, 6, 3, 9, 7, 5, 3, 8, 8, 8, 9, 1, 1, 6, 3, 1, 4, 3, 4, 9, 9, 0, 0, 2, 9, 4, 9, 6, 6, 1, 8, 9, 2, 5, 4, 8, 0, 7, 4, 3, 6, 0, 5, 6, 1, 9, 6, 4, 4, 9, 9, 6, 8, 3, 6, 6, 6, 0, 4, 6, 6, 6, 5, 0, 6, 7, 8, 7, 4, 0, 6, 6, 5, 4, 4, 4, 9, 5, 4, 6, 7, 0, 1, 9, 5, 5, 0, 7, 7, 5, 0, 5, 6, 6, 4, 7, 9, 8, 4, 4, 7, 3, 3, 7, 7, 7, 8, 4, 9, 5, 7, 6, 5, 9, 5, 1, 3, 0, 4, 9, 9, 8, 3, 7, 0, 4, 4, 9, 3, 3, 1, 7, 8, 1, 5, 7, 2, 5, 6, 5, 5, 0, 7, 5, 5, 4, 0, 7, 1, 3, 2, 6, 4, 9, 9, 0, 3, 6, 8, 3, 8, 8, 4, 4, 1, 8, 4, 6, 5, 0, 2, 2, 3, 0, 0, 1, 6, 8, 4, 9, 0, 7, 6, 7, 7, 1, 5, 8, 7, 4, 9, 9, 1, 4, 4, 1, 1, 1, 8, 8, 1, 3, 7, 5, 4, 0, 8, 4, 8, 9, 6, 1, 3, 1, 9, 8, 1, 1, 1, 8, 0, 9, 9, 7, 6, 0, 4, 4, 1, 1, 7, 9, 4, 4, 6, 3, 6, 4, 8, 1, 7, 4, 4, 4, 4, 4, 8, 7, 1, 8, 5, 5, 7, 7, 2, 6, 4, 9, 0, 6, 3, 5, 5, 0, 4, 1, 0, 3, 7, 8, 3, 7, 4, 5, 7, 9, 8, 9, 1, 4, 8, 3, 2, 6, 6, 6, 8, 3, 8, 6, 8, 6, 0, 8, 8, 3, 4, 9, 3, 6, 0, 8, 5, 7, 0, 1, 1, 1, 9, 5, 1, 3, 3, 6, 0, 8, 4, 1, 0, 8, 8, 0, 7, 5, 0, 6, 7, 3, 3, 4, 4, 4, 5, 5, 2, 4, 3, 9, 1, 1, 7, 3, 8, 7, 4, 4, 9, 3, 9, 9, 0, 1, 7, 1, 4, 8, 1, 2, 9, 3, 4, 0, 0, 7, 6, 9, 9, 5, 7, 7, 0, 9, 0, 3, 6, 9, 8, 4, 4, 6, 1, 9, 4, 3, 4, 7, 4, 0, 3, 6, 1, 8, 7, 3, 4, 5, 4, 4, 9, 1, 7, 2, 9, 1, 2, 4, 6, 8, 7, 7, 7, 7, 4, 6, 6, 7, 5, 8, 5, 6, 0, 6, 4, 9, 4, 2, 3, 1, 9, 3, 1, 4, 4, 6, 3, 7, 5, 7, 4, 4, 4, 1, 6, 3, 5, 4, 6, 9, 1, 5, 9, 3, 6, 2, 2, 0, 1, 7, 7, 4, 2, 7, 7, 6, 0, 6, 3, 4, 7, 8, 7, 2, 8, 0, 8, 7, 2, 2, 4, 7, 6, 9, 9, 3, 3, 5, 9, 3, 1, 0, 3, 3, 5, 5, 7, 9, 6, 3, 5, 9, 3, 7, 9, 3, 4, 0, 0, 5, 7, 7, 4, 3, 5, 3, 1, 1, 9, 4, 3, 9, 5, 5, 7, 2, 4, 9, 0, 4, 1, 9, 7, 1, 5, 0, 5, 5, 6, 3, 7, 0, 3, 3, 7, 4, 4, 6, 8, 5, 9, 4, 1, 6, 5, 5, 8, 5, 3, 7, 2, 4, 4, 9, 0, 0, 6, 9, 1, 4, 3, 1, 5, 3, 8, 5, 1, 1, 4, 9, 4, 0, 5, 2, 8, 6, 4, 9, 8, 4, 4, 8, 1, 8, 0, 4, 4, 0, 2, 8, 5, 2, 9, 0, 9, 5, 8, 0, 9, 1, 4, 7, 4, 1, 6, 6, 6, 4, 5, 0, 4, 8, 5, 5, 2, 0, 0, 8, 6, 4, 1, 9, 4, 7, 7, 4, 6, 4, 8, 3, 4, 8, 5, 6, 8, 3, 3, 1, 4, 4, 0, 4, 9, 0, 4, 1, 9, 9, 8, 1, 8, 8, 3, 3, 3, 8, 5, 9, 2, 6, 8, 7, 4, 3, 0, 0, 3, 5, 7, 5, 0, 7, 9, 1, 8, 4, 8, 9, 3, 5, 6, 0, 4, 6, 7, 5, 9, 1, 8, 2, 5, 5, 3, 1, 1, 8, 8, 3, 0, 7, 0, 1, 8, 3, 6, 4, 9, 8, 9, 8, 8, 6, 9, 1, 8, 4, 4, 7, 7, 0, 5, 1, 1, 0, 0, 4, 2, 0, 4, 3, 7, 1, 4, 3, 3, 4, 4, 5, 6, 9, 8, 3, 3, 1, 0, 6, 1, 4, 4, 4, 8, 4, 9, 0, 9, 9, 5, 0, 6, 0, 5, 0, 3, 9, 5, 3, 6, 1, 9, 4, 1, 6, 4, 5, 2, 1, 4, 8, 5, 9, 4, 5, 3, 3, 8, 3, 0, 2, 8, 9, 0, 5, 6, 4, 6, 9, 3, 2, 4, 8, 5, 9, 4, 3, 1, 0, 3, 4, 4, 7, 2, 1, 4, 4, 4, 0, 4, 8, 5, 0, 8, 5, 6, 7, 8, 1, 5, 9, 8, 6, 9, 0, 9, 3, 7, 5, 7, 9, 6, 0, 7, 1, 5, 5, 9, 5, 4, 6, 2, 2, 5, 9, 7, 4, 4, 6, 9, 9, 4, 2, 1, 3, 7, 1, 8, 7, 7, 1, 8, 9, 3, 7, 7, 7, 1, 7, 1, 4, 6, 4, 0, 5, 4, 8, 9, 6, 8, 0, 0, 7, 7, 5, 0, 1, 9, 2, 0, 4, 5, 6, 6, 6, 7, 1, 6, 5, 8, 9, 4, 8, 6, 3, 6, 1, 7, 4, 8, 7, 4, 1, 7, 8, 6, 4, 6, 4, 4, 1, 8, 2, 7, 4, 9, 2, 5, 2, 3, 3, 8, 8, 4, 0, 7, 4, 4, 0, 4, 1, 0, 8, 1, 7, 7, 4, 6, 3, 1, 4, 7, 6, 6, 0, 6, 2, 7, 4, 6, 3, 2, 3, 0, 9, 7, 3, 5, 4, 9, 6, 4, 5, 0, 6, 8, 4, 0, 4, 4, 0, 2, 1, 6, 4, 6, 7, 1, 0, 2, 4, 1, 1, 5, 4, 6, 8, 3, 3, 1, 7, 4, 9, 8, 8, 4, 5, 5, 6, 7, 3, 9, 1, 0, 5, 3, 7, 4, 1, 1, 8, 6, 4, 0, 5, 9, 6, 3, 8, 1, 6, 4, 8, 4, 4, 8, 7, 6, 4, 3, 9, 4, 7, 9, 5, 7, 6, 1, 5, 8, 8, 4, 6, 4, 6, 3, 1, 0, 4, 0, 6, 9, 8, 4, 0, 8, 4, 3, 9, 7, 1, 1, 9, 5, 1, 9, 4, 4, 4, 3, 8, 6, 7, 1, 3, 0, 7, 3, 5, 8, 1, 4, 4, 3, 4, 8, 8, 8, 6, 8, 1, 8, 9, 3, 0, 0, 0, 2, 9, 7, 3, 7, 0, 1, 6, 5, 9, 6, 0, 5, 0, 5, 8, 7, 4, 6, 4, 8, 6, 0, 9, 3, 6, 5, 8, 1, 1, 4, 0, 0, 0, 8, 2, 4, 3, 3, 9, 5, 2, 3, 3, 1, 8, 1, 5, 4, 0, 0, 7, 9, 3, 4, 7, 1, 7, 2, 1, 2, 2, 8, 2, 7, 9, 4, 9, 3, 4, 5, 0, 8, 2, 2, 2, 7, 6, 4, 1, 1, 0, 0, 5, 5, 4, 6, 2, 1, 8, 5, 6, 4, 3, 4, 4, 7, 6, 2, 9, 6, 6, 6, 8, 4, 5, 2, 9, 8, 1, 6, 3, 6, 4, 9, 4, 3, 5, 1, 4, 6, 0, 1, 1, 0, 4, 6, 9, 7, 6, 1, 4, 4, 0, 7, 6, 1, 1, 7, 7, 8, 7, 0, 5, 3, 7, 6, 0, 9, 6, 1, 6, 2, 2, 5, 8, 5, 4, 9, 8, 4, 0, 9, 0, 8, 1, 3, 8, 6, 8, 4, 0, 2, 3, 8, 7, 8, 4, 4, 6, 6, 0, 4, 5, 3, 4, 1, 1, 9, 7, 6, 6, 6, 1, 2, 4, 7, 5, 1, 8, 3, 3, 7, 9, 8, 7, 4, 7, 9, 7, 2, 4, 6, 6, 3, 3, 9, 1, 1, 4, 8, 0, 9, 7, 5, 4, 8, 8, 3, 6, 3, 8, 8, 6, 2, 5, 9, 0, 4, 8, 3, 2, 8, 3, 0, 6, 4, 3, 0, 1, 8, 4, 1, 5, 8, 1, 5, 8, 0, 7, 8, 7, 5, 9, 5, 5, 3, 6, 7, 8, 4, 5, 1, 0, 2, 6, 4, 3, 7, 7, 9, 7, 2, 5, 8, 5, 8, 5, 3, 0, 9, 7, 4, 0, 6, 8, 2, 0, 7, 3, 7, 6, 8, 4, 7, 0, 0, 4, 0, 4, 7, 8, 1, 3, 8, 1, 5, 3, 6, 1, 1, 6, 6, 9, 8, 4, 6, 4, 7, 7, 1, 3, 0, 0, 0, 7, 8, 7, 6, 5, 2, 6, 7, 5, 5, 6, 9, 7, 3, 4, 4, 8, 3, 5, 5, 7, 6, 6, 6, 7, 3, 8, 5, 1, 8, 9, 4, 4, 1, 2, 6, 7, 2, 0, 2, 4, 8, 9, 7, 9, 6, 4, 8, 4, 6, 0, 6, 3, 6, 1, 5, 4, 7, 5, 3, 7, 6, 4, 3, 5, 1, 1, 0, 7, 3, 8, 8, 7, 5, 9, 9, 5, 5, 4, 0, 7, 1, 4, 4, 0, 9, 9, 2, 0, 8, 0, 5, 7, 8, 8, 4, 7, 6, 6, 4, 8, 1, 6, 4, 6, 0, 7, 5, 8, 7, 7, 7, 5, 0, 7, 6, 6, 4, 0, 3, 4, 4, 0, 2, 9, 4, 5, 4, 4, 1, 4, 5, 9, 0, 5, 6, 4, 5, 0, 3, 6, 6, 6, 7, 6, 7, 4, 3, 4, 7, 1, 2, 3, 4, 6, 4, 0, 9, 9, 6, 8, 0, 4, 0, 0, 1, 9, 3, 9, 6, 8, 6, 9, 4, 7, 9, 1, 5, 8, 1, 0, 0, 4, 4, 8, 0, 3, 3, 0, 0, 0, 3, 6, 1, 0, 8, 4, 9, 3, 0, 6, 5, 8, 8, 8, 6, 1, 6, 8, 9, 8, 5, 8, 7, 0, 7, 4, 7, 3, 5, 5, 8, 3, 6, 8, 5, 9, 9, 2, 0, 6, 7, 1, 8, 8, 8, 7, 4, 0, 9, 7, 9, 6, 9, 4, 1, 4, 7, 4, 5, 2, 6, 4, 9, 0, 7, 1, 9, 7, 6, 5, 0, 8, 4, 9, 3, 9, 5, 7, 5, 1, 3, 3, 2, 6, 9, 5, 3, 5, 5, 8, 7, 7, 4, 6, 5, 5, 6, 4, 8, 3, 0, 9, 4, 0, 4, 8, 7, 4, 5, 7, 1, 4, 8, 1, 4, 7, 8, 4, 6, 7, 4, 6, 2, 6, 4, 2, 3, 0, 5, 2, 3, 6, 8, 5, 6, 9, 4, 6, 4, 8, 3, 5, 1, 0, 9, 1, 4, 9, 6, 7, 4, 6, 0, 4, 5, 6, 3, 5, 6, 5, 1, 7, 9, 4, 6, 7, 3, 0, 4, 8, 1, 0, 9, 9, 9, 8, 4, 6, 9, 7, 7, 5, 8, 8, 7, 5, 3, 5, 5, 0, 8, 9, 7, 2, 1, 2, 7, 1, 3, 6, 3, 2, 6, 9, 4, 7, 7, 6, 5, 0, 8, 8, 4, 8, 5, 6, 0, 7, 3, 0, 0, 4, 5, 2, 0, 7, 7, 5, 1, 5, 4, 3, 8, 5, 4, 4, 8, 7, 7, 6, 7, 1, 0, 9, 5, 3, 9, 3, 5, 0, 7, 4, 4, 0, 1, 4, 5, 9, 3, 4, 8, 5, 7, 3, 1, 4, 0, 8, 1, 8, 5, 6, 9, 3, 3, 8, 6, 4, 2, 0, 3, 4, 4, 3, 4, 5, 9, 1, 1, 9, 4, 7, 0, 3, 6, 0, 0, 7, 7, 0, 7, 8, 0, 5, 6, 4, 4, 8, 9, 7, 4, 9, 5, 3, 7, 4, 4, 1, 9, 7, 8, 1, 3, 9, 3, 6, 7, 8, 6, 5, 8, 9, 9, 9, 7, 0, 2, 4, 3, 4, 6, 9, 5, 3, 9, 4, 8, 6, 6, 0, 4, 1, 9, 3, 3, 5, 1, 5, 5, 9, 2, 8, 5, 5, 9, 5, 6, 0, 7, 3, 5, 4, 4, 6, 9, 4, 8, 1, 9, 4, 6, 6, 4, 6, 8, 7, 7, 6, 9, 3, 9, 6, 8, 4, 6, 9, 0, 4, 4, 5, 5, 0, 4, 6, 4, 1, 3, 1, 6, 7, 8, 8, 9, 7, 6, 5, 7, 3, 6, 0, 4, 6, 3, 6, 8, 8, 8, 0, 2, 3, 4, 8, 6, 1, 4, 1, 1, 6, 3, 4, 6, 8, 0, 6, 4, 1, 6, 6, 7, 0, 2, 7, 9, 9, 4, 7, 0, 9, 9, 8, 4, 8, 3, 4, 0, 9, 6, 4, 4, 3, 8, 2, 0, 6, 9, 6, 4, 7, 3, 7, 8, 8, 4, 4, 8, 8, 0, 1, 5, 8, 9, 8, 7, 2, 6, 3, 4, 0, 0, 9, 3, 9, 9, 1, 5, 9, 4, 1, 7, 0, 1, 0, 5, 3, 8, 8, 4, 1, 7, 6, 5, 0, 4, 1, 7, 1, 7, 9, 4, 3, 9, 6, 2, 9, 3, 5, 8, 8, 4, 4, 7, 7, 4, 2, 0, 5, 5, 3, 8, 6, 5, 6, 8, 5, 6, 9, 1, 3, 1, 2, 5, 9, 3, 7, 0, 3, 5, 2, 1, 5, 8, 5, 4, 0, 9, 1, 9, 1, 7, 1, 8, 6, 3, 4, 6, 2, 6, 3, 3, 8, 8, 0, 3, 2, 8, 1, 6, 3, 3, 4, 4, 1, 8, 3, 4, 6, 2, 4, 4, 3, 7, 4, 3, 0, 4, 5, 7, 1, 6, 1, 6, 6, 6, 8, 9, 1, 2, 5, 4, 8, 1, 7, 1, 6, 4, 9, 4, 2, 1, 5, 6, 3, 5, 8, 7, 7, 7, 4, 7, 5, 2, 6, 4, 0, 4, 6, 9, 9, 5, 8, 0, 6, 4, 1, 3, 7, 2, 0, 0, 9, 8, 5, 0, 0, 7, 1, 9, 5, 8, 4, 0, 9, 9, 1, 4, 6, 3, 4, 4, 5, 1, 0, 4, 8, 3, 4, 8, 4, 4, 0, 0, 3, 6, 7, 4, 4, 1, 7, 3, 6, 7, 9, 5, 1, 5, 5, 9, 1, 4, 6, 1, 6, 8, 4, 5, 7, 8, 0, 2, 4, 7, 4, 7, 5, 0, 8, 7, 8, 6, 4, 9, 2, 5, 5, 9, 9, 4, 4, 2, 6, 0, 2, 8, 7, 6, 4, 7, 5, 4, 7, 0, 3, 4, 4, 8, 4, 0, 2, 9, 6, 5, 6, 6, 2, 8, 0, 6, 4, 3, 4, 5, 5, 8, 0, 7, 0, 8, 9, 0, 4, 1, 4, 5, 1, 6, 4, 9, 6, 4, 9, 9, 1, 4, 3, 1, 6, 8, 0, 3, 3, 4, 4, 0, 4, 3, 6, 5, 4, 3, 4, 0, 6, 5, 4, 6, 1, 0, 4, 4, 2, 7, 9, 6, 4, 3, 3, 6, 8, 5, 4, 0, 6, 3, 3, 5, 4, 5, 1, 5, 5, 1, 9, 5, 4, 1, 8, 8, 0, 9, 6, 4, 0, 3, 4, 1, 8, 3, 4, 4, 1, 6, 0, 3, 0, 8, 5, 1, 5, 0, 4, 6, 3, 9, 8, 6, 0, 1, 0, 2, 6, 4, 6, 3, 7, 5, 0, 6, 4, 0, 8, 4, 6, 1, 8, 6, 8, 4, 9, 4, 6, 8, 5, 6, 7, 3, 6, 4, 6, 6, 6, 8, 5, 4, 1, 5, 4, 8, 4, 9, 3, 6, 3, 6, 4, 4, 7, 7, 9, 0, 4, 9, 6, 3, 5, 8, 7, 7, 0, 7, 7, 0, 7, 7, 4, 9, 7, 2, 2, 6, 3, 8, 0, 1, 9, 8, 0, 6, 2, 6, 3, 8, 0, 7, 6, 3, 3, 8, 1, 3, 8, 7, 3, 6, 3, 4, 8, 8, 9, 1, 3, 2, 1, 4, 8, 6, 4, 4, 7, 3, 9, 4, 9, 0, 4, 6, 5, 7, 0, 8, 1, 7, 5, 4, 9, 5, 7, 3, 2, 0, 9, 8, 7, 3, 7, 7, 4, 7, 5, 8, 8, 4, 4, 6, 4, 3, 8, 9, 7, 1, 3, 4, 2, 9, 7, 1, 4, 2, 6, 0, 5, 5, 2, 5, 2, 8, 9, 4, 9, 9, 4, 4, 8, 1, 5, 5, 5, 6, 8, 1, 5, 5, 7, 7, 9, 8, 2, 1, 1, 4, 6, 6, 9, 3, 4, 6, 4, 8, 6, 5, 4, 9, 0, 4, 8, 4, 8, 4, 3, 6, 1, 4, 3, 3, 8, 2, 9, 9, 0, 7, 9, 5, 3, 1, 7, 4, 8, 4, 9, 0, 1, 6, 0, 5, 8, 1, 9, 3, 0, 8, 3, 8, 4, 4, 5, 6, 9, 6, 1, 4, 6, 7, 9, 0, 1, 3, 9, 5, 1, 4, 1, 1, 4, 8, 6, 9, 5, 4, 4, 3, 7, 7, 7, 6, 3, 5, 1, 9, 4, 4, 0, 7, 2, 2, 9, 7, 0, 6, 4, 9, 0, 4, 0, 4, 7, 9, 2, 1, 1, 6, 0, 8, 8, 7, 4, 4, 7, 5, 7, 6, 1, 8, 1, 4, 9, 8, 9, 2, 1, 0, 2, 0, 3, 0, 6, 4, 1, 9, 7, 1, 4, 4, 5, 3, 4, 1, 7, 4, 7, 0, 4, 8, 8, 1, 3, 9, 7, 6, 3, 4, 9, 3, 9, 8, 5, 3, 8, 4, 7, 1, 4, 1, 9, 2, 8, 3, 4, 4, 6, 1, 1, 5, 8, 6, 1, 6, 2, 9, 0, 9, 5, 3, 5, 0, 6, 5, 6, 8, 3, 8, 0, 0, 9, 5, 1, 5, 3, 2, 6, 5, 3, 6, 3, 0, 7, 4, 0, 4, 1, 9, 5, 1, 7, 5, 5, 5, 9, 4, 8, 4, 8, 6, 4, 4, 4, 1, 1, 4, 4, 8, 4, 9, 0, 5, 8, 1, 3, 8, 3, 4, 4, 8, 6, 2, 9, 3, 2, 9, 7, 4, 6, 4, 6, 8, 9, 2, 1, 4, 7, 7, 9, 7, 3, 2, 9, 4, 7, 3, 6, 2, 0, 5, 4, 3, 3, 1, 9, 5, 8, 4, 3, 5, 0, 0, 4, 5, 8, 3, 5, 0, 7, 7, 2, 0, 9, 5, 1, 4, 4, 5, 3, 0, 6, 1, 4, 0, 5, 4, 8, 5, 7, 1, 6, 8, 3, 5, 4, 4, 9, 8, 9, 5, 8, 1, 8, 5, 0, 1, 5, 3, 3, 3, 3, 4, 4, 3, 6, 7, 8, 0, 9, 6, 0, 0, 4, 4, 7, 3, 5, 7, 3, 7, 8, 6, 6, 4, 4, 3, 1, 0, 5, 5, 0, 6, 4, 1, 1, 4, 7, 2, 3, 5, 5, 0, 4, 4, 4, 8, 9, 9, 2, 0, 9, 8, 3, 7, 3, 1, 4, 5, 0, 1, 8, 5, 8, 4, 0, 7, 8, 9, 4, 4, 6, 3, 2, 6, 4, 7, 9, 1, 9, 7, 2, 5, 0, 3, 4, 4, 5, 6, 3, 5, 8, 6, 4, 4, 9, 4, 7, 8, 0, 0, 4, 7, 7, 5, 9, 5, 7, 3, 8, 7, 5, 9, 9, 8, 4, 1, 0, 8, 0, 4, 6, 7, 9, 6, 4, 5, 4, 3, 4, 1, 1, 9, 0, 5, 5, 4, 9, 8, 9, 6, 9, 2, 0, 6, 5, 7, 8, 4, 8, 8, 7, 4, 9, 3, 9, 6, 9, 7, 3, 9, 9, 3, 0, 6, 2, 6, 7, 9, 4, 0, 1, 4, 1, 0, 3, 8, 4, 8, 4, 4, 2, 3, 5, 7, 7, 8, 5, 2, 3, 2, 1, 8, 3, 8, 8, 4, 6, 3, 0, 8, 3, 3, 4, 9, 0, 9, 9, 0, 1, 8, 0, 6, 3, 8, 6, 8, 5, 1, 3, 6, 1, 9, 3, 5, 0, 6, 4, 6, 1, 5, 3, 4, 8, 5, 7, 8, 0, 1, 3, 0, 6, 4, 5, 9, 6, 7, 4, 3, 6, 4, 2, 3, 3, 9, 4, 7, 0, 8, 6, 5, 6, 4, 0, 1, 3, 9, 4, 4, 5, 6, 5, 3, 2, 5, 6, 0, 8, 0, 6, 9, 1, 3, 4, 6, 5, 9, 2, 6, 1, 4, 9, 7, 2, 4, 7, 5, 7, 1, 4, 8, 7, 9, 5, 7, 0, 2, 9, 4, 5, 0, 7, 6, 4, 5, 6, 7, 4, 3, 4, 5, 9, 4, 5, 7, 7, 3, 8, 6, 9, 6, 5, 3, 6, 7, 6, 9, 5, 1, 3, 4, 9, 1, 2, 2, 5, 3, 2, 9, 9, 1, 6, 2, 4, 6, 4, 8, 7, 9, 9, 4, 8, 8, 9, 0, 7, 6, 4, 0, 8, 6, 4, 2, 0, 1, 4, 0, 2, 1, 5, 4, 6, 6, 0, 3, 4, 5, 6, 8, 7, 6, 6, 3, 1, 8, 6, 8, 9, 9, 5, 5, 8, 2, 5, 4, 4, 4, 5, 4, 9, 4, 7, 1, 0, 6, 4, 6, 9, 8, 3, 4, 9, 1, 9, 4, 7, 3, 5, 4, 3, 4, 2, 1, 0, 6, 4, 3, 7, 8, 4, 7, 5, 9, 0, 4, 3, 4, 5, 5, 5, 7, 6, 1, 3, 3, 7, 0, 5, 7, 6, 8, 3, 5, 5, 8, 1, 9, 4, 6, 4, 2, 1, 6, 0, 1, 4, 5, 3, 8, 1, 1, 7, 6, 2, 5, 9, 0, 8, 3, 2, 4, 4, 7, 0, 5, 3, 6, 4, 1, 7, 1, 6, 4, 3, 4, 0, 0, 6, 2, 8, 7, 0, 0, 6, 4, 7, 3, 4, 6, 0, 4, 4, 4, 1, 8, 1, 9, 1, 4, 2, 4, 2, 5, 3, 3, 5, 3, 5, 8, 3, 9, 7, 3, 0, 6, 1, 0, 1, 0, 7, 7, 6, 8, 9, 6, 1, 5, 4, 9, 4, 7, 9, 9, 9, 0, 1, 0, 9, 9, 5, 1, 7, 4, 9, 3, 5, 6, 8, 1, 7, 3, 3, 8, 2, 7, 8, 8, 9, 6, 8, 4, 5, 6, 4, 5, 9, 0, 0, 5, 3, 7, 7, 4, 4, 7, 4, 5, 8, 3, 7, 4, 7, 3, 8, 8, 8, 7, 8, 6, 0, 5, 7, 9, 8, 5, 2, 0, 6, 4, 2, 2, 8, 9, 9, 1, 9, 5, 8, 4, 4, 6, 4, 6, 7, 4, 8, 3, 0, 7, 8, 8, 4, 9, 9, 5, 9, 4, 6, 9, 7, 5, 7, 4, 9, 9, 2, 3, 9, 5, 3, 5, 3, 1, 4, 9, 1, 2, 8, 5, 1, 7, 9, 6, 3, 3, 6, 9, 3, 4, 6, 0, 0, 4, 9, 7, 1, 9, 8, 5, 4, 8, 5, 9, 5, 2, 4, 6, 5, 4, 4, 5, 4, 4, 7, 1, 6, 0, 2, 6, 5, 6, 4, 6, 7, 5, 5, 1, 5, 4, 2, 4, 4, 4, 1, 9, 6, 7, 4, 7, 4, 2, 9, 7, 4, 4, 6, 1, 7, 1, 4, 7, 0, 1, 7, 3, 0, 3, 8, 6, 8, 0, 4, 1, 7, 9, 0, 4, 9, 2, 6, 7, 1, 9, 5, 6, 9, 8, 2, 4, 0, 3, 3, 2, 2, 8, 1, 0, 8, 1, 8, 1, 0, 1, 4, 7, 3, 7, 7, 3, 3, 9, 9, 0, 6, 4, 5, 8, 9, 2, 3, 5, 4, 1, 6, 9, 2, 3, 4, 6, 1, 8, 1, 4, 4, 0, 6, 1, 7, 0, 5, 4, 5, 3, 6, 4, 1, 2, 0, 7, 6, 6, 4, 3, 4, 2, 5, 4, 9, 6, 8, 0, 4, 2, 6, 1, 7, 5, 3, 3, 3, 4, 6, 3, 5, 6, 6, 4, 5, 1, 4, 4, 4, 1, 9, 3, 6, 6, 9, 7, 8, 0, 0, 3, 6, 0, 8, 1, 4, 3, 3, 1, 5, 5, 3, 4, 4, 7, 1, 3, 0, 3, 6, 1, 4, 4, 8, 6, 8, 2, 7, 0, 3, 1, 3, 6, 3, 4, 1, 4, 0, 0, 6, 7, 7, 8, 3, 6, 9, 5, 6, 0, 9, 9, 4, 3, 8, 7, 3, 6, 3, 7, 9, 0, 2, 5, 1, 0, 5, 0, 3, 9, 7, 9, 6, 0, 7, 1, 6, 0, 8, 6, 4, 2, 7, 8, 6, 2, 4, 6, 9, 7, 3, 4, 5, 4, 5, 1, 9, 5, 0, 5, 6, 4, 1, 7, 9, 3, 4, 3, 2, 9, 1, 0, 3, 9, 5, 2, 8, 4, 4, 1, 4, 0, 0, 7, 5, 0, 3, 1, 4, 1, 6, 9, 8, 1, 3, 7, 3, 9, 9, 5, 4, 4, 3, 6, 8, 8, 5, 5, 1, 6, 8, 5, 7, 9, 9, 3, 4, 4, 4, 7, 9, 4, 6, 7, 5, 4, 7, 6, 1, 4, 2, 4, 0, 9, 0, 0, 5, 1, 1, 7, 8, 3, 2, 6, 4, 0, 6, 4, 9, 5, 2, 4, 4, 4, 0, 1, 5, 4, 7, 8, 6, 7, 7, 0, 8, 4, 3, 6, 9, 1, 4, 1, 7, 4, 3, 4, 9, 9, 6, 2, 4, 3, 3, 5, 7, 5, 4, 7, 8, 9, 9, 2, 7, 8, 7, 7, 5, 8, 7, 6, 6, 9, 0, 1, 8, 7, 5, 6, 5, 3, 7, 6, 6, 5, 5, 4, 9, 9, 1, 9, 5, 9, 4, 4, 1, 9, 8, 3, 5, 1, 8, 6, 5, 3, 4, 3, 7, 1, 1, 1, 8, 7, 5, 4, 3, 4, 7, 0, 0, 5, 3, 4, 8, 6, 5, 4, 7, 3, 6, 3, 4, 7, 8, 0, 7, 0, 9, 5, 8, 0, 7, 3, 5, 0, 9, 7, 3, 6, 6, 5, 7, 8, 4, 3, 1, 9, 0, 2, 9, 1, 3, 4, 6, 3, 6, 6, 4, 4, 8, 6, 2, 9, 5, 0, 1, 8, 4, 4, 1, 4, 2, 9, 1, 3, 7, 9, 6, 3, 5, 2, 5, 9, 8, 5, 3, 0, 1, 4, 2, 2, 1, 9, 2, 4, 0, 5, 5, 4, 4, 6, 0, 1, 4, 9, 9, 7, 0, 1, 4, 0, 0, 2, 6, 2, 5, 9, 4, 8, 4, 6, 1, 5, 9, 4, 1, 6, 9, 3, 1, 7, 1, 1, 1, 9, 1, 3, 8, 9, 9, 1, 9, 6, 0, 5, 8, 5, 5, 5, 3, 8, 9, 4, 7, 8, 4, 9, 6, 0, 1, 5, 0, 7, 8, 0, 0, 9, 1, 1, 8, 4, 8, 9, 2, 0, 7, 0, 3, 0, 5, 1, 6, 8, 4, 3, 7, 6, 3, 9, 7, 4, 1, 3, 7, 4, 4, 0, 3, 7, 5, 1, 1, 9, 5, 3, 5, 4, 6, 6, 1, 5, 4, 1, 6, 4, 5, 9, 9, 4, 4, 4, 1, 7, 9, 0, 5, 7, 0, 3, 8, 4, 1, 8, 2, 5, 6, 2, 8, 9, 2, 9, 3, 4, 4, 1, 1, 6, 4, 1, 0, 9, 6, 5, 9, 1, 5, 6, 9, 4, 4, 1, 7, 2, 9, 8, 8, 9, 8, 5, 3, 8, 4, 0, 3, 2, 1, 1, 9, 8, 9, 7, 5, 3, 2, 5, 5, 5, 4, 6, 9, 9, 3, 0, 6, 4, 1, 7, 4, 9, 2, 8, 5, 8, 6, 0, 1, 3, 4, 4, 3, 6, 6, 6, 6, 8, 3, 4, 6, 6, 1, 8, 6, 5, 4, 4, 3, 9, 0, 4, 3, 4, 5, 4, 4, 7, 3, 7, 3, 3, 6, 9, 6, 8, 5, 6, 6, 3, 6, 7, 2, 5, 3, 1, 1, 9, 7, 5, 4, 2, 1, 6, 4, 5, 9, 4, 5, 5, 4, 3, 0, 9, 2, 4, 2, 6, 4, 1, 9, 4, 3, 3, 6, 4, 0, 4, 1, 3, 7, 4, 6, 4, 4, 3, 2, 3, 0, 8, 3, 5, 1, 4, 3, 8, 4, 1, 2, 1, 1, 9, 6, 5, 9, 6, 8, 0, 3, 4, 3, 6, 3, 7, 5, 4, 1, 1, 4, 0, 5, 5, 0, 1, 0, 5, 4, 8, 9, 7, 9, 1, 1, 3, 3, 5, 0, 7, 5, 9, 2, 9, 3, 0, 6, 4, 8, 5, 0, 7, 9, 8, 3, 8, 1, 3, 3, 3, 5, 4, 5, 2, 4, 9, 6, 7, 1, 6, 8, 3, 7, 7, 6, 7, 9, 4, 7, 7, 0, 1, 6, 1, 4, 8, 2, 4, 7, 4, 7, 1, 8, 7, 5, 1, 3, 1, 6, 3, 6, 5, 3, 8, 6, 3, 4, 9, 0, 1, 5, 3, 0, 7, 0, 6, 4, 5, 1, 6, 6, 3, 8, 6, 9, 8, 6, 7, 0, 2, 4, 5, 1, 9, 6, 3, 8, 7, 1, 8, 1, 4, 0, 9, 4, 4, 3, 4, 6, 1, 3, 5, 4, 9, 7, 5, 3, 5, 5, 5, 6, 4, 8, 0, 7, 0, 8, 6, 4, 1, 7, 7, 7, 6, 8, 0, 3, 0, 9, 8, 5, 6, 4, 8, 1, 5, 5, 7, 0, 1, 6, 1, 3, 4, 4, 4, 4, 1, 7, 6, 4, 2, 6, 1, 8, 4, 4, 6, 3, 0, 8, 8, 4, 6, 4, 0, 7, 0, 8, 9, 1, 4, 2, 7, 6, 8, 1, 8, 4, 2, 2, 7, 5, 7, 9, 9, 3, 9, 4, 4, 0, 2, 1, 4, 8, 2, 4, 7, 6, 4, 4, 9, 1, 8, 0, 6, 4, 4, 0, 3, 2, 6, 1, 3, 6, 3, 4, 1, 7, 8, 1, 0, 7, 6, 5, 6, 0, 4, 8, 5, 8, 7, 8, 4, 5, 9, 5, 5, 1, 4, 4, 7, 2, 9, 7, 8, 6, 7, 4, 6, 3, 8, 8, 4, 5, 1, 8, 6, 4, 4, 2, 9, 8, 9, 0, 2, 7, 9, 3, 5, 9, 8, 4, 3, 9, 5, 9, 3, 0, 8, 6, 3, 6, 3, 5, 8, 0, 0, 3, 8, 4, 9, 0, 0, 7, 2, 0, 6, 7, 2, 8, 8, 4, 6, 3, 6, 7, 1, 2, 7, 4, 6, 7, 1, 6, 5, 4, 0, 7, 9, 6, 2, 8, 6, 1, 1, 8, 8, 0, 5, 7, 7, 4, 9, 4, 3, 9, 3, 8, 9, 0, 4, 0, 4, 5, 7, 0, 6, 3, 9, 5, 7, 2, 6, 5, 8, 3, 1, 3, 5, 4, 9, 4, 3, 9, 7, 4, 0, 6, 6, 9, 1, 9, 9, 0, 7, 1, 4, 5, 0, 3, 8, 7, 4, 9, 5, 9, 3, 2, 0, 6, 9, 0, 5, 0, 1, 3, 7, 9, 1, 5, 9, 3, 0, 9, 7, 4, 9, 4, 1, 6, 7, 5, 1, 0, 7, 3, 4, 7, 2, 4, 6, 8, 5, 7, 9, 5, 7, 3, 4, 3, 9, 0, 3, 1, 5, 6, 9, 7, 2, 0, 6, 5, 8, 0, 7, 7, 3, 4, 0, 4, 8, 4, 0, 6, 9, 8, 9, 6, 5, 0, 6, 0, 4, 6, 3, 1, 8, 7, 4, 1, 9, 1, 4, 6, 5, 2, 3, 6, 0, 2, 6, 6, 7, 2, 1, 8, 4, 8, 7, 9, 4, 1, 4, 5, 7, 7, 3, 6, 5, 7, 0, 6, 7, 3, 4, 6, 9, 6, 7, 3, 9, 1, 2, 1, 9, 7, 2, 3, 3, 8, 1, 8, 3, 5, 0, 5, 3, 8, 9, 7, 6, 9, 0, 6, 8, 4, 6, 3, 3, 6, 3, 7, 8, 7, 1, 3, 7, 8, 9, 5, 5, 4, 4, 4, 5, 0, 8, 6, 6, 6, 0, 8, 8, 9, 2, 9, 1, 5, 1, 4, 1, 6, 0, 4, 2, 4, 5, 7, 5, 9, 4, 0, 5, 7, 6, 5, 6, 5, 6, 6, 2, 0, 7, 1, 5, 4, 9, 8, 1, 7, 6, 4, 6, 0, 7, 1, 8, 5, 7, 8, 5, 5, 1, 8, 5, 7, 7, 7, 2, 5, 4, 4, 1, 2, 4, 4, 1, 6, 6, 9, 1, 8, 4, 6, 7, 4, 9, 5, 9, 4, 3, 9, 5, 6, 2, 4, 7, 3, 9, 0, 0, 5, 9, 6, 9, 2, 0, 2, 5, 9, 1, 2, 5, 2, 0, 4, 3, 1, 1, 1, 7, 2, 4, 2, 5, 9, 8, 7, 9, 3, 4, 7, 9, 2, 0, 1, 1, 1, 4, 8, 6, 8, 0, 5, 5, 6, 7, 6, 8, 4, 4, 2, 4, 6, 4, 5, 7, 4, 9, 8, 4, 4, 4, 0, 7, 4, 5, 2, 3, 0, 1, 9, 8, 1, 8, 2, 2, 3, 9, 1, 9, 7, 2, 9, 6, 9, 3, 0, 6, 6, 6, 2, 4, 0, 9, 4, 1, 1, 0, 5, 6, 7, 0, 4, 1, 1, 7, 0, 0, 1, 9, 6, 7, 3, 5, 4, 1, 6, 6, 8, 0, 3, 6, 4, 3, 5, 9, 5, 8, 9, 3, 1, 7, 8, 9, 4, 1, 1, 9, 0, 7, 0, 0, 9, 3, 0, 4, 9, 6, 8, 5, 5, 9, 3, 3, 5, 7, 1, 3, 3, 3, 5, 6, 0, 4, 1, 1, 9, 1, 4, 6, 6, 6, 4, 6, 2, 0, 4, 5, 0, 3, 0, 5, 1, 1, 8, 4, 5, 3, 5, 1, 6, 2, 3, 1, 2, 7, 9, 2, 3, 8, 5, 2, 6, 9, 1, 5, 7, 7, 2, 4, 4, 7, 5, 4, 1, 5, 7, 7, 8, 2, 8, 3, 7, 4, 0, 6, 9, 9, 0, 0, 7, 3, 1, 0, 8, 4, 4, 4, 4, 7, 1, 8, 4, 6, 3, 4, 6, 6, 9, 8, 0, 3, 8, 3, 9, 4, 1, 5, 6, 5, 0, 6, 4, 2, 5, 9, 3, 0, 4, 7, 8, 5, 9, 5, 0, 0, 6, 9, 7, 2, 9, 2, 2, 6, 4, 0, 1, 2, 3, 9, 4, 0, 3, 4, 4, 6, 9, 4, 7, 6, 5, 4, 3, 4, 5, 5, 0, 2, 1, 1, 8, 7, 3, 4, 6, 9, 4, 3, 8, 8, 8, 9, 6, 0, 9, 4, 6, 3, 0, 8, 6, 8, 8, 5, 9, 6, 7, 1, 9, 0, 3, 3, 3, 4, 3, 9, 9, 5, 3, 6, 4, 2, 4, 6, 4, 5, 3, 4, 9, 8, 5, 8, 3, 4, 1, 4, 8, 8, 4, 2, 2, 3, 5, 0, 3, 5, 4, 5, 3, 9, 1, 0, 9, 8, 9, 3, 8, 8, 5, 5, 8, 2, 4, 6, 8, 3, 0, 4, 9, 2, 1, 0, 5, 1, 4, 3, 9, 4, 6, 3, 6, 7, 2, 6, 4, 3, 8, 5, 1, 8, 3, 2, 4, 5, 0, 0, 7, 8, 7, 4, 2, 4, 6, 9, 3, 5, 0, 9, 9, 0, 1, 3, 7, 1, 9, 6, 7, 4, 2, 9, 5, 7, 9, 2, 4, 8, 3, 1, 7, 8, 8, 6, 8, 0, 5, 5, 7, 1, 9, 6, 4, 1, 5, 1, 9, 0, 1, 6, 3, 2, 5, 3, 9, 3, 5, 4, 0, 6, 9, 5, 4, 6, 3, 8, 5, 8, 0, 6, 4, 1, 4, 9, 5, 8, 9, 8, 3, 2, 9, 5, 9, 1, 1, 1, 8, 2, 1, 4, 6, 9, 9, 8, 9, 7, 4, 0, 1, 9, 9, 1, 9, 6, 6, 3, 7, 3, 1, 6, 6, 8, 3, 2, 3, 3, 8, 4, 7, 1, 6, 3, 8, 4, 7, 9, 8, 0, 3, 0, 4, 5, 7, 2, 7, 0, 5, 0, 4, 6, 3, 3, 0, 6, 4, 4, 4, 4, 6, 9, 9, 6, 7, 4, 0, 4, 6, 1, 9, 5, 9, 9, 0, 5, 8, 4, 7, 3, 9, 5, 2, 8, 9, 5, 8, 0, 0, 4, 0, 6, 3, 7, 8, 0, 1, 4, 4, 6, 1, 1, 6, 4, 6, 5, 4, 2, 9, 3, 4, 2, 3, 7, 4, 9, 4, 1, 4, 7, 5, 5, 9, 4, 0, 9, 7, 9, 7, 4, 1, 8, 3, 3, 8, 0, 8, 7, 0, 7, 7, 9, 4, 4, 2, 3, 7, 0, 1, 5, 4, 0, 5, 8, 6, 7, 0, 1, 0, 5, 6, 4, 1, 4, 1, 8, 7, 9, 5, 7, 3, 2, 4, 4, 7, 6, 3, 9, 6, 0, 9, 5, 1, 6, 9, 8, 7, 4, 3, 5, 7, 4, 7, 4, 8, 7, 5, 4, 5, 9, 4, 3, 5, 0, 4, 5, 5, 3, 1, 9, 0, 7, 1, 0, 3, 4, 4, 4, 5, 7, 4, 1, 1, 7, 7, 7, 0, 1, 6, 8, 5, 4, 5, 2, 7, 8, 7, 7, 0, 8, 5, 6, 0, 5, 5, 6, 7, 7, 9, 7, 1, 0, 0, 8, 0, 4, 0, 6, 4, 5, 5, 0, 5, 3, 6, 4, 5, 6, 7, 1, 8, 7, 1, 6, 4, 6, 2, 5, 3, 7, 4, 8, 6, 3, 9, 4, 6, 6, 0, 8, 7, 3, 3, 0, 5, 6, 1, 5, 0, 9, 9, 1, 3, 6, 6, 1, 2, 6, 5, 7, 6, 4, 0, 9, 4, 0, 8, 4, 8, 3, 7, 7, 3, 3, 9, 5, 7, 6, 0, 9, 4, 5, 0, 7, 6, 9, 5, 5, 8, 7, 4, 9, 5, 6, 3, 6, 3, 0, 4, 7, 6, 4, 6, 5, 4, 1, 5, 7, 9, 9, 3, 9, 8, 8, 5, 1, 9, 6, 3, 0, 6, 8, 0, 7, 6, 9, 8, 8, 4, 3, 4, 1, 7, 7, 1, 2, 6, 7, 0, 3, 4, 8, 7, 8, 7, 9, 1, 1, 3, 8, 7, 5, 9, 1, 0, 6, 3, 4, 4, 4, 7, 1, 4, 0, 1, 5, 6, 4, 5, 4, 4, 4, 4, 6, 7, 7, 4, 7, 1, 4, 0, 8, 3, 3, 5, 2, 0, 8, 3, 0, 2, 0, 1, 8, 4, 0, 4, 9, 5, 2, 4, 5, 4, 1, 6, 4, 4, 5, 8, 0, 7, 3, 0, 6, 7, 6, 4, 3, 6, 4, 4, 6, 3, 2, 5, 1, 7, 5, 4, 5, 7, 9, 9, 9, 9, 2, 6, 9, 4, 0, 5, 5, 5, 0, 5, 6, 0, 6, 0, 4, 9, 9, 4, 4, 5, 4, 0, 1, 0, 8, 9, 5, 7, 3, 0, 2, 4, 1, 6, 8, 1, 8, 4, 6, 6, 9, 8, 5, 1, 4, 4, 0, 9, 6, 8, 8, 0, 7, 3, 6, 9, 8, 9, 9, 2, 9, 6, 3, 3, 4, 5, 0, 8, 0, 4, 6, 3, 0, 0, 0, 3, 3, 5, 9, 4, 7, 1, 5, 4, 1, 4, 1, 7, 9, 4, 6, 4, 5, 6, 9, 4, 9, 8, 8, 7, 2, 4, 3, 9, 3, 6, 7, 6, 4, 5, 0, 2, 1, 0, 5, 7, 3, 5, 9, 6, 3, 2, 8, 5, 8, 1, 9, 2, 7, 6, 7, 3, 0, 2, 5, 8, 8, 8, 8, 7, 4, 0, 5, 1, 5, 9, 6, 0, 9, 5, 8, 5, 7, 3, 9, 8, 3, 4, 6, 5, 7, 5, 1, 1, 5, 4, 1, 6, 5, 8, 4, 9, 6, 3, 3, 4, 0, 6, 4, 1, 1, 4, 7, 6, 7, 0, 4, 6, 8, 8, 8, 7, 7, 1, 4, 6, 4, 1, 6, 0, 4, 5, 8, 2, 4, 6, 6, 1, 5, 5, 4, 4, 0, 5, 4, 7, 0, 3, 4, 5, 5, 7, 5, 7, 0, 1, 1, 9, 7, 9, 0, 1, 9, 6, 3, 6, 5, 4, 0, 4, 5, 7, 2, 2, 4, 4, 5, 2, 2, 3, 7, 8, 6, 4, 4, 1, 1, 7, 5, 4, 5, 3, 0, 8, 5, 8, 6, 4, 1, 4, 3, 7, 2, 9, 0, 4, 7, 4, 3, 2, 9, 5, 5, 9, 4, 6, 4, 1, 1, 8, 9, 6, 4, 2, 3, 3, 0, 7, 1, 8, 8, 5, 0, 3, 7, 7, 1, 0, 1, 4, 1, 5, 0, 4, 1, 1, 0, 9, 3, 7, 4, 9, 0, 1, 8, 9, 0, 6, 6, 0, 9, 1, 6, 1, 4, 7, 8, 0, 5, 6, 8, 4, 5, 5, 1, 5, 9, 1, 8, 5, 3, 1, 2, 4, 3, 7, 3, 5, 4, 8, 0, 7, 1, 4, 3, 9, 8, 3, 8, 7, 7, 9, 7, 0, 9, 4, 0, 9, 6, 1, 9, 8, 6, 3, 7, 2, 9, 5, 4, 7, 1, 0, 1, 2, 3, 9, 2, 0, 5, 6, 0, 5, 5, 4, 6, 9, 9, 1, 6, 7, 7, 7, 4, 5, 1, 4, 0, 2, 3, 8, 9, 8, 4, 1, 0, 8, 3, 9, 8, 8, 7, 8, 3, 2, 0, 7, 2, 8, 6, 9, 9, 6, 7, 7, 2, 4, 1, 5, 2, 2, 0, 5, 5, 0, 8, 4, 7, 8, 9, 4, 2, 1, 7, 4, 6, 4, 9, 4, 3, 2, 0, 7, 7, 8, 0, 9, 1, 4, 6, 4, 9, 7, 1, 9, 9, 3, 3, 1, 4, 3, 5, 6, 3, 7, 4, 1, 4, 2, 4, 7, 5, 4, 6, 7, 7, 8, 1, 8, 1, 6, 4, 5, 5, 6, 1, 4, 4, 0, 1, 4, 0, 7, 6, 8, 8, 4, 8, 4, 5, 0, 0, 1, 7, 9, 7, 3, 9, 4, 0, 4, 8, 7, 1, 6, 8, 7, 8, 6, 4, 8, 4, 8, 0, 1, 5, 3, 8, 1, 7, 4, 9, 3, 7, 9, 5, 1, 8, 3, 0, 9, 2, 6, 6, 4, 2, 7, 6, 0, 9, 8, 8, 1, 5, 7, 7, 1, 7, 5, 4, 3, 0, 7, 8, 7, 3, 7, 0, 6, 5, 5, 4, 6, 7, 2, 0, 3, 4, 0, 4, 7, 8, 6, 2, 0, 1, 5, 3, 8, 3, 9, 7, 1, 7, 1, 0, 2, 6, 5, 6, 0, 6, 4, 1, 1, 4, 9, 0, 4, 6, 1, 3, 4, 7, 0, 1, 8, 5, 7, 3, 0, 5, 0, 4, 6, 4, 2, 5, 2, 1, 8, 4, 1, 7, 3, 8, 8, 9, 9, 0, 1, 8, 1, 4, 9, 0, 3, 1, 1, 4, 7, 8, 3, 4, 9, 0, 4, 8, 4, 8, 2, 9, 4, 7, 5, 3, 3, 6, 2, 5, 7, 3, 7, 6, 6, 6, 9, 3, 6, 5, 4, 1, 6, 1, 8, 1, 9, 4, 8, 9, 9, 1, 3, 7, 0, 0, 6, 1, 6, 4, 6, 4, 2, 4, 7, 0, 0, 3, 4, 0, 0, 1, 6, 8, 6, 5, 7, 9, 4, 6, 3, 7, 5, 1, 6, 7, 7, 5, 8, 0, 9, 1, 0, 1, 2, 9, 1, 6, 5, 3, 3, 0, 7, 1, 2, 7, 9, 3, 7, 6, 4, 6, 6, 7, 4, 7, 6, 1, 7, 8, 8, 7, 0, 1, 2, 0, 9, 7, 5, 9, 1, 4, 0, 4, 7, 2, 3, 4, 1, 7, 5, 7, 8, 9, 6, 0, 3, 1, 4, 7, 9, 0, 6, 7, 8, 4, 7, 4, 0, 8, 3, 0, 1, 7, 9, 6, 9, 1, 6, 6, 7, 1, 0, 6, 3, 7, 6, 1, 8, 2, 5, 9, 5, 8, 1, 0, 9, 0, 0, 6, 1, 1, 4, 7, 3, 0, 7, 9, 6, 9, 5, 4, 0, 2, 5, 4, 3, 8, 3, 8, 1, 1, 4, 4, 8, 1, 0, 8, 1, 8, 5, 3, 6, 7, 0, 2, 4, 9, 6, 2, 3, 9, 9, 6, 9, 9, 6, 7, 3, 4, 3, 3, 9, 4, 7, 7, 8, 1, 1, 6, 2, 5, 7, 9, 4, 7, 4, 7, 0, 6, 2, 9, 7, 7, 7, 5, 6, 1, 4, 3, 2, 6, 4, 0, 9, 8, 7, 8, 4, 4, 8, 9, 9, 1, 2, 7, 9, 9, 0, 1, 5, 1, 1, 3, 6, 9, 9, 8, 3, 6, 8, 5, 4, 4, 3, 6, 8, 0, 9, 6, 6, 9, 0, 1, 4, 8, 1, 8, 2, 1, 8, 1, 7, 1, 9, 1, 8, 3, 7, 4, 1, 6, 6, 2, 4, 4, 8, 4, 4, 5, 5, 0, 4, 2, 9, 8, 0, 1, 0, 0, 4, 8, 3, 4, 7, 7, 5, 9, 4, 5, 4, 2, 9, 9, 2, 6, 7, 6, 9, 1, 4, 6, 4, 8, 3, 1, 9, 0, 1, 6, 7, 0, 8, 5, 6, 4, 6, 4, 1, 1, 9, 8, 8, 9, 4, 4, 6, 6, 5, 4, 5, 3, 8, 3, 0, 3, 6, 6, 1, 5, 0, 3, 3, 1, 9, 6, 8, 7, 8, 4, 3, 6, 4, 5, 0, 9, 0, 7, 1, 1, 7, 9, 0, 1, 2, 5, 7, 4, 2, 3, 3, 4, 1, 0, 0, 9, 9, 8, 4, 9, 6, 4, 5, 4, 7, 6, 6, 5, 4, 6, 9, 3, 7, 0, 6, 3, 5, 2, 4, 3, 4, 6, 9, 8, 8, 0, 4, 0, 6, 3, 9, 4, 4, 8, 1, 9, 4, 6, 9, 6, 0, 2, 0, 8, 7, 3, 5, 0, 2, 3, 1, 3, 0, 9, 5, 4, 3, 7, 6, 2, 6, 9, 0, 7, 0, 5, 2, 8, 4, 1, 0, 0, 4, 5, 9, 3, 5, 0, 4, 0, 7, 4, 6, 8, 3, 1, 8, 6, 3, 8, 9, 4, 0, 6, 8, 0, 8, 6, 5, 7, 0, 3, 6, 8, 1, 5, 9, 6, 4, 8, 9, 6, 1, 0, 5, 5, 4, 4, 8, 4, 6, 6, 7, 2, 5, 3, 7, 4, 5, 6, 8, 3, 9, 5, 6, 6, 4, 4, 3, 6, 2, 9, 4, 5, 6, 5, 6, 3, 1, 7, 8, 6, 4, 7, 3, 3, 8, 0, 8, 9, 4, 8, 9, 4, 9, 6, 3, 4, 6, 0, 1, 1, 9, 3, 8, 2, 1, 9, 5, 8, 4, 8, 4, 3, 5, 6, 0, 4, 9, 6, 6, 4, 9, 8, 6, 5, 9, 4, 4, 5, 4, 1, 6, 7, 4, 4, 2, 5, 4, 6, 0, 6, 1, 5, 4, 0, 1, 9, 7, 5, 6, 5, 6, 9, 6, 6, 0, 5, 4, 8, 9, 0, 9, 7, 5, 5, 7, 9, 3, 2, 8, 4, 3, 9, 3, 1, 0, 4, 5, 4, 8, 7, 9, 7, 7, 7, 9, 4, 6, 0, 6, 7, 6, 1, 8, 0, 3, 8, 5, 0, 5, 6, 9, 1, 1, 4, 0, 8, 9, 7, 7, 5, 8, 6, 1, 4, 0, 1, 8, 6, 3, 4, 7, 9, 3, 7, 5, 5, 0, 9, 1, 4, 1, 6, 7, 6, 6, 9, 3, 4, 4, 1, 7, 5, 1, 6, 5, 9, 0, 2, 9, 9, 3, 8, 8, 2, 8, 5, 7, 0, 7, 0, 9, 6, 9, 2, 9, 2, 8, 5, 3, 0, 1, 6, 4, 4, 7, 4, 1, 7, 7, 8, 5, 9, 0, 4, 6, 4, 1, 3, 8, 0, 1, 4, 7, 5, 9, 1, 0, 4, 3, 7, 6, 4, 3, 1, 8, 4, 7, 4, 5, 5, 3, 1, 5, 1, 9, 4, 9, 6, 2, 2, 1, 8, 3, 9, 8, 4, 0, 4, 8, 4, 5, 1, 6, 4, 6, 4, 2, 8, 5, 7, 7, 7, 6, 5, 5, 7, 9, 9, 8, 4, 8, 2, 1, 3, 3, 4, 8, 9, 2, 6, 5, 3, 6, 8, 1, 6, 6, 1, 0, 5, 4, 9, 7, 4, 8, 7, 3, 7, 6, 1, 4, 1, 7, 4, 8, 8, 5, 6, 4, 0, 6, 1, 6, 6, 5, 0, 1, 5, 5, 4, 5, 1, 7, 8, 7, 1, 6, 7, 0, 9, 3, 1, 9, 0, 4, 2, 6, 5, 9, 9, 4, 0, 7, 1, 8, 1, 4, 4, 3, 7, 8, 4, 0, 4, 5, 1, 4, 9, 3, 5, 8, 0, 1, 9, 6, 7, 3, 7, 4, 4, 6, 0, 4, 1, 3, 3, 6, 7, 0, 5, 9, 8, 5, 3, 7, 9, 9, 6, 8, 8, 0, 1, 4, 4, 0, 6, 8, 1, 6, 1, 0, 3, 4, 7, 8, 7, 0, 4, 3, 4, 4, 5, 7, 7, 2, 5, 4, 4, 5, 0, 1, 7, 6, 7, 6, 0, 0, 0, 5, 1, 1, 4, 4, 6, 9, 8, 1, 2, 1, 6, 8, 5, 4, 0, 4, 0, 4, 9, 3, 8, 5, 4, 8, 6, 4, 8, 6, 4, 2, 0, 8, 7, 5, 2, 8, 9, 6, 9, 5, 9, 2, 1, 6, 4, 1, 7, 7, 1, 7, 3, 5, 8, 7, 4, 5, 1, 5, 6, 0, 0, 0, 1, 6, 4, 2, 8, 0, 3, 4, 6, 3, 5, 1, 6, 3, 6, 5, 1, 8, 3, 1, 8, 5, 8, 4, 4, 0, 3, 7, 8, 1, 3, 9, 0, 4, 8, 1, 4, 8, 8, 3, 0, 8, 5, 7, 5, 4, 7, 7, 6, 1, 8, 1, 7, 7, 0, 3, 1, 6, 5, 5, 3, 8, 9, 4, 0, 9, 5, 1, 7, 6, 1, 5, 2, 6, 1, 3, 8, 7, 1, 3, 4, 4, 5, 7, 3, 2, 7, 3, 3, 7, 8, 8, 4, 5, 6, 9, 7, 3, 6, 9, 3, 6, 5, 5, 0, 9, 1, 4, 1, 5, 4, 4, 1, 4, 0, 3, 3, 6, 3, 6, 8, 2, 7, 5, 5, 7, 0, 7, 9, 2, 3, 4, 9, 4, 7, 1, 8, 8, 8, 5, 8, 3, 8, 9, 3, 8, 0, 4, 1, 8, 4, 4, 0, 0, 9, 5, 3, 1, 5, 1, 3, 5, 0, 8, 4, 1, 7, 3, 0, 8, 2, 9, 6, 9, 0, 0, 4, 1, 4, 6, 2, 9, 1, 4, 9, 7, 6, 4, 6, 0, 9, 7, 8, 5, 0, 9, 0, 0, 6, 8, 1, 3, 6, 7, 5, 8, 4, 5, 2, 8, 9, 1, 9, 1, 8, 1, 5]\n"
          ],
          "name": "stdout"
        }
      ]
    },
    {
      "cell_type": "code",
      "metadata": {
        "id": "XVNad2yWoelH",
        "colab_type": "code",
        "colab": {
          "base_uri": "https://localhost:8080/",
          "height": 34
        },
        "outputId": "3b258ef8-807f-4137-a8c1-e1a966e22a10"
      },
      "source": [
        "np.unique(out)"
      ],
      "execution_count": 41,
      "outputs": [
        {
          "output_type": "execute_result",
          "data": {
            "text/plain": [
              "array([0, 1, 2, 3, 4, 5, 6, 7, 8, 9])"
            ]
          },
          "metadata": {
            "tags": []
          },
          "execution_count": 41
        }
      ]
    },
    {
      "cell_type": "code",
      "metadata": {
        "id": "aMKLZi0FoghK",
        "colab_type": "code",
        "colab": {
          "base_uri": "https://localhost:8080/",
          "height": 351
        },
        "outputId": "0762aaac-d5f4-4290-c8c2-3c23135fa4b1"
      },
      "source": [
        "from sklearn.metrics import classification_report,accuracy_score\n",
        "acc2 = accuracy_score(testY,out2)\n",
        "report2 = classification_report(testY,out2)\n",
        "print(\"The accuracy of the model is {}%\".format(acc2*100))\n",
        "print(\"The following is the classification report:-\\n {}\".format(report2))"
      ],
      "execution_count": 42,
      "outputs": [
        {
          "output_type": "stream",
          "text": [
            "The accuracy of the model is 77.75999999999999%\n",
            "The following is the classification report:-\n",
            "               precision    recall  f1-score   support\n",
            "\n",
            "         0.0       0.77      0.72      0.74      1000\n",
            "         1.0       0.98      0.94      0.96      1000\n",
            "         2.0       0.42      0.21      0.28      1000\n",
            "         3.0       0.86      0.82      0.84      1000\n",
            "         4.0       0.49      0.77      0.60      1000\n",
            "         5.0       0.95      0.95      0.95      1000\n",
            "         6.0       0.50      0.56      0.53      1000\n",
            "         7.0       0.93      0.94      0.94      1000\n",
            "         8.0       0.95      0.93      0.94      1000\n",
            "         9.0       0.95      0.93      0.94      1000\n",
            "\n",
            "    accuracy                           0.78     10000\n",
            "   macro avg       0.78      0.78      0.77     10000\n",
            "weighted avg       0.78      0.78      0.77     10000\n",
            "\n"
          ],
          "name": "stdout"
        }
      ]
    }
  ]
}