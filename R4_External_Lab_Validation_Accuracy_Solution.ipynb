{
 "cells": [
  {
   "cell_type": "code",
   "execution_count": 354,
   "metadata": {
    "colab": {},
    "colab_type": "code",
    "id": "Y3vvEXP1_0og"
   },
   "outputs": [],
   "source": [
    "# Import important library\n",
    "import numpy as np\n",
    "import pandas as pd\n",
    "import matplotlib.pyplot as plt\n",
    "import seaborn as sns\n",
    "%matplotlib inline\n",
    "import warnings\n",
    "warnings.filterwarnings('ignore')"
   ]
  },
  {
   "cell_type": "markdown",
   "metadata": {
    "colab_type": "text",
    "id": "7O83uMqA_0ol"
   },
   "source": [
    "### Q1 Read the input file and check the data dimension"
   ]
  },
  {
   "cell_type": "code",
   "execution_count": 355,
   "metadata": {
    "colab": {},
    "colab_type": "code",
    "id": "1brbOfG_Enzy"
   },
   "outputs": [],
   "source": [
    "#Read input file and understand the data\n",
    "# \"default\" is my dependent variable"
   ]
  },
  {
   "cell_type": "code",
   "execution_count": 356,
   "metadata": {
    "colab": {},
    "colab_type": "code",
    "id": "_LGo1xnK_0ow"
   },
   "outputs": [],
   "source": [
    "#Reading the input datafile\n",
    "ger_cred=pd.read_csv('german_credit.csv')"
   ]
  },
  {
   "cell_type": "code",
   "execution_count": 357,
   "metadata": {},
   "outputs": [
    {
     "data": {
      "text/html": [
       "<div>\n",
       "<style scoped>\n",
       "    .dataframe tbody tr th:only-of-type {\n",
       "        vertical-align: middle;\n",
       "    }\n",
       "\n",
       "    .dataframe tbody tr th {\n",
       "        vertical-align: top;\n",
       "    }\n",
       "\n",
       "    .dataframe thead th {\n",
       "        text-align: right;\n",
       "    }\n",
       "</style>\n",
       "<table border=\"1\" class=\"dataframe\">\n",
       "  <thead>\n",
       "    <tr style=\"text-align: right;\">\n",
       "      <th></th>\n",
       "      <th>default</th>\n",
       "      <th>account_check_status</th>\n",
       "      <th>duration_in_month</th>\n",
       "      <th>credit_history</th>\n",
       "      <th>purpose</th>\n",
       "      <th>credit_amount</th>\n",
       "      <th>savings</th>\n",
       "      <th>present_emp_since</th>\n",
       "      <th>installment_as_income_perc</th>\n",
       "      <th>personal_status_sex</th>\n",
       "      <th>...</th>\n",
       "      <th>present_res_since</th>\n",
       "      <th>property</th>\n",
       "      <th>age</th>\n",
       "      <th>other_installment_plans</th>\n",
       "      <th>housing</th>\n",
       "      <th>credits_this_bank</th>\n",
       "      <th>job</th>\n",
       "      <th>people_under_maintenance</th>\n",
       "      <th>telephone</th>\n",
       "      <th>foreign_worker</th>\n",
       "    </tr>\n",
       "  </thead>\n",
       "  <tbody>\n",
       "    <tr>\n",
       "      <th>0</th>\n",
       "      <td>0</td>\n",
       "      <td>&lt; 0 DM</td>\n",
       "      <td>6</td>\n",
       "      <td>critical account/ other credits existing (not ...</td>\n",
       "      <td>domestic appliances</td>\n",
       "      <td>1169</td>\n",
       "      <td>unknown/ no savings account</td>\n",
       "      <td>.. &gt;= 7 years</td>\n",
       "      <td>4</td>\n",
       "      <td>male : single</td>\n",
       "      <td>...</td>\n",
       "      <td>4</td>\n",
       "      <td>real estate</td>\n",
       "      <td>67</td>\n",
       "      <td>none</td>\n",
       "      <td>own</td>\n",
       "      <td>2</td>\n",
       "      <td>skilled employee / official</td>\n",
       "      <td>1</td>\n",
       "      <td>yes, registered under the customers name</td>\n",
       "      <td>yes</td>\n",
       "    </tr>\n",
       "    <tr>\n",
       "      <th>1</th>\n",
       "      <td>1</td>\n",
       "      <td>0 &lt;= ... &lt; 200 DM</td>\n",
       "      <td>48</td>\n",
       "      <td>existing credits paid back duly till now</td>\n",
       "      <td>domestic appliances</td>\n",
       "      <td>5951</td>\n",
       "      <td>... &lt; 100 DM</td>\n",
       "      <td>1 &lt;= ... &lt; 4 years</td>\n",
       "      <td>2</td>\n",
       "      <td>female : divorced/separated/married</td>\n",
       "      <td>...</td>\n",
       "      <td>2</td>\n",
       "      <td>real estate</td>\n",
       "      <td>22</td>\n",
       "      <td>none</td>\n",
       "      <td>own</td>\n",
       "      <td>1</td>\n",
       "      <td>skilled employee / official</td>\n",
       "      <td>1</td>\n",
       "      <td>none</td>\n",
       "      <td>yes</td>\n",
       "    </tr>\n",
       "    <tr>\n",
       "      <th>2</th>\n",
       "      <td>0</td>\n",
       "      <td>no checking account</td>\n",
       "      <td>12</td>\n",
       "      <td>critical account/ other credits existing (not ...</td>\n",
       "      <td>(vacation - does not exist?)</td>\n",
       "      <td>2096</td>\n",
       "      <td>... &lt; 100 DM</td>\n",
       "      <td>4 &lt;= ... &lt; 7 years</td>\n",
       "      <td>2</td>\n",
       "      <td>male : single</td>\n",
       "      <td>...</td>\n",
       "      <td>3</td>\n",
       "      <td>real estate</td>\n",
       "      <td>49</td>\n",
       "      <td>none</td>\n",
       "      <td>own</td>\n",
       "      <td>1</td>\n",
       "      <td>unskilled - resident</td>\n",
       "      <td>2</td>\n",
       "      <td>none</td>\n",
       "      <td>yes</td>\n",
       "    </tr>\n",
       "    <tr>\n",
       "      <th>3</th>\n",
       "      <td>0</td>\n",
       "      <td>&lt; 0 DM</td>\n",
       "      <td>42</td>\n",
       "      <td>existing credits paid back duly till now</td>\n",
       "      <td>radio/television</td>\n",
       "      <td>7882</td>\n",
       "      <td>... &lt; 100 DM</td>\n",
       "      <td>4 &lt;= ... &lt; 7 years</td>\n",
       "      <td>2</td>\n",
       "      <td>male : single</td>\n",
       "      <td>...</td>\n",
       "      <td>4</td>\n",
       "      <td>if not A121 : building society savings agreeme...</td>\n",
       "      <td>45</td>\n",
       "      <td>none</td>\n",
       "      <td>for free</td>\n",
       "      <td>1</td>\n",
       "      <td>skilled employee / official</td>\n",
       "      <td>2</td>\n",
       "      <td>none</td>\n",
       "      <td>yes</td>\n",
       "    </tr>\n",
       "    <tr>\n",
       "      <th>4</th>\n",
       "      <td>1</td>\n",
       "      <td>&lt; 0 DM</td>\n",
       "      <td>24</td>\n",
       "      <td>delay in paying off in the past</td>\n",
       "      <td>car (new)</td>\n",
       "      <td>4870</td>\n",
       "      <td>... &lt; 100 DM</td>\n",
       "      <td>1 &lt;= ... &lt; 4 years</td>\n",
       "      <td>3</td>\n",
       "      <td>male : single</td>\n",
       "      <td>...</td>\n",
       "      <td>4</td>\n",
       "      <td>unknown / no property</td>\n",
       "      <td>53</td>\n",
       "      <td>none</td>\n",
       "      <td>for free</td>\n",
       "      <td>2</td>\n",
       "      <td>skilled employee / official</td>\n",
       "      <td>2</td>\n",
       "      <td>none</td>\n",
       "      <td>yes</td>\n",
       "    </tr>\n",
       "  </tbody>\n",
       "</table>\n",
       "<p>5 rows × 21 columns</p>\n",
       "</div>"
      ],
      "text/plain": [
       "   default account_check_status  duration_in_month  \\\n",
       "0        0               < 0 DM                  6   \n",
       "1        1    0 <= ... < 200 DM                 48   \n",
       "2        0  no checking account                 12   \n",
       "3        0               < 0 DM                 42   \n",
       "4        1               < 0 DM                 24   \n",
       "\n",
       "                                      credit_history  \\\n",
       "0  critical account/ other credits existing (not ...   \n",
       "1           existing credits paid back duly till now   \n",
       "2  critical account/ other credits existing (not ...   \n",
       "3           existing credits paid back duly till now   \n",
       "4                    delay in paying off in the past   \n",
       "\n",
       "                        purpose  credit_amount                      savings  \\\n",
       "0           domestic appliances           1169  unknown/ no savings account   \n",
       "1           domestic appliances           5951                 ... < 100 DM   \n",
       "2  (vacation - does not exist?)           2096                 ... < 100 DM   \n",
       "3              radio/television           7882                 ... < 100 DM   \n",
       "4                     car (new)           4870                 ... < 100 DM   \n",
       "\n",
       "    present_emp_since  installment_as_income_perc  \\\n",
       "0       .. >= 7 years                           4   \n",
       "1  1 <= ... < 4 years                           2   \n",
       "2  4 <= ... < 7 years                           2   \n",
       "3  4 <= ... < 7 years                           2   \n",
       "4  1 <= ... < 4 years                           3   \n",
       "\n",
       "                   personal_status_sex  ... present_res_since  \\\n",
       "0                        male : single  ...                 4   \n",
       "1  female : divorced/separated/married  ...                 2   \n",
       "2                        male : single  ...                 3   \n",
       "3                        male : single  ...                 4   \n",
       "4                        male : single  ...                 4   \n",
       "\n",
       "                                            property age  \\\n",
       "0                                        real estate  67   \n",
       "1                                        real estate  22   \n",
       "2                                        real estate  49   \n",
       "3  if not A121 : building society savings agreeme...  45   \n",
       "4                              unknown / no property  53   \n",
       "\n",
       "   other_installment_plans   housing credits_this_bank  \\\n",
       "0                     none       own                 2   \n",
       "1                     none       own                 1   \n",
       "2                     none       own                 1   \n",
       "3                     none  for free                 1   \n",
       "4                     none  for free                 2   \n",
       "\n",
       "                           job people_under_maintenance  \\\n",
       "0  skilled employee / official                        1   \n",
       "1  skilled employee / official                        1   \n",
       "2         unskilled - resident                        2   \n",
       "3  skilled employee / official                        2   \n",
       "4  skilled employee / official                        2   \n",
       "\n",
       "                                   telephone foreign_worker  \n",
       "0  yes, registered under the customers name             yes  \n",
       "1                                       none            yes  \n",
       "2                                       none            yes  \n",
       "3                                       none            yes  \n",
       "4                                       none            yes  \n",
       "\n",
       "[5 rows x 21 columns]"
      ]
     },
     "execution_count": 357,
     "metadata": {},
     "output_type": "execute_result"
    }
   ],
   "source": [
    "#Checking if the csv is being read\n",
    "ger_cred.head()"
   ]
  },
  {
   "cell_type": "code",
   "execution_count": 358,
   "metadata": {
    "colab": {},
    "colab_type": "code",
    "id": "gKaiZis__0o0"
   },
   "outputs": [],
   "source": [
    "# Lets build a Ensemble model but need to modify the dataset first\n"
   ]
  },
  {
   "cell_type": "markdown",
   "metadata": {
    "colab_type": "text",
    "id": "utYEGBER_0o4"
   },
   "source": [
    "### Q2.Prepare the model data by converting non-numeric to dummy ( 1 Marks)\n",
    "##### Hint: Use get_dummies"
   ]
  },
  {
   "cell_type": "code",
   "execution_count": 359,
   "metadata": {
    "colab": {},
    "colab_type": "code",
    "id": "wjyTJcA6_0o6",
    "outputId": "e6bf7e9d-5732-4836-c0bb-fe03ba34683e"
   },
   "outputs": [],
   "source": [
    "# Print Shape of model data"
   ]
  },
  {
   "cell_type": "code",
   "execution_count": 360,
   "metadata": {},
   "outputs": [
    {
     "data": {
      "text/plain": [
       "(1000, 21)"
      ]
     },
     "execution_count": 360,
     "metadata": {},
     "output_type": "execute_result"
    }
   ],
   "source": [
    "ger_cred.shape"
   ]
  },
  {
   "cell_type": "code",
   "execution_count": 361,
   "metadata": {},
   "outputs": [],
   "source": [
    "german_cred=pd.get_dummies(ger_cred)"
   ]
  },
  {
   "cell_type": "code",
   "execution_count": 362,
   "metadata": {},
   "outputs": [
    {
     "data": {
      "text/plain": [
       "(1000, 62)"
      ]
     },
     "execution_count": 362,
     "metadata": {},
     "output_type": "execute_result"
    }
   ],
   "source": [
    "#Printing shape of model data\n",
    "german_cred.shape"
   ]
  },
  {
   "cell_type": "code",
   "execution_count": 364,
   "metadata": {},
   "outputs": [
    {
     "data": {
      "text/html": [
       "<div>\n",
       "<style scoped>\n",
       "    .dataframe tbody tr th:only-of-type {\n",
       "        vertical-align: middle;\n",
       "    }\n",
       "\n",
       "    .dataframe tbody tr th {\n",
       "        vertical-align: top;\n",
       "    }\n",
       "\n",
       "    .dataframe thead th {\n",
       "        text-align: right;\n",
       "    }\n",
       "</style>\n",
       "<table border=\"1\" class=\"dataframe\">\n",
       "  <thead>\n",
       "    <tr style=\"text-align: right;\">\n",
       "      <th></th>\n",
       "      <th>default</th>\n",
       "      <th>duration_in_month</th>\n",
       "      <th>credit_amount</th>\n",
       "      <th>installment_as_income_perc</th>\n",
       "      <th>present_res_since</th>\n",
       "      <th>age</th>\n",
       "      <th>credits_this_bank</th>\n",
       "      <th>people_under_maintenance</th>\n",
       "      <th>account_check_status_0 &lt;= ... &lt; 200 DM</th>\n",
       "      <th>account_check_status_&lt; 0 DM</th>\n",
       "      <th>...</th>\n",
       "      <th>housing_own</th>\n",
       "      <th>housing_rent</th>\n",
       "      <th>job_management/ self-employed/ highly qualified employee/ officer</th>\n",
       "      <th>job_skilled employee / official</th>\n",
       "      <th>job_unemployed/ unskilled - non-resident</th>\n",
       "      <th>job_unskilled - resident</th>\n",
       "      <th>telephone_none</th>\n",
       "      <th>telephone_yes, registered under the customers name</th>\n",
       "      <th>foreign_worker_no</th>\n",
       "      <th>foreign_worker_yes</th>\n",
       "    </tr>\n",
       "  </thead>\n",
       "  <tbody>\n",
       "    <tr>\n",
       "      <th>0</th>\n",
       "      <td>0</td>\n",
       "      <td>6</td>\n",
       "      <td>1169</td>\n",
       "      <td>4</td>\n",
       "      <td>4</td>\n",
       "      <td>67</td>\n",
       "      <td>2</td>\n",
       "      <td>1</td>\n",
       "      <td>0</td>\n",
       "      <td>1</td>\n",
       "      <td>...</td>\n",
       "      <td>1</td>\n",
       "      <td>0</td>\n",
       "      <td>0</td>\n",
       "      <td>1</td>\n",
       "      <td>0</td>\n",
       "      <td>0</td>\n",
       "      <td>0</td>\n",
       "      <td>1</td>\n",
       "      <td>0</td>\n",
       "      <td>1</td>\n",
       "    </tr>\n",
       "    <tr>\n",
       "      <th>1</th>\n",
       "      <td>1</td>\n",
       "      <td>48</td>\n",
       "      <td>5951</td>\n",
       "      <td>2</td>\n",
       "      <td>2</td>\n",
       "      <td>22</td>\n",
       "      <td>1</td>\n",
       "      <td>1</td>\n",
       "      <td>1</td>\n",
       "      <td>0</td>\n",
       "      <td>...</td>\n",
       "      <td>1</td>\n",
       "      <td>0</td>\n",
       "      <td>0</td>\n",
       "      <td>1</td>\n",
       "      <td>0</td>\n",
       "      <td>0</td>\n",
       "      <td>1</td>\n",
       "      <td>0</td>\n",
       "      <td>0</td>\n",
       "      <td>1</td>\n",
       "    </tr>\n",
       "    <tr>\n",
       "      <th>2</th>\n",
       "      <td>0</td>\n",
       "      <td>12</td>\n",
       "      <td>2096</td>\n",
       "      <td>2</td>\n",
       "      <td>3</td>\n",
       "      <td>49</td>\n",
       "      <td>1</td>\n",
       "      <td>2</td>\n",
       "      <td>0</td>\n",
       "      <td>0</td>\n",
       "      <td>...</td>\n",
       "      <td>1</td>\n",
       "      <td>0</td>\n",
       "      <td>0</td>\n",
       "      <td>0</td>\n",
       "      <td>0</td>\n",
       "      <td>1</td>\n",
       "      <td>1</td>\n",
       "      <td>0</td>\n",
       "      <td>0</td>\n",
       "      <td>1</td>\n",
       "    </tr>\n",
       "    <tr>\n",
       "      <th>3</th>\n",
       "      <td>0</td>\n",
       "      <td>42</td>\n",
       "      <td>7882</td>\n",
       "      <td>2</td>\n",
       "      <td>4</td>\n",
       "      <td>45</td>\n",
       "      <td>1</td>\n",
       "      <td>2</td>\n",
       "      <td>0</td>\n",
       "      <td>1</td>\n",
       "      <td>...</td>\n",
       "      <td>0</td>\n",
       "      <td>0</td>\n",
       "      <td>0</td>\n",
       "      <td>1</td>\n",
       "      <td>0</td>\n",
       "      <td>0</td>\n",
       "      <td>1</td>\n",
       "      <td>0</td>\n",
       "      <td>0</td>\n",
       "      <td>1</td>\n",
       "    </tr>\n",
       "    <tr>\n",
       "      <th>4</th>\n",
       "      <td>1</td>\n",
       "      <td>24</td>\n",
       "      <td>4870</td>\n",
       "      <td>3</td>\n",
       "      <td>4</td>\n",
       "      <td>53</td>\n",
       "      <td>2</td>\n",
       "      <td>2</td>\n",
       "      <td>0</td>\n",
       "      <td>1</td>\n",
       "      <td>...</td>\n",
       "      <td>0</td>\n",
       "      <td>0</td>\n",
       "      <td>0</td>\n",
       "      <td>1</td>\n",
       "      <td>0</td>\n",
       "      <td>0</td>\n",
       "      <td>1</td>\n",
       "      <td>0</td>\n",
       "      <td>0</td>\n",
       "      <td>1</td>\n",
       "    </tr>\n",
       "  </tbody>\n",
       "</table>\n",
       "<p>5 rows × 62 columns</p>\n",
       "</div>"
      ],
      "text/plain": [
       "   default  duration_in_month  credit_amount  installment_as_income_perc  \\\n",
       "0        0                  6           1169                           4   \n",
       "1        1                 48           5951                           2   \n",
       "2        0                 12           2096                           2   \n",
       "3        0                 42           7882                           2   \n",
       "4        1                 24           4870                           3   \n",
       "\n",
       "   present_res_since  age  credits_this_bank  people_under_maintenance  \\\n",
       "0                  4   67                  2                         1   \n",
       "1                  2   22                  1                         1   \n",
       "2                  3   49                  1                         2   \n",
       "3                  4   45                  1                         2   \n",
       "4                  4   53                  2                         2   \n",
       "\n",
       "   account_check_status_0 <= ... < 200 DM  account_check_status_< 0 DM  ...  \\\n",
       "0                                       0                            1  ...   \n",
       "1                                       1                            0  ...   \n",
       "2                                       0                            0  ...   \n",
       "3                                       0                            1  ...   \n",
       "4                                       0                            1  ...   \n",
       "\n",
       "   housing_own  housing_rent  \\\n",
       "0            1             0   \n",
       "1            1             0   \n",
       "2            1             0   \n",
       "3            0             0   \n",
       "4            0             0   \n",
       "\n",
       "   job_management/ self-employed/ highly qualified employee/ officer  \\\n",
       "0                                                  0                   \n",
       "1                                                  0                   \n",
       "2                                                  0                   \n",
       "3                                                  0                   \n",
       "4                                                  0                   \n",
       "\n",
       "   job_skilled employee / official  job_unemployed/ unskilled - non-resident  \\\n",
       "0                                1                                         0   \n",
       "1                                1                                         0   \n",
       "2                                0                                         0   \n",
       "3                                1                                         0   \n",
       "4                                1                                         0   \n",
       "\n",
       "   job_unskilled - resident  telephone_none  \\\n",
       "0                         0               0   \n",
       "1                         0               1   \n",
       "2                         1               1   \n",
       "3                         0               1   \n",
       "4                         0               1   \n",
       "\n",
       "   telephone_yes, registered under the customers name   foreign_worker_no  \\\n",
       "0                                                  1                    0   \n",
       "1                                                  0                    0   \n",
       "2                                                  0                    0   \n",
       "3                                                  0                    0   \n",
       "4                                                  0                    0   \n",
       "\n",
       "   foreign_worker_yes  \n",
       "0                   1  \n",
       "1                   1  \n",
       "2                   1  \n",
       "3                   1  \n",
       "4                   1  \n",
       "\n",
       "[5 rows x 62 columns]"
      ]
     },
     "execution_count": 364,
     "metadata": {},
     "output_type": "execute_result"
    }
   ],
   "source": [
    "#Printing the model data to check the changes\n",
    "german_cred.head()"
   ]
  },
  {
   "cell_type": "markdown",
   "metadata": {},
   "source": [
    "The non-numeric are now converted to dummy that lead to increase in the amount of columns."
   ]
  },
  {
   "cell_type": "markdown",
   "metadata": {
    "colab_type": "text",
    "id": "ytl4nlUW_0pA"
   },
   "source": [
    "### Check for highly correlated variables but don't required any treatment for this use case"
   ]
  },
  {
   "cell_type": "code",
   "execution_count": 389,
   "metadata": {
    "colab": {},
    "colab_type": "code",
    "id": "0W02DKRx_0pA"
   },
   "outputs": [
    {
     "data": {
      "text/html": [
       "<div>\n",
       "<style scoped>\n",
       "    .dataframe tbody tr th:only-of-type {\n",
       "        vertical-align: middle;\n",
       "    }\n",
       "\n",
       "    .dataframe tbody tr th {\n",
       "        vertical-align: top;\n",
       "    }\n",
       "\n",
       "    .dataframe thead th {\n",
       "        text-align: right;\n",
       "    }\n",
       "</style>\n",
       "<table border=\"1\" class=\"dataframe\">\n",
       "  <thead>\n",
       "    <tr style=\"text-align: right;\">\n",
       "      <th></th>\n",
       "      <th>default</th>\n",
       "      <th>duration_in_month</th>\n",
       "      <th>credit_amount</th>\n",
       "      <th>installment_as_income_perc</th>\n",
       "      <th>present_res_since</th>\n",
       "      <th>age</th>\n",
       "      <th>credits_this_bank</th>\n",
       "      <th>people_under_maintenance</th>\n",
       "    </tr>\n",
       "  </thead>\n",
       "  <tbody>\n",
       "    <tr>\n",
       "      <th>default</th>\n",
       "      <td>1.000000</td>\n",
       "      <td>0.214927</td>\n",
       "      <td>0.154739</td>\n",
       "      <td>0.072404</td>\n",
       "      <td>0.002967</td>\n",
       "      <td>-0.091127</td>\n",
       "      <td>-0.045732</td>\n",
       "      <td>-0.003015</td>\n",
       "    </tr>\n",
       "    <tr>\n",
       "      <th>duration_in_month</th>\n",
       "      <td>0.214927</td>\n",
       "      <td>1.000000</td>\n",
       "      <td>0.624984</td>\n",
       "      <td>0.074749</td>\n",
       "      <td>0.034067</td>\n",
       "      <td>-0.036136</td>\n",
       "      <td>-0.011284</td>\n",
       "      <td>-0.023834</td>\n",
       "    </tr>\n",
       "    <tr>\n",
       "      <th>credit_amount</th>\n",
       "      <td>0.154739</td>\n",
       "      <td>0.624984</td>\n",
       "      <td>1.000000</td>\n",
       "      <td>-0.271316</td>\n",
       "      <td>0.028926</td>\n",
       "      <td>0.032716</td>\n",
       "      <td>0.020795</td>\n",
       "      <td>0.017142</td>\n",
       "    </tr>\n",
       "    <tr>\n",
       "      <th>installment_as_income_perc</th>\n",
       "      <td>0.072404</td>\n",
       "      <td>0.074749</td>\n",
       "      <td>-0.271316</td>\n",
       "      <td>1.000000</td>\n",
       "      <td>0.049302</td>\n",
       "      <td>0.058266</td>\n",
       "      <td>0.021669</td>\n",
       "      <td>-0.071207</td>\n",
       "    </tr>\n",
       "    <tr>\n",
       "      <th>present_res_since</th>\n",
       "      <td>0.002967</td>\n",
       "      <td>0.034067</td>\n",
       "      <td>0.028926</td>\n",
       "      <td>0.049302</td>\n",
       "      <td>1.000000</td>\n",
       "      <td>0.266419</td>\n",
       "      <td>0.089625</td>\n",
       "      <td>0.042643</td>\n",
       "    </tr>\n",
       "    <tr>\n",
       "      <th>age</th>\n",
       "      <td>-0.091127</td>\n",
       "      <td>-0.036136</td>\n",
       "      <td>0.032716</td>\n",
       "      <td>0.058266</td>\n",
       "      <td>0.266419</td>\n",
       "      <td>1.000000</td>\n",
       "      <td>0.149254</td>\n",
       "      <td>0.118201</td>\n",
       "    </tr>\n",
       "    <tr>\n",
       "      <th>credits_this_bank</th>\n",
       "      <td>-0.045732</td>\n",
       "      <td>-0.011284</td>\n",
       "      <td>0.020795</td>\n",
       "      <td>0.021669</td>\n",
       "      <td>0.089625</td>\n",
       "      <td>0.149254</td>\n",
       "      <td>1.000000</td>\n",
       "      <td>0.109667</td>\n",
       "    </tr>\n",
       "    <tr>\n",
       "      <th>people_under_maintenance</th>\n",
       "      <td>-0.003015</td>\n",
       "      <td>-0.023834</td>\n",
       "      <td>0.017142</td>\n",
       "      <td>-0.071207</td>\n",
       "      <td>0.042643</td>\n",
       "      <td>0.118201</td>\n",
       "      <td>0.109667</td>\n",
       "      <td>1.000000</td>\n",
       "    </tr>\n",
       "  </tbody>\n",
       "</table>\n",
       "</div>"
      ],
      "text/plain": [
       "                             default  duration_in_month  credit_amount  \\\n",
       "default                     1.000000           0.214927       0.154739   \n",
       "duration_in_month           0.214927           1.000000       0.624984   \n",
       "credit_amount               0.154739           0.624984       1.000000   \n",
       "installment_as_income_perc  0.072404           0.074749      -0.271316   \n",
       "present_res_since           0.002967           0.034067       0.028926   \n",
       "age                        -0.091127          -0.036136       0.032716   \n",
       "credits_this_bank          -0.045732          -0.011284       0.020795   \n",
       "people_under_maintenance   -0.003015          -0.023834       0.017142   \n",
       "\n",
       "                            installment_as_income_perc  present_res_since  \\\n",
       "default                                       0.072404           0.002967   \n",
       "duration_in_month                             0.074749           0.034067   \n",
       "credit_amount                                -0.271316           0.028926   \n",
       "installment_as_income_perc                    1.000000           0.049302   \n",
       "present_res_since                             0.049302           1.000000   \n",
       "age                                           0.058266           0.266419   \n",
       "credits_this_bank                             0.021669           0.089625   \n",
       "people_under_maintenance                     -0.071207           0.042643   \n",
       "\n",
       "                                 age  credits_this_bank  \\\n",
       "default                    -0.091127          -0.045732   \n",
       "duration_in_month          -0.036136          -0.011284   \n",
       "credit_amount               0.032716           0.020795   \n",
       "installment_as_income_perc  0.058266           0.021669   \n",
       "present_res_since           0.266419           0.089625   \n",
       "age                         1.000000           0.149254   \n",
       "credits_this_bank           0.149254           1.000000   \n",
       "people_under_maintenance    0.118201           0.109667   \n",
       "\n",
       "                            people_under_maintenance  \n",
       "default                                    -0.003015  \n",
       "duration_in_month                          -0.023834  \n",
       "credit_amount                               0.017142  \n",
       "installment_as_income_perc                 -0.071207  \n",
       "present_res_since                           0.042643  \n",
       "age                                         0.118201  \n",
       "credits_this_bank                           0.109667  \n",
       "people_under_maintenance                    1.000000  "
      ]
     },
     "execution_count": 389,
     "metadata": {},
     "output_type": "execute_result"
    }
   ],
   "source": [
    "#Checking the corrleation\n",
    "german_cred.corr()"
   ]
  },
  {
   "cell_type": "code",
   "execution_count": 390,
   "metadata": {},
   "outputs": [
    {
     "data": {
      "text/plain": [
       "<matplotlib.colorbar.Colorbar at 0x23ea82463c8>"
      ]
     },
     "execution_count": 390,
     "metadata": {},
     "output_type": "execute_result"
    },
    {
     "data": {
      "image/png": "[encoded data removed]",
      "text/plain": [
       "<Figure size 1368x1080 with 2 Axes>"
      ]
     },
     "metadata": {
      "needs_background": "light"
     },
     "output_type": "display_data"
    }
   ],
   "source": [
    "#Plotting to check the correlation visually\n",
    "f = plt.figure(figsize=(19, 15))\n",
    "plt.matshow(german_cred.corr(),fignum=f.number)\n",
    "plt.colorbar()"
   ]
  },
  {
   "cell_type": "markdown",
   "metadata": {},
   "source": [
    "Since the graph shows the values mostly lie in between 0.25-1, which means there is a high correlation."
   ]
  },
  {
   "cell_type": "markdown",
   "metadata": {
    "colab_type": "text",
    "id": "jeI1_7is_0pG"
   },
   "source": [
    "### Drop the original variables which are converted to dummy"
   ]
  },
  {
   "cell_type": "code",
   "execution_count": 367,
   "metadata": {
    "colab": {},
    "colab_type": "code",
    "id": "LYeShbCO_0pI"
   },
   "outputs": [],
   "source": [
    "#Dropping the variables which were converted to dummy\n",
    "german_cred=german_cred.select_dtypes(exclude=['uint8'])"
   ]
  },
  {
   "cell_type": "code",
   "execution_count": 368,
   "metadata": {},
   "outputs": [],
   "source": [
    "#Seperating the target & independent variable\n",
    "X=german_cred.iloc[:,1:]\n",
    "y=german_cred.iloc[:,0:1]"
   ]
  },
  {
   "cell_type": "markdown",
   "metadata": {
    "colab_type": "text",
    "id": "XLtFcI1m_0pQ"
   },
   "source": [
    "### Q3 Split Train/Test data 70:30 ratio( 1 Marks)\n",
    "##### Hint:from sklearn.model_selection import train_test_split"
   ]
  },
  {
   "cell_type": "code",
   "execution_count": 369,
   "metadata": {
    "colab": {},
    "colab_type": "code",
    "id": "pHxXKL92_0pS"
   },
   "outputs": [
    {
     "data": {
      "text/plain": [
       "(300, 1)"
      ]
     },
     "execution_count": 369,
     "metadata": {},
     "output_type": "execute_result"
    }
   ],
   "source": [
    "#Splitting the dataset\n",
    "from sklearn.model_selection import train_test_split\n",
    "X_train,X_test,y_train,y_test=train_test_split(X,y,test_size=0.3)\n",
    "y_test.shape"
   ]
  },
  {
   "cell_type": "markdown",
   "metadata": {},
   "source": [
    "### Q4 Build Random Forest Model( 1 Marks)\n",
    "#### Hint:from sklearn.ensemble import RandomForestClassifier using n_jobs=2,n_estimators=500,criterion=\"entropy\",random_state=9999"
   ]
  },
  {
   "cell_type": "code",
   "execution_count": 370,
   "metadata": {
    "colab": {},
    "colab_type": "code",
    "id": "AHX5tgQm_0pY"
   },
   "outputs": [],
   "source": [
    "#Building the model \n",
    "from sklearn.ensemble import RandomForestClassifier\n",
    "RFC=RandomForestClassifier(n_jobs=2,n_estimators=500,criterion=\"entropy\",random_state=9999)\n",
    "RFC.fit(X_train,y_train)\n",
    "y_pred=RFC.predict(X_test)"
   ]
  },
  {
   "cell_type": "markdown",
   "metadata": {
    "colab_type": "text",
    "id": "LuQwgG7T_0pa"
   },
   "source": [
    "### Q5 Calculate Confusion Matrix and Accuracy score (1 Marks)\n",
    "##### Hint: Use confusion_matrix and accuracy_score"
   ]
  },
  {
   "cell_type": "code",
   "execution_count": 371,
   "metadata": {
    "colab": {},
    "colab_type": "code",
    "id": "YgczdMEB_0pc"
   },
   "outputs": [
    {
     "name": "stdout",
     "output_type": "stream",
     "text": [
      "Accuracy is :0.683\n",
      "Following is the confusion matrix:\n",
      "[[180  27]\n",
      " [ 68  25]]\n"
     ]
    }
   ],
   "source": [
    "#Importing libraries for calculating the confusion matrix & accuracy score\n",
    "from sklearn.metrics import accuracy_score,confusion_matrix\n",
    "#Printing accuracy score\n",
    "scorecard=accuracy_score(y_test,y_pred)\n",
    "print(\"Accuracy is :%.3f\"%scorecard)\n",
    "#Printing confusion matrix\n",
    "conf_mat=confusion_matrix(y_test,y_pred)\n",
    "print(\"Following is the confusion matrix:\")\n",
    "print(conf_mat)"
   ]
  },
  {
   "cell_type": "markdown",
   "metadata": {
    "colab_type": "text",
    "id": "x2wDGYcC_0pf"
   },
   "source": [
    "### Q6 Show the list of the features importance( 1 Marks)"
   ]
  },
  {
   "cell_type": "code",
   "execution_count": 372,
   "metadata": {
    "colab": {},
    "colab_type": "code",
    "id": "bEWKBXX8_0ph"
   },
   "outputs": [
    {
     "name": "stdout",
     "output_type": "stream",
     "text": [
      "                            Importance\n",
      "duration_in_month             0.181178\n",
      "credit_amount                 0.338263\n",
      "installment_as_income_perc    0.069748\n",
      "present_res_since             0.080846\n",
      "age                           0.251132\n",
      "credits_this_bank             0.051048\n",
      "people_under_maintenance      0.027786\n"
     ]
    },
    {
     "data": {
      "text/plain": [
       "<matplotlib.axes._subplots.AxesSubplot at 0x23ea7d83b00>"
      ]
     },
     "execution_count": 372,
     "metadata": {},
     "output_type": "execute_result"
    },
    {
     "data": {
      "image/png": "[encoded data removed]",
      "text/plain": [
       "<Figure size 1152x288 with 1 Axes>"
      ]
     },
     "metadata": {
      "needs_background": "light"
     },
     "output_type": "display_data"
    }
   ],
   "source": [
    "#Printing the list of features importance\n",
    "print (pd.DataFrame(RFC.feature_importances_, columns = [\"Importance\"], index = X_train.columns))\n",
    "#Plotting the features importance\n",
    "import seaborn as sns\n",
    "from matplotlib import rcParams\n",
    "rcParams['figure.figsize'] = 16,4\n",
    "sns.barplot(x=X_train.columns,y=RFC.feature_importances_)"
   ]
  },
  {
   "cell_type": "markdown",
   "metadata": {
    "colab_type": "text",
    "id": "U7VnUE71_0pk"
   },
   "source": [
    "### Q7 K-fold cross-validation( 2 Marks)\n",
    "##### k-fold cross validation( without stratification)\n",
    "##### Usually k is set as 10-20 in practical settings, depends on data set size"
   ]
  },
  {
   "cell_type": "code",
   "execution_count": 373,
   "metadata": {
    "colab": {},
    "colab_type": "code",
    "id": "Pf6rIo-c_0pm"
   },
   "outputs": [],
   "source": [
    "from sklearn.model_selection import KFold\n",
    "from sklearn.model_selection import cross_val_score "
   ]
  },
  {
   "cell_type": "code",
   "execution_count": 374,
   "metadata": {
    "colab": {},
    "colab_type": "code",
    "id": "SLIiX3BP_0pp"
   },
   "outputs": [],
   "source": [
    "# Use below values\n",
    "num_folds = 10\n",
    "seed = 77"
   ]
  },
  {
   "cell_type": "code",
   "execution_count": 375,
   "metadata": {
    "colab": {},
    "colab_type": "code",
    "id": "lDyCh_OG_0pt"
   },
   "outputs": [],
   "source": [
    "#Validate the Random Forest model build above using k fold"
   ]
  },
  {
   "cell_type": "code",
   "execution_count": 376,
   "metadata": {
    "colab": {},
    "colab_type": "code",
    "id": "fvxAgXik_0p0"
   },
   "outputs": [
    {
     "name": "stdout",
     "output_type": "stream",
     "text": [
      "[0.67109635 0.71       0.68896321]\n",
      "[0.68770764 0.68       0.71571906]\n",
      "[0.68438538 0.68666667 0.72909699]\n",
      "[0.67109635 0.69       0.73578595]\n",
      "[0.67 0.7  0.71]\n",
      "[0.66445183 0.71333333 0.7090301 ]\n",
      "[0.70333333 0.65666667 0.71      ]\n",
      "[0.6744186  0.68666667 0.71237458]\n",
      "[0.68106312 0.71       0.72575251]\n",
      "[0.69       0.7        0.71666667]\n"
     ]
    }
   ],
   "source": [
    "KF=KFold(n_splits=10,shuffle=True,random_state=77)\n",
    "for train_index,test_index in KF.split(X):\n",
    "    X_train, X_test, y_train, y_test = X.loc[train_index], X.loc[test_index], y.loc[train_index], y.loc[test_index]\n",
    "    CVS=cross_val_score(estimator=RFC,X=X_train,y=y_train)\n",
    "    print(CVS)"
   ]
  },
  {
   "cell_type": "code",
   "execution_count": 377,
   "metadata": {},
   "outputs": [],
   "source": [
    "#Printing the y_pred for the K-Fold cross validation to check the accuracy\n",
    "y_pred=RFC.predict(X_test)\n",
    "y_pred=pd.DataFrame(y_pred,index=y_test.index)"
   ]
  },
  {
   "cell_type": "code",
   "execution_count": 378,
   "metadata": {
    "colab": {},
    "colab_type": "code",
    "id": "6r8p73dT_0p6"
   },
   "outputs": [],
   "source": [
    "#Calculate Mean score"
   ]
  },
  {
   "cell_type": "code",
   "execution_count": 379,
   "metadata": {
    "colab": {},
    "colab_type": "code",
    "id": "qtGEiGuu_0qA"
   },
   "outputs": [
    {
     "data": {
      "text/plain": [
       "0.7022222222222222"
      ]
     },
     "execution_count": 379,
     "metadata": {},
     "output_type": "execute_result"
    }
   ],
   "source": [
    "CVS.mean()"
   ]
  },
  {
   "cell_type": "code",
   "execution_count": 380,
   "metadata": {
    "colab": {},
    "colab_type": "code",
    "id": "Rr132f7H_0qD"
   },
   "outputs": [],
   "source": [
    "# Calculate score standard deviation using std()"
   ]
  },
  {
   "cell_type": "code",
   "execution_count": 381,
   "metadata": {
    "colab": {},
    "colab_type": "code",
    "id": "44JxPbHG_0qH"
   },
   "outputs": [
    {
     "data": {
      "text/plain": [
       "0.010999438818457432"
      ]
     },
     "execution_count": 381,
     "metadata": {},
     "output_type": "execute_result"
    }
   ],
   "source": [
    "CVS.std()"
   ]
  },
  {
   "cell_type": "markdown",
   "metadata": {
    "colab_type": "text",
    "id": "kB0x5yLs_0qM"
   },
   "source": [
    "# Q8 Print the confusion matrix( 1 Marks)"
   ]
  },
  {
   "cell_type": "code",
   "execution_count": 382,
   "metadata": {
    "colab": {},
    "colab_type": "code",
    "id": "WiS5l8Cn_0qO"
   },
   "outputs": [
    {
     "name": "stdout",
     "output_type": "stream",
     "text": [
      "Following is the confusion matrix:\n",
      "[[70  0]\n",
      " [ 7 23]]\n"
     ]
    }
   ],
   "source": [
    "from sklearn.metrics import confusion_matrix\n",
    "conf_mat=confusion_matrix(y_test,y_pred)\n",
    "print(\"Following is the confusion matrix:\")\n",
    "print(conf_mat)"
   ]
  },
  {
   "cell_type": "markdown",
   "metadata": {
    "colab_type": "text",
    "id": "uMLxrkNg_0qR"
   },
   "source": [
    "# Q9.Classification accuracy: \n",
    "percentage of correct predictions and Calculate sensitivity (or True Positive Rate or Recall) and Precision.\n",
    "(2 Marks)"
   ]
  },
  {
   "cell_type": "markdown",
   "metadata": {
    "colab_type": "text",
    "id": "LeNbGgXbl-uj"
   },
   "source": []
  },
  {
   "cell_type": "code",
   "execution_count": 383,
   "metadata": {
    "colab": {},
    "colab_type": "code",
    "id": "QUG5Y_li_0qT"
   },
   "outputs": [
    {
     "name": "stdout",
     "output_type": "stream",
     "text": [
      "Accuracy is :0.930\n"
     ]
    }
   ],
   "source": [
    "from sklearn.metrics import accuracy_score,classification_report,recall_score\n",
    "scorecard=accuracy_score(y_test,y_pred)\n",
    "print(\"Accuracy is :%.3f\"%scorecard)"
   ]
  },
  {
   "cell_type": "code",
   "execution_count": 384,
   "metadata": {
    "colab": {},
    "colab_type": "code",
    "id": "IS9CZaZr_0qX"
   },
   "outputs": [
    {
     "name": "stdout",
     "output_type": "stream",
     "text": [
      "0.7666666666666667\n",
      "0.7666666666666667\n",
      "              precision    recall  f1-score   support\n",
      "\n",
      "           0       0.91      1.00      0.95        70\n",
      "           1       1.00      0.77      0.87        30\n",
      "\n",
      "    accuracy                           0.93       100\n",
      "   macro avg       0.95      0.88      0.91       100\n",
      "weighted avg       0.94      0.93      0.93       100\n",
      "\n"
     ]
    }
   ],
   "source": [
    "TN=conf_mat[0,0]\n",
    "FP=conf_mat[0,1]\n",
    "FN=conf_mat[1,0]\n",
    "TP=conf_mat[1,1]\n",
    "##Since sensitivity is how our model predicts the results as positive when the result actually is positive we can check with the sensitivity or recall score or check the classification report & look for recall under 1\n",
    "Sensitivity=TP/(FN+TP)\n",
    "print(Sensitivity)\n",
    "print(recall_score(y_test, y_pred))\n",
    "print(classification_report(y_test,y_pred))"
   ]
  },
  {
   "cell_type": "markdown",
   "metadata": {
    "colab_type": "text",
    "id": "BZ43LYtQ_0q9"
   },
   "source": [
    "[link text](https://)### Bootstrapping ( Bonus and Optional)\n",
    "##### Given a dataset of size n, a bootstrap sample is created by sampling n instances uniformly from the data (with/without replacement)\n",
    "##### Create a model with each bootstrap sample and validate it with the test set\n",
    "##### Final result is calculated by averaging the accuracy of models"
   ]
  },
  {
   "cell_type": "code",
   "execution_count": 385,
   "metadata": {
    "colab": {},
    "colab_type": "code",
    "id": "8KwXPTNE_0q9"
   },
   "outputs": [],
   "source": [
    "# Number of iterations for bootstrapping\n",
    "bootstrap_iteration = 10\n",
    "accuracy = []"
   ]
  },
  {
   "cell_type": "code",
   "execution_count": 386,
   "metadata": {
    "colab": {},
    "colab_type": "code",
    "id": "rVQTCij9_0rA"
   },
   "outputs": [],
   "source": [
    "from sklearn.utils import resample\n",
    "from sklearn.metrics import accuracy_score\n",
    "\n",
    "for i in range(bootstrap_iteration):\n",
    "    X_, y_ = resample(X_train, y_train)\n",
    "    RFC.fit(X_, y_)\n",
    "    y_pred = RFC.predict(X_test)\n",
    "    \n",
    "    acc = accuracy_score(y_pred, y_test)\n",
    "    accuracy.append(acc)"
   ]
  },
  {
   "cell_type": "code",
   "execution_count": 387,
   "metadata": {
    "colab": {},
    "colab_type": "code",
    "id": "lRtfc6p7_0rD",
    "outputId": "6b6e9b14-0652-4550-83e0-7bb2ca3f0481"
   },
   "outputs": [
    {
     "name": "stdout",
     "output_type": "stream",
     "text": [
      "Accuracy Score\n",
      "Avearge:  0.699\n",
      "Standard deviation:  0.030149626863362648\n"
     ]
    }
   ],
   "source": [
    "accuracy = np.array(accuracy)\n",
    "print('Accuracy Score')\n",
    "print('Avearge: ', accuracy.mean())\n",
    "print('Standard deviation: ', accuracy.std())"
   ]
  },
  {
   "cell_type": "code",
   "execution_count": null,
   "metadata": {},
   "outputs": [],
   "source": []
  }
 ],
 "metadata": {
  "colab": {
   "collapsed_sections": [
    "LuQwgG7T_0pa",
    "x2wDGYcC_0pf",
    "U7VnUE71_0pk",
    "BZ43LYtQ_0q9"
   ],
   "name": "R4_External_Lab_Validation_Accuracy (2).ipynb",
   "provenance": []
  },
  "kernelspec": {
   "display_name": "Python 3",
   "language": "python",
   "name": "python3"
  },
  "language_info": {
   "codemirror_mode": {
    "name": "ipython",
    "version": 3
   },
   "file_extension": ".py",
   "mimetype": "text/x-python",
   "name": "python",
   "nbconvert_exporter": "python",
   "pygments_lexer": "ipython3",
   "version": "3.7.3"
  }
 },
 "nbformat": 4,
 "nbformat_minor": 1
}
