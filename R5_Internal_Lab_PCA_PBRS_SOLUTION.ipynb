{
 "cells": [
  {
   "cell_type": "markdown",
   "metadata": {
    "colab_type": "text",
    "id": "0zAbYvv-WCve"
   },
   "source": [
    "# Principal Component Analysis with Cancer Data"
   ]
  },
  {
   "cell_type": "code",
   "execution_count": 1,
   "metadata": {
    "colab": {},
    "colab_type": "code",
    "id": "1waXlt6iWCvh"
   },
   "outputs": [],
   "source": [
    "#Import all the necessary modules\n",
    "#Import all the necessary modules\n",
    "import pandas as pd\n",
    "import numpy as np\n",
    "import os\n",
    "import seaborn as sns\n",
    "import matplotlib.pyplot as plt\n",
    "%matplotlib inline"
   ]
  },
  {
   "cell_type": "markdown",
   "metadata": {
    "colab_type": "text",
    "id": "6FZ90t1vWCvq"
   },
   "source": [
    "# Q1. Load the Data file ( Breast Cancer CSV) into Python DataFrame and view top 10 rows"
   ]
  },
  {
   "cell_type": "code",
   "execution_count": 2,
   "metadata": {
    "colab": {},
    "colab_type": "code",
    "id": "HdpptBPZSM4P"
   },
   "outputs": [
    {
     "data": {
      "text/html": [
       "<div>\n",
       "<style scoped>\n",
       "    .dataframe tbody tr th:only-of-type {\n",
       "        vertical-align: middle;\n",
       "    }\n",
       "\n",
       "    .dataframe tbody tr th {\n",
       "        vertical-align: top;\n",
       "    }\n",
       "\n",
       "    .dataframe thead th {\n",
       "        text-align: right;\n",
       "    }\n",
       "</style>\n",
       "<table border=\"1\" class=\"dataframe\">\n",
       "  <thead>\n",
       "    <tr style=\"text-align: right;\">\n",
       "      <th></th>\n",
       "      <th>ID</th>\n",
       "      <th>ClumpThickness</th>\n",
       "      <th>Cell Size</th>\n",
       "      <th>Cell Shape</th>\n",
       "      <th>Marginal Adhesion</th>\n",
       "      <th>Single Epithelial Cell Size</th>\n",
       "      <th>Bare Nuclei</th>\n",
       "      <th>Normal Nucleoli</th>\n",
       "      <th>Bland Chromatin</th>\n",
       "      <th>Mitoses</th>\n",
       "      <th>Class</th>\n",
       "    </tr>\n",
       "  </thead>\n",
       "  <tbody>\n",
       "    <tr>\n",
       "      <th>0</th>\n",
       "      <td>1000025</td>\n",
       "      <td>5</td>\n",
       "      <td>1</td>\n",
       "      <td>1</td>\n",
       "      <td>1</td>\n",
       "      <td>2</td>\n",
       "      <td>1</td>\n",
       "      <td>3</td>\n",
       "      <td>1</td>\n",
       "      <td>1</td>\n",
       "      <td>2</td>\n",
       "    </tr>\n",
       "    <tr>\n",
       "      <th>1</th>\n",
       "      <td>1002945</td>\n",
       "      <td>5</td>\n",
       "      <td>4</td>\n",
       "      <td>4</td>\n",
       "      <td>5</td>\n",
       "      <td>7</td>\n",
       "      <td>10</td>\n",
       "      <td>3</td>\n",
       "      <td>2</td>\n",
       "      <td>1</td>\n",
       "      <td>2</td>\n",
       "    </tr>\n",
       "    <tr>\n",
       "      <th>2</th>\n",
       "      <td>1015425</td>\n",
       "      <td>3</td>\n",
       "      <td>1</td>\n",
       "      <td>1</td>\n",
       "      <td>1</td>\n",
       "      <td>2</td>\n",
       "      <td>2</td>\n",
       "      <td>3</td>\n",
       "      <td>1</td>\n",
       "      <td>1</td>\n",
       "      <td>2</td>\n",
       "    </tr>\n",
       "    <tr>\n",
       "      <th>3</th>\n",
       "      <td>1016277</td>\n",
       "      <td>6</td>\n",
       "      <td>8</td>\n",
       "      <td>8</td>\n",
       "      <td>1</td>\n",
       "      <td>3</td>\n",
       "      <td>4</td>\n",
       "      <td>3</td>\n",
       "      <td>7</td>\n",
       "      <td>1</td>\n",
       "      <td>2</td>\n",
       "    </tr>\n",
       "    <tr>\n",
       "      <th>4</th>\n",
       "      <td>1017023</td>\n",
       "      <td>4</td>\n",
       "      <td>1</td>\n",
       "      <td>1</td>\n",
       "      <td>3</td>\n",
       "      <td>2</td>\n",
       "      <td>1</td>\n",
       "      <td>3</td>\n",
       "      <td>1</td>\n",
       "      <td>1</td>\n",
       "      <td>2</td>\n",
       "    </tr>\n",
       "  </tbody>\n",
       "</table>\n",
       "</div>"
      ],
      "text/plain": [
       "        ID  ClumpThickness  Cell Size  Cell Shape  Marginal Adhesion  \\\n",
       "0  1000025               5          1           1                  1   \n",
       "1  1002945               5          4           4                  5   \n",
       "2  1015425               3          1           1                  1   \n",
       "3  1016277               6          8           8                  1   \n",
       "4  1017023               4          1           1                  3   \n",
       "\n",
       "   Single Epithelial Cell Size Bare Nuclei  Normal Nucleoli  Bland Chromatin  \\\n",
       "0                            2           1                3                1   \n",
       "1                            7          10                3                2   \n",
       "2                            2           2                3                1   \n",
       "3                            3           4                3                7   \n",
       "4                            2           1                3                1   \n",
       "\n",
       "   Mitoses  Class  \n",
       "0        1      2  \n",
       "1        1      2  \n",
       "2        1      2  \n",
       "3        1      2  \n",
       "4        1      2  "
      ]
     },
     "execution_count": 2,
     "metadata": {},
     "output_type": "execute_result"
    }
   ],
   "source": [
    "BC=pd.read_csv('breast-cancer-wisconsin-data.csv')\n",
    "BC.head()"
   ]
  },
  {
   "cell_type": "code",
   "execution_count": 3,
   "metadata": {
    "colab": {},
    "colab_type": "code",
    "id": "xusO2ruNWCv4"
   },
   "outputs": [],
   "source": [
    "  # Id columns is to identify rows hence can be skipped in analysis\n",
    "BC.drop(columns='ID',inplace=True)"
   ]
  },
  {
   "cell_type": "code",
   "execution_count": 4,
   "metadata": {},
   "outputs": [],
   "source": [
    "# All columns have numerical values\n",
    "  # Class would be the target variable. Should be removed when PCA is done"
   ]
  },
  {
   "cell_type": "markdown",
   "metadata": {
    "colab_type": "text",
    "id": "KYTFwE0iWCv_"
   },
   "source": [
    "# Q2 Print the datatypes of each column and the shape of the dataset. Perform descriptive analysis "
   ]
  },
  {
   "cell_type": "code",
   "execution_count": 5,
   "metadata": {
    "colab": {},
    "colab_type": "code",
    "id": "abAqUIqjSM4X"
   },
   "outputs": [
    {
     "data": {
      "text/plain": [
       "ClumpThickness                  int64\n",
       "Cell Size                       int64\n",
       "Cell Shape                      int64\n",
       "Marginal Adhesion               int64\n",
       "Single Epithelial Cell Size     int64\n",
       "Bare Nuclei                    object\n",
       "Normal Nucleoli                 int64\n",
       "Bland Chromatin                 int64\n",
       "Mitoses                         int64\n",
       "Class                           int64\n",
       "dtype: object"
      ]
     },
     "execution_count": 5,
     "metadata": {},
     "output_type": "execute_result"
    }
   ],
   "source": [
    "BC.dtypes"
   ]
  },
  {
   "cell_type": "code",
   "execution_count": 6,
   "metadata": {},
   "outputs": [
    {
     "name": "stdout",
     "output_type": "stream",
     "text": [
      "The no. of rows are: 699\n",
      "The no. of columns are: 10\n"
     ]
    }
   ],
   "source": [
    "print('The no. of rows are:',BC.shape[0])\n",
    "print('The no. of columns are:',BC.shape[1])"
   ]
  },
  {
   "cell_type": "code",
   "execution_count": 7,
   "metadata": {},
   "outputs": [
    {
     "data": {
      "text/html": [
       "<div>\n",
       "<style scoped>\n",
       "    .dataframe tbody tr th:only-of-type {\n",
       "        vertical-align: middle;\n",
       "    }\n",
       "\n",
       "    .dataframe tbody tr th {\n",
       "        vertical-align: top;\n",
       "    }\n",
       "\n",
       "    .dataframe thead th {\n",
       "        text-align: right;\n",
       "    }\n",
       "</style>\n",
       "<table border=\"1\" class=\"dataframe\">\n",
       "  <thead>\n",
       "    <tr style=\"text-align: right;\">\n",
       "      <th></th>\n",
       "      <th>ClumpThickness</th>\n",
       "      <th>Cell Size</th>\n",
       "      <th>Cell Shape</th>\n",
       "      <th>Marginal Adhesion</th>\n",
       "      <th>Single Epithelial Cell Size</th>\n",
       "      <th>Normal Nucleoli</th>\n",
       "      <th>Bland Chromatin</th>\n",
       "      <th>Mitoses</th>\n",
       "      <th>Class</th>\n",
       "    </tr>\n",
       "  </thead>\n",
       "  <tbody>\n",
       "    <tr>\n",
       "      <th>count</th>\n",
       "      <td>699.000000</td>\n",
       "      <td>699.000000</td>\n",
       "      <td>699.000000</td>\n",
       "      <td>699.000000</td>\n",
       "      <td>699.000000</td>\n",
       "      <td>699.000000</td>\n",
       "      <td>699.000000</td>\n",
       "      <td>699.000000</td>\n",
       "      <td>699.000000</td>\n",
       "    </tr>\n",
       "    <tr>\n",
       "      <th>mean</th>\n",
       "      <td>4.417740</td>\n",
       "      <td>3.134478</td>\n",
       "      <td>3.207439</td>\n",
       "      <td>2.806867</td>\n",
       "      <td>3.216023</td>\n",
       "      <td>3.437768</td>\n",
       "      <td>2.866953</td>\n",
       "      <td>1.589413</td>\n",
       "      <td>2.689557</td>\n",
       "    </tr>\n",
       "    <tr>\n",
       "      <th>std</th>\n",
       "      <td>2.815741</td>\n",
       "      <td>3.051459</td>\n",
       "      <td>2.971913</td>\n",
       "      <td>2.855379</td>\n",
       "      <td>2.214300</td>\n",
       "      <td>2.438364</td>\n",
       "      <td>3.053634</td>\n",
       "      <td>1.715078</td>\n",
       "      <td>0.951273</td>\n",
       "    </tr>\n",
       "    <tr>\n",
       "      <th>min</th>\n",
       "      <td>1.000000</td>\n",
       "      <td>1.000000</td>\n",
       "      <td>1.000000</td>\n",
       "      <td>1.000000</td>\n",
       "      <td>1.000000</td>\n",
       "      <td>1.000000</td>\n",
       "      <td>1.000000</td>\n",
       "      <td>1.000000</td>\n",
       "      <td>2.000000</td>\n",
       "    </tr>\n",
       "    <tr>\n",
       "      <th>25%</th>\n",
       "      <td>2.000000</td>\n",
       "      <td>1.000000</td>\n",
       "      <td>1.000000</td>\n",
       "      <td>1.000000</td>\n",
       "      <td>2.000000</td>\n",
       "      <td>2.000000</td>\n",
       "      <td>1.000000</td>\n",
       "      <td>1.000000</td>\n",
       "      <td>2.000000</td>\n",
       "    </tr>\n",
       "    <tr>\n",
       "      <th>50%</th>\n",
       "      <td>4.000000</td>\n",
       "      <td>1.000000</td>\n",
       "      <td>1.000000</td>\n",
       "      <td>1.000000</td>\n",
       "      <td>2.000000</td>\n",
       "      <td>3.000000</td>\n",
       "      <td>1.000000</td>\n",
       "      <td>1.000000</td>\n",
       "      <td>2.000000</td>\n",
       "    </tr>\n",
       "    <tr>\n",
       "      <th>75%</th>\n",
       "      <td>6.000000</td>\n",
       "      <td>5.000000</td>\n",
       "      <td>5.000000</td>\n",
       "      <td>4.000000</td>\n",
       "      <td>4.000000</td>\n",
       "      <td>5.000000</td>\n",
       "      <td>4.000000</td>\n",
       "      <td>1.000000</td>\n",
       "      <td>4.000000</td>\n",
       "    </tr>\n",
       "    <tr>\n",
       "      <th>max</th>\n",
       "      <td>10.000000</td>\n",
       "      <td>10.000000</td>\n",
       "      <td>10.000000</td>\n",
       "      <td>10.000000</td>\n",
       "      <td>10.000000</td>\n",
       "      <td>10.000000</td>\n",
       "      <td>10.000000</td>\n",
       "      <td>10.000000</td>\n",
       "      <td>4.000000</td>\n",
       "    </tr>\n",
       "  </tbody>\n",
       "</table>\n",
       "</div>"
      ],
      "text/plain": [
       "       ClumpThickness   Cell Size  Cell Shape  Marginal Adhesion  \\\n",
       "count      699.000000  699.000000  699.000000         699.000000   \n",
       "mean         4.417740    3.134478    3.207439           2.806867   \n",
       "std          2.815741    3.051459    2.971913           2.855379   \n",
       "min          1.000000    1.000000    1.000000           1.000000   \n",
       "25%          2.000000    1.000000    1.000000           1.000000   \n",
       "50%          4.000000    1.000000    1.000000           1.000000   \n",
       "75%          6.000000    5.000000    5.000000           4.000000   \n",
       "max         10.000000   10.000000   10.000000          10.000000   \n",
       "\n",
       "       Single Epithelial Cell Size  Normal Nucleoli  Bland Chromatin  \\\n",
       "count                   699.000000       699.000000       699.000000   \n",
       "mean                      3.216023         3.437768         2.866953   \n",
       "std                       2.214300         2.438364         3.053634   \n",
       "min                       1.000000         1.000000         1.000000   \n",
       "25%                       2.000000         2.000000         1.000000   \n",
       "50%                       2.000000         3.000000         1.000000   \n",
       "75%                       4.000000         5.000000         4.000000   \n",
       "max                      10.000000        10.000000        10.000000   \n",
       "\n",
       "          Mitoses       Class  \n",
       "count  699.000000  699.000000  \n",
       "mean     1.589413    2.689557  \n",
       "std      1.715078    0.951273  \n",
       "min      1.000000    2.000000  \n",
       "25%      1.000000    2.000000  \n",
       "50%      1.000000    2.000000  \n",
       "75%      1.000000    4.000000  \n",
       "max     10.000000    4.000000  "
      ]
     },
     "execution_count": 7,
     "metadata": {},
     "output_type": "execute_result"
    }
   ],
   "source": [
    "BC.describe()"
   ]
  },
  {
   "cell_type": "code",
   "execution_count": 8,
   "metadata": {},
   "outputs": [
    {
     "data": {
      "text/plain": [
       "<matplotlib.axes._subplots.AxesSubplot at 0x179a3991358>"
      ]
     },
     "execution_count": 8,
     "metadata": {},
     "output_type": "execute_result"
    },
    {
     "data": {
      "image/png": "[encoded data removed]",
      "text/plain": [
       "<Figure size 1296x720 with 1 Axes>"
      ]
     },
     "metadata": {
      "needs_background": "light"
     },
     "output_type": "display_data"
    }
   ],
   "source": [
    "BC.boxplot(figsize=(18,10))"
   ]
  },
  {
   "cell_type": "markdown",
   "metadata": {},
   "source": [
    "Bare Nuclei column seems to have some irrelevant data due to which it's data type is object."
   ]
  },
  {
   "cell_type": "markdown",
   "metadata": {
    "colab_type": "text",
    "id": "ecghJZJIWCwW"
   },
   "source": [
    "# Q3 Check for missing value check, incorrect data, duplicate data and perform imputation with mean, median, mode as necessary.\n"
   ]
  },
  {
   "cell_type": "code",
   "execution_count": 9,
   "metadata": {
    "colab": {},
    "colab_type": "code",
    "id": "49KjoukMSM4b"
   },
   "outputs": [
    {
     "data": {
      "text/plain": [
       "array(['1', '10', '2', '4', '3', '9', '7', '?', '5', '8', '6'],\n",
       "      dtype=object)"
      ]
     },
     "execution_count": 9,
     "metadata": {},
     "output_type": "execute_result"
    }
   ],
   "source": [
    "# We could see \"?\" values in column, this should be removed from data set\n",
    "BC['Bare Nuclei'].unique()"
   ]
  },
  {
   "cell_type": "code",
   "execution_count": 10,
   "metadata": {},
   "outputs": [
    {
     "data": {
      "text/plain": [
       "ClumpThickness                 0\n",
       "Cell Size                      0\n",
       "Cell Shape                     0\n",
       "Marginal Adhesion              0\n",
       "Single Epithelial Cell Size    0\n",
       "Bare Nuclei                    0\n",
       "Normal Nucleoli                0\n",
       "Bland Chromatin                0\n",
       "Mitoses                        0\n",
       "Class                          0\n",
       "dtype: int64"
      ]
     },
     "execution_count": 10,
     "metadata": {},
     "output_type": "execute_result"
    }
   ],
   "source": [
    "# Check for missing value in any other column\n",
    "BC.isnull().sum()"
   ]
  },
  {
   "cell_type": "code",
   "execution_count": 11,
   "metadata": {},
   "outputs": [
    {
     "data": {
      "text/plain": [
       "Bare Nuclei    16\n",
       "dtype: int64"
      ]
     },
     "execution_count": 11,
     "metadata": {},
     "output_type": "execute_result"
    }
   ],
   "source": [
    "# Get count of rows having ?\n",
    "temp=pd.DataFrame(BC['Bare Nuclei'].str.isdigit())\n",
    "temp[temp['Bare Nuclei']==False].count()\n"
   ]
  },
  {
   "cell_type": "code",
   "execution_count": 12,
   "metadata": {},
   "outputs": [
    {
     "data": {
      "text/html": [
       "<div>\n",
       "<style scoped>\n",
       "    .dataframe tbody tr th:only-of-type {\n",
       "        vertical-align: middle;\n",
       "    }\n",
       "\n",
       "    .dataframe tbody tr th {\n",
       "        vertical-align: top;\n",
       "    }\n",
       "\n",
       "    .dataframe thead th {\n",
       "        text-align: right;\n",
       "    }\n",
       "</style>\n",
       "<table border=\"1\" class=\"dataframe\">\n",
       "  <thead>\n",
       "    <tr style=\"text-align: right;\">\n",
       "      <th></th>\n",
       "      <th>Bare Nuclei</th>\n",
       "    </tr>\n",
       "  </thead>\n",
       "  <tbody>\n",
       "    <tr>\n",
       "      <th>23</th>\n",
       "      <td>False</td>\n",
       "    </tr>\n",
       "    <tr>\n",
       "      <th>40</th>\n",
       "      <td>False</td>\n",
       "    </tr>\n",
       "    <tr>\n",
       "      <th>139</th>\n",
       "      <td>False</td>\n",
       "    </tr>\n",
       "    <tr>\n",
       "      <th>145</th>\n",
       "      <td>False</td>\n",
       "    </tr>\n",
       "    <tr>\n",
       "      <th>158</th>\n",
       "      <td>False</td>\n",
       "    </tr>\n",
       "    <tr>\n",
       "      <th>164</th>\n",
       "      <td>False</td>\n",
       "    </tr>\n",
       "    <tr>\n",
       "      <th>235</th>\n",
       "      <td>False</td>\n",
       "    </tr>\n",
       "    <tr>\n",
       "      <th>249</th>\n",
       "      <td>False</td>\n",
       "    </tr>\n",
       "    <tr>\n",
       "      <th>275</th>\n",
       "      <td>False</td>\n",
       "    </tr>\n",
       "    <tr>\n",
       "      <th>292</th>\n",
       "      <td>False</td>\n",
       "    </tr>\n",
       "    <tr>\n",
       "      <th>294</th>\n",
       "      <td>False</td>\n",
       "    </tr>\n",
       "    <tr>\n",
       "      <th>297</th>\n",
       "      <td>False</td>\n",
       "    </tr>\n",
       "    <tr>\n",
       "      <th>315</th>\n",
       "      <td>False</td>\n",
       "    </tr>\n",
       "    <tr>\n",
       "      <th>321</th>\n",
       "      <td>False</td>\n",
       "    </tr>\n",
       "    <tr>\n",
       "      <th>411</th>\n",
       "      <td>False</td>\n",
       "    </tr>\n",
       "    <tr>\n",
       "      <th>617</th>\n",
       "      <td>False</td>\n",
       "    </tr>\n",
       "  </tbody>\n",
       "</table>\n",
       "</div>"
      ],
      "text/plain": [
       "     Bare Nuclei\n",
       "23         False\n",
       "40         False\n",
       "139        False\n",
       "145        False\n",
       "158        False\n",
       "164        False\n",
       "235        False\n",
       "249        False\n",
       "275        False\n",
       "292        False\n",
       "294        False\n",
       "297        False\n",
       "315        False\n",
       "321        False\n",
       "411        False\n",
       "617        False"
      ]
     },
     "execution_count": 12,
     "metadata": {},
     "output_type": "execute_result"
    }
   ],
   "source": [
    "temp[temp['Bare Nuclei']==False]"
   ]
  },
  {
   "cell_type": "code",
   "execution_count": 13,
   "metadata": {
    "colab": {},
    "colab_type": "code",
    "id": "02fqzvZuSM4f",
    "scrolled": true
   },
   "outputs": [
    {
     "data": {
      "text/plain": [
       "array(['1', '10', '2', '4', '3', '9', '7', nan, '5', '8', '6'],\n",
       "      dtype=object)"
      ]
     },
     "execution_count": 13,
     "metadata": {},
     "output_type": "execute_result"
    }
   ],
   "source": [
    "# No missing values found. So let us try to remove ? from bare nuclei column\n",
    "BC['Bare Nuclei'].replace('?',np.NaN,inplace=True)\n",
    "BC['Bare Nuclei'].unique()"
   ]
  },
  {
   "cell_type": "code",
   "execution_count": 14,
   "metadata": {},
   "outputs": [],
   "source": [
    "BC['Bare Nuclei']=BC.iloc[:,6:7].astype(dtype='float64')"
   ]
  },
  {
   "cell_type": "code",
   "execution_count": 15,
   "metadata": {},
   "outputs": [
    {
     "data": {
      "text/plain": [
       "dtype('float64')"
      ]
     },
     "execution_count": 15,
     "metadata": {},
     "output_type": "execute_result"
    }
   ],
   "source": [
    "BC['Bare Nuclei'].dtype"
   ]
  },
  {
   "cell_type": "markdown",
   "metadata": {},
   "source": [
    "Removal of '?' successful hence now treating the nan values by replacing them"
   ]
  },
  {
   "cell_type": "code",
   "execution_count": 16,
   "metadata": {
    "colab": {},
    "colab_type": "code",
    "id": "jAmWPaXpWCw3"
   },
   "outputs": [],
   "source": [
    "# 16 values are corrupted. We can either delete them as it forms roughly 2% of data.\n",
    "# Here we would like to impute it with suitable values\n",
    "BC.iloc[:,6:7]=BC.iloc[:,6:7].apply(lambda x:x.fillna(x.mean()))"
   ]
  },
  {
   "cell_type": "code",
   "execution_count": 17,
   "metadata": {},
   "outputs": [
    {
     "data": {
      "text/plain": [
       "array([ 3.,  9.,  1.,  2.,  4.,  5.,  7.,  8.,  6., 10.])"
      ]
     },
     "execution_count": 17,
     "metadata": {},
     "output_type": "execute_result"
    }
   ],
   "source": [
    "BC['Bare Nuclei'].unique()"
   ]
  },
  {
   "cell_type": "markdown",
   "metadata": {
    "colab_type": "text",
    "id": "YAu8NvGaWCxr"
   },
   "source": [
    "# Q4. Perform bi variate analysis including correlation, pairplots and state the inferences. \n"
   ]
  },
  {
   "cell_type": "code",
   "execution_count": 18,
   "metadata": {
    "colab": {},
    "colab_type": "code",
    "id": "nu6J2sWuSM4m"
   },
   "outputs": [
    {
     "data": {
      "text/html": [
       "<div>\n",
       "<style scoped>\n",
       "    .dataframe tbody tr th:only-of-type {\n",
       "        vertical-align: middle;\n",
       "    }\n",
       "\n",
       "    .dataframe tbody tr th {\n",
       "        vertical-align: top;\n",
       "    }\n",
       "\n",
       "    .dataframe thead th {\n",
       "        text-align: right;\n",
       "    }\n",
       "</style>\n",
       "<table border=\"1\" class=\"dataframe\">\n",
       "  <thead>\n",
       "    <tr style=\"text-align: right;\">\n",
       "      <th></th>\n",
       "      <th>ClumpThickness</th>\n",
       "      <th>Cell Size</th>\n",
       "      <th>Cell Shape</th>\n",
       "      <th>Marginal Adhesion</th>\n",
       "      <th>Single Epithelial Cell Size</th>\n",
       "      <th>Bare Nuclei</th>\n",
       "      <th>Normal Nucleoli</th>\n",
       "      <th>Bland Chromatin</th>\n",
       "      <th>Mitoses</th>\n",
       "      <th>Class</th>\n",
       "    </tr>\n",
       "  </thead>\n",
       "  <tbody>\n",
       "    <tr>\n",
       "      <th>ClumpThickness</th>\n",
       "      <td>1.000000</td>\n",
       "      <td>0.644913</td>\n",
       "      <td>0.654589</td>\n",
       "      <td>0.486356</td>\n",
       "      <td>0.521816</td>\n",
       "      <td>0.558428</td>\n",
       "      <td>0.558428</td>\n",
       "      <td>0.535835</td>\n",
       "      <td>0.350034</td>\n",
       "      <td>0.716001</td>\n",
       "    </tr>\n",
       "    <tr>\n",
       "      <th>Cell Size</th>\n",
       "      <td>0.644913</td>\n",
       "      <td>1.000000</td>\n",
       "      <td>0.906882</td>\n",
       "      <td>0.705582</td>\n",
       "      <td>0.751799</td>\n",
       "      <td>0.755721</td>\n",
       "      <td>0.755721</td>\n",
       "      <td>0.722865</td>\n",
       "      <td>0.458693</td>\n",
       "      <td>0.817904</td>\n",
       "    </tr>\n",
       "    <tr>\n",
       "      <th>Cell Shape</th>\n",
       "      <td>0.654589</td>\n",
       "      <td>0.906882</td>\n",
       "      <td>1.000000</td>\n",
       "      <td>0.683079</td>\n",
       "      <td>0.719668</td>\n",
       "      <td>0.735948</td>\n",
       "      <td>0.735948</td>\n",
       "      <td>0.719446</td>\n",
       "      <td>0.438911</td>\n",
       "      <td>0.818934</td>\n",
       "    </tr>\n",
       "    <tr>\n",
       "      <th>Marginal Adhesion</th>\n",
       "      <td>0.486356</td>\n",
       "      <td>0.705582</td>\n",
       "      <td>0.683079</td>\n",
       "      <td>1.000000</td>\n",
       "      <td>0.599599</td>\n",
       "      <td>0.666715</td>\n",
       "      <td>0.666715</td>\n",
       "      <td>0.603352</td>\n",
       "      <td>0.417633</td>\n",
       "      <td>0.696800</td>\n",
       "    </tr>\n",
       "    <tr>\n",
       "      <th>Single Epithelial Cell Size</th>\n",
       "      <td>0.521816</td>\n",
       "      <td>0.751799</td>\n",
       "      <td>0.719668</td>\n",
       "      <td>0.599599</td>\n",
       "      <td>1.000000</td>\n",
       "      <td>0.616102</td>\n",
       "      <td>0.616102</td>\n",
       "      <td>0.628881</td>\n",
       "      <td>0.479101</td>\n",
       "      <td>0.682785</td>\n",
       "    </tr>\n",
       "    <tr>\n",
       "      <th>Bare Nuclei</th>\n",
       "      <td>0.558428</td>\n",
       "      <td>0.755721</td>\n",
       "      <td>0.735948</td>\n",
       "      <td>0.666715</td>\n",
       "      <td>0.616102</td>\n",
       "      <td>1.000000</td>\n",
       "      <td>1.000000</td>\n",
       "      <td>0.665878</td>\n",
       "      <td>0.344169</td>\n",
       "      <td>0.756616</td>\n",
       "    </tr>\n",
       "    <tr>\n",
       "      <th>Normal Nucleoli</th>\n",
       "      <td>0.558428</td>\n",
       "      <td>0.755721</td>\n",
       "      <td>0.735948</td>\n",
       "      <td>0.666715</td>\n",
       "      <td>0.616102</td>\n",
       "      <td>1.000000</td>\n",
       "      <td>1.000000</td>\n",
       "      <td>0.665878</td>\n",
       "      <td>0.344169</td>\n",
       "      <td>0.756616</td>\n",
       "    </tr>\n",
       "    <tr>\n",
       "      <th>Bland Chromatin</th>\n",
       "      <td>0.535835</td>\n",
       "      <td>0.722865</td>\n",
       "      <td>0.719446</td>\n",
       "      <td>0.603352</td>\n",
       "      <td>0.628881</td>\n",
       "      <td>0.665878</td>\n",
       "      <td>0.665878</td>\n",
       "      <td>1.000000</td>\n",
       "      <td>0.428336</td>\n",
       "      <td>0.712244</td>\n",
       "    </tr>\n",
       "    <tr>\n",
       "      <th>Mitoses</th>\n",
       "      <td>0.350034</td>\n",
       "      <td>0.458693</td>\n",
       "      <td>0.438911</td>\n",
       "      <td>0.417633</td>\n",
       "      <td>0.479101</td>\n",
       "      <td>0.344169</td>\n",
       "      <td>0.344169</td>\n",
       "      <td>0.428336</td>\n",
       "      <td>1.000000</td>\n",
       "      <td>0.423170</td>\n",
       "    </tr>\n",
       "    <tr>\n",
       "      <th>Class</th>\n",
       "      <td>0.716001</td>\n",
       "      <td>0.817904</td>\n",
       "      <td>0.818934</td>\n",
       "      <td>0.696800</td>\n",
       "      <td>0.682785</td>\n",
       "      <td>0.756616</td>\n",
       "      <td>0.756616</td>\n",
       "      <td>0.712244</td>\n",
       "      <td>0.423170</td>\n",
       "      <td>1.000000</td>\n",
       "    </tr>\n",
       "  </tbody>\n",
       "</table>\n",
       "</div>"
      ],
      "text/plain": [
       "                             ClumpThickness  Cell Size  Cell Shape  \\\n",
       "ClumpThickness                     1.000000   0.644913    0.654589   \n",
       "Cell Size                          0.644913   1.000000    0.906882   \n",
       "Cell Shape                         0.654589   0.906882    1.000000   \n",
       "Marginal Adhesion                  0.486356   0.705582    0.683079   \n",
       "Single Epithelial Cell Size        0.521816   0.751799    0.719668   \n",
       "Bare Nuclei                        0.558428   0.755721    0.735948   \n",
       "Normal Nucleoli                    0.558428   0.755721    0.735948   \n",
       "Bland Chromatin                    0.535835   0.722865    0.719446   \n",
       "Mitoses                            0.350034   0.458693    0.438911   \n",
       "Class                              0.716001   0.817904    0.818934   \n",
       "\n",
       "                             Marginal Adhesion  Single Epithelial Cell Size  \\\n",
       "ClumpThickness                        0.486356                     0.521816   \n",
       "Cell Size                             0.705582                     0.751799   \n",
       "Cell Shape                            0.683079                     0.719668   \n",
       "Marginal Adhesion                     1.000000                     0.599599   \n",
       "Single Epithelial Cell Size           0.599599                     1.000000   \n",
       "Bare Nuclei                           0.666715                     0.616102   \n",
       "Normal Nucleoli                       0.666715                     0.616102   \n",
       "Bland Chromatin                       0.603352                     0.628881   \n",
       "Mitoses                               0.417633                     0.479101   \n",
       "Class                                 0.696800                     0.682785   \n",
       "\n",
       "                             Bare Nuclei  Normal Nucleoli  Bland Chromatin  \\\n",
       "ClumpThickness                  0.558428         0.558428         0.535835   \n",
       "Cell Size                       0.755721         0.755721         0.722865   \n",
       "Cell Shape                      0.735948         0.735948         0.719446   \n",
       "Marginal Adhesion               0.666715         0.666715         0.603352   \n",
       "Single Epithelial Cell Size     0.616102         0.616102         0.628881   \n",
       "Bare Nuclei                     1.000000         1.000000         0.665878   \n",
       "Normal Nucleoli                 1.000000         1.000000         0.665878   \n",
       "Bland Chromatin                 0.665878         0.665878         1.000000   \n",
       "Mitoses                         0.344169         0.344169         0.428336   \n",
       "Class                           0.756616         0.756616         0.712244   \n",
       "\n",
       "                              Mitoses     Class  \n",
       "ClumpThickness               0.350034  0.716001  \n",
       "Cell Size                    0.458693  0.817904  \n",
       "Cell Shape                   0.438911  0.818934  \n",
       "Marginal Adhesion            0.417633  0.696800  \n",
       "Single Epithelial Cell Size  0.479101  0.682785  \n",
       "Bare Nuclei                  0.344169  0.756616  \n",
       "Normal Nucleoli              0.344169  0.756616  \n",
       "Bland Chromatin              0.428336  0.712244  \n",
       "Mitoses                      1.000000  0.423170  \n",
       "Class                        0.423170  1.000000  "
      ]
     },
     "execution_count": 18,
     "metadata": {},
     "output_type": "execute_result"
    }
   ],
   "source": [
    "# Check for correlation of variable\n",
    "BC.corr()"
   ]
  },
  {
   "cell_type": "code",
   "execution_count": 19,
   "metadata": {},
   "outputs": [
    {
     "data": {
      "text/plain": [
       "2    458\n",
       "4    241\n",
       "Name: Class, dtype: int64"
      ]
     },
     "execution_count": 19,
     "metadata": {},
     "output_type": "execute_result"
    },
    {
     "data": {
      "image/png": "[encoded data removed]",
      "text/plain": [
       "<Figure size 432x288 with 1 Axes>"
      ]
     },
     "metadata": {
      "needs_background": "light"
     },
     "output_type": "display_data"
    }
   ],
   "source": [
    "sns.countplot(x=BC['Class'])\n",
    "\n",
    "BC['Class'].value_counts()"
   ]
  },
  {
   "cell_type": "code",
   "execution_count": 20,
   "metadata": {},
   "outputs": [
    {
     "ename": "SyntaxError",
     "evalue": "invalid syntax (<ipython-input-20-345706821228>, line 1)",
     "output_type": "error",
     "traceback": [
      "\u001b[1;36m  File \u001b[1;32m\"<ipython-input-20-345706821228>\"\u001b[1;36m, line \u001b[1;32m1\u001b[0m\n\u001b[1;33m    Classs 2 has a higher frequency.\u001b[0m\n\u001b[1;37m           ^\u001b[0m\n\u001b[1;31mSyntaxError\u001b[0m\u001b[1;31m:\u001b[0m invalid syntax\n"
     ]
    }
   ],
   "source": [
    "Classs 2 has a higher frequency."
   ]
  },
  {
   "cell_type": "code",
   "execution_count": 23,
   "metadata": {},
   "outputs": [
    {
     "data": {
      "text/plain": [
       "(10.0, 0.0)"
      ]
     },
     "execution_count": 23,
     "metadata": {},
     "output_type": "execute_result"
    },
    {
     "data": {
      "image/png": "[encoded data removed]",
      "text/plain": [
       "<Figure size 1368x1080 with 2 Axes>"
      ]
     },
     "metadata": {
      "needs_background": "light"
     },
     "output_type": "display_data"
    }
   ],
   "source": [
    "import seaborn as sns\n",
    "import matplotlib.pyplot as plt\n",
    "f = plt.figure(figsize=(19, 15))\n",
    "\n",
    "ax=sns.heatmap(BC.corr(),annot=True)\n",
    "bottom,top=ax.get_ylim()\n",
    "ax.set_ylim(bottom+0.5,top-0.5)"
   ]
  },
  {
   "cell_type": "markdown",
   "metadata": {},
   "source": [
    "Except mitoses the other variable seems to be a strong correlator to the target variable."
   ]
  },
  {
   "cell_type": "code",
   "execution_count": 24,
   "metadata": {
    "colab": {},
    "colab_type": "code",
    "id": "ysZh50iDWCxz"
   },
   "outputs": [],
   "source": [
    "# Cell size shows high significance with cell shape,marginal adhesion, single epithelial cell size,bare nuclei, normal nucleoli \n",
    "# and bland chromatin\n",
    "# Target variable shows high correlation with most of these variables"
   ]
  },
  {
   "cell_type": "code",
   "execution_count": 25,
   "metadata": {
    "colab": {},
    "colab_type": "code",
    "id": "5Wt84dgVSM4s"
   },
   "outputs": [],
   "source": [
    "#Let us check for pair plots"
   ]
  },
  {
   "cell_type": "code",
   "execution_count": 26,
   "metadata": {},
   "outputs": [
    {
     "name": "stderr",
     "output_type": "stream",
     "text": [
      "D:\\Anaconda3\\lib\\site-packages\\statsmodels\\nonparametric\\kde.py:487: RuntimeWarning: invalid value encountered in true_divide\n",
      "  binned = fast_linbin(X, a, b, gridsize) / (delta * nobs)\n",
      "D:\\Anaconda3\\lib\\site-packages\\statsmodels\\nonparametric\\kdetools.py:34: RuntimeWarning: invalid value encountered in double_scalars\n",
      "  FAC1 = 2*(np.pi*bw/RANGE)**2\n"
     ]
    },
    {
     "data": {
      "text/plain": [
       "<seaborn.axisgrid.PairGrid at 0x179a5b97ac8>"
      ]
     },
     "execution_count": 26,
     "metadata": {},
     "output_type": "execute_result"
    },
    {
     "data": {
      "image/png": "[encoded data removed]",
      "text/plain": [
       "<Figure size 1842.38x1800 with 110 Axes>"
      ]
     },
     "metadata": {
      "needs_background": "light"
     },
     "output_type": "display_data"
    }
   ],
   "source": [
    "sns.pairplot(BC,diag_kind='kde',hue='Class')"
   ]
  },
  {
   "cell_type": "code",
   "execution_count": 27,
   "metadata": {
    "colab": {},
    "colab_type": "code",
    "id": "OTh11akvWCx8"
   },
   "outputs": [],
   "source": [
    "# Relationship between variables shows come correlation. \n",
    "# Distribution of variables shows most of the values are concentrated on lower side, though range remains same for all that is \n",
    "# Between 1 to 10"
   ]
  },
  {
   "cell_type": "markdown",
   "metadata": {
    "colab_type": "text",
    "id": "9hxe7D9BWCx-"
   },
   "source": [
    "# Q5 Remove any unwanted columns or outliers, standardize variables in pre-processing step"
   ]
  },
  {
   "cell_type": "code",
   "execution_count": 28,
   "metadata": {
    "colab": {},
    "colab_type": "code",
    "id": "ViVkMsQTWCza"
   },
   "outputs": [],
   "source": [
    "# We could see most of the outliers are now removed."
   ]
  },
  {
   "cell_type": "code",
   "execution_count": 29,
   "metadata": {
    "colab": {},
    "colab_type": "code",
    "id": "TqhCGZe4SM43"
   },
   "outputs": [],
   "source": [
    "from scipy.stats import zscore\n",
    "BC_z=BC.apply(zscore)"
   ]
  },
  {
   "cell_type": "code",
   "execution_count": 30,
   "metadata": {
    "colab": {},
    "colab_type": "code",
    "id": "aEHksGGtSM48"
   },
   "outputs": [
    {
     "data": {
      "text/plain": [
       "<matplotlib.axes._subplots.AxesSubplot at 0x179a96e87b8>"
      ]
     },
     "execution_count": 30,
     "metadata": {},
     "output_type": "execute_result"
    },
    {
     "data": {
      "image/png": "[encoded data removed]",
      "text/plain": [
       "<Figure size 1296x720 with 1 Axes>"
      ]
     },
     "metadata": {
      "needs_background": "light"
     },
     "output_type": "display_data"
    }
   ],
   "source": [
    "BC_z.boxplot(figsize=(18,10))"
   ]
  },
  {
   "cell_type": "markdown",
   "metadata": {
    "colab_type": "text",
    "id": "lmMHMAtkWCzm"
   },
   "source": [
    "# Q6 Create a covariance matrix for identifying Principal components"
   ]
  },
  {
   "cell_type": "code",
   "execution_count": 31,
   "metadata": {
    "colab": {},
    "colab_type": "code",
    "id": "X3pUdlSdSM5D"
   },
   "outputs": [],
   "source": [
    "# PCA\n",
    "# Step 1 - Create covariance matrix\n"
   ]
  },
  {
   "cell_type": "code",
   "execution_count": 32,
   "metadata": {},
   "outputs": [],
   "source": [
    "X_z=BC_z.drop(labels='Class',axis=1)\n",
    "y_z=BC_z['Class']"
   ]
  },
  {
   "cell_type": "code",
   "execution_count": 33,
   "metadata": {},
   "outputs": [
    {
     "name": "stdout",
     "output_type": "stream",
     "text": [
      "Covariance Matrix \n",
      "%s [[1.00143266 0.64583645 0.65552689 0.48705303 0.52256381 0.5592282\n",
      "  0.5592282  0.53660222 0.35053534]\n",
      " [0.64583645 1.00143266 0.90818117 0.70659267 0.75287621 0.75680368\n",
      "  0.75680368 0.72390044 0.4593503 ]\n",
      " [0.65552689 0.90818117 1.00143266 0.68405782 0.72069948 0.73700282\n",
      "  0.73700282 0.72047704 0.43953974]\n",
      " [0.48705303 0.70659267 0.68405782 1.00143266 0.60045809 0.66767051\n",
      "  0.66767051 0.60421681 0.41823111]\n",
      " [0.52256381 0.75287621 0.72069948 0.60045809 1.00143266 0.61698451\n",
      "  0.61698451 0.62978166 0.47978787]\n",
      " [0.5592282  0.75680368 0.73700282 0.66767051 0.61698451 1.00143266\n",
      "  1.00143266 0.66683179 0.34466258]\n",
      " [0.5592282  0.75680368 0.73700282 0.66767051 0.61698451 1.00143266\n",
      "  1.00143266 0.66683179 0.34466258]\n",
      " [0.53660222 0.72390044 0.72047704 0.60421681 0.62978166 0.66683179\n",
      "  0.66683179 1.00143266 0.42894941]\n",
      " [0.35053534 0.4593503  0.43953974 0.41823111 0.47978787 0.34466258\n",
      "  0.34466258 0.42894941 1.00143266]]\n"
     ]
    }
   ],
   "source": [
    "X_cov_mat=np.cov(X_z.T)\n",
    "print('Covariance Matrix \\n%s', X_cov_mat)"
   ]
  },
  {
   "cell_type": "markdown",
   "metadata": {
    "colab_type": "text",
    "id": "vbZ-YcsdWCzz"
   },
   "source": [
    "# Q7 Identify eigen values and eigen vector"
   ]
  },
  {
   "cell_type": "code",
   "execution_count": 34,
   "metadata": {
    "colab": {},
    "colab_type": "code",
    "id": "sH-AksvLSM5L"
   },
   "outputs": [],
   "source": [
    "# Step 2- Get eigen values and eigen vector"
   ]
  },
  {
   "cell_type": "code",
   "execution_count": 35,
   "metadata": {
    "colab": {},
    "colab_type": "code",
    "id": "YaNotXfFSM5O"
   },
   "outputs": [
    {
     "name": "stdout",
     "output_type": "stream",
     "text": [
      "Eigen Vectors \n",
      "%s [[-2.93862117e-01 -9.88260814e-03  8.06114160e-01 -1.60396240e-02\n",
      "   2.56062858e-01 -4.08014091e-01 -1.75621052e-01  2.41586863e-02\n",
      "  -1.17409636e-16]\n",
      " [-3.76736601e-01 -3.19078324e-04  1.15281830e-01 -7.45897836e-01\n",
      "  -4.78637948e-01  2.24040347e-01 -3.83346814e-03 -9.54614670e-02\n",
      "  -7.09423933e-16]\n",
      " [-3.70852746e-01  1.12651150e-02  1.76581222e-01  6.61367786e-01\n",
      "  -5.87844140e-01  2.16620362e-01  4.80109366e-03 -3.52831009e-02\n",
      "   1.15308051e-15]\n",
      " [-3.25567911e-01  5.42032943e-03 -2.74318391e-01  2.57780890e-02\n",
      "   2.02153942e-01  1.89682844e-01 -8.33097507e-01  2.17172309e-01\n",
      "  -4.26883473e-17]\n",
      " [-3.30437176e-01 -2.02148679e-01  2.82701879e-02  6.59106096e-02\n",
      "   5.02449803e-01  4.88721007e-01  2.08605923e-01 -5.56761452e-01\n",
      "  -3.52757600e-17]\n",
      " [-3.58845891e-01  3.63035153e-01 -2.83435585e-01  1.80516651e-02\n",
      "   5.06994584e-02 -3.45162100e-01  1.34215804e-01 -1.38030137e-01\n",
      "   7.07106781e-01]\n",
      " [-3.58845891e-01  3.63035153e-01 -2.83435585e-01  1.80516651e-02\n",
      "   5.06994584e-02 -3.45162100e-01  1.34215804e-01 -1.38030137e-01\n",
      "  -7.07106781e-01]\n",
      " [-3.33753158e-01 -3.06054685e-02 -1.10763650e-02 -1.46323349e-02\n",
      "   2.28421606e-01  2.19531828e-01  4.39684173e-01  7.70482004e-01\n",
      "  -9.44639940e-17]\n",
      " [-2.23758174e-01 -8.33280338e-01 -2.62421802e-01  9.86161251e-03\n",
      "  -9.55901348e-02 -4.18461785e-01  4.69220202e-02 -1.28174965e-02\n",
      "   1.30569898e-18]]\n",
      "\n",
      " Eigen Values \n",
      "%s [6.02603009e+00 8.28933426e-01 5.75227842e-01 9.06100080e-02\n",
      " 2.68492534e-01 4.63377061e-01 3.95488515e-01 3.64734507e-01\n",
      " 7.41906928e-18]\n"
     ]
    }
   ],
   "source": [
    "eigenvalues, eigenvectors = np.linalg.eig(X_cov_mat)\n",
    "print('Eigen Vectors \\n%s', eigenvectors)\n",
    "print('\\n Eigen Values \\n%s', eigenvalues)"
   ]
  },
  {
   "cell_type": "code",
   "execution_count": 36,
   "metadata": {},
   "outputs": [
    {
     "data": {
      "text/plain": [
       "[(6.02603009062795,\n",
       "  array([-0.29386212, -0.3767366 , -0.37085275, -0.32556791, -0.33043718,\n",
       "         -0.35884589, -0.35884589, -0.33375316, -0.22375817])),\n",
       " (0.8289334261355314,\n",
       "  array([-9.88260814e-03, -3.19078324e-04,  1.12651150e-02,  5.42032943e-03,\n",
       "         -2.02148679e-01,  3.63035153e-01,  3.63035153e-01, -3.06054685e-02,\n",
       "         -8.33280338e-01])),\n",
       " (0.575227841711327,\n",
       "  array([ 0.80611416,  0.11528183,  0.17658122, -0.27431839,  0.02827019,\n",
       "         -0.28343558, -0.28343558, -0.01107637, -0.2624218 ])),\n",
       " (0.4633770610834597,\n",
       "  array([-0.40801409,  0.22404035,  0.21662036,  0.18968284,  0.48872101,\n",
       "         -0.3451621 , -0.3451621 ,  0.21953183, -0.41846179])),\n",
       " (0.39548851488907794,\n",
       "  array([-0.17562105, -0.00383347,  0.00480109, -0.83309751,  0.20860592,\n",
       "          0.1342158 ,  0.1342158 ,  0.43968417,  0.04692202])),\n",
       " (0.36473450689853654,\n",
       "  array([ 0.02415869, -0.09546147, -0.0352831 ,  0.21717231, -0.55676145,\n",
       "         -0.13803014, -0.13803014,  0.770482  , -0.0128175 ])),\n",
       " (0.2684925335002997,\n",
       "  array([ 0.25606286, -0.47863795, -0.58784414,  0.20215394,  0.5024498 ,\n",
       "          0.05069946,  0.05069946,  0.22842161, -0.09559013])),\n",
       " (0.09061000796183775,\n",
       "  array([-0.01603962, -0.74589784,  0.66136779,  0.02577809,  0.06591061,\n",
       "          0.01805167,  0.01805167, -0.01463233,  0.00986161])),\n",
       " (7.419069284017815e-18,\n",
       "  array([-1.17409636e-16, -7.09423933e-16,  1.15308051e-15, -4.26883473e-17,\n",
       "         -3.52757600e-17,  7.07106781e-01, -7.07106781e-01, -9.44639940e-17,\n",
       "          1.30569898e-18]))]"
      ]
     },
     "execution_count": 36,
     "metadata": {},
     "output_type": "execute_result"
    }
   ],
   "source": [
    "# Make a set of (eigenvalue, eigenvector) pairs\n",
    "train_eig_pairs = [(eigenvalues[index], eigenvectors[:,index]) for index in range(len(eigenvalues))]\n",
    "\n",
    "# Sort the (eigenvalue, eigenvector) pairs from highest to lowest with respect to eigenvalue\n",
    "train_eig_pairs.sort(reverse = True)\n",
    "\n",
    "train_eig_pairs"
   ]
  },
  {
   "cell_type": "code",
   "execution_count": 37,
   "metadata": {},
   "outputs": [
    {
     "name": "stdout",
     "output_type": "stream",
     "text": [
      "Eigenvalues in descending order: \n",
      "[6.02603009062795, 0.8289334261355314, 0.575227841711327, 0.4633770610834597, 0.39548851488907794, 0.36473450689853654, 0.2684925335002997, 0.09061000796183775, 7.419069284017815e-18]\n"
     ]
    }
   ],
   "source": [
    "# Extract the descending ordered eigenvalues and eigenvectors\n",
    "train_eigvalues_sorted = [train_eig_pairs[index][0] for index in range(len(eigenvalues))]\n",
    "train_eigvectors_sorted = [train_eig_pairs[index][1] for index in range(len(eigenvalues))]\n",
    "\n",
    "# Let's confirm our sorting worked, print out eigenvalues\n",
    "print('Eigenvalues in descending order: \\n%s' %train_eigvalues_sorted)"
   ]
  },
  {
   "cell_type": "markdown",
   "metadata": {
    "colab_type": "text",
    "id": "-2KqQg2KWCz7"
   },
   "source": [
    "# Q8 Find variance and cumulative variance by each eigen vector"
   ]
  },
  {
   "cell_type": "code",
   "execution_count": 38,
   "metadata": {},
   "outputs": [],
   "source": [
    "tot = sum(eigenvalues)\n",
    "var_explained = [(i / tot) for i in train_eigvalues_sorted] \n",
    "cum_var_exp = np.cumsum(var_explained)  # an array of cumulative variance"
   ]
  },
  {
   "cell_type": "code",
   "execution_count": 39,
   "metadata": {},
   "outputs": [
    {
     "data": {
      "image/png": "[encoded data removed]",
      "text/plain": [
       "<Figure size 432x288 with 1 Axes>"
      ]
     },
     "metadata": {
      "needs_background": "light"
     },
     "output_type": "display_data"
    }
   ],
   "source": [
    "plt.bar(range(1,10), var_explained, alpha=0.5, align='center', label='individual explained variance')\n",
    "plt.step(range(1,10),cum_var_exp, where= 'mid', label='cumulative explained variance')\n",
    "plt.ylabel('Explained variance ratio')\n",
    "plt.xlabel('Principal components')\n",
    "plt.legend(loc = 'best')\n",
    "plt.show()"
   ]
  },
  {
   "cell_type": "markdown",
   "metadata": {
    "colab_type": "text",
    "id": "x8YxQPNGWC0e"
   },
   "source": [
    "# Q9 Use PCA command from sklearn and find Principal Components. Transform data to components formed"
   ]
  },
  {
   "cell_type": "code",
   "execution_count": 40,
   "metadata": {
    "colab": {},
    "colab_type": "code",
    "id": "ZgniQrGWSM5l"
   },
   "outputs": [
    {
     "data": {
      "text/plain": [
       "PCA(copy=True, iterated_power='auto', n_components=None, random_state=None,\n",
       "    svd_solver='auto', tol=0.0, whiten=False)"
      ]
     },
     "execution_count": 40,
     "metadata": {},
     "output_type": "execute_result"
    }
   ],
   "source": [
    "from sklearn.decomposition import PCA\n",
    "pca=PCA()\n",
    "pca.fit(X_cov_mat)"
   ]
  },
  {
   "cell_type": "code",
   "execution_count": 41,
   "metadata": {
    "colab": {},
    "colab_type": "code",
    "id": "-06rQu3PSM5o"
   },
   "outputs": [
    {
     "name": "stdout",
     "output_type": "stream",
     "text": [
      "[[-0.13188151 -0.31235577 -0.31529946 -0.22708217 -0.13951458 -0.47394198\n",
      "  -0.47394198 -0.22688995  0.46246698]\n",
      " [ 0.81909662  0.07337871  0.13569739 -0.28891782 -0.03621581 -0.24905226\n",
      "  -0.24905226 -0.04119728 -0.30780863]\n",
      " [-0.16667278  0.38077086  0.37645436  0.11585899  0.5921016  -0.33707959\n",
      "  -0.33707959  0.27117432  0.14397025]\n",
      " [ 0.07747305 -0.01116856 -0.0193598   0.85240495 -0.15054011 -0.2042247\n",
      "  -0.2042247  -0.34084025 -0.21131573]\n",
      " [-0.06174645 -0.12651755 -0.07232868  0.13831047 -0.44531343 -0.16372709\n",
      "  -0.16372709  0.82559146 -0.14933532]\n",
      " [-0.05602938 -0.40968173 -0.49115011 -0.00374689  0.58580643 -0.03851216\n",
      "  -0.03851216  0.10444127 -0.48034945]\n",
      " [ 0.15438259  0.67040413 -0.7021612   0.06208064  0.00457503  0.02751636\n",
      "   0.02751636  0.08229123  0.14674089]\n",
      " [-0.32960591  0.22838948  0.01609922 -0.21170129 -0.16836993  0.41646504\n",
      "  -0.64219039 -0.1594544  -0.39305953]\n",
      " [-0.37212921  0.25785459  0.01817622 -0.23901341 -0.19009177 -0.59626468\n",
      "   0.34141793 -0.18002602 -0.44376914]]\n"
     ]
    }
   ],
   "source": [
    "print(pca.components_)"
   ]
  },
  {
   "cell_type": "code",
   "execution_count": 42,
   "metadata": {
    "colab": {},
    "colab_type": "code",
    "id": "eLi4UsMcSM5r"
   },
   "outputs": [
    {
     "data": {
      "text/plain": [
       "(699, 9)"
      ]
     },
     "execution_count": 42,
     "metadata": {},
     "output_type": "execute_result"
    }
   ],
   "source": [
    "X_pca_tran = pca.transform(X_z)\n",
    "X_pca_tran.shape"
   ]
  },
  {
   "cell_type": "code",
   "execution_count": 43,
   "metadata": {
    "colab": {},
    "colab_type": "code",
    "id": "bXUp9TCDWC1G"
   },
   "outputs": [
    {
     "data": {
      "text/html": [
       "<div>\n",
       "<style scoped>\n",
       "    .dataframe tbody tr th:only-of-type {\n",
       "        vertical-align: middle;\n",
       "    }\n",
       "\n",
       "    .dataframe tbody tr th {\n",
       "        vertical-align: top;\n",
       "    }\n",
       "\n",
       "    .dataframe thead th {\n",
       "        text-align: right;\n",
       "    }\n",
       "</style>\n",
       "<table border=\"1\" class=\"dataframe\">\n",
       "  <thead>\n",
       "    <tr style=\"text-align: right;\">\n",
       "      <th></th>\n",
       "      <th>0</th>\n",
       "      <th>1</th>\n",
       "      <th>2</th>\n",
       "      <th>3</th>\n",
       "      <th>4</th>\n",
       "      <th>5</th>\n",
       "      <th>6</th>\n",
       "      <th>7</th>\n",
       "      <th>8</th>\n",
       "    </tr>\n",
       "  </thead>\n",
       "  <tbody>\n",
       "    <tr>\n",
       "      <th>0</th>\n",
       "      <td>2.178334</td>\n",
       "      <td>0.538561</td>\n",
       "      <td>-1.774257</td>\n",
       "      <td>0.073950</td>\n",
       "      <td>0.033391</td>\n",
       "      <td>0.963265</td>\n",
       "      <td>-0.350269</td>\n",
       "      <td>0.972527</td>\n",
       "      <td>1.097995</td>\n",
       "    </tr>\n",
       "    <tr>\n",
       "      <th>1</th>\n",
       "      <td>0.844568</td>\n",
       "      <td>0.247471</td>\n",
       "      <td>0.569884</td>\n",
       "      <td>0.786496</td>\n",
       "      <td>-0.705956</td>\n",
       "      <td>1.416759</td>\n",
       "      <td>-0.275668</td>\n",
       "      <td>0.483996</td>\n",
       "      <td>0.546438</td>\n",
       "    </tr>\n",
       "    <tr>\n",
       "      <th>2</th>\n",
       "      <td>2.272076</td>\n",
       "      <td>-0.043654</td>\n",
       "      <td>-1.655786</td>\n",
       "      <td>0.018882</td>\n",
       "      <td>0.077280</td>\n",
       "      <td>1.003091</td>\n",
       "      <td>-0.460004</td>\n",
       "      <td>1.206811</td>\n",
       "      <td>1.362505</td>\n",
       "    </tr>\n",
       "    <tr>\n",
       "      <th>3</th>\n",
       "      <td>0.162047</td>\n",
       "      <td>1.220595</td>\n",
       "      <td>0.728740</td>\n",
       "      <td>-0.708008</td>\n",
       "      <td>0.972616</td>\n",
       "      <td>-0.684694</td>\n",
       "      <td>-0.247573</td>\n",
       "      <td>1.028005</td>\n",
       "      <td>1.160631</td>\n",
       "    </tr>\n",
       "    <tr>\n",
       "      <th>4</th>\n",
       "      <td>2.066035</td>\n",
       "      <td>0.044941</td>\n",
       "      <td>-1.633812</td>\n",
       "      <td>0.643896</td>\n",
       "      <td>0.152282</td>\n",
       "      <td>0.980552</td>\n",
       "      <td>-0.361622</td>\n",
       "      <td>0.941280</td>\n",
       "      <td>1.062717</td>\n",
       "    </tr>\n",
       "  </tbody>\n",
       "</table>\n",
       "</div>"
      ],
      "text/plain": [
       "          0         1         2         3         4         5         6  \\\n",
       "0  2.178334  0.538561 -1.774257  0.073950  0.033391  0.963265 -0.350269   \n",
       "1  0.844568  0.247471  0.569884  0.786496 -0.705956  1.416759 -0.275668   \n",
       "2  2.272076 -0.043654 -1.655786  0.018882  0.077280  1.003091 -0.460004   \n",
       "3  0.162047  1.220595  0.728740 -0.708008  0.972616 -0.684694 -0.247573   \n",
       "4  2.066035  0.044941 -1.633812  0.643896  0.152282  0.980552 -0.361622   \n",
       "\n",
       "          7         8  \n",
       "0  0.972527  1.097995  \n",
       "1  0.483996  0.546438  \n",
       "2  1.206811  1.362505  \n",
       "3  1.028005  1.160631  \n",
       "4  0.941280  1.062717  "
      ]
     },
     "execution_count": 43,
     "metadata": {},
     "output_type": "execute_result"
    }
   ],
   "source": [
    "temp1 = pd.DataFrame(data = X_pca_tran)\n",
    "temp1.head()"
   ]
  },
  {
   "cell_type": "markdown",
   "metadata": {
    "colab_type": "text",
    "id": "8L-IGI0QWC0t"
   },
   "source": [
    "# Q10 Find correlation between components and features"
   ]
  },
  {
   "cell_type": "code",
   "execution_count": 44,
   "metadata": {},
   "outputs": [],
   "source": [
    "X_z=pd.concat([X_z,temp1],axis=1)"
   ]
  },
  {
   "cell_type": "code",
   "execution_count": 45,
   "metadata": {},
   "outputs": [
    {
     "data": {
      "text/html": [
       "<div>\n",
       "<style scoped>\n",
       "    .dataframe tbody tr th:only-of-type {\n",
       "        vertical-align: middle;\n",
       "    }\n",
       "\n",
       "    .dataframe tbody tr th {\n",
       "        vertical-align: top;\n",
       "    }\n",
       "\n",
       "    .dataframe thead th {\n",
       "        text-align: right;\n",
       "    }\n",
       "</style>\n",
       "<table border=\"1\" class=\"dataframe\">\n",
       "  <thead>\n",
       "    <tr style=\"text-align: right;\">\n",
       "      <th></th>\n",
       "      <th>ClumpThickness</th>\n",
       "      <th>Cell Size</th>\n",
       "      <th>Cell Shape</th>\n",
       "      <th>Marginal Adhesion</th>\n",
       "      <th>Single Epithelial Cell Size</th>\n",
       "      <th>Bare Nuclei</th>\n",
       "      <th>Normal Nucleoli</th>\n",
       "      <th>Bland Chromatin</th>\n",
       "      <th>Mitoses</th>\n",
       "      <th>0</th>\n",
       "      <th>1</th>\n",
       "      <th>2</th>\n",
       "      <th>3</th>\n",
       "      <th>4</th>\n",
       "      <th>5</th>\n",
       "      <th>6</th>\n",
       "      <th>7</th>\n",
       "      <th>8</th>\n",
       "    </tr>\n",
       "  </thead>\n",
       "  <tbody>\n",
       "    <tr>\n",
       "      <th>0</th>\n",
       "      <td>0.206936</td>\n",
       "      <td>-0.699995</td>\n",
       "      <td>-0.743299</td>\n",
       "      <td>-0.633247</td>\n",
       "      <td>-0.549561</td>\n",
       "      <td>-0.179662</td>\n",
       "      <td>-0.179662</td>\n",
       "      <td>-0.611825</td>\n",
       "      <td>-0.343912</td>\n",
       "      <td>2.178334</td>\n",
       "      <td>0.538561</td>\n",
       "      <td>-1.774257</td>\n",
       "      <td>0.073950</td>\n",
       "      <td>0.033391</td>\n",
       "      <td>0.963265</td>\n",
       "      <td>-0.350269</td>\n",
       "      <td>0.972527</td>\n",
       "      <td>1.097995</td>\n",
       "    </tr>\n",
       "    <tr>\n",
       "      <th>1</th>\n",
       "      <td>0.206936</td>\n",
       "      <td>0.283845</td>\n",
       "      <td>0.266875</td>\n",
       "      <td>0.768621</td>\n",
       "      <td>1.710106</td>\n",
       "      <td>-0.179662</td>\n",
       "      <td>-0.179662</td>\n",
       "      <td>-0.284112</td>\n",
       "      <td>-0.343912</td>\n",
       "      <td>0.844568</td>\n",
       "      <td>0.247471</td>\n",
       "      <td>0.569884</td>\n",
       "      <td>0.786496</td>\n",
       "      <td>-0.705956</td>\n",
       "      <td>1.416759</td>\n",
       "      <td>-0.275668</td>\n",
       "      <td>0.483996</td>\n",
       "      <td>0.546438</td>\n",
       "    </tr>\n",
       "    <tr>\n",
       "      <th>2</th>\n",
       "      <td>-0.503866</td>\n",
       "      <td>-0.699995</td>\n",
       "      <td>-0.743299</td>\n",
       "      <td>-0.633247</td>\n",
       "      <td>-0.549561</td>\n",
       "      <td>-0.179662</td>\n",
       "      <td>-0.179662</td>\n",
       "      <td>-0.611825</td>\n",
       "      <td>-0.343912</td>\n",
       "      <td>2.272076</td>\n",
       "      <td>-0.043654</td>\n",
       "      <td>-1.655786</td>\n",
       "      <td>0.018882</td>\n",
       "      <td>0.077280</td>\n",
       "      <td>1.003091</td>\n",
       "      <td>-0.460004</td>\n",
       "      <td>1.206811</td>\n",
       "      <td>1.362505</td>\n",
       "    </tr>\n",
       "    <tr>\n",
       "      <th>3</th>\n",
       "      <td>0.562336</td>\n",
       "      <td>1.595632</td>\n",
       "      <td>1.613773</td>\n",
       "      <td>-0.633247</td>\n",
       "      <td>-0.097628</td>\n",
       "      <td>-0.179662</td>\n",
       "      <td>-0.179662</td>\n",
       "      <td>1.354454</td>\n",
       "      <td>-0.343912</td>\n",
       "      <td>0.162047</td>\n",
       "      <td>1.220595</td>\n",
       "      <td>0.728740</td>\n",
       "      <td>-0.708008</td>\n",
       "      <td>0.972616</td>\n",
       "      <td>-0.684694</td>\n",
       "      <td>-0.247573</td>\n",
       "      <td>1.028005</td>\n",
       "      <td>1.160631</td>\n",
       "    </tr>\n",
       "    <tr>\n",
       "      <th>4</th>\n",
       "      <td>-0.148465</td>\n",
       "      <td>-0.699995</td>\n",
       "      <td>-0.743299</td>\n",
       "      <td>0.067687</td>\n",
       "      <td>-0.549561</td>\n",
       "      <td>-0.179662</td>\n",
       "      <td>-0.179662</td>\n",
       "      <td>-0.611825</td>\n",
       "      <td>-0.343912</td>\n",
       "      <td>2.066035</td>\n",
       "      <td>0.044941</td>\n",
       "      <td>-1.633812</td>\n",
       "      <td>0.643896</td>\n",
       "      <td>0.152282</td>\n",
       "      <td>0.980552</td>\n",
       "      <td>-0.361622</td>\n",
       "      <td>0.941280</td>\n",
       "      <td>1.062717</td>\n",
       "    </tr>\n",
       "  </tbody>\n",
       "</table>\n",
       "</div>"
      ],
      "text/plain": [
       "   ClumpThickness  Cell Size  Cell Shape  Marginal Adhesion  \\\n",
       "0        0.206936  -0.699995   -0.743299          -0.633247   \n",
       "1        0.206936   0.283845    0.266875           0.768621   \n",
       "2       -0.503866  -0.699995   -0.743299          -0.633247   \n",
       "3        0.562336   1.595632    1.613773          -0.633247   \n",
       "4       -0.148465  -0.699995   -0.743299           0.067687   \n",
       "\n",
       "   Single Epithelial Cell Size  Bare Nuclei  Normal Nucleoli  Bland Chromatin  \\\n",
       "0                    -0.549561    -0.179662        -0.179662        -0.611825   \n",
       "1                     1.710106    -0.179662        -0.179662        -0.284112   \n",
       "2                    -0.549561    -0.179662        -0.179662        -0.611825   \n",
       "3                    -0.097628    -0.179662        -0.179662         1.354454   \n",
       "4                    -0.549561    -0.179662        -0.179662        -0.611825   \n",
       "\n",
       "    Mitoses         0         1         2         3         4         5  \\\n",
       "0 -0.343912  2.178334  0.538561 -1.774257  0.073950  0.033391  0.963265   \n",
       "1 -0.343912  0.844568  0.247471  0.569884  0.786496 -0.705956  1.416759   \n",
       "2 -0.343912  2.272076 -0.043654 -1.655786  0.018882  0.077280  1.003091   \n",
       "3 -0.343912  0.162047  1.220595  0.728740 -0.708008  0.972616 -0.684694   \n",
       "4 -0.343912  2.066035  0.044941 -1.633812  0.643896  0.152282  0.980552   \n",
       "\n",
       "          6         7         8  \n",
       "0 -0.350269  0.972527  1.097995  \n",
       "1 -0.275668  0.483996  0.546438  \n",
       "2 -0.460004  1.206811  1.362505  \n",
       "3 -0.247573  1.028005  1.160631  \n",
       "4 -0.361622  0.941280  1.062717  "
      ]
     },
     "execution_count": 45,
     "metadata": {},
     "output_type": "execute_result"
    }
   ],
   "source": [
    "X_z.head()"
   ]
  },
  {
   "cell_type": "code",
   "execution_count": 46,
   "metadata": {},
   "outputs": [
    {
     "data": {
      "text/html": [
       "<div>\n",
       "<style scoped>\n",
       "    .dataframe tbody tr th:only-of-type {\n",
       "        vertical-align: middle;\n",
       "    }\n",
       "\n",
       "    .dataframe tbody tr th {\n",
       "        vertical-align: top;\n",
       "    }\n",
       "\n",
       "    .dataframe thead th {\n",
       "        text-align: right;\n",
       "    }\n",
       "</style>\n",
       "<table border=\"1\" class=\"dataframe\">\n",
       "  <thead>\n",
       "    <tr style=\"text-align: right;\">\n",
       "      <th></th>\n",
       "      <th>ClumpThickness</th>\n",
       "      <th>Cell Size</th>\n",
       "      <th>Cell Shape</th>\n",
       "      <th>Marginal Adhesion</th>\n",
       "      <th>Single Epithelial Cell Size</th>\n",
       "      <th>Bare Nuclei</th>\n",
       "      <th>Normal Nucleoli</th>\n",
       "      <th>Bland Chromatin</th>\n",
       "      <th>Mitoses</th>\n",
       "      <th>0</th>\n",
       "      <th>1</th>\n",
       "      <th>2</th>\n",
       "      <th>3</th>\n",
       "      <th>4</th>\n",
       "      <th>5</th>\n",
       "      <th>6</th>\n",
       "      <th>7</th>\n",
       "      <th>8</th>\n",
       "    </tr>\n",
       "  </thead>\n",
       "  <tbody>\n",
       "    <tr>\n",
       "      <th>ClumpThickness</th>\n",
       "      <td>1.001433</td>\n",
       "      <td>0.645836</td>\n",
       "      <td>0.655527</td>\n",
       "      <td>0.487053</td>\n",
       "      <td>0.522564</td>\n",
       "      <td>0.559228</td>\n",
       "      <td>0.559228</td>\n",
       "      <td>0.536602</td>\n",
       "      <td>0.350535</td>\n",
       "      <td>-1.213717</td>\n",
       "      <td>0.388412</td>\n",
       "      <td>0.510591</td>\n",
       "      <td>-0.091206</td>\n",
       "      <td>-0.148753</td>\n",
       "      <td>-0.493773</td>\n",
       "      <td>0.286288</td>\n",
       "      <td>-0.712693</td>\n",
       "      <td>-0.804639</td>\n",
       "    </tr>\n",
       "    <tr>\n",
       "      <th>Cell Size</th>\n",
       "      <td>0.645836</td>\n",
       "      <td>1.001433</td>\n",
       "      <td>0.908181</td>\n",
       "      <td>0.706593</td>\n",
       "      <td>0.752876</td>\n",
       "      <td>0.756804</td>\n",
       "      <td>0.756804</td>\n",
       "      <td>0.723900</td>\n",
       "      <td>0.459350</td>\n",
       "      <td>-1.618991</td>\n",
       "      <td>-0.053871</td>\n",
       "      <td>0.895436</td>\n",
       "      <td>-0.142685</td>\n",
       "      <td>-0.188571</td>\n",
       "      <td>-0.657451</td>\n",
       "      <td>0.349316</td>\n",
       "      <td>-0.712693</td>\n",
       "      <td>-0.804639</td>\n",
       "    </tr>\n",
       "    <tr>\n",
       "      <th>Cell Shape</th>\n",
       "      <td>0.655527</td>\n",
       "      <td>0.908181</td>\n",
       "      <td>1.001433</td>\n",
       "      <td>0.684058</td>\n",
       "      <td>0.720699</td>\n",
       "      <td>0.737003</td>\n",
       "      <td>0.737003</td>\n",
       "      <td>0.720477</td>\n",
       "      <td>0.439540</td>\n",
       "      <td>-1.600554</td>\n",
       "      <td>-0.016345</td>\n",
       "      <td>0.881324</td>\n",
       "      <td>-0.143622</td>\n",
       "      <td>-0.166288</td>\n",
       "      <td>-0.673673</td>\n",
       "      <td>0.216994</td>\n",
       "      <td>-0.712693</td>\n",
       "      <td>-0.804639</td>\n",
       "    </tr>\n",
       "    <tr>\n",
       "      <th>Marginal Adhesion</th>\n",
       "      <td>0.487053</td>\n",
       "      <td>0.706593</td>\n",
       "      <td>0.684058</td>\n",
       "      <td>1.001433</td>\n",
       "      <td>0.600458</td>\n",
       "      <td>0.667671</td>\n",
       "      <td>0.667671</td>\n",
       "      <td>0.604217</td>\n",
       "      <td>0.418231</td>\n",
       "      <td>-1.388352</td>\n",
       "      <td>-0.253658</td>\n",
       "      <td>0.690890</td>\n",
       "      <td>0.212802</td>\n",
       "      <td>-0.080083</td>\n",
       "      <td>-0.493961</td>\n",
       "      <td>0.281330</td>\n",
       "      <td>-0.712693</td>\n",
       "      <td>-0.804639</td>\n",
       "    </tr>\n",
       "    <tr>\n",
       "      <th>Single Epithelial Cell Size</th>\n",
       "      <td>0.522564</td>\n",
       "      <td>0.752876</td>\n",
       "      <td>0.720699</td>\n",
       "      <td>0.600458</td>\n",
       "      <td>1.001433</td>\n",
       "      <td>0.616985</td>\n",
       "      <td>0.616985</td>\n",
       "      <td>0.629782</td>\n",
       "      <td>0.479788</td>\n",
       "      <td>-1.313220</td>\n",
       "      <td>-0.109629</td>\n",
       "      <td>0.957315</td>\n",
       "      <td>-0.188847</td>\n",
       "      <td>-0.296289</td>\n",
       "      <td>-0.319508</td>\n",
       "      <td>0.277402</td>\n",
       "      <td>-0.712693</td>\n",
       "      <td>-0.804639</td>\n",
       "    </tr>\n",
       "    <tr>\n",
       "      <th>Bare Nuclei</th>\n",
       "      <td>0.559228</td>\n",
       "      <td>0.756804</td>\n",
       "      <td>0.737003</td>\n",
       "      <td>0.667671</td>\n",
       "      <td>0.616985</td>\n",
       "      <td>1.001433</td>\n",
       "      <td>1.001433</td>\n",
       "      <td>0.666832</td>\n",
       "      <td>0.344663</td>\n",
       "      <td>-1.721359</td>\n",
       "      <td>-0.234022</td>\n",
       "      <td>0.470406</td>\n",
       "      <td>-0.212301</td>\n",
       "      <td>-0.194854</td>\n",
       "      <td>-0.517477</td>\n",
       "      <td>0.281039</td>\n",
       "      <td>-0.712693</td>\n",
       "      <td>-0.804639</td>\n",
       "    </tr>\n",
       "    <tr>\n",
       "      <th>Normal Nucleoli</th>\n",
       "      <td>0.559228</td>\n",
       "      <td>0.756804</td>\n",
       "      <td>0.737003</td>\n",
       "      <td>0.667671</td>\n",
       "      <td>0.616985</td>\n",
       "      <td>1.001433</td>\n",
       "      <td>1.001433</td>\n",
       "      <td>0.666832</td>\n",
       "      <td>0.344663</td>\n",
       "      <td>-1.721359</td>\n",
       "      <td>-0.234022</td>\n",
       "      <td>0.470406</td>\n",
       "      <td>-0.212301</td>\n",
       "      <td>-0.194854</td>\n",
       "      <td>-0.517477</td>\n",
       "      <td>0.281039</td>\n",
       "      <td>-0.712693</td>\n",
       "      <td>-0.804639</td>\n",
       "    </tr>\n",
       "    <tr>\n",
       "      <th>Bland Chromatin</th>\n",
       "      <td>0.536602</td>\n",
       "      <td>0.723900</td>\n",
       "      <td>0.720477</td>\n",
       "      <td>0.604217</td>\n",
       "      <td>0.629782</td>\n",
       "      <td>0.666832</td>\n",
       "      <td>0.666832</td>\n",
       "      <td>1.001433</td>\n",
       "      <td>0.428949</td>\n",
       "      <td>-1.410038</td>\n",
       "      <td>-0.112405</td>\n",
       "      <td>0.784097</td>\n",
       "      <td>-0.264570</td>\n",
       "      <td>0.170649</td>\n",
       "      <td>-0.466647</td>\n",
       "      <td>0.284699</td>\n",
       "      <td>-0.712693</td>\n",
       "      <td>-0.804639</td>\n",
       "    </tr>\n",
       "    <tr>\n",
       "      <th>Mitoses</th>\n",
       "      <td>0.350535</td>\n",
       "      <td>0.459350</td>\n",
       "      <td>0.439540</td>\n",
       "      <td>0.418231</td>\n",
       "      <td>0.479788</td>\n",
       "      <td>0.344663</td>\n",
       "      <td>0.344663</td>\n",
       "      <td>0.428949</td>\n",
       "      <td>1.001433</td>\n",
       "      <td>-0.451102</td>\n",
       "      <td>-0.255336</td>\n",
       "      <td>0.642627</td>\n",
       "      <td>-0.200807</td>\n",
       "      <td>-0.175635</td>\n",
       "      <td>-0.606997</td>\n",
       "      <td>0.282816</td>\n",
       "      <td>-0.712693</td>\n",
       "      <td>-0.804639</td>\n",
       "    </tr>\n",
       "    <tr>\n",
       "      <th>0</th>\n",
       "      <td>-1.213717</td>\n",
       "      <td>-1.618991</td>\n",
       "      <td>-1.600554</td>\n",
       "      <td>-1.388352</td>\n",
       "      <td>-1.313220</td>\n",
       "      <td>-1.721359</td>\n",
       "      <td>-1.721359</td>\n",
       "      <td>-1.410038</td>\n",
       "      <td>-0.451102</td>\n",
       "      <td>3.411858</td>\n",
       "      <td>0.172897</td>\n",
       "      <td>-1.241961</td>\n",
       "      <td>0.248303</td>\n",
       "      <td>0.255227</td>\n",
       "      <td>0.955303</td>\n",
       "      <td>-0.518066</td>\n",
       "      <td>1.310244</td>\n",
       "      <td>1.479282</td>\n",
       "    </tr>\n",
       "    <tr>\n",
       "      <th>1</th>\n",
       "      <td>0.388412</td>\n",
       "      <td>-0.053871</td>\n",
       "      <td>-0.016345</td>\n",
       "      <td>-0.253658</td>\n",
       "      <td>-0.109629</td>\n",
       "      <td>-0.234022</td>\n",
       "      <td>-0.234022</td>\n",
       "      <td>-0.112405</td>\n",
       "      <td>-0.255336</td>\n",
       "      <td>0.172897</td>\n",
       "      <td>0.589026</td>\n",
       "      <td>-0.095178</td>\n",
       "      <td>0.019149</td>\n",
       "      <td>0.019712</td>\n",
       "      <td>0.074000</td>\n",
       "      <td>-0.040521</td>\n",
       "      <td>0.102679</td>\n",
       "      <td>0.115925</td>\n",
       "    </tr>\n",
       "    <tr>\n",
       "      <th>2</th>\n",
       "      <td>0.510591</td>\n",
       "      <td>0.895436</td>\n",
       "      <td>0.881324</td>\n",
       "      <td>0.690890</td>\n",
       "      <td>0.957315</td>\n",
       "      <td>0.470406</td>\n",
       "      <td>0.470406</td>\n",
       "      <td>0.784097</td>\n",
       "      <td>0.642627</td>\n",
       "      <td>-1.241961</td>\n",
       "      <td>-0.095178</td>\n",
       "      <td>1.222524</td>\n",
       "      <td>-0.137888</td>\n",
       "      <td>-0.141968</td>\n",
       "      <td>-0.533128</td>\n",
       "      <td>0.292281</td>\n",
       "      <td>-0.740843</td>\n",
       "      <td>-0.836421</td>\n",
       "    </tr>\n",
       "    <tr>\n",
       "      <th>3</th>\n",
       "      <td>-0.091206</td>\n",
       "      <td>-0.142685</td>\n",
       "      <td>-0.143622</td>\n",
       "      <td>0.212802</td>\n",
       "      <td>-0.188847</td>\n",
       "      <td>-0.212301</td>\n",
       "      <td>-0.212301</td>\n",
       "      <td>-0.264570</td>\n",
       "      <td>-0.200807</td>\n",
       "      <td>0.248303</td>\n",
       "      <td>0.019149</td>\n",
       "      <td>-0.137888</td>\n",
       "      <td>0.426455</td>\n",
       "      <td>0.028680</td>\n",
       "      <td>0.107858</td>\n",
       "      <td>-0.059466</td>\n",
       "      <td>0.150945</td>\n",
       "      <td>0.170419</td>\n",
       "    </tr>\n",
       "    <tr>\n",
       "      <th>4</th>\n",
       "      <td>-0.148753</td>\n",
       "      <td>-0.188571</td>\n",
       "      <td>-0.166288</td>\n",
       "      <td>-0.080083</td>\n",
       "      <td>-0.296289</td>\n",
       "      <td>-0.194854</td>\n",
       "      <td>-0.194854</td>\n",
       "      <td>0.170649</td>\n",
       "      <td>-0.175635</td>\n",
       "      <td>0.255227</td>\n",
       "      <td>0.019712</td>\n",
       "      <td>-0.141968</td>\n",
       "      <td>0.028680</td>\n",
       "      <td>0.396856</td>\n",
       "      <td>0.111191</td>\n",
       "      <td>-0.061403</td>\n",
       "      <td>0.155933</td>\n",
       "      <td>0.176050</td>\n",
       "    </tr>\n",
       "    <tr>\n",
       "      <th>5</th>\n",
       "      <td>-0.493773</td>\n",
       "      <td>-0.657451</td>\n",
       "      <td>-0.673673</td>\n",
       "      <td>-0.493961</td>\n",
       "      <td>-0.319508</td>\n",
       "      <td>-0.517477</td>\n",
       "      <td>-0.517477</td>\n",
       "      <td>-0.466647</td>\n",
       "      <td>-0.606997</td>\n",
       "      <td>0.955303</td>\n",
       "      <td>0.074000</td>\n",
       "      <td>-0.533128</td>\n",
       "      <td>0.107858</td>\n",
       "      <td>0.111191</td>\n",
       "      <td>0.725259</td>\n",
       "      <td>-0.232039</td>\n",
       "      <td>0.589920</td>\n",
       "      <td>0.666028</td>\n",
       "    </tr>\n",
       "    <tr>\n",
       "      <th>6</th>\n",
       "      <td>0.286288</td>\n",
       "      <td>0.349316</td>\n",
       "      <td>0.216994</td>\n",
       "      <td>0.281330</td>\n",
       "      <td>0.277402</td>\n",
       "      <td>0.281039</td>\n",
       "      <td>0.281039</td>\n",
       "      <td>0.284699</td>\n",
       "      <td>0.282816</td>\n",
       "      <td>-0.518066</td>\n",
       "      <td>-0.040521</td>\n",
       "      <td>0.292281</td>\n",
       "      <td>-0.059466</td>\n",
       "      <td>-0.061403</td>\n",
       "      <td>-0.232039</td>\n",
       "      <td>0.225146</td>\n",
       "      <td>-0.337350</td>\n",
       "      <td>-0.380873</td>\n",
       "    </tr>\n",
       "    <tr>\n",
       "      <th>7</th>\n",
       "      <td>-0.712693</td>\n",
       "      <td>-0.712693</td>\n",
       "      <td>-0.712693</td>\n",
       "      <td>-0.712693</td>\n",
       "      <td>-0.712693</td>\n",
       "      <td>-0.712693</td>\n",
       "      <td>-0.712693</td>\n",
       "      <td>-0.712693</td>\n",
       "      <td>-0.712693</td>\n",
       "      <td>1.310244</td>\n",
       "      <td>0.102679</td>\n",
       "      <td>-0.740843</td>\n",
       "      <td>0.150945</td>\n",
       "      <td>0.155933</td>\n",
       "      <td>0.589920</td>\n",
       "      <td>-0.337350</td>\n",
       "      <td>0.886182</td>\n",
       "      <td>1.000511</td>\n",
       "    </tr>\n",
       "    <tr>\n",
       "      <th>8</th>\n",
       "      <td>-0.804639</td>\n",
       "      <td>-0.804639</td>\n",
       "      <td>-0.804639</td>\n",
       "      <td>-0.804639</td>\n",
       "      <td>-0.804639</td>\n",
       "      <td>-0.804639</td>\n",
       "      <td>-0.804639</td>\n",
       "      <td>-0.804639</td>\n",
       "      <td>-0.804639</td>\n",
       "      <td>1.479282</td>\n",
       "      <td>0.115925</td>\n",
       "      <td>-0.836421</td>\n",
       "      <td>0.170419</td>\n",
       "      <td>0.176050</td>\n",
       "      <td>0.666028</td>\n",
       "      <td>-0.380873</td>\n",
       "      <td>1.000511</td>\n",
       "      <td>1.129589</td>\n",
       "    </tr>\n",
       "  </tbody>\n",
       "</table>\n",
       "</div>"
      ],
      "text/plain": [
       "                             ClumpThickness  Cell Size  Cell Shape  \\\n",
       "ClumpThickness                     1.001433   0.645836    0.655527   \n",
       "Cell Size                          0.645836   1.001433    0.908181   \n",
       "Cell Shape                         0.655527   0.908181    1.001433   \n",
       "Marginal Adhesion                  0.487053   0.706593    0.684058   \n",
       "Single Epithelial Cell Size        0.522564   0.752876    0.720699   \n",
       "Bare Nuclei                        0.559228   0.756804    0.737003   \n",
       "Normal Nucleoli                    0.559228   0.756804    0.737003   \n",
       "Bland Chromatin                    0.536602   0.723900    0.720477   \n",
       "Mitoses                            0.350535   0.459350    0.439540   \n",
       "0                                 -1.213717  -1.618991   -1.600554   \n",
       "1                                  0.388412  -0.053871   -0.016345   \n",
       "2                                  0.510591   0.895436    0.881324   \n",
       "3                                 -0.091206  -0.142685   -0.143622   \n",
       "4                                 -0.148753  -0.188571   -0.166288   \n",
       "5                                 -0.493773  -0.657451   -0.673673   \n",
       "6                                  0.286288   0.349316    0.216994   \n",
       "7                                 -0.712693  -0.712693   -0.712693   \n",
       "8                                 -0.804639  -0.804639   -0.804639   \n",
       "\n",
       "                             Marginal Adhesion  Single Epithelial Cell Size  \\\n",
       "ClumpThickness                        0.487053                     0.522564   \n",
       "Cell Size                             0.706593                     0.752876   \n",
       "Cell Shape                            0.684058                     0.720699   \n",
       "Marginal Adhesion                     1.001433                     0.600458   \n",
       "Single Epithelial Cell Size           0.600458                     1.001433   \n",
       "Bare Nuclei                           0.667671                     0.616985   \n",
       "Normal Nucleoli                       0.667671                     0.616985   \n",
       "Bland Chromatin                       0.604217                     0.629782   \n",
       "Mitoses                               0.418231                     0.479788   \n",
       "0                                    -1.388352                    -1.313220   \n",
       "1                                    -0.253658                    -0.109629   \n",
       "2                                     0.690890                     0.957315   \n",
       "3                                     0.212802                    -0.188847   \n",
       "4                                    -0.080083                    -0.296289   \n",
       "5                                    -0.493961                    -0.319508   \n",
       "6                                     0.281330                     0.277402   \n",
       "7                                    -0.712693                    -0.712693   \n",
       "8                                    -0.804639                    -0.804639   \n",
       "\n",
       "                             Bare Nuclei  Normal Nucleoli  Bland Chromatin  \\\n",
       "ClumpThickness                  0.559228         0.559228         0.536602   \n",
       "Cell Size                       0.756804         0.756804         0.723900   \n",
       "Cell Shape                      0.737003         0.737003         0.720477   \n",
       "Marginal Adhesion               0.667671         0.667671         0.604217   \n",
       "Single Epithelial Cell Size     0.616985         0.616985         0.629782   \n",
       "Bare Nuclei                     1.001433         1.001433         0.666832   \n",
       "Normal Nucleoli                 1.001433         1.001433         0.666832   \n",
       "Bland Chromatin                 0.666832         0.666832         1.001433   \n",
       "Mitoses                         0.344663         0.344663         0.428949   \n",
       "0                              -1.721359        -1.721359        -1.410038   \n",
       "1                              -0.234022        -0.234022        -0.112405   \n",
       "2                               0.470406         0.470406         0.784097   \n",
       "3                              -0.212301        -0.212301        -0.264570   \n",
       "4                              -0.194854        -0.194854         0.170649   \n",
       "5                              -0.517477        -0.517477        -0.466647   \n",
       "6                               0.281039         0.281039         0.284699   \n",
       "7                              -0.712693        -0.712693        -0.712693   \n",
       "8                              -0.804639        -0.804639        -0.804639   \n",
       "\n",
       "                              Mitoses         0         1         2         3  \\\n",
       "ClumpThickness               0.350535 -1.213717  0.388412  0.510591 -0.091206   \n",
       "Cell Size                    0.459350 -1.618991 -0.053871  0.895436 -0.142685   \n",
       "Cell Shape                   0.439540 -1.600554 -0.016345  0.881324 -0.143622   \n",
       "Marginal Adhesion            0.418231 -1.388352 -0.253658  0.690890  0.212802   \n",
       "Single Epithelial Cell Size  0.479788 -1.313220 -0.109629  0.957315 -0.188847   \n",
       "Bare Nuclei                  0.344663 -1.721359 -0.234022  0.470406 -0.212301   \n",
       "Normal Nucleoli              0.344663 -1.721359 -0.234022  0.470406 -0.212301   \n",
       "Bland Chromatin              0.428949 -1.410038 -0.112405  0.784097 -0.264570   \n",
       "Mitoses                      1.001433 -0.451102 -0.255336  0.642627 -0.200807   \n",
       "0                           -0.451102  3.411858  0.172897 -1.241961  0.248303   \n",
       "1                           -0.255336  0.172897  0.589026 -0.095178  0.019149   \n",
       "2                            0.642627 -1.241961 -0.095178  1.222524 -0.137888   \n",
       "3                           -0.200807  0.248303  0.019149 -0.137888  0.426455   \n",
       "4                           -0.175635  0.255227  0.019712 -0.141968  0.028680   \n",
       "5                           -0.606997  0.955303  0.074000 -0.533128  0.107858   \n",
       "6                            0.282816 -0.518066 -0.040521  0.292281 -0.059466   \n",
       "7                           -0.712693  1.310244  0.102679 -0.740843  0.150945   \n",
       "8                           -0.804639  1.479282  0.115925 -0.836421  0.170419   \n",
       "\n",
       "                                    4         5         6         7         8  \n",
       "ClumpThickness              -0.148753 -0.493773  0.286288 -0.712693 -0.804639  \n",
       "Cell Size                   -0.188571 -0.657451  0.349316 -0.712693 -0.804639  \n",
       "Cell Shape                  -0.166288 -0.673673  0.216994 -0.712693 -0.804639  \n",
       "Marginal Adhesion           -0.080083 -0.493961  0.281330 -0.712693 -0.804639  \n",
       "Single Epithelial Cell Size -0.296289 -0.319508  0.277402 -0.712693 -0.804639  \n",
       "Bare Nuclei                 -0.194854 -0.517477  0.281039 -0.712693 -0.804639  \n",
       "Normal Nucleoli             -0.194854 -0.517477  0.281039 -0.712693 -0.804639  \n",
       "Bland Chromatin              0.170649 -0.466647  0.284699 -0.712693 -0.804639  \n",
       "Mitoses                     -0.175635 -0.606997  0.282816 -0.712693 -0.804639  \n",
       "0                            0.255227  0.955303 -0.518066  1.310244  1.479282  \n",
       "1                            0.019712  0.074000 -0.040521  0.102679  0.115925  \n",
       "2                           -0.141968 -0.533128  0.292281 -0.740843 -0.836421  \n",
       "3                            0.028680  0.107858 -0.059466  0.150945  0.170419  \n",
       "4                            0.396856  0.111191 -0.061403  0.155933  0.176050  \n",
       "5                            0.111191  0.725259 -0.232039  0.589920  0.666028  \n",
       "6                           -0.061403 -0.232039  0.225146 -0.337350 -0.380873  \n",
       "7                            0.155933  0.589920 -0.337350  0.886182  1.000511  \n",
       "8                            0.176050  0.666028 -0.380873  1.000511  1.129589  "
      ]
     },
     "execution_count": 46,
     "metadata": {},
     "output_type": "execute_result"
    }
   ],
   "source": [
    "X_z.cov()"
   ]
  },
  {
   "cell_type": "code",
   "execution_count": 47,
   "metadata": {},
   "outputs": [
    {
     "data": {
      "text/html": [
       "<div>\n",
       "<style scoped>\n",
       "    .dataframe tbody tr th:only-of-type {\n",
       "        vertical-align: middle;\n",
       "    }\n",
       "\n",
       "    .dataframe tbody tr th {\n",
       "        vertical-align: top;\n",
       "    }\n",
       "\n",
       "    .dataframe thead th {\n",
       "        text-align: right;\n",
       "    }\n",
       "</style>\n",
       "<table border=\"1\" class=\"dataframe\">\n",
       "  <thead>\n",
       "    <tr style=\"text-align: right;\">\n",
       "      <th></th>\n",
       "      <th>ClumpThickness</th>\n",
       "      <th>Cell Size</th>\n",
       "      <th>Cell Shape</th>\n",
       "      <th>Marginal Adhesion</th>\n",
       "      <th>Single Epithelial Cell Size</th>\n",
       "      <th>Bare Nuclei</th>\n",
       "      <th>Normal Nucleoli</th>\n",
       "      <th>Bland Chromatin</th>\n",
       "    </tr>\n",
       "  </thead>\n",
       "  <tbody>\n",
       "    <tr>\n",
       "      <th>0</th>\n",
       "      <td>0.206936</td>\n",
       "      <td>-0.699995</td>\n",
       "      <td>-0.743299</td>\n",
       "      <td>-0.633247</td>\n",
       "      <td>-0.549561</td>\n",
       "      <td>-0.179662</td>\n",
       "      <td>-0.179662</td>\n",
       "      <td>-0.611825</td>\n",
       "    </tr>\n",
       "    <tr>\n",
       "      <th>1</th>\n",
       "      <td>0.206936</td>\n",
       "      <td>0.283845</td>\n",
       "      <td>0.266875</td>\n",
       "      <td>0.768621</td>\n",
       "      <td>1.710106</td>\n",
       "      <td>-0.179662</td>\n",
       "      <td>-0.179662</td>\n",
       "      <td>-0.284112</td>\n",
       "    </tr>\n",
       "    <tr>\n",
       "      <th>2</th>\n",
       "      <td>-0.503866</td>\n",
       "      <td>-0.699995</td>\n",
       "      <td>-0.743299</td>\n",
       "      <td>-0.633247</td>\n",
       "      <td>-0.549561</td>\n",
       "      <td>-0.179662</td>\n",
       "      <td>-0.179662</td>\n",
       "      <td>-0.611825</td>\n",
       "    </tr>\n",
       "    <tr>\n",
       "      <th>3</th>\n",
       "      <td>0.562336</td>\n",
       "      <td>1.595632</td>\n",
       "      <td>1.613773</td>\n",
       "      <td>-0.633247</td>\n",
       "      <td>-0.097628</td>\n",
       "      <td>-0.179662</td>\n",
       "      <td>-0.179662</td>\n",
       "      <td>1.354454</td>\n",
       "    </tr>\n",
       "    <tr>\n",
       "      <th>4</th>\n",
       "      <td>-0.148465</td>\n",
       "      <td>-0.699995</td>\n",
       "      <td>-0.743299</td>\n",
       "      <td>0.067687</td>\n",
       "      <td>-0.549561</td>\n",
       "      <td>-0.179662</td>\n",
       "      <td>-0.179662</td>\n",
       "      <td>-0.611825</td>\n",
       "    </tr>\n",
       "    <tr>\n",
       "      <th>5</th>\n",
       "      <td>1.273138</td>\n",
       "      <td>2.251526</td>\n",
       "      <td>2.287222</td>\n",
       "      <td>1.820022</td>\n",
       "      <td>1.710106</td>\n",
       "      <td>2.282766</td>\n",
       "      <td>2.282766</td>\n",
       "      <td>1.354454</td>\n",
       "    </tr>\n",
       "    <tr>\n",
       "      <th>6</th>\n",
       "      <td>-1.214667</td>\n",
       "      <td>-0.699995</td>\n",
       "      <td>-0.743299</td>\n",
       "      <td>-0.633247</td>\n",
       "      <td>-0.549561</td>\n",
       "      <td>-0.179662</td>\n",
       "      <td>-0.179662</td>\n",
       "      <td>-0.611825</td>\n",
       "    </tr>\n",
       "    <tr>\n",
       "      <th>7</th>\n",
       "      <td>-0.859266</td>\n",
       "      <td>-0.699995</td>\n",
       "      <td>-0.406574</td>\n",
       "      <td>-0.633247</td>\n",
       "      <td>-0.549561</td>\n",
       "      <td>-0.179662</td>\n",
       "      <td>-0.179662</td>\n",
       "      <td>-0.611825</td>\n",
       "    </tr>\n",
       "  </tbody>\n",
       "</table>\n",
       "</div>"
      ],
      "text/plain": [
       "   ClumpThickness  Cell Size  Cell Shape  Marginal Adhesion  \\\n",
       "0        0.206936  -0.699995   -0.743299          -0.633247   \n",
       "1        0.206936   0.283845    0.266875           0.768621   \n",
       "2       -0.503866  -0.699995   -0.743299          -0.633247   \n",
       "3        0.562336   1.595632    1.613773          -0.633247   \n",
       "4       -0.148465  -0.699995   -0.743299           0.067687   \n",
       "5        1.273138   2.251526    2.287222           1.820022   \n",
       "6       -1.214667  -0.699995   -0.743299          -0.633247   \n",
       "7       -0.859266  -0.699995   -0.406574          -0.633247   \n",
       "\n",
       "   Single Epithelial Cell Size  Bare Nuclei  Normal Nucleoli  Bland Chromatin  \n",
       "0                    -0.549561    -0.179662        -0.179662        -0.611825  \n",
       "1                     1.710106    -0.179662        -0.179662        -0.284112  \n",
       "2                    -0.549561    -0.179662        -0.179662        -0.611825  \n",
       "3                    -0.097628    -0.179662        -0.179662         1.354454  \n",
       "4                    -0.549561    -0.179662        -0.179662        -0.611825  \n",
       "5                     1.710106     2.282766         2.282766         1.354454  \n",
       "6                    -0.549561    -0.179662        -0.179662        -0.611825  \n",
       "7                    -0.549561    -0.179662        -0.179662        -0.611825  "
      ]
     },
     "execution_count": 47,
     "metadata": {},
     "output_type": "execute_result"
    }
   ],
   "source": [
    "X_z.iloc[0:8,0:8]"
   ]
  },
  {
   "cell_type": "markdown",
   "metadata": {
    "colab_type": "text",
    "id": "HnHXocYbSM6n"
   },
   "source": [
    "# Popularity Based Recommendation System"
   ]
  },
  {
   "cell_type": "markdown",
   "metadata": {
    "colab_type": "text",
    "id": "r8LHW5isSM6o"
   },
   "source": [
    "### About Dataset"
   ]
  },
  {
   "cell_type": "markdown",
   "metadata": {
    "colab_type": "text",
    "id": "m8i-LSc4SM6p"
   },
   "source": [
    "Anonymous Ratings on jokes."
   ]
  },
  {
   "cell_type": "markdown",
   "metadata": {
    "colab_type": "text",
    "id": "y-wmIsyYSM6p"
   },
   "source": [
    "1. Ratings are real values ranging from -10.00 to +10.00 (the value \"99\" corresponds to \"null\" = \"not rated\").\n",
    "\n",
    "2. One row per user\n",
    "\n",
    "3. The first column gives the number of jokes rated by that user. The next 100 columns give the ratings for jokes 01 - 100."
   ]
  },
  {
   "cell_type": "markdown",
   "metadata": {
    "colab_type": "text",
    "id": "LC-Uca2PSM6q"
   },
   "source": [
    "# Q11 Read the dataset(jokes.csv)\n"
   ]
  },
  {
   "cell_type": "code",
   "execution_count": 48,
   "metadata": {
    "colab": {},
    "colab_type": "code",
    "id": "mndzWciDSM6r"
   },
   "outputs": [
    {
     "data": {
      "text/html": [
       "<div>\n",
       "<style scoped>\n",
       "    .dataframe tbody tr th:only-of-type {\n",
       "        vertical-align: middle;\n",
       "    }\n",
       "\n",
       "    .dataframe tbody tr th {\n",
       "        vertical-align: top;\n",
       "    }\n",
       "\n",
       "    .dataframe thead th {\n",
       "        text-align: right;\n",
       "    }\n",
       "</style>\n",
       "<table border=\"1\" class=\"dataframe\">\n",
       "  <thead>\n",
       "    <tr style=\"text-align: right;\">\n",
       "      <th></th>\n",
       "      <th>NumJokes</th>\n",
       "      <th>Joke1</th>\n",
       "      <th>Joke2</th>\n",
       "      <th>Joke3</th>\n",
       "      <th>Joke4</th>\n",
       "      <th>Joke5</th>\n",
       "      <th>Joke6</th>\n",
       "      <th>Joke7</th>\n",
       "      <th>Joke8</th>\n",
       "      <th>Joke9</th>\n",
       "      <th>...</th>\n",
       "      <th>Joke91</th>\n",
       "      <th>Joke92</th>\n",
       "      <th>Joke93</th>\n",
       "      <th>Joke94</th>\n",
       "      <th>Joke95</th>\n",
       "      <th>Joke96</th>\n",
       "      <th>Joke97</th>\n",
       "      <th>Joke98</th>\n",
       "      <th>Joke99</th>\n",
       "      <th>Joke100</th>\n",
       "    </tr>\n",
       "  </thead>\n",
       "  <tbody>\n",
       "    <tr>\n",
       "      <th>0</th>\n",
       "      <td>74</td>\n",
       "      <td>-7.82</td>\n",
       "      <td>8.79</td>\n",
       "      <td>-9.66</td>\n",
       "      <td>-8.16</td>\n",
       "      <td>-7.52</td>\n",
       "      <td>-8.50</td>\n",
       "      <td>-9.85</td>\n",
       "      <td>4.17</td>\n",
       "      <td>-8.98</td>\n",
       "      <td>...</td>\n",
       "      <td>2.82</td>\n",
       "      <td>99.00</td>\n",
       "      <td>99.00</td>\n",
       "      <td>99.00</td>\n",
       "      <td>99.00</td>\n",
       "      <td>99.00</td>\n",
       "      <td>-5.63</td>\n",
       "      <td>99.00</td>\n",
       "      <td>99.00</td>\n",
       "      <td>99.00</td>\n",
       "    </tr>\n",
       "    <tr>\n",
       "      <th>1</th>\n",
       "      <td>100</td>\n",
       "      <td>4.08</td>\n",
       "      <td>-0.29</td>\n",
       "      <td>6.36</td>\n",
       "      <td>4.37</td>\n",
       "      <td>-2.38</td>\n",
       "      <td>-9.66</td>\n",
       "      <td>-0.73</td>\n",
       "      <td>-5.34</td>\n",
       "      <td>8.88</td>\n",
       "      <td>...</td>\n",
       "      <td>2.82</td>\n",
       "      <td>-4.95</td>\n",
       "      <td>-0.29</td>\n",
       "      <td>7.86</td>\n",
       "      <td>-0.19</td>\n",
       "      <td>-2.14</td>\n",
       "      <td>3.06</td>\n",
       "      <td>0.34</td>\n",
       "      <td>-4.32</td>\n",
       "      <td>1.07</td>\n",
       "    </tr>\n",
       "    <tr>\n",
       "      <th>2</th>\n",
       "      <td>49</td>\n",
       "      <td>99.00</td>\n",
       "      <td>99.00</td>\n",
       "      <td>99.00</td>\n",
       "      <td>99.00</td>\n",
       "      <td>9.03</td>\n",
       "      <td>9.27</td>\n",
       "      <td>9.03</td>\n",
       "      <td>9.27</td>\n",
       "      <td>99.00</td>\n",
       "      <td>...</td>\n",
       "      <td>99.00</td>\n",
       "      <td>99.00</td>\n",
       "      <td>99.00</td>\n",
       "      <td>9.08</td>\n",
       "      <td>99.00</td>\n",
       "      <td>99.00</td>\n",
       "      <td>99.00</td>\n",
       "      <td>99.00</td>\n",
       "      <td>99.00</td>\n",
       "      <td>99.00</td>\n",
       "    </tr>\n",
       "    <tr>\n",
       "      <th>3</th>\n",
       "      <td>48</td>\n",
       "      <td>99.00</td>\n",
       "      <td>8.35</td>\n",
       "      <td>99.00</td>\n",
       "      <td>99.00</td>\n",
       "      <td>1.80</td>\n",
       "      <td>8.16</td>\n",
       "      <td>-2.82</td>\n",
       "      <td>6.21</td>\n",
       "      <td>99.00</td>\n",
       "      <td>...</td>\n",
       "      <td>99.00</td>\n",
       "      <td>99.00</td>\n",
       "      <td>99.00</td>\n",
       "      <td>0.53</td>\n",
       "      <td>99.00</td>\n",
       "      <td>99.00</td>\n",
       "      <td>99.00</td>\n",
       "      <td>99.00</td>\n",
       "      <td>99.00</td>\n",
       "      <td>99.00</td>\n",
       "    </tr>\n",
       "    <tr>\n",
       "      <th>4</th>\n",
       "      <td>91</td>\n",
       "      <td>8.50</td>\n",
       "      <td>4.61</td>\n",
       "      <td>-4.17</td>\n",
       "      <td>-5.39</td>\n",
       "      <td>1.36</td>\n",
       "      <td>1.60</td>\n",
       "      <td>7.04</td>\n",
       "      <td>4.61</td>\n",
       "      <td>-0.44</td>\n",
       "      <td>...</td>\n",
       "      <td>5.19</td>\n",
       "      <td>5.58</td>\n",
       "      <td>4.27</td>\n",
       "      <td>5.19</td>\n",
       "      <td>5.73</td>\n",
       "      <td>1.55</td>\n",
       "      <td>3.11</td>\n",
       "      <td>6.55</td>\n",
       "      <td>1.80</td>\n",
       "      <td>1.60</td>\n",
       "    </tr>\n",
       "  </tbody>\n",
       "</table>\n",
       "<p>5 rows × 101 columns</p>\n",
       "</div>"
      ],
      "text/plain": [
       "   NumJokes  Joke1  Joke2  Joke3  Joke4  Joke5  Joke6  Joke7  Joke8  Joke9  \\\n",
       "0        74  -7.82   8.79  -9.66  -8.16  -7.52  -8.50  -9.85   4.17  -8.98   \n",
       "1       100   4.08  -0.29   6.36   4.37  -2.38  -9.66  -0.73  -5.34   8.88   \n",
       "2        49  99.00  99.00  99.00  99.00   9.03   9.27   9.03   9.27  99.00   \n",
       "3        48  99.00   8.35  99.00  99.00   1.80   8.16  -2.82   6.21  99.00   \n",
       "4        91   8.50   4.61  -4.17  -5.39   1.36   1.60   7.04   4.61  -0.44   \n",
       "\n",
       "   ...  Joke91  Joke92  Joke93  Joke94  Joke95  Joke96  Joke97  Joke98  \\\n",
       "0  ...    2.82   99.00   99.00   99.00   99.00   99.00   -5.63   99.00   \n",
       "1  ...    2.82   -4.95   -0.29    7.86   -0.19   -2.14    3.06    0.34   \n",
       "2  ...   99.00   99.00   99.00    9.08   99.00   99.00   99.00   99.00   \n",
       "3  ...   99.00   99.00   99.00    0.53   99.00   99.00   99.00   99.00   \n",
       "4  ...    5.19    5.58    4.27    5.19    5.73    1.55    3.11    6.55   \n",
       "\n",
       "   Joke99  Joke100  \n",
       "0   99.00    99.00  \n",
       "1   -4.32     1.07  \n",
       "2   99.00    99.00  \n",
       "3   99.00    99.00  \n",
       "4    1.80     1.60  \n",
       "\n",
       "[5 rows x 101 columns]"
      ]
     },
     "execution_count": 48,
     "metadata": {},
     "output_type": "execute_result"
    }
   ],
   "source": [
    "joke=pd.read_csv('jokes.csv')\n",
    "joke.head()"
   ]
  },
  {
   "cell_type": "markdown",
   "metadata": {
    "colab_type": "text",
    "id": "6QEWF8o-SM6t"
   },
   "source": [
    "# Q12 Consider `ratings` named dataframe with only first 200 rows and all columns from 1(first column is 0) of dataset"
   ]
  },
  {
   "cell_type": "code",
   "execution_count": 49,
   "metadata": {
    "colab": {},
    "colab_type": "code",
    "id": "xc0b-lBRSM6u"
   },
   "outputs": [
    {
     "data": {
      "text/plain": [
       "(200, 101)"
      ]
     },
     "execution_count": 49,
     "metadata": {},
     "output_type": "execute_result"
    }
   ],
   "source": [
    "ratings=joke.iloc[0:200,:]\n",
    "ratings.shape"
   ]
  },
  {
   "cell_type": "markdown",
   "metadata": {
    "colab_type": "text",
    "id": "d-0_FGl0SM6-"
   },
   "source": [
    "# Q13 In the dataset, the null ratings are given as 99.00, so replace all 99.00s with 0\n",
    "Hint: You can use `ratings.replace(<the given value>, <new value you wanted to change with>)`"
   ]
  },
  {
   "cell_type": "code",
   "execution_count": 50,
   "metadata": {
    "colab": {},
    "colab_type": "code",
    "id": "veL5hwRLSM6_"
   },
   "outputs": [
    {
     "name": "stderr",
     "output_type": "stream",
     "text": [
      "D:\\Anaconda3\\lib\\site-packages\\pandas\\core\\frame.py:4278: SettingWithCopyWarning: \n",
      "A value is trying to be set on a copy of a slice from a DataFrame\n",
      "\n",
      "See the caveats in the documentation: http://pandas.pydata.org/pandas-docs/stable/user_guide/indexing.html#returning-a-view-versus-a-copy\n",
      "  method=method,\n"
     ]
    }
   ],
   "source": [
    "ratings.replace(99,0,inplace=True)"
   ]
  },
  {
   "cell_type": "code",
   "execution_count": 51,
   "metadata": {
    "colab": {},
    "colab_type": "code",
    "id": "JS3Mx_DjSM7K"
   },
   "outputs": [
    {
     "data": {
      "text/html": [
       "<div>\n",
       "<style scoped>\n",
       "    .dataframe tbody tr th:only-of-type {\n",
       "        vertical-align: middle;\n",
       "    }\n",
       "\n",
       "    .dataframe tbody tr th {\n",
       "        vertical-align: top;\n",
       "    }\n",
       "\n",
       "    .dataframe thead th {\n",
       "        text-align: right;\n",
       "    }\n",
       "</style>\n",
       "<table border=\"1\" class=\"dataframe\">\n",
       "  <thead>\n",
       "    <tr style=\"text-align: right;\">\n",
       "      <th></th>\n",
       "      <th>NumJokes</th>\n",
       "      <th>Joke1</th>\n",
       "      <th>Joke2</th>\n",
       "      <th>Joke3</th>\n",
       "      <th>Joke4</th>\n",
       "      <th>Joke5</th>\n",
       "      <th>Joke6</th>\n",
       "      <th>Joke7</th>\n",
       "      <th>Joke8</th>\n",
       "      <th>Joke9</th>\n",
       "      <th>...</th>\n",
       "      <th>Joke91</th>\n",
       "      <th>Joke92</th>\n",
       "      <th>Joke93</th>\n",
       "      <th>Joke94</th>\n",
       "      <th>Joke95</th>\n",
       "      <th>Joke96</th>\n",
       "      <th>Joke97</th>\n",
       "      <th>Joke98</th>\n",
       "      <th>Joke99</th>\n",
       "      <th>Joke100</th>\n",
       "    </tr>\n",
       "  </thead>\n",
       "  <tbody>\n",
       "    <tr>\n",
       "      <th>0</th>\n",
       "      <td>74</td>\n",
       "      <td>-7.82</td>\n",
       "      <td>8.79</td>\n",
       "      <td>-9.66</td>\n",
       "      <td>-8.16</td>\n",
       "      <td>-7.52</td>\n",
       "      <td>-8.50</td>\n",
       "      <td>-9.85</td>\n",
       "      <td>4.17</td>\n",
       "      <td>-8.98</td>\n",
       "      <td>...</td>\n",
       "      <td>2.82</td>\n",
       "      <td>0.00</td>\n",
       "      <td>0.00</td>\n",
       "      <td>0.00</td>\n",
       "      <td>0.00</td>\n",
       "      <td>0.00</td>\n",
       "      <td>-5.63</td>\n",
       "      <td>0.00</td>\n",
       "      <td>0.00</td>\n",
       "      <td>0.00</td>\n",
       "    </tr>\n",
       "    <tr>\n",
       "      <th>1</th>\n",
       "      <td>100</td>\n",
       "      <td>4.08</td>\n",
       "      <td>-0.29</td>\n",
       "      <td>6.36</td>\n",
       "      <td>4.37</td>\n",
       "      <td>-2.38</td>\n",
       "      <td>-9.66</td>\n",
       "      <td>-0.73</td>\n",
       "      <td>-5.34</td>\n",
       "      <td>8.88</td>\n",
       "      <td>...</td>\n",
       "      <td>2.82</td>\n",
       "      <td>-4.95</td>\n",
       "      <td>-0.29</td>\n",
       "      <td>7.86</td>\n",
       "      <td>-0.19</td>\n",
       "      <td>-2.14</td>\n",
       "      <td>3.06</td>\n",
       "      <td>0.34</td>\n",
       "      <td>-4.32</td>\n",
       "      <td>1.07</td>\n",
       "    </tr>\n",
       "    <tr>\n",
       "      <th>2</th>\n",
       "      <td>49</td>\n",
       "      <td>0.00</td>\n",
       "      <td>0.00</td>\n",
       "      <td>0.00</td>\n",
       "      <td>0.00</td>\n",
       "      <td>9.03</td>\n",
       "      <td>9.27</td>\n",
       "      <td>9.03</td>\n",
       "      <td>9.27</td>\n",
       "      <td>0.00</td>\n",
       "      <td>...</td>\n",
       "      <td>0.00</td>\n",
       "      <td>0.00</td>\n",
       "      <td>0.00</td>\n",
       "      <td>9.08</td>\n",
       "      <td>0.00</td>\n",
       "      <td>0.00</td>\n",
       "      <td>0.00</td>\n",
       "      <td>0.00</td>\n",
       "      <td>0.00</td>\n",
       "      <td>0.00</td>\n",
       "    </tr>\n",
       "    <tr>\n",
       "      <th>3</th>\n",
       "      <td>48</td>\n",
       "      <td>0.00</td>\n",
       "      <td>8.35</td>\n",
       "      <td>0.00</td>\n",
       "      <td>0.00</td>\n",
       "      <td>1.80</td>\n",
       "      <td>8.16</td>\n",
       "      <td>-2.82</td>\n",
       "      <td>6.21</td>\n",
       "      <td>0.00</td>\n",
       "      <td>...</td>\n",
       "      <td>0.00</td>\n",
       "      <td>0.00</td>\n",
       "      <td>0.00</td>\n",
       "      <td>0.53</td>\n",
       "      <td>0.00</td>\n",
       "      <td>0.00</td>\n",
       "      <td>0.00</td>\n",
       "      <td>0.00</td>\n",
       "      <td>0.00</td>\n",
       "      <td>0.00</td>\n",
       "    </tr>\n",
       "    <tr>\n",
       "      <th>4</th>\n",
       "      <td>91</td>\n",
       "      <td>8.50</td>\n",
       "      <td>4.61</td>\n",
       "      <td>-4.17</td>\n",
       "      <td>-5.39</td>\n",
       "      <td>1.36</td>\n",
       "      <td>1.60</td>\n",
       "      <td>7.04</td>\n",
       "      <td>4.61</td>\n",
       "      <td>-0.44</td>\n",
       "      <td>...</td>\n",
       "      <td>5.19</td>\n",
       "      <td>5.58</td>\n",
       "      <td>4.27</td>\n",
       "      <td>5.19</td>\n",
       "      <td>5.73</td>\n",
       "      <td>1.55</td>\n",
       "      <td>3.11</td>\n",
       "      <td>6.55</td>\n",
       "      <td>1.80</td>\n",
       "      <td>1.60</td>\n",
       "    </tr>\n",
       "  </tbody>\n",
       "</table>\n",
       "<p>5 rows × 101 columns</p>\n",
       "</div>"
      ],
      "text/plain": [
       "   NumJokes  Joke1  Joke2  Joke3  Joke4  Joke5  Joke6  Joke7  Joke8  Joke9  \\\n",
       "0        74  -7.82   8.79  -9.66  -8.16  -7.52  -8.50  -9.85   4.17  -8.98   \n",
       "1       100   4.08  -0.29   6.36   4.37  -2.38  -9.66  -0.73  -5.34   8.88   \n",
       "2        49   0.00   0.00   0.00   0.00   9.03   9.27   9.03   9.27   0.00   \n",
       "3        48   0.00   8.35   0.00   0.00   1.80   8.16  -2.82   6.21   0.00   \n",
       "4        91   8.50   4.61  -4.17  -5.39   1.36   1.60   7.04   4.61  -0.44   \n",
       "\n",
       "   ...  Joke91  Joke92  Joke93  Joke94  Joke95  Joke96  Joke97  Joke98  \\\n",
       "0  ...    2.82    0.00    0.00    0.00    0.00    0.00   -5.63    0.00   \n",
       "1  ...    2.82   -4.95   -0.29    7.86   -0.19   -2.14    3.06    0.34   \n",
       "2  ...    0.00    0.00    0.00    9.08    0.00    0.00    0.00    0.00   \n",
       "3  ...    0.00    0.00    0.00    0.53    0.00    0.00    0.00    0.00   \n",
       "4  ...    5.19    5.58    4.27    5.19    5.73    1.55    3.11    6.55   \n",
       "\n",
       "   Joke99  Joke100  \n",
       "0    0.00     0.00  \n",
       "1   -4.32     1.07  \n",
       "2    0.00     0.00  \n",
       "3    0.00     0.00  \n",
       "4    1.80     1.60  \n",
       "\n",
       "[5 rows x 101 columns]"
      ]
     },
     "execution_count": 51,
     "metadata": {},
     "output_type": "execute_result"
    }
   ],
   "source": [
    "ratings.head()"
   ]
  },
  {
   "cell_type": "markdown",
   "metadata": {
    "colab_type": "text",
    "id": "bWFmyVobSM7R"
   },
   "source": [
    "### Popularity based recommendation system"
   ]
  },
  {
   "cell_type": "markdown",
   "metadata": {
    "colab_type": "text",
    "id": "T8K_S9ukSM7b"
   },
   "source": [
    "# Q14  Find the mean for each column  in `ratings_diff` i.e, for each joke\n",
    "Consider all the mean ratings and find the jokes with highest mean value and display the top 10 joke IDs."
   ]
  },
  {
   "cell_type": "code",
   "execution_count": 52,
   "metadata": {
    "colab": {},
    "colab_type": "code",
    "id": "usXWscbfSM7c"
   },
   "outputs": [],
   "source": [
    "ratings_sort=ratings.mean().sort_values(ascending=False)"
   ]
  },
  {
   "cell_type": "code",
   "execution_count": 53,
   "metadata": {
    "colab": {},
    "colab_type": "code",
    "id": "CFIy5Ky4SM7h"
   },
   "outputs": [
    {
     "data": {
      "text/plain": [
       "NumJokes    70.11000\n",
       "Joke50       4.05540\n",
       "Joke36       3.61150\n",
       "Joke53       3.57150\n",
       "Joke35       3.22315\n",
       "              ...   \n",
       "Joke44      -1.31255\n",
       "Joke13      -1.34810\n",
       "Joke15      -1.57630\n",
       "Joke58      -2.34750\n",
       "Joke16      -2.85160\n",
       "Length: 101, dtype: float64"
      ]
     },
     "execution_count": 53,
     "metadata": {},
     "output_type": "execute_result"
    }
   ],
   "source": [
    "ratings_sort"
   ]
  }
 ],
 "metadata": {
  "colab": {
   "collapsed_sections": [
    "9hxe7D9BWCx-",
    "lmMHMAtkWCzm",
    "vbZ-YcsdWCzz",
    "-2KqQg2KWCz7",
    "x8YxQPNGWC0e",
    "8L-IGI0QWC0t",
    "HnHXocYbSM6n",
    "6QEWF8o-SM6t",
    "bWFmyVobSM7R"
   ],
   "name": "R5_Internal_Lab_PCA_PBRS.ipynb",
   "provenance": []
  },
  "kernelspec": {
   "display_name": "Python 3",
   "language": "python",
   "name": "python3"
  },
  "language_info": {
   "codemirror_mode": {
    "name": "ipython",
    "version": 3
   },
   "file_extension": ".py",
   "mimetype": "text/x-python",
   "name": "python",
   "nbconvert_exporter": "python",
   "pygments_lexer": "ipython3",
   "version": "3.7.3"
  }
 },
 "nbformat": 4,
 "nbformat_minor": 1
}
