{
  "nbformat": 4,
  "nbformat_minor": 0,
  "metadata": {
    "colab": {
      "name": "R9 - ACV - Internal_Lab_Questions.ipynb",
      "provenance": [],
      "collapsed_sections": []
    },
    "kernelspec": {
      "name": "python3",
      "display_name": "Python 3"
    },
    "accelerator": "GPU"
  },
  "cells": [
    {
      "cell_type": "markdown",
      "metadata": {
        "id": "I-P5m4iA_xe7"
      },
      "source": [
        "# Bounding box detection - Racoon data\n",
        "\n",
        "\n",
        "## Data files\n",
        "- images_racoon.rar: contain images of racoons\n",
        "- train_labels.cv: contains coordinates for bounding box for every image"
      ]
    },
    {
      "cell_type": "markdown",
      "metadata": {
        "id": "d8M5gzwKWGiU"
      },
      "source": [
        "### Import the necessary libraries"
      ]
    },
    {
      "cell_type": "code",
      "metadata": {
        "id": "VOMKpZJcWGiV"
      },
      "source": [
        "import pandas as pd\n",
        "import cv2\n",
        "import numpy as np"
      ],
      "execution_count": 1,
      "outputs": []
    },
    {
      "cell_type": "markdown",
      "metadata": {
        "id": "Z_INIZOi_tUW"
      },
      "source": [
        "### Change directory"
      ]
    },
    {
      "cell_type": "code",
      "metadata": {
        "id": "Sxgw3GT1AR9Y",
        "outputId": "15b90a2d-dd67-4b78-c077-97286261b67b",
        "colab": {
          "base_uri": "https://localhost:8080/",
          "height": 33
        }
      },
      "source": [
        "from google.colab import drive\n",
        "drive.mount('/content/drive/')"
      ],
      "execution_count": 9,
      "outputs": [
        {
          "output_type": "stream",
          "text": [
            "Drive already mounted at /content/drive/; to attempt to forcibly remount, call drive.mount(\"/content/drive/\", force_remount=True).\n"
          ],
          "name": "stdout"
        }
      ]
    },
    {
      "cell_type": "code",
      "metadata": {
        "id": "lRhhLh9o1bOa",
        "outputId": "ab6c402d-2e3a-4491-f400-39dff7462551",
        "colab": {
          "base_uri": "https://localhost:8080/",
          "height": 33
        }
      },
      "source": [
        "%cd /content/drive/My Drive/AI/Labs/ACV Lab/ACV Lab/"
      ],
      "execution_count": 21,
      "outputs": [
        {
          "output_type": "stream",
          "text": [
            "/content/drive/My Drive/AI/Labs/ACV Lab/ACV Lab\n"
          ],
          "name": "stdout"
        }
      ]
    },
    {
      "cell_type": "markdown",
      "metadata": {
        "id": "lwxBtvYRWGii"
      },
      "source": [
        "### Load the training data from train.csv file"
      ]
    },
    {
      "cell_type": "code",
      "metadata": {
        "id": "wiTjjKtpWGij",
        "outputId": "91a8cc78-e6ee-4e5e-ce14-ed5fa9d57927",
        "colab": {
          "base_uri": "https://localhost:8080/",
          "height": 196
        }
      },
      "source": [
        "tr_df = pd.read_csv('train_labels.csv')\n",
        "tr_df.head()"
      ],
      "execution_count": 22,
      "outputs": [
        {
          "output_type": "execute_result",
          "data": {
            "text/html": [
              "<div>\n",
              "<style scoped>\n",
              "    .dataframe tbody tr th:only-of-type {\n",
              "        vertical-align: middle;\n",
              "    }\n",
              "\n",
              "    .dataframe tbody tr th {\n",
              "        vertical-align: top;\n",
              "    }\n",
              "\n",
              "    .dataframe thead th {\n",
              "        text-align: right;\n",
              "    }\n",
              "</style>\n",
              "<table border=\"1\" class=\"dataframe\">\n",
              "  <thead>\n",
              "    <tr style=\"text-align: right;\">\n",
              "      <th></th>\n",
              "      <th>filename</th>\n",
              "      <th>width</th>\n",
              "      <th>height</th>\n",
              "      <th>class</th>\n",
              "      <th>xmin</th>\n",
              "      <th>ymin</th>\n",
              "      <th>xmax</th>\n",
              "      <th>ymax</th>\n",
              "    </tr>\n",
              "  </thead>\n",
              "  <tbody>\n",
              "    <tr>\n",
              "      <th>0</th>\n",
              "      <td>raccoon-17.jpg</td>\n",
              "      <td>259</td>\n",
              "      <td>194</td>\n",
              "      <td>raccoon</td>\n",
              "      <td>95</td>\n",
              "      <td>60</td>\n",
              "      <td>167</td>\n",
              "      <td>118</td>\n",
              "    </tr>\n",
              "    <tr>\n",
              "      <th>1</th>\n",
              "      <td>raccoon-11.jpg</td>\n",
              "      <td>660</td>\n",
              "      <td>432</td>\n",
              "      <td>raccoon</td>\n",
              "      <td>3</td>\n",
              "      <td>1</td>\n",
              "      <td>461</td>\n",
              "      <td>431</td>\n",
              "    </tr>\n",
              "    <tr>\n",
              "      <th>2</th>\n",
              "      <td>raccoon-63.jpg</td>\n",
              "      <td>600</td>\n",
              "      <td>400</td>\n",
              "      <td>raccoon</td>\n",
              "      <td>74</td>\n",
              "      <td>107</td>\n",
              "      <td>280</td>\n",
              "      <td>290</td>\n",
              "    </tr>\n",
              "    <tr>\n",
              "      <th>3</th>\n",
              "      <td>raccoon-63.jpg</td>\n",
              "      <td>600</td>\n",
              "      <td>400</td>\n",
              "      <td>raccoon</td>\n",
              "      <td>227</td>\n",
              "      <td>93</td>\n",
              "      <td>403</td>\n",
              "      <td>298</td>\n",
              "    </tr>\n",
              "    <tr>\n",
              "      <th>4</th>\n",
              "      <td>raccoon-60.jpg</td>\n",
              "      <td>273</td>\n",
              "      <td>185</td>\n",
              "      <td>raccoon</td>\n",
              "      <td>58</td>\n",
              "      <td>33</td>\n",
              "      <td>197</td>\n",
              "      <td>127</td>\n",
              "    </tr>\n",
              "  </tbody>\n",
              "</table>\n",
              "</div>"
            ],
            "text/plain": [
              "         filename  width  height    class  xmin  ymin  xmax  ymax\n",
              "0  raccoon-17.jpg    259     194  raccoon    95    60   167   118\n",
              "1  raccoon-11.jpg    660     432  raccoon     3     1   461   431\n",
              "2  raccoon-63.jpg    600     400  raccoon    74   107   280   290\n",
              "3  raccoon-63.jpg    600     400  raccoon   227    93   403   298\n",
              "4  raccoon-60.jpg    273     185  raccoon    58    33   197   127"
            ]
          },
          "metadata": {
            "tags": []
          },
          "execution_count": 22
        }
      ]
    },
    {
      "cell_type": "markdown",
      "metadata": {
        "id": "-F3CkYxUWGin"
      },
      "source": [
        "### Print the shape of the train dataset"
      ]
    },
    {
      "cell_type": "code",
      "metadata": {
        "id": "uRz_MtnvWGip",
        "outputId": "0bedc310-e357-4ff1-a21c-26e1051e0694",
        "colab": {
          "base_uri": "https://localhost:8080/",
          "height": 33
        }
      },
      "source": [
        "tr_df.shape"
      ],
      "execution_count": 23,
      "outputs": [
        {
          "output_type": "execute_result",
          "data": {
            "text/plain": [
              "(173, 8)"
            ]
          },
          "metadata": {
            "tags": []
          },
          "execution_count": 23
        }
      ]
    },
    {
      "cell_type": "markdown",
      "metadata": {
        "id": "axf5m10eWGis"
      },
      "source": [
        "### Declare a variable IMAGE_SIZE = 128 as we will be using MobileNet which will be taking Input shape as 128 * 128 "
      ]
    },
    {
      "cell_type": "code",
      "metadata": {
        "id": "7ayEk2c9WGit"
      },
      "source": [
        "Image_Size=128"
      ],
      "execution_count": 24,
      "outputs": []
    },
    {
      "cell_type": "markdown",
      "metadata": {
        "id": "wbrrYb5IWGix"
      },
      "source": [
        "### With the help of csv.reader write a for loop which can load the train.csv file and store the path, width, height, x0,y0,x1,y1 in induvidual variables. <br>\n",
        "1. Create a list variable known as 'path' which has all the path for all the training images\n",
        "2. Create an array 'coords' which has the resized coordinates of the bounding box for the training images\n",
        "\n",
        "<u>Note:</u> All the training images should be downsampled to 128 * 128 as it is the input shape of MobileNet (which we will be using for Object detection). Hence the corresponding coordinates of the bounding boxes should be changed to match the image dimension of 128 * 128 "
      ]
    },
    {
      "cell_type": "code",
      "metadata": {
        "id": "twSTiPpRWGiy"
      },
      "source": [
        "import csv\n",
        "with open('train_labels.csv',\"r\") as csvfile:\n",
        "  paths=[]\n",
        "  #print(sum(1 for line in csvfile))\n",
        "  coords = np.zeros((sum(1 for line in csvfile)-1,4))\n",
        "  reader = csv.reader(csvfile,delimiter=',')\n",
        "  csvfile.seek(0)\n",
        "  next(reader,None)\n",
        "  for i,col in enumerate(reader):\n",
        "    #print(col[i])\n",
        "    for j,r in enumerate(col):\n",
        "      #print(j,r)\n",
        "      if ((j != 0) & (j != 3)):\n",
        "        col[j] = int(r)\n",
        "    #print(col)\n",
        "    path,w,h,cls_,x0,y0,x1,y1 = col\n",
        "    #print(path,width,height,x0,y0,x1,y1)\n",
        "    paths.append(path)  \n",
        "    coords[i,0] = x0 * Image_Size / w\n",
        "    coords[i,1] = y0 * Image_Size / h\n",
        "    coords[i,2] = x1 * Image_Size / w\n",
        "    coords[i,3] = y1 * Image_Size / h"
      ],
      "execution_count": 104,
      "outputs": []
    },
    {
      "cell_type": "code",
      "metadata": {
        "id": "RtcrjfZEP13-",
        "outputId": "e50b4cad-1c2c-43b7-9e51-501919e851cc",
        "colab": {
          "base_uri": "https://localhost:8080/",
          "height": 1000
        }
      },
      "source": [
        "coords"
      ],
      "execution_count": 105,
      "outputs": [
        {
          "output_type": "execute_result",
          "data": {
            "text/plain": [
              "array([[4.69498069e+01, 3.95876289e+01, 8.25328185e+01, 7.78556701e+01],\n",
              "       [5.81818182e-01, 2.96296296e-01, 8.94060606e+01, 1.27703704e+02],\n",
              "       [1.57866667e+01, 3.42400000e+01, 5.97333333e+01, 9.28000000e+01],\n",
              "       [4.84266667e+01, 2.97600000e+01, 8.59733333e+01, 9.53600000e+01],\n",
              "       [2.71941392e+01, 2.28324324e+01, 9.23663004e+01, 8.78702703e+01],\n",
              "       [7.49268293e+00, 5.72357724e+00, 1.17385366e+02, 1.24878049e+02],\n",
              "       [2.53866667e+01, 6.72000000e+00, 7.85066667e+01, 1.27680000e+02],\n",
              "       [5.24750958e+01, 6.63212435e+00, 1.22114943e+02, 1.10093264e+02],\n",
              "       [5.14056225e-01, 6.33663366e-01, 7.91646586e+01, 1.11524752e+02],\n",
              "       [4.29961390e+01, 5.27835052e+00, 8.99459459e+01, 5.87216495e+01],\n",
              "       [1.30957096e+01, 4.62650602e+00, 8.32211221e+01, 1.25686747e+02],\n",
              "       [8.40154440e+00, 2.57319588e+01, 1.18115830e+02, 9.69896907e+01],\n",
              "       [4.35200000e+00, 3.12320000e+01, 7.14240000e+01, 1.27744000e+02],\n",
              "       [6.83333333e+00, 6.66666667e-01, 1.13833333e+02, 1.22266667e+02],\n",
              "       [1.19322034e+01, 5.70700637e+00, 1.17152542e+02, 1.25554140e+02],\n",
              "       [2.40000000e+01, 3.01176471e-01, 1.13600000e+02, 1.28000000e+02],\n",
              "       [3.36573705e+01, 1.84676617e+01, 1.18820717e+02, 1.20995025e+02],\n",
              "       [3.55555556e-01, 6.87407407e+00, 1.28000000e+02, 1.19229630e+02],\n",
              "       [2.68422877e+01, 2.57500000e+01, 9.09532062e+01, 9.58750000e+01],\n",
              "       [9.88416988e+00, 3.95876289e+00, 8.74749035e+01, 1.10185567e+02],\n",
              "       [1.14285714e+00, 5.68888889e-01, 1.13714286e+02, 1.25724444e+02],\n",
              "       [2.58000000e+01, 1.53239437e+01, 1.25600000e+02, 1.12075117e+02],\n",
              "       [2.29120000e+01, 2.01650413e+00, 8.66560000e+01, 1.07450863e+02],\n",
              "       [1.59507692e+01, 2.70119904e+01, 1.02793846e+02, 1.25237410e+02],\n",
              "       [4.03772358e+01, 3.12958435e-01, 1.14263415e+02, 1.28000000e+02],\n",
              "       [1.02400000e+00, 2.56000000e-01, 1.07861333e+02, 1.28000000e+02],\n",
              "       [9.77454545e+00, 7.69398907e+00, 9.30909091e+01, 1.28000000e+02],\n",
              "       [1.72000000e+01, 1.59248826e+01, 8.00000000e+01, 1.06967136e+02],\n",
              "       [3.69777778e+01, 5.17171717e-01, 1.26862222e+02, 1.26189899e+02],\n",
              "       [4.21463415e+01, 2.57662338e+01, 8.11707317e+01, 9.97402597e+01],\n",
              "       [1.62000000e+01, 1.54000000e+01, 1.13400000e+02, 1.23400000e+02],\n",
              "       [3.45945946e+00, 1.12164948e+01, 1.27011583e+02, 1.18762887e+02],\n",
              "       [2.50181818e+01, 4.14016173e+00, 9.89090909e+01, 1.14199461e+02],\n",
              "       [2.13750000e+01, 2.70000000e+01, 1.01375000e+02, 1.23333333e+02],\n",
              "       [3.37920000e+01, 1.70666667e+01, 7.80800000e+01, 8.39680000e+01],\n",
              "       [5.04000000e+01, 2.24373957e+01, 1.23520000e+02, 1.15392321e+02],\n",
              "       [2.66666667e-01, 2.31111111e+01, 6.37333333e+01, 1.12355556e+02],\n",
              "       [5.60000000e+01, 1.32413793e+01, 1.10000000e+02, 1.23586207e+02],\n",
              "       [3.27441860e+01, 9.78512397e+00, 1.03739535e+02, 1.16363636e+02],\n",
              "       [3.68876081e+00, 1.75686275e+00, 1.28000000e+02, 1.18211765e+02],\n",
              "       [2.74618182e+01, 8.39344262e+00, 1.12640000e+02, 1.25901639e+02],\n",
              "       [1.66106870e+01, 2.65284974e+00, 1.13832061e+02, 1.28000000e+02],\n",
              "       [4.94208494e-01, 3.28205128e+00, 8.64864865e+01, 1.28000000e+02],\n",
              "       [1.65847176e+01, 1.88790560e+00, 1.09926910e+02, 1.25734513e+02],\n",
              "       [3.22000000e+01, 3.55555556e-01, 1.25400000e+02, 1.17333333e+02],\n",
              "       [2.27335907e+01, 6.00412371e+01, 7.06718147e+01, 1.11505155e+02],\n",
              "       [8.89575290e+00, 3.95876289e+00, 1.11196911e+02, 1.16123711e+02],\n",
              "       [1.82857143e+00, 1.82857143e-01, 1.11908571e+02, 1.28000000e+02],\n",
              "       [2.13333333e-01, 5.00622222e+01, 5.76000000e+01, 1.21457778e+02],\n",
              "       [1.53239437e+01, 2.60000000e+01, 1.05464789e+02, 1.11200000e+02],\n",
              "       [4.94208494e-01, 6.59793814e-01, 1.22069498e+02, 1.28000000e+02],\n",
              "       [1.06666667e+01, 3.65714286e+00, 1.19466667e+02, 1.22514286e+02],\n",
              "       [1.92000000e+01, 1.06666667e+01, 1.05386667e+02, 1.25714286e+02],\n",
              "       [2.76480000e+01, 8.93023256e+00, 1.28000000e+02, 1.23534884e+02],\n",
              "       [4.76862745e+01, 1.71122995e+00, 1.28000000e+02, 1.15336898e+02],\n",
              "       [2.22393822e+01, 2.24329897e+01, 7.95675676e+01, 1.21402062e+02],\n",
              "       [2.61930502e+01, 1.78144330e+01, 1.25528958e+02, 1.14144330e+02],\n",
              "       [5.69281768e+01, 4.01568627e+01, 1.03248619e+02, 9.89579832e+01],\n",
              "       [4.94208494e-01, 6.59793814e-01, 9.83474903e+01, 1.21402062e+02],\n",
              "       [1.66666667e+01, 8.61345853e+00, 7.84000000e+01, 1.05564945e+02],\n",
              "       [4.93333333e+00, 6.40000000e+00, 9.72000000e+01, 1.08600000e+02],\n",
              "       [4.64353312e+00, 3.23004695e+01, 8.88328076e+01, 1.24845070e+02],\n",
              "       [2.76756757e+01, 3.56288660e+01, 1.11691120e+02, 9.89690722e+01],\n",
              "       [5.81818182e-01, 5.58951965e-01, 8.37818182e+01, 1.16820961e+02],\n",
              "       [2.09801325e+01, 1.41039501e+01, 8.51920530e+01, 1.23476091e+02],\n",
              "       [5.81818182e-01, 2.96296296e-01, 8.45575758e+01, 1.27407407e+02],\n",
              "       [2.00000000e+01, 3.54285714e+01, 5.32000000e+01, 9.25714286e+01],\n",
              "       [6.84000000e+01, 2.88571429e+01, 1.14000000e+02, 8.48571429e+01],\n",
              "       [1.38378378e+01, 1.38556701e+01, 6.22702703e+01, 1.19422680e+02],\n",
              "       [4.20077220e+01, 2.17731959e+01, 1.16138996e+02, 1.27340206e+02],\n",
              "       [1.53962264e+01, 3.56000000e+01, 1.07169811e+02, 1.26400000e+02],\n",
              "       [8.80000000e+00, 2.70422535e+01, 1.15400000e+02, 1.28000000e+02],\n",
              "       [3.50000000e+00, 2.72893401e+01, 8.10000000e+01, 1.28000000e+02],\n",
              "       [2.00000000e-01, 2.00000000e-01, 1.28000000e+02, 9.18000000e+01],\n",
              "       [5.60000000e+00, 1.91401869e+01, 1.06000000e+02, 1.20224299e+02],\n",
              "       [2.56000000e-01, 1.04223919e+01, 8.78080000e+01, 9.99898219e+01],\n",
              "       [7.23478261e+00, 2.39788918e+01, 1.01843478e+02, 1.12802111e+02],\n",
              "       [2.60413793e+01, 1.47126437e+00, 9.53379310e+01, 1.25793103e+02],\n",
              "       [4.65454545e-01, 6.99453552e-01, 7.63345455e+01, 1.28000000e+02],\n",
              "       [4.87225806e+01, 2.39483871e+01, 1.23458065e+02, 1.18090323e+02],\n",
              "       [3.24000000e+01, 1.16658228e+01, 1.22200000e+02, 1.28000000e+02],\n",
              "       [2.75200000e+01, 1.08528678e+01, 1.01333333e+02, 1.28000000e+02],\n",
              "       [4.94208494e-01, 1.31958763e+00, 1.12185328e+02, 1.28000000e+02],\n",
              "       [4.55965665e+01, 5.15555556e+01, 1.15914163e+02, 1.25037037e+02],\n",
              "       [1.55826087e+01, 1.46118721e+01, 1.12973913e+02, 1.02283105e+02],\n",
              "       [1.77777778e-01, 2.66666667e-01, 1.28000000e+02, 1.26933333e+02],\n",
              "       [9.60000000e+00, 1.13926702e+01, 7.39200000e+01, 1.11469459e+02],\n",
              "       [1.68000000e+01, 2.40150094e+00, 8.03200000e+01, 1.20315197e+02],\n",
              "       [8.53333333e-01, 1.53600000e+01, 1.22453333e+02, 1.16622222e+02],\n",
              "       [2.09600000e+01, 3.88013937e+01, 1.24000000e+02, 1.25547038e+02],\n",
              "       [1.70666667e+01, 2.05128205e+01, 1.07200000e+02, 1.06666667e+02],\n",
              "       [2.83428571e+01, 2.74089936e+00, 9.92914286e+01, 1.21970021e+02],\n",
              "       [2.88000000e+01, 1.10222222e+01, 9.36000000e+01, 1.09511111e+02],\n",
              "       [2.01696970e+01, 1.03504043e+00, 9.87151515e+01, 1.27309973e+02],\n",
              "       [2.26000000e+01, 8.07476636e+00, 9.36000000e+01, 1.28000000e+02],\n",
              "       [3.67761194e+01, 3.26808511e+01, 8.54925373e+01, 1.06212766e+02],\n",
              "       [6.63880597e+01, 5.24255319e+01, 9.64776119e+01, 9.87234043e+01],\n",
              "       [1.42222222e+01, 6.31466667e+01, 1.12071111e+02, 1.28000000e+02],\n",
              "       [1.21135647e+00, 1.50407674e+01, 5.04731861e+01, 9.82254197e+01],\n",
              "       [5.53186120e+01, 8.28776978e+00, 1.13665615e+02, 1.25851319e+02],\n",
              "       [1.39305994e+01, 2.99002625e+01, 7.14700315e+01, 1.26992126e+02],\n",
              "       [3.09677419e+00, 4.41379310e+00, 1.23870968e+02, 9.89950739e+01],\n",
              "       [2.10881226e+01, 1.85699482e+01, 1.17701149e+02, 1.16725389e+02],\n",
              "       [1.53600000e+01, 1.36533333e+00, 1.07776000e+02, 1.25952000e+02],\n",
              "       [5.12000000e+00, 1.48893058e+01, 1.15840000e+02, 8.47729831e+01],\n",
              "       [6.75200000e+01, 8.62138837e+01, 8.86400000e+01, 9.65403377e+01],\n",
              "       [6.33600000e+01, 9.41388368e+01, 8.96000000e+01, 1.13590994e+02],\n",
              "       [2.32000000e+01, 1.09333333e+01, 1.05200000e+02, 1.16266667e+02],\n",
              "       [4.39124088e+01, 4.38260870e+01, 9.10948905e+01, 1.02956522e+02],\n",
              "       [6.63357664e+01, 2.71304348e+01, 9.95036496e+01, 7.51304348e+01],\n",
              "       [1.17333333e+01, 1.09072682e+01, 8.87466667e+01, 1.20942356e+02],\n",
              "       [2.25600000e+01, 1.44090056e+00, 7.55200000e+01, 1.21275797e+02],\n",
              "       [2.08979592e+00, 1.20000000e+00, 1.24342857e+02, 1.26200000e+02],\n",
              "       [3.71014493e+00, 1.25901639e+01, 7.28115942e+01, 1.24502732e+02],\n",
              "       [6.77101449e+01, 9.09289617e+00, 1.21971014e+02, 1.02120219e+02],\n",
              "       [7.92920354e+00, 6.31390135e+00, 1.26300885e+02, 1.26852018e+02],\n",
              "       [3.50888031e+01, 2.96907216e+01, 9.73590734e+01, 1.12824742e+02],\n",
              "       [2.96525097e+00, 1.31958763e+00, 1.18610039e+02, 8.64329897e+01],\n",
              "       [2.81698842e+01, 1.38556701e+01, 7.80849421e+01, 1.21402062e+02],\n",
              "       [5.53513514e+01, 2.11134021e+01, 9.83474903e+01, 1.04247423e+02],\n",
              "       [2.45333333e+01, 1.08000000e+01, 1.22666667e+02, 1.09000000e+02],\n",
              "       [3.22222222e+01, 8.05031447e-01, 9.40000000e+01, 1.28000000e+02],\n",
              "       [1.67563636e+01, 1.39890710e+00, 8.09890909e+01, 1.20306011e+02],\n",
              "       [3.20000000e+00, 2.15851602e-01, 1.23076923e+02, 1.27784148e+02],\n",
              "       [5.35040000e+01, 2.69279539e+01, 9.85600000e+01, 6.86109510e+01],\n",
              "       [1.18518519e-01, 7.46666667e+00, 1.04888889e+02, 1.23496296e+02],\n",
              "       [1.80224000e+01, 2.83759036e+01, 9.68704000e+01, 1.01166265e+02],\n",
              "       [6.26000000e+01, 2.16888889e+01, 1.22800000e+02, 1.28000000e+02],\n",
              "       [3.90610329e+00, 2.00000000e-01, 1.28000000e+02, 9.72000000e+01],\n",
              "       [2.38933333e+01, 5.34755556e+01, 6.14400000e+01, 1.27431111e+02],\n",
              "       [1.19466667e+01, 1.53600000e+01, 1.00693333e+02, 1.03537778e+02],\n",
              "       [2.66666667e-01, 1.56444444e+01, 8.18666667e+01, 1.12355556e+02],\n",
              "       [2.91446154e+01, 1.71073986e+01, 1.01809231e+02, 1.05699284e+02],\n",
              "       [1.98000000e+01, 2.40375587e+00, 1.21000000e+02, 1.21389671e+02],\n",
              "       [3.11428571e+01, 1.33602694e+01, 8.77142857e+01, 1.28000000e+02],\n",
              "       [3.72363636e+01, 4.33661202e+01, 8.70400000e+01, 1.18207650e+02],\n",
              "       [4.94208494e-01, 6.59793814e-01, 5.83166023e+01, 1.00288660e+02],\n",
              "       [4.46000000e+01, 1.86291080e+01, 9.94000000e+01, 9.22441315e+01],\n",
              "       [9.06000000e+01, 1.23192488e+01, 1.28000000e+02, 1.27098592e+02],\n",
              "       [2.87219512e+01, 3.28311688e+01, 8.46048780e+01, 1.09714286e+02],\n",
              "       [4.22400000e+01, 1.04951768e+01, 1.26976000e+02, 1.21414791e+02],\n",
              "       [4.70109091e+01, 6.92783505e+00, 1.19854545e+02, 1.27670103e+02],\n",
              "       [1.73668342e+01, 5.56521739e+00, 1.24783920e+02, 1.15351779e+02],\n",
              "       [6.25867508e+00, 1.63744150e+01, 6.56151420e+01, 1.28000000e+02],\n",
              "       [8.47058824e+00, 1.17621622e+01, 1.05411765e+02, 1.16237838e+02],\n",
              "       [1.06666667e+01, 7.24040404e+00, 7.62181818e+01, 8.09373737e+01],\n",
              "       [2.01892744e+01, 2.56000000e+01, 9.65047319e+01, 9.52089888e+01],\n",
              "       [2.89032258e+01, 2.06451613e+00, 9.37290323e+01, 1.27311828e+02],\n",
              "       [4.44745763e+01, 1.25607477e+01, 1.01423729e+02, 1.17831776e+02],\n",
              "       [5.96610169e+00, 3.28971963e+01, 4.33898305e+01, 8.67289720e+01],\n",
              "       [3.80878049e+01, 1.96069364e+01, 8.30439024e+01, 1.11722543e+02],\n",
              "       [7.30666667e+01, 2.22222222e+00, 1.27200000e+02, 1.15555556e+02],\n",
              "       [8.19200000e+00, 6.04160000e+01, 4.45440000e+01, 1.07861333e+02],\n",
              "       [7.91040000e+01, 5.87093333e+01, 1.09568000e+02, 1.07520000e+02],\n",
              "       [5.33745174e+01, 6.59793814e-01, 1.27505792e+02, 1.28000000e+02],\n",
              "       [3.75338346e+01, 1.68421053e+01, 8.75789474e+01, 1.19242105e+02],\n",
              "       [1.89235880e+01, 1.82206406e+00, 1.26086379e+02, 1.28000000e+02],\n",
              "       [2.55000000e+01, 1.55939086e+01, 9.90000000e+01, 1.24751269e+02],\n",
              "       [4.95616000e+01, 1.07177033e+01, 1.07110400e+02, 8.08421053e+01],\n",
              "       [7.96444444e+00, 5.68888889e-01, 1.20604444e+02, 7.50933333e+01],\n",
              "       [4.03200000e+01, 1.72631579e+01, 7.25333333e+01, 1.04842105e+02],\n",
              "       [6.00000000e+00, 4.94208494e-01, 1.18000000e+02, 1.24540541e+02],\n",
              "       [5.00000000e-01, 1.94923858e+00, 1.03000000e+02, 1.24101523e+02],\n",
              "       [2.00000000e-01, 2.66666667e-01, 7.68000000e+01, 1.16266667e+02],\n",
              "       [1.60717489e+01, 8.49557522e+00, 1.26852018e+02, 1.22336283e+02],\n",
              "       [3.28000000e+01, 9.60000000e+00, 9.01333333e+01, 1.00977778e+02],\n",
              "       [5.03370787e+00, 3.16607774e+00, 1.25123596e+02, 8.95547703e+01],\n",
              "       [2.52394366e+01, 1.15706215e+01, 1.23492958e+02, 1.20045198e+02],\n",
              "       [2.84000000e+01, 4.26666667e+00, 1.21600000e+02, 1.24266667e+02],\n",
              "       [6.17142857e+01, 1.19466667e+01, 1.02857143e+02, 6.54222222e+01],\n",
              "       [3.85482625e+01, 3.56288660e+01, 7.56138996e+01, 8.90721649e+01],\n",
              "       [5.04000000e+01, 2.70222222e+01, 9.32000000e+01, 1.19111111e+02],\n",
              "       [1.90836364e+01, 4.19672131e+01, 1.03796364e+02, 1.08415301e+02]])"
            ]
          },
          "metadata": {
            "tags": []
          },
          "execution_count": 105
        }
      ]
    },
    {
      "cell_type": "code",
      "metadata": {
        "id": "N20MxyZvP6AW",
        "outputId": "3b0c4bfd-f832-4a12-9be0-d4cc03cec7c3",
        "colab": {
          "base_uri": "https://localhost:8080/",
          "height": 1000
        }
      },
      "source": [
        "paths"
      ],
      "execution_count": 78,
      "outputs": [
        {
          "output_type": "execute_result",
          "data": {
            "text/plain": [
              "['raccoon-17.jpg',\n",
              " 'raccoon-11.jpg',\n",
              " 'raccoon-63.jpg',\n",
              " 'raccoon-63.jpg',\n",
              " 'raccoon-60.jpg',\n",
              " 'raccoon-69.jpg',\n",
              " 'raccoon-180.jpg',\n",
              " 'raccoon-200.jpg',\n",
              " 'raccoon-141.jpg',\n",
              " 'raccoon-19.jpg',\n",
              " 'raccoon-84.jpg',\n",
              " 'raccoon-124.jpg',\n",
              " 'raccoon-182.jpg',\n",
              " 'raccoon-111.jpg',\n",
              " 'raccoon-91.jpg',\n",
              " 'raccoon-79.jpg',\n",
              " 'raccoon-93.jpg',\n",
              " 'raccoon-20.jpg',\n",
              " 'raccoon-42.jpg',\n",
              " 'raccoon-139.jpg',\n",
              " 'raccoon-58.jpg',\n",
              " 'raccoon-71.jpg',\n",
              " 'raccoon-183.jpg',\n",
              " 'raccoon-1.jpg',\n",
              " 'raccoon-169.jpg',\n",
              " 'raccoon-82.jpg',\n",
              " 'raccoon-4.jpg',\n",
              " 'raccoon-101.jpg',\n",
              " 'raccoon-10.jpg',\n",
              " 'raccoon-166.jpg',\n",
              " 'raccoon-184.jpg',\n",
              " 'raccoon-38.jpg',\n",
              " 'raccoon-120.jpg',\n",
              " 'raccoon-142.jpg',\n",
              " 'raccoon-149.jpg',\n",
              " 'raccoon-51.jpg',\n",
              " 'raccoon-43.jpg',\n",
              " 'raccoon-123.jpg',\n",
              " 'raccoon-66.jpg',\n",
              " 'raccoon-9.jpg',\n",
              " 'raccoon-178.jpg',\n",
              " 'raccoon-47.jpg',\n",
              " 'raccoon-167.jpg',\n",
              " 'raccoon-54.jpg',\n",
              " 'raccoon-77.jpg',\n",
              " 'raccoon-155.jpg',\n",
              " 'raccoon-89.jpg',\n",
              " 'raccoon-153.jpg',\n",
              " 'raccoon-179.jpg',\n",
              " 'raccoon-115.jpg',\n",
              " 'raccoon-64.jpg',\n",
              " 'raccoon-56.jpg',\n",
              " 'raccoon-44.jpg',\n",
              " 'raccoon-39.jpg',\n",
              " 'raccoon-26.jpg',\n",
              " 'raccoon-162.jpg',\n",
              " 'raccoon-170.jpg',\n",
              " 'raccoon-187.jpg',\n",
              " 'raccoon-131.jpg',\n",
              " 'raccoon-174.jpg',\n",
              " 'raccoon-92.jpg',\n",
              " 'raccoon-193.jpg',\n",
              " 'raccoon-138.jpg',\n",
              " 'raccoon-157.jpg',\n",
              " 'raccoon-108.jpg',\n",
              " 'raccoon-116.jpg',\n",
              " 'raccoon-117.jpg',\n",
              " 'raccoon-117.jpg',\n",
              " 'raccoon-12.jpg',\n",
              " 'raccoon-12.jpg',\n",
              " 'raccoon-16.jpg',\n",
              " 'raccoon-90.jpg',\n",
              " 'raccoon-160.jpg',\n",
              " 'raccoon-75.jpg',\n",
              " 'raccoon-199.jpg',\n",
              " 'raccoon-97.jpg',\n",
              " 'raccoon-188.jpg',\n",
              " 'raccoon-21.jpg',\n",
              " 'raccoon-35.jpg',\n",
              " 'raccoon-85.jpg',\n",
              " 'raccoon-49.jpg',\n",
              " 'raccoon-86.jpg',\n",
              " 'raccoon-34.jpg',\n",
              " 'raccoon-196.jpg',\n",
              " 'raccoon-96.jpg',\n",
              " 'raccoon-3.jpg',\n",
              " 'raccoon-2.jpg',\n",
              " 'raccoon-52.jpg',\n",
              " 'raccoon-81.jpg',\n",
              " 'raccoon-112.jpg',\n",
              " 'raccoon-18.jpg',\n",
              " 'raccoon-94.jpg',\n",
              " 'raccoon-98.jpg',\n",
              " 'raccoon-83.jpg',\n",
              " 'raccoon-36.jpg',\n",
              " 'raccoon-24.jpg',\n",
              " 'raccoon-24.jpg',\n",
              " 'raccoon-195.jpg',\n",
              " 'raccoon-55.jpg',\n",
              " 'raccoon-55.jpg',\n",
              " 'raccoon-175.jpg',\n",
              " 'raccoon-163.jpg',\n",
              " 'raccoon-48.jpg',\n",
              " 'raccoon-70.jpg',\n",
              " 'raccoon-119.jpg',\n",
              " 'raccoon-119.jpg',\n",
              " 'raccoon-119.jpg',\n",
              " 'raccoon-88.jpg',\n",
              " 'raccoon-61.jpg',\n",
              " 'raccoon-61.jpg',\n",
              " 'raccoon-121.jpg',\n",
              " 'raccoon-74.jpg',\n",
              " 'raccoon-133.jpg',\n",
              " 'raccoon-177.jpg',\n",
              " 'raccoon-177.jpg',\n",
              " 'raccoon-159.jpg',\n",
              " 'raccoon-53.jpg',\n",
              " 'raccoon-132.jpg',\n",
              " 'raccoon-198.jpg',\n",
              " 'raccoon-198.jpg',\n",
              " 'raccoon-103.jpg',\n",
              " 'raccoon-46.jpg',\n",
              " 'raccoon-50.jpg',\n",
              " 'raccoon-37.jpg',\n",
              " 'raccoon-161.jpg',\n",
              " 'raccoon-194.jpg',\n",
              " 'raccoon-32.jpg',\n",
              " 'raccoon-15.jpg',\n",
              " 'raccoon-147.jpg',\n",
              " 'raccoon-151.jpg',\n",
              " 'raccoon-80.jpg',\n",
              " 'raccoon-6.jpg',\n",
              " 'raccoon-154.jpg',\n",
              " 'raccoon-135.jpg',\n",
              " 'raccoon-118.jpg',\n",
              " 'raccoon-150.jpg',\n",
              " 'raccoon-102.jpg',\n",
              " 'raccoon-130.jpg',\n",
              " 'raccoon-130.jpg',\n",
              " 'raccoon-7.jpg',\n",
              " 'raccoon-107.jpg',\n",
              " 'raccoon-173.jpg',\n",
              " 'raccoon-165.jpg',\n",
              " 'raccoon-25.jpg',\n",
              " 'raccoon-67.jpg',\n",
              " 'raccoon-13.jpg',\n",
              " 'raccoon-191.jpg',\n",
              " 'raccoon-45.jpg',\n",
              " 'raccoon-31.jpg',\n",
              " 'raccoon-31.jpg',\n",
              " 'raccoon-172.jpg',\n",
              " 'raccoon-100.jpg',\n",
              " 'raccoon-148.jpg',\n",
              " 'raccoon-148.jpg',\n",
              " 'raccoon-23.jpg',\n",
              " 'raccoon-30.jpg',\n",
              " 'raccoon-33.jpg',\n",
              " 'raccoon-136.jpg',\n",
              " 'raccoon-114.jpg',\n",
              " 'raccoon-76.jpg',\n",
              " 'raccoon-104.jpg',\n",
              " 'raccoon-109.jpg',\n",
              " 'raccoon-87.jpg',\n",
              " 'raccoon-113.jpg',\n",
              " 'raccoon-78.jpg',\n",
              " 'raccoon-65.jpg',\n",
              " 'raccoon-122.jpg',\n",
              " 'raccoon-73.jpg',\n",
              " 'raccoon-137.jpg',\n",
              " 'raccoon-171.jpg',\n",
              " 'raccoon-190.jpg',\n",
              " 'raccoon-22.jpg',\n",
              " 'raccoon-152.jpg']"
            ]
          },
          "metadata": {
            "tags": []
          },
          "execution_count": 78
        }
      ]
    },
    {
      "cell_type": "markdown",
      "metadata": {
        "id": "Z9iZWEpKWGi2"
      },
      "source": [
        "### Write a for loop which can load all the training images into a variable 'batch_images' using the paths from the 'paths' variable\n",
        "<u>Note:</u> Convert the image to RGB scale as the MobileNet accepts 3 channels as inputs   "
      ]
    },
    {
      "cell_type": "code",
      "metadata": {
        "id": "2iEF35BTUCpz",
        "outputId": "822a9291-95a5-4ed0-b9b7-6ace010bd244",
        "colab": {
          "base_uri": "https://localhost:8080/",
          "height": 1000
        }
      },
      "source": [
        "!unzip images.zip"
      ],
      "execution_count": 81,
      "outputs": [
        {
          "output_type": "stream",
          "text": [
            "Archive:  images.zip\n",
            "   creating: images/\n",
            "  inflating: images/raccoon-1.jpg    \n",
            "  inflating: images/raccoon-10.jpg   \n",
            "  inflating: images/raccoon-100.jpg  \n",
            "  inflating: images/raccoon-101.jpg  \n",
            "  inflating: images/raccoon-102.jpg  \n",
            "  inflating: images/raccoon-103.jpg  \n",
            "  inflating: images/raccoon-104.jpg  \n",
            "  inflating: images/raccoon-105.jpg  \n",
            "  inflating: images/raccoon-106.jpg  \n",
            " extracting: images/raccoon-107.jpg  \n",
            " extracting: images/raccoon-108.jpg  \n",
            "  inflating: images/raccoon-109.jpg  \n",
            "  inflating: images/raccoon-11.jpg   \n",
            "  inflating: images/raccoon-110.jpg  \n",
            "  inflating: images/raccoon-111.jpg  \n",
            " extracting: images/raccoon-112.jpg  \n",
            " extracting: images/raccoon-113.jpg  \n",
            "  inflating: images/raccoon-114.jpg  \n",
            "  inflating: images/raccoon-115.jpg  \n",
            "  inflating: images/raccoon-116.jpg  \n",
            "  inflating: images/raccoon-117.jpg  \n",
            "  inflating: images/raccoon-118.jpg  \n",
            "  inflating: images/raccoon-119.jpg  \n",
            "  inflating: images/raccoon-12.jpg   \n",
            "  inflating: images/raccoon-120.jpg  \n",
            "  inflating: images/raccoon-121.jpg  \n",
            "  inflating: images/raccoon-122.jpg  \n",
            "  inflating: images/raccoon-123.jpg  \n",
            "  inflating: images/raccoon-124.jpg  \n",
            "  inflating: images/raccoon-125.jpg  \n",
            "  inflating: images/raccoon-126.jpg  \n",
            "  inflating: images/raccoon-127.jpg  \n",
            "  inflating: images/raccoon-128.jpg  \n",
            "  inflating: images/raccoon-129.jpg  \n",
            "  inflating: images/raccoon-13.jpg   \n",
            "  inflating: images/raccoon-130.jpg  \n",
            "  inflating: images/raccoon-131.jpg  \n",
            "  inflating: images/raccoon-132.jpg  \n",
            "  inflating: images/raccoon-133.jpg  \n",
            "  inflating: images/raccoon-134.jpg  \n",
            "  inflating: images/raccoon-135.jpg  \n",
            "  inflating: images/raccoon-136.jpg  \n",
            "  inflating: images/raccoon-137.jpg  \n",
            "  inflating: images/raccoon-138.jpg  \n",
            "  inflating: images/raccoon-139.jpg  \n",
            "  inflating: images/raccoon-14.jpg   \n",
            "  inflating: images/raccoon-140.jpg  \n",
            "  inflating: images/raccoon-141.jpg  \n",
            "  inflating: images/raccoon-142.jpg  \n",
            "  inflating: images/raccoon-143.jpg  \n",
            "  inflating: images/raccoon-144.jpg  \n",
            " extracting: images/raccoon-145.jpg  \n",
            "  inflating: images/raccoon-146.jpg  \n",
            "  inflating: images/raccoon-147.jpg  \n",
            "  inflating: images/raccoon-148.jpg  \n",
            "  inflating: images/raccoon-149.jpg  \n",
            "  inflating: images/raccoon-15.jpg   \n",
            " extracting: images/raccoon-150.jpg  \n",
            "  inflating: images/raccoon-151.jpg  \n",
            "  inflating: images/raccoon-152.jpg  \n",
            "  inflating: images/raccoon-153.jpg  \n",
            "  inflating: images/raccoon-154.jpg  \n",
            "  inflating: images/raccoon-155.jpg  \n",
            "  inflating: images/raccoon-156.jpg  \n",
            "  inflating: images/raccoon-157.jpg  \n",
            "  inflating: images/raccoon-158.jpg  \n",
            "  inflating: images/raccoon-159.jpg  \n",
            "  inflating: images/raccoon-16.jpg   \n",
            "  inflating: images/raccoon-160.jpg  \n",
            "  inflating: images/raccoon-161.jpg  \n",
            "  inflating: images/raccoon-162.jpg  \n",
            "  inflating: images/raccoon-163.jpg  \n",
            "  inflating: images/raccoon-164.jpg  \n",
            "  inflating: images/raccoon-165.jpg  \n",
            "  inflating: images/raccoon-166.jpg  \n",
            "  inflating: images/raccoon-167.jpg  \n",
            " extracting: images/raccoon-168.jpg  \n",
            " extracting: images/raccoon-169.jpg  \n",
            "  inflating: images/raccoon-17.jpg   \n",
            "  inflating: images/raccoon-170.jpg  \n",
            "  inflating: images/raccoon-171.jpg  \n",
            "  inflating: images/raccoon-172.jpg  \n",
            "  inflating: images/raccoon-173.jpg  \n",
            "  inflating: images/raccoon-174.jpg  \n",
            "  inflating: images/raccoon-175.jpg  \n",
            " extracting: images/raccoon-176.jpg  \n",
            "  inflating: images/raccoon-177.jpg  \n",
            "  inflating: images/raccoon-178.jpg  \n",
            "  inflating: images/raccoon-179.jpg  \n",
            "  inflating: images/raccoon-18.jpg   \n",
            "  inflating: images/raccoon-180.jpg  \n",
            "  inflating: images/raccoon-181.jpg  \n",
            "  inflating: images/raccoon-182.jpg  \n",
            " extracting: images/raccoon-183.jpg  \n",
            "  inflating: images/raccoon-184.jpg  \n",
            "  inflating: images/raccoon-185.jpg  \n",
            " extracting: images/raccoon-186.jpg  \n",
            "  inflating: images/raccoon-187.jpg  \n",
            "  inflating: images/raccoon-188.jpg  \n",
            "  inflating: images/raccoon-189.jpg  \n",
            "  inflating: images/raccoon-19.jpg   \n",
            "  inflating: images/raccoon-190.jpg  \n",
            " extracting: images/raccoon-191.jpg  \n",
            "  inflating: images/raccoon-192.jpg  \n",
            "  inflating: images/raccoon-193.jpg  \n",
            "  inflating: images/raccoon-194.jpg  \n",
            "  inflating: images/raccoon-195.jpg  \n",
            "  inflating: images/raccoon-196.jpg  \n",
            "  inflating: images/raccoon-197.jpg  \n",
            "  inflating: images/raccoon-198.jpg  \n",
            " extracting: images/raccoon-199.jpg  \n",
            "  inflating: images/raccoon-2.jpg    \n",
            " extracting: images/raccoon-20.jpg   \n",
            "  inflating: images/raccoon-200.jpg  \n",
            "  inflating: images/raccoon-21.jpg   \n",
            "  inflating: images/raccoon-22.jpg   \n",
            "  inflating: images/raccoon-23.jpg   \n",
            "  inflating: images/raccoon-24.jpg   \n",
            "  inflating: images/raccoon-25.jpg   \n",
            "  inflating: images/raccoon-26.jpg   \n",
            " extracting: images/raccoon-27.jpg   \n",
            "  inflating: images/raccoon-28.jpg   \n",
            "  inflating: images/raccoon-29.jpg   \n",
            "  inflating: images/raccoon-3.jpg    \n",
            "  inflating: images/raccoon-30.jpg   \n",
            "  inflating: images/raccoon-31.jpg   \n",
            "  inflating: images/raccoon-32.jpg   \n",
            " extracting: images/raccoon-33.jpg   \n",
            "  inflating: images/raccoon-34.jpg   \n",
            "  inflating: images/raccoon-35.jpg   \n",
            "  inflating: images/raccoon-36.jpg   \n",
            "  inflating: images/raccoon-37.jpg   \n",
            "  inflating: images/raccoon-38.jpg   \n",
            "  inflating: images/raccoon-39.jpg   \n",
            "  inflating: images/raccoon-4.jpg    \n",
            "  inflating: images/raccoon-40.jpg   \n",
            " extracting: images/raccoon-41.jpg   \n",
            "  inflating: images/raccoon-42.jpg   \n",
            "  inflating: images/raccoon-43.jpg   \n",
            "  inflating: images/raccoon-44.jpg   \n",
            "  inflating: images/raccoon-45.jpg   \n",
            "  inflating: images/raccoon-46.jpg   \n",
            "  inflating: images/raccoon-47.jpg   \n",
            "  inflating: images/raccoon-48.jpg   \n",
            "  inflating: images/raccoon-49.jpg   \n",
            "  inflating: images/raccoon-5.jpg    \n",
            "  inflating: images/raccoon-50.jpg   \n",
            " extracting: images/raccoon-51.jpg   \n",
            " extracting: images/raccoon-52.jpg   \n",
            "  inflating: images/raccoon-53.jpg   \n",
            "  inflating: images/raccoon-54.jpg   \n",
            "  inflating: images/raccoon-55.jpg   \n",
            "  inflating: images/raccoon-56.jpg   \n",
            "  inflating: images/raccoon-57.jpg   \n",
            "  inflating: images/raccoon-58.jpg   \n",
            "  inflating: images/raccoon-59.jpg   \n",
            "  inflating: images/raccoon-6.jpg    \n",
            "  inflating: images/raccoon-60.jpg   \n",
            "  inflating: images/raccoon-61.jpg   \n",
            "  inflating: images/raccoon-62.jpg   \n",
            "  inflating: images/raccoon-63.jpg   \n",
            "  inflating: images/raccoon-64.jpg   \n",
            "  inflating: images/raccoon-65.jpg   \n",
            "  inflating: images/raccoon-66.jpg   \n",
            "  inflating: images/raccoon-67.jpg   \n",
            "  inflating: images/raccoon-68.jpg   \n",
            "  inflating: images/raccoon-69.jpg   \n",
            "  inflating: images/raccoon-7.jpg    \n",
            "  inflating: images/raccoon-70.jpg   \n",
            "  inflating: images/raccoon-71.jpg   \n",
            "  inflating: images/raccoon-72.jpg   \n",
            "  inflating: images/raccoon-73.jpg   \n",
            " extracting: images/raccoon-74.jpg   \n",
            "  inflating: images/raccoon-75.jpg   \n",
            "  inflating: images/raccoon-76.jpg   \n",
            "  inflating: images/raccoon-77.jpg   \n",
            "  inflating: images/raccoon-78.jpg   \n",
            "  inflating: images/raccoon-79.jpg   \n",
            "  inflating: images/raccoon-8.jpg    \n",
            "  inflating: images/raccoon-80.jpg   \n",
            " extracting: images/raccoon-81.jpg   \n",
            "  inflating: images/raccoon-82.jpg   \n",
            "  inflating: images/raccoon-83.jpg   \n",
            "  inflating: images/raccoon-84.jpg   \n",
            "  inflating: images/raccoon-85.jpg   \n",
            "  inflating: images/raccoon-86.jpg   \n",
            "  inflating: images/raccoon-87.jpg   \n",
            "  inflating: images/raccoon-88.jpg   \n",
            "  inflating: images/raccoon-89.jpg   \n",
            " extracting: images/raccoon-9.jpg    \n",
            "  inflating: images/raccoon-90.jpg   \n",
            "  inflating: images/raccoon-91.jpg   \n",
            "  inflating: images/raccoon-92.jpg   \n",
            "  inflating: images/raccoon-93.jpg   \n",
            " extracting: images/raccoon-94.jpg   \n",
            "  inflating: images/raccoon-95.jpg   \n",
            "  inflating: images/raccoon-96.jpg   \n",
            "  inflating: images/raccoon-97.jpg   \n",
            "  inflating: images/raccoon-98.jpg   \n",
            "  inflating: images/raccoon-99.jpg   \n"
          ],
          "name": "stdout"
        }
      ]
    },
    {
      "cell_type": "code",
      "metadata": {
        "id": "h6e99qquWGi3"
      },
      "source": [
        "from tensorflow.keras.applications.mobilenet import *\n",
        "batch_images = np.zeros((len(paths),Image_Size,Image_Size,3),dtype=np.float32)\n",
        "for i,p in enumerate(paths):\n",
        "  img = cv2.imread('./images/'+p)\n",
        "  img_rez = cv2.resize(img,(Image_Size,Image_Size))\n",
        "  img_rec = cv2.cvtColor(img_rez,cv2.COLOR_BGR2RGB)\n",
        "  batch_images[i] = preprocess_input(np.array(img_rec,dtype=np.float32))"
      ],
      "execution_count": 84,
      "outputs": []
    },
    {
      "cell_type": "code",
      "metadata": {
        "id": "i-TN3YXXUsV6",
        "outputId": "db82f63b-484c-4b9c-ed5e-e92ab69fd9b6",
        "colab": {
          "base_uri": "https://localhost:8080/",
          "height": 318
        }
      },
      "source": [
        "import matplotlib.pyplot as plt\n",
        "plt.imshow(batch_images[1])\n",
        "rect = cv2.rectangle(batch_images[1],coords[1],(150,140,0),4)\n",
        "plt.imshow(rect)"
      ],
      "execution_count": 173,
      "outputs": [
        {
          "output_type": "stream",
          "text": [
            "Clipping input data to the valid range for imshow with RGB data ([0..1] for floats or [0..255] for integers).\n",
            "Clipping input data to the valid range for imshow with RGB data ([0..1] for floats or [0..255] for integers).\n"
          ],
          "name": "stderr"
        },
        {
          "output_type": "execute_result",
          "data": {
            "text/plain": [
              "<matplotlib.image.AxesImage at 0x7f91a43a0f98>"
            ]
          },
          "metadata": {
            "tags": []
          },
          "execution_count": 173
        },
        {
          "output_type": "display_data",
          "data": {
            "image/png": "[encoded data removed]",
            "text/plain": [
              "<Figure size 432x288 with 1 Axes>"
            ]
          },
          "metadata": {
            "tags": [],
            "needs_background": "light"
          }
        }
      ]
    },
    {
      "cell_type": "markdown",
      "metadata": {
        "id": "C9KU6pUTWGi9"
      },
      "source": [
        "### Import MobileNet and load MobileNet into a variable named 'model' which takes input shape of 128 * 128 * 3. Freeze all the layers. Add convolution and reshape layers at the end to ensure the output is 4 coordinates"
      ]
    },
    {
      "cell_type": "code",
      "metadata": {
        "id": "nosEtf1lWGi-",
        "outputId": "2b2b7f26-7a96-4044-97dd-bcc1a148f95c",
        "colab": {
          "base_uri": "https://localhost:8080/",
          "height": 50
        }
      },
      "source": [
        "model = MobileNet(input_shape=(Image_Size,Image_Size,3),include_top=False,weights='imagenet')"
      ],
      "execution_count": 87,
      "outputs": [
        {
          "output_type": "stream",
          "text": [
            "Downloading data from https://storage.googleapis.com/tensorflow/keras-applications/mobilenet/mobilenet_1_0_128_tf_no_top.h5\n",
            "17227776/17225924 [==============================] - 0s 0us/step\n"
          ],
          "name": "stdout"
        }
      ]
    },
    {
      "cell_type": "code",
      "metadata": {
        "id": "E0REJ7ImWPWl",
        "outputId": "e3866af0-36a2-40ce-b9bb-c05d1f4b0cbf",
        "colab": {
          "base_uri": "https://localhost:8080/",
          "height": 1000
        }
      },
      "source": [
        " for layer in model.layers:\n",
        "        print(layer.name,layer.trainable)"
      ],
      "execution_count": 88,
      "outputs": [
        {
          "output_type": "stream",
          "text": [
            "input_1 True\n",
            "conv1_pad True\n",
            "conv1 True\n",
            "conv1_bn True\n",
            "conv1_relu True\n",
            "conv_dw_1 True\n",
            "conv_dw_1_bn True\n",
            "conv_dw_1_relu True\n",
            "conv_pw_1 True\n",
            "conv_pw_1_bn True\n",
            "conv_pw_1_relu True\n",
            "conv_pad_2 True\n",
            "conv_dw_2 True\n",
            "conv_dw_2_bn True\n",
            "conv_dw_2_relu True\n",
            "conv_pw_2 True\n",
            "conv_pw_2_bn True\n",
            "conv_pw_2_relu True\n",
            "conv_dw_3 True\n",
            "conv_dw_3_bn True\n",
            "conv_dw_3_relu True\n",
            "conv_pw_3 True\n",
            "conv_pw_3_bn True\n",
            "conv_pw_3_relu True\n",
            "conv_pad_4 True\n",
            "conv_dw_4 True\n",
            "conv_dw_4_bn True\n",
            "conv_dw_4_relu True\n",
            "conv_pw_4 True\n",
            "conv_pw_4_bn True\n",
            "conv_pw_4_relu True\n",
            "conv_dw_5 True\n",
            "conv_dw_5_bn True\n",
            "conv_dw_5_relu True\n",
            "conv_pw_5 True\n",
            "conv_pw_5_bn True\n",
            "conv_pw_5_relu True\n",
            "conv_pad_6 True\n",
            "conv_dw_6 True\n",
            "conv_dw_6_bn True\n",
            "conv_dw_6_relu True\n",
            "conv_pw_6 True\n",
            "conv_pw_6_bn True\n",
            "conv_pw_6_relu True\n",
            "conv_dw_7 True\n",
            "conv_dw_7_bn True\n",
            "conv_dw_7_relu True\n",
            "conv_pw_7 True\n",
            "conv_pw_7_bn True\n",
            "conv_pw_7_relu True\n",
            "conv_dw_8 True\n",
            "conv_dw_8_bn True\n",
            "conv_dw_8_relu True\n",
            "conv_pw_8 True\n",
            "conv_pw_8_bn True\n",
            "conv_pw_8_relu True\n",
            "conv_dw_9 True\n",
            "conv_dw_9_bn True\n",
            "conv_dw_9_relu True\n",
            "conv_pw_9 True\n",
            "conv_pw_9_bn True\n",
            "conv_pw_9_relu True\n",
            "conv_dw_10 True\n",
            "conv_dw_10_bn True\n",
            "conv_dw_10_relu True\n",
            "conv_pw_10 True\n",
            "conv_pw_10_bn True\n",
            "conv_pw_10_relu True\n",
            "conv_dw_11 True\n",
            "conv_dw_11_bn True\n",
            "conv_dw_11_relu True\n",
            "conv_pw_11 True\n",
            "conv_pw_11_bn True\n",
            "conv_pw_11_relu True\n",
            "conv_pad_12 True\n",
            "conv_dw_12 True\n",
            "conv_dw_12_bn True\n",
            "conv_dw_12_relu True\n",
            "conv_pw_12 True\n",
            "conv_pw_12_bn True\n",
            "conv_pw_12_relu True\n",
            "conv_dw_13 True\n",
            "conv_dw_13_bn True\n",
            "conv_dw_13_relu True\n",
            "conv_pw_13 True\n",
            "conv_pw_13_bn True\n",
            "conv_pw_13_relu True\n"
          ],
          "name": "stdout"
        }
      ]
    },
    {
      "cell_type": "code",
      "metadata": {
        "id": "DtSXmQ2NWPOC"
      },
      "source": [
        "from tensorflow.keras.layers import Conv2D,Reshape\n",
        "x = model.layers[-1].output\n",
        "x = Conv2D(4,(4,4))(x)\n",
        "x = Reshape((4,))(x)"
      ],
      "execution_count": 109,
      "outputs": []
    },
    {
      "cell_type": "code",
      "metadata": {
        "id": "TqyXSBYCYCPJ"
      },
      "source": [
        "from tensorflow.keras.models import Model\n",
        "fn_mod = Model(inputs=model.input, outputs=x)"
      ],
      "execution_count": 110,
      "outputs": []
    },
    {
      "cell_type": "markdown",
      "metadata": {
        "id": "nsQSHWgpWGjC"
      },
      "source": [
        "### Define a custom loss function IoU which calculates Intersection Over Union"
      ]
    },
    {
      "cell_type": "code",
      "metadata": {
        "id": "7Ig_Gsn-WGjD"
      },
      "source": [
        "import tensorflow as tf\n",
        "from tensorflow.keras.backend import epsilon\n",
        "def loss(gt,pred):\n",
        "    intersections = 0\n",
        "    unions = 0\n",
        "    diff_width = np.minimum(gt[:,0] + gt[:,2], pred[:,0] + pred[:,2]) - np.maximum(gt[:,0], pred[:,0])\n",
        "    diff_height = np.minimum(gt[:,1] + gt[:,3], pred[:,1] + pred[:,3]) - np.maximum(gt[:,1], pred[:,1])\n",
        "    intersection = diff_width * diff_height\n",
        "    \n",
        "    # Compute union\n",
        "    area_gt = gt[:,2] * gt[:,3]\n",
        "    area_pred = pred[:,2] * pred[:,3]\n",
        "    union = area_gt + area_pred - intersection\n",
        "\n",
        "#     Compute intersection and union over multiple boxes\n",
        "    for j, _ in enumerate(union):\n",
        "        if union[j] > 0 and intersection[j] > 0 and union[j] >= intersection[j]:\n",
        "            intersections += intersection[j]\n",
        "            unions += union[j]\n",
        "\n",
        "    # Compute IOU. Use epsilon to prevent division by zero\n",
        "    iou = np.round(intersections / (unions + epsilon()), 4)\n",
        "    iou = iou.astype(np.float32)\n",
        "    return iou\n",
        "\n",
        "def IoU(y_true, y_pred):\n",
        "    iou = tf.compat.v1.py_func(loss, [y_true, y_pred], tf.float32)\n",
        "    return iou"
      ],
      "execution_count": 122,
      "outputs": []
    },
    {
      "cell_type": "markdown",
      "metadata": {
        "id": "2Zs7VcSVWGjF"
      },
      "source": [
        "### Write model.compile function & model.fit function with: <br>\n",
        "1. Optimizer = Adam, Loss = 'mse' and metrics = IoU\n",
        "2. Epochs = 30, batch_size = 32, verbose = 1"
      ]
    },
    {
      "cell_type": "code",
      "metadata": {
        "id": "f35dLEJlWGjG"
      },
      "source": [
        "fn_mod.compile(optimizer='adam',loss='mse',metrics=[IoU])"
      ],
      "execution_count": 128,
      "outputs": []
    },
    {
      "cell_type": "code",
      "metadata": {
        "id": "rQTSLBNsYbOo",
        "outputId": "a57db54a-58ae-42b1-d9a9-7f0609a10979",
        "colab": {
          "base_uri": "https://localhost:8080/",
          "height": 1000
        }
      },
      "source": [
        "fn_mod.summary()"
      ],
      "execution_count": 129,
      "outputs": [
        {
          "output_type": "stream",
          "text": [
            "Model: \"functional_3\"\n",
            "_________________________________________________________________\n",
            "Layer (type)                 Output Shape              Param #   \n",
            "=================================================================\n",
            "input_1 (InputLayer)         [(None, 128, 128, 3)]     0         \n",
            "_________________________________________________________________\n",
            "conv1_pad (ZeroPadding2D)    (None, 129, 129, 3)       0         \n",
            "_________________________________________________________________\n",
            "conv1 (Conv2D)               (None, 64, 64, 32)        864       \n",
            "_________________________________________________________________\n",
            "conv1_bn (BatchNormalization (None, 64, 64, 32)        128       \n",
            "_________________________________________________________________\n",
            "conv1_relu (ReLU)            (None, 64, 64, 32)        0         \n",
            "_________________________________________________________________\n",
            "conv_dw_1 (DepthwiseConv2D)  (None, 64, 64, 32)        288       \n",
            "_________________________________________________________________\n",
            "conv_dw_1_bn (BatchNormaliza (None, 64, 64, 32)        128       \n",
            "_________________________________________________________________\n",
            "conv_dw_1_relu (ReLU)        (None, 64, 64, 32)        0         \n",
            "_________________________________________________________________\n",
            "conv_pw_1 (Conv2D)           (None, 64, 64, 64)        2048      \n",
            "_________________________________________________________________\n",
            "conv_pw_1_bn (BatchNormaliza (None, 64, 64, 64)        256       \n",
            "_________________________________________________________________\n",
            "conv_pw_1_relu (ReLU)        (None, 64, 64, 64)        0         \n",
            "_________________________________________________________________\n",
            "conv_pad_2 (ZeroPadding2D)   (None, 65, 65, 64)        0         \n",
            "_________________________________________________________________\n",
            "conv_dw_2 (DepthwiseConv2D)  (None, 32, 32, 64)        576       \n",
            "_________________________________________________________________\n",
            "conv_dw_2_bn (BatchNormaliza (None, 32, 32, 64)        256       \n",
            "_________________________________________________________________\n",
            "conv_dw_2_relu (ReLU)        (None, 32, 32, 64)        0         \n",
            "_________________________________________________________________\n",
            "conv_pw_2 (Conv2D)           (None, 32, 32, 128)       8192      \n",
            "_________________________________________________________________\n",
            "conv_pw_2_bn (BatchNormaliza (None, 32, 32, 128)       512       \n",
            "_________________________________________________________________\n",
            "conv_pw_2_relu (ReLU)        (None, 32, 32, 128)       0         \n",
            "_________________________________________________________________\n",
            "conv_dw_3 (DepthwiseConv2D)  (None, 32, 32, 128)       1152      \n",
            "_________________________________________________________________\n",
            "conv_dw_3_bn (BatchNormaliza (None, 32, 32, 128)       512       \n",
            "_________________________________________________________________\n",
            "conv_dw_3_relu (ReLU)        (None, 32, 32, 128)       0         \n",
            "_________________________________________________________________\n",
            "conv_pw_3 (Conv2D)           (None, 32, 32, 128)       16384     \n",
            "_________________________________________________________________\n",
            "conv_pw_3_bn (BatchNormaliza (None, 32, 32, 128)       512       \n",
            "_________________________________________________________________\n",
            "conv_pw_3_relu (ReLU)        (None, 32, 32, 128)       0         \n",
            "_________________________________________________________________\n",
            "conv_pad_4 (ZeroPadding2D)   (None, 33, 33, 128)       0         \n",
            "_________________________________________________________________\n",
            "conv_dw_4 (DepthwiseConv2D)  (None, 16, 16, 128)       1152      \n",
            "_________________________________________________________________\n",
            "conv_dw_4_bn (BatchNormaliza (None, 16, 16, 128)       512       \n",
            "_________________________________________________________________\n",
            "conv_dw_4_relu (ReLU)        (None, 16, 16, 128)       0         \n",
            "_________________________________________________________________\n",
            "conv_pw_4 (Conv2D)           (None, 16, 16, 256)       32768     \n",
            "_________________________________________________________________\n",
            "conv_pw_4_bn (BatchNormaliza (None, 16, 16, 256)       1024      \n",
            "_________________________________________________________________\n",
            "conv_pw_4_relu (ReLU)        (None, 16, 16, 256)       0         \n",
            "_________________________________________________________________\n",
            "conv_dw_5 (DepthwiseConv2D)  (None, 16, 16, 256)       2304      \n",
            "_________________________________________________________________\n",
            "conv_dw_5_bn (BatchNormaliza (None, 16, 16, 256)       1024      \n",
            "_________________________________________________________________\n",
            "conv_dw_5_relu (ReLU)        (None, 16, 16, 256)       0         \n",
            "_________________________________________________________________\n",
            "conv_pw_5 (Conv2D)           (None, 16, 16, 256)       65536     \n",
            "_________________________________________________________________\n",
            "conv_pw_5_bn (BatchNormaliza (None, 16, 16, 256)       1024      \n",
            "_________________________________________________________________\n",
            "conv_pw_5_relu (ReLU)        (None, 16, 16, 256)       0         \n",
            "_________________________________________________________________\n",
            "conv_pad_6 (ZeroPadding2D)   (None, 17, 17, 256)       0         \n",
            "_________________________________________________________________\n",
            "conv_dw_6 (DepthwiseConv2D)  (None, 8, 8, 256)         2304      \n",
            "_________________________________________________________________\n",
            "conv_dw_6_bn (BatchNormaliza (None, 8, 8, 256)         1024      \n",
            "_________________________________________________________________\n",
            "conv_dw_6_relu (ReLU)        (None, 8, 8, 256)         0         \n",
            "_________________________________________________________________\n",
            "conv_pw_6 (Conv2D)           (None, 8, 8, 512)         131072    \n",
            "_________________________________________________________________\n",
            "conv_pw_6_bn (BatchNormaliza (None, 8, 8, 512)         2048      \n",
            "_________________________________________________________________\n",
            "conv_pw_6_relu (ReLU)        (None, 8, 8, 512)         0         \n",
            "_________________________________________________________________\n",
            "conv_dw_7 (DepthwiseConv2D)  (None, 8, 8, 512)         4608      \n",
            "_________________________________________________________________\n",
            "conv_dw_7_bn (BatchNormaliza (None, 8, 8, 512)         2048      \n",
            "_________________________________________________________________\n",
            "conv_dw_7_relu (ReLU)        (None, 8, 8, 512)         0         \n",
            "_________________________________________________________________\n",
            "conv_pw_7 (Conv2D)           (None, 8, 8, 512)         262144    \n",
            "_________________________________________________________________\n",
            "conv_pw_7_bn (BatchNormaliza (None, 8, 8, 512)         2048      \n",
            "_________________________________________________________________\n",
            "conv_pw_7_relu (ReLU)        (None, 8, 8, 512)         0         \n",
            "_________________________________________________________________\n",
            "conv_dw_8 (DepthwiseConv2D)  (None, 8, 8, 512)         4608      \n",
            "_________________________________________________________________\n",
            "conv_dw_8_bn (BatchNormaliza (None, 8, 8, 512)         2048      \n",
            "_________________________________________________________________\n",
            "conv_dw_8_relu (ReLU)        (None, 8, 8, 512)         0         \n",
            "_________________________________________________________________\n",
            "conv_pw_8 (Conv2D)           (None, 8, 8, 512)         262144    \n",
            "_________________________________________________________________\n",
            "conv_pw_8_bn (BatchNormaliza (None, 8, 8, 512)         2048      \n",
            "_________________________________________________________________\n",
            "conv_pw_8_relu (ReLU)        (None, 8, 8, 512)         0         \n",
            "_________________________________________________________________\n",
            "conv_dw_9 (DepthwiseConv2D)  (None, 8, 8, 512)         4608      \n",
            "_________________________________________________________________\n",
            "conv_dw_9_bn (BatchNormaliza (None, 8, 8, 512)         2048      \n",
            "_________________________________________________________________\n",
            "conv_dw_9_relu (ReLU)        (None, 8, 8, 512)         0         \n",
            "_________________________________________________________________\n",
            "conv_pw_9 (Conv2D)           (None, 8, 8, 512)         262144    \n",
            "_________________________________________________________________\n",
            "conv_pw_9_bn (BatchNormaliza (None, 8, 8, 512)         2048      \n",
            "_________________________________________________________________\n",
            "conv_pw_9_relu (ReLU)        (None, 8, 8, 512)         0         \n",
            "_________________________________________________________________\n",
            "conv_dw_10 (DepthwiseConv2D) (None, 8, 8, 512)         4608      \n",
            "_________________________________________________________________\n",
            "conv_dw_10_bn (BatchNormaliz (None, 8, 8, 512)         2048      \n",
            "_________________________________________________________________\n",
            "conv_dw_10_relu (ReLU)       (None, 8, 8, 512)         0         \n",
            "_________________________________________________________________\n",
            "conv_pw_10 (Conv2D)          (None, 8, 8, 512)         262144    \n",
            "_________________________________________________________________\n",
            "conv_pw_10_bn (BatchNormaliz (None, 8, 8, 512)         2048      \n",
            "_________________________________________________________________\n",
            "conv_pw_10_relu (ReLU)       (None, 8, 8, 512)         0         \n",
            "_________________________________________________________________\n",
            "conv_dw_11 (DepthwiseConv2D) (None, 8, 8, 512)         4608      \n",
            "_________________________________________________________________\n",
            "conv_dw_11_bn (BatchNormaliz (None, 8, 8, 512)         2048      \n",
            "_________________________________________________________________\n",
            "conv_dw_11_relu (ReLU)       (None, 8, 8, 512)         0         \n",
            "_________________________________________________________________\n",
            "conv_pw_11 (Conv2D)          (None, 8, 8, 512)         262144    \n",
            "_________________________________________________________________\n",
            "conv_pw_11_bn (BatchNormaliz (None, 8, 8, 512)         2048      \n",
            "_________________________________________________________________\n",
            "conv_pw_11_relu (ReLU)       (None, 8, 8, 512)         0         \n",
            "_________________________________________________________________\n",
            "conv_pad_12 (ZeroPadding2D)  (None, 9, 9, 512)         0         \n",
            "_________________________________________________________________\n",
            "conv_dw_12 (DepthwiseConv2D) (None, 4, 4, 512)         4608      \n",
            "_________________________________________________________________\n",
            "conv_dw_12_bn (BatchNormaliz (None, 4, 4, 512)         2048      \n",
            "_________________________________________________________________\n",
            "conv_dw_12_relu (ReLU)       (None, 4, 4, 512)         0         \n",
            "_________________________________________________________________\n",
            "conv_pw_12 (Conv2D)          (None, 4, 4, 1024)        524288    \n",
            "_________________________________________________________________\n",
            "conv_pw_12_bn (BatchNormaliz (None, 4, 4, 1024)        4096      \n",
            "_________________________________________________________________\n",
            "conv_pw_12_relu (ReLU)       (None, 4, 4, 1024)        0         \n",
            "_________________________________________________________________\n",
            "conv_dw_13 (DepthwiseConv2D) (None, 4, 4, 1024)        9216      \n",
            "_________________________________________________________________\n",
            "conv_dw_13_bn (BatchNormaliz (None, 4, 4, 1024)        4096      \n",
            "_________________________________________________________________\n",
            "conv_dw_13_relu (ReLU)       (None, 4, 4, 1024)        0         \n",
            "_________________________________________________________________\n",
            "conv_pw_13 (Conv2D)          (None, 4, 4, 1024)        1048576   \n",
            "_________________________________________________________________\n",
            "conv_pw_13_bn (BatchNormaliz (None, 4, 4, 1024)        4096      \n",
            "_________________________________________________________________\n",
            "conv_pw_13_relu (ReLU)       (None, 4, 4, 1024)        0         \n",
            "_________________________________________________________________\n",
            "conv2d_1 (Conv2D)            (None, 1, 1, 4)           65540     \n",
            "_________________________________________________________________\n",
            "reshape_1 (Reshape)          (None, 4)                 0         \n",
            "=================================================================\n",
            "Total params: 3,294,404\n",
            "Trainable params: 3,272,516\n",
            "Non-trainable params: 21,888\n",
            "_________________________________________________________________\n"
          ],
          "name": "stdout"
        }
      ]
    },
    {
      "cell_type": "code",
      "metadata": {
        "id": "l2paV5CrYbKl"
      },
      "source": [
        "from tensorflow.keras.callbacks import *"
      ],
      "execution_count": 114,
      "outputs": []
    },
    {
      "cell_type": "code",
      "metadata": {
        "id": "RqY8wBAEYmcP"
      },
      "source": [
        "es= EarlyStopping(monitor='IoU',patience=6)\n",
        "rlrp = ReduceLROnPlateau(monitor='IoU',factor=0.2,patience=2)"
      ],
      "execution_count": 115,
      "outputs": []
    },
    {
      "cell_type": "code",
      "metadata": {
        "id": "8P6Z0lc1Y27e",
        "outputId": "ef0b7d40-0aa5-40e7-b986-477f2119df21",
        "colab": {
          "base_uri": "https://localhost:8080/",
          "height": 268
        }
      },
      "source": [
        "fn_mod.fit(batch_images,coords,batch_size=32,epochs=30,callbacks=[es,rlrp])"
      ],
      "execution_count": 130,
      "outputs": [
        {
          "output_type": "stream",
          "text": [
            "Epoch 1/30\n",
            "6/6 [==============================] - 0s 53ms/step - loss: 232.4914 - IoU: 0.6262\n",
            "Epoch 2/30\n",
            "6/6 [==============================] - 0s 45ms/step - loss: 246.5718 - IoU: 0.6280\n",
            "Epoch 3/30\n",
            "6/6 [==============================] - 0s 45ms/step - loss: 153.7142 - IoU: 0.6749\n",
            "Epoch 4/30\n",
            "6/6 [==============================] - 0s 46ms/step - loss: 98.6755 - IoU: 0.7435\n",
            "Epoch 5/30\n",
            "6/6 [==============================] - 0s 46ms/step - loss: 84.5149 - IoU: 0.7715\n",
            "Epoch 6/30\n",
            "6/6 [==============================] - 0s 45ms/step - loss: 71.5439 - IoU: 0.7850\n",
            "Epoch 7/30\n",
            "6/6 [==============================] - 0s 45ms/step - loss: 69.0274 - IoU: 0.7901\n"
          ],
          "name": "stdout"
        },
        {
          "output_type": "execute_result",
          "data": {
            "text/plain": [
              "<tensorflow.python.keras.callbacks.History at 0x7f91adc94710>"
            ]
          },
          "metadata": {
            "tags": []
          },
          "execution_count": 130
        }
      ]
    },
    {
      "cell_type": "code",
      "metadata": {
        "id": "e-Ijd4csd4sD",
        "outputId": "05e149df-ee33-4b78-bc3b-aa86edd2eb38",
        "colab": {
          "base_uri": "https://localhost:8080/",
          "height": 1000
        }
      },
      "source": [
        "fn_mod.fit(batch_images,coords,batch_size=32,epochs=30,callbacks=[rlrp])"
      ],
      "execution_count": 131,
      "outputs": [
        {
          "output_type": "stream",
          "text": [
            "Epoch 1/30\n",
            "2/6 [=========>....................] - ETA: 0s - loss: 76.6310 - IoU: 0.7898WARNING:tensorflow:Callbacks method `on_train_batch_end` is slow compared to the batch time (batch time: 0.0266s vs `on_train_batch_end` time: 0.0625s). Check your callbacks.\n",
            "6/6 [==============================] - 0s 54ms/step - loss: 65.8374 - IoU: 0.8118\n",
            "Epoch 2/30\n",
            "6/6 [==============================] - 0s 45ms/step - loss: 67.1134 - IoU: 0.8051\n",
            "Epoch 3/30\n",
            "6/6 [==============================] - 0s 44ms/step - loss: 64.9008 - IoU: 0.8041\n",
            "Epoch 4/30\n",
            "6/6 [==============================] - 0s 45ms/step - loss: 61.9863 - IoU: 0.8127\n",
            "Epoch 5/30\n",
            "6/6 [==============================] - 0s 45ms/step - loss: 62.3645 - IoU: 0.8086\n",
            "Epoch 6/30\n",
            "6/6 [==============================] - 0s 44ms/step - loss: 68.9913 - IoU: 0.7808\n",
            "Epoch 7/30\n",
            "6/6 [==============================] - 0s 45ms/step - loss: 61.2705 - IoU: 0.8118\n",
            "Epoch 8/30\n",
            "6/6 [==============================] - 0s 46ms/step - loss: 65.2790 - IoU: 0.8027\n",
            "Epoch 9/30\n",
            "6/6 [==============================] - 0s 45ms/step - loss: 64.9870 - IoU: 0.8015\n",
            "Epoch 10/30\n",
            "6/6 [==============================] - 0s 45ms/step - loss: 65.7324 - IoU: 0.7964\n",
            "Epoch 11/30\n",
            "6/6 [==============================] - 0s 44ms/step - loss: 62.8036 - IoU: 0.8130\n",
            "Epoch 12/30\n",
            "6/6 [==============================] - 0s 44ms/step - loss: 64.0165 - IoU: 0.8125\n",
            "Epoch 13/30\n",
            "6/6 [==============================] - 0s 45ms/step - loss: 62.5603 - IoU: 0.8125\n",
            "Epoch 14/30\n",
            "6/6 [==============================] - 0s 44ms/step - loss: 64.8991 - IoU: 0.8066\n",
            "Epoch 15/30\n",
            "6/6 [==============================] - 0s 45ms/step - loss: 62.4471 - IoU: 0.8058\n",
            "Epoch 16/30\n",
            "6/6 [==============================] - 0s 45ms/step - loss: 62.6829 - IoU: 0.8197\n",
            "Epoch 17/30\n",
            "6/6 [==============================] - 0s 45ms/step - loss: 63.9547 - IoU: 0.8086\n",
            "Epoch 18/30\n",
            "6/6 [==============================] - 0s 46ms/step - loss: 63.7321 - IoU: 0.8110\n",
            "Epoch 19/30\n",
            "6/6 [==============================] - 0s 46ms/step - loss: 68.1482 - IoU: 0.7984\n",
            "Epoch 20/30\n",
            "6/6 [==============================] - 0s 45ms/step - loss: 64.5837 - IoU: 0.8045\n",
            "Epoch 21/30\n",
            "6/6 [==============================] - 0s 47ms/step - loss: 62.4038 - IoU: 0.8145\n",
            "Epoch 22/30\n",
            "6/6 [==============================] - 0s 47ms/step - loss: 63.3238 - IoU: 0.8051\n",
            "Epoch 23/30\n",
            "6/6 [==============================] - 0s 46ms/step - loss: 61.6157 - IoU: 0.8063\n",
            "Epoch 24/30\n",
            "6/6 [==============================] - 0s 45ms/step - loss: 63.6348 - IoU: 0.8035\n",
            "Epoch 25/30\n",
            "6/6 [==============================] - 0s 45ms/step - loss: 61.4697 - IoU: 0.8047\n",
            "Epoch 26/30\n",
            "6/6 [==============================] - 0s 44ms/step - loss: 65.5221 - IoU: 0.8080\n",
            "Epoch 27/30\n",
            "6/6 [==============================] - 0s 44ms/step - loss: 62.0661 - IoU: 0.8071\n",
            "Epoch 28/30\n",
            "6/6 [==============================] - 0s 45ms/step - loss: 61.9061 - IoU: 0.8091\n",
            "Epoch 29/30\n",
            "6/6 [==============================] - 0s 46ms/step - loss: 61.5415 - IoU: 0.8138\n",
            "Epoch 30/30\n",
            "6/6 [==============================] - 0s 45ms/step - loss: 63.6061 - IoU: 0.8030\n"
          ],
          "name": "stdout"
        },
        {
          "output_type": "execute_result",
          "data": {
            "text/plain": [
              "<tensorflow.python.keras.callbacks.History at 0x7f91ac2b4a90>"
            ]
          },
          "metadata": {
            "tags": []
          },
          "execution_count": 131
        }
      ]
    },
    {
      "cell_type": "markdown",
      "metadata": {
        "id": "II1itmqiWGjK"
      },
      "source": [
        "### Pick a test image from the given data"
      ]
    },
    {
      "cell_type": "code",
      "metadata": {
        "id": "0ULErYeSWGjK"
      },
      "source": [
        "filename = './images/raccoon-19.jpg'\n",
        "unsc = cv2.imread(filename)"
      ],
      "execution_count": 166,
      "outputs": []
    },
    {
      "cell_type": "markdown",
      "metadata": {
        "id": "h99SC9MjWGjO"
      },
      "source": [
        "### Resize the image to 128 * 128 and preprocess the image for the MobileNet model"
      ]
    },
    {
      "cell_type": "code",
      "metadata": {
        "id": "J3jbKm7_WGjP"
      },
      "source": [
        "#print(unsc)\n",
        "sc = cv2.resize(unsc,(Image_Size,Image_Size))\n",
        "#print(sc.shape)\n",
        "scclr = cv2.cvtColor(sc,cv2.COLOR_BGR2RGB)\n",
        "presc = preprocess_input(scclr)"
      ],
      "execution_count": 167,
      "outputs": []
    },
    {
      "cell_type": "markdown",
      "metadata": {
        "id": "aGK4IjdaWGjR"
      },
      "source": [
        "### Predict the coordinates of the bounding box for the given test image"
      ]
    },
    {
      "cell_type": "code",
      "metadata": {
        "id": "abnXH5F7WGjS"
      },
      "source": [
        "region = fn_mod.predict(x=np.array([presc]))[0]  # Predict the BBox"
      ],
      "execution_count": 168,
      "outputs": []
    },
    {
      "cell_type": "code",
      "metadata": {
        "id": "zQPskfaKfbZf",
        "outputId": "a8cb95d0-ab65-462e-d708-abac4a53e54a",
        "colab": {
          "base_uri": "https://localhost:8080/",
          "height": 33
        }
      },
      "source": [
        "region"
      ],
      "execution_count": 169,
      "outputs": [
        {
          "output_type": "execute_result",
          "data": {
            "text/plain": [
              "array([38.54189,  4.08582, 89.24704, 68.35377], dtype=float32)"
            ]
          },
          "metadata": {
            "tags": []
          },
          "execution_count": 169
        }
      ]
    },
    {
      "cell_type": "markdown",
      "metadata": {
        "id": "CXbjVdLWWGjW"
      },
      "source": [
        "### Plot the test image using .imshow and draw a boundary box around the image with the coordinates obtained from the model"
      ]
    },
    {
      "cell_type": "code",
      "metadata": {
        "id": "t4Ah05MlWGjY",
        "outputId": "24669c02-4c61-4806-f3c4-c7e68f306575",
        "colab": {
          "base_uri": "https://localhost:8080/",
          "height": 286
        }
      },
      "source": [
        "x0 = int(region[0] * w / Image_Size) # Scale the BBox\n",
        "y0 = int(region[1] * h / Image_Size)\n",
        "\n",
        "x1 = int((region[2]) * w / Image_Size)\n",
        "y1 = int((region[3]) * h / Image_Size)\n",
        "\n",
        "\n",
        "import matplotlib.pyplot as plt\n",
        "import matplotlib.patches as patches\n",
        "from PIL import Image\n",
        "import numpy as np\n",
        "\n",
        "\n",
        "# Create figure and axes\n",
        "fig,ax = plt.subplots(1)\n",
        "\n",
        "# Display the image\n",
        "ax.imshow(unsc)\n",
        "\n",
        "# Create a Rectangle patch\n",
        "rect = patches.Rectangle((x0, y0), (x1 - x0) , (y1 - y0) ,linewidth=2,edgecolor='g',facecolor='none')\n",
        "\n",
        "print(rect)\n",
        "# Add the patch to the Axes\n",
        "ax.add_patch(rect)\n",
        "\n",
        "plt.show()"
      ],
      "execution_count": 175,
      "outputs": [
        {
          "output_type": "stream",
          "text": [
            "Rectangle(xy=(82, 5), width=109, height=92, angle=0)\n"
          ],
          "name": "stdout"
        },
        {
          "output_type": "display_data",
          "data": {
            "image/png": "[encoded data removed]",
            "text/plain": [
              "<Figure size 432x288 with 1 Axes>"
            ]
          },
          "metadata": {
            "tags": [],
            "needs_background": "light"
          }
        }
      ]
    },
    {
      "cell_type": "code",
      "metadata": {
        "id": "LXdCvIHWhY03"
      },
      "source": [
        ""
      ],
      "execution_count": null,
      "outputs": []
    }
  ]
}