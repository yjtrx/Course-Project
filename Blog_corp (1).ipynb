{
  "nbformat": 4,
  "nbformat_minor": 0,
  "metadata": {
    "colab": {
      "name": "Blog-corp.ipynb",
      "provenance": [],
      "private_outputs": true,
      "machine_shape": "hm"
    },
    "kernelspec": {
      "name": "python3",
      "display_name": "Python 3"
    },
    "accelerator": "GPU"
  },
  "cells": [
    {
      "cell_type": "code",
      "metadata": {
        "id": "17pz9K8yoWZe",
        "colab_type": "code",
        "colab": {}
      },
      "source": [
        "!mkdir .kaggle"
      ],
      "execution_count": 0,
      "outputs": []
    },
    {
      "cell_type": "code",
      "metadata": {
        "id": "hC3uu7NOoWWU",
        "colab_type": "code",
        "colab": {}
      },
      "source": [
        "!ls"
      ],
      "execution_count": 0,
      "outputs": []
    },
    {
      "cell_type": "code",
      "metadata": {
        "id": "wEuT_qWdoWUa",
        "colab_type": "code",
        "colab": {}
      },
      "source": [
        "import json\n",
        "token = {\"username\":\"yjtrxj\",\"key\":\"131bbafb775c8139a4bb07dbc9427ac7\"}\n",
        "with open('/content/.kaggle/kaggle.json', 'w') as file:\n",
        "    json.dump(token, file)"
      ],
      "execution_count": 0,
      "outputs": []
    },
    {
      "cell_type": "code",
      "metadata": {
        "id": "gx_z_QL4oWR4",
        "colab_type": "code",
        "colab": {}
      },
      "source": [
        "!cp /content/.kaggle/kaggle.json ~/.kaggle/kaggle.json"
      ],
      "execution_count": 0,
      "outputs": []
    },
    {
      "cell_type": "code",
      "metadata": {
        "id": "zvHxkQtFoWPw",
        "colab_type": "code",
        "colab": {}
      },
      "source": [
        "!kaggle config set -n path -v{/content}"
      ],
      "execution_count": 0,
      "outputs": []
    },
    {
      "cell_type": "code",
      "metadata": {
        "id": "i6dxNguYoWNq",
        "colab_type": "code",
        "colab": {}
      },
      "source": [
        "!chmod 600 /root/.kaggle/kaggle.json"
      ],
      "execution_count": 0,
      "outputs": []
    },
    {
      "cell_type": "code",
      "metadata": {
        "id": "iUuDSPOToWLa",
        "colab_type": "code",
        "colab": {}
      },
      "source": [
        "!kaggle datasets list -s blog"
      ],
      "execution_count": 0,
      "outputs": []
    },
    {
      "cell_type": "code",
      "metadata": {
        "id": "qICqPMqzoWJU",
        "colab_type": "code",
        "colab": {}
      },
      "source": [
        "!kaggle datasets download -d rtatman/blog-authorship-corpus -p /content/"
      ],
      "execution_count": 0,
      "outputs": []
    },
    {
      "cell_type": "code",
      "metadata": {
        "id": "-GLtTopYoy0s",
        "colab_type": "code",
        "colab": {}
      },
      "source": [
        "!unzip \\blog-authorship-corpus.zip"
      ],
      "execution_count": 0,
      "outputs": []
    },
    {
      "cell_type": "code",
      "metadata": {
        "id": "t_cl6JBgmZt-",
        "colab_type": "code",
        "colab": {}
      },
      "source": [
        "import pandas as pd\n",
        "blog = pd.read_csv('blogtext.csv')"
      ],
      "execution_count": 0,
      "outputs": []
    },
    {
      "cell_type": "code",
      "metadata": {
        "id": "cQ9jrlrHov_c",
        "colab_type": "code",
        "colab": {}
      },
      "source": [
        "#blog_df = blog.sample(frac =0.012,replace=False,random_state=5678)"
      ],
      "execution_count": 0,
      "outputs": []
    },
    {
      "cell_type": "code",
      "metadata": {
        "id": "iu_PPKR9OIg3",
        "colab_type": "code",
        "colab": {}
      },
      "source": [
        "blog_df = blog.iloc[:8000,:]"
      ],
      "execution_count": 0,
      "outputs": []
    },
    {
      "cell_type": "code",
      "metadata": {
        "id": "R0bb46ynmjqC",
        "colab_type": "code",
        "colab": {}
      },
      "source": [
        "blog_df.shape"
      ],
      "execution_count": 0,
      "outputs": []
    },
    {
      "cell_type": "code",
      "metadata": {
        "id": "9TPTORDmmjmw",
        "colab_type": "code",
        "colab": {}
      },
      "source": [
        "blog_df.isnull().sum()"
      ],
      "execution_count": 0,
      "outputs": []
    },
    {
      "cell_type": "code",
      "metadata": {
        "id": "MwF0U-Srmjky",
        "colab_type": "code",
        "colab": {}
      },
      "source": [
        "blog_df['text'].unique()"
      ],
      "execution_count": 0,
      "outputs": []
    },
    {
      "cell_type": "code",
      "metadata": {
        "id": "fCVZHN0omjgn",
        "colab_type": "code",
        "colab": {}
      },
      "source": [
        "blog_df.info()"
      ],
      "execution_count": 0,
      "outputs": []
    },
    {
      "cell_type": "code",
      "metadata": {
        "id": "uJ_14Zz0mjeQ",
        "colab_type": "code",
        "colab": {}
      },
      "source": [
        "blog_df['label'] = blog_df.apply(lambda r: [r['gender'], str(r['age']), r['topic'],r['sign']], axis=1)"
      ],
      "execution_count": 0,
      "outputs": []
    },
    {
      "cell_type": "code",
      "metadata": {
        "id": "PtAX4rotnIqy",
        "colab_type": "code",
        "colab": {}
      },
      "source": [
        "blog_df.drop(columns=['id','gender','age','topic','sign','date'],inplace = True)"
      ],
      "execution_count": 0,
      "outputs": []
    },
    {
      "cell_type": "code",
      "metadata": {
        "id": "7pb3aeC7e_7p",
        "colab_type": "code",
        "colab": {}
      },
      "source": [
        "blog_df.head(2)"
      ],
      "execution_count": 0,
      "outputs": []
    },
    {
      "cell_type": "code",
      "metadata": {
        "id": "C3665lVnmjZ8",
        "colab_type": "code",
        "colab": {}
      },
      "source": [
        "from nltk.corpus import stopwords\n",
        "import re\n",
        "import nltk\n",
        "nltk.download('stopwords')\n",
        "blog_df['text'] = blog_df['text'].map(lambda s : s.lower())\n",
        "blog_df['text'] = blog_df['text'].map(lambda s:re.sub('[0-9+-/#()!:\\']','',s))\n",
        "blog_df['text'] = blog_df['text'].map(lambda s :s.strip())\n",
        "sw = stopwords.words('english')\n",
        "blog_df['text'] = blog_df['text'].apply(lambda s: ' '.join([word for word in s.split() if word not in (sw)]))\n",
        "blog_df['text']"
      ],
      "execution_count": 0,
      "outputs": []
    },
    {
      "cell_type": "code",
      "metadata": {
        "id": "jWX013almjX5",
        "colab_type": "code",
        "colab": {}
      },
      "source": [
        "x = blog_df.text\n",
        "y = blog_df.label"
      ],
      "execution_count": 0,
      "outputs": []
    },
    {
      "cell_type": "code",
      "metadata": {
        "id": "J1GayGRHmjVy",
        "colab_type": "code",
        "colab": {}
      },
      "source": [
        "#you can change the test size & a smaller train size will help your system to fit in count vectorizer otherwise system will crash\n",
        "from sklearn.model_selection import train_test_split\n",
        "x_train,x_test,y_train,y_test = train_test_split(x,y,test_size=0.2)"
      ],
      "execution_count": 0,
      "outputs": []
    },
    {
      "cell_type": "code",
      "metadata": {
        "id": "hu4nJUiGqrLB",
        "colab_type": "code",
        "colab": {}
      },
      "source": [
        "x_train,x_val,y_train,y_val = train_test_split(x_train,y_train,test_size=0.3)"
      ],
      "execution_count": 0,
      "outputs": []
    },
    {
      "cell_type": "code",
      "metadata": {
        "id": "C_CbLtusmjTh",
        "colab_type": "code",
        "colab": {}
      },
      "source": [
        "print(\"X_train shape is : \",x_train.shape)\n",
        "print(\"X_test shape is : \",x_test.shape)\n",
        "print(\"X_val shape is : \",x_val.shape)\n",
        "print(\"y_train shape is : \",y_train.shape)\n",
        "print(\"y_test shape is : \",y_test.shape)\n",
        "print(\"y_val shape is : \",y_val.shape)"
      ],
      "execution_count": 0,
      "outputs": []
    },
    {
      "cell_type": "code",
      "metadata": {
        "id": "gbwrbAk1mjRd",
        "colab_type": "code",
        "colab": {}
      },
      "source": [
        "from sklearn.feature_extraction.text import CountVectorizer"
      ],
      "execution_count": 0,
      "outputs": []
    },
    {
      "cell_type": "code",
      "metadata": {
        "id": "xppRrmTjmjPi",
        "colab_type": "code",
        "colab": {}
      },
      "source": [
        "cv = CountVectorizer(ngram_range=(1,2))"
      ],
      "execution_count": 0,
      "outputs": []
    },
    {
      "cell_type": "code",
      "metadata": {
        "id": "3y79ImwhmjNJ",
        "colab_type": "code",
        "colab": {}
      },
      "source": [
        "x_train = cv.fit_transform(x_train)"
      ],
      "execution_count": 0,
      "outputs": []
    },
    {
      "cell_type": "code",
      "metadata": {
        "id": "gjXjx9zDmjLG",
        "colab_type": "code",
        "colab": {}
      },
      "source": [
        "x_test = cv.transform(x_test)"
      ],
      "execution_count": 0,
      "outputs": []
    },
    {
      "cell_type": "code",
      "metadata": {
        "id": "SwYNgCmN7qQK",
        "colab_type": "code",
        "colab": {}
      },
      "source": [
        "x_val = cv.transform(x_val)"
      ],
      "execution_count": 0,
      "outputs": []
    },
    {
      "cell_type": "code",
      "metadata": {
        "id": "DDRFKXU7mjJC",
        "colab_type": "code",
        "colab": {}
      },
      "source": [
        "#just to check the\n",
        "print(x_val)"
      ],
      "execution_count": 0,
      "outputs": []
    },
    {
      "cell_type": "code",
      "metadata": {
        "id": "fv5XPvTUmjcM",
        "colab_type": "code",
        "colab": {}
      },
      "source": [
        "label_counts = dict()\n",
        "for labels in blog_df.label.values:\n",
        "    for label in labels:\n",
        "        if label in label_counts:\n",
        "            label_counts[label] += 1\n",
        "        else:\n",
        "            label_counts[label] = 1"
      ],
      "execution_count": 0,
      "outputs": []
    },
    {
      "cell_type": "code",
      "metadata": {
        "id": "PAgrqgMhnC0p",
        "colab_type": "code",
        "colab": {}
      },
      "source": [
        "label_counts"
      ],
      "execution_count": 0,
      "outputs": []
    },
    {
      "cell_type": "code",
      "metadata": {
        "id": "hhqCoAV5mjG6",
        "colab_type": "code",
        "colab": {}
      },
      "source": [
        "from sklearn.preprocessing import MultiLabelBinarizer\n",
        "mlb = MultiLabelBinarizer()\n",
        "y_train = mlb.fit_transform(y_train)\n",
        "y_test = mlb.transform(y_test)\n",
        "y_val = mlb.transform(y_val)"
      ],
      "execution_count": 0,
      "outputs": []
    },
    {
      "cell_type": "code",
      "metadata": {
        "id": "fMdOZx6xT2ng",
        "colab_type": "code",
        "colab": {}
      },
      "source": [
        "y_test.shape"
      ],
      "execution_count": 0,
      "outputs": []
    },
    {
      "cell_type": "code",
      "metadata": {
        "id": "UCSisxn9-tMJ",
        "colab_type": "code",
        "colab": {}
      },
      "source": [
        "y_train.shape"
      ],
      "execution_count": 0,
      "outputs": []
    },
    {
      "cell_type": "code",
      "metadata": {
        "id": "QQmDiGi7mjE1",
        "colab_type": "code",
        "colab": {}
      },
      "source": [
        "from sklearn.multiclass import OneVsRestClassifier\n",
        "from sklearn.linear_model import LogisticRegression\n",
        "from sklearn.model_selection import GridSearchCV\n",
        "from sklearn.tree import DecisionTreeClassifier\n",
        "from sklearn.neighbors import KNeighborsClassifier\n",
        "from sklearn.ensemble import RandomForestClassifier\n",
        "from sklearn.naive_bayes import MultinomialNB\n",
        "\n",
        "clf = LogisticRegression(solver='lbfgs',max_iter=10000)\n",
        "clf = OneVsRestClassifier(clf)\n",
        "clfm = OneVsRestClassifier(MultinomialNB())\n",
        "clf0 = GridSearchCV(DecisionTreeClassifier(),cv=5,param_grid={'max_depth':[80,250,500,750,1000]})\n",
        "clf1 = GridSearchCV(KNeighborsClassifier(),cv=5,param_grid={'n_neighbors':[5,10,15,20,25]})\n",
        "clf2 = GridSearchCV(RandomForestClassifier(),cv =5,param_grid={'max_depth':[80,250,500,750,1000]})"
      ],
      "execution_count": 0,
      "outputs": []
    },
    {
      "cell_type": "code",
      "metadata": {
        "id": "CyekpRmQmjCs",
        "colab_type": "code",
        "colab": {}
      },
      "source": [
        "%%time\n",
        "clf.fit(x_train,y_train)"
      ],
      "execution_count": 0,
      "outputs": []
    },
    {
      "cell_type": "code",
      "metadata": {
        "id": "YMbfChzDmjAm",
        "colab_type": "code",
        "colab": {}
      },
      "source": [
        "y_pred = clf.predict(x_test)"
      ],
      "execution_count": 0,
      "outputs": []
    },
    {
      "cell_type": "code",
      "metadata": {
        "id": "IuCAogaomi-Z",
        "colab_type": "code",
        "colab": {}
      },
      "source": [
        "from sklearn.metrics import hamming_loss, accuracy_score,classification_report\n",
        "print(\"Model accuracy is:\", clf.score(x_train,y_train))\n",
        "print(\"Accuracy is:\",accuracy_score(y_test,y_pred))\n",
        "print(\"Hamming_loss:\", hamming_loss(y_test, y_pred))\n",
        "report = classification_report(y_test,y_pred)\n",
        "print(report)"
      ],
      "execution_count": 0,
      "outputs": []
    },
    {
      "cell_type": "code",
      "metadata": {
        "id": "Dx8T3O4Vg5vz",
        "colab_type": "code",
        "colab": {}
      },
      "source": [
        "y_test_re = mlb.inverse_transform(y_test)"
      ],
      "execution_count": 0,
      "outputs": []
    },
    {
      "cell_type": "code",
      "metadata": {
        "id": "K36L7hrfmiz4",
        "colab_type": "code",
        "colab": {}
      },
      "source": [
        "y_pred_re = mlb.inverse_transform(y_pred)"
      ],
      "execution_count": 0,
      "outputs": []
    },
    {
      "cell_type": "code",
      "metadata": {
        "id": "xBGCEvIPBQYa",
        "colab_type": "code",
        "colab": {}
      },
      "source": [
        "label_table = pd.DataFrame({'Predicted':y_pred_re,'Actual':y_test_re})"
      ],
      "execution_count": 0,
      "outputs": []
    },
    {
      "cell_type": "code",
      "metadata": {
        "id": "_RdkqFUZBh_M",
        "colab_type": "code",
        "colab": {}
      },
      "source": [
        "label_table.head(6)"
      ],
      "execution_count": 0,
      "outputs": []
    },
    {
      "cell_type": "code",
      "metadata": {
        "id": "fMReZ8jGX0HK",
        "colab_type": "code",
        "colab": {}
      },
      "source": [
        "clfm.fit(x_train,y_train)"
      ],
      "execution_count": 0,
      "outputs": []
    },
    {
      "cell_type": "code",
      "metadata": {
        "id": "JefAPHALX_21",
        "colab_type": "code",
        "colab": {}
      },
      "source": [
        "y_predm = clfm.predict(x_test)"
      ],
      "execution_count": 0,
      "outputs": []
    },
    {
      "cell_type": "code",
      "metadata": {
        "id": "UleH4M-kX-1V",
        "colab_type": "code",
        "colab": {}
      },
      "source": [
        "from sklearn.metrics import hamming_loss, accuracy_score,classification_report\n",
        "print(\"Model accuracy is:\", clfm.score(x_train,y_train))\n",
        "print(\"Accuracy is:\",accuracy_score(y_test,y_predm))\n",
        "print(\"Hamming_loss:\", hamming_loss(y_test, y_predm))\n",
        "reportm = classification_report(y_test,y_predm)\n",
        "print(reportm)"
      ],
      "execution_count": 0,
      "outputs": []
    },
    {
      "cell_type": "code",
      "metadata": {
        "id": "dPujlTkYndpO",
        "colab_type": "code",
        "colab": {}
      },
      "source": [
        "clf0.fit(x_train,y_train)\n",
        "print(\"This is the best score :\",clf0.best_score_)\n",
        "print(\"This are the best parameters:\",clf0.best_params_)\n",
        "print(\"This is the best estimator:\",clf0.best_estimator_)"
      ],
      "execution_count": 0,
      "outputs": []
    },
    {
      "cell_type": "code",
      "metadata": {
        "id": "YIvQPsuk5iMk",
        "colab_type": "code",
        "colab": {}
      },
      "source": [
        "lr0 = clf0.best_estimator_\n",
        "lr0.fit(x_train,y_train)"
      ],
      "execution_count": 0,
      "outputs": []
    },
    {
      "cell_type": "code",
      "metadata": {
        "id": "WyHeYubfuZis",
        "colab_type": "code",
        "colab": {}
      },
      "source": [
        "y_pred0 = lr0.predict(x_test)"
      ],
      "execution_count": 0,
      "outputs": []
    },
    {
      "cell_type": "code",
      "metadata": {
        "id": "lQ9Y9wQduaL-",
        "colab_type": "code",
        "colab": {}
      },
      "source": [
        "from sklearn.metrics import hamming_loss, accuracy_score,classification_report\n",
        "print(\"Model accuracy is:\", lr0.score(x_train,y_train))\n",
        "print(\"Accuracy is:\",accuracy_score(y_test,y_pred0))\n",
        "print(\"Hamming_loss:\", hamming_loss(y_test, y_pred0))\n",
        "report0 = classification_report(y_test,y_pred0)\n",
        "print(report0)"
      ],
      "execution_count": 0,
      "outputs": []
    },
    {
      "cell_type": "code",
      "metadata": {
        "id": "UXIco6FbuoAS",
        "colab_type": "code",
        "colab": {}
      },
      "source": [
        "y_pred_re0 = mlb.inverse_transform(y_pred0)"
      ],
      "execution_count": 0,
      "outputs": []
    },
    {
      "cell_type": "code",
      "metadata": {
        "id": "WeTueNCNussT",
        "colab_type": "code",
        "colab": {}
      },
      "source": [
        "label_table0 = pd.DataFrame({'Predicted':y_pred_re0,'Actual':y_test_re})"
      ],
      "execution_count": 0,
      "outputs": []
    },
    {
      "cell_type": "code",
      "metadata": {
        "id": "GpRI4C4rxv03",
        "colab_type": "code",
        "colab": {}
      },
      "source": [
        "label_table0.head(6)"
      ],
      "execution_count": 0,
      "outputs": []
    },
    {
      "cell_type": "code",
      "metadata": {
        "id": "WEqHmuLnIWgF",
        "colab_type": "code",
        "colab": {}
      },
      "source": [
        "x_train.shape"
      ],
      "execution_count": 0,
      "outputs": []
    },
    {
      "cell_type": "code",
      "metadata": {
        "id": "w31hp3wpIY-_",
        "colab_type": "code",
        "colab": {}
      },
      "source": [
        "y_train.shape"
      ],
      "execution_count": 0,
      "outputs": []
    },
    {
      "cell_type": "code",
      "metadata": {
        "colab_type": "code",
        "id": "8r019Ek1I4MS",
        "colab": {}
      },
      "source": [
        "clf1.fit(x_train,y_train)\n",
        "print(\"This is the best score :\",clf1.best_score_)\n",
        "print(\"This are the best parameters:\",clf1.best_params_)\n",
        "print(\"This is the best estimator:\",clf1.best_estimator_)"
      ],
      "execution_count": 0,
      "outputs": []
    },
    {
      "cell_type": "code",
      "metadata": {
        "id": "nJgcfnKhKhFs",
        "colab_type": "code",
        "colab": {}
      },
      "source": [
        "lr1 = clf1.best_estimator_\n",
        "lr1.fit(x_train,y_train)"
      ],
      "execution_count": 0,
      "outputs": []
    },
    {
      "cell_type": "code",
      "metadata": {
        "colab_type": "code",
        "id": "jfbe_rfqI3yr",
        "colab": {}
      },
      "source": [
        "y_pred1 = lr1.predict(x_test)"
      ],
      "execution_count": 0,
      "outputs": []
    },
    {
      "cell_type": "code",
      "metadata": {
        "colab_type": "code",
        "id": "LmUS4OsqI3VA",
        "colab": {}
      },
      "source": [
        "from sklearn.metrics import hamming_loss, accuracy_score,classification_report\n",
        "print(\"Model accuracy is:\", lr1.score(x_train,y_train))\n",
        "print(\"Accuracy is:\",accuracy_score(y_test,y_pred1))\n",
        "print(\"Hamming_loss:\", hamming_loss(y_test, y_pred1))\n",
        "report1 = classification_report(y_test,y_pred1)\n",
        "print(report1)"
      ],
      "execution_count": 0,
      "outputs": []
    },
    {
      "cell_type": "code",
      "metadata": {
        "id": "gZCOO-PJxBSi",
        "colab_type": "code",
        "colab": {}
      },
      "source": [
        "y_pred_re1 = mlb.inverse_transform(y_pred1)"
      ],
      "execution_count": 0,
      "outputs": []
    },
    {
      "cell_type": "code",
      "metadata": {
        "id": "YJtEWEeBxF9h",
        "colab_type": "code",
        "colab": {}
      },
      "source": [
        "label_table1 = pd.DataFrame({'Predicted':y_pred_re1,'Actual':y_test_re})"
      ],
      "execution_count": 0,
      "outputs": []
    },
    {
      "cell_type": "code",
      "metadata": {
        "id": "sa_QitvZuSOv",
        "colab_type": "code",
        "colab": {}
      },
      "source": [
        "clf2.fit(x_train,y_train)\n",
        "print(\"This is the best score :\",clf2.best_score_)\n",
        "print(\"This are the best parameters:\",clf2.best_params_)\n",
        "print(\"This is the best estimator:\",clf2.best_estimator_)"
      ],
      "execution_count": 0,
      "outputs": []
    },
    {
      "cell_type": "code",
      "metadata": {
        "id": "9z0_s9qY_vnp",
        "colab_type": "code",
        "colab": {}
      },
      "source": [
        "lr2 = clf2.best_estimator_\n",
        "lr2.fit(x_train,y_train)"
      ],
      "execution_count": 0,
      "outputs": []
    },
    {
      "cell_type": "code",
      "metadata": {
        "id": "kCy76s3jxOO_",
        "colab_type": "code",
        "colab": {}
      },
      "source": [
        "y_pred2 = lr2.predict(x_test)"
      ],
      "execution_count": 0,
      "outputs": []
    },
    {
      "cell_type": "code",
      "metadata": {
        "id": "xcvg1JctxOJ1",
        "colab_type": "code",
        "colab": {}
      },
      "source": [
        "from sklearn.metrics import hamming_loss, accuracy_score,classification_report\n",
        "print(\"Model accuracy is:\", lr2.score(x_train,y_train))\n",
        "print(\"Accuracy is:\",accuracy_score(y_test,y_pred2))\n",
        "print(\"Hamming_loss:\", hamming_loss(y_test, y_pred2))\n",
        "report2 = classification_report(y_test,y_pred2)\n",
        "print(report2)"
      ],
      "execution_count": 0,
      "outputs": []
    },
    {
      "cell_type": "code",
      "metadata": {
        "id": "iVKHTMrVxOGc",
        "colab_type": "code",
        "colab": {}
      },
      "source": [
        "y_pred_re2 = mlb.inverse_transform(y_pred2)"
      ],
      "execution_count": 0,
      "outputs": []
    },
    {
      "cell_type": "code",
      "metadata": {
        "id": "aRF6zJbnxapg",
        "colab_type": "code",
        "colab": {}
      },
      "source": [
        "label_table2 = pd.DataFrame({'Predicted':y_pred_re2,'Actual':y_test_re})"
      ],
      "execution_count": 0,
      "outputs": []
    },
    {
      "cell_type": "code",
      "metadata": {
        "id": "74zkpxmcCjNP",
        "colab_type": "code",
        "colab": {}
      },
      "source": [
        "label_table2.head()"
      ],
      "execution_count": 0,
      "outputs": []
    }
  ]
}