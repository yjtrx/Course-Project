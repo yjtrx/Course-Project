{
  "nbformat": 4,
  "nbformat_minor": 0,
  "metadata": {
    "colab": {
      "name": "time_series_prediction_lstm_melbourne_daily_temprature_data_questions.ipynb",
      "provenance": [],
      "collapsed_sections": []
    },
    "kernelspec": {
      "display_name": "Python 3",
      "language": "python",
      "name": "python3"
    },
    "language_info": {
      "codemirror_mode": {
        "name": "ipython",
        "version": 3
      },
      "file_extension": ".py",
      "mimetype": "text/x-python",
      "name": "python",
      "nbconvert_exporter": "python",
      "pygments_lexer": "ipython3",
      "version": "3.7.1"
    }
  },
  "cells": [
    {
      "cell_type": "markdown",
      "metadata": {
        "id": "IbZbsqNJabWh",
        "colab_type": "text"
      },
      "source": [
        "## Time Series Prediction using LSTM"
      ]
    },
    {
      "cell_type": "markdown",
      "metadata": {
        "id": "CAiBthGvabWj",
        "colab_type": "text"
      },
      "source": [
        "### Download Data\n",
        "Link: https://datamarket.com/data/set/2324/daily-minimum-temperatures-in-melbourne-australia-1981-1990#!ds=2324&display=line\n",
        "\n",
        "#### Description\n",
        "Daily minimum temperatures in Melbourne, Australia, 1981-1990\n",
        "\n",
        "Units: Degrees Celcius\n",
        "\n",
        "#### Steps before loading\n",
        "- Rename the column name with temprature values to \"Temprature\"\n",
        "- In the last, there is one extra row in the data, remove it by opening the file and save it again.\n",
        "- There are some values in Temprature column which have a \"?\" before them, they will give error, remove \"?\" before them and save the file\n",
        "- If you don't want to do these steps, just load the data file given by Great Learning."
      ]
    },
    {
      "cell_type": "markdown",
      "metadata": {
        "id": "WNvljPm6abWk",
        "colab_type": "text"
      },
      "source": [
        "#### Mount google drive"
      ]
    },
    {
      "cell_type": "code",
      "metadata": {
        "colab_type": "code",
        "id": "VjoLRSg57qlt",
        "outputId": "0fb7ba09-1812-45a8-c68d-3ac6bf534472",
        "colab": {
          "base_uri": "https://localhost:8080/",
          "height": 34
        }
      },
      "source": [
        "from google.colab import drive\n",
        "drive.mount('/content/drive/')"
      ],
      "execution_count": 0,
      "outputs": [
        {
          "output_type": "stream",
          "text": [
            "Drive already mounted at /content/drive/; to attempt to forcibly remount, call drive.mount(\"/content/drive/\", force_remount=True).\n"
          ],
          "name": "stdout"
        }
      ]
    },
    {
      "cell_type": "markdown",
      "metadata": {
        "id": "zRXNPR_mabWo",
        "colab_type": "text"
      },
      "source": [
        "#### Change your present working directory"
      ]
    },
    {
      "cell_type": "code",
      "metadata": {
        "id": "w2VQGaxKabWp",
        "colab_type": "code",
        "colab": {}
      },
      "source": [
        "import os\n",
        "os.chdir('/content/drive/My Drive/AI/Labs/Internal/9th/')"
      ],
      "execution_count": 0,
      "outputs": []
    },
    {
      "cell_type": "code",
      "metadata": {
        "id": "OWT2nq-xbHKi",
        "colab_type": "code",
        "outputId": "313f19d5-c99a-4c36-930e-625abe1816f4",
        "colab": {
          "base_uri": "https://localhost:8080/",
          "height": 34
        }
      },
      "source": [
        "os.getcwd()"
      ],
      "execution_count": 0,
      "outputs": [
        {
          "output_type": "execute_result",
          "data": {
            "text/plain": [
              "'/content/drive/My Drive/AI/Labs/Internal/9th'"
            ]
          },
          "metadata": {
            "tags": []
          },
          "execution_count": 146
        }
      ]
    },
    {
      "cell_type": "markdown",
      "metadata": {
        "id": "QCHHxmuHabWs",
        "colab_type": "text"
      },
      "source": [
        "### Load your data file"
      ]
    },
    {
      "cell_type": "code",
      "metadata": {
        "colab_type": "code",
        "id": "AanHqGBu7Jw2",
        "colab": {}
      },
      "source": [
        "import pandas as pd\n",
        "df = pd.read_csv('/content/drive/My Drive/AI/Labs/Internal/9th/daily-minimum-temperatures-in-me.csv')"
      ],
      "execution_count": 0,
      "outputs": []
    },
    {
      "cell_type": "code",
      "metadata": {
        "id": "ozex3eImbo6l",
        "colab_type": "code",
        "outputId": "e7aa2615-ff5c-4fab-b7ff-556005cae336",
        "colab": {
          "base_uri": "https://localhost:8080/",
          "height": 198
        }
      },
      "source": [
        "df.head(5)"
      ],
      "execution_count": 0,
      "outputs": [
        {
          "output_type": "execute_result",
          "data": {
            "text/html": [
              "<div>\n",
              "<style scoped>\n",
              "    .dataframe tbody tr th:only-of-type {\n",
              "        vertical-align: middle;\n",
              "    }\n",
              "\n",
              "    .dataframe tbody tr th {\n",
              "        vertical-align: top;\n",
              "    }\n",
              "\n",
              "    .dataframe thead th {\n",
              "        text-align: right;\n",
              "    }\n",
              "</style>\n",
              "<table border=\"1\" class=\"dataframe\">\n",
              "  <thead>\n",
              "    <tr style=\"text-align: right;\">\n",
              "      <th></th>\n",
              "      <th>Date</th>\n",
              "      <th>Temperature</th>\n",
              "    </tr>\n",
              "  </thead>\n",
              "  <tbody>\n",
              "    <tr>\n",
              "      <th>0</th>\n",
              "      <td>1981-01-01</td>\n",
              "      <td>20.7</td>\n",
              "    </tr>\n",
              "    <tr>\n",
              "      <th>1</th>\n",
              "      <td>1981-01-02</td>\n",
              "      <td>17.9</td>\n",
              "    </tr>\n",
              "    <tr>\n",
              "      <th>2</th>\n",
              "      <td>1981-01-03</td>\n",
              "      <td>18.8</td>\n",
              "    </tr>\n",
              "    <tr>\n",
              "      <th>3</th>\n",
              "      <td>1981-01-04</td>\n",
              "      <td>14.6</td>\n",
              "    </tr>\n",
              "    <tr>\n",
              "      <th>4</th>\n",
              "      <td>1981-01-05</td>\n",
              "      <td>15.8</td>\n",
              "    </tr>\n",
              "  </tbody>\n",
              "</table>\n",
              "</div>"
            ],
            "text/plain": [
              "         Date  Temperature\n",
              "0  1981-01-01         20.7\n",
              "1  1981-01-02         17.9\n",
              "2  1981-01-03         18.8\n",
              "3  1981-01-04         14.6\n",
              "4  1981-01-05         15.8"
            ]
          },
          "metadata": {
            "tags": []
          },
          "execution_count": 169
        }
      ]
    },
    {
      "cell_type": "markdown",
      "metadata": {
        "id": "p0UCI4x3abWv",
        "colab_type": "text"
      },
      "source": [
        "#### Plot data"
      ]
    },
    {
      "cell_type": "code",
      "metadata": {
        "id": "EjTBgKX-abWv",
        "colab_type": "code",
        "outputId": "7417a393-b703-4a54-9e42-1b13fac74f62",
        "colab": {
          "base_uri": "https://localhost:8080/",
          "height": 312
        }
      },
      "source": [
        "import matplotlib.pyplot as plt\n",
        "plt.plot(df['Date'],df['Temperature'])\n",
        "plt.xlabel('Dates')\n",
        "plt.ylabel('Temperature')\n",
        "plt.title('A time-series graph of Temperature')"
      ],
      "execution_count": 0,
      "outputs": [
        {
          "output_type": "execute_result",
          "data": {
            "text/plain": [
              "Text(0.5, 1.0, 'A time-series graph of Temperature')"
            ]
          },
          "metadata": {
            "tags": []
          },
          "execution_count": 170
        },
        {
          "output_type": "display_data",
          "data": {
            "image/png": "[encoded data removed]",
            "text/plain": [
              "<Figure size 432x288 with 1 Axes>"
            ]
          },
          "metadata": {
            "tags": []
          }
        }
      ]
    },
    {
      "cell_type": "markdown",
      "metadata": {
        "id": "8RZY5Q--abWy",
        "colab_type": "text"
      },
      "source": [
        "#### Descibe your dataframe"
      ]
    },
    {
      "cell_type": "code",
      "metadata": {
        "colab_type": "code",
        "id": "oBWNA_kG7JxC",
        "outputId": "6d5aa833-32c5-44a8-fe3d-1c0641dab7b7",
        "colab": {
          "base_uri": "https://localhost:8080/",
          "height": 288
        }
      },
      "source": [
        "df.describe()"
      ],
      "execution_count": 0,
      "outputs": [
        {
          "output_type": "execute_result",
          "data": {
            "text/html": [
              "<div>\n",
              "<style scoped>\n",
              "    .dataframe tbody tr th:only-of-type {\n",
              "        vertical-align: middle;\n",
              "    }\n",
              "\n",
              "    .dataframe tbody tr th {\n",
              "        vertical-align: top;\n",
              "    }\n",
              "\n",
              "    .dataframe thead th {\n",
              "        text-align: right;\n",
              "    }\n",
              "</style>\n",
              "<table border=\"1\" class=\"dataframe\">\n",
              "  <thead>\n",
              "    <tr style=\"text-align: right;\">\n",
              "      <th></th>\n",
              "      <th>Temperature</th>\n",
              "    </tr>\n",
              "  </thead>\n",
              "  <tbody>\n",
              "    <tr>\n",
              "      <th>count</th>\n",
              "      <td>3650.000000</td>\n",
              "    </tr>\n",
              "    <tr>\n",
              "      <th>mean</th>\n",
              "      <td>11.177753</td>\n",
              "    </tr>\n",
              "    <tr>\n",
              "      <th>std</th>\n",
              "      <td>4.071837</td>\n",
              "    </tr>\n",
              "    <tr>\n",
              "      <th>min</th>\n",
              "      <td>0.000000</td>\n",
              "    </tr>\n",
              "    <tr>\n",
              "      <th>25%</th>\n",
              "      <td>8.300000</td>\n",
              "    </tr>\n",
              "    <tr>\n",
              "      <th>50%</th>\n",
              "      <td>11.000000</td>\n",
              "    </tr>\n",
              "    <tr>\n",
              "      <th>75%</th>\n",
              "      <td>14.000000</td>\n",
              "    </tr>\n",
              "    <tr>\n",
              "      <th>max</th>\n",
              "      <td>26.300000</td>\n",
              "    </tr>\n",
              "  </tbody>\n",
              "</table>\n",
              "</div>"
            ],
            "text/plain": [
              "       Temperature\n",
              "count  3650.000000\n",
              "mean     11.177753\n",
              "std       4.071837\n",
              "min       0.000000\n",
              "25%       8.300000\n",
              "50%      11.000000\n",
              "75%      14.000000\n",
              "max      26.300000"
            ]
          },
          "metadata": {
            "tags": []
          },
          "execution_count": 171
        }
      ]
    },
    {
      "cell_type": "code",
      "metadata": {
        "id": "JcYKNR9CIXs6",
        "colab_type": "code",
        "outputId": "34be8a09-3a6a-495a-80bc-9f5f1c08faf8",
        "colab": {
          "base_uri": "https://localhost:8080/",
          "height": 282
        }
      },
      "source": [
        "df.boxplot(column='Temperature')"
      ],
      "execution_count": 0,
      "outputs": [
        {
          "output_type": "execute_result",
          "data": {
            "text/plain": [
              "<matplotlib.axes._subplots.AxesSubplot at 0x7f45a70d67f0>"
            ]
          },
          "metadata": {
            "tags": []
          },
          "execution_count": 172
        },
        {
          "output_type": "display_data",
          "data": {
            "image/png": "[encoded data removed]",
            "text/plain": [
              "<Figure size 432x288 with 1 Axes>"
            ]
          },
          "metadata": {
            "tags": []
          }
        }
      ]
    },
    {
      "cell_type": "markdown",
      "metadata": {
        "id": "wN-AbjxIabW1",
        "colab_type": "text"
      },
      "source": [
        "#### Check for null values"
      ]
    },
    {
      "cell_type": "code",
      "metadata": {
        "colab_type": "code",
        "id": "97MVIy_N7JxH",
        "outputId": "d3661599-14b3-406c-ab9b-4f7ed15d6db6",
        "colab": {
          "base_uri": "https://localhost:8080/",
          "height": 69
        }
      },
      "source": [
        "df.isnull().sum()"
      ],
      "execution_count": 0,
      "outputs": [
        {
          "output_type": "execute_result",
          "data": {
            "text/plain": [
              "Date           0\n",
              "Temperature    0\n",
              "dtype: int64"
            ]
          },
          "metadata": {
            "tags": []
          },
          "execution_count": 173
        }
      ]
    },
    {
      "cell_type": "markdown",
      "metadata": {
        "id": "l3YNAKlrabW4",
        "colab_type": "text"
      },
      "source": [
        "#### Drop null values"
      ]
    },
    {
      "cell_type": "code",
      "metadata": {
        "colab_type": "code",
        "id": "fgh7mdOI7JxS",
        "colab": {}
      },
      "source": [
        "#Since no null values are present not dropping any null values"
      ],
      "execution_count": 0,
      "outputs": []
    },
    {
      "cell_type": "markdown",
      "metadata": {
        "id": "ZUJOqJWhabW8",
        "colab_type": "text"
      },
      "source": [
        "#### Get the representation of the distribution of data in the form of histogram"
      ]
    },
    {
      "cell_type": "code",
      "metadata": {
        "colab_type": "code",
        "id": "659sLAx27Jxc",
        "outputId": "35eae080-b377-40ff-8eb0-c7ce2830727c",
        "colab": {
          "base_uri": "https://localhost:8080/",
          "height": 334
        }
      },
      "source": [
        "plt.hist(df['Temperature'])"
      ],
      "execution_count": 0,
      "outputs": [
        {
          "output_type": "execute_result",
          "data": {
            "text/plain": [
              "(array([ 53., 181., 564., 862., 830., 670., 347., 102.,  32.,   9.]),\n",
              " array([ 0.  ,  2.63,  5.26,  7.89, 10.52, 13.15, 15.78, 18.41, 21.04,\n",
              "        23.67, 26.3 ]),\n",
              " <a list of 10 Patch objects>)"
            ]
          },
          "metadata": {
            "tags": []
          },
          "execution_count": 175
        },
        {
          "output_type": "display_data",
          "data": {
            "image/png": "[encoded data removed]",
            "text/plain": [
              "<Figure size 432x288 with 1 Axes>"
            ]
          },
          "metadata": {
            "tags": []
          }
        }
      ]
    },
    {
      "cell_type": "markdown",
      "metadata": {
        "id": "XuP11giiabW-",
        "colab_type": "text"
      },
      "source": [
        "#### Check the maximum and minimum values"
      ]
    },
    {
      "cell_type": "code",
      "metadata": {
        "colab_type": "code",
        "id": "WmkjCx8c7Jxn",
        "outputId": "2e7512e1-0764-464e-a04e-a627e82c2d0b",
        "colab": {
          "base_uri": "https://localhost:8080/",
          "height": 121
        }
      },
      "source": [
        "print(\"the maximum value is :\",df.max())\n",
        "print(\"The minimum value is :\",df.min())"
      ],
      "execution_count": 0,
      "outputs": [
        {
          "output_type": "stream",
          "text": [
            "the maximum value is : Date           1990-12-31\n",
            "Temperature          26.3\n",
            "dtype: object\n",
            "The minimum value is : Date           1981-01-01\n",
            "Temperature             0\n",
            "dtype: object\n"
          ],
          "name": "stdout"
        }
      ]
    },
    {
      "cell_type": "markdown",
      "metadata": {
        "id": "JVSE0Mb4abXB",
        "colab_type": "text"
      },
      "source": [
        "### Normalize the data"
      ]
    },
    {
      "cell_type": "code",
      "metadata": {
        "id": "78QPFMSTUYqZ",
        "colab_type": "code",
        "colab": {}
      },
      "source": [
        "df1 = df.copy()"
      ],
      "execution_count": 0,
      "outputs": []
    },
    {
      "cell_type": "code",
      "metadata": {
        "id": "6qINfBlKHPG4",
        "colab_type": "code",
        "colab": {}
      },
      "source": [
        "df.drop(columns='Date',inplace = True)"
      ],
      "execution_count": 0,
      "outputs": []
    },
    {
      "cell_type": "code",
      "metadata": {
        "id": "VVWTwgRtIpwV",
        "colab_type": "code",
        "outputId": "eb78b76b-69da-4cb3-e851-532672e86553",
        "colab": {
          "base_uri": "https://localhost:8080/",
          "height": 34
        }
      },
      "source": [
        "df.shape"
      ],
      "execution_count": 0,
      "outputs": [
        {
          "output_type": "execute_result",
          "data": {
            "text/plain": [
              "(3650, 1)"
            ]
          },
          "metadata": {
            "tags": []
          },
          "execution_count": 179
        }
      ]
    },
    {
      "cell_type": "code",
      "metadata": {
        "id": "uendU-ldhWpK",
        "colab_type": "code",
        "colab": {}
      },
      "source": [
        "import numpy as np"
      ],
      "execution_count": 0,
      "outputs": []
    },
    {
      "cell_type": "code",
      "metadata": {
        "id": "8ojD3vuEh0KV",
        "colab_type": "code",
        "colab": {}
      },
      "source": [
        "#df['Temperature'].values.shape"
      ],
      "execution_count": 0,
      "outputs": []
    },
    {
      "cell_type": "code",
      "metadata": {
        "id": "9WsvZrLlhRGI",
        "colab_type": "code",
        "colab": {}
      },
      "source": [
        "#df1 = np.expand_dims(df['Temperature'],axis=1)\n",
        "#df1.shape"
      ],
      "execution_count": 0,
      "outputs": []
    },
    {
      "cell_type": "code",
      "metadata": {
        "colab_type": "code",
        "id": "fb4SNzD27Jxw",
        "colab": {}
      },
      "source": [
        "from sklearn.preprocessing import MinMaxScaler\n",
        "scale = MinMaxScaler()\n",
        "df = scale.fit_transform(df)"
      ],
      "execution_count": 0,
      "outputs": []
    },
    {
      "cell_type": "markdown",
      "metadata": {
        "id": "k_AQ7fm8abXE",
        "colab_type": "text"
      },
      "source": [
        "#### Check the maximum and minimum values of scaled data"
      ]
    },
    {
      "cell_type": "code",
      "metadata": {
        "colab_type": "code",
        "id": "clv2rSfL7Jx4",
        "outputId": "ef5ebefc-ef87-487c-fee5-c9983dcf74c7",
        "colab": {
          "base_uri": "https://localhost:8080/",
          "height": 34
        }
      },
      "source": [
        "df.max()"
      ],
      "execution_count": 0,
      "outputs": [
        {
          "output_type": "execute_result",
          "data": {
            "text/plain": [
              "1.0"
            ]
          },
          "metadata": {
            "tags": []
          },
          "execution_count": 184
        }
      ]
    },
    {
      "cell_type": "code",
      "metadata": {
        "id": "LjVuRzrliPr-",
        "colab_type": "code",
        "outputId": "5b177dfa-1ac4-46c7-da22-c5e4b38b5e4c",
        "colab": {
          "base_uri": "https://localhost:8080/",
          "height": 34
        }
      },
      "source": [
        "df.min()"
      ],
      "execution_count": 0,
      "outputs": [
        {
          "output_type": "execute_result",
          "data": {
            "text/plain": [
              "0.0"
            ]
          },
          "metadata": {
            "tags": []
          },
          "execution_count": 185
        }
      ]
    },
    {
      "cell_type": "markdown",
      "metadata": {
        "id": "bcfTvfvYabXH",
        "colab_type": "text"
      },
      "source": [
        "#### Look into some of the scaled values"
      ]
    },
    {
      "cell_type": "code",
      "metadata": {
        "colab_type": "code",
        "id": "Xq9CBinO7Jx9",
        "outputId": "d4a40b32-2a68-48a0-88e7-e1e7725afb67",
        "colab": {
          "base_uri": "https://localhost:8080/",
          "height": 138
        }
      },
      "source": [
        "df"
      ],
      "execution_count": 0,
      "outputs": [
        {
          "output_type": "execute_result",
          "data": {
            "text/plain": [
              "array([[0.78707224],\n",
              "       [0.68060837],\n",
              "       [0.7148289 ],\n",
              "       ...,\n",
              "       [0.51330798],\n",
              "       [0.59695817],\n",
              "       [0.49429658]])"
            ]
          },
          "metadata": {
            "tags": []
          },
          "execution_count": 186
        }
      ]
    },
    {
      "cell_type": "code",
      "metadata": {
        "id": "dxGF_qIer1FB",
        "colab_type": "code",
        "outputId": "bb709fef-f711-4724-bc3f-706be82acf6c",
        "colab": {
          "base_uri": "https://localhost:8080/",
          "height": 34
        }
      },
      "source": [
        "df.shape"
      ],
      "execution_count": 0,
      "outputs": [
        {
          "output_type": "execute_result",
          "data": {
            "text/plain": [
              "(3650, 1)"
            ]
          },
          "metadata": {
            "tags": []
          },
          "execution_count": 187
        }
      ]
    },
    {
      "cell_type": "markdown",
      "metadata": {
        "id": "SBIhLnY_abXK",
        "colab_type": "text"
      },
      "source": [
        "### Split data into Training and Testing"
      ]
    },
    {
      "cell_type": "code",
      "metadata": {
        "id": "1h1Z2uVblcVJ",
        "colab_type": "code",
        "outputId": "7af0985b-05c1-4012-f31c-63d70ad00c39",
        "colab": {
          "base_uri": "https://localhost:8080/",
          "height": 34
        }
      },
      "source": [
        "j = int(len(df)*0.7)\n",
        "print(j)"
      ],
      "execution_count": 0,
      "outputs": [
        {
          "output_type": "stream",
          "text": [
            "2555\n"
          ],
          "name": "stdout"
        }
      ]
    },
    {
      "cell_type": "code",
      "metadata": {
        "colab_type": "code",
        "id": "-0Uh7lCO7JyD",
        "colab": {}
      },
      "source": [
        "for i in range(j):\n",
        "   train_set = df[:i,:]\n",
        "   test_set = df[len(train_set):,:]"
      ],
      "execution_count": 0,
      "outputs": []
    },
    {
      "cell_type": "code",
      "metadata": {
        "id": "zhj2JHUAqUKA",
        "colab_type": "code",
        "outputId": "9a7aa48f-9f2d-44b0-fa70-3c1870504b56",
        "colab": {
          "base_uri": "https://localhost:8080/",
          "height": 138
        }
      },
      "source": [
        "train_set"
      ],
      "execution_count": 0,
      "outputs": [
        {
          "output_type": "execute_result",
          "data": {
            "text/plain": [
              "array([[0.78707224],\n",
              "       [0.68060837],\n",
              "       [0.7148289 ],\n",
              "       ...,\n",
              "       [0.53992395],\n",
              "       [0.54372624],\n",
              "       [0.50570342]])"
            ]
          },
          "metadata": {
            "tags": []
          },
          "execution_count": 190
        }
      ]
    },
    {
      "cell_type": "code",
      "metadata": {
        "id": "tzjE9z6YrfUx",
        "colab_type": "code",
        "outputId": "cd1a9cb4-2dea-48ae-951e-b8884b5d04a2",
        "colab": {
          "base_uri": "https://localhost:8080/",
          "height": 138
        }
      },
      "source": [
        "test_set"
      ],
      "execution_count": 0,
      "outputs": [
        {
          "output_type": "execute_result",
          "data": {
            "text/plain": [
              "array([[0.63498099],\n",
              "       [0.58174905],\n",
              "       [0.54372624],\n",
              "       ...,\n",
              "       [0.51330798],\n",
              "       [0.59695817],\n",
              "       [0.49429658]])"
            ]
          },
          "metadata": {
            "tags": []
          },
          "execution_count": 191
        }
      ]
    },
    {
      "cell_type": "markdown",
      "metadata": {
        "id": "bdP4H_XuabXN",
        "colab_type": "text"
      },
      "source": [
        "#### Print train and test size"
      ]
    },
    {
      "cell_type": "code",
      "metadata": {
        "id": "5zaNtExXabXO",
        "colab_type": "code",
        "outputId": "af2a5417-9db2-4704-e2c1-db2f59e1fcc6",
        "colab": {
          "base_uri": "https://localhost:8080/",
          "height": 34
        }
      },
      "source": [
        "train_set.size"
      ],
      "execution_count": 0,
      "outputs": [
        {
          "output_type": "execute_result",
          "data": {
            "text/plain": [
              "2554"
            ]
          },
          "metadata": {
            "tags": []
          },
          "execution_count": 192
        }
      ]
    },
    {
      "cell_type": "code",
      "metadata": {
        "id": "EnwqhkWLr7Ch",
        "colab_type": "code",
        "outputId": "848bb919-2d13-4d03-851d-099dd7afaa29",
        "colab": {
          "base_uri": "https://localhost:8080/",
          "height": 34
        }
      },
      "source": [
        "train_set.shape"
      ],
      "execution_count": 0,
      "outputs": [
        {
          "output_type": "execute_result",
          "data": {
            "text/plain": [
              "(2554, 1)"
            ]
          },
          "metadata": {
            "tags": []
          },
          "execution_count": 193
        }
      ]
    },
    {
      "cell_type": "code",
      "metadata": {
        "id": "-jESKSm3rom3",
        "colab_type": "code",
        "outputId": "2c1848e7-678c-4bc2-914c-e34ffc66bc44",
        "colab": {
          "base_uri": "https://localhost:8080/",
          "height": 34
        }
      },
      "source": [
        "test_set.size"
      ],
      "execution_count": 0,
      "outputs": [
        {
          "output_type": "execute_result",
          "data": {
            "text/plain": [
              "1096"
            ]
          },
          "metadata": {
            "tags": []
          },
          "execution_count": 194
        }
      ]
    },
    {
      "cell_type": "code",
      "metadata": {
        "id": "LYqPGtPPr-Cq",
        "colab_type": "code",
        "outputId": "a7a2d8ef-abf6-42d7-c781-f1532449a654",
        "colab": {
          "base_uri": "https://localhost:8080/",
          "height": 34
        }
      },
      "source": [
        "test_set.shape"
      ],
      "execution_count": 0,
      "outputs": [
        {
          "output_type": "execute_result",
          "data": {
            "text/plain": [
              "(1096, 1)"
            ]
          },
          "metadata": {
            "tags": []
          },
          "execution_count": 195
        }
      ]
    },
    {
      "cell_type": "markdown",
      "metadata": {
        "id": "KlAZUOk2abXQ",
        "colab_type": "text"
      },
      "source": [
        "## Create the sequential data\n",
        "Map the temprature at a particular time t to the temprature at time t+n, where n is any number you define.\n",
        "\n",
        "For example: to map tempratures of consecutive days, use t+1, i.e. loop_back = 1"
      ]
    },
    {
      "cell_type": "markdown",
      "metadata": {
        "id": "_hQ3yQn9abXS",
        "colab_type": "text"
      },
      "source": [
        "#### Define your function to create dataset"
      ]
    },
    {
      "cell_type": "code",
      "metadata": {
        "colab_type": "code",
        "id": "jWIvInPB7JyK",
        "colab": {}
      },
      "source": [
        "#window - how long the sequence will be\n",
        "def create_dataset(dataset, window=1):\n",
        "    \n",
        "    dataX, dataY = [], []\n",
        "    \n",
        "    for i in range(len(dataset)-window):\n",
        "        \n",
        "        a = dataset[i:(i+window), 0]        \n",
        "        dataX.append(a)\n",
        "        dataY.append(dataset[i + window, 0])\n",
        "    \n",
        "    return np.array(dataX), np.array(dataY)"
      ],
      "execution_count": 0,
      "outputs": []
    },
    {
      "cell_type": "code",
      "metadata": {
        "id": "C74Mpm0QFqeP",
        "colab_type": "code",
        "colab": {}
      },
      "source": [
        "X_train,y_train=create_dataset(train_set,1)\n",
        "X_test,y_test=create_dataset(test_set,1)"
      ],
      "execution_count": 0,
      "outputs": []
    },
    {
      "cell_type": "markdown",
      "metadata": {
        "id": "j0MrZfT0abXW",
        "colab_type": "text"
      },
      "source": [
        "#### Use function to get training and test set"
      ]
    },
    {
      "cell_type": "markdown",
      "metadata": {
        "id": "T3gaOp6cabXZ",
        "colab_type": "text"
      },
      "source": [
        "#### Transform the prepared train and test input data into the expected structure using numpy.reshape()"
      ]
    },
    {
      "cell_type": "code",
      "metadata": {
        "colab_type": "code",
        "id": "UJZ4VB4N7JyV",
        "colab": {}
      },
      "source": [
        "x_train = np.reshape(X_train,(X_train.shape[0],1,1))\n",
        "x_test = np.reshape(X_test,(X_test.shape[0],1,1))"
      ],
      "execution_count": 0,
      "outputs": []
    },
    {
      "cell_type": "markdown",
      "metadata": {
        "id": "LuwgA4OVabXc",
        "colab_type": "text"
      },
      "source": [
        "## Define Model"
      ]
    },
    {
      "cell_type": "markdown",
      "metadata": {
        "id": "gkTOQlK6abXd",
        "colab_type": "text"
      },
      "source": [
        "### Define sequntial model, add LSTM layer and compile the model"
      ]
    },
    {
      "cell_type": "code",
      "metadata": {
        "colab_type": "code",
        "id": "yRW-Txvt7Jya",
        "colab": {}
      },
      "source": [
        "from tensorflow.keras import Sequential\n",
        "from tensorflow.keras.layers import Dense,LSTM,BatchNormalization\n",
        "seq = Sequential()\n",
        "seq.add(LSTM(32,input_shape=(1,1)))\n",
        "seq.add(BatchNormalization())\n",
        "seq.add(Dense(1))"
      ],
      "execution_count": 0,
      "outputs": []
    },
    {
      "cell_type": "code",
      "metadata": {
        "id": "qOuf01cuMs_8",
        "colab_type": "code",
        "colab": {}
      },
      "source": [
        "seq.compile(optimizer='adam',loss='mse')"
      ],
      "execution_count": 0,
      "outputs": []
    },
    {
      "cell_type": "markdown",
      "metadata": {
        "id": "Me1athadabXf",
        "colab_type": "text"
      },
      "source": [
        "### Summarize your model"
      ]
    },
    {
      "cell_type": "code",
      "metadata": {
        "id": "XQjeWe1XabXg",
        "colab_type": "code",
        "outputId": "a8eb442a-60cb-4ca1-febf-e6f0d4340763",
        "colab": {
          "base_uri": "https://localhost:8080/",
          "height": 259
        }
      },
      "source": [
        "seq.summary()"
      ],
      "execution_count": 0,
      "outputs": [
        {
          "output_type": "stream",
          "text": [
            "Model: \"sequential_3\"\n",
            "_________________________________________________________________\n",
            "Layer (type)                 Output Shape              Param #   \n",
            "=================================================================\n",
            "lstm_3 (LSTM)                (None, 32)                4352      \n",
            "_________________________________________________________________\n",
            "batch_normalization_2 (Batch (None, 32)                128       \n",
            "_________________________________________________________________\n",
            "dense_2 (Dense)              (None, 1)                 33        \n",
            "=================================================================\n",
            "Total params: 4,513\n",
            "Trainable params: 4,449\n",
            "Non-trainable params: 64\n",
            "_________________________________________________________________\n"
          ],
          "name": "stdout"
        }
      ]
    },
    {
      "cell_type": "markdown",
      "metadata": {
        "id": "s57RGtV2abXi",
        "colab_type": "text"
      },
      "source": [
        "### Train the model"
      ]
    },
    {
      "cell_type": "code",
      "metadata": {
        "id": "l1w7ckhxabXi",
        "colab_type": "code",
        "outputId": "2b45dd39-b56e-441d-c986-b7a525cd2e18",
        "colab": {
          "base_uri": "https://localhost:8080/",
          "height": 1000
        }
      },
      "source": [
        "seq.fit(x_train,y_train,validation_data=(x_test,y_test),epochs = 80)"
      ],
      "execution_count": 0,
      "outputs": [
        {
          "output_type": "stream",
          "text": [
            "Train on 2553 samples, validate on 1095 samples\n",
            "Epoch 1/80\n",
            "2553/2553 [==============================] - 2s 701us/sample - loss: 0.0541 - val_loss: 0.0218\n",
            "Epoch 2/80\n",
            "2553/2553 [==============================] - 0s 105us/sample - loss: 0.0105 - val_loss: 0.0219\n",
            "Epoch 3/80\n",
            "2553/2553 [==============================] - 0s 114us/sample - loss: 0.0105 - val_loss: 0.0202\n",
            "Epoch 4/80\n",
            "2553/2553 [==============================] - 0s 110us/sample - loss: 0.0104 - val_loss: 0.0197\n",
            "Epoch 5/80\n",
            "2553/2553 [==============================] - 0s 108us/sample - loss: 0.0103 - val_loss: 0.0174\n",
            "Epoch 6/80\n",
            "2553/2553 [==============================] - 0s 108us/sample - loss: 0.0107 - val_loss: 0.0156\n",
            "Epoch 7/80\n",
            "2553/2553 [==============================] - 0s 103us/sample - loss: 0.0105 - val_loss: 0.0132\n",
            "Epoch 8/80\n",
            "2553/2553 [==============================] - 0s 109us/sample - loss: 0.0103 - val_loss: 0.0114\n",
            "Epoch 9/80\n",
            "2553/2553 [==============================] - 0s 105us/sample - loss: 0.0107 - val_loss: 0.0123\n",
            "Epoch 10/80\n",
            "2553/2553 [==============================] - 0s 108us/sample - loss: 0.0105 - val_loss: 0.0094\n",
            "Epoch 11/80\n",
            "2553/2553 [==============================] - 0s 108us/sample - loss: 0.0104 - val_loss: 0.0111\n",
            "Epoch 12/80\n",
            "2553/2553 [==============================] - 0s 116us/sample - loss: 0.0107 - val_loss: 0.0096\n",
            "Epoch 13/80\n",
            "2553/2553 [==============================] - 0s 109us/sample - loss: 0.0105 - val_loss: 0.0108\n",
            "Epoch 14/80\n",
            "2553/2553 [==============================] - 0s 118us/sample - loss: 0.0106 - val_loss: 0.0089\n",
            "Epoch 15/80\n",
            "2553/2553 [==============================] - 0s 109us/sample - loss: 0.0105 - val_loss: 0.0089\n",
            "Epoch 16/80\n",
            "2553/2553 [==============================] - 0s 105us/sample - loss: 0.0108 - val_loss: 0.0090\n",
            "Epoch 17/80\n",
            "2553/2553 [==============================] - 0s 109us/sample - loss: 0.0105 - val_loss: 0.0088\n",
            "Epoch 18/80\n",
            "2553/2553 [==============================] - 0s 121us/sample - loss: 0.0105 - val_loss: 0.0090\n",
            "Epoch 19/80\n",
            "2553/2553 [==============================] - 0s 105us/sample - loss: 0.0104 - val_loss: 0.0093\n",
            "Epoch 20/80\n",
            "2553/2553 [==============================] - 0s 103us/sample - loss: 0.0105 - val_loss: 0.0090\n",
            "Epoch 21/80\n",
            "2553/2553 [==============================] - 0s 106us/sample - loss: 0.0106 - val_loss: 0.0087\n",
            "Epoch 22/80\n",
            "2553/2553 [==============================] - 0s 106us/sample - loss: 0.0106 - val_loss: 0.0087\n",
            "Epoch 23/80\n",
            "2553/2553 [==============================] - 0s 108us/sample - loss: 0.0103 - val_loss: 0.0094\n",
            "Epoch 24/80\n",
            "2553/2553 [==============================] - 0s 105us/sample - loss: 0.0104 - val_loss: 0.0102\n",
            "Epoch 25/80\n",
            "2553/2553 [==============================] - 0s 125us/sample - loss: 0.0108 - val_loss: 0.0088\n",
            "Epoch 26/80\n",
            "2553/2553 [==============================] - 0s 116us/sample - loss: 0.0105 - val_loss: 0.0087\n",
            "Epoch 27/80\n",
            "2553/2553 [==============================] - 0s 109us/sample - loss: 0.0105 - val_loss: 0.0095\n",
            "Epoch 28/80\n",
            "2553/2553 [==============================] - 0s 112us/sample - loss: 0.0107 - val_loss: 0.0088\n",
            "Epoch 29/80\n",
            "2553/2553 [==============================] - 0s 110us/sample - loss: 0.0107 - val_loss: 0.0095\n",
            "Epoch 30/80\n",
            "2553/2553 [==============================] - 0s 114us/sample - loss: 0.0105 - val_loss: 0.0109\n",
            "Epoch 31/80\n",
            "2553/2553 [==============================] - 0s 117us/sample - loss: 0.0107 - val_loss: 0.0090\n",
            "Epoch 32/80\n",
            "2553/2553 [==============================] - 0s 127us/sample - loss: 0.0104 - val_loss: 0.0090\n",
            "Epoch 33/80\n",
            "2553/2553 [==============================] - 0s 115us/sample - loss: 0.0105 - val_loss: 0.0087\n",
            "Epoch 34/80\n",
            "2553/2553 [==============================] - 0s 108us/sample - loss: 0.0105 - val_loss: 0.0091\n",
            "Epoch 35/80\n",
            "2553/2553 [==============================] - 0s 106us/sample - loss: 0.0104 - val_loss: 0.0104\n",
            "Epoch 36/80\n",
            "2553/2553 [==============================] - 0s 108us/sample - loss: 0.0106 - val_loss: 0.0088\n",
            "Epoch 37/80\n",
            "2553/2553 [==============================] - 0s 112us/sample - loss: 0.0108 - val_loss: 0.0088\n",
            "Epoch 38/80\n",
            "2553/2553 [==============================] - 0s 114us/sample - loss: 0.0105 - val_loss: 0.0088\n",
            "Epoch 39/80\n",
            "2553/2553 [==============================] - 0s 118us/sample - loss: 0.0104 - val_loss: 0.0089\n",
            "Epoch 40/80\n",
            "2553/2553 [==============================] - 0s 124us/sample - loss: 0.0105 - val_loss: 0.0093\n",
            "Epoch 41/80\n",
            "2553/2553 [==============================] - 0s 113us/sample - loss: 0.0106 - val_loss: 0.0101\n",
            "Epoch 42/80\n",
            "2553/2553 [==============================] - 0s 114us/sample - loss: 0.0105 - val_loss: 0.0094\n",
            "Epoch 43/80\n",
            "2553/2553 [==============================] - 0s 123us/sample - loss: 0.0105 - val_loss: 0.0097\n",
            "Epoch 44/80\n",
            "2553/2553 [==============================] - 0s 108us/sample - loss: 0.0107 - val_loss: 0.0087\n",
            "Epoch 45/80\n",
            "2553/2553 [==============================] - 0s 108us/sample - loss: 0.0108 - val_loss: 0.0087\n",
            "Epoch 46/80\n",
            "2553/2553 [==============================] - 0s 108us/sample - loss: 0.0107 - val_loss: 0.0096\n",
            "Epoch 47/80\n",
            "2553/2553 [==============================] - 0s 117us/sample - loss: 0.0104 - val_loss: 0.0088\n",
            "Epoch 48/80\n",
            "2553/2553 [==============================] - 0s 115us/sample - loss: 0.0105 - val_loss: 0.0087\n",
            "Epoch 49/80\n",
            "2553/2553 [==============================] - 0s 113us/sample - loss: 0.0111 - val_loss: 0.0092\n",
            "Epoch 50/80\n",
            "2553/2553 [==============================] - 0s 106us/sample - loss: 0.0106 - val_loss: 0.0087\n",
            "Epoch 51/80\n",
            "2553/2553 [==============================] - 0s 109us/sample - loss: 0.0105 - val_loss: 0.0098\n",
            "Epoch 52/80\n",
            "2553/2553 [==============================] - 0s 105us/sample - loss: 0.0107 - val_loss: 0.0090\n",
            "Epoch 53/80\n",
            "2553/2553 [==============================] - 0s 119us/sample - loss: 0.0109 - val_loss: 0.0096\n",
            "Epoch 54/80\n",
            "2553/2553 [==============================] - 0s 110us/sample - loss: 0.0104 - val_loss: 0.0088\n",
            "Epoch 55/80\n",
            "2553/2553 [==============================] - 0s 114us/sample - loss: 0.0106 - val_loss: 0.0102\n",
            "Epoch 56/80\n",
            "2553/2553 [==============================] - 0s 107us/sample - loss: 0.0107 - val_loss: 0.0087\n",
            "Epoch 57/80\n",
            "2553/2553 [==============================] - 0s 109us/sample - loss: 0.0107 - val_loss: 0.0096\n",
            "Epoch 58/80\n",
            "2553/2553 [==============================] - 0s 110us/sample - loss: 0.0105 - val_loss: 0.0093\n",
            "Epoch 59/80\n",
            "2553/2553 [==============================] - 0s 113us/sample - loss: 0.0103 - val_loss: 0.0088\n",
            "Epoch 60/80\n",
            "2553/2553 [==============================] - 0s 111us/sample - loss: 0.0104 - val_loss: 0.0092\n",
            "Epoch 61/80\n",
            "2553/2553 [==============================] - 0s 116us/sample - loss: 0.0105 - val_loss: 0.0087\n",
            "Epoch 62/80\n",
            "2553/2553 [==============================] - 0s 112us/sample - loss: 0.0107 - val_loss: 0.0093\n",
            "Epoch 63/80\n",
            "2553/2553 [==============================] - 0s 105us/sample - loss: 0.0105 - val_loss: 0.0090\n",
            "Epoch 64/80\n",
            "2553/2553 [==============================] - 0s 114us/sample - loss: 0.0104 - val_loss: 0.0093\n",
            "Epoch 65/80\n",
            "2553/2553 [==============================] - 0s 111us/sample - loss: 0.0107 - val_loss: 0.0095\n",
            "Epoch 66/80\n",
            "2553/2553 [==============================] - 0s 104us/sample - loss: 0.0108 - val_loss: 0.0089\n",
            "Epoch 67/80\n",
            "2553/2553 [==============================] - 0s 106us/sample - loss: 0.0103 - val_loss: 0.0096\n",
            "Epoch 68/80\n",
            "2553/2553 [==============================] - 0s 108us/sample - loss: 0.0106 - val_loss: 0.0091\n",
            "Epoch 69/80\n",
            "2553/2553 [==============================] - 0s 114us/sample - loss: 0.0106 - val_loss: 0.0093\n",
            "Epoch 70/80\n",
            "2553/2553 [==============================] - 0s 110us/sample - loss: 0.0107 - val_loss: 0.0088\n",
            "Epoch 71/80\n",
            "2553/2553 [==============================] - 0s 107us/sample - loss: 0.0107 - val_loss: 0.0089\n",
            "Epoch 72/80\n",
            "2553/2553 [==============================] - 0s 122us/sample - loss: 0.0107 - val_loss: 0.0087\n",
            "Epoch 73/80\n",
            "2553/2553 [==============================] - 0s 108us/sample - loss: 0.0103 - val_loss: 0.0087\n",
            "Epoch 74/80\n",
            "2553/2553 [==============================] - 0s 106us/sample - loss: 0.0105 - val_loss: 0.0087\n",
            "Epoch 75/80\n",
            "2553/2553 [==============================] - 0s 111us/sample - loss: 0.0106 - val_loss: 0.0088\n",
            "Epoch 76/80\n",
            "2553/2553 [==============================] - 0s 112us/sample - loss: 0.0106 - val_loss: 0.0089\n",
            "Epoch 77/80\n",
            "2553/2553 [==============================] - 0s 112us/sample - loss: 0.0106 - val_loss: 0.0088\n",
            "Epoch 78/80\n",
            "2553/2553 [==============================] - 0s 109us/sample - loss: 0.0106 - val_loss: 0.0089\n",
            "Epoch 79/80\n",
            "2553/2553 [==============================] - 0s 110us/sample - loss: 0.0105 - val_loss: 0.0087\n",
            "Epoch 80/80\n",
            "2553/2553 [==============================] - 0s 104us/sample - loss: 0.0105 - val_loss: 0.0088\n"
          ],
          "name": "stdout"
        },
        {
          "output_type": "execute_result",
          "data": {
            "text/plain": [
              "<tensorflow.python.keras.callbacks.History at 0x7f45a3ef92e8>"
            ]
          },
          "metadata": {
            "tags": []
          },
          "execution_count": 202
        }
      ]
    },
    {
      "cell_type": "markdown",
      "metadata": {
        "id": "Md9lLqAHabXk",
        "colab_type": "text"
      },
      "source": [
        "## Make Predictions and Evaluate your model"
      ]
    },
    {
      "cell_type": "code",
      "metadata": {
        "colab_type": "code",
        "id": "85Ip5wrq7Jyi",
        "colab": {}
      },
      "source": [
        "y_pred = seq.predict(x_test)"
      ],
      "execution_count": 0,
      "outputs": []
    },
    {
      "cell_type": "code",
      "metadata": {
        "id": "hkN4lkWwO02n",
        "colab_type": "code",
        "outputId": "907fd09d-1aeb-433a-8f5b-9b693521fde4",
        "colab": {
          "base_uri": "https://localhost:8080/",
          "height": 138
        }
      },
      "source": [
        "y_pred"
      ],
      "execution_count": 0,
      "outputs": [
        {
          "output_type": "execute_result",
          "data": {
            "text/plain": [
              "array([[0.5747679 ],\n",
              "       [0.53895164],\n",
              "       [0.5128933 ],\n",
              "       ...,\n",
              "       [0.49441943],\n",
              "       [0.4917648 ],\n",
              "       [0.54926455]], dtype=float32)"
            ]
          },
          "metadata": {
            "tags": []
          },
          "execution_count": 204
        }
      ]
    },
    {
      "cell_type": "code",
      "metadata": {
        "id": "-yRts1SQRpes",
        "colab_type": "code",
        "colab": {}
      },
      "source": [
        "y_pred = scale.inverse_transform(y_pred)"
      ],
      "execution_count": 0,
      "outputs": []
    },
    {
      "cell_type": "markdown",
      "metadata": {
        "id": "bMOzZu6VabXn",
        "colab_type": "text"
      },
      "source": [
        "## Plot the results"
      ]
    },
    {
      "cell_type": "code",
      "metadata": {
        "id": "DmQEG-XcXQHU",
        "colab_type": "code",
        "colab": {}
      },
      "source": [
        "df1.drop(columns='Date',inplace=True)"
      ],
      "execution_count": 0,
      "outputs": []
    },
    {
      "cell_type": "code",
      "metadata": {
        "id": "2UBGokqwXZnO",
        "colab_type": "code",
        "outputId": "9989c2d5-f8b9-4a6e-b0f9-73d4cf0da6f3",
        "colab": {
          "base_uri": "https://localhost:8080/",
          "height": 408
        }
      },
      "source": [
        "df1"
      ],
      "execution_count": 0,
      "outputs": [
        {
          "output_type": "execute_result",
          "data": {
            "text/html": [
              "<div>\n",
              "<style scoped>\n",
              "    .dataframe tbody tr th:only-of-type {\n",
              "        vertical-align: middle;\n",
              "    }\n",
              "\n",
              "    .dataframe tbody tr th {\n",
              "        vertical-align: top;\n",
              "    }\n",
              "\n",
              "    .dataframe thead th {\n",
              "        text-align: right;\n",
              "    }\n",
              "</style>\n",
              "<table border=\"1\" class=\"dataframe\">\n",
              "  <thead>\n",
              "    <tr style=\"text-align: right;\">\n",
              "      <th></th>\n",
              "      <th>Temperature</th>\n",
              "    </tr>\n",
              "  </thead>\n",
              "  <tbody>\n",
              "    <tr>\n",
              "      <th>0</th>\n",
              "      <td>20.7</td>\n",
              "    </tr>\n",
              "    <tr>\n",
              "      <th>1</th>\n",
              "      <td>17.9</td>\n",
              "    </tr>\n",
              "    <tr>\n",
              "      <th>2</th>\n",
              "      <td>18.8</td>\n",
              "    </tr>\n",
              "    <tr>\n",
              "      <th>3</th>\n",
              "      <td>14.6</td>\n",
              "    </tr>\n",
              "    <tr>\n",
              "      <th>4</th>\n",
              "      <td>15.8</td>\n",
              "    </tr>\n",
              "    <tr>\n",
              "      <th>...</th>\n",
              "      <td>...</td>\n",
              "    </tr>\n",
              "    <tr>\n",
              "      <th>3645</th>\n",
              "      <td>14.0</td>\n",
              "    </tr>\n",
              "    <tr>\n",
              "      <th>3646</th>\n",
              "      <td>13.6</td>\n",
              "    </tr>\n",
              "    <tr>\n",
              "      <th>3647</th>\n",
              "      <td>13.5</td>\n",
              "    </tr>\n",
              "    <tr>\n",
              "      <th>3648</th>\n",
              "      <td>15.7</td>\n",
              "    </tr>\n",
              "    <tr>\n",
              "      <th>3649</th>\n",
              "      <td>13.0</td>\n",
              "    </tr>\n",
              "  </tbody>\n",
              "</table>\n",
              "<p>3650 rows × 1 columns</p>\n",
              "</div>"
            ],
            "text/plain": [
              "      Temperature\n",
              "0            20.7\n",
              "1            17.9\n",
              "2            18.8\n",
              "3            14.6\n",
              "4            15.8\n",
              "...           ...\n",
              "3645         14.0\n",
              "3646         13.6\n",
              "3647         13.5\n",
              "3648         15.7\n",
              "3649         13.0\n",
              "\n",
              "[3650 rows x 1 columns]"
            ]
          },
          "metadata": {
            "tags": []
          },
          "execution_count": 207
        }
      ]
    },
    {
      "cell_type": "code",
      "metadata": {
        "id": "L6OyfPoTZtMz",
        "colab_type": "code",
        "colab": {}
      },
      "source": [
        "df2 = df1.iloc[2554:,:]"
      ],
      "execution_count": 0,
      "outputs": []
    },
    {
      "cell_type": "code",
      "metadata": {
        "id": "1t54Zi05ZyQ1",
        "colab_type": "code",
        "colab": {}
      },
      "source": [
        "df2.reset_index(drop=True,inplace=True)"
      ],
      "execution_count": 0,
      "outputs": []
    },
    {
      "cell_type": "code",
      "metadata": {
        "colab_type": "code",
        "id": "FHbIWp-D7Jyn",
        "outputId": "a7e07ad8-d0f6-4bba-fc1e-a3d315ebf433",
        "colab": {
          "base_uri": "https://localhost:8080/",
          "height": 286
        }
      },
      "source": [
        "plt.plot(df2)\n",
        "plt.plot(y_pred,'g')\n",
        "plt.legend(('Actual Data','Predicted'))"
      ],
      "execution_count": 237,
      "outputs": [
        {
          "output_type": "execute_result",
          "data": {
            "text/plain": [
              "<matplotlib.legend.Legend at 0x7f45a36c5908>"
            ]
          },
          "metadata": {
            "tags": []
          },
          "execution_count": 237
        },
        {
          "output_type": "display_data",
          "data": {
            "image/png": "[encoded data removed]",
            "text/plain": [
              "<Figure size 432x288 with 1 Axes>"
            ]
          },
          "metadata": {
            "tags": []
          }
        }
      ]
    },
    {
      "cell_type": "code",
      "metadata": {
        "id": "WzNPnEKcgKSD",
        "colab_type": "code",
        "colab": {}
      },
      "source": [
        ""
      ],
      "execution_count": 0,
      "outputs": []
    }
  ]
}