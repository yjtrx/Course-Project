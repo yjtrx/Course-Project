{
  "nbformat": 4,
  "nbformat_minor": 0,
  "metadata": {
    "colab": {
      "name": "Solutions - Internal - R6 - AIML Labs.ipynb",
      "provenance": [],
      "collapsed_sections": []
    },
    "kernelspec": {
      "name": "python3",
      "display_name": "Python 3"
    },
    "accelerator": "GPU"
  },
  "cells": [
    {
      "cell_type": "markdown",
      "metadata": {
        "id": "zUZjPnVXGz0Z",
        "colab_type": "text"
      },
      "source": [
        "# The Iris Dataset\n",
        "The data set consists of 50 samples from each of three species of Iris (Iris setosa, Iris virginica and Iris versicolor). Four features were measured from each sample: the length and the width of the sepals and petals, in centimeters.\n",
        "\n",
        "The dataset contains a set of 150 records under five attributes - petal length, petal width, sepal length, sepal width and species."
      ]
    },
    {
      "cell_type": "markdown",
      "metadata": {
        "id": "RMbmpriavLE9",
        "colab_type": "text"
      },
      "source": [
        "### Specifying the TensorFlow version\n",
        "Running `import tensorflow` will import the default version (currently 1.x). You can use 2.x by running a cell with the `tensorflow_version` magic **before** you run `import tensorflow`."
      ]
    },
    {
      "cell_type": "code",
      "metadata": {
        "colab_type": "code",
        "id": "fu8bUU__oa7h",
        "outputId": "fb1efd40-3c8d-476b-8c67-57e4b20a2cb3",
        "colab": {
          "base_uri": "https://localhost:8080/",
          "height": 34
        }
      },
      "source": [
        "%tensorflow_version 2.x"
      ],
      "execution_count": 1,
      "outputs": [
        {
          "output_type": "stream",
          "text": [
            "TensorFlow 2.x selected.\n"
          ],
          "name": "stdout"
        }
      ]
    },
    {
      "cell_type": "markdown",
      "metadata": {
        "colab_type": "text",
        "id": "bLz1Ckvfvn6D"
      },
      "source": [
        "### Import TensorFlow\n",
        "Once you have specified a version via this magic, you can run `import tensorflow` as normal and verify which version was imported as follows:"
      ]
    },
    {
      "cell_type": "code",
      "metadata": {
        "colab_type": "code",
        "id": "CWrzVTLOvn6M",
        "outputId": "6cf89314-8a5f-4079-c7fe-2e819a79f82b",
        "colab": {
          "base_uri": "https://localhost:8080/",
          "height": 34
        }
      },
      "source": [
        "import tensorflow as tf\n",
        "print(tf.__version__)"
      ],
      "execution_count": 2,
      "outputs": [
        {
          "output_type": "stream",
          "text": [
            "2.1.0-rc1\n"
          ],
          "name": "stdout"
        }
      ]
    },
    {
      "cell_type": "markdown",
      "metadata": {
        "id": "_uYeJgkNuXNC",
        "colab_type": "text"
      },
      "source": [
        "### Set random seed"
      ]
    },
    {
      "cell_type": "code",
      "metadata": {
        "id": "lcASNsewsfQX",
        "colab_type": "code",
        "colab": {}
      },
      "source": [
        "tf.random.set_seed(42)"
      ],
      "execution_count": 0,
      "outputs": []
    },
    {
      "cell_type": "markdown",
      "metadata": {
        "id": "5-vVQBBqg7DI",
        "colab_type": "text"
      },
      "source": [
        "## Question 1"
      ]
    },
    {
      "cell_type": "markdown",
      "metadata": {
        "id": "kE0EDKvQhEIe",
        "colab_type": "text"
      },
      "source": [
        "### Import dataset\n",
        "- Import iris dataset\n",
        "- Import the dataset using sklearn library"
      ]
    },
    {
      "cell_type": "code",
      "metadata": {
        "id": "IOOWpD26Haq3",
        "colab_type": "code",
        "colab": {}
      },
      "source": [
        "from sklearn import datasets \n",
        "Iris = datasets.load_iris()"
      ],
      "execution_count": 0,
      "outputs": []
    },
    {
      "cell_type": "markdown",
      "metadata": {
        "id": "ta8YqInTh5v5",
        "colab_type": "text"
      },
      "source": [
        "## Question 2"
      ]
    },
    {
      "cell_type": "markdown",
      "metadata": {
        "id": "HERt3drbhX0i",
        "colab_type": "text"
      },
      "source": [
        "### Get features and label from the dataset in separate variable\n",
        "- you can get the features using .data method\n",
        "- you can get the features using .target method"
      ]
    },
    {
      "cell_type": "code",
      "metadata": {
        "id": "0cV-_qHAHyvE",
        "colab_type": "code",
        "colab": {}
      },
      "source": [
        "features = Iris.data\n",
        "labels = Iris.target"
      ],
      "execution_count": 0,
      "outputs": []
    },
    {
      "cell_type": "markdown",
      "metadata": {
        "id": "Qg1A2lkUjFak",
        "colab_type": "text"
      },
      "source": [
        "## Question 3"
      ]
    },
    {
      "cell_type": "markdown",
      "metadata": {
        "colab_type": "text",
        "id": "3YErwYLCH0N_"
      },
      "source": [
        "### Create train and test data\n",
        "- use train_test_split to get train and test set\n",
        "- set a random_state\n",
        "- test_size: 0.25"
      ]
    },
    {
      "cell_type": "code",
      "metadata": {
        "id": "TYKNJL85h7pQ",
        "colab_type": "code",
        "outputId": "c99667b8-2885-47b0-dc67-0f2059c7e33e",
        "colab": {
          "base_uri": "https://localhost:8080/",
          "height": 87
        }
      },
      "source": [
        "from sklearn.model_selection import train_test_split\n",
        "x_train,x_test,y_train,y_test = train_test_split(features,labels,test_size=0.25)\n",
        "print(\"Shape of x_train is {}\".format(x_train.shape))\n",
        "print(\"Shape of x_test is {}\".format(x_test.shape))\n",
        "print(\"Shape of y_train is {}\".format(y_train.shape))\n",
        "print(\"Shape of y_test is {}\".format(y_test.shape))"
      ],
      "execution_count": 6,
      "outputs": [
        {
          "output_type": "stream",
          "text": [
            "Shape of x_train is (112, 4)\n",
            "Shape of x_test is (38, 4)\n",
            "Shape of y_train is (112,)\n",
            "Shape of y_test is (38,)\n"
          ],
          "name": "stdout"
        }
      ]
    },
    {
      "cell_type": "markdown",
      "metadata": {
        "id": "g0KVP17Ozaix",
        "colab_type": "text"
      },
      "source": [
        "## Question 4"
      ]
    },
    {
      "cell_type": "markdown",
      "metadata": {
        "id": "SIjqxbhWv1zv",
        "colab_type": "text"
      },
      "source": [
        "### One-hot encode the labels\n",
        "- convert class vectors (integers) to binary class matrix\n",
        "- convert labels\n",
        "- number of classes: 3\n",
        "- we are doing this to use categorical_crossentropy as loss"
      ]
    },
    {
      "cell_type": "code",
      "metadata": {
        "colab_type": "code",
        "id": "R9vv-_gpyLY9",
        "colab": {}
      },
      "source": [
        "y_train = tf.keras.utils.to_categorical(y_train,num_classes=3)\n",
        "y_test1 = tf.keras.utils.to_categorical(y_test,num_classes=3)"
      ],
      "execution_count": 0,
      "outputs": []
    },
    {
      "cell_type": "code",
      "metadata": {
        "id": "CsvezmE02I62",
        "colab_type": "code",
        "outputId": "1ed4dee9-1cb3-4d41-f870-45d023afbf50",
        "colab": {
          "base_uri": "https://localhost:8080/",
          "height": 686
        }
      },
      "source": [
        "y_test1"
      ],
      "execution_count": 8,
      "outputs": [
        {
          "output_type": "execute_result",
          "data": {
            "text/plain": [
              "array([[0., 0., 1.],\n",
              "       [0., 1., 0.],\n",
              "       [0., 0., 1.],\n",
              "       [0., 0., 1.],\n",
              "       [1., 0., 0.],\n",
              "       [0., 1., 0.],\n",
              "       [1., 0., 0.],\n",
              "       [1., 0., 0.],\n",
              "       [0., 1., 0.],\n",
              "       [1., 0., 0.],\n",
              "       [1., 0., 0.],\n",
              "       [0., 1., 0.],\n",
              "       [0., 0., 1.],\n",
              "       [1., 0., 0.],\n",
              "       [0., 1., 0.],\n",
              "       [0., 1., 0.],\n",
              "       [0., 1., 0.],\n",
              "       [0., 0., 1.],\n",
              "       [0., 1., 0.],\n",
              "       [0., 1., 0.],\n",
              "       [1., 0., 0.],\n",
              "       [0., 0., 1.],\n",
              "       [1., 0., 0.],\n",
              "       [0., 1., 0.],\n",
              "       [0., 0., 1.],\n",
              "       [1., 0., 0.],\n",
              "       [1., 0., 0.],\n",
              "       [1., 0., 0.],\n",
              "       [1., 0., 0.],\n",
              "       [0., 1., 0.],\n",
              "       [1., 0., 0.],\n",
              "       [0., 0., 1.],\n",
              "       [0., 1., 0.],\n",
              "       [0., 1., 0.],\n",
              "       [1., 0., 0.],\n",
              "       [0., 1., 0.],\n",
              "       [0., 0., 1.],\n",
              "       [0., 1., 0.]], dtype=float32)"
            ]
          },
          "metadata": {
            "tags": []
          },
          "execution_count": 8
        }
      ]
    },
    {
      "cell_type": "markdown",
      "metadata": {
        "colab_type": "text",
        "id": "ovjLyYzWkO9s"
      },
      "source": [
        "## Question 5"
      ]
    },
    {
      "cell_type": "markdown",
      "metadata": {
        "id": "hbIFzoPNSyYo",
        "colab_type": "text"
      },
      "source": [
        "### Initialize a sequential model\n",
        "- Define a sequential model"
      ]
    },
    {
      "cell_type": "code",
      "metadata": {
        "id": "4FvSbf1UjHtl",
        "colab_type": "code",
        "colab": {}
      },
      "source": [
        "from tensorflow.python.keras import Sequential\n",
        "from tensorflow.python.keras.layers import Dense\n",
        "model = Sequential()"
      ],
      "execution_count": 0,
      "outputs": []
    },
    {
      "cell_type": "markdown",
      "metadata": {
        "colab_type": "text",
        "id": "dGMy999vlacX"
      },
      "source": [
        "## Question 6"
      ]
    },
    {
      "cell_type": "markdown",
      "metadata": {
        "id": "72ibK5Jxm8iL",
        "colab_type": "text"
      },
      "source": [
        "### Add a layer\n",
        "- Use Dense Layer  with input shape of 4 (according to the feature set) and number of outputs set to 3\n",
        "- Apply Softmax on Dense Layer outputs"
      ]
    },
    {
      "cell_type": "code",
      "metadata": {
        "id": "uZKrBNSRm_o9",
        "colab_type": "code",
        "colab": {}
      },
      "source": [
        "model.add(Dense(6,input_dim=4,activation='relu'))\n",
        "model.add(Dense(4,activation='relu'))\n",
        "model.add(Dense(3,activation='softmax'))"
      ],
      "execution_count": 0,
      "outputs": []
    },
    {
      "cell_type": "markdown",
      "metadata": {
        "id": "i4uiTH8plmNX",
        "colab_type": "text"
      },
      "source": [
        "## Question 7"
      ]
    },
    {
      "cell_type": "markdown",
      "metadata": {
        "id": "yJL8n8vcSyYz",
        "colab_type": "text"
      },
      "source": [
        "### Compile the model\n",
        "- Use SGD as Optimizer\n",
        "- Use categorical_crossentropy as loss function\n",
        "- Use accuracy as metrics"
      ]
    },
    {
      "cell_type": "code",
      "metadata": {
        "id": "Tc_-fjIEk1ve",
        "colab_type": "code",
        "colab": {}
      },
      "source": [
        "model.compile(optimizer='SGD',loss=tf.keras.losses.categorical_crossentropy,metrics=['accuracy'])"
      ],
      "execution_count": 0,
      "outputs": []
    },
    {
      "cell_type": "markdown",
      "metadata": {
        "colab_type": "text",
        "id": "sihIGbRll_jT"
      },
      "source": [
        "## Question 8"
      ]
    },
    {
      "cell_type": "markdown",
      "metadata": {
        "id": "54ZZCfNGlu0i",
        "colab_type": "text"
      },
      "source": [
        "### Summarize the model\n",
        "- Check model layers\n",
        "- Understand number of trainable parameters"
      ]
    },
    {
      "cell_type": "code",
      "metadata": {
        "id": "elER3F_4ln8n",
        "colab_type": "code",
        "outputId": "1a992a6f-08cf-48e7-9e60-8efa2df985f5",
        "colab": {
          "base_uri": "https://localhost:8080/",
          "height": 263
        }
      },
      "source": [
        "model.summary()"
      ],
      "execution_count": 12,
      "outputs": [
        {
          "output_type": "stream",
          "text": [
            "Model: \"sequential\"\n",
            "_________________________________________________________________\n",
            "Layer (type)                 Output Shape              Param #   \n",
            "=================================================================\n",
            "dense (Dense)                (None, 6)                 30        \n",
            "_________________________________________________________________\n",
            "dense_1 (Dense)              (None, 4)                 28        \n",
            "_________________________________________________________________\n",
            "dense_2 (Dense)              (None, 3)                 15        \n",
            "=================================================================\n",
            "Total params: 73\n",
            "Trainable params: 73\n",
            "Non-trainable params: 0\n",
            "_________________________________________________________________\n"
          ],
          "name": "stdout"
        }
      ]
    },
    {
      "cell_type": "markdown",
      "metadata": {
        "colab_type": "text",
        "id": "2PiP7j3Vmj4p"
      },
      "source": [
        "## Question 9"
      ]
    },
    {
      "cell_type": "markdown",
      "metadata": {
        "id": "rWdbfFCXmCHt",
        "colab_type": "text"
      },
      "source": [
        "### Fit the model\n",
        "- Give train data as training features and labels\n",
        "- Epochs: 100\n",
        "- Give validation data as testing features and labels"
      ]
    },
    {
      "cell_type": "code",
      "metadata": {
        "id": "cO1c-5tjmBVZ",
        "colab_type": "code",
        "outputId": "4bda2fdd-00a8-4e13-a7b8-4ac184413dfe",
        "colab": {
          "base_uri": "https://localhost:8080/",
          "height": 1000
        }
      },
      "source": [
        "model.fit(x_train,y_train,epochs = 100,validation_data=(x_test,y_test1))"
      ],
      "execution_count": 13,
      "outputs": [
        {
          "output_type": "stream",
          "text": [
            "Train on 112 samples, validate on 38 samples\n",
            "Epoch 1/100\n",
            "112/112 [==============================] - 2s 17ms/sample - loss: 1.7506 - accuracy: 0.3125 - val_loss: 1.2777 - val_accuracy: 0.3947\n",
            "Epoch 2/100\n",
            "112/112 [==============================] - 0s 209us/sample - loss: 1.4223 - accuracy: 0.3125 - val_loss: 1.2139 - val_accuracy: 0.3947\n",
            "Epoch 3/100\n",
            "112/112 [==============================] - 0s 198us/sample - loss: 1.2596 - accuracy: 0.3036 - val_loss: 1.1362 - val_accuracy: 0.0526\n",
            "Epoch 4/100\n",
            "112/112 [==============================] - 0s 208us/sample - loss: 1.1378 - accuracy: 0.1071 - val_loss: 1.0911 - val_accuracy: 0.5526\n",
            "Epoch 5/100\n",
            "112/112 [==============================] - 0s 207us/sample - loss: 1.0533 - accuracy: 0.6339 - val_loss: 1.0190 - val_accuracy: 0.5789\n",
            "Epoch 6/100\n",
            "112/112 [==============================] - 0s 212us/sample - loss: 0.9801 - accuracy: 0.6875 - val_loss: 0.9939 - val_accuracy: 0.6053\n",
            "Epoch 7/100\n",
            "112/112 [==============================] - 0s 200us/sample - loss: 0.9595 - accuracy: 0.6875 - val_loss: 0.9760 - val_accuracy: 0.6053\n",
            "Epoch 8/100\n",
            "112/112 [==============================] - 0s 225us/sample - loss: 0.9451 - accuracy: 0.6875 - val_loss: 0.9678 - val_accuracy: 0.6053\n",
            "Epoch 9/100\n",
            "112/112 [==============================] - 0s 182us/sample - loss: 0.9283 - accuracy: 0.6875 - val_loss: 0.9506 - val_accuracy: 0.6053\n",
            "Epoch 10/100\n",
            "112/112 [==============================] - 0s 234us/sample - loss: 0.9129 - accuracy: 0.6875 - val_loss: 0.9357 - val_accuracy: 0.6053\n",
            "Epoch 11/100\n",
            "112/112 [==============================] - 0s 221us/sample - loss: 0.9004 - accuracy: 0.6875 - val_loss: 0.9225 - val_accuracy: 0.6053\n",
            "Epoch 12/100\n",
            "112/112 [==============================] - 0s 229us/sample - loss: 0.8818 - accuracy: 0.6875 - val_loss: 0.9082 - val_accuracy: 0.6053\n",
            "Epoch 13/100\n",
            "112/112 [==============================] - 0s 193us/sample - loss: 0.8677 - accuracy: 0.6875 - val_loss: 0.8907 - val_accuracy: 0.6053\n",
            "Epoch 14/100\n",
            "112/112 [==============================] - 0s 235us/sample - loss: 0.8500 - accuracy: 0.6875 - val_loss: 0.8809 - val_accuracy: 0.6053\n",
            "Epoch 15/100\n",
            "112/112 [==============================] - 0s 181us/sample - loss: 0.8350 - accuracy: 0.6875 - val_loss: 0.8640 - val_accuracy: 0.6053\n",
            "Epoch 16/100\n",
            "112/112 [==============================] - 0s 200us/sample - loss: 0.8200 - accuracy: 0.6875 - val_loss: 0.8443 - val_accuracy: 0.6053\n",
            "Epoch 17/100\n",
            "112/112 [==============================] - 0s 207us/sample - loss: 0.8024 - accuracy: 0.6875 - val_loss: 0.8367 - val_accuracy: 0.6053\n",
            "Epoch 18/100\n",
            "112/112 [==============================] - 0s 239us/sample - loss: 0.7842 - accuracy: 0.6875 - val_loss: 0.8226 - val_accuracy: 0.6053\n",
            "Epoch 19/100\n",
            "112/112 [==============================] - 0s 202us/sample - loss: 0.7698 - accuracy: 0.6875 - val_loss: 0.8025 - val_accuracy: 0.6053\n",
            "Epoch 20/100\n",
            "112/112 [==============================] - 0s 228us/sample - loss: 0.7521 - accuracy: 0.6875 - val_loss: 0.8020 - val_accuracy: 0.6053\n",
            "Epoch 21/100\n",
            "112/112 [==============================] - 0s 185us/sample - loss: 0.7392 - accuracy: 0.6875 - val_loss: 0.7799 - val_accuracy: 0.6053\n",
            "Epoch 22/100\n",
            "112/112 [==============================] - 0s 227us/sample - loss: 0.7208 - accuracy: 0.6875 - val_loss: 0.7666 - val_accuracy: 0.6053\n",
            "Epoch 23/100\n",
            "112/112 [==============================] - 0s 199us/sample - loss: 0.7056 - accuracy: 0.6875 - val_loss: 0.7408 - val_accuracy: 0.6053\n",
            "Epoch 24/100\n",
            "112/112 [==============================] - 0s 185us/sample - loss: 0.6891 - accuracy: 0.6875 - val_loss: 0.7282 - val_accuracy: 0.6053\n",
            "Epoch 25/100\n",
            "112/112 [==============================] - 0s 211us/sample - loss: 0.6804 - accuracy: 0.6964 - val_loss: 0.7052 - val_accuracy: 0.6316\n",
            "Epoch 26/100\n",
            "112/112 [==============================] - 0s 253us/sample - loss: 0.6653 - accuracy: 0.7589 - val_loss: 0.7194 - val_accuracy: 0.6053\n",
            "Epoch 27/100\n",
            "112/112 [==============================] - 0s 201us/sample - loss: 0.6500 - accuracy: 0.6875 - val_loss: 0.6800 - val_accuracy: 0.6579\n",
            "Epoch 28/100\n",
            "112/112 [==============================] - 0s 242us/sample - loss: 0.6374 - accuracy: 0.7232 - val_loss: 0.6762 - val_accuracy: 0.6053\n",
            "Epoch 29/100\n",
            "112/112 [==============================] - 0s 240us/sample - loss: 0.6230 - accuracy: 0.7054 - val_loss: 0.6563 - val_accuracy: 0.6579\n",
            "Epoch 30/100\n",
            "112/112 [==============================] - 0s 212us/sample - loss: 0.6119 - accuracy: 0.7232 - val_loss: 0.6499 - val_accuracy: 0.6316\n",
            "Epoch 31/100\n",
            "112/112 [==============================] - 0s 215us/sample - loss: 0.6039 - accuracy: 0.7143 - val_loss: 0.6257 - val_accuracy: 0.7632\n",
            "Epoch 32/100\n",
            "112/112 [==============================] - 0s 207us/sample - loss: 0.5928 - accuracy: 0.8125 - val_loss: 0.6203 - val_accuracy: 0.6842\n",
            "Epoch 33/100\n",
            "112/112 [==============================] - 0s 207us/sample - loss: 0.5815 - accuracy: 0.7857 - val_loss: 0.6178 - val_accuracy: 0.6579\n",
            "Epoch 34/100\n",
            "112/112 [==============================] - 0s 206us/sample - loss: 0.5748 - accuracy: 0.7411 - val_loss: 0.5978 - val_accuracy: 0.7632\n",
            "Epoch 35/100\n",
            "112/112 [==============================] - 0s 211us/sample - loss: 0.5663 - accuracy: 0.8125 - val_loss: 0.5972 - val_accuracy: 0.6579\n",
            "Epoch 36/100\n",
            "112/112 [==============================] - 0s 213us/sample - loss: 0.5546 - accuracy: 0.7679 - val_loss: 0.5824 - val_accuracy: 0.7632\n",
            "Epoch 37/100\n",
            "112/112 [==============================] - 0s 221us/sample - loss: 0.5474 - accuracy: 0.7857 - val_loss: 0.5650 - val_accuracy: 0.8684\n",
            "Epoch 38/100\n",
            "112/112 [==============================] - 0s 265us/sample - loss: 0.5411 - accuracy: 0.8393 - val_loss: 0.5603 - val_accuracy: 0.7895\n",
            "Epoch 39/100\n",
            "112/112 [==============================] - 0s 205us/sample - loss: 0.5311 - accuracy: 0.8304 - val_loss: 0.5543 - val_accuracy: 0.7895\n",
            "Epoch 40/100\n",
            "112/112 [==============================] - 0s 276us/sample - loss: 0.5290 - accuracy: 0.8571 - val_loss: 0.5510 - val_accuracy: 0.7632\n",
            "Epoch 41/100\n",
            "112/112 [==============================] - 0s 278us/sample - loss: 0.5172 - accuracy: 0.8482 - val_loss: 0.5415 - val_accuracy: 0.7895\n",
            "Epoch 42/100\n",
            "112/112 [==============================] - 0s 294us/sample - loss: 0.5084 - accuracy: 0.8661 - val_loss: 0.5377 - val_accuracy: 0.7632\n",
            "Epoch 43/100\n",
            "112/112 [==============================] - 0s 214us/sample - loss: 0.5022 - accuracy: 0.8304 - val_loss: 0.5101 - val_accuracy: 0.9474\n",
            "Epoch 44/100\n",
            "112/112 [==============================] - 0s 207us/sample - loss: 0.4978 - accuracy: 0.8839 - val_loss: 0.5067 - val_accuracy: 0.9211\n",
            "Epoch 45/100\n",
            "112/112 [==============================] - 0s 203us/sample - loss: 0.4878 - accuracy: 0.9375 - val_loss: 0.5223 - val_accuracy: 0.7632\n",
            "Epoch 46/100\n",
            "112/112 [==============================] - 0s 227us/sample - loss: 0.4829 - accuracy: 0.8036 - val_loss: 0.4890 - val_accuracy: 0.9474\n",
            "Epoch 47/100\n",
            "112/112 [==============================] - 0s 222us/sample - loss: 0.4794 - accuracy: 0.8750 - val_loss: 0.4857 - val_accuracy: 0.9211\n",
            "Epoch 48/100\n",
            "112/112 [==============================] - 0s 201us/sample - loss: 0.4685 - accuracy: 0.8839 - val_loss: 0.4718 - val_accuracy: 0.9474\n",
            "Epoch 49/100\n",
            "112/112 [==============================] - 0s 215us/sample - loss: 0.4682 - accuracy: 0.9554 - val_loss: 0.4696 - val_accuracy: 0.9474\n",
            "Epoch 50/100\n",
            "112/112 [==============================] - 0s 218us/sample - loss: 0.4565 - accuracy: 0.9196 - val_loss: 0.4650 - val_accuracy: 0.9474\n",
            "Epoch 51/100\n",
            "112/112 [==============================] - 0s 219us/sample - loss: 0.4548 - accuracy: 0.9196 - val_loss: 0.4625 - val_accuracy: 0.9211\n",
            "Epoch 52/100\n",
            "112/112 [==============================] - 0s 233us/sample - loss: 0.4454 - accuracy: 0.9196 - val_loss: 0.4802 - val_accuracy: 0.7895\n",
            "Epoch 53/100\n",
            "112/112 [==============================] - 0s 194us/sample - loss: 0.4416 - accuracy: 0.8750 - val_loss: 0.4564 - val_accuracy: 0.8947\n",
            "Epoch 54/100\n",
            "112/112 [==============================] - 0s 200us/sample - loss: 0.4434 - accuracy: 0.8571 - val_loss: 0.4446 - val_accuracy: 0.9474\n",
            "Epoch 55/100\n",
            "112/112 [==============================] - 0s 253us/sample - loss: 0.4321 - accuracy: 0.9375 - val_loss: 0.4904 - val_accuracy: 0.6842\n",
            "Epoch 56/100\n",
            "112/112 [==============================] - 0s 213us/sample - loss: 0.4305 - accuracy: 0.8304 - val_loss: 0.4515 - val_accuracy: 0.8684\n",
            "Epoch 57/100\n",
            "112/112 [==============================] - 0s 216us/sample - loss: 0.4191 - accuracy: 0.8661 - val_loss: 0.4199 - val_accuracy: 0.9474\n",
            "Epoch 58/100\n",
            "112/112 [==============================] - 0s 222us/sample - loss: 0.4288 - accuracy: 0.9375 - val_loss: 0.4484 - val_accuracy: 0.8421\n",
            "Epoch 59/100\n",
            "112/112 [==============================] - 0s 229us/sample - loss: 0.4161 - accuracy: 0.8839 - val_loss: 0.4081 - val_accuracy: 0.9474\n",
            "Epoch 60/100\n",
            "112/112 [==============================] - 0s 240us/sample - loss: 0.4147 - accuracy: 0.9286 - val_loss: 0.4055 - val_accuracy: 0.9474\n",
            "Epoch 61/100\n",
            "112/112 [==============================] - 0s 183us/sample - loss: 0.4006 - accuracy: 0.9464 - val_loss: 0.4023 - val_accuracy: 0.9474\n",
            "Epoch 62/100\n",
            "112/112 [==============================] - 0s 209us/sample - loss: 0.3969 - accuracy: 0.9196 - val_loss: 0.4030 - val_accuracy: 0.9474\n",
            "Epoch 63/100\n",
            "112/112 [==============================] - 0s 240us/sample - loss: 0.3905 - accuracy: 0.9196 - val_loss: 0.3883 - val_accuracy: 0.9474\n",
            "Epoch 64/100\n",
            "112/112 [==============================] - 0s 220us/sample - loss: 0.3934 - accuracy: 0.9375 - val_loss: 0.4052 - val_accuracy: 0.9211\n",
            "Epoch 65/100\n",
            "112/112 [==============================] - 0s 212us/sample - loss: 0.3940 - accuracy: 0.8839 - val_loss: 0.4042 - val_accuracy: 0.9211\n",
            "Epoch 66/100\n",
            "112/112 [==============================] - 0s 220us/sample - loss: 0.3807 - accuracy: 0.8750 - val_loss: 0.3815 - val_accuracy: 0.9474\n",
            "Epoch 67/100\n",
            "112/112 [==============================] - 0s 208us/sample - loss: 0.3814 - accuracy: 0.9107 - val_loss: 0.3670 - val_accuracy: 0.9737\n",
            "Epoch 68/100\n",
            "112/112 [==============================] - 0s 211us/sample - loss: 0.3747 - accuracy: 0.9375 - val_loss: 0.3695 - val_accuracy: 0.9474\n",
            "Epoch 69/100\n",
            "112/112 [==============================] - 0s 220us/sample - loss: 0.3758 - accuracy: 0.9196 - val_loss: 0.3731 - val_accuracy: 0.9474\n",
            "Epoch 70/100\n",
            "112/112 [==============================] - 0s 237us/sample - loss: 0.3632 - accuracy: 0.9554 - val_loss: 0.3821 - val_accuracy: 0.9474\n",
            "Epoch 71/100\n",
            "112/112 [==============================] - 0s 256us/sample - loss: 0.3595 - accuracy: 0.9375 - val_loss: 0.3986 - val_accuracy: 0.8684\n",
            "Epoch 72/100\n",
            "112/112 [==============================] - 0s 223us/sample - loss: 0.3591 - accuracy: 0.9286 - val_loss: 0.3646 - val_accuracy: 0.9474\n",
            "Epoch 73/100\n",
            "112/112 [==============================] - 0s 232us/sample - loss: 0.3517 - accuracy: 0.9464 - val_loss: 0.3491 - val_accuracy: 0.9474\n",
            "Epoch 74/100\n",
            "112/112 [==============================] - 0s 215us/sample - loss: 0.3479 - accuracy: 0.9554 - val_loss: 0.4074 - val_accuracy: 0.8158\n",
            "Epoch 75/100\n",
            "112/112 [==============================] - 0s 207us/sample - loss: 0.3577 - accuracy: 0.8750 - val_loss: 0.3818 - val_accuracy: 0.8684\n",
            "Epoch 76/100\n",
            "112/112 [==============================] - 0s 210us/sample - loss: 0.3440 - accuracy: 0.9286 - val_loss: 0.3481 - val_accuracy: 0.9474\n",
            "Epoch 77/100\n",
            "112/112 [==============================] - 0s 204us/sample - loss: 0.3375 - accuracy: 0.9732 - val_loss: 0.3569 - val_accuracy: 0.9474\n",
            "Epoch 78/100\n",
            "112/112 [==============================] - 0s 230us/sample - loss: 0.3412 - accuracy: 0.9196 - val_loss: 0.3266 - val_accuracy: 0.9737\n",
            "Epoch 79/100\n",
            "112/112 [==============================] - 0s 278us/sample - loss: 0.3321 - accuracy: 0.9643 - val_loss: 0.3339 - val_accuracy: 0.9474\n",
            "Epoch 80/100\n",
            "112/112 [==============================] - 0s 215us/sample - loss: 0.3278 - accuracy: 0.9643 - val_loss: 0.3262 - val_accuracy: 0.9474\n",
            "Epoch 81/100\n",
            "112/112 [==============================] - 0s 237us/sample - loss: 0.3240 - accuracy: 0.9821 - val_loss: 0.3557 - val_accuracy: 0.9474\n",
            "Epoch 82/100\n",
            "112/112 [==============================] - 0s 242us/sample - loss: 0.3341 - accuracy: 0.9286 - val_loss: 0.3258 - val_accuracy: 0.9474\n",
            "Epoch 83/100\n",
            "112/112 [==============================] - 0s 306us/sample - loss: 0.3267 - accuracy: 0.9554 - val_loss: 0.3127 - val_accuracy: 0.9474\n",
            "Epoch 84/100\n",
            "112/112 [==============================] - 0s 210us/sample - loss: 0.3229 - accuracy: 0.9286 - val_loss: 0.3039 - val_accuracy: 0.9737\n",
            "Epoch 85/100\n",
            "112/112 [==============================] - 0s 286us/sample - loss: 0.3187 - accuracy: 0.9554 - val_loss: 0.3120 - val_accuracy: 0.9474\n",
            "Epoch 86/100\n",
            "112/112 [==============================] - 0s 206us/sample - loss: 0.3067 - accuracy: 0.9732 - val_loss: 0.3500 - val_accuracy: 0.8947\n",
            "Epoch 87/100\n",
            "112/112 [==============================] - 0s 202us/sample - loss: 0.3051 - accuracy: 0.9196 - val_loss: 0.2966 - val_accuracy: 0.9737\n",
            "Epoch 88/100\n",
            "112/112 [==============================] - 0s 226us/sample - loss: 0.3070 - accuracy: 0.9732 - val_loss: 0.3195 - val_accuracy: 0.9474\n",
            "Epoch 89/100\n",
            "112/112 [==============================] - 0s 235us/sample - loss: 0.3071 - accuracy: 0.9286 - val_loss: 0.2939 - val_accuracy: 0.8684\n",
            "Epoch 90/100\n",
            "112/112 [==============================] - 0s 236us/sample - loss: 0.3112 - accuracy: 0.9464 - val_loss: 0.2862 - val_accuracy: 0.9737\n",
            "Epoch 91/100\n",
            "112/112 [==============================] - 0s 203us/sample - loss: 0.2906 - accuracy: 0.9821 - val_loss: 0.3007 - val_accuracy: 0.9474\n",
            "Epoch 92/100\n",
            "112/112 [==============================] - 0s 200us/sample - loss: 0.2944 - accuracy: 0.9375 - val_loss: 0.2785 - val_accuracy: 0.9737\n",
            "Epoch 93/100\n",
            "112/112 [==============================] - 0s 200us/sample - loss: 0.2924 - accuracy: 0.9464 - val_loss: 0.2880 - val_accuracy: 0.9474\n",
            "Epoch 94/100\n",
            "112/112 [==============================] - 0s 187us/sample - loss: 0.2830 - accuracy: 0.9821 - val_loss: 0.2749 - val_accuracy: 0.9737\n",
            "Epoch 95/100\n",
            "112/112 [==============================] - 0s 220us/sample - loss: 0.3062 - accuracy: 0.9286 - val_loss: 0.2689 - val_accuracy: 0.9474\n",
            "Epoch 96/100\n",
            "112/112 [==============================] - 0s 232us/sample - loss: 0.2869 - accuracy: 0.9464 - val_loss: 0.2676 - val_accuracy: 0.9474\n",
            "Epoch 97/100\n",
            "112/112 [==============================] - 0s 203us/sample - loss: 0.2744 - accuracy: 0.9464 - val_loss: 0.3075 - val_accuracy: 0.9474\n",
            "Epoch 98/100\n",
            "112/112 [==============================] - 0s 238us/sample - loss: 0.2840 - accuracy: 0.9286 - val_loss: 0.2781 - val_accuracy: 0.9474\n",
            "Epoch 99/100\n",
            "112/112 [==============================] - 0s 237us/sample - loss: 0.2695 - accuracy: 0.9643 - val_loss: 0.2787 - val_accuracy: 0.9474\n",
            "Epoch 100/100\n",
            "112/112 [==============================] - 0s 207us/sample - loss: 0.2684 - accuracy: 0.9554 - val_loss: 0.2626 - val_accuracy: 0.9737\n"
          ],
          "name": "stdout"
        },
        {
          "output_type": "execute_result",
          "data": {
            "text/plain": [
              "<tensorflow.python.keras.callbacks.History at 0x7f1db0397400>"
            ]
          },
          "metadata": {
            "tags": []
          },
          "execution_count": 13
        }
      ]
    },
    {
      "cell_type": "markdown",
      "metadata": {
        "id": "re9ItAR3yS3J",
        "colab_type": "text"
      },
      "source": [
        "## Question 10"
      ]
    },
    {
      "cell_type": "markdown",
      "metadata": {
        "id": "liw0IFf9yVqH",
        "colab_type": "text"
      },
      "source": [
        "### Make predictions\n",
        "- Predict labels on one row"
      ]
    },
    {
      "cell_type": "code",
      "metadata": {
        "id": "H5sBybi6mlLl",
        "colab_type": "code",
        "outputId": "5fdc0b4a-01c1-461f-fe23-89224ba415f0",
        "colab": {
          "base_uri": "https://localhost:8080/",
          "height": 686
        }
      },
      "source": [
        "y_pred = model.predict(x_test,batch_size=1)\n",
        "y_pred"
      ],
      "execution_count": 14,
      "outputs": [
        {
          "output_type": "execute_result",
          "data": {
            "text/plain": [
              "array([[3.52392369e-03, 3.20202947e-01, 6.76273108e-01],\n",
              "       [6.94870278e-02, 7.52072752e-01, 1.78440273e-01],\n",
              "       [8.40753550e-04, 1.52060807e-01, 8.47098470e-01],\n",
              "       [7.86871184e-03, 4.16233420e-01, 5.75897872e-01],\n",
              "       [9.04479444e-01, 9.54059213e-02, 1.14593859e-04],\n",
              "       [7.84817338e-02, 7.83185184e-01, 1.38333097e-01],\n",
              "       [9.36719835e-01, 6.32436946e-02, 3.65510277e-05],\n",
              "       [9.66370940e-01, 3.36181037e-02, 1.09683660e-05],\n",
              "       [3.51882307e-03, 2.79780149e-01, 7.16700971e-01],\n",
              "       [9.41305757e-01, 5.86483851e-02, 4.59111980e-05],\n",
              "       [9.65133369e-01, 3.48572023e-02, 9.42878887e-06],\n",
              "       [3.93735841e-02, 6.40235901e-01, 3.20390552e-01],\n",
              "       [1.34656311e-03, 2.06527188e-01, 7.92126298e-01],\n",
              "       [9.21564579e-01, 7.83006400e-02, 1.34806280e-04],\n",
              "       [4.22176830e-02, 6.17269158e-01, 3.40513140e-01],\n",
              "       [6.68376312e-02, 6.76521063e-01, 2.56641328e-01],\n",
              "       [1.37879342e-01, 7.11441696e-01, 1.50679007e-01],\n",
              "       [2.22924122e-04, 1.21291488e-01, 8.78485620e-01],\n",
              "       [5.83735444e-02, 7.61407137e-01, 1.80219293e-01],\n",
              "       [4.00513560e-02, 7.20231414e-01, 2.39717245e-01],\n",
              "       [9.66217995e-01, 3.37688513e-02, 1.30967428e-05],\n",
              "       [6.23666972e-04, 1.49881780e-01, 8.49494517e-01],\n",
              "       [9.66955662e-01, 3.30363140e-02, 8.08082950e-06],\n",
              "       [6.62940368e-02, 6.91931844e-01, 2.41774082e-01],\n",
              "       [1.83339557e-03, 2.06294149e-01, 7.91872442e-01],\n",
              "       [9.42395985e-01, 5.75481951e-02, 5.58572647e-05],\n",
              "       [9.39443231e-01, 6.04846701e-02, 7.21163451e-05],\n",
              "       [9.65174198e-01, 3.48123312e-02, 1.34139045e-05],\n",
              "       [9.65561807e-01, 3.44250612e-02, 1.31726592e-05],\n",
              "       [1.97470281e-02, 5.01642764e-01, 4.78610188e-01],\n",
              "       [9.36453044e-01, 6.34699166e-02, 7.70551342e-05],\n",
              "       [6.42318232e-03, 3.51394743e-01, 6.42182052e-01],\n",
              "       [4.11893614e-02, 7.08665669e-01, 2.50144958e-01],\n",
              "       [5.63551262e-02, 7.15109527e-01, 2.28535369e-01],\n",
              "       [9.70574915e-01, 2.94179078e-02, 7.12957626e-06],\n",
              "       [4.74103764e-02, 6.31984949e-01, 3.20604742e-01],\n",
              "       [4.29407693e-03, 3.44436646e-01, 6.51269257e-01],\n",
              "       [5.84281683e-02, 7.83249021e-01, 1.58322826e-01]], dtype=float32)"
            ]
          },
          "metadata": {
            "tags": []
          },
          "execution_count": 14
        }
      ]
    },
    {
      "cell_type": "code",
      "metadata": {
        "id": "aXFcWrSegGGa",
        "colab_type": "code",
        "outputId": "7c5e39a1-ef7c-433a-fbb7-083404150349",
        "colab": {
          "base_uri": "https://localhost:8080/",
          "height": 34
        }
      },
      "source": [
        "import numpy as np\n",
        "out = []\n",
        "for val in y_pred:\n",
        "  out.append(np.argmax(val))\n",
        "print(out)"
      ],
      "execution_count": 16,
      "outputs": [
        {
          "output_type": "stream",
          "text": [
            "[2, 1, 2, 2, 0, 1, 0, 0, 2, 0, 0, 1, 2, 0, 1, 1, 1, 2, 1, 1, 0, 2, 0, 1, 2, 0, 0, 0, 0, 1, 0, 2, 1, 1, 0, 1, 2, 1]\n"
          ],
          "name": "stdout"
        }
      ]
    },
    {
      "cell_type": "markdown",
      "metadata": {
        "id": "hSUgMq3m0bG7",
        "colab_type": "text"
      },
      "source": [
        "### Compare the prediction with actual label\n",
        "- Print the same row as done in the previous step but of actual labels"
      ]
    },
    {
      "cell_type": "code",
      "metadata": {
        "id": "K5WbwVPyz-qQ",
        "colab_type": "code",
        "outputId": "dbb2bc21-6f3e-445f-cf3b-0070e4181456",
        "colab": {
          "base_uri": "https://localhost:8080/",
          "height": 228
        }
      },
      "source": [
        "from sklearn.metrics import accuracy_score,classification_report\n",
        "import numpy as np\n",
        "acc = accuracy_score(y_test,out)\n",
        "report=classification_report(y_test,out)\n",
        "print(\"This is the obtained accuracy {}%\".format(acc*100))\n",
        "print(\"This is the report with the detailed scoring of F1 scores,precision & accuracy:-\")\n",
        "print(report)"
      ],
      "execution_count": 66,
      "outputs": [
        {
          "output_type": "stream",
          "text": [
            "This is the obtained accuracy 97.36842105263158%\n",
            "This is the report with the detailed scoring of F1 scores,precision & accuracy:-\n",
            "              precision    recall  f1-score   support\n",
            "\n",
            "           0       1.00      1.00      1.00        14\n",
            "           1       1.00      0.93      0.97        15\n",
            "           2       0.90      1.00      0.95         9\n",
            "\n",
            "    accuracy                           0.97        38\n",
            "   macro avg       0.97      0.98      0.97        38\n",
            "weighted avg       0.98      0.97      0.97        38\n",
            "\n"
          ],
          "name": "stdout"
        }
      ]
    },
    {
      "cell_type": "markdown",
      "metadata": {
        "id": "a1UBYPNp5Tn1",
        "colab_type": "text"
      },
      "source": [
        "# Stock prices dataset\n",
        "The data is of tock exchange's stock listings for each trading day of 2010 to 2016.\n",
        "\n",
        "## Description\n",
        "A brief description of columns.\n",
        "- open: The opening market price of the equity symbol on the date\n",
        "- high: The highest market price of the equity symbol on the date\n",
        "- low: The lowest recorded market price of the equity symbol on the date\n",
        "- close: The closing recorded price of the equity symbol on the date\n",
        "- symbol: Symbol of the listed company\n",
        "- volume: Total traded volume of the equity symbol on the date\n",
        "- date: Date of record"
      ]
    },
    {
      "cell_type": "markdown",
      "metadata": {
        "colab_type": "text",
        "id": "ctH_ZW5g-M3g"
      },
      "source": [
        "### Specifying the TensorFlow version\n",
        "Running `import tensorflow` will import the default version (currently 1.x). You can use 2.x by running a cell with the `tensorflow_version` magic **before** you run `import tensorflow`."
      ]
    },
    {
      "cell_type": "code",
      "metadata": {
        "colab_type": "code",
        "id": "vQbdODpH-M3r",
        "colab": {}
      },
      "source": [
        "%tensorflow_version 2.x"
      ],
      "execution_count": 0,
      "outputs": []
    },
    {
      "cell_type": "markdown",
      "metadata": {
        "colab_type": "text",
        "id": "nFQWH1tj-M38"
      },
      "source": [
        "### Import TensorFlow\n",
        "Once you have specified a version via this magic, you can run `import tensorflow` as normal and verify which version was imported as follows:"
      ]
    },
    {
      "cell_type": "code",
      "metadata": {
        "colab_type": "code",
        "id": "Ho5n-xhd-M3_",
        "outputId": "81f310df-ca09-4c47-da49-3fee007b405b",
        "colab": {
          "base_uri": "https://localhost:8080/",
          "height": 34
        }
      },
      "source": [
        "import tensorflow as tf\n",
        "print(tf.__version__)"
      ],
      "execution_count": 19,
      "outputs": [
        {
          "output_type": "stream",
          "text": [
            "2.1.0-rc1\n"
          ],
          "name": "stdout"
        }
      ]
    },
    {
      "cell_type": "markdown",
      "metadata": {
        "colab_type": "text",
        "id": "tgkl0qu6-M4F"
      },
      "source": [
        "### Set random seed"
      ]
    },
    {
      "cell_type": "code",
      "metadata": {
        "colab_type": "code",
        "id": "TKgTyuA3-M4G",
        "colab": {}
      },
      "source": [
        "tf.random.set_seed(42)"
      ],
      "execution_count": 0,
      "outputs": []
    },
    {
      "cell_type": "markdown",
      "metadata": {
        "id": "_88voqAH-O6J",
        "colab_type": "text"
      },
      "source": [
        "## Question 1"
      ]
    },
    {
      "cell_type": "markdown",
      "metadata": {
        "id": "dRHCeJqP-evf",
        "colab_type": "text"
      },
      "source": [
        "### Load the data\n",
        "- load the csv file and read it using pandas\n",
        "- file name is prices.csv"
      ]
    },
    {
      "cell_type": "code",
      "metadata": {
        "id": "cKVH5v7r-RmC",
        "colab_type": "code",
        "outputId": "11646f4b-5c48-4d49-e0c2-ea55457f4409",
        "colab": {
          "resources": {
            "http://localhost:8080/nbextensions/google.colab/files.js": {
              "data": "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",
              "ok": true,
              "headers": [
                [
                  "content-type",
                  "application/javascript"
                ]
              ],
              "status": 200,
              "status_text": ""
            }
          },
          "base_uri": "https://localhost:8080/",
          "height": 75
        }
      },
      "source": [
        "# run this cell to upload file if you are using google colab\n",
        "from google.colab import files\n",
        "files.upload()"
      ],
      "execution_count": 24,
      "outputs": [
        {
          "output_type": "display_data",
          "data": {
            "text/html": [
              "\n",
              "     <input type=\"file\" id=\"files-b76b471d-3b06-420e-b5ba-88cc1872f0c9\" name=\"files[]\" multiple disabled />\n",
              "     <output id=\"result-b76b471d-3b06-420e-b5ba-88cc1872f0c9\">\n",
              "      Upload widget is only available when the cell has been executed in the\n",
              "      current browser session. Please rerun this cell to enable.\n",
              "      </output>\n",
              "      <script src=\"/nbextensions/google.colab/files.js\"></script> "
            ],
            "text/plain": [
              "<IPython.core.display.HTML object>"
            ]
          },
          "metadata": {
            "tags": []
          }
        },
        {
          "output_type": "stream",
          "text": [
            "Saving prices.csv to prices.csv\n"
          ],
          "name": "stdout"
        }
      ]
    },
    {
      "cell_type": "code",
      "metadata": {
        "id": "-gDC6cSW_FSK",
        "colab_type": "code",
        "outputId": "cfd21b6a-dce5-444e-9072-7637d27164f6",
        "colab": {
          "base_uri": "https://localhost:8080/",
          "height": 203
        }
      },
      "source": [
        "import pandas as pd\n",
        "Prices = pd.read_csv('prices.csv')\n",
        "Prices.head()"
      ],
      "execution_count": 25,
      "outputs": [
        {
          "output_type": "execute_result",
          "data": {
            "text/html": [
              "<div>\n",
              "<style scoped>\n",
              "    .dataframe tbody tr th:only-of-type {\n",
              "        vertical-align: middle;\n",
              "    }\n",
              "\n",
              "    .dataframe tbody tr th {\n",
              "        vertical-align: top;\n",
              "    }\n",
              "\n",
              "    .dataframe thead th {\n",
              "        text-align: right;\n",
              "    }\n",
              "</style>\n",
              "<table border=\"1\" class=\"dataframe\">\n",
              "  <thead>\n",
              "    <tr style=\"text-align: right;\">\n",
              "      <th></th>\n",
              "      <th>date</th>\n",
              "      <th>symbol</th>\n",
              "      <th>open</th>\n",
              "      <th>close</th>\n",
              "      <th>low</th>\n",
              "      <th>high</th>\n",
              "      <th>volume</th>\n",
              "    </tr>\n",
              "  </thead>\n",
              "  <tbody>\n",
              "    <tr>\n",
              "      <th>0</th>\n",
              "      <td>2016-01-05 00:00:00</td>\n",
              "      <td>WLTW</td>\n",
              "      <td>123.430000</td>\n",
              "      <td>125.839996</td>\n",
              "      <td>122.309998</td>\n",
              "      <td>126.250000</td>\n",
              "      <td>2163600.0</td>\n",
              "    </tr>\n",
              "    <tr>\n",
              "      <th>1</th>\n",
              "      <td>2016-01-06 00:00:00</td>\n",
              "      <td>WLTW</td>\n",
              "      <td>125.239998</td>\n",
              "      <td>119.980003</td>\n",
              "      <td>119.940002</td>\n",
              "      <td>125.540001</td>\n",
              "      <td>2386400.0</td>\n",
              "    </tr>\n",
              "    <tr>\n",
              "      <th>2</th>\n",
              "      <td>2016-01-07 00:00:00</td>\n",
              "      <td>WLTW</td>\n",
              "      <td>116.379997</td>\n",
              "      <td>114.949997</td>\n",
              "      <td>114.930000</td>\n",
              "      <td>119.739998</td>\n",
              "      <td>2489500.0</td>\n",
              "    </tr>\n",
              "    <tr>\n",
              "      <th>3</th>\n",
              "      <td>2016-01-08 00:00:00</td>\n",
              "      <td>WLTW</td>\n",
              "      <td>115.480003</td>\n",
              "      <td>116.620003</td>\n",
              "      <td>113.500000</td>\n",
              "      <td>117.440002</td>\n",
              "      <td>2006300.0</td>\n",
              "    </tr>\n",
              "    <tr>\n",
              "      <th>4</th>\n",
              "      <td>2016-01-11 00:00:00</td>\n",
              "      <td>WLTW</td>\n",
              "      <td>117.010002</td>\n",
              "      <td>114.970001</td>\n",
              "      <td>114.089996</td>\n",
              "      <td>117.330002</td>\n",
              "      <td>1408600.0</td>\n",
              "    </tr>\n",
              "  </tbody>\n",
              "</table>\n",
              "</div>"
            ],
            "text/plain": [
              "                  date symbol        open  ...         low        high     volume\n",
              "0  2016-01-05 00:00:00   WLTW  123.430000  ...  122.309998  126.250000  2163600.0\n",
              "1  2016-01-06 00:00:00   WLTW  125.239998  ...  119.940002  125.540001  2386400.0\n",
              "2  2016-01-07 00:00:00   WLTW  116.379997  ...  114.930000  119.739998  2489500.0\n",
              "3  2016-01-08 00:00:00   WLTW  115.480003  ...  113.500000  117.440002  2006300.0\n",
              "4  2016-01-11 00:00:00   WLTW  117.010002  ...  114.089996  117.330002  1408600.0\n",
              "\n",
              "[5 rows x 7 columns]"
            ]
          },
          "metadata": {
            "tags": []
          },
          "execution_count": 25
        }
      ]
    },
    {
      "cell_type": "markdown",
      "metadata": {
        "id": "HlLKVPVH_BCT",
        "colab_type": "text"
      },
      "source": [
        "## Question 2"
      ]
    },
    {
      "cell_type": "markdown",
      "metadata": {
        "id": "9J4BlzVA_gZd",
        "colab_type": "text"
      },
      "source": [
        "### Drop columnns\n",
        "- drop \"date\" and \"symbol\" column from the data"
      ]
    },
    {
      "cell_type": "code",
      "metadata": {
        "id": "IKEK8aEE_Csx",
        "colab_type": "code",
        "colab": {}
      },
      "source": [
        "Prices.drop(columns=['date','symbol'],inplace=True)"
      ],
      "execution_count": 0,
      "outputs": []
    },
    {
      "cell_type": "code",
      "metadata": {
        "id": "Ezz0w2jnxTDl",
        "colab_type": "code",
        "outputId": "9d334908-0774-48f0-8c4a-9666b1289ac9",
        "colab": {
          "base_uri": "https://localhost:8080/",
          "height": 110
        }
      },
      "source": [
        "Prices.head(2)"
      ],
      "execution_count": 27,
      "outputs": [
        {
          "output_type": "execute_result",
          "data": {
            "text/html": [
              "<div>\n",
              "<style scoped>\n",
              "    .dataframe tbody tr th:only-of-type {\n",
              "        vertical-align: middle;\n",
              "    }\n",
              "\n",
              "    .dataframe tbody tr th {\n",
              "        vertical-align: top;\n",
              "    }\n",
              "\n",
              "    .dataframe thead th {\n",
              "        text-align: right;\n",
              "    }\n",
              "</style>\n",
              "<table border=\"1\" class=\"dataframe\">\n",
              "  <thead>\n",
              "    <tr style=\"text-align: right;\">\n",
              "      <th></th>\n",
              "      <th>open</th>\n",
              "      <th>close</th>\n",
              "      <th>low</th>\n",
              "      <th>high</th>\n",
              "      <th>volume</th>\n",
              "    </tr>\n",
              "  </thead>\n",
              "  <tbody>\n",
              "    <tr>\n",
              "      <th>0</th>\n",
              "      <td>123.430000</td>\n",
              "      <td>125.839996</td>\n",
              "      <td>122.309998</td>\n",
              "      <td>126.250000</td>\n",
              "      <td>2163600.0</td>\n",
              "    </tr>\n",
              "    <tr>\n",
              "      <th>1</th>\n",
              "      <td>125.239998</td>\n",
              "      <td>119.980003</td>\n",
              "      <td>119.940002</td>\n",
              "      <td>125.540001</td>\n",
              "      <td>2386400.0</td>\n",
              "    </tr>\n",
              "  </tbody>\n",
              "</table>\n",
              "</div>"
            ],
            "text/plain": [
              "         open       close         low        high     volume\n",
              "0  123.430000  125.839996  122.309998  126.250000  2163600.0\n",
              "1  125.239998  119.980003  119.940002  125.540001  2386400.0"
            ]
          },
          "metadata": {
            "tags": []
          },
          "execution_count": 27
        }
      ]
    },
    {
      "cell_type": "markdown",
      "metadata": {
        "id": "cTPhO6v-AiZt",
        "colab_type": "text"
      },
      "source": [
        "## Question 3"
      ]
    },
    {
      "cell_type": "markdown",
      "metadata": {
        "id": "SsZXmF3NAkna",
        "colab_type": "text"
      },
      "source": [
        "### Take initial rows\n",
        "- Take first 1000 rows from the data\n",
        "- This step is done to make the execution faster"
      ]
    },
    {
      "cell_type": "code",
      "metadata": {
        "id": "aKs04iIHAjxN",
        "colab_type": "code",
        "outputId": "abacbee9-371f-4fd0-acda-f2a0f42d946a",
        "colab": {
          "base_uri": "https://localhost:8080/",
          "height": 417
        }
      },
      "source": [
        "prices = Prices.iloc[:1000,:]\n",
        "prices"
      ],
      "execution_count": 28,
      "outputs": [
        {
          "output_type": "execute_result",
          "data": {
            "text/html": [
              "<div>\n",
              "<style scoped>\n",
              "    .dataframe tbody tr th:only-of-type {\n",
              "        vertical-align: middle;\n",
              "    }\n",
              "\n",
              "    .dataframe tbody tr th {\n",
              "        vertical-align: top;\n",
              "    }\n",
              "\n",
              "    .dataframe thead th {\n",
              "        text-align: right;\n",
              "    }\n",
              "</style>\n",
              "<table border=\"1\" class=\"dataframe\">\n",
              "  <thead>\n",
              "    <tr style=\"text-align: right;\">\n",
              "      <th></th>\n",
              "      <th>open</th>\n",
              "      <th>close</th>\n",
              "      <th>low</th>\n",
              "      <th>high</th>\n",
              "      <th>volume</th>\n",
              "    </tr>\n",
              "  </thead>\n",
              "  <tbody>\n",
              "    <tr>\n",
              "      <th>0</th>\n",
              "      <td>123.430000</td>\n",
              "      <td>125.839996</td>\n",
              "      <td>122.309998</td>\n",
              "      <td>126.250000</td>\n",
              "      <td>2163600.0</td>\n",
              "    </tr>\n",
              "    <tr>\n",
              "      <th>1</th>\n",
              "      <td>125.239998</td>\n",
              "      <td>119.980003</td>\n",
              "      <td>119.940002</td>\n",
              "      <td>125.540001</td>\n",
              "      <td>2386400.0</td>\n",
              "    </tr>\n",
              "    <tr>\n",
              "      <th>2</th>\n",
              "      <td>116.379997</td>\n",
              "      <td>114.949997</td>\n",
              "      <td>114.930000</td>\n",
              "      <td>119.739998</td>\n",
              "      <td>2489500.0</td>\n",
              "    </tr>\n",
              "    <tr>\n",
              "      <th>3</th>\n",
              "      <td>115.480003</td>\n",
              "      <td>116.620003</td>\n",
              "      <td>113.500000</td>\n",
              "      <td>117.440002</td>\n",
              "      <td>2006300.0</td>\n",
              "    </tr>\n",
              "    <tr>\n",
              "      <th>4</th>\n",
              "      <td>117.010002</td>\n",
              "      <td>114.970001</td>\n",
              "      <td>114.089996</td>\n",
              "      <td>117.330002</td>\n",
              "      <td>1408600.0</td>\n",
              "    </tr>\n",
              "    <tr>\n",
              "      <th>...</th>\n",
              "      <td>...</td>\n",
              "      <td>...</td>\n",
              "      <td>...</td>\n",
              "      <td>...</td>\n",
              "      <td>...</td>\n",
              "    </tr>\n",
              "    <tr>\n",
              "      <th>995</th>\n",
              "      <td>63.310001</td>\n",
              "      <td>63.590000</td>\n",
              "      <td>63.240002</td>\n",
              "      <td>63.639999</td>\n",
              "      <td>2133200.0</td>\n",
              "    </tr>\n",
              "    <tr>\n",
              "      <th>996</th>\n",
              "      <td>27.160000</td>\n",
              "      <td>26.990000</td>\n",
              "      <td>26.680000</td>\n",
              "      <td>27.299999</td>\n",
              "      <td>1982400.0</td>\n",
              "    </tr>\n",
              "    <tr>\n",
              "      <th>997</th>\n",
              "      <td>28.320000</td>\n",
              "      <td>28.770000</td>\n",
              "      <td>28.010000</td>\n",
              "      <td>28.809999</td>\n",
              "      <td>37152800.0</td>\n",
              "    </tr>\n",
              "    <tr>\n",
              "      <th>998</th>\n",
              "      <td>44.000000</td>\n",
              "      <td>44.799999</td>\n",
              "      <td>43.750000</td>\n",
              "      <td>44.810001</td>\n",
              "      <td>6568600.0</td>\n",
              "    </tr>\n",
              "    <tr>\n",
              "      <th>999</th>\n",
              "      <td>36.080002</td>\n",
              "      <td>37.139999</td>\n",
              "      <td>36.009998</td>\n",
              "      <td>37.230000</td>\n",
              "      <td>5604300.0</td>\n",
              "    </tr>\n",
              "  </tbody>\n",
              "</table>\n",
              "<p>1000 rows × 5 columns</p>\n",
              "</div>"
            ],
            "text/plain": [
              "           open       close         low        high      volume\n",
              "0    123.430000  125.839996  122.309998  126.250000   2163600.0\n",
              "1    125.239998  119.980003  119.940002  125.540001   2386400.0\n",
              "2    116.379997  114.949997  114.930000  119.739998   2489500.0\n",
              "3    115.480003  116.620003  113.500000  117.440002   2006300.0\n",
              "4    117.010002  114.970001  114.089996  117.330002   1408600.0\n",
              "..          ...         ...         ...         ...         ...\n",
              "995   63.310001   63.590000   63.240002   63.639999   2133200.0\n",
              "996   27.160000   26.990000   26.680000   27.299999   1982400.0\n",
              "997   28.320000   28.770000   28.010000   28.809999  37152800.0\n",
              "998   44.000000   44.799999   43.750000   44.810001   6568600.0\n",
              "999   36.080002   37.139999   36.009998   37.230000   5604300.0\n",
              "\n",
              "[1000 rows x 5 columns]"
            ]
          },
          "metadata": {
            "tags": []
          },
          "execution_count": 28
        }
      ]
    },
    {
      "cell_type": "markdown",
      "metadata": {
        "id": "6vGtnapgBIJm",
        "colab_type": "text"
      },
      "source": [
        "## Question 4"
      ]
    },
    {
      "cell_type": "markdown",
      "metadata": {
        "colab_type": "text",
        "id": "C8u_jlbABTip"
      },
      "source": [
        "### Get features and label from the dataset in separate variable\n",
        "- Take \"open\", \"close\", \"low\", \"high\" columns as features\n",
        "- Take \"volume\" column as label\n",
        "- Normalize label column by dividing it with 1000000"
      ]
    },
    {
      "cell_type": "code",
      "metadata": {
        "id": "xQjCMzUXBJbg",
        "colab_type": "code",
        "colab": {}
      },
      "source": [
        "features = prices.iloc[:,:-1]\n",
        "label = prices.iloc[:,4:5]"
      ],
      "execution_count": 0,
      "outputs": []
    },
    {
      "cell_type": "markdown",
      "metadata": {
        "id": "aTAKzlxZBz0z",
        "colab_type": "text"
      },
      "source": [
        "## Question 5"
      ]
    },
    {
      "cell_type": "markdown",
      "metadata": {
        "id": "IfY8Km1Zzyt2",
        "colab_type": "text"
      },
      "source": [
        "### Convert data\n",
        "- Convert features and labels to numpy array\n",
        "- Convert their data type to \"float32\""
      ]
    },
    {
      "cell_type": "code",
      "metadata": {
        "id": "Ko7nnQVbYENh",
        "colab_type": "code",
        "colab": {}
      },
      "source": [
        "import numpy as np\n",
        "features = np.array(features).astype('float32')\n",
        "labels = np.array(label).astype('float32')"
      ],
      "execution_count": 0,
      "outputs": []
    },
    {
      "cell_type": "code",
      "metadata": {
        "id": "cj63MFxeyJQF",
        "colab_type": "code",
        "outputId": "62717b8c-ab42-47b9-d9b1-d331edf9d2b3",
        "colab": {
          "base_uri": "https://localhost:8080/",
          "height": 52
        }
      },
      "source": [
        "print(\"The datatype of features is now --> {}\".format(features.dtype))\n",
        "print(\"The datatype of label is now --> {}\".format(labels.dtype))"
      ],
      "execution_count": 31,
      "outputs": [
        {
          "output_type": "stream",
          "text": [
            "The datatype of features is now --> float32\n",
            "The datatype of label is now --> float32\n"
          ],
          "name": "stdout"
        }
      ]
    },
    {
      "cell_type": "markdown",
      "metadata": {
        "colab_type": "text",
        "id": "3TWpN0nVTpUx"
      },
      "source": [
        "## Question 6"
      ]
    },
    {
      "cell_type": "markdown",
      "metadata": {
        "id": "WQ1FKEs-4btX",
        "colab_type": "text"
      },
      "source": [
        "### Normalize data\n",
        "- Normalize features\n",
        "- Use tf.math.l2_normalize to normalize features\n",
        "- You can read more about it here https://www.tensorflow.org/api_docs/python/tf/math/l2_normalize"
      ]
    },
    {
      "cell_type": "code",
      "metadata": {
        "id": "V0Tfe00X78wB",
        "colab_type": "code",
        "colab": {}
      },
      "source": [
        "feature_tensor = tf.convert_to_tensor(features)\n",
        "featured = tf.math.l2_normalize(features)"
      ],
      "execution_count": 0,
      "outputs": []
    },
    {
      "cell_type": "code",
      "metadata": {
        "id": "do2P7y_Qyvci",
        "colab_type": "code",
        "outputId": "6a8e98f3-5290-4b59-92a0-4693c104d77f",
        "colab": {
          "base_uri": "https://localhost:8080/",
          "height": 158
        }
      },
      "source": [
        "featured"
      ],
      "execution_count": 33,
      "outputs": [
        {
          "output_type": "execute_result",
          "data": {
            "text/plain": [
              "<tf.Tensor: shape=(1000, 4), dtype=float32, numpy=\n",
              "array([[0.02202893, 0.02245905, 0.02182904, 0.02253223],\n",
              "       [0.02235197, 0.0214132 , 0.02140606, 0.02240551],\n",
              "       [0.0207707 , 0.02051548, 0.02051191, 0.02137037],\n",
              "       ...,\n",
              "       [0.00505436, 0.00513467, 0.00499903, 0.00514181],\n",
              "       [0.00785282, 0.00799559, 0.0078082 , 0.00799738],\n",
              "       [0.00643931, 0.00662849, 0.00642682, 0.00664455]], dtype=float32)>"
            ]
          },
          "metadata": {
            "tags": []
          },
          "execution_count": 33
        }
      ]
    },
    {
      "cell_type": "code",
      "metadata": {
        "id": "Hu0C-jhRyx8B",
        "colab_type": "code",
        "colab": {}
      },
      "source": [
        "sess = tf.compat.v1.Session()\n",
        "with sess.as_default():\n",
        "  featured_norm = featured.numpy()"
      ],
      "execution_count": 0,
      "outputs": []
    },
    {
      "cell_type": "code",
      "metadata": {
        "id": "40iKsNV_y-LX",
        "colab_type": "code",
        "outputId": "be684679-39ea-4a54-ade6-cd3f5c0e0267",
        "colab": {
          "base_uri": "https://localhost:8080/",
          "height": 54
        }
      },
      "source": [
        "print(\"Voila!!the datatype is back from {} to the {} type..\".format(type(featured),type(featured_norm)))"
      ],
      "execution_count": 35,
      "outputs": [
        {
          "output_type": "stream",
          "text": [
            "Voila!!the datatype is back from <class 'tensorflow.python.framework.ops.EagerTensor'> to the <class 'numpy.ndarray'> type..\n"
          ],
          "name": "stdout"
        }
      ]
    },
    {
      "cell_type": "markdown",
      "metadata": {
        "colab_type": "text",
        "id": "wmXUGc2oTspa"
      },
      "source": [
        "## Question 7"
      ]
    },
    {
      "cell_type": "markdown",
      "metadata": {
        "id": "f1MGXsaQzUF4",
        "colab_type": "text"
      },
      "source": [
        ""
      ]
    },
    {
      "cell_type": "markdown",
      "metadata": {
        "id": "VJelDMpzxs0L",
        "colab_type": "text"
      },
      "source": [
        "### Define weight and bias\n",
        "- Initialize weight and bias with tf.zeros\n",
        "- tf.zeros is an initializer that generates tensors initialized to 0\n",
        "- Specify the value for shape"
      ]
    },
    {
      "cell_type": "code",
      "metadata": {
        "id": "8o9RPWVTxs0O",
        "colab_type": "code",
        "colab": {}
      },
      "source": [
        "w = tf.random.normal(shape =(4,5))\n",
        "b = tf.zeros(shape=(5))"
      ],
      "execution_count": 0,
      "outputs": []
    },
    {
      "cell_type": "code",
      "metadata": {
        "id": "lopCcAqNz6Bc",
        "colab_type": "code",
        "outputId": "56d54011-7c05-4961-a098-0c00eb6b3b47",
        "colab": {
          "base_uri": "https://localhost:8080/",
          "height": 228
        }
      },
      "source": [
        "print(\"Checking the weights....\\n\",w,\"\\nHmm...It seems we've got the weights as required\")\n",
        "print(\"\\nChecking the bias....\\n\",b,\"\\nSeems we've got the bias as well...\\nMoving on to the next step..\")"
      ],
      "execution_count": 56,
      "outputs": [
        {
          "output_type": "stream",
          "text": [
            "Checking the weights....\n",
            " tf.Tensor(\n",
            "[[ 0.3274685  -0.8426258   0.3194337  -1.4075519  -2.3880599 ]\n",
            " [-1.0392479  -0.5573232   0.539707    1.6994323   0.28893656]\n",
            " [-1.5066116  -0.2645474  -0.59722406 -1.9171132  -0.62044144]\n",
            " [ 0.8504023  -0.40604794 -3.0258412   0.9058464   0.29855987]], shape=(4, 5), dtype=float32) \n",
            "Hmm...It seems we've got the weights as required\n",
            "\n",
            "Checking the bias....\n",
            " tf.Tensor([0. 0. 0. 0. 0.], shape=(5,), dtype=float32) \n",
            "Seems we've got the bias as well...\n",
            "Moving on to the next step..\n"
          ],
          "name": "stdout"
        }
      ]
    },
    {
      "cell_type": "markdown",
      "metadata": {
        "colab_type": "text",
        "id": "8a0wr94aTyjg"
      },
      "source": [
        "## Question 8"
      ]
    },
    {
      "cell_type": "markdown",
      "metadata": {
        "id": "zMXXYdOSxs0Q",
        "colab_type": "text"
      },
      "source": [
        "### Get prediction\n",
        "- Define a function to get prediction\n",
        "- Approach: prediction = (X * W) + b; here is X is features"
      ]
    },
    {
      "cell_type": "code",
      "metadata": {
        "id": "U8Cty1y0xs0S",
        "colab_type": "code",
        "colab": {}
      },
      "source": [
        "def pred(X,w,b):\n",
        "  res1 = tf.matmul(X,w)\n",
        "  result = tf.add(res1,b)\n",
        "  return result"
      ],
      "execution_count": 0,
      "outputs": []
    },
    {
      "cell_type": "code",
      "metadata": {
        "id": "WGi4vq_bYUMT",
        "colab_type": "code",
        "colab": {}
      },
      "source": [
        "result = pred(featured_norm,w,b)"
      ],
      "execution_count": 0,
      "outputs": []
    },
    {
      "cell_type": "markdown",
      "metadata": {
        "id": "lQmS3Tauxs0V",
        "colab_type": "text"
      },
      "source": [
        "### Calculate loss\n",
        "- Calculate loss using predictions\n",
        "- Define a function to calculate loss\n",
        "- We are calculating mean squared error"
      ]
    },
    {
      "cell_type": "code",
      "metadata": {
        "id": "-FRXmDd5xs0X",
        "colab_type": "code",
        "colab": {}
      },
      "source": [
        "def loss(prediction_result,y):\n",
        "  return tf.math.reduce_mean(tf.square(prediction_result,y))"
      ],
      "execution_count": 0,
      "outputs": []
    },
    {
      "cell_type": "code",
      "metadata": {
        "id": "aNRk52wCZ0ln",
        "colab_type": "code",
        "colab": {}
      },
      "source": [
        "mse = loss(pred(featured_norm,w,b),labels)"
      ],
      "execution_count": 0,
      "outputs": []
    },
    {
      "cell_type": "code",
      "metadata": {
        "id": "6n8mY6edaLsA",
        "colab_type": "code",
        "outputId": "e2a09978-1a61-4ec7-9c05-024e420ce89c",
        "colab": {
          "base_uri": "https://localhost:8080/",
          "height": 34
        }
      },
      "source": [
        "mse"
      ],
      "execution_count": 61,
      "outputs": [
        {
          "output_type": "execute_result",
          "data": {
            "text/plain": [
              "<tf.Tensor: shape=(), dtype=float32, numpy=0.0010078301>"
            ]
          },
          "metadata": {
            "tags": []
          },
          "execution_count": 61
        }
      ]
    },
    {
      "cell_type": "markdown",
      "metadata": {
        "colab_type": "text",
        "id": "ZbBpnOtfT0wd"
      },
      "source": [
        "## Question 9"
      ]
    },
    {
      "cell_type": "markdown",
      "metadata": {
        "id": "bkOzAUUsTmF_",
        "colab_type": "text"
      },
      "source": [
        "### Define a function to train the model\n",
        "1.   Record all the mathematical steps to calculate Loss\n",
        "2.   Calculate Gradients of Loss w.r.t weights and bias\n",
        "3.   Update Weights and Bias based on gradients and learning rate to minimize loss"
      ]
    },
    {
      "cell_type": "code",
      "metadata": {
        "id": "2R4uieGYLYtM",
        "colab_type": "code",
        "colab": {}
      },
      "source": [
        "def train(x,y,w,b,epochs,learning_rate):\n",
        "  for i in range(epochs):\n",
        "    print(\"\\nEpoch {}/{}:-\".format(i,epochs))\n",
        "    with tf.GradientTape() as tape:\n",
        "     tape.watch([w,b])\n",
        "     curr_pred = pred(x,w,b)\n",
        "     curr_loss = loss(curr_pred,y)\n",
        "     dw1,db1 = tape.gradient(curr_loss,[w,b])\n",
        "     w = w - learning_rate*dw1\n",
        "     b = b - learning_rate*db1\n",
        "    print(\"Current weights are\\n{} \\n& bias is {}\".format(w,b))\n",
        "    print(\"The loss at training iteration no {} is {}\".format(i,loss(pred(x,w,b),y))) \n",
        "  return w,b"
      ],
      "execution_count": 0,
      "outputs": []
    },
    {
      "cell_type": "markdown",
      "metadata": {
        "colab_type": "text",
        "id": "AW4SEP8kT2ls"
      },
      "source": [
        "## Question 10"
      ]
    },
    {
      "cell_type": "markdown",
      "metadata": {
        "id": "yeN0deOvT81N",
        "colab_type": "text"
      },
      "source": [
        "### Train the model for 100 epochs \n",
        "- Observe the training loss at every iteration"
      ]
    },
    {
      "cell_type": "code",
      "metadata": {
        "id": "Jjkn4gUgLevE",
        "colab_type": "code",
        "outputId": "dd14df33-0f3d-4d55-9ee9-d4693f9b976e",
        "colab": {
          "base_uri": "https://localhost:8080/",
          "height": 1000
        }
      },
      "source": [
        "w1,b1 = train(featured_norm,labels,w,b,100,0.01)"
      ],
      "execution_count": 63,
      "outputs": [
        {
          "output_type": "stream",
          "text": [
            "\n",
            "Epoch 0/100:-\n",
            "Current weights are\n",
            "[[ 0.32746986 -0.8426237   0.31943646 -1.4075512  -2.3880575 ]\n",
            " [-1.0392466  -0.55732113  0.5397098   1.699433    0.28893897]\n",
            " [-1.5066103  -0.26454535 -0.5972213  -1.9171125  -0.62043905]\n",
            " [ 0.85040367 -0.40604585 -3.0258384   0.90584713  0.29856232]] \n",
            "& bias is [6.4053347e-05 9.8640550e-05 1.3262770e-04 3.2729618e-05 1.1473722e-04]\n",
            "The loss at training iteration no 0 is 0.0010032654972746968\n",
            "\n",
            "Epoch 1/100:-\n",
            "Current weights are\n",
            "[[ 0.3274712  -0.8426216   0.31943923 -1.4075505  -2.388055  ]\n",
            " [-1.0392452  -0.55731905  0.5397126   1.6994337   0.28894138]\n",
            " [-1.506609   -0.2645433  -0.5972186  -1.9171118  -0.62043667]\n",
            " [ 0.85040504 -0.40604377 -3.0258355   0.90584785  0.29856473]] \n",
            "& bias is [1.2785022e-04 1.9688613e-04 2.6472437e-04 6.5328190e-05 2.2901504e-04]\n",
            "The loss at training iteration no 1 is 0.0009987371740862727\n",
            "\n",
            "Epoch 2/100:-\n",
            "Current weights are\n",
            "[[ 0.32747254 -0.84261954  0.319442   -1.4075497  -2.3880527 ]\n",
            " [-1.0392439  -0.55731696  0.5397154   1.6994344   0.2889438 ]\n",
            " [-1.5066077  -0.26454124 -0.59721583 -1.917111   -0.6204343 ]\n",
            " [ 0.8504064  -0.40604168 -3.0258327   0.90584856  0.29856715]] \n",
            "& bias is [1.9139165e-04 2.9473833e-04 3.9629210e-04 9.7796226e-05 3.4283526e-04]\n",
            "The loss at training iteration no 2 is 0.0009942448232322931\n",
            "\n",
            "Epoch 3/100:-\n",
            "Current weights are\n",
            "[[ 0.32747388 -0.84261745  0.31944478 -1.407549   -2.3880503 ]\n",
            " [-1.0392426  -0.5573149   0.53971815  1.6994351   0.28894618]\n",
            " [-1.5066063  -0.2645392  -0.5972131  -1.9171103  -0.6204319 ]\n",
            " [ 0.8504078  -0.4060396  -3.0258298   0.9058493   0.29856956]] \n",
            "& bias is [0.00025468 0.0003922  0.00052733 0.00013013 0.0004562 ]\n",
            "The loss at training iteration no 3 is 0.000989788444712758\n",
            "\n",
            "Epoch 4/100:-\n",
            "Current weights are\n",
            "[[ 0.32747522 -0.8426154   0.31944755 -1.4075483  -2.388048  ]\n",
            " [-1.0392413  -0.55731285  0.5397209   1.6994358   0.28894857]\n",
            " [-1.506605   -0.2645372  -0.59721035 -1.9171096  -0.6204295 ]\n",
            " [ 0.85040915 -0.40603754 -3.025827    0.90585     0.29857197]] \n",
            "& bias is [0.00031771 0.00048927 0.00065785 0.00016234 0.00056911]\n",
            "The loss at training iteration no 4 is 0.0009853678056970239\n",
            "\n",
            "Epoch 5/100:-\n",
            "Current weights are\n",
            "[[ 0.32747656 -0.8426134   0.3194503  -1.4075476  -2.3880455 ]\n",
            " [-1.03924    -0.5573108   0.53972363  1.6994365   0.28895095]\n",
            " [-1.5066037  -0.26453516 -0.5972076  -1.9171089  -0.62042713]\n",
            " [ 0.8504105  -0.40603548 -3.025824    0.9058507   0.2985744 ]] \n",
            "& bias is [0.00038049 0.00058595 0.00078784 0.00019442 0.00068157]\n",
            "The loss at training iteration no 5 is 0.0009809823241084814\n",
            "\n",
            "Epoch 6/100:-\n",
            "Current weights are\n",
            "[[ 0.3274779  -0.8426114   0.31945303 -1.4075469  -2.3880432 ]\n",
            " [-1.0392387  -0.5573088   0.5397264   1.6994373   0.28895333]\n",
            " [-1.5066024  -0.26453313 -0.59720486 -1.9171082  -0.62042475]\n",
            " [ 0.85041183 -0.40603343 -3.0258212   0.9058514   0.2985768 ]] \n",
            "& bias is [0.00044302 0.00068224 0.00091732 0.00022637 0.00079358]\n",
            "The loss at training iteration no 6 is 0.0009766318835318089\n",
            "\n",
            "Epoch 7/100:-\n",
            "Current weights are\n",
            "[[ 0.32747924 -0.84260935  0.31945577 -1.4075462  -2.3880408 ]\n",
            " [-1.0392374  -0.55730677  0.5397291   1.699438    0.28895572]\n",
            " [-1.5066011  -0.2645311  -0.5972021  -1.9171075  -0.6204224 ]\n",
            " [ 0.85041314 -0.40603137 -3.0258183   0.90585214  0.2985792 ]] \n",
            "& bias is [0.0005053  0.00077815 0.00104627 0.0002582  0.00090514]\n",
            "The loss at training iteration no 7 is 0.0009723161929287016\n",
            "\n",
            "Epoch 8/100:-\n",
            "Current weights are\n",
            "[[ 0.32748055 -0.8426073   0.3194585  -1.4075454  -2.3880384 ]\n",
            " [-1.0392361  -0.55730474  0.53973186  1.6994387   0.2889581 ]\n",
            " [-1.5065998  -0.26452908 -0.59719944 -1.9171067  -0.6204201 ]\n",
            " [ 0.85041445 -0.4060293  -3.0258155   0.90585285  0.29858157]] \n",
            "& bias is [0.00056733 0.00087368 0.00117471 0.00028989 0.00101625]\n",
            "The loss at training iteration no 8 is 0.0009680350194685161\n",
            "\n",
            "Epoch 9/100:-\n",
            "Current weights are\n",
            "[[ 0.32748187 -0.8426053   0.31946126 -1.4075447  -2.388036  ]\n",
            " [-1.0392348  -0.5573027   0.5397346   1.6994394   0.28896046]\n",
            " [-1.5065985  -0.26452708 -0.59719676 -1.917106   -0.6204178 ]\n",
            " [ 0.85041577 -0.40602726 -3.0258126   0.9058535   0.29858395]] \n",
            "& bias is [0.00062911 0.00096882 0.00130263 0.00032146 0.00112692]\n",
            "The loss at training iteration no 9 is 0.0009637880139052868\n",
            "\n",
            "Epoch 10/100:-\n",
            "Current weights are\n",
            "[[ 0.32748318 -0.84260327  0.31946397 -1.407544   -2.3880336 ]\n",
            " [-1.0392334  -0.5573007   0.53973734  1.6994401   0.2889628 ]\n",
            " [-1.5065972  -0.2645251  -0.5971941  -1.9171053  -0.62041545]\n",
            " [ 0.8504171  -0.4060252  -3.0258098   0.90585417  0.29858634]] \n",
            "& bias is [0.00069065 0.00106358 0.00143005 0.0003529  0.00123714]\n",
            "The loss at training iteration no 10 is 0.0009595748852007091\n",
            "\n",
            "Epoch 11/100:-\n",
            "Current weights are\n",
            "[[ 0.3274845  -0.84260124  0.31946668 -1.4075433  -2.3880312 ]\n",
            " [-1.0392321  -0.55729866  0.5397401   1.6994408   0.28896517]\n",
            " [-1.5065958  -0.2645231  -0.5971914  -1.9171046  -0.6204131 ]\n",
            " [ 0.8504184  -0.40602317 -3.0258071   0.9058548   0.29858872]] \n",
            "& bias is [0.00075194 0.00115796 0.00155695 0.00038422 0.00134693]\n",
            "The loss at training iteration no 11 is 0.0009553955169394612\n",
            "\n",
            "Epoch 12/100:-\n",
            "Current weights are\n",
            "[[ 0.3274858  -0.8425992   0.3194694  -1.4075426  -2.3880289 ]\n",
            " [-1.0392308  -0.55729663  0.53974277  1.6994416   0.28896752]\n",
            " [-1.5065945  -0.2645211  -0.5971887  -1.9171039  -0.6204108 ]\n",
            " [ 0.8504197  -0.40602115 -3.0258045   0.9058555   0.29859108]] \n",
            "& bias is [0.00081298 0.00125197 0.00168334 0.00041541 0.00145627]\n",
            "The loss at training iteration no 12 is 0.000951249385252595\n",
            "\n",
            "Epoch 13/100:-\n",
            "Current weights are\n",
            "[[ 0.3274871  -0.8425972   0.3194721  -1.4075419  -2.3880265 ]\n",
            " [-1.0392295  -0.5572946   0.53974545  1.6994423   0.28896987]\n",
            " [-1.5065932  -0.2645191  -0.597186   -1.9171032  -0.6204085 ]\n",
            " [ 0.850421   -0.40601912 -3.025802    0.90585613  0.29859343]] \n",
            "& bias is [0.00087378 0.0013456  0.00180923 0.00044648 0.00156518]\n",
            "The loss at training iteration no 13 is 0.0009471364901401103\n",
            "\n",
            "Epoch 14/100:-\n",
            "Current weights are\n",
            "[[ 0.32748842 -0.84259516  0.3194748  -1.4075412  -2.388024  ]\n",
            " [-1.0392282  -0.5572926   0.53974813  1.699443    0.28897223]\n",
            " [-1.5065919  -0.2645171  -0.59718335 -1.9171025  -0.62040615]\n",
            " [ 0.8504223  -0.4060171  -3.0257993   0.9058568   0.2985958 ]] \n",
            "& bias is [0.00093433 0.00143885 0.00193461 0.00047742 0.00167365]\n",
            "The loss at training iteration no 14 is 0.0009430564823560417\n",
            "\n",
            "Epoch 15/100:-\n",
            "Current weights are\n",
            "[[ 0.32748973 -0.84259313  0.31947747 -1.4075404  -2.3880217 ]\n",
            " [-1.0392269  -0.55729055  0.5397508   1.6994437   0.28897455]\n",
            " [-1.5065906  -0.2645151  -0.59718066 -1.9171017  -0.6204038 ]\n",
            " [ 0.85042363 -0.40601507 -3.0257967   0.90585744  0.29859814]] \n",
            "& bias is [0.00099464 0.00153173 0.00205949 0.00050824 0.00178168]\n",
            "The loss at training iteration no 15 is 0.0009390088962391019\n",
            "\n",
            "Epoch 16/100:-\n",
            "Current weights are\n",
            "[[ 0.32749104 -0.8425911   0.31948015 -1.4075397  -2.3880193 ]\n",
            " [-1.0392256  -0.5572885   0.5397535   1.6994444   0.28897688]\n",
            " [-1.5065893  -0.26451313 -0.597178   -1.917101   -0.6204015 ]\n",
            " [ 0.85042495 -0.40601304 -3.025794    0.9058581   0.2986005 ]] \n",
            "& bias is [0.00105472 0.00162424 0.00218387 0.00053893 0.00188929]\n",
            "The loss at training iteration no 16 is 0.00093499367358163\n",
            "\n",
            "Epoch 17/100:-\n",
            "Current weights are\n",
            "[[ 0.32749236 -0.84258914  0.31948283 -1.407539   -2.388017  ]\n",
            " [-1.0392243  -0.55728656  0.5397562   1.6994451   0.2889792 ]\n",
            " [-1.506588   -0.26451117 -0.5971753  -1.9171003  -0.6203992 ]\n",
            " [ 0.85042626 -0.40601104 -3.0257914   0.90585876  0.29860285]] \n",
            "& bias is [0.00111455 0.00171637 0.00230776 0.0005695  0.00199646]\n",
            "The loss at training iteration no 17 is 0.0009310105233453214\n",
            "\n",
            "Epoch 18/100:-\n",
            "Current weights are\n",
            "[[ 0.32749364 -0.8425872   0.31948552 -1.4075383  -2.3880146 ]\n",
            " [-1.039223   -0.5572846   0.53975886  1.6994458   0.28898153]\n",
            " [-1.5065867  -0.2645092  -0.5971727  -1.9170996  -0.62039685]\n",
            " [ 0.85042757 -0.40600905 -3.0257888   0.9058594   0.29860517]] \n",
            "& bias is [0.00117414 0.00180814 0.00243114 0.00059995 0.0021032 ]\n",
            "The loss at training iteration no 18 is 0.0009270591544918716\n",
            "\n",
            "Epoch 19/100:-\n",
            "Current weights are\n",
            "[[ 0.32749492 -0.8425852   0.31948817 -1.4075376  -2.3880122 ]\n",
            " [-1.0392216  -0.5572826   0.53976154  1.6994466   0.28898385]\n",
            " [-1.5065854  -0.26450723 -0.59717005 -1.9170989  -0.6203946 ]\n",
            " [ 0.8504289  -0.40600705 -3.0257862   0.90586007  0.2986075 ]] \n",
            "& bias is [0.00123349 0.00189954 0.00255404 0.00063028 0.00220952]\n",
            "The loss at training iteration no 19 is 0.0009231393923982978\n",
            "\n",
            "Epoch 20/100:-\n",
            "Current weights are\n",
            "[[ 0.3274962  -0.84258324  0.31949082 -1.4075369  -2.3880098 ]\n",
            " [-1.0392203  -0.55728066  0.5397642   1.6994473   0.28898615]\n",
            " [-1.506584   -0.26450527 -0.59716743 -1.9170982  -0.6203923 ]\n",
            " [ 0.8504302  -0.40600505 -3.0257835   0.9058607   0.29860982]] \n",
            "& bias is [0.0012926  0.00199058 0.00267644 0.00066049 0.00231541]\n",
            "The loss at training iteration no 20 is 0.0009192508878186345\n",
            "\n",
            "Epoch 21/100:-\n",
            "Current weights are\n",
            "[[ 0.32749748 -0.8425813   0.31949347 -1.4075361  -2.3880074 ]\n",
            " [-1.039219   -0.5572787   0.5397669   1.699448    0.28898844]\n",
            " [-1.5065827  -0.2645033  -0.5971648  -1.9170976  -0.62039006]\n",
            " [ 0.8504315  -0.40600306 -3.025781    0.9058614   0.29861215]] \n",
            "& bias is [0.00135148 0.00208125 0.00279835 0.00069057 0.00242087]\n",
            "The loss at training iteration no 21 is 0.000915393466129899\n",
            "\n",
            "Epoch 22/100:-\n",
            "Current weights are\n",
            "[[ 0.32749876 -0.8425793   0.31949612 -1.4075354  -2.388005  ]\n",
            " [-1.0392177  -0.5572767   0.53976953  1.6994487   0.28899074]\n",
            " [-1.5065814  -0.26450133 -0.5971622  -1.917097   -0.6203878 ]\n",
            " [ 0.8504328  -0.40600106 -3.0257783   0.90586203  0.29861447]] \n",
            "& bias is [0.00141012 0.00217155 0.00291977 0.00072053 0.00252592]\n",
            "The loss at training iteration no 22 is 0.0009115668362937868\n",
            "\n",
            "Epoch 23/100:-\n",
            "Current weights are\n",
            "[[ 0.32750005 -0.84257734  0.31949878 -1.4075347  -2.3880026 ]\n",
            " [-1.0392164  -0.55727476  0.53977215  1.6994494   0.28899303]\n",
            " [-1.5065801  -0.2644994  -0.59715956 -1.9170964  -0.6203855 ]\n",
            " [ 0.8504341  -0.40599906 -3.0257757   0.9058627   0.2986168 ]] \n",
            "& bias is [0.00146853 0.0022615  0.00304071 0.00075038 0.00263054]\n",
            "The loss at training iteration no 23 is 0.0009077707072719932\n",
            "\n",
            "Epoch 24/100:-\n",
            "Current weights are\n",
            "[[ 0.32750133 -0.8425754   0.31950143 -1.407534   -2.3880002 ]\n",
            " [-1.0392151  -0.5572728   0.5397748   1.6994501   0.28899533]\n",
            " [-1.5065788  -0.26449746 -0.59715694 -1.9170958  -0.62038326]\n",
            " [ 0.85043544 -0.4059971  -3.025773    0.90586334  0.2986191 ]] \n",
            "& bias is [0.0015267  0.00235108 0.00316116 0.0007801  0.00273475]\n",
            "The loss at training iteration no 24 is 0.0009040049626491964\n",
            "\n",
            "Epoch 25/100:-\n",
            "Current weights are\n",
            "[[ 0.3275026  -0.8425734   0.31950405 -1.4075333  -2.3879979 ]\n",
            " [-1.0392138  -0.5572708   0.5397774   1.6994509   0.28899762]\n",
            " [-1.5065775  -0.26449552 -0.5971543  -1.9170952  -0.620381  ]\n",
            " [ 0.85043675 -0.40599513 -3.0257704   0.905864    0.2986214 ]] \n",
            "& bias is [0.00158464 0.00244031 0.00328113 0.00080971 0.00283853]\n",
            "The loss at training iteration no 25 is 0.0009002693113870919\n",
            "\n",
            "Epoch 26/100:-\n",
            "Current weights are\n",
            "[[ 0.3275039  -0.84257144  0.31950668 -1.4075327  -2.3879955 ]\n",
            " [-1.0392125  -0.55726886  0.53978     1.6994514   0.2889999 ]\n",
            " [-1.5065762  -0.26449358 -0.5971517  -1.9170946  -0.62037873]\n",
            " [ 0.85043806 -0.40599316 -3.0257678   0.90586466  0.29862368]] \n",
            "& bias is [0.00164235 0.00252918 0.00340062 0.0008392  0.0029419 ]\n",
            "The loss at training iteration no 26 is 0.0008965634624473751\n",
            "\n",
            "Epoch 27/100:-\n",
            "Current weights are\n",
            "[[ 0.32750517 -0.8425695   0.3195093  -1.4075321  -2.387993  ]\n",
            " [-1.0392112  -0.5572669   0.53978264  1.699452    0.28900215]\n",
            " [-1.5065749  -0.26449165 -0.5971491  -1.917094   -0.62037647]\n",
            " [ 0.8504393  -0.4059912  -3.0257652   0.9058653   0.29862598]] \n",
            "& bias is [0.00169983 0.00261769 0.00351963 0.00086857 0.00304486]\n",
            "The loss at training iteration no 27 is 0.0008928871247917414\n",
            "\n",
            "Epoch 28/100:-\n",
            "Current weights are\n",
            "[[ 0.32750645 -0.8425675   0.31951192 -1.4075315  -2.3879907 ]\n",
            " [-1.0392098  -0.5572649   0.53978527  1.6994526   0.28900442]\n",
            " [-1.5065736  -0.2644897  -0.5971465  -1.9170934  -0.6203742 ]\n",
            " [ 0.85044056 -0.40598923 -3.0257626   0.90586597  0.29862827]] \n",
            "& bias is [0.00175708 0.00270585 0.00363817 0.00089782 0.00314741]\n",
            "The loss at training iteration no 28 is 0.000889240182004869\n",
            "\n",
            "Epoch 29/100:-\n",
            "Current weights are\n",
            "[[ 0.3275077  -0.84256554  0.31951454 -1.4075309  -2.3879886 ]\n",
            " [-1.0392085  -0.55726296  0.5397879   1.6994532   0.28900668]\n",
            " [-1.5065722  -0.26448777 -0.59714395 -1.9170928  -0.62037194]\n",
            " [ 0.8504418  -0.40598726 -3.02576     0.9058666   0.29863057]] \n",
            "& bias is [0.00181409 0.00279366 0.00375623 0.00092695 0.00324954]\n",
            "The loss at training iteration no 29 is 0.0008856224012561142\n",
            "\n",
            "Epoch 30/100:-\n",
            "Current weights are\n",
            "[[ 0.32750896 -0.84256357  0.31951714 -1.4075303  -2.3879864 ]\n",
            " [-1.0392072  -0.557261    0.5397905   1.6994538   0.28900895]\n",
            " [-1.506571   -0.26448587 -0.5971414  -1.9170922  -0.6203697 ]\n",
            " [ 0.85044307 -0.4059853  -3.0257573   0.9058673   0.29863283]] \n",
            "& bias is [0.00187088 0.00288111 0.00387382 0.00095597 0.00335127]\n",
            "The loss at training iteration no 30 is 0.0008820335497148335\n",
            "\n",
            "Epoch 31/100:-\n",
            "Current weights are\n",
            "[[ 0.3275102  -0.84256166  0.31951973 -1.4075297  -2.3879843 ]\n",
            " [-1.0392059  -0.5572591   0.53979313  1.6994544   0.2890112 ]\n",
            " [-1.5065699  -0.26448396 -0.5971388  -1.9170916  -0.62036747]\n",
            " [ 0.8504443  -0.40598336 -3.0257547   0.90586793  0.2986351 ]] \n",
            "& bias is [0.00192744 0.00296822 0.00399093 0.00098487 0.00345258]\n",
            "The loss at training iteration no 31 is 0.0008784732781350613\n",
            "\n",
            "Epoch 32/100:-\n",
            "Current weights are\n",
            "[[ 0.32751146 -0.84255975  0.31952232 -1.4075291  -2.3879821 ]\n",
            " [-1.0392046  -0.5572572   0.53979576  1.699455    0.28901345]\n",
            " [-1.5065687  -0.26448205 -0.59713626 -1.917091   -0.62036526]\n",
            " [ 0.85044557 -0.40598142 -3.025752    0.9058686   0.29863736]] \n",
            "& bias is [0.00198378 0.00305497 0.00410758 0.00101366 0.0035535 ]\n",
            "The loss at training iteration no 32 is 0.0008749416447244585\n",
            "\n",
            "Epoch 33/100:-\n",
            "Current weights are\n",
            "[[ 0.3275127  -0.84255785  0.3195249  -1.4075285  -2.38798   ]\n",
            " [-1.0392033  -0.55725527  0.5397983   1.6994556   0.28901568]\n",
            " [-1.5065675  -0.26448014 -0.5971337  -1.9170904  -0.62036306]\n",
            " [ 0.8504468  -0.40597948 -3.0257494   0.90586925  0.29863963]] \n",
            "& bias is [0.00203989 0.00314138 0.00422376 0.00104233 0.00365401]\n",
            "The loss at training iteration no 33 is 0.0008714379509910941\n",
            "\n",
            "Epoch 34/100:-\n",
            "Current weights are\n",
            "[[ 0.32751396 -0.84255594  0.3195275  -1.4075279  -2.3879778 ]\n",
            " [-1.0392021  -0.55725336  0.5398009   1.6994562   0.28901792]\n",
            " [-1.5065663  -0.26447824 -0.59713113 -1.9170898  -0.62036085]\n",
            " [ 0.8504481  -0.40597755 -3.0257468   0.9058699   0.2986419 ]] \n",
            "& bias is [0.00209578 0.00322744 0.00433948 0.00107088 0.00375411]\n",
            "The loss at training iteration no 34 is 0.0008679624297656119\n",
            "\n",
            "Epoch 35/100:-\n",
            "Current weights are\n",
            "[[ 0.3275152  -0.84255403  0.31953007 -1.4075273  -2.3879757 ]\n",
            " [-1.0392009  -0.55725145  0.53980345  1.6994568   0.28902015]\n",
            " [-1.5065651  -0.26447633 -0.59712857 -1.9170892  -0.62035865]\n",
            " [ 0.8504493  -0.4059756  -3.0257442   0.90587056  0.29864416]] \n",
            "& bias is [0.00215144 0.00331316 0.00445473 0.00109933 0.00385382]\n",
            "The loss at training iteration no 35 is 0.0008645145571790636\n",
            "\n",
            "Epoch 36/100:-\n",
            "Current weights are\n",
            "[[ 0.32751647 -0.8425521   0.31953263 -1.4075267  -2.3879735 ]\n",
            " [-1.0391997  -0.55724955  0.539806    1.6994574   0.2890224 ]\n",
            " [-1.5065639  -0.26447442 -0.597126   -1.9170886  -0.62035644]\n",
            " [ 0.8504506  -0.40597367 -3.0257416   0.9058712   0.2986464 ]] \n",
            "& bias is [0.00220688 0.00339853 0.00456952 0.00112765 0.00395312]\n",
            "The loss at training iteration no 36 is 0.0008610942750237882\n",
            "\n",
            "Epoch 37/100:-\n",
            "Current weights are\n",
            "[[ 0.32751772 -0.8425502   0.3195352  -1.4075261  -2.3879714 ]\n",
            " [-1.0391985  -0.55724764  0.5398086   1.699458    0.28902462]\n",
            " [-1.5065627  -0.26447254 -0.59712344 -1.917088   -0.62035424]\n",
            " [ 0.8504518  -0.40597174 -3.025739    0.90587187  0.29864863]] \n",
            "& bias is [0.00226209 0.00348357 0.00468385 0.00115587 0.00405203]\n",
            "The loss at training iteration no 37 is 0.0008577012922614813\n",
            "\n",
            "Epoch 38/100:-\n",
            "Current weights are\n",
            "[[ 0.32751897 -0.8425483   0.31953776 -1.4075255  -2.3879693 ]\n",
            " [-1.0391973  -0.55724573  0.53981113  1.6994586   0.28902686]\n",
            " [-1.5065615  -0.26447067 -0.5971209  -1.9170874  -0.620352  ]\n",
            " [ 0.8504531  -0.40596983 -3.0257363   0.9058725   0.29865086]] \n",
            "& bias is [0.00231709 0.00356826 0.00479772 0.00118397 0.00415054]\n",
            "The loss at training iteration no 38 is 0.0008543353760614991\n",
            "\n",
            "Epoch 39/100:-\n",
            "Current weights are\n",
            "[[ 0.32752022 -0.8425464   0.31954032 -1.407525   -2.387967  ]\n",
            " [-1.0391961  -0.5572438   0.5398137   1.6994592   0.28902906]\n",
            " [-1.5065603  -0.2644688  -0.5971184  -1.9170868  -0.6203498 ]\n",
            " [ 0.85045433 -0.40596792 -3.0257337   0.9058732   0.2986531 ]] \n",
            "& bias is [0.00237186 0.00365261 0.00491114 0.00121196 0.00424866]\n",
            "The loss at training iteration no 39 is 0.0008509962935931981\n",
            "\n",
            "Epoch 40/100:-\n",
            "Current weights are\n",
            "[[ 0.32752144 -0.8425445   0.31954288 -1.4075243  -2.387965  ]\n",
            " [-1.039195   -0.5572419   0.53981626  1.6994598   0.28903127]\n",
            " [-1.5065591  -0.2644669  -0.5971159  -1.9170862  -0.6203476 ]\n",
            " [ 0.8504556  -0.405966   -3.025731    0.90587384  0.29865533]] \n",
            "& bias is [0.00242642 0.00373663 0.0050241  0.00123984 0.00434639]\n",
            "The loss at training iteration no 40 is 0.0008476839284412563\n",
            "\n",
            "Epoch 41/100:-\n",
            "Current weights are\n",
            "[[ 0.32752267 -0.8425426   0.31954542 -1.4075238  -2.3879628 ]\n",
            " [-1.0391937  -0.55724     0.5398188   1.6994604   0.28903347]\n",
            " [-1.506558   -0.26446503 -0.5971134  -1.9170856  -0.6203454 ]\n",
            " [ 0.85045683 -0.4059641  -3.0257285   0.9058745   0.29865757]] \n",
            "& bias is [0.00248076 0.0038203  0.00513661 0.0012676  0.00444372]\n",
            "The loss at training iteration no 41 is 0.0008443979313597083\n",
            "\n",
            "Epoch 42/100:-\n",
            "Current weights are\n",
            "[[ 0.3275239  -0.8425407   0.31954795 -1.4075232  -2.3879607 ]\n",
            " [-1.0391926  -0.5572381   0.5398214   1.699461    0.28903568]\n",
            " [-1.5065567  -0.26446316 -0.59711087 -1.917085   -0.6203432 ]\n",
            " [ 0.8504581  -0.4059622  -3.0257258   0.90587515  0.29865977]] \n",
            "& bias is [0.00253488 0.00390365 0.00524867 0.00129525 0.00454066]\n",
            "The loss at training iteration no 42 is 0.0008411382441408932\n",
            "\n",
            "Epoch 43/100:-\n",
            "Current weights are\n",
            "[[ 0.3275251  -0.8425388   0.31955048 -1.4075226  -2.3879585 ]\n",
            " [-1.0391914  -0.5572362   0.53982395  1.6994616   0.28903788]\n",
            " [-1.5065556  -0.26446128 -0.59710836 -1.9170845  -0.620341  ]\n",
            " [ 0.85045934 -0.4059603  -3.0257232   0.9058758   0.29866198]] \n",
            "& bias is [0.00258878 0.00398666 0.00536028 0.0013228  0.00463722]\n",
            "The loss at training iteration no 43 is 0.0008379045757465065\n",
            "\n",
            "Epoch 44/100:-\n",
            "Current weights are\n",
            "[[ 0.32752633 -0.84253687  0.31955302 -1.407522   -2.3879564 ]\n",
            " [-1.0391902  -0.5572343   0.53982645  1.6994622   0.2890401 ]\n",
            " [-1.5065544  -0.2644594  -0.59710586 -1.9170839  -0.62033886]\n",
            " [ 0.8504606  -0.40595838 -3.0257206   0.90587646  0.29866418]] \n",
            "& bias is [0.00264247 0.00406934 0.00547145 0.00135023 0.00473339]\n",
            "The loss at training iteration no 44 is 0.0008346966933459044\n",
            "\n",
            "Epoch 45/100:-\n",
            "Current weights are\n",
            "[[ 0.32752755 -0.84253496  0.31955555 -1.4075214  -2.3879542 ]\n",
            " [-1.039189   -0.5572324   0.53982896  1.6994628   0.28904226]\n",
            " [-1.5065532  -0.26445755 -0.59710336 -1.9170833  -0.6203367 ]\n",
            " [ 0.85046184 -0.40595648 -3.025718    0.9058771   0.2986664 ]] \n",
            "& bias is [0.00269594 0.00415168 0.00558217 0.00137755 0.00482917]\n",
            "The loss at training iteration no 45 is 0.0008315144805237651\n",
            "\n",
            "Epoch 46/100:-\n",
            "Current weights are\n",
            "[[ 0.32752877 -0.8425331   0.31955805 -1.4075208  -2.387952  ]\n",
            " [-1.0391878  -0.55723053  0.53983146  1.6994634   0.28904444]\n",
            " [-1.506552   -0.2644557  -0.59710085 -1.9170827  -0.62033457]\n",
            " [ 0.8504631  -0.4059546  -3.0257154   0.90587777  0.2986686 ]] \n",
            "& bias is [0.0027492  0.0042337  0.00569244 0.00140477 0.00492457]\n",
            "The loss at training iteration no 46 is 0.0008283575298264623\n",
            "\n",
            "Epoch 47/100:-\n",
            "Current weights are\n",
            "[[ 0.32753    -0.84253126  0.31956056 -1.4075202  -2.38795   ]\n",
            " [-1.0391866  -0.5572287   0.53983396  1.699464    0.28904662]\n",
            " [-1.5065508  -0.26445386 -0.59709835 -1.9170821  -0.6203324 ]\n",
            " [ 0.85046434 -0.40595272 -3.0257127   0.9058784   0.2986708 ]] \n",
            "& bias is [0.00280224 0.00431539 0.00580228 0.00143187 0.00501959]\n",
            "The loss at training iteration no 47 is 0.0008252260158769786\n",
            "\n",
            "Epoch 48/100:-\n",
            "Current weights are\n",
            "[[ 0.32753122 -0.8425294   0.31956306 -1.4075196  -2.3879478 ]\n",
            " [-1.0391854  -0.55722684  0.53983647  1.6994646   0.2890488 ]\n",
            " [-1.5065496  -0.264452   -0.59709585 -1.9170815  -0.6203303 ]\n",
            " [ 0.8504656  -0.40595084 -3.02571     0.9058791   0.298673  ]] \n",
            "& bias is [0.00285508 0.00439675 0.00591167 0.00145887 0.00511423]\n",
            "The loss at training iteration no 48 is 0.000822119356598705\n",
            "\n",
            "Epoch 49/100:-\n",
            "Current weights are\n",
            "[[ 0.32753244 -0.84252757  0.31956556 -1.407519   -2.3879457 ]\n",
            " [-1.0391842  -0.557225    0.53983897  1.6994652   0.28905097]\n",
            " [-1.5065484  -0.26445016 -0.59709334 -1.9170809  -0.6203281 ]\n",
            " [ 0.8504668  -0.40594897 -3.0257075   0.90587974  0.29867518]] \n",
            "& bias is [0.0029077  0.00447778 0.00602063 0.00148576 0.00520849]\n",
            "The loss at training iteration no 49 is 0.0008190375519916415\n",
            "\n",
            "Epoch 50/100:-\n",
            "Current weights are\n",
            "[[ 0.32753366 -0.8425257   0.31956807 -1.4075184  -2.3879435 ]\n",
            " [-1.039183   -0.55722314  0.5398415   1.6994658   0.28905314]\n",
            " [-1.5065472  -0.26444831 -0.5970909  -1.9170803  -0.620326  ]\n",
            " [ 0.850468   -0.4059471  -3.0257049   0.9058804   0.29867736]] \n",
            "& bias is [0.00296011 0.00455849 0.00612915 0.00151254 0.00530237]\n",
            "The loss at training iteration no 50 is 0.0008159802528098226\n",
            "\n",
            "Epoch 51/100:-\n",
            "Current weights are\n",
            "[[ 0.32753485 -0.8425239   0.31957057 -1.4075178  -2.3879414 ]\n",
            " [-1.0391818  -0.5572213   0.539844    1.6994663   0.28905532]\n",
            " [-1.506546   -0.26444647 -0.59708846 -1.9170797  -0.62032384]\n",
            " [ 0.8504692  -0.4059452  -3.0257022   0.905881    0.29867953]] \n",
            "& bias is [0.00301231 0.00463888 0.00623723 0.00153921 0.00539588]\n",
            "The loss at training iteration no 51 is 0.0008129474590532482\n",
            "\n",
            "Epoch 52/100:-\n",
            "Current weights are\n",
            "[[ 0.32753605 -0.842522    0.31957304 -1.4075172  -2.3879392 ]\n",
            " [-1.0391806  -0.55721945  0.5398465   1.699467    0.28905746]\n",
            " [-1.5065448  -0.26444462 -0.597086   -1.9170791  -0.6203217 ]\n",
            " [ 0.85047036 -0.40594333 -3.0256996   0.9058816   0.2986817 ]] \n",
            "& bias is [0.0030643  0.00471895 0.00634489 0.00156578 0.00548901]\n",
            "The loss at training iteration no 52 is 0.0008099388214759529\n",
            "\n",
            "Epoch 53/100:-\n",
            "Current weights are\n",
            "[[ 0.32753724 -0.8425202   0.31957552 -1.4075166  -2.387937  ]\n",
            " [-1.0391794  -0.5572176   0.539849    1.6994675   0.2890596 ]\n",
            " [-1.5065436  -0.2644428  -0.59708357 -1.9170785  -0.62031955]\n",
            " [ 0.85047156 -0.4059415  -3.0256972   0.9058822   0.29868388]] \n",
            "& bias is [0.00311608 0.00479869 0.00645211 0.00159224 0.00558176]\n",
            "The loss at training iteration no 53 is 0.0008069541654549539\n",
            "\n",
            "Epoch 54/100:-\n",
            "Current weights are\n",
            "[[ 0.32753843 -0.8425183   0.319578   -1.407516   -2.387935  ]\n",
            " [-1.0391783  -0.55721575  0.5398515   1.6994681   0.28906175]\n",
            " [-1.5065424  -0.26444098 -0.5970811  -1.9170779  -0.6203174 ]\n",
            " [ 0.85047275 -0.40593964 -3.0256948   0.9058828   0.29868606]] \n",
            "& bias is [0.00316766 0.00487812 0.0065589  0.00161859 0.00567415]\n",
            "The loss at training iteration no 54 is 0.0008039934909902513\n",
            "\n",
            "Epoch 55/100:-\n",
            "Current weights are\n",
            "[[ 0.32753962 -0.8425165   0.31958047 -1.4075154  -2.3879328 ]\n",
            " [-1.0391771  -0.5572139   0.53985393  1.6994687   0.2890639 ]\n",
            " [-1.5065413  -0.26443917 -0.5970787  -1.9170773  -0.62031525]\n",
            " [ 0.85047394 -0.4059378  -3.0256925   0.9058834   0.2986882 ]] \n",
            "& bias is [0.00321903 0.00495722 0.00666527 0.00164484 0.00576617]\n",
            "The loss at training iteration no 55 is 0.0008010565070435405\n",
            "\n",
            "Epoch 56/100:-\n",
            "Current weights are\n",
            "[[ 0.3275408  -0.84251463  0.31958294 -1.4075148  -2.3879306 ]\n",
            " [-1.0391759  -0.55721205  0.5398564   1.6994693   0.28906605]\n",
            " [-1.5065401  -0.26443735 -0.59707624 -1.9170767  -0.6203131 ]\n",
            " [ 0.85047513 -0.40593594 -3.02569     0.90588397  0.29869035]] \n",
            "& bias is [0.00327019 0.00503602 0.0067712  0.00167098 0.00585782]\n",
            "The loss at training iteration no 56 is 0.0007981429225765169\n",
            "\n",
            "Epoch 57/100:-\n",
            "Current weights are\n",
            "[[ 0.327542   -0.8425128   0.3195854  -1.4075142  -2.3879285 ]\n",
            " [-1.0391747  -0.5572102   0.5398588   1.6994699   0.2890682 ]\n",
            " [-1.5065389  -0.26443553 -0.5970738  -1.9170761  -0.620311  ]\n",
            " [ 0.8504763  -0.4059341  -3.0256877   0.90588456  0.2986925 ]] \n",
            "& bias is [0.00332115 0.00511449 0.00687672 0.00169702 0.0059491 ]\n",
            "The loss at training iteration no 57 is 0.0007952525047585368\n",
            "\n",
            "Epoch 58/100:-\n",
            "Current weights are\n",
            "[[ 0.3275432  -0.84251094  0.31958786 -1.4075136  -2.3879263 ]\n",
            " [-1.0391735  -0.55720836  0.53986126  1.6994705   0.2890703 ]\n",
            " [-1.5065377  -0.2644337  -0.59707135 -1.9170755  -0.62030894]\n",
            " [ 0.8504775  -0.40593225 -3.0256853   0.90588516  0.29869464]] \n",
            "& bias is [0.00337191 0.00519265 0.00698181 0.00172295 0.00604001]\n",
            "The loss at training iteration no 58 is 0.0007923851953819394\n",
            "\n",
            "Epoch 59/100:-\n",
            "Current weights are\n",
            "[[ 0.3275444  -0.8425091   0.3195903  -1.407513   -2.3879242 ]\n",
            " [-1.0391723  -0.5572065   0.5398637   1.6994711   0.28907242]\n",
            " [-1.5065365  -0.2644319  -0.5970689  -1.9170749  -0.62030685]\n",
            " [ 0.8504787  -0.4059304  -3.025683    0.90588576  0.2986968 ]] \n",
            "& bias is [0.00342246 0.0052705  0.00708648 0.00174878 0.00613057]\n",
            "The loss at training iteration no 59 is 0.0007895408780314028\n",
            "\n",
            "Epoch 60/100:-\n",
            "Current weights are\n",
            "[[ 0.32754558 -0.84250724  0.31959274 -1.4075124  -2.387922  ]\n",
            " [-1.0391711  -0.55720466  0.53986615  1.6994717   0.28907454]\n",
            " [-1.5065353  -0.26443008 -0.59706646 -1.9170743  -0.62030476]\n",
            " [ 0.8504799  -0.40592855 -3.0256805   0.90588635  0.29869893]] \n",
            "& bias is [0.00347281 0.00534804 0.00719073 0.00177451 0.00622075]\n",
            "The loss at training iteration no 60 is 0.0007867191452533007\n",
            "\n",
            "Epoch 61/100:-\n",
            "Current weights are\n",
            "[[ 0.32754678 -0.84250546  0.3195952  -1.4075118  -2.38792   ]\n",
            " [-1.0391699  -0.5572028   0.5398686   1.6994723   0.28907666]\n",
            " [-1.5065341  -0.2644283  -0.597064   -1.9170737  -0.6203027 ]\n",
            " [ 0.8504811  -0.40592673 -3.0256782   0.90588695  0.29870108]] \n",
            "& bias is [0.00352295 0.00542526 0.00729457 0.00180014 0.00631058]\n",
            "The loss at training iteration no 61 is 0.0007839198806323111\n",
            "\n",
            "Epoch 62/100:-\n",
            "Current weights are\n",
            "[[ 0.32754797 -0.84250367  0.31959763 -1.4075112  -2.3879178 ]\n",
            " [-1.0391687  -0.557201    0.53987104  1.6994729   0.28907877]\n",
            " [-1.5065329  -0.2644265  -0.59706163 -1.9170731  -0.6203006 ]\n",
            " [ 0.8504823  -0.40592492 -3.0256758   0.90588754  0.2987032 ]] \n",
            "& bias is [0.0035729  0.00550218 0.00739799 0.00182566 0.00640005]\n",
            "The loss at training iteration no 62 is 0.0007811430841684341\n",
            "\n",
            "Epoch 63/100:-\n",
            "Current weights are\n",
            "[[ 0.32754916 -0.8425019   0.31960008 -1.4075106  -2.3879156 ]\n",
            " [-1.0391675  -0.55719924  0.5398735   1.6994735   0.2890809 ]\n",
            " [-1.5065317  -0.2644247  -0.59705925 -1.9170725  -0.6202985 ]\n",
            " [ 0.8504835  -0.4059231  -3.0256734   0.90588814  0.2987053 ]] \n",
            "& bias is [0.00362265 0.00557879 0.00750099 0.00185108 0.00648916]\n",
            "The loss at training iteration no 63 is 0.0007783885230310261\n",
            "\n",
            "Epoch 64/100:-\n",
            "Current weights are\n",
            "[[ 0.32755032 -0.8425001   0.3196025  -1.40751    -2.3879135 ]\n",
            " [-1.0391663  -0.55719745  0.5398759   1.6994741   0.289083  ]\n",
            " [-1.5065305  -0.26442292 -0.59705687 -1.9170719  -0.6202964 ]\n",
            " [ 0.85048467 -0.40592128 -3.025671    0.90588874  0.29870743]] \n",
            "& bias is [0.0036722  0.00565509 0.00760358 0.00187639 0.00657791]\n",
            "The loss at training iteration no 64 is 0.0007756558479741216\n",
            "\n",
            "Epoch 65/100:-\n",
            "Current weights are\n",
            "[[ 0.32755148 -0.8424983   0.3196049  -1.4075094  -2.3879113 ]\n",
            " [-1.0391651  -0.55719566  0.53987837  1.6994747   0.2890851 ]\n",
            " [-1.5065293  -0.26442114 -0.5970545  -1.9170713  -0.62029433]\n",
            " [ 0.85048586 -0.40591946 -3.0256686   0.90588933  0.29870954]] \n",
            "& bias is [0.00372154 0.00573109 0.00770576 0.00190161 0.00666631]\n",
            "The loss at training iteration no 65 is 0.0007729450007900596\n",
            "\n",
            "Epoch 66/100:-\n",
            "Current weights are\n",
            "[[ 0.32755265 -0.8424965   0.31960732 -1.4075089  -2.3879092 ]\n",
            " [-1.039164   -0.5571939   0.5398808   1.6994753   0.28908718]\n",
            " [-1.5065281  -0.26441935 -0.5970521  -1.9170707  -0.62029225]\n",
            " [ 0.85048705 -0.40591764 -3.0256662   0.9058899   0.29871166]] \n",
            "& bias is [0.0037707  0.00580678 0.00780754 0.00192672 0.00675436]\n",
            "The loss at training iteration no 66 is 0.0007702558068558574\n",
            "\n",
            "Epoch 67/100:-\n",
            "Current weights are\n",
            "[[ 0.3275538  -0.8424947   0.31960973 -1.4075083  -2.387907  ]\n",
            " [-1.0391628  -0.5571921   0.5398832   1.6994759   0.28908926]\n",
            " [-1.506527   -0.26441756 -0.5970497  -1.9170702  -0.62029016]\n",
            " [ 0.85048825 -0.40591583 -3.0256639   0.9058905   0.29871377]] \n",
            "& bias is [0.00381965 0.00588217 0.0079089  0.00195174 0.00684205]\n",
            "The loss at training iteration no 67 is 0.0007675880333408713\n",
            "\n",
            "Epoch 68/100:-\n",
            "Current weights are\n",
            "[[ 0.32755497 -0.84249294  0.31961215 -1.4075077  -2.387905  ]\n",
            " [-1.0391616  -0.5571903   0.5398856   1.6994765   0.28909135]\n",
            " [-1.5065258  -0.26441577 -0.5970473  -1.9170696  -0.6202881 ]\n",
            " [ 0.85048944 -0.405914   -3.0256615   0.9058911   0.2987159 ]] \n",
            "& bias is [0.00386841 0.00595725 0.00800986 0.00197665 0.00692939]\n",
            "The loss at training iteration no 68 is 0.0007649416220374405\n",
            "\n",
            "Epoch 69/100:-\n",
            "Current weights are\n",
            "[[ 0.32755613 -0.84249115  0.31961456 -1.4075071  -2.3879027 ]\n",
            " [-1.0391604  -0.5571885   0.53988796  1.6994771   0.28909343]\n",
            " [-1.5065246  -0.264414   -0.59704494 -1.917069   -0.620286  ]\n",
            " [ 0.8504906  -0.40591222 -3.025659    0.9058917   0.29871798]] \n",
            "& bias is [0.00391697 0.00603204 0.00811041 0.00200147 0.00701638]\n",
            "The loss at training iteration no 69 is 0.0007623163983225822\n",
            "\n",
            "Epoch 70/100:-\n",
            "Current weights are\n",
            "[[ 0.3275573  -0.84248936  0.31961694 -1.4075065  -2.3879006 ]\n",
            " [-1.0391592  -0.5571867   0.53989035  1.6994777   0.28909552]\n",
            " [-1.5065234  -0.26441225 -0.59704256 -1.9170684  -0.6202839 ]\n",
            " [ 0.8504918  -0.40591043 -3.0256567   0.9058923   0.29872006]] \n",
            "& bias is [0.00396534 0.00610653 0.00821056 0.00202618 0.00710302]\n",
            "The loss at training iteration no 70 is 0.0007597119547426701\n",
            "\n",
            "Epoch 71/100:-\n",
            "Current weights are\n",
            "[[ 0.32755846 -0.8424876   0.31961933 -1.4075059  -2.3878984 ]\n",
            " [-1.039158   -0.55718493  0.53989273  1.6994783   0.2890976 ]\n",
            " [-1.5065222  -0.2644105  -0.5970402  -1.9170678  -0.6202819 ]\n",
            " [ 0.850493   -0.40590864 -3.0256543   0.9058929   0.29872215]] \n",
            "& bias is [0.00401352 0.00618071 0.00831032 0.0020508  0.00718931]\n",
            "The loss at training iteration no 71 is 0.0007571284077130258\n",
            "\n",
            "Epoch 72/100:-\n",
            "Current weights are\n",
            "[[ 0.32755962 -0.8424858   0.3196217  -1.4075053  -2.3878963 ]\n",
            " [-1.0391568  -0.55718315  0.5398951   1.6994789   0.2890997 ]\n",
            " [-1.506521   -0.26440874 -0.5970378  -1.9170672  -0.62027985]\n",
            " [ 0.8504942  -0.40590686 -3.025652    0.9058935   0.29872423]] \n",
            "& bias is [0.0040615  0.00625461 0.00840967 0.00207532 0.00727526]\n",
            "The loss at training iteration no 72 is 0.0007545654661953449\n",
            "\n",
            "Epoch 73/100:-\n",
            "Current weights are\n",
            "[[ 0.32756078 -0.842484    0.3196241  -1.4075047  -2.3878942 ]\n",
            " [-1.0391556  -0.55718136  0.5398975   1.6994795   0.28910175]\n",
            " [-1.5065198  -0.26440698 -0.5970354  -1.9170666  -0.6202778 ]\n",
            " [ 0.8504954  -0.40590507 -3.0256495   0.9058941   0.29872632]] \n",
            "& bias is [0.00410929 0.0063282  0.00850862 0.00209974 0.00736087]\n",
            "The loss at training iteration no 73 is 0.0007520229555666447\n",
            "\n",
            "Epoch 74/100:-\n",
            "Current weights are\n",
            "[[ 0.32756194 -0.8424822   0.31962648 -1.4075041  -2.387892  ]\n",
            " [-1.0391544  -0.5571796   0.5398999   1.69948     0.2891038 ]\n",
            " [-1.5065186  -0.26440522 -0.597033   -1.917066   -0.6202758 ]\n",
            " [ 0.85049653 -0.40590328 -3.0256472   0.9058947   0.2987284 ]] \n",
            "& bias is [0.00415689 0.0064015  0.00860718 0.00212406 0.00744613]\n",
            "The loss at training iteration no 74 is 0.0007495007594116032\n",
            "\n",
            "Epoch 75/100:-\n",
            "Current weights are\n",
            "[[ 0.3275631  -0.8424804   0.31962886 -1.4075035  -2.3878899 ]\n",
            " [-1.0391532  -0.5571778   0.53990227  1.6994807   0.28910586]\n",
            " [-1.5065174  -0.26440346 -0.5970307  -1.9170654  -0.62027377]\n",
            " [ 0.85049766 -0.4059015  -3.0256448   0.9058953   0.2987305 ]] \n",
            "& bias is [0.00420429 0.00647451 0.00870534 0.00214828 0.00753105]\n",
            "The loss at training iteration no 75 is 0.0007469987613148987\n",
            "\n",
            "Epoch 76/100:-\n",
            "Current weights are\n",
            "[[ 0.32756427 -0.84247863  0.31963122 -1.4075029  -2.3878877 ]\n",
            " [-1.039152   -0.557176    0.53990465  1.6994812   0.28910792]\n",
            " [-1.5065162  -0.2644017  -0.5970284  -1.9170648  -0.62027174]\n",
            " [ 0.8504988  -0.4058997  -3.0256424   0.9058959   0.29873255]] \n",
            "& bias is [0.00425151 0.00654722 0.00880311 0.00217241 0.00761563]\n",
            "The loss at training iteration no 76 is 0.0007445166702382267\n",
            "\n",
            "Epoch 77/100:-\n",
            "Current weights are\n",
            "[[ 0.3275654  -0.84247684  0.31963357 -1.4075023  -2.3878856 ]\n",
            " [-1.0391508  -0.5571742   0.53990704  1.6994818   0.28910998]\n",
            " [-1.506515   -0.26439995 -0.59702605 -1.9170642  -0.6202697 ]\n",
            " [ 0.8504999  -0.40589792 -3.02564     0.9058965   0.2987346 ]] \n",
            "& bias is [0.00429854 0.00661965 0.00890049 0.00219644 0.00769987]\n",
            "The loss at training iteration no 77 is 0.0007420543115586042\n",
            "\n",
            "Epoch 78/100:-\n",
            "Current weights are\n",
            "[[ 0.32756653 -0.8424751   0.31963593 -1.4075017  -2.3878834 ]\n",
            " [-1.0391496  -0.5571725   0.5399094   1.6994824   0.28911203]\n",
            " [-1.506514   -0.26439822 -0.5970237  -1.9170636  -0.6202677 ]\n",
            " [ 0.85050106 -0.40589616 -3.0256376   0.9058971   0.29873666]] \n",
            "& bias is [0.00434538 0.00669178 0.00899747 0.00222038 0.00778378]\n",
            "The loss at training iteration no 78 is 0.0007396117434836924\n",
            "\n",
            "Epoch 79/100:-\n",
            "Current weights are\n",
            "[[ 0.32756767 -0.8424734   0.31963828 -1.4075011  -2.3878813 ]\n",
            " [-1.0391484  -0.55717075  0.5399118   1.699483    0.2891141 ]\n",
            " [-1.5065129  -0.2643965  -0.5970214  -1.917063   -0.62026566]\n",
            " [ 0.8505022  -0.4058944  -3.0256352   0.9058977   0.29873872]] \n",
            "& bias is [0.00439204 0.00676363 0.00909407 0.00224421 0.00786735]\n",
            "The loss at training iteration no 79 is 0.0007371887331828475\n",
            "\n",
            "Epoch 80/100:-\n",
            "Current weights are\n",
            "[[ 0.3275688  -0.84247166  0.31964064 -1.4075005  -2.3878791 ]\n",
            " [-1.0391473  -0.557169    0.53991413  1.6994836   0.2891161 ]\n",
            " [-1.5065118  -0.26439476 -0.5970191  -1.9170624  -0.62026364]\n",
            " [ 0.8505033  -0.40589264 -3.0256329   0.9058983   0.29874077]] \n",
            "& bias is [0.0044385  0.00683518 0.00919028 0.00226796 0.00795058]\n",
            "The loss at training iteration no 80 is 0.000734784931410104\n",
            "\n",
            "Epoch 81/100:-\n",
            "Current weights are\n",
            "[[ 0.32756993 -0.84246993  0.319643   -1.4074999  -2.387877  ]\n",
            " [-1.0391461  -0.5571673   0.53991646  1.6994842   0.28911814]\n",
            " [-1.5065107  -0.26439303 -0.59701675 -1.9170618  -0.6202616 ]\n",
            " [ 0.85050446 -0.40589088 -3.0256305   0.90589887  0.29874283]] \n",
            "& bias is [0.00448478 0.00690645 0.00928611 0.00229161 0.00803348]\n",
            "The loss at training iteration no 81 is 0.000732400338165462\n",
            "\n",
            "Epoch 82/100:-\n",
            "Current weights are\n",
            "[[ 0.32757106 -0.8424682   0.31964535 -1.4074993  -2.3878748 ]\n",
            " [-1.0391449  -0.55716556  0.5399188   1.6994848   0.28912017]\n",
            " [-1.5065097  -0.2643913  -0.5970144  -1.9170612  -0.6202596 ]\n",
            " [ 0.8505056  -0.40588912 -3.025628    0.90589947  0.2987449 ]] \n",
            "& bias is [0.00453088 0.00697744 0.00938156 0.00231516 0.00811605]\n",
            "The loss at training iteration no 82 is 0.0007300348370335996\n",
            "\n",
            "Epoch 83/100:-\n",
            "Current weights are\n",
            "[[ 0.3275722  -0.8424665   0.31964767 -1.4074987  -2.387873  ]\n",
            " [-1.0391438  -0.55716383  0.5399211   1.6994854   0.2891222 ]\n",
            " [-1.5065086  -0.26438957 -0.5970121  -1.9170606  -0.62025756]\n",
            " [ 0.8505067  -0.40588737 -3.0256257   0.90590006  0.29874694]] \n",
            "& bias is [0.00457679 0.00704814 0.00947662 0.00233862 0.00819829]\n",
            "The loss at training iteration no 83 is 0.0007276881951838732\n",
            "\n",
            "Epoch 84/100:-\n",
            "Current weights are\n",
            "[[ 0.32757333 -0.84246475  0.31965    -1.4074981  -2.387871  ]\n",
            " [-1.0391427  -0.5571621   0.5399234   1.699486    0.28912422]\n",
            " [-1.5065075  -0.26438785 -0.5970098  -1.91706    -0.62025553]\n",
            " [ 0.85050786 -0.4058856  -3.0256233   0.90590066  0.29874897]] \n",
            "& bias is [0.00462251 0.00711856 0.0095713  0.00236198 0.0082802 ]\n",
            "The loss at training iteration no 84 is 0.0007253603544086218\n",
            "\n",
            "Epoch 85/100:-\n",
            "Current weights are\n",
            "[[ 0.32757446 -0.842463    0.31965232 -1.4074975  -2.3878691 ]\n",
            " [-1.0391417  -0.5571604   0.53992575  1.6994866   0.28912625]\n",
            " [-1.5065064  -0.26438612 -0.59700745 -1.9170594  -0.6202535 ]\n",
            " [ 0.850509   -0.40588385 -3.025621    0.90590125  0.298751  ]] \n",
            "& bias is [0.00466806 0.00718869 0.0096656  0.00238525 0.00836178]\n",
            "The loss at training iteration no 85 is 0.0007230510818772018\n",
            "\n",
            "Epoch 86/100:-\n",
            "Current weights are\n",
            "[[ 0.3275756  -0.8424613   0.31965464 -1.4074969  -2.3878672 ]\n",
            " [-1.0391406  -0.55715865  0.5399281   1.6994872   0.28912827]\n",
            " [-1.5065054  -0.26438442 -0.5970051  -1.9170588  -0.62025154]\n",
            " [ 0.8505101  -0.40588212 -3.0256186   0.90590185  0.29875302]] \n",
            "& bias is [0.00471342 0.00725855 0.00975952 0.00240843 0.00844303]\n",
            "The loss at training iteration no 86 is 0.0007207602611742914\n",
            "\n",
            "Epoch 87/100:-\n",
            "Current weights are\n",
            "[[ 0.32757673 -0.84245956  0.31965697 -1.4074963  -2.3878653 ]\n",
            " [-1.0391395  -0.5571569   0.5399304   1.6994878   0.28913027]\n",
            " [-1.5065043  -0.26438272 -0.5970028  -1.9170582  -0.62024957]\n",
            " [ 0.85051125 -0.4058804  -3.0256162   0.90590245  0.29875505]] \n",
            "& bias is [0.0047586  0.00732812 0.00985307 0.00243152 0.00852396]\n",
            "The loss at training iteration no 87 is 0.0007184877176769078\n",
            "\n",
            "Epoch 88/100:-\n",
            "Current weights are\n",
            "[[ 0.32757786 -0.84245783  0.3196593  -1.4074957  -2.3878634 ]\n",
            " [-1.0391384  -0.5571552   0.5399327   1.6994884   0.28913227]\n",
            " [-1.5065032  -0.26438102 -0.59700054 -1.9170576  -0.6202476 ]\n",
            " [ 0.8505124  -0.40587866 -3.0256138   0.90590304  0.29875708]] \n",
            "& bias is [0.0048036  0.00739742 0.00994624 0.00245451 0.00860456]\n",
            "The loss at training iteration no 88 is 0.0007162332767620683\n",
            "\n",
            "Epoch 89/100:-\n",
            "Current weights are\n",
            "[[ 0.327579   -0.8424561   0.3196616  -1.4074951  -2.3878615 ]\n",
            " [-1.0391374  -0.55715346  0.53993505  1.699489    0.28913426]\n",
            " [-1.5065022  -0.26437932 -0.5969983  -1.917057   -0.62024564]\n",
            " [ 0.8505135  -0.40587693 -3.0256114   0.90590364  0.2987591 ]] \n",
            "& bias is [0.00484841 0.00746644 0.01003904 0.00247741 0.00868485]\n",
            "The loss at training iteration no 89 is 0.0007139968802221119\n",
            "\n",
            "Epoch 90/100:-\n",
            "Current weights are\n",
            "[[ 0.3275801  -0.8424544   0.31966388 -1.4074945  -2.3878596 ]\n",
            " [-1.0391363  -0.55715173  0.5399374   1.6994896   0.28913626]\n",
            " [-1.5065011  -0.26437762 -0.596996   -1.9170564  -0.62024367]\n",
            " [ 0.85051465 -0.4058752  -3.025609    0.90590423  0.29876113]] \n",
            "& bias is [0.00489305 0.00753518 0.01013147 0.00250022 0.00876481]\n",
            "The loss at training iteration no 90 is 0.0007117782370187342\n",
            "\n",
            "Epoch 91/100:-\n",
            "Current weights are\n",
            "[[ 0.3275812  -0.84245265  0.31966618 -1.407494   -2.3878577 ]\n",
            " [-1.0391352  -0.55715     0.5399397   1.6994902   0.28913826]\n",
            " [-1.5065     -0.26437593 -0.59699374 -1.9170558  -0.6202417 ]\n",
            " [ 0.8505158  -0.40587348 -3.0256066   0.9059048   0.29876313]] \n",
            "& bias is [0.00493751 0.00760365 0.01022353 0.00252294 0.00884445]\n",
            "The loss at training iteration no 91 is 0.000709577405359596\n",
            "\n",
            "Epoch 92/100:-\n",
            "Current weights are\n",
            "[[ 0.3275823  -0.8424509   0.31966847 -1.4074934  -2.3878558 ]\n",
            " [-1.0391341  -0.5571483   0.539942    1.6994908   0.28914025]\n",
            " [-1.5064989  -0.26437423 -0.5969915  -1.9170552  -0.62023973]\n",
            " [ 0.8505169  -0.40587175 -3.0256042   0.9059054   0.29876512]] \n",
            "& bias is [0.00498179 0.00767184 0.01031522 0.00254557 0.00892377]\n",
            "The loss at training iteration no 92 is 0.0007073940359987319\n",
            "\n",
            "Epoch 93/100:-\n",
            "Current weights are\n",
            "[[ 0.3275834  -0.8424492   0.31967077 -1.4074928  -2.3878539 ]\n",
            " [-1.0391331  -0.55714655  0.5399443   1.6994914   0.28914225]\n",
            " [-1.5064979  -0.26437253 -0.5969892  -1.9170547  -0.62023777]\n",
            " [ 0.85051805 -0.40587002 -3.0256019   0.905906    0.29876712]] \n",
            "& bias is [0.0050259  0.00773976 0.01040654 0.0025681  0.00900277]\n",
            "The loss at training iteration no 93 is 0.0007052282453514636\n",
            "\n",
            "Epoch 94/100:-\n",
            "Current weights are\n",
            "[[ 0.3275845  -0.84244746  0.31967306 -1.4074922  -2.387852  ]\n",
            " [-1.039132   -0.5571448   0.53994656  1.699492    0.28914425]\n",
            " [-1.5064968  -0.26437083 -0.59698695 -1.917054   -0.6202358 ]\n",
            " [ 0.8505192  -0.4058683  -3.0255995   0.9059066   0.29876912]] \n",
            "& bias is [0.00506983 0.00780741 0.0104975  0.00259055 0.00908146]\n",
            "The loss at training iteration no 94 is 0.0007030796259641647\n",
            "\n",
            "Epoch 95/100:-\n",
            "Current weights are\n",
            "[[ 0.3275856  -0.84244573  0.31967536 -1.4074916  -2.38785   ]\n",
            " [-1.0391309  -0.5571431   0.5399488   1.6994926   0.2891462 ]\n",
            " [-1.5064957  -0.26436913 -0.5969847  -1.9170535  -0.62023383]\n",
            " [ 0.8505203  -0.4058666  -3.025597    0.9059072   0.2987711 ]] \n",
            "& bias is [0.00511358 0.00787478 0.01058809 0.0026129  0.00915983]\n",
            "The loss at training iteration no 95 is 0.0007009482360444963\n",
            "\n",
            "Epoch 96/100:-\n",
            "Current weights are\n",
            "[[ 0.3275867  -0.84244406  0.31967762 -1.407491   -2.3878481 ]\n",
            " [-1.0391299  -0.5571414   0.5399511   1.6994932   0.28914818]\n",
            " [-1.5064946  -0.26436746 -0.5969824  -1.9170529  -0.62023187]\n",
            " [ 0.85052145 -0.4058649  -3.0255947   0.9059078   0.2987731 ]] \n",
            "& bias is [0.00515716 0.00794189 0.01067832 0.00263517 0.00923789]\n",
            "The loss at training iteration no 96 is 0.0006988337263464928\n",
            "\n",
            "Epoch 97/100:-\n",
            "Current weights are\n",
            "[[ 0.3275878  -0.8424424   0.3196799  -1.4074904  -2.3878462 ]\n",
            " [-1.0391288  -0.55713975  0.53995335  1.6994938   0.28915015]\n",
            " [-1.5064936  -0.2643658  -0.59698015 -1.9170523  -0.6202299 ]\n",
            " [ 0.8505226  -0.4058632  -3.0255923   0.9059084   0.2987751 ]] \n",
            "& bias is [0.00520056 0.00800873 0.01076819 0.00265735 0.00931563]\n",
            "The loss at training iteration no 97 is 0.000696736213285476\n",
            "\n",
            "Epoch 98/100:-\n",
            "Current weights are\n",
            "[[ 0.32758892 -0.8424407   0.31968215 -1.4074898  -2.3878443 ]\n",
            " [-1.0391277  -0.5571381   0.5399556   1.6994944   0.28915212]\n",
            " [-1.5064925  -0.26436412 -0.5969779  -1.9170517  -0.62022793]\n",
            " [ 0.8505237  -0.4058615  -3.02559     0.905909    0.2987771 ]] \n",
            "& bias is [0.00524379 0.0080753  0.0108577  0.00267944 0.00939307]\n",
            "The loss at training iteration no 98 is 0.0006946554058231413\n",
            "\n",
            "Epoch 99/100:-\n",
            "Current weights are\n",
            "[[ 0.32759002 -0.84243906  0.31968442 -1.4074892  -2.3878424 ]\n",
            " [-1.0391266  -0.5571364   0.5399579   1.699495    0.28915408]\n",
            " [-1.5064914  -0.26436245 -0.5969756  -1.9170511  -0.62022597]\n",
            " [ 0.85052484 -0.4058598  -3.0255876   0.9059096   0.29877907]] \n",
            "& bias is [0.00528684 0.00814161 0.01094685 0.00270144 0.00947019]\n",
            "The loss at training iteration no 99 is 0.000692591245751828\n"
          ],
          "name": "stdout"
        }
      ]
    },
    {
      "cell_type": "markdown",
      "metadata": {
        "id": "vanvD93FV0_k",
        "colab_type": "text"
      },
      "source": [
        "### Observe values of Weight\n",
        "- Print the updated values"
      ]
    },
    {
      "cell_type": "code",
      "metadata": {
        "id": "QSqpy4gtWaOD",
        "colab_type": "code",
        "outputId": "0222825a-d95f-43ea-d1e9-d889499045f5",
        "colab": {
          "base_uri": "https://localhost:8080/",
          "height": 105
        }
      },
      "source": [
        "print(\"These are the updated weights :- \\n{}\".format(w1))"
      ],
      "execution_count": 68,
      "outputs": [
        {
          "output_type": "stream",
          "text": [
            "These are the updated weights \n",
            "[[ 0.32759002 -0.84243906  0.31968442 -1.4074892  -2.3878424 ]\n",
            " [-1.0391266  -0.5571364   0.5399579   1.699495    0.28915408]\n",
            " [-1.5064914  -0.26436245 -0.5969756  -1.9170511  -0.62022597]\n",
            " [ 0.85052484 -0.4058598  -3.0255876   0.9059096   0.29877907]]\n"
          ],
          "name": "stdout"
        }
      ]
    },
    {
      "cell_type": "markdown",
      "metadata": {
        "colab_type": "text",
        "id": "y9KpRupYUEwy"
      },
      "source": [
        "### Observe values of Bias\n",
        "- Print the updated values"
      ]
    },
    {
      "cell_type": "code",
      "metadata": {
        "colab_type": "code",
        "id": "bhEWkGqHWohg",
        "outputId": "6c135419-c998-47a7-ef5a-98afef5a1ad7",
        "colab": {
          "base_uri": "https://localhost:8080/",
          "height": 52
        }
      },
      "source": [
        "print(\"These are the updated biases :- \\n{}\".format(b1))"
      ],
      "execution_count": 69,
      "outputs": [
        {
          "output_type": "stream",
          "text": [
            "These are the updated biases :- \n",
            "[0.00528684 0.00814161 0.01094685 0.00270144 0.00947019]\n"
          ],
          "name": "stdout"
        }
      ]
    }
  ]
}