{
 "cells": [
  {
   "cell_type": "markdown",
   "metadata": {
    "colab_type": "text",
    "id": "zfsiaKcDho8W"
   },
   "source": [
    "### The data set has information about features of silhouette extracted from the images of different cars\n",
    "\n",
    "Four \"Corgie\" model vehicles were used for the experiment: a double decker bus, Cheverolet van, Saab 9000 and an Opel Manta 400 cars. This particular combination of vehicles was chosen with the expectation that the bus, van and either one of the cars would be readily distinguishable, but it would be more difficult to distinguish between the cars.\n",
    "\n"
   ]
  },
  {
   "cell_type": "markdown",
   "metadata": {
    "colab_type": "text",
    "id": "kVtZqLhGho8c"
   },
   "source": [
    "### 1. Read the dataset using function .dropna() - to avoid dealing with NAs as of now"
   ]
  },
  {
   "cell_type": "code",
   "execution_count": 1,
   "metadata": {
    "colab": {},
    "colab_type": "code",
    "id": "VbKTspg4ho8g"
   },
   "outputs": [],
   "source": [
    "import pandas as pd\n",
    "veh_df=pd.read_csv('vehicle.csv')"
   ]
  },
  {
   "cell_type": "code",
   "execution_count": 2,
   "metadata": {},
   "outputs": [
    {
     "data": {
      "text/plain": [
       "compactness                    0\n",
       "circularity                    5\n",
       "distance_circularity           4\n",
       "radius_ratio                   6\n",
       "pr.axis_aspect_ratio           2\n",
       "max.length_aspect_ratio        0\n",
       "scatter_ratio                  1\n",
       "elongatedness                  1\n",
       "pr.axis_rectangularity         3\n",
       "max.length_rectangularity      0\n",
       "scaled_variance                3\n",
       "scaled_variance.1              2\n",
       "scaled_radius_of_gyration      2\n",
       "scaled_radius_of_gyration.1    4\n",
       "skewness_about                 6\n",
       "skewness_about.1               1\n",
       "skewness_about.2               1\n",
       "hollows_ratio                  0\n",
       "class                          0\n",
       "dtype: int64"
      ]
     },
     "execution_count": 2,
     "metadata": {},
     "output_type": "execute_result"
    }
   ],
   "source": [
    "veh_df.isna().sum()"
   ]
  },
  {
   "cell_type": "code",
   "execution_count": 3,
   "metadata": {},
   "outputs": [],
   "source": [
    "veh_df.dropna(axis=1,inplace=True)"
   ]
  },
  {
   "cell_type": "code",
   "execution_count": 4,
   "metadata": {},
   "outputs": [
    {
     "data": {
      "text/html": [
       "<div>\n",
       "<style scoped>\n",
       "    .dataframe tbody tr th:only-of-type {\n",
       "        vertical-align: middle;\n",
       "    }\n",
       "\n",
       "    .dataframe tbody tr th {\n",
       "        vertical-align: top;\n",
       "    }\n",
       "\n",
       "    .dataframe thead th {\n",
       "        text-align: right;\n",
       "    }\n",
       "</style>\n",
       "<table border=\"1\" class=\"dataframe\">\n",
       "  <thead>\n",
       "    <tr style=\"text-align: right;\">\n",
       "      <th></th>\n",
       "      <th>compactness</th>\n",
       "      <th>max.length_aspect_ratio</th>\n",
       "      <th>max.length_rectangularity</th>\n",
       "      <th>hollows_ratio</th>\n",
       "      <th>class</th>\n",
       "    </tr>\n",
       "  </thead>\n",
       "  <tbody>\n",
       "    <tr>\n",
       "      <th>0</th>\n",
       "      <td>95</td>\n",
       "      <td>10</td>\n",
       "      <td>159</td>\n",
       "      <td>197</td>\n",
       "      <td>van</td>\n",
       "    </tr>\n",
       "    <tr>\n",
       "      <th>1</th>\n",
       "      <td>91</td>\n",
       "      <td>9</td>\n",
       "      <td>143</td>\n",
       "      <td>199</td>\n",
       "      <td>van</td>\n",
       "    </tr>\n",
       "    <tr>\n",
       "      <th>2</th>\n",
       "      <td>104</td>\n",
       "      <td>10</td>\n",
       "      <td>158</td>\n",
       "      <td>196</td>\n",
       "      <td>car</td>\n",
       "    </tr>\n",
       "    <tr>\n",
       "      <th>3</th>\n",
       "      <td>93</td>\n",
       "      <td>9</td>\n",
       "      <td>143</td>\n",
       "      <td>207</td>\n",
       "      <td>van</td>\n",
       "    </tr>\n",
       "    <tr>\n",
       "      <th>4</th>\n",
       "      <td>85</td>\n",
       "      <td>52</td>\n",
       "      <td>144</td>\n",
       "      <td>183</td>\n",
       "      <td>bus</td>\n",
       "    </tr>\n",
       "    <tr>\n",
       "      <th>5</th>\n",
       "      <td>107</td>\n",
       "      <td>6</td>\n",
       "      <td>169</td>\n",
       "      <td>183</td>\n",
       "      <td>bus</td>\n",
       "    </tr>\n",
       "    <tr>\n",
       "      <th>6</th>\n",
       "      <td>97</td>\n",
       "      <td>6</td>\n",
       "      <td>143</td>\n",
       "      <td>204</td>\n",
       "      <td>bus</td>\n",
       "    </tr>\n",
       "    <tr>\n",
       "      <th>7</th>\n",
       "      <td>90</td>\n",
       "      <td>9</td>\n",
       "      <td>146</td>\n",
       "      <td>202</td>\n",
       "      <td>van</td>\n",
       "    </tr>\n",
       "    <tr>\n",
       "      <th>8</th>\n",
       "      <td>86</td>\n",
       "      <td>7</td>\n",
       "      <td>127</td>\n",
       "      <td>208</td>\n",
       "      <td>van</td>\n",
       "    </tr>\n",
       "    <tr>\n",
       "      <th>9</th>\n",
       "      <td>93</td>\n",
       "      <td>11</td>\n",
       "      <td>146</td>\n",
       "      <td>204</td>\n",
       "      <td>car</td>\n",
       "    </tr>\n",
       "    <tr>\n",
       "      <th>10</th>\n",
       "      <td>86</td>\n",
       "      <td>9</td>\n",
       "      <td>130</td>\n",
       "      <td>202</td>\n",
       "      <td>van</td>\n",
       "    </tr>\n",
       "    <tr>\n",
       "      <th>11</th>\n",
       "      <td>90</td>\n",
       "      <td>6</td>\n",
       "      <td>118</td>\n",
       "      <td>202</td>\n",
       "      <td>car</td>\n",
       "    </tr>\n",
       "    <tr>\n",
       "      <th>12</th>\n",
       "      <td>88</td>\n",
       "      <td>6</td>\n",
       "      <td>148</td>\n",
       "      <td>195</td>\n",
       "      <td>bus</td>\n",
       "    </tr>\n",
       "    <tr>\n",
       "      <th>13</th>\n",
       "      <td>89</td>\n",
       "      <td>10</td>\n",
       "      <td>144</td>\n",
       "      <td>197</td>\n",
       "      <td>van</td>\n",
       "    </tr>\n",
       "    <tr>\n",
       "      <th>14</th>\n",
       "      <td>94</td>\n",
       "      <td>5</td>\n",
       "      <td>154</td>\n",
       "      <td>199</td>\n",
       "      <td>bus</td>\n",
       "    </tr>\n",
       "    <tr>\n",
       "      <th>15</th>\n",
       "      <td>96</td>\n",
       "      <td>9</td>\n",
       "      <td>166</td>\n",
       "      <td>194</td>\n",
       "      <td>car</td>\n",
       "    </tr>\n",
       "    <tr>\n",
       "      <th>16</th>\n",
       "      <td>89</td>\n",
       "      <td>6</td>\n",
       "      <td>129</td>\n",
       "      <td>185</td>\n",
       "      <td>van</td>\n",
       "    </tr>\n",
       "    <tr>\n",
       "      <th>17</th>\n",
       "      <td>99</td>\n",
       "      <td>6</td>\n",
       "      <td>139</td>\n",
       "      <td>199</td>\n",
       "      <td>bus</td>\n",
       "    </tr>\n",
       "    <tr>\n",
       "      <th>18</th>\n",
       "      <td>104</td>\n",
       "      <td>10</td>\n",
       "      <td>173</td>\n",
       "      <td>195</td>\n",
       "      <td>car</td>\n",
       "    </tr>\n",
       "    <tr>\n",
       "      <th>19</th>\n",
       "      <td>101</td>\n",
       "      <td>10</td>\n",
       "      <td>169</td>\n",
       "      <td>193</td>\n",
       "      <td>car</td>\n",
       "    </tr>\n",
       "    <tr>\n",
       "      <th>20</th>\n",
       "      <td>84</td>\n",
       "      <td>6</td>\n",
       "      <td>145</td>\n",
       "      <td>192</td>\n",
       "      <td>bus</td>\n",
       "    </tr>\n",
       "    <tr>\n",
       "      <th>21</th>\n",
       "      <td>84</td>\n",
       "      <td>5</td>\n",
       "      <td>125</td>\n",
       "      <td>183</td>\n",
       "      <td>van</td>\n",
       "    </tr>\n",
       "    <tr>\n",
       "      <th>22</th>\n",
       "      <td>94</td>\n",
       "      <td>7</td>\n",
       "      <td>142</td>\n",
       "      <td>206</td>\n",
       "      <td>bus</td>\n",
       "    </tr>\n",
       "    <tr>\n",
       "      <th>23</th>\n",
       "      <td>87</td>\n",
       "      <td>7</td>\n",
       "      <td>136</td>\n",
       "      <td>199</td>\n",
       "      <td>bus</td>\n",
       "    </tr>\n",
       "    <tr>\n",
       "      <th>24</th>\n",
       "      <td>99</td>\n",
       "      <td>11</td>\n",
       "      <td>165</td>\n",
       "      <td>201</td>\n",
       "      <td>car</td>\n",
       "    </tr>\n",
       "    <tr>\n",
       "      <th>25</th>\n",
       "      <td>85</td>\n",
       "      <td>9</td>\n",
       "      <td>148</td>\n",
       "      <td>199</td>\n",
       "      <td>van</td>\n",
       "    </tr>\n",
       "    <tr>\n",
       "      <th>26</th>\n",
       "      <td>83</td>\n",
       "      <td>6</td>\n",
       "      <td>125</td>\n",
       "      <td>183</td>\n",
       "      <td>car</td>\n",
       "    </tr>\n",
       "    <tr>\n",
       "      <th>27</th>\n",
       "      <td>107</td>\n",
       "      <td>11</td>\n",
       "      <td>167</td>\n",
       "      <td>199</td>\n",
       "      <td>car</td>\n",
       "    </tr>\n",
       "    <tr>\n",
       "      <th>28</th>\n",
       "      <td>102</td>\n",
       "      <td>6</td>\n",
       "      <td>146</td>\n",
       "      <td>193</td>\n",
       "      <td>bus</td>\n",
       "    </tr>\n",
       "    <tr>\n",
       "      <th>29</th>\n",
       "      <td>80</td>\n",
       "      <td>7</td>\n",
       "      <td>130</td>\n",
       "      <td>185</td>\n",
       "      <td>car</td>\n",
       "    </tr>\n",
       "    <tr>\n",
       "      <th>...</th>\n",
       "      <td>...</td>\n",
       "      <td>...</td>\n",
       "      <td>...</td>\n",
       "      <td>...</td>\n",
       "      <td>...</td>\n",
       "    </tr>\n",
       "    <tr>\n",
       "      <th>816</th>\n",
       "      <td>90</td>\n",
       "      <td>11</td>\n",
       "      <td>167</td>\n",
       "      <td>195</td>\n",
       "      <td>van</td>\n",
       "    </tr>\n",
       "    <tr>\n",
       "      <th>817</th>\n",
       "      <td>104</td>\n",
       "      <td>11</td>\n",
       "      <td>172</td>\n",
       "      <td>203</td>\n",
       "      <td>car</td>\n",
       "    </tr>\n",
       "    <tr>\n",
       "      <th>818</th>\n",
       "      <td>95</td>\n",
       "      <td>10</td>\n",
       "      <td>143</td>\n",
       "      <td>197</td>\n",
       "      <td>car</td>\n",
       "    </tr>\n",
       "    <tr>\n",
       "      <th>819</th>\n",
       "      <td>93</td>\n",
       "      <td>9</td>\n",
       "      <td>138</td>\n",
       "      <td>197</td>\n",
       "      <td>car</td>\n",
       "    </tr>\n",
       "    <tr>\n",
       "      <th>820</th>\n",
       "      <td>87</td>\n",
       "      <td>8</td>\n",
       "      <td>127</td>\n",
       "      <td>186</td>\n",
       "      <td>car</td>\n",
       "    </tr>\n",
       "    <tr>\n",
       "      <th>821</th>\n",
       "      <td>104</td>\n",
       "      <td>11</td>\n",
       "      <td>172</td>\n",
       "      <td>195</td>\n",
       "      <td>car</td>\n",
       "    </tr>\n",
       "    <tr>\n",
       "      <th>822</th>\n",
       "      <td>95</td>\n",
       "      <td>9</td>\n",
       "      <td>145</td>\n",
       "      <td>207</td>\n",
       "      <td>van</td>\n",
       "    </tr>\n",
       "    <tr>\n",
       "      <th>823</th>\n",
       "      <td>105</td>\n",
       "      <td>10</td>\n",
       "      <td>163</td>\n",
       "      <td>198</td>\n",
       "      <td>car</td>\n",
       "    </tr>\n",
       "    <tr>\n",
       "      <th>824</th>\n",
       "      <td>106</td>\n",
       "      <td>12</td>\n",
       "      <td>173</td>\n",
       "      <td>196</td>\n",
       "      <td>car</td>\n",
       "    </tr>\n",
       "    <tr>\n",
       "      <th>825</th>\n",
       "      <td>86</td>\n",
       "      <td>8</td>\n",
       "      <td>133</td>\n",
       "      <td>190</td>\n",
       "      <td>car</td>\n",
       "    </tr>\n",
       "    <tr>\n",
       "      <th>826</th>\n",
       "      <td>95</td>\n",
       "      <td>10</td>\n",
       "      <td>154</td>\n",
       "      <td>206</td>\n",
       "      <td>car</td>\n",
       "    </tr>\n",
       "    <tr>\n",
       "      <th>827</th>\n",
       "      <td>99</td>\n",
       "      <td>13</td>\n",
       "      <td>188</td>\n",
       "      <td>198</td>\n",
       "      <td>car</td>\n",
       "    </tr>\n",
       "    <tr>\n",
       "      <th>828</th>\n",
       "      <td>89</td>\n",
       "      <td>7</td>\n",
       "      <td>144</td>\n",
       "      <td>191</td>\n",
       "      <td>van</td>\n",
       "    </tr>\n",
       "    <tr>\n",
       "      <th>829</th>\n",
       "      <td>95</td>\n",
       "      <td>11</td>\n",
       "      <td>162</td>\n",
       "      <td>191</td>\n",
       "      <td>van</td>\n",
       "    </tr>\n",
       "    <tr>\n",
       "      <th>830</th>\n",
       "      <td>97</td>\n",
       "      <td>7</td>\n",
       "      <td>129</td>\n",
       "      <td>208</td>\n",
       "      <td>bus</td>\n",
       "    </tr>\n",
       "    <tr>\n",
       "      <th>831</th>\n",
       "      <td>100</td>\n",
       "      <td>7</td>\n",
       "      <td>153</td>\n",
       "      <td>205</td>\n",
       "      <td>bus</td>\n",
       "    </tr>\n",
       "    <tr>\n",
       "      <th>832</th>\n",
       "      <td>108</td>\n",
       "      <td>11</td>\n",
       "      <td>159</td>\n",
       "      <td>199</td>\n",
       "      <td>car</td>\n",
       "    </tr>\n",
       "    <tr>\n",
       "      <th>833</th>\n",
       "      <td>92</td>\n",
       "      <td>6</td>\n",
       "      <td>148</td>\n",
       "      <td>191</td>\n",
       "      <td>car</td>\n",
       "    </tr>\n",
       "    <tr>\n",
       "      <th>834</th>\n",
       "      <td>82</td>\n",
       "      <td>4</td>\n",
       "      <td>126</td>\n",
       "      <td>182</td>\n",
       "      <td>car</td>\n",
       "    </tr>\n",
       "    <tr>\n",
       "      <th>835</th>\n",
       "      <td>111</td>\n",
       "      <td>6</td>\n",
       "      <td>174</td>\n",
       "      <td>183</td>\n",
       "      <td>bus</td>\n",
       "    </tr>\n",
       "    <tr>\n",
       "      <th>836</th>\n",
       "      <td>87</td>\n",
       "      <td>8</td>\n",
       "      <td>148</td>\n",
       "      <td>196</td>\n",
       "      <td>van</td>\n",
       "    </tr>\n",
       "    <tr>\n",
       "      <th>837</th>\n",
       "      <td>94</td>\n",
       "      <td>8</td>\n",
       "      <td>148</td>\n",
       "      <td>199</td>\n",
       "      <td>car</td>\n",
       "    </tr>\n",
       "    <tr>\n",
       "      <th>838</th>\n",
       "      <td>95</td>\n",
       "      <td>10</td>\n",
       "      <td>149</td>\n",
       "      <td>200</td>\n",
       "      <td>van</td>\n",
       "    </tr>\n",
       "    <tr>\n",
       "      <th>839</th>\n",
       "      <td>90</td>\n",
       "      <td>8</td>\n",
       "      <td>144</td>\n",
       "      <td>203</td>\n",
       "      <td>van</td>\n",
       "    </tr>\n",
       "    <tr>\n",
       "      <th>840</th>\n",
       "      <td>93</td>\n",
       "      <td>7</td>\n",
       "      <td>120</td>\n",
       "      <td>207</td>\n",
       "      <td>car</td>\n",
       "    </tr>\n",
       "    <tr>\n",
       "      <th>841</th>\n",
       "      <td>93</td>\n",
       "      <td>8</td>\n",
       "      <td>134</td>\n",
       "      <td>195</td>\n",
       "      <td>car</td>\n",
       "    </tr>\n",
       "    <tr>\n",
       "      <th>842</th>\n",
       "      <td>89</td>\n",
       "      <td>11</td>\n",
       "      <td>159</td>\n",
       "      <td>197</td>\n",
       "      <td>van</td>\n",
       "    </tr>\n",
       "    <tr>\n",
       "      <th>843</th>\n",
       "      <td>106</td>\n",
       "      <td>12</td>\n",
       "      <td>173</td>\n",
       "      <td>201</td>\n",
       "      <td>car</td>\n",
       "    </tr>\n",
       "    <tr>\n",
       "      <th>844</th>\n",
       "      <td>86</td>\n",
       "      <td>7</td>\n",
       "      <td>124</td>\n",
       "      <td>195</td>\n",
       "      <td>car</td>\n",
       "    </tr>\n",
       "    <tr>\n",
       "      <th>845</th>\n",
       "      <td>85</td>\n",
       "      <td>5</td>\n",
       "      <td>128</td>\n",
       "      <td>190</td>\n",
       "      <td>van</td>\n",
       "    </tr>\n",
       "  </tbody>\n",
       "</table>\n",
       "<p>846 rows × 5 columns</p>\n",
       "</div>"
      ],
      "text/plain": [
       "     compactness  max.length_aspect_ratio  max.length_rectangularity  \\\n",
       "0             95                       10                        159   \n",
       "1             91                        9                        143   \n",
       "2            104                       10                        158   \n",
       "3             93                        9                        143   \n",
       "4             85                       52                        144   \n",
       "5            107                        6                        169   \n",
       "6             97                        6                        143   \n",
       "7             90                        9                        146   \n",
       "8             86                        7                        127   \n",
       "9             93                       11                        146   \n",
       "10            86                        9                        130   \n",
       "11            90                        6                        118   \n",
       "12            88                        6                        148   \n",
       "13            89                       10                        144   \n",
       "14            94                        5                        154   \n",
       "15            96                        9                        166   \n",
       "16            89                        6                        129   \n",
       "17            99                        6                        139   \n",
       "18           104                       10                        173   \n",
       "19           101                       10                        169   \n",
       "20            84                        6                        145   \n",
       "21            84                        5                        125   \n",
       "22            94                        7                        142   \n",
       "23            87                        7                        136   \n",
       "24            99                       11                        165   \n",
       "25            85                        9                        148   \n",
       "26            83                        6                        125   \n",
       "27           107                       11                        167   \n",
       "28           102                        6                        146   \n",
       "29            80                        7                        130   \n",
       "..           ...                      ...                        ...   \n",
       "816           90                       11                        167   \n",
       "817          104                       11                        172   \n",
       "818           95                       10                        143   \n",
       "819           93                        9                        138   \n",
       "820           87                        8                        127   \n",
       "821          104                       11                        172   \n",
       "822           95                        9                        145   \n",
       "823          105                       10                        163   \n",
       "824          106                       12                        173   \n",
       "825           86                        8                        133   \n",
       "826           95                       10                        154   \n",
       "827           99                       13                        188   \n",
       "828           89                        7                        144   \n",
       "829           95                       11                        162   \n",
       "830           97                        7                        129   \n",
       "831          100                        7                        153   \n",
       "832          108                       11                        159   \n",
       "833           92                        6                        148   \n",
       "834           82                        4                        126   \n",
       "835          111                        6                        174   \n",
       "836           87                        8                        148   \n",
       "837           94                        8                        148   \n",
       "838           95                       10                        149   \n",
       "839           90                        8                        144   \n",
       "840           93                        7                        120   \n",
       "841           93                        8                        134   \n",
       "842           89                       11                        159   \n",
       "843          106                       12                        173   \n",
       "844           86                        7                        124   \n",
       "845           85                        5                        128   \n",
       "\n",
       "     hollows_ratio class  \n",
       "0              197   van  \n",
       "1              199   van  \n",
       "2              196   car  \n",
       "3              207   van  \n",
       "4              183   bus  \n",
       "5              183   bus  \n",
       "6              204   bus  \n",
       "7              202   van  \n",
       "8              208   van  \n",
       "9              204   car  \n",
       "10             202   van  \n",
       "11             202   car  \n",
       "12             195   bus  \n",
       "13             197   van  \n",
       "14             199   bus  \n",
       "15             194   car  \n",
       "16             185   van  \n",
       "17             199   bus  \n",
       "18             195   car  \n",
       "19             193   car  \n",
       "20             192   bus  \n",
       "21             183   van  \n",
       "22             206   bus  \n",
       "23             199   bus  \n",
       "24             201   car  \n",
       "25             199   van  \n",
       "26             183   car  \n",
       "27             199   car  \n",
       "28             193   bus  \n",
       "29             185   car  \n",
       "..             ...   ...  \n",
       "816            195   van  \n",
       "817            203   car  \n",
       "818            197   car  \n",
       "819            197   car  \n",
       "820            186   car  \n",
       "821            195   car  \n",
       "822            207   van  \n",
       "823            198   car  \n",
       "824            196   car  \n",
       "825            190   car  \n",
       "826            206   car  \n",
       "827            198   car  \n",
       "828            191   van  \n",
       "829            191   van  \n",
       "830            208   bus  \n",
       "831            205   bus  \n",
       "832            199   car  \n",
       "833            191   car  \n",
       "834            182   car  \n",
       "835            183   bus  \n",
       "836            196   van  \n",
       "837            199   car  \n",
       "838            200   van  \n",
       "839            203   van  \n",
       "840            207   car  \n",
       "841            195   car  \n",
       "842            197   van  \n",
       "843            201   car  \n",
       "844            195   car  \n",
       "845            190   van  \n",
       "\n",
       "[846 rows x 5 columns]"
      ]
     },
     "execution_count": 4,
     "metadata": {},
     "output_type": "execute_result"
    }
   ],
   "source": [
    "veh_df"
   ]
  },
  {
   "cell_type": "code",
   "execution_count": 5,
   "metadata": {},
   "outputs": [
    {
     "data": {
      "text/plain": [
       "(846, 5)"
      ]
     },
     "execution_count": 5,
     "metadata": {},
     "output_type": "execute_result"
    }
   ],
   "source": [
    "veh_df.shape"
   ]
  },
  {
   "cell_type": "markdown",
   "metadata": {
    "colab_type": "text",
    "id": "Ku4eS0ZAho8s"
   },
   "source": [
    "### 2. Print/ Plot the dependent (categorical variable) - Class column"
   ]
  },
  {
   "cell_type": "markdown",
   "metadata": {
    "colab_type": "text",
    "id": "R1mfF_hiho8v"
   },
   "source": [
    "Since the variable is categorical, you can use value_counts function"
   ]
  },
  {
   "cell_type": "code",
   "execution_count": 6,
   "metadata": {
    "colab": {},
    "colab_type": "code",
    "id": "_dP5-zpUho81"
   },
   "outputs": [
    {
     "data": {
      "text/plain": [
       "car    429\n",
       "bus    218\n",
       "van    199\n",
       "Name: class, dtype: int64"
      ]
     },
     "execution_count": 6,
     "metadata": {},
     "output_type": "execute_result"
    }
   ],
   "source": [
    "veh_df['class'].value_counts()"
   ]
  },
  {
   "cell_type": "code",
   "execution_count": 7,
   "metadata": {},
   "outputs": [
    {
     "data": {
      "text/plain": [
       "<matplotlib.axes._subplots.AxesSubplot at 0x217da4bcef0>"
      ]
     },
     "execution_count": 7,
     "metadata": {},
     "output_type": "execute_result"
    }
   ],
   "source": [
    "import seaborn as sns\n",
    "sns.countplot(veh_df['class'])"
   ]
  },
  {
   "cell_type": "markdown",
   "metadata": {
    "colab_type": "text",
    "id": "ZFsXYI5qho9E"
   },
   "source": [
    "### Check for any missing values in the data "
   ]
  },
  {
   "cell_type": "code",
   "execution_count": 8,
   "metadata": {
    "colab": {},
    "colab_type": "code",
    "id": "qb77DNfwho9J"
   },
   "outputs": [
    {
     "data": {
      "text/plain": [
       "compactness                  0\n",
       "max.length_aspect_ratio      0\n",
       "max.length_rectangularity    0\n",
       "hollows_ratio                0\n",
       "class                        0\n",
       "dtype: int64"
      ]
     },
     "execution_count": 8,
     "metadata": {},
     "output_type": "execute_result"
    }
   ],
   "source": [
    "veh_df.isnull().sum()"
   ]
  },
  {
   "cell_type": "markdown",
   "metadata": {
    "colab_type": "text",
    "id": "AwUdJm9qho9U"
   },
   "source": [
    "### 3. Standardize the data "
   ]
  },
  {
   "cell_type": "markdown",
   "metadata": {
    "colab_type": "text",
    "id": "x6z10bgjho9j"
   },
   "source": [
    "Since the dimensions of the data are not really known to us, it would be wise to standardize the data using z scores before we go for any clustering methods.\n",
    "You can use zscore function to do this"
   ]
  },
  {
   "cell_type": "code",
   "execution_count": 9,
   "metadata": {
    "colab": {},
    "colab_type": "code",
    "id": "qed3MlPjho9n"
   },
   "outputs": [
    {
     "data": {
      "text/plain": [
       "(846, 5)"
      ]
     },
     "execution_count": 9,
     "metadata": {},
     "output_type": "execute_result"
    }
   ],
   "source": [
    "veh_df.shape"
   ]
  },
  {
   "cell_type": "code",
   "execution_count": 10,
   "metadata": {
    "colab": {},
    "colab_type": "code",
    "id": "pbGN_7mhho9y"
   },
   "outputs": [
    {
     "data": {
      "text/html": [
       "<div>\n",
       "<style scoped>\n",
       "    .dataframe tbody tr th:only-of-type {\n",
       "        vertical-align: middle;\n",
       "    }\n",
       "\n",
       "    .dataframe tbody tr th {\n",
       "        vertical-align: top;\n",
       "    }\n",
       "\n",
       "    .dataframe thead th {\n",
       "        text-align: right;\n",
       "    }\n",
       "</style>\n",
       "<table border=\"1\" class=\"dataframe\">\n",
       "  <thead>\n",
       "    <tr style=\"text-align: right;\">\n",
       "      <th></th>\n",
       "      <th>compactness</th>\n",
       "      <th>max.length_aspect_ratio</th>\n",
       "      <th>max.length_rectangularity</th>\n",
       "      <th>hollows_ratio</th>\n",
       "    </tr>\n",
       "  </thead>\n",
       "  <tbody>\n",
       "    <tr>\n",
       "      <th>0</th>\n",
       "      <td>0.160580</td>\n",
       "      <td>0.311542</td>\n",
       "      <td>0.758332</td>\n",
       "      <td>0.183957</td>\n",
       "    </tr>\n",
       "    <tr>\n",
       "      <th>1</th>\n",
       "      <td>-0.325470</td>\n",
       "      <td>0.094079</td>\n",
       "      <td>-0.344578</td>\n",
       "      <td>0.452977</td>\n",
       "    </tr>\n",
       "    <tr>\n",
       "      <th>2</th>\n",
       "      <td>1.254193</td>\n",
       "      <td>0.311542</td>\n",
       "      <td>0.689401</td>\n",
       "      <td>0.049447</td>\n",
       "    </tr>\n",
       "    <tr>\n",
       "      <th>3</th>\n",
       "      <td>-0.082445</td>\n",
       "      <td>0.094079</td>\n",
       "      <td>-0.344578</td>\n",
       "      <td>1.529056</td>\n",
       "    </tr>\n",
       "    <tr>\n",
       "      <th>4</th>\n",
       "      <td>-1.054545</td>\n",
       "      <td>9.444962</td>\n",
       "      <td>-0.275646</td>\n",
       "      <td>-1.699181</td>\n",
       "    </tr>\n",
       "    <tr>\n",
       "      <th>5</th>\n",
       "      <td>1.618730</td>\n",
       "      <td>-0.558308</td>\n",
       "      <td>1.447652</td>\n",
       "      <td>-1.699181</td>\n",
       "    </tr>\n",
       "    <tr>\n",
       "      <th>6</th>\n",
       "      <td>0.403605</td>\n",
       "      <td>-0.558308</td>\n",
       "      <td>-0.344578</td>\n",
       "      <td>1.125526</td>\n",
       "    </tr>\n",
       "    <tr>\n",
       "      <th>7</th>\n",
       "      <td>-0.446982</td>\n",
       "      <td>0.094079</td>\n",
       "      <td>-0.137782</td>\n",
       "      <td>0.856507</td>\n",
       "    </tr>\n",
       "    <tr>\n",
       "      <th>8</th>\n",
       "      <td>-0.933032</td>\n",
       "      <td>-0.340845</td>\n",
       "      <td>-1.447489</td>\n",
       "      <td>1.663566</td>\n",
       "    </tr>\n",
       "    <tr>\n",
       "      <th>9</th>\n",
       "      <td>-0.082445</td>\n",
       "      <td>0.529004</td>\n",
       "      <td>-0.137782</td>\n",
       "      <td>1.125526</td>\n",
       "    </tr>\n",
       "    <tr>\n",
       "      <th>10</th>\n",
       "      <td>-0.933032</td>\n",
       "      <td>0.094079</td>\n",
       "      <td>-1.240693</td>\n",
       "      <td>0.856507</td>\n",
       "    </tr>\n",
       "    <tr>\n",
       "      <th>11</th>\n",
       "      <td>-0.446982</td>\n",
       "      <td>-0.558308</td>\n",
       "      <td>-2.067876</td>\n",
       "      <td>0.856507</td>\n",
       "    </tr>\n",
       "    <tr>\n",
       "      <th>12</th>\n",
       "      <td>-0.690007</td>\n",
       "      <td>-0.558308</td>\n",
       "      <td>0.000081</td>\n",
       "      <td>-0.085062</td>\n",
       "    </tr>\n",
       "    <tr>\n",
       "      <th>13</th>\n",
       "      <td>-0.568495</td>\n",
       "      <td>0.311542</td>\n",
       "      <td>-0.275646</td>\n",
       "      <td>0.183957</td>\n",
       "    </tr>\n",
       "    <tr>\n",
       "      <th>14</th>\n",
       "      <td>0.039068</td>\n",
       "      <td>-0.775770</td>\n",
       "      <td>0.413673</td>\n",
       "      <td>0.452977</td>\n",
       "    </tr>\n",
       "    <tr>\n",
       "      <th>15</th>\n",
       "      <td>0.282093</td>\n",
       "      <td>0.094079</td>\n",
       "      <td>1.240856</td>\n",
       "      <td>-0.219572</td>\n",
       "    </tr>\n",
       "    <tr>\n",
       "      <th>16</th>\n",
       "      <td>-0.568495</td>\n",
       "      <td>-0.558308</td>\n",
       "      <td>-1.309625</td>\n",
       "      <td>-1.430161</td>\n",
       "    </tr>\n",
       "    <tr>\n",
       "      <th>17</th>\n",
       "      <td>0.646630</td>\n",
       "      <td>-0.558308</td>\n",
       "      <td>-0.620306</td>\n",
       "      <td>0.452977</td>\n",
       "    </tr>\n",
       "    <tr>\n",
       "      <th>18</th>\n",
       "      <td>1.254193</td>\n",
       "      <td>0.311542</td>\n",
       "      <td>1.723379</td>\n",
       "      <td>-0.085062</td>\n",
       "    </tr>\n",
       "    <tr>\n",
       "      <th>19</th>\n",
       "      <td>0.889655</td>\n",
       "      <td>0.311542</td>\n",
       "      <td>1.447652</td>\n",
       "      <td>-0.354082</td>\n",
       "    </tr>\n",
       "    <tr>\n",
       "      <th>20</th>\n",
       "      <td>-1.176057</td>\n",
       "      <td>-0.558308</td>\n",
       "      <td>-0.206714</td>\n",
       "      <td>-0.488592</td>\n",
       "    </tr>\n",
       "    <tr>\n",
       "      <th>21</th>\n",
       "      <td>-1.176057</td>\n",
       "      <td>-0.775770</td>\n",
       "      <td>-1.585352</td>\n",
       "      <td>-1.699181</td>\n",
       "    </tr>\n",
       "    <tr>\n",
       "      <th>22</th>\n",
       "      <td>0.039068</td>\n",
       "      <td>-0.340845</td>\n",
       "      <td>-0.413510</td>\n",
       "      <td>1.394546</td>\n",
       "    </tr>\n",
       "    <tr>\n",
       "      <th>23</th>\n",
       "      <td>-0.811520</td>\n",
       "      <td>-0.340845</td>\n",
       "      <td>-0.827101</td>\n",
       "      <td>0.452977</td>\n",
       "    </tr>\n",
       "    <tr>\n",
       "      <th>24</th>\n",
       "      <td>0.646630</td>\n",
       "      <td>0.529004</td>\n",
       "      <td>1.171924</td>\n",
       "      <td>0.721997</td>\n",
       "    </tr>\n",
       "    <tr>\n",
       "      <th>25</th>\n",
       "      <td>-1.054545</td>\n",
       "      <td>0.094079</td>\n",
       "      <td>0.000081</td>\n",
       "      <td>0.452977</td>\n",
       "    </tr>\n",
       "    <tr>\n",
       "      <th>26</th>\n",
       "      <td>-1.297570</td>\n",
       "      <td>-0.558308</td>\n",
       "      <td>-1.585352</td>\n",
       "      <td>-1.699181</td>\n",
       "    </tr>\n",
       "    <tr>\n",
       "      <th>27</th>\n",
       "      <td>1.618730</td>\n",
       "      <td>0.529004</td>\n",
       "      <td>1.309788</td>\n",
       "      <td>0.452977</td>\n",
       "    </tr>\n",
       "    <tr>\n",
       "      <th>28</th>\n",
       "      <td>1.011168</td>\n",
       "      <td>-0.558308</td>\n",
       "      <td>-0.137782</td>\n",
       "      <td>-0.354082</td>\n",
       "    </tr>\n",
       "    <tr>\n",
       "      <th>29</th>\n",
       "      <td>-1.662107</td>\n",
       "      <td>-0.340845</td>\n",
       "      <td>-1.240693</td>\n",
       "      <td>-1.430161</td>\n",
       "    </tr>\n",
       "    <tr>\n",
       "      <th>...</th>\n",
       "      <td>...</td>\n",
       "      <td>...</td>\n",
       "      <td>...</td>\n",
       "      <td>...</td>\n",
       "    </tr>\n",
       "    <tr>\n",
       "      <th>816</th>\n",
       "      <td>-0.446982</td>\n",
       "      <td>0.529004</td>\n",
       "      <td>1.309788</td>\n",
       "      <td>-0.085062</td>\n",
       "    </tr>\n",
       "    <tr>\n",
       "      <th>817</th>\n",
       "      <td>1.254193</td>\n",
       "      <td>0.529004</td>\n",
       "      <td>1.654447</td>\n",
       "      <td>0.991016</td>\n",
       "    </tr>\n",
       "    <tr>\n",
       "      <th>818</th>\n",
       "      <td>0.160580</td>\n",
       "      <td>0.311542</td>\n",
       "      <td>-0.344578</td>\n",
       "      <td>0.183957</td>\n",
       "    </tr>\n",
       "    <tr>\n",
       "      <th>819</th>\n",
       "      <td>-0.082445</td>\n",
       "      <td>0.094079</td>\n",
       "      <td>-0.689238</td>\n",
       "      <td>0.183957</td>\n",
       "    </tr>\n",
       "    <tr>\n",
       "      <th>820</th>\n",
       "      <td>-0.811520</td>\n",
       "      <td>-0.123383</td>\n",
       "      <td>-1.447489</td>\n",
       "      <td>-1.295651</td>\n",
       "    </tr>\n",
       "    <tr>\n",
       "      <th>821</th>\n",
       "      <td>1.254193</td>\n",
       "      <td>0.529004</td>\n",
       "      <td>1.654447</td>\n",
       "      <td>-0.085062</td>\n",
       "    </tr>\n",
       "    <tr>\n",
       "      <th>822</th>\n",
       "      <td>0.160580</td>\n",
       "      <td>0.094079</td>\n",
       "      <td>-0.206714</td>\n",
       "      <td>1.529056</td>\n",
       "    </tr>\n",
       "    <tr>\n",
       "      <th>823</th>\n",
       "      <td>1.375705</td>\n",
       "      <td>0.311542</td>\n",
       "      <td>1.034060</td>\n",
       "      <td>0.318467</td>\n",
       "    </tr>\n",
       "    <tr>\n",
       "      <th>824</th>\n",
       "      <td>1.497218</td>\n",
       "      <td>0.746467</td>\n",
       "      <td>1.723379</td>\n",
       "      <td>0.049447</td>\n",
       "    </tr>\n",
       "    <tr>\n",
       "      <th>825</th>\n",
       "      <td>-0.933032</td>\n",
       "      <td>-0.123383</td>\n",
       "      <td>-1.033897</td>\n",
       "      <td>-0.757612</td>\n",
       "    </tr>\n",
       "    <tr>\n",
       "      <th>826</th>\n",
       "      <td>0.160580</td>\n",
       "      <td>0.311542</td>\n",
       "      <td>0.413673</td>\n",
       "      <td>1.394546</td>\n",
       "    </tr>\n",
       "    <tr>\n",
       "      <th>827</th>\n",
       "      <td>0.646630</td>\n",
       "      <td>0.963929</td>\n",
       "      <td>2.757358</td>\n",
       "      <td>0.318467</td>\n",
       "    </tr>\n",
       "    <tr>\n",
       "      <th>828</th>\n",
       "      <td>-0.568495</td>\n",
       "      <td>-0.340845</td>\n",
       "      <td>-0.275646</td>\n",
       "      <td>-0.623102</td>\n",
       "    </tr>\n",
       "    <tr>\n",
       "      <th>829</th>\n",
       "      <td>0.160580</td>\n",
       "      <td>0.529004</td>\n",
       "      <td>0.965128</td>\n",
       "      <td>-0.623102</td>\n",
       "    </tr>\n",
       "    <tr>\n",
       "      <th>830</th>\n",
       "      <td>0.403605</td>\n",
       "      <td>-0.340845</td>\n",
       "      <td>-1.309625</td>\n",
       "      <td>1.663566</td>\n",
       "    </tr>\n",
       "    <tr>\n",
       "      <th>831</th>\n",
       "      <td>0.768143</td>\n",
       "      <td>-0.340845</td>\n",
       "      <td>0.344741</td>\n",
       "      <td>1.260036</td>\n",
       "    </tr>\n",
       "    <tr>\n",
       "      <th>832</th>\n",
       "      <td>1.740243</td>\n",
       "      <td>0.529004</td>\n",
       "      <td>0.758332</td>\n",
       "      <td>0.452977</td>\n",
       "    </tr>\n",
       "    <tr>\n",
       "      <th>833</th>\n",
       "      <td>-0.203957</td>\n",
       "      <td>-0.558308</td>\n",
       "      <td>0.000081</td>\n",
       "      <td>-0.623102</td>\n",
       "    </tr>\n",
       "    <tr>\n",
       "      <th>834</th>\n",
       "      <td>-1.419082</td>\n",
       "      <td>-0.993232</td>\n",
       "      <td>-1.516420</td>\n",
       "      <td>-1.833690</td>\n",
       "    </tr>\n",
       "    <tr>\n",
       "      <th>835</th>\n",
       "      <td>2.104780</td>\n",
       "      <td>-0.558308</td>\n",
       "      <td>1.792311</td>\n",
       "      <td>-1.699181</td>\n",
       "    </tr>\n",
       "    <tr>\n",
       "      <th>836</th>\n",
       "      <td>-0.811520</td>\n",
       "      <td>-0.123383</td>\n",
       "      <td>0.000081</td>\n",
       "      <td>0.049447</td>\n",
       "    </tr>\n",
       "    <tr>\n",
       "      <th>837</th>\n",
       "      <td>0.039068</td>\n",
       "      <td>-0.123383</td>\n",
       "      <td>0.000081</td>\n",
       "      <td>0.452977</td>\n",
       "    </tr>\n",
       "    <tr>\n",
       "      <th>838</th>\n",
       "      <td>0.160580</td>\n",
       "      <td>0.311542</td>\n",
       "      <td>0.069013</td>\n",
       "      <td>0.587487</td>\n",
       "    </tr>\n",
       "    <tr>\n",
       "      <th>839</th>\n",
       "      <td>-0.446982</td>\n",
       "      <td>-0.123383</td>\n",
       "      <td>-0.275646</td>\n",
       "      <td>0.991016</td>\n",
       "    </tr>\n",
       "    <tr>\n",
       "      <th>840</th>\n",
       "      <td>-0.082445</td>\n",
       "      <td>-0.340845</td>\n",
       "      <td>-1.930012</td>\n",
       "      <td>1.529056</td>\n",
       "    </tr>\n",
       "    <tr>\n",
       "      <th>841</th>\n",
       "      <td>-0.082445</td>\n",
       "      <td>-0.123383</td>\n",
       "      <td>-0.964965</td>\n",
       "      <td>-0.085062</td>\n",
       "    </tr>\n",
       "    <tr>\n",
       "      <th>842</th>\n",
       "      <td>-0.568495</td>\n",
       "      <td>0.529004</td>\n",
       "      <td>0.758332</td>\n",
       "      <td>0.183957</td>\n",
       "    </tr>\n",
       "    <tr>\n",
       "      <th>843</th>\n",
       "      <td>1.497218</td>\n",
       "      <td>0.746467</td>\n",
       "      <td>1.723379</td>\n",
       "      <td>0.721997</td>\n",
       "    </tr>\n",
       "    <tr>\n",
       "      <th>844</th>\n",
       "      <td>-0.933032</td>\n",
       "      <td>-0.340845</td>\n",
       "      <td>-1.654284</td>\n",
       "      <td>-0.085062</td>\n",
       "    </tr>\n",
       "    <tr>\n",
       "      <th>845</th>\n",
       "      <td>-1.054545</td>\n",
       "      <td>-0.775770</td>\n",
       "      <td>-1.378557</td>\n",
       "      <td>-0.757612</td>\n",
       "    </tr>\n",
       "  </tbody>\n",
       "</table>\n",
       "<p>846 rows × 4 columns</p>\n",
       "</div>"
      ],
      "text/plain": [
       "     compactness  max.length_aspect_ratio  max.length_rectangularity  \\\n",
       "0       0.160580                 0.311542                   0.758332   \n",
       "1      -0.325470                 0.094079                  -0.344578   \n",
       "2       1.254193                 0.311542                   0.689401   \n",
       "3      -0.082445                 0.094079                  -0.344578   \n",
       "4      -1.054545                 9.444962                  -0.275646   \n",
       "5       1.618730                -0.558308                   1.447652   \n",
       "6       0.403605                -0.558308                  -0.344578   \n",
       "7      -0.446982                 0.094079                  -0.137782   \n",
       "8      -0.933032                -0.340845                  -1.447489   \n",
       "9      -0.082445                 0.529004                  -0.137782   \n",
       "10     -0.933032                 0.094079                  -1.240693   \n",
       "11     -0.446982                -0.558308                  -2.067876   \n",
       "12     -0.690007                -0.558308                   0.000081   \n",
       "13     -0.568495                 0.311542                  -0.275646   \n",
       "14      0.039068                -0.775770                   0.413673   \n",
       "15      0.282093                 0.094079                   1.240856   \n",
       "16     -0.568495                -0.558308                  -1.309625   \n",
       "17      0.646630                -0.558308                  -0.620306   \n",
       "18      1.254193                 0.311542                   1.723379   \n",
       "19      0.889655                 0.311542                   1.447652   \n",
       "20     -1.176057                -0.558308                  -0.206714   \n",
       "21     -1.176057                -0.775770                  -1.585352   \n",
       "22      0.039068                -0.340845                  -0.413510   \n",
       "23     -0.811520                -0.340845                  -0.827101   \n",
       "24      0.646630                 0.529004                   1.171924   \n",
       "25     -1.054545                 0.094079                   0.000081   \n",
       "26     -1.297570                -0.558308                  -1.585352   \n",
       "27      1.618730                 0.529004                   1.309788   \n",
       "28      1.011168                -0.558308                  -0.137782   \n",
       "29     -1.662107                -0.340845                  -1.240693   \n",
       "..           ...                      ...                        ...   \n",
       "816    -0.446982                 0.529004                   1.309788   \n",
       "817     1.254193                 0.529004                   1.654447   \n",
       "818     0.160580                 0.311542                  -0.344578   \n",
       "819    -0.082445                 0.094079                  -0.689238   \n",
       "820    -0.811520                -0.123383                  -1.447489   \n",
       "821     1.254193                 0.529004                   1.654447   \n",
       "822     0.160580                 0.094079                  -0.206714   \n",
       "823     1.375705                 0.311542                   1.034060   \n",
       "824     1.497218                 0.746467                   1.723379   \n",
       "825    -0.933032                -0.123383                  -1.033897   \n",
       "826     0.160580                 0.311542                   0.413673   \n",
       "827     0.646630                 0.963929                   2.757358   \n",
       "828    -0.568495                -0.340845                  -0.275646   \n",
       "829     0.160580                 0.529004                   0.965128   \n",
       "830     0.403605                -0.340845                  -1.309625   \n",
       "831     0.768143                -0.340845                   0.344741   \n",
       "832     1.740243                 0.529004                   0.758332   \n",
       "833    -0.203957                -0.558308                   0.000081   \n",
       "834    -1.419082                -0.993232                  -1.516420   \n",
       "835     2.104780                -0.558308                   1.792311   \n",
       "836    -0.811520                -0.123383                   0.000081   \n",
       "837     0.039068                -0.123383                   0.000081   \n",
       "838     0.160580                 0.311542                   0.069013   \n",
       "839    -0.446982                -0.123383                  -0.275646   \n",
       "840    -0.082445                -0.340845                  -1.930012   \n",
       "841    -0.082445                -0.123383                  -0.964965   \n",
       "842    -0.568495                 0.529004                   0.758332   \n",
       "843     1.497218                 0.746467                   1.723379   \n",
       "844    -0.933032                -0.340845                  -1.654284   \n",
       "845    -1.054545                -0.775770                  -1.378557   \n",
       "\n",
       "     hollows_ratio  \n",
       "0         0.183957  \n",
       "1         0.452977  \n",
       "2         0.049447  \n",
       "3         1.529056  \n",
       "4        -1.699181  \n",
       "5        -1.699181  \n",
       "6         1.125526  \n",
       "7         0.856507  \n",
       "8         1.663566  \n",
       "9         1.125526  \n",
       "10        0.856507  \n",
       "11        0.856507  \n",
       "12       -0.085062  \n",
       "13        0.183957  \n",
       "14        0.452977  \n",
       "15       -0.219572  \n",
       "16       -1.430161  \n",
       "17        0.452977  \n",
       "18       -0.085062  \n",
       "19       -0.354082  \n",
       "20       -0.488592  \n",
       "21       -1.699181  \n",
       "22        1.394546  \n",
       "23        0.452977  \n",
       "24        0.721997  \n",
       "25        0.452977  \n",
       "26       -1.699181  \n",
       "27        0.452977  \n",
       "28       -0.354082  \n",
       "29       -1.430161  \n",
       "..             ...  \n",
       "816      -0.085062  \n",
       "817       0.991016  \n",
       "818       0.183957  \n",
       "819       0.183957  \n",
       "820      -1.295651  \n",
       "821      -0.085062  \n",
       "822       1.529056  \n",
       "823       0.318467  \n",
       "824       0.049447  \n",
       "825      -0.757612  \n",
       "826       1.394546  \n",
       "827       0.318467  \n",
       "828      -0.623102  \n",
       "829      -0.623102  \n",
       "830       1.663566  \n",
       "831       1.260036  \n",
       "832       0.452977  \n",
       "833      -0.623102  \n",
       "834      -1.833690  \n",
       "835      -1.699181  \n",
       "836       0.049447  \n",
       "837       0.452977  \n",
       "838       0.587487  \n",
       "839       0.991016  \n",
       "840       1.529056  \n",
       "841      -0.085062  \n",
       "842       0.183957  \n",
       "843       0.721997  \n",
       "844      -0.085062  \n",
       "845      -0.757612  \n",
       "\n",
       "[846 rows x 4 columns]"
      ]
     },
     "execution_count": 10,
     "metadata": {},
     "output_type": "execute_result"
    }
   ],
   "source": [
    "from scipy.stats import zscore\n",
    "\n",
    "veh_df_attr = veh_df.loc[:, 'compactness':'hollows_ratio']\n",
    "veh_df_attr_z = veh_df_attr.apply(zscore)\n",
    "veh_df_attr_z"
   ]
  },
  {
   "cell_type": "markdown",
   "metadata": {
    "colab_type": "text",
    "id": "weIwi8cxho-C"
   },
   "source": [
    "### K - Means Clustering"
   ]
  },
  {
   "cell_type": "markdown",
   "metadata": {
    "colab_type": "text",
    "id": "YdA5yJ1m61-L"
   },
   "source": [
    "### Assign a dummy array called Cluster_error"
   ]
  },
  {
   "cell_type": "code",
   "execution_count": 11,
   "metadata": {
    "colab": {},
    "colab_type": "code",
    "id": "PRcbAApuho-g"
   },
   "outputs": [],
   "source": [
    "from sklearn.cluster import KMeans\n",
    "cluster_errors = []"
   ]
  },
  {
   "cell_type": "markdown",
   "metadata": {
    "colab_type": "text",
    "id": "ywuVdFe2ho-t"
   },
   "source": [
    "### 5. Calculate errorrs for each K"
   ]
  },
  {
   "cell_type": "markdown",
   "metadata": {
    "colab_type": "text",
    "id": "PJznnrkc68nf"
   },
   "source": [
    "Iterating values of k from 1 to 10 fit K means model\n",
    "Using inertia"
   ]
  },
  {
   "cell_type": "code",
   "execution_count": 12,
   "metadata": {
    "colab": {},
    "colab_type": "code",
    "id": "uc49grvmho-2"
   },
   "outputs": [
    {
     "name": "stdout",
     "output_type": "stream",
     "text": [
      "[3384.0]\n",
      "[3384.0, 2216.753557567584]\n",
      "[3384.0, 2216.753557567584, 1608.2337651600806]\n",
      "[3384.0, 2216.753557567584, 1608.2337651600806, 1066.7823436776548]\n",
      "[3384.0, 2216.753557567584, 1608.2337651600806, 1066.7823436776548, 902.6130052521376]\n",
      "[3384.0, 2216.753557567584, 1608.2337651600806, 1066.7823436776548, 902.6130052521376, 760.5245748383466]\n",
      "[3384.0, 2216.753557567584, 1608.2337651600806, 1066.7823436776548, 902.6130052521376, 760.5245748383466, 679.4729389993697]\n",
      "[3384.0, 2216.753557567584, 1608.2337651600806, 1066.7823436776548, 902.6130052521376, 760.5245748383466, 679.4729389993697, 613.5208986105747]\n",
      "[3384.0, 2216.753557567584, 1608.2337651600806, 1066.7823436776548, 902.6130052521376, 760.5245748383466, 679.4729389993697, 613.5208986105747, 557.438074683914]\n",
      "[3384.0, 2216.753557567584, 1608.2337651600806, 1066.7823436776548, 902.6130052521376, 760.5245748383466, 679.4729389993697, 613.5208986105747, 557.438074683914, 503.5188861674391]\n"
     ]
    }
   ],
   "source": [
    "cluster_errors=[]\n",
    "for no_of_clusters in range(1,11):\n",
    "    cluster = KMeans( n_clusters = no_of_clusters, random_state = 2354 )\n",
    "    cluster.fit(veh_df_attr_z)\n",
    "    cluster_errors.append(cluster.inertia_)\n",
    "    print(cluster_errors)"
   ]
  },
  {
   "cell_type": "code",
   "execution_count": 13,
   "metadata": {
    "colab": {},
    "colab_type": "code",
    "id": "NRJo1wzqho_Q"
   },
   "outputs": [
    {
     "data": {
      "text/html": [
       "<div>\n",
       "<style scoped>\n",
       "    .dataframe tbody tr th:only-of-type {\n",
       "        vertical-align: middle;\n",
       "    }\n",
       "\n",
       "    .dataframe tbody tr th {\n",
       "        vertical-align: top;\n",
       "    }\n",
       "\n",
       "    .dataframe thead th {\n",
       "        text-align: right;\n",
       "    }\n",
       "</style>\n",
       "<table border=\"1\" class=\"dataframe\">\n",
       "  <thead>\n",
       "    <tr style=\"text-align: right;\">\n",
       "      <th></th>\n",
       "      <th>num_clusters</th>\n",
       "      <th>cluster_errors</th>\n",
       "    </tr>\n",
       "  </thead>\n",
       "  <tbody>\n",
       "    <tr>\n",
       "      <th>0</th>\n",
       "      <td>1</td>\n",
       "      <td>3384.000000</td>\n",
       "    </tr>\n",
       "    <tr>\n",
       "      <th>1</th>\n",
       "      <td>2</td>\n",
       "      <td>2216.753558</td>\n",
       "    </tr>\n",
       "    <tr>\n",
       "      <th>2</th>\n",
       "      <td>3</td>\n",
       "      <td>1608.233765</td>\n",
       "    </tr>\n",
       "    <tr>\n",
       "      <th>3</th>\n",
       "      <td>4</td>\n",
       "      <td>1066.782344</td>\n",
       "    </tr>\n",
       "    <tr>\n",
       "      <th>4</th>\n",
       "      <td>5</td>\n",
       "      <td>902.613005</td>\n",
       "    </tr>\n",
       "    <tr>\n",
       "      <th>5</th>\n",
       "      <td>6</td>\n",
       "      <td>760.524575</td>\n",
       "    </tr>\n",
       "    <tr>\n",
       "      <th>6</th>\n",
       "      <td>7</td>\n",
       "      <td>679.472939</td>\n",
       "    </tr>\n",
       "    <tr>\n",
       "      <th>7</th>\n",
       "      <td>8</td>\n",
       "      <td>613.520899</td>\n",
       "    </tr>\n",
       "    <tr>\n",
       "      <th>8</th>\n",
       "      <td>9</td>\n",
       "      <td>557.438075</td>\n",
       "    </tr>\n",
       "    <tr>\n",
       "      <th>9</th>\n",
       "      <td>10</td>\n",
       "      <td>503.518886</td>\n",
       "    </tr>\n",
       "  </tbody>\n",
       "</table>\n",
       "</div>"
      ],
      "text/plain": [
       "   num_clusters  cluster_errors\n",
       "0             1     3384.000000\n",
       "1             2     2216.753558\n",
       "2             3     1608.233765\n",
       "3             4     1066.782344\n",
       "4             5      902.613005\n",
       "5             6      760.524575\n",
       "6             7      679.472939\n",
       "7             8      613.520899\n",
       "8             9      557.438075\n",
       "9            10      503.518886"
      ]
     },
     "execution_count": 13,
     "metadata": {},
     "output_type": "execute_result"
    }
   ],
   "source": [
    "import numpy as np\n",
    "cluster_no = np.arange(1,11)\n",
    "clusters_df = pd.DataFrame( { \"num_clusters\":cluster_no, \"cluster_errors\": cluster_errors} )\n",
    "clusters_df"
   ]
  },
  {
   "cell_type": "markdown",
   "metadata": {
    "colab_type": "text",
    "id": "JIcSiPyoho_a"
   },
   "source": [
    "### 6. Plotting Elbow/ Scree Plot"
   ]
  },
  {
   "cell_type": "markdown",
   "metadata": {
    "colab_type": "text",
    "id": "Z8Yw5XEsho_r"
   },
   "source": [
    "Use Matplotlib to plot the scree plot - Note: Scree plot plots Errors vs the no of clusters"
   ]
  },
  {
   "cell_type": "code",
   "execution_count": 14,
   "metadata": {
    "colab": {},
    "colab_type": "code",
    "id": "sJ5oE4Csho_v"
   },
   "outputs": [
    {
     "data": {
      "text/plain": [
       "[<matplotlib.lines.Line2D at 0x217dc97ac18>]"
      ]
     },
     "execution_count": 14,
     "metadata": {},
     "output_type": "execute_result"
    },
    {
     "data": {
      "image/png": "[encoded data removed]",
      "text/plain": [
       "<Figure size 432x288 with 1 Axes>"
      ]
     },
     "metadata": {
      "needs_background": "light"
     },
     "output_type": "display_data"
    }
   ],
   "source": [
    "import matplotlib.pyplot as plt\n",
    "plt.plot(clusters_df.num_clusters,clusters_df.cluster_errors,marker='o')"
   ]
  },
  {
   "cell_type": "markdown",
   "metadata": {
    "colab_type": "text",
    "id": "sGx_Q_4Iho_7"
   },
   "source": [
    "### Find out the optimal value of K"
   ]
  },
  {
   "cell_type": "markdown",
   "metadata": {
    "colab": {},
    "colab_type": "code",
    "id": "i2JjEPrcho__"
   },
   "source": [
    "As per the graph the optimal value seems to between 2 to 4"
   ]
  },
  {
   "cell_type": "markdown",
   "metadata": {
    "colab_type": "text",
    "id": "5EoRD5PHhpAT"
   },
   "source": [
    "### Using optimal value of K - Cluster the data. \n",
    "Note: Since the data has more than 2 dimension we cannot visualize the data. As an alternative, we can observe the centroids and note how they are distributed across different dimensions"
   ]
  },
  {
   "cell_type": "code",
   "execution_count": 15,
   "metadata": {
    "colab": {},
    "colab_type": "code",
    "id": "68oQ0c2ThpAZ"
   },
   "outputs": [
    {
     "data": {
      "text/html": [
       "<div>\n",
       "<style scoped>\n",
       "    .dataframe tbody tr th:only-of-type {\n",
       "        vertical-align: middle;\n",
       "    }\n",
       "\n",
       "    .dataframe tbody tr th {\n",
       "        vertical-align: top;\n",
       "    }\n",
       "\n",
       "    .dataframe thead th {\n",
       "        text-align: right;\n",
       "    }\n",
       "</style>\n",
       "<table border=\"1\" class=\"dataframe\">\n",
       "  <thead>\n",
       "    <tr style=\"text-align: right;\">\n",
       "      <th></th>\n",
       "      <th>compactness</th>\n",
       "      <th>max.length_aspect_ratio</th>\n",
       "      <th>max.length_rectangularity</th>\n",
       "      <th>hollows_ratio</th>\n",
       "    </tr>\n",
       "  </thead>\n",
       "  <tbody>\n",
       "    <tr>\n",
       "      <th>0</th>\n",
       "      <td>1.082851</td>\n",
       "      <td>0.254438</td>\n",
       "      <td>1.151344</td>\n",
       "      <td>0.125412</td>\n",
       "    </tr>\n",
       "    <tr>\n",
       "      <th>1</th>\n",
       "      <td>-0.986354</td>\n",
       "      <td>-0.389476</td>\n",
       "      <td>-0.664224</td>\n",
       "      <td>-1.149790</td>\n",
       "    </tr>\n",
       "    <tr>\n",
       "      <th>2</th>\n",
       "      <td>-0.735574</td>\n",
       "      <td>8.846940</td>\n",
       "      <td>0.275809</td>\n",
       "      <td>-0.438151</td>\n",
       "    </tr>\n",
       "    <tr>\n",
       "      <th>3</th>\n",
       "      <td>-0.190038</td>\n",
       "      <td>-0.152333</td>\n",
       "      <td>-0.510399</td>\n",
       "      <td>0.746567</td>\n",
       "    </tr>\n",
       "  </tbody>\n",
       "</table>\n",
       "</div>"
      ],
      "text/plain": [
       "   compactness  max.length_aspect_ratio  max.length_rectangularity  \\\n",
       "0     1.082851                 0.254438                   1.151344   \n",
       "1    -0.986354                -0.389476                  -0.664224   \n",
       "2    -0.735574                 8.846940                   0.275809   \n",
       "3    -0.190038                -0.152333                  -0.510399   \n",
       "\n",
       "   hollows_ratio  \n",
       "0       0.125412  \n",
       "1      -1.149790  \n",
       "2      -0.438151  \n",
       "3       0.746567  "
      ]
     },
     "execution_count": 15,
     "metadata": {},
     "output_type": "execute_result"
    }
   ],
   "source": [
    "kmeans = KMeans( n_clusters = 4, random_state = 2354 )\n",
    "kmeans.fit(veh_df_attr_z)\n",
    "centroids = kmeans.cluster_centers_\n",
    "centroid_df = pd.DataFrame(centroids, columns = list(veh_df_attr_z) )\n",
    "centroid_df"
   ]
  },
  {
   "cell_type": "markdown",
   "metadata": {
    "colab_type": "text",
    "id": "fY5IjhFihpAm"
   },
   "source": [
    "You can use kmeans.cluster_centers_ function to pull the centroid information from the instance"
   ]
  },
  {
   "cell_type": "markdown",
   "metadata": {
    "colab_type": "text",
    "id": "A2T8SxBdhpBL"
   },
   "source": [
    "### 7. Store the centroids in a dataframe with column names from the original dataset given "
   ]
  },
  {
   "cell_type": "code",
   "execution_count": 16,
   "metadata": {
    "colab": {},
    "colab_type": "code",
    "id": "xpjTngRNhpBP"
   },
   "outputs": [
    {
     "data": {
      "text/html": [
       "<div>\n",
       "<style scoped>\n",
       "    .dataframe tbody tr th:only-of-type {\n",
       "        vertical-align: middle;\n",
       "    }\n",
       "\n",
       "    .dataframe tbody tr th {\n",
       "        vertical-align: top;\n",
       "    }\n",
       "\n",
       "    .dataframe thead th {\n",
       "        text-align: right;\n",
       "    }\n",
       "</style>\n",
       "<table border=\"1\" class=\"dataframe\">\n",
       "  <thead>\n",
       "    <tr style=\"text-align: right;\">\n",
       "      <th></th>\n",
       "      <th>compactness</th>\n",
       "      <th>max.length_aspect_ratio</th>\n",
       "      <th>max.length_rectangularity</th>\n",
       "      <th>hollows_ratio</th>\n",
       "    </tr>\n",
       "  </thead>\n",
       "  <tbody>\n",
       "    <tr>\n",
       "      <th>0</th>\n",
       "      <td>1.082851</td>\n",
       "      <td>0.254438</td>\n",
       "      <td>1.151344</td>\n",
       "      <td>0.125412</td>\n",
       "    </tr>\n",
       "    <tr>\n",
       "      <th>1</th>\n",
       "      <td>-0.986354</td>\n",
       "      <td>-0.389476</td>\n",
       "      <td>-0.664224</td>\n",
       "      <td>-1.149790</td>\n",
       "    </tr>\n",
       "    <tr>\n",
       "      <th>2</th>\n",
       "      <td>-0.735574</td>\n",
       "      <td>8.846940</td>\n",
       "      <td>0.275809</td>\n",
       "      <td>-0.438151</td>\n",
       "    </tr>\n",
       "    <tr>\n",
       "      <th>3</th>\n",
       "      <td>-0.190038</td>\n",
       "      <td>-0.152333</td>\n",
       "      <td>-0.510399</td>\n",
       "      <td>0.746567</td>\n",
       "    </tr>\n",
       "  </tbody>\n",
       "</table>\n",
       "</div>"
      ],
      "text/plain": [
       "   compactness  max.length_aspect_ratio  max.length_rectangularity  \\\n",
       "0     1.082851                 0.254438                   1.151344   \n",
       "1    -0.986354                -0.389476                  -0.664224   \n",
       "2    -0.735574                 8.846940                   0.275809   \n",
       "3    -0.190038                -0.152333                  -0.510399   \n",
       "\n",
       "   hollows_ratio  \n",
       "0       0.125412  \n",
       "1      -1.149790  \n",
       "2      -0.438151  \n",
       "3       0.746567  "
      ]
     },
     "execution_count": 16,
     "metadata": {},
     "output_type": "execute_result"
    }
   ],
   "source": [
    "centroids = kmeans.cluster_centers_\n",
    "centroid_df = pd.DataFrame(centroids, columns = list(veh_df_attr_z) )\n",
    "centroid_df"
   ]
  },
  {
   "cell_type": "markdown",
   "metadata": {
    "colab_type": "text",
    "id": "SvWlZ_FzhpBY"
   },
   "source": [
    "Hint: Use pd.Dataframe function "
   ]
  },
  {
   "cell_type": "markdown",
   "metadata": {
    "colab": {},
    "colab_type": "code",
    "id": "EZ6nJ3BdhpBZ"
   },
   "source": [
    "### Use kmeans.labels_ function to print out the labels of the classes"
   ]
  },
  {
   "cell_type": "code",
   "execution_count": 17,
   "metadata": {
    "colab": {},
    "colab_type": "code",
    "id": "Ahx91q_ghpBp"
   },
   "outputs": [],
   "source": [
    "labels = kmeans.labels_"
   ]
  },
  {
   "cell_type": "code",
   "execution_count": 18,
   "metadata": {
    "colab": {},
    "colab_type": "code",
    "id": "hm0AtttihpBv"
   },
   "outputs": [
    {
     "data": {
      "text/html": [
       "<div>\n",
       "<style scoped>\n",
       "    .dataframe tbody tr th:only-of-type {\n",
       "        vertical-align: middle;\n",
       "    }\n",
       "\n",
       "    .dataframe tbody tr th {\n",
       "        vertical-align: top;\n",
       "    }\n",
       "\n",
       "    .dataframe thead th {\n",
       "        text-align: right;\n",
       "    }\n",
       "</style>\n",
       "<table border=\"1\" class=\"dataframe\">\n",
       "  <thead>\n",
       "    <tr style=\"text-align: right;\">\n",
       "      <th></th>\n",
       "      <th>compactness</th>\n",
       "      <th>max.length_aspect_ratio</th>\n",
       "      <th>max.length_rectangularity</th>\n",
       "      <th>hollows_ratio</th>\n",
       "      <th>Group</th>\n",
       "    </tr>\n",
       "  </thead>\n",
       "  <tbody>\n",
       "    <tr>\n",
       "      <th>0</th>\n",
       "      <td>0.160580</td>\n",
       "      <td>0.311542</td>\n",
       "      <td>0.758332</td>\n",
       "      <td>0.183957</td>\n",
       "      <td>0</td>\n",
       "    </tr>\n",
       "    <tr>\n",
       "      <th>1</th>\n",
       "      <td>-0.325470</td>\n",
       "      <td>0.094079</td>\n",
       "      <td>-0.344578</td>\n",
       "      <td>0.452977</td>\n",
       "      <td>3</td>\n",
       "    </tr>\n",
       "    <tr>\n",
       "      <th>2</th>\n",
       "      <td>1.254193</td>\n",
       "      <td>0.311542</td>\n",
       "      <td>0.689401</td>\n",
       "      <td>0.049447</td>\n",
       "      <td>0</td>\n",
       "    </tr>\n",
       "    <tr>\n",
       "      <th>3</th>\n",
       "      <td>-0.082445</td>\n",
       "      <td>0.094079</td>\n",
       "      <td>-0.344578</td>\n",
       "      <td>1.529056</td>\n",
       "      <td>3</td>\n",
       "    </tr>\n",
       "    <tr>\n",
       "      <th>4</th>\n",
       "      <td>-1.054545</td>\n",
       "      <td>9.444962</td>\n",
       "      <td>-0.275646</td>\n",
       "      <td>-1.699181</td>\n",
       "      <td>2</td>\n",
       "    </tr>\n",
       "  </tbody>\n",
       "</table>\n",
       "</div>"
      ],
      "text/plain": [
       "   compactness  max.length_aspect_ratio  max.length_rectangularity  \\\n",
       "0     0.160580                 0.311542                   0.758332   \n",
       "1    -0.325470                 0.094079                  -0.344578   \n",
       "2     1.254193                 0.311542                   0.689401   \n",
       "3    -0.082445                 0.094079                  -0.344578   \n",
       "4    -1.054545                 9.444962                  -0.275646   \n",
       "\n",
       "   hollows_ratio  Group  \n",
       "0       0.183957      0  \n",
       "1       0.452977      3  \n",
       "2       0.049447      0  \n",
       "3       1.529056      3  \n",
       "4      -1.699181      2  "
      ]
     },
     "execution_count": 18,
     "metadata": {},
     "output_type": "execute_result"
    }
   ],
   "source": [
    "veh_df_attr_z[\"Group\"] = labels\n",
    "veh_df_attr_z.head()"
   ]
  },
  {
   "cell_type": "markdown",
   "metadata": {
    "colab_type": "text",
    "id": "SmQyHhmFhpB3"
   },
   "source": [
    "## Hierarchical Clustering "
   ]
  },
  {
   "cell_type": "markdown",
   "metadata": {
    "colab_type": "text",
    "id": "_zAMRDe_hpB5"
   },
   "source": [
    "### 8. Variable creation"
   ]
  },
  {
   "cell_type": "markdown",
   "metadata": {
    "colab_type": "text",
    "id": "VESIKt49hpB6"
   },
   "source": [
    "For Hierarchical clustering, we will create datasets using multivariate normal distribution to visually observe how the clusters are formed at the end"
   ]
  },
  {
   "cell_type": "code",
   "execution_count": 19,
   "metadata": {
    "colab": {},
    "colab_type": "code",
    "id": "qpUh49bKhpB8"
   },
   "outputs": [],
   "source": [
    "np.random.seed(101)  # for repeatability of this dataset\n",
    "a = np.random.multivariate_normal([10, 0], [[3, 1], [1, 4]], size=[100,])\n",
    "b = np.random.multivariate_normal([0, 20], [[3, 1], [1, 4]], size=[50,])\n",
    "c = np.random.multivariate_normal([10, 20], [[3, 1], [1, 4]], size=[100,])"
   ]
  },
  {
   "cell_type": "markdown",
   "metadata": {
    "colab_type": "raw",
    "id": "cu8DfP8shpCA"
   },
   "source": [
    "a = np.random.multivariate_normal([10, 0], [[3, 1], [1, 4]], size=[100,])\n",
    "b = np.random.multivariate_normal([0, 20], [[3, 1], [1, 4]], size=[50,])\n",
    "c = np.random.multivariate_normal([10, 20], [[3, 1], [1, 4]], size=[100,])"
   ]
  },
  {
   "cell_type": "markdown",
   "metadata": {
    "colab_type": "text",
    "id": "PJ9Pn81c3jOu"
   },
   "source": [
    "https://docs.scipy.org/doc/numpy-1.15.1/reference/generated/numpy.random.multivariate_normal.html"
   ]
  },
  {
   "cell_type": "markdown",
   "metadata": {
    "colab_type": "text",
    "id": "Eui7Qgc8hpCH"
   },
   "source": [
    "### 9. Combine all three arrays a,b,c into a dataframe"
   ]
  },
  {
   "cell_type": "code",
   "execution_count": 20,
   "metadata": {
    "colab": {},
    "colab_type": "code",
    "id": "Nle34XhhhpCI"
   },
   "outputs": [],
   "source": [
    "ABC=np.concatenate((a,b,c),axis=0)"
   ]
  },
  {
   "cell_type": "code",
   "execution_count": 21,
   "metadata": {
    "colab": {},
    "colab_type": "code",
    "id": "lov1nQqAhpCa"
   },
   "outputs": [
    {
     "data": {
      "text/html": [
       "<div>\n",
       "<style scoped>\n",
       "    .dataframe tbody tr th:only-of-type {\n",
       "        vertical-align: middle;\n",
       "    }\n",
       "\n",
       "    .dataframe tbody tr th {\n",
       "        vertical-align: top;\n",
       "    }\n",
       "\n",
       "    .dataframe thead th {\n",
       "        text-align: right;\n",
       "    }\n",
       "</style>\n",
       "<table border=\"1\" class=\"dataframe\">\n",
       "  <thead>\n",
       "    <tr style=\"text-align: right;\">\n",
       "      <th></th>\n",
       "      <th>A</th>\n",
       "      <th>B</th>\n",
       "    </tr>\n",
       "  </thead>\n",
       "  <tbody>\n",
       "    <tr>\n",
       "      <th>0</th>\n",
       "      <td>13.882785</td>\n",
       "      <td>4.438501</td>\n",
       "    </tr>\n",
       "    <tr>\n",
       "      <th>1</th>\n",
       "      <td>11.687256</td>\n",
       "      <td>1.250981</td>\n",
       "    </tr>\n",
       "    <tr>\n",
       "      <th>2</th>\n",
       "      <td>10.316397</td>\n",
       "      <td>1.449346</td>\n",
       "    </tr>\n",
       "    <tr>\n",
       "      <th>3</th>\n",
       "      <td>9.837412</td>\n",
       "      <td>-2.041974</td>\n",
       "    </tr>\n",
       "    <tr>\n",
       "      <th>4</th>\n",
       "      <td>8.691601</td>\n",
       "      <td>-4.289773</td>\n",
       "    </tr>\n",
       "  </tbody>\n",
       "</table>\n",
       "</div>"
      ],
      "text/plain": [
       "           A         B\n",
       "0  13.882785  4.438501\n",
       "1  11.687256  1.250981\n",
       "2  10.316397  1.449346\n",
       "3   9.837412 -2.041974\n",
       "4   8.691601 -4.289773"
      ]
     },
     "execution_count": 21,
     "metadata": {},
     "output_type": "execute_result"
    }
   ],
   "source": [
    "ABC=pd.DataFrame(ABC,columns=list('AB'))\n",
    "\n",
    "ABC.head()"
   ]
  },
  {
   "cell_type": "markdown",
   "metadata": {
    "colab_type": "text",
    "id": "v6JlILlihpCe"
   },
   "source": [
    "### 10. Use scatter matrix to print all the 3 distributions"
   ]
  },
  {
   "cell_type": "code",
   "execution_count": 22,
   "metadata": {
    "colab": {},
    "colab_type": "code",
    "id": "i6Nf9LznhpCg"
   },
   "outputs": [
    {
     "data": {
      "text/plain": [
       "<matplotlib.collections.PathCollection at 0x217dca06cc0>"
      ]
     },
     "execution_count": 22,
     "metadata": {},
     "output_type": "execute_result"
    },
    {
     "data": {
      "image/png": "[encoded data removed]",
      "text/plain": [
       "<Figure size 432x288 with 1 Axes>"
      ]
     },
     "metadata": {
      "needs_background": "light"
     },
     "output_type": "display_data"
    }
   ],
   "source": [
    "plt.scatter(ABC.A,ABC.B)"
   ]
  },
  {
   "cell_type": "code",
   "execution_count": null,
   "metadata": {
    "colab": {},
    "colab_type": "code",
    "id": "hILsbwkOhpCk"
   },
   "outputs": [],
   "source": []
  },
  {
   "cell_type": "markdown",
   "metadata": {
    "colab_type": "text",
    "id": "Ufj36K5NhpCo"
   },
   "source": [
    "### 11. Find out the linkage matrix"
   ]
  },
  {
   "cell_type": "code",
   "execution_count": 23,
   "metadata": {
    "colab": {},
    "colab_type": "code",
    "id": "rXJAOAilhpCp"
   },
   "outputs": [
    {
     "ename": "SyntaxError",
     "evalue": "invalid syntax (<ipython-input-23-09e314b47c45>, line 1)",
     "output_type": "error",
     "traceback": [
      "\u001b[1;36m  File \u001b[1;32m\"<ipython-input-23-09e314b47c45>\"\u001b[1;36m, line \u001b[1;32m1\u001b[0m\n\u001b[1;33m    https://docs.scipy.org/doc/scipy-0.14.0/reference/generated/scipy.cluster.hierarchy.linkage.html\u001b[0m\n\u001b[1;37m           ^\u001b[0m\n\u001b[1;31mSyntaxError\u001b[0m\u001b[1;31m:\u001b[0m invalid syntax\n"
     ]
    }
   ],
   "source": [
    "https://docs.scipy.org/doc/scipy-0.14.0/reference/generated/scipy.cluster.hierarchy.linkage.html"
   ]
  },
  {
   "cell_type": "markdown",
   "metadata": {
    "colab_type": "text",
    "id": "EOxwi5gshpCt"
   },
   "source": [
    "Use ward as linkage metric and distance as Eucledian"
   ]
  },
  {
   "cell_type": "code",
   "execution_count": 24,
   "metadata": {
    "colab": {},
    "colab_type": "code",
    "id": "xJsL16lqhpCu"
   },
   "outputs": [],
   "source": [
    "from scipy.stats import zscore\n",
    "ABC_z = ABC.apply(zscore)\n"
   ]
  },
  {
   "cell_type": "code",
   "execution_count": 25,
   "metadata": {
    "colab": {},
    "colab_type": "code",
    "id": "A6YN_sjhhpC4"
   },
   "outputs": [],
   "source": [
    "from scipy.cluster.hierarchy import cophenet, dendrogram, linkage\n",
    "from scipy.spatial.distance import pdist "
   ]
  },
  {
   "cell_type": "markdown",
   "metadata": {
    "colab_type": "text",
    "id": "UnVS8VYMhpC9"
   },
   "source": [
    "### 12. Plot the dendrogram for the consolidated dataframe"
   ]
  },
  {
   "cell_type": "code",
   "execution_count": 26,
   "metadata": {
    "colab": {},
    "colab_type": "code",
    "id": "oeLtemVqhpC_"
   },
   "outputs": [
    {
     "data": {
      "text/plain": [
       "0.864721309636431"
      ]
     },
     "execution_count": 26,
     "metadata": {},
     "output_type": "execute_result"
    }
   ],
   "source": [
    "A = linkage(ABC_z, 'ward')\n",
    "c, coph_dists = cophenet(A, pdist(ABC_z))\n",
    "\n",
    "c"
   ]
  },
  {
   "cell_type": "code",
   "execution_count": 27,
   "metadata": {
    "colab": {},
    "colab_type": "code",
    "id": "TMfqcHfuhpDH"
   },
   "outputs": [
    {
     "data": {
      "text/html": [
       "<div>\n",
       "<style scoped>\n",
       "    .dataframe tbody tr th:only-of-type {\n",
       "        vertical-align: middle;\n",
       "    }\n",
       "\n",
       "    .dataframe tbody tr th {\n",
       "        vertical-align: top;\n",
       "    }\n",
       "\n",
       "    .dataframe thead th {\n",
       "        text-align: right;\n",
       "    }\n",
       "</style>\n",
       "<table border=\"1\" class=\"dataframe\">\n",
       "  <thead>\n",
       "    <tr style=\"text-align: right;\">\n",
       "      <th></th>\n",
       "      <th>A</th>\n",
       "      <th>B</th>\n",
       "    </tr>\n",
       "    <tr>\n",
       "      <th>labels</th>\n",
       "      <th></th>\n",
       "      <th></th>\n",
       "    </tr>\n",
       "  </thead>\n",
       "  <tbody>\n",
       "    <tr>\n",
       "      <th>0</th>\n",
       "      <td>100</td>\n",
       "      <td>100</td>\n",
       "    </tr>\n",
       "    <tr>\n",
       "      <th>1</th>\n",
       "      <td>67</td>\n",
       "      <td>67</td>\n",
       "    </tr>\n",
       "    <tr>\n",
       "      <th>2</th>\n",
       "      <td>49</td>\n",
       "      <td>49</td>\n",
       "    </tr>\n",
       "    <tr>\n",
       "      <th>3</th>\n",
       "      <td>34</td>\n",
       "      <td>34</td>\n",
       "    </tr>\n",
       "  </tbody>\n",
       "</table>\n",
       "</div>"
      ],
      "text/plain": [
       "          A    B\n",
       "labels          \n",
       "0       100  100\n",
       "1        67   67\n",
       "2        49   49\n",
       "3        34   34"
      ]
     },
     "execution_count": 27,
     "metadata": {},
     "output_type": "execute_result"
    }
   ],
   "source": [
    "from sklearn.cluster import AgglomerativeClustering \n",
    "model = AgglomerativeClustering(n_clusters=4, affinity='euclidean',  linkage='ward')\n",
    "model.fit(ABC_z)\n",
    "\n",
    "ABC_z['labels'] = model.labels_\n",
    "ABC_z.groupby([\"labels\"]).count()"
   ]
  },
  {
   "cell_type": "code",
   "execution_count": null,
   "metadata": {
    "colab": {},
    "colab_type": "code",
    "id": "PJhBRBIwhpDM"
   },
   "outputs": [],
   "source": [
    "plt.figure(figsize=(15, 15))\n",
    "plt.title('Agglomerative Hierarchical Clustering Dendogram')\n",
    "plt.xlabel('sample index')\n",
    "plt.ylabel('Distance')\n",
    "dendrogram(A, leaf_rotation=90.,color_threshold=800,  leaf_font_size=10. )\n",
    "plt.tight_layout()"
   ]
  },
  {
   "cell_type": "markdown",
   "metadata": {
    "colab_type": "text",
    "id": "QXE-T9cHhpDS"
   },
   "source": [
    "### 13. Recreate the dendrogram for last 12 merged clusters "
   ]
  },
  {
   "cell_type": "markdown",
   "metadata": {
    "colab_type": "text",
    "id": "RmW_ublu3jPS"
   },
   "source": [
    "https://docs.scipy.org/doc/scipy-0.14.0/reference/generated/scipy.cluster.hierarchy.dendrogram.html"
   ]
  },
  {
   "cell_type": "markdown",
   "metadata": {
    "colab_type": "text",
    "id": "4PKR3o5QhpDX"
   },
   "source": [
    "Hint: Use truncate_mode='lastp' attribute in dendrogram function to arrive at dendrogram "
   ]
  },
  {
   "cell_type": "code",
   "execution_count": 208,
   "metadata": {
    "colab": {},
    "colab_type": "code",
    "id": "GDri9xtAhpDY"
   },
   "outputs": [
    {
     "data": {
      "image/png": "[encoded data removed]",
      "text/plain": [
       "<Figure size 1080x1080 with 1 Axes>"
      ]
     },
     "metadata": {
      "needs_background": "light"
     },
     "output_type": "display_data"
    }
   ],
   "source": [
    "plt.figure(figsize=(15, 15))\n",
    "plt.title('Agglomerative Hierarchical Clustering Dendogram')\n",
    "plt.xlabel('sample index')\n",
    "plt.ylabel('Distance')\n",
    "dendrogram(A, leaf_rotation=90.,color_threshold=800,  leaf_font_size=10,truncate_mode='lastp' )\n",
    "plt.tight_layout()"
   ]
  },
  {
   "cell_type": "code",
   "execution_count": 0,
   "metadata": {
    "colab": {},
    "colab_type": "code",
    "id": "k4GVCz44hpDg"
   },
   "outputs": [],
   "source": []
  }
 ],
 "metadata": {
  "colab": {
   "collapsed_sections": [
    "n2kFVi2GhpBn",
    "Ufj36K5NhpCo"
   ],
   "name": "R4_Internal_Lab_Clustering.ipynb",
   "provenance": []
  },
  "kernelspec": {
   "display_name": "Python 3",
   "language": "python",
   "name": "python3"
  },
  "language_info": {
   "codemirror_mode": {
    "name": "ipython",
    "version": 3
   },
   "file_extension": ".py",
   "mimetype": "text/x-python",
   "name": "python",
   "nbconvert_exporter": "python",
   "pygments_lexer": "ipython3",
   "version": "3.7.3"
  }
 },
 "nbformat": 4,
 "nbformat_minor": 1
}
