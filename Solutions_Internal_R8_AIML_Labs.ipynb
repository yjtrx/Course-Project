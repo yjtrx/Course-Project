{
  "nbformat": 4,
  "nbformat_minor": 0,
  "metadata": {
    "accelerator": "GPU",
    "colab": {
      "name": "Solutions - Internal - R8 - AIML Labs.ipynb",
      "provenance": [],
      "collapsed_sections": []
    },
    "kernelspec": {
      "name": "python3",
      "display_name": "Python 3"
    },
    "language_info": {
      "codemirror_mode": {
        "name": "ipython",
        "version": 3
      },
      "file_extension": ".py",
      "mimetype": "text/x-python",
      "name": "python",
      "nbconvert_exporter": "python",
      "pygments_lexer": "ipython3",
      "version": "3.7.3"
    }
  },
  "cells": [
    {
      "cell_type": "markdown",
      "metadata": {
        "colab_type": "text",
        "id": "NFfDTfhlaEI_"
      },
      "source": [
        "# Transfer Learning MNIST"
      ]
    },
    {
      "cell_type": "markdown",
      "metadata": {
        "colab_type": "text",
        "id": "rNwbqCFRaEJC"
      },
      "source": [
        "* Train a simple convnet on the MNIST dataset the first 5 digits [0-4].\n",
        "* Freeze convolutional layers and fine-tune dense layers for the classification of digits [5-9]."
      ]
    },
    {
      "cell_type": "markdown",
      "metadata": {
        "colab_type": "text",
        "id": "5Dnzaw1i5sXF"
      },
      "source": [
        "## MNIST Dataset\n",
        "The MNIST database contains 60,000 training images and 10,000 testing images taken from American Census Bureau employees and American high school students. The MNIST dataset is one of the most common datasets used for image classification and accessible from many different sources. In fact, even Tensorflow and Keras allow us to import and download the MNIST dataset directly from their API."
      ]
    },
    {
      "cell_type": "markdown",
      "metadata": {
        "colab_type": "text",
        "id": "bpUULy1Z5sXF"
      },
      "source": [
        "Let's load MNIST dataset"
      ]
    },
    {
      "cell_type": "code",
      "metadata": {
        "id": "dO-q69gLr7vz",
        "colab_type": "code",
        "colab": {}
      },
      "source": [
        "def pro_gress():\n",
        "    import time\n",
        "    from progressbar import AnimatedMarker,ProgressBar,Percentage,ETA,FileTransferSpeed,Bar\n",
        "    widgets = ['Processing: ', Percentage(), ' ',\n",
        "                  Bar(marker='=',left='|',right='|'),\n",
        "                  ' ', ETA()]\n",
        "    pbar = ProgressBar(widgets=widgets, maxval=500)\n",
        "    for i in range(100,500+1,50):\n",
        "        time.sleep(0.2)\n",
        "        pbar.update(i)\n",
        "    pbar.finish()\n",
        "    print('Done!!')"
      ],
      "execution_count": 0,
      "outputs": []
    },
    {
      "cell_type": "code",
      "metadata": {
        "colab_type": "code",
        "id": "-uw1fGSV4nbR",
        "outputId": "483e71af-af2a-4b4e-8d97-db20ddd02c59",
        "colab": {
          "base_uri": "https://localhost:8080/",
          "height": 52
        }
      },
      "source": [
        "%tensorflow_version 2.x\n",
        "show = pro_gress()\n",
        "import tensorflow"
      ],
      "execution_count": 63,
      "outputs": [
        {
          "output_type": "stream",
          "text": [
            "Processing: 100% |=============================================| Time:  0:00:01\n"
          ],
          "name": "stderr"
        },
        {
          "output_type": "stream",
          "text": [
            "Done!!\n"
          ],
          "name": "stdout"
        }
      ]
    },
    {
      "cell_type": "code",
      "metadata": {
        "colab_type": "code",
        "id": "KiG7IPhm5sXG",
        "colab": {}
      },
      "source": [
        "# Initialize the random number generator\n",
        "import random\n",
        "random.seed(0)\n",
        "\n",
        "import warnings\n",
        "warnings.filterwarnings(\"ignore\")"
      ],
      "execution_count": 0,
      "outputs": []
    },
    {
      "cell_type": "code",
      "metadata": {
        "colab_type": "code",
        "id": "ZqUiJM_Z5sXL",
        "colab": {
          "base_uri": "https://localhost:8080/",
          "height": 69
        },
        "outputId": "e42ac278-0da2-4f48-8854-d6407f3e0a94"
      },
      "source": [
        "from tensorflow.keras.datasets import mnist\n",
        "print(\"Importing Dataset======>>\")\n",
        "show = pro_gress()\n",
        "# the data, shuffled and split between train and test sets\n",
        "(X_train, y_train), (X_test, y_test) = mnist.load_data()"
      ],
      "execution_count": 65,
      "outputs": [
        {
          "output_type": "stream",
          "text": [
            "Importing Dataset======>>\n"
          ],
          "name": "stdout"
        },
        {
          "output_type": "stream",
          "text": [
            "Processing: 100% |=============================================| Time:  0:00:01\n"
          ],
          "name": "stderr"
        },
        {
          "output_type": "stream",
          "text": [
            "Done!!\n"
          ],
          "name": "stdout"
        }
      ]
    },
    {
      "cell_type": "code",
      "metadata": {
        "id": "njlK_IDzjoQ8",
        "colab_type": "code",
        "outputId": "311aabdf-da29-4b18-be59-609fe202c50a",
        "colab": {
          "base_uri": "https://localhost:8080/",
          "height": 34
        }
      },
      "source": [
        "print(\"Shape of X_train is ==>\",X_train.shape)"
      ],
      "execution_count": 66,
      "outputs": [
        {
          "output_type": "stream",
          "text": [
            "Shape of X_train is ==> (60000, 28, 28)\n"
          ],
          "name": "stdout"
        }
      ]
    },
    {
      "cell_type": "code",
      "metadata": {
        "id": "gHg5Fkm6jrs0",
        "colab_type": "code",
        "outputId": "c911f456-1996-43f3-bc64-a49cf8c215ff",
        "colab": {
          "base_uri": "https://localhost:8080/",
          "height": 34
        }
      },
      "source": [
        "print(\"Shape of X_test is ==>\",X_test.shape)"
      ],
      "execution_count": 67,
      "outputs": [
        {
          "output_type": "stream",
          "text": [
            "Shape of X_test is ==> (10000, 28, 28)\n"
          ],
          "name": "stdout"
        }
      ]
    },
    {
      "cell_type": "markdown",
      "metadata": {
        "colab_type": "text",
        "id": "RVw4wsuW5sXO"
      },
      "source": [
        "X_train and X_test contain greyscale RGB codes (from 0 to 255) while y_train and y_test contains labels from 0 to 9 which represents which number they actually are."
      ]
    },
    {
      "cell_type": "markdown",
      "metadata": {
        "colab_type": "text",
        "id": "xgQ86Vhw5sXP"
      },
      "source": [
        "Let's visualize some numbers using matplotlib"
      ]
    },
    {
      "cell_type": "code",
      "metadata": {
        "colab_type": "code",
        "id": "VZwg00gO5sXQ",
        "outputId": "1b73c124-1e5b-45f8-a283-41d7c388385d",
        "colab": {
          "base_uri": "https://localhost:8080/",
          "height": 317
        }
      },
      "source": [
        "import matplotlib.pyplot as plt\n",
        "%matplotlib inline\n",
        "print(\"Plotting the image..!!\")\n",
        "print(\"Label: {}\".format(y_train[1000]))\n",
        "plt.imshow(X_train[1000],cmap='gray')"
      ],
      "execution_count": 68,
      "outputs": [
        {
          "output_type": "stream",
          "text": [
            "Plotting the image..!!\n",
            "Label: 0\n"
          ],
          "name": "stdout"
        },
        {
          "output_type": "execute_result",
          "data": {
            "text/plain": [
              "<matplotlib.image.AxesImage at 0x7fb12336aef0>"
            ]
          },
          "metadata": {
            "tags": []
          },
          "execution_count": 68
        },
        {
          "output_type": "display_data",
          "data": {
            "image/png": "[encoded data removed]",
            "text/plain": [
              "<Figure size 432x288 with 1 Axes>"
            ]
          },
          "metadata": {
            "tags": []
          }
        }
      ]
    },
    {
      "cell_type": "markdown",
      "metadata": {
        "colab_type": "text",
        "id": "p64mhwp95sXS"
      },
      "source": [
        "## Question 1"
      ]
    },
    {
      "cell_type": "markdown",
      "metadata": {
        "colab_type": "text",
        "id": "XxNAiWYd5sXT"
      },
      "source": [
        "### Create two datasets\n",
        "- First having digits from 0 to 4\n",
        "- Second having digits from 5 to 9\n",
        "\n",
        "Hint: use labels to separate data"
      ]
    },
    {
      "cell_type": "code",
      "metadata": {
        "id": "I_yBWc6Q2Dzw",
        "colab_type": "code",
        "outputId": "f6da880e-8e48-4413-ce14-cb255e1e2069",
        "colab": {
          "base_uri": "https://localhost:8080/",
          "height": 34
        }
      },
      "source": [
        "print(\"Length of X_train is ==>\",len(X_train))"
      ],
      "execution_count": 69,
      "outputs": [
        {
          "output_type": "stream",
          "text": [
            "Length of X_train is ==> 60000\n"
          ],
          "name": "stdout"
        }
      ]
    },
    {
      "cell_type": "code",
      "metadata": {
        "id": "qstZJbSQ97s-",
        "colab_type": "code",
        "outputId": "c14b7094-eed7-40e8-f97e-25adf158bd81",
        "colab": {
          "base_uri": "https://localhost:8080/",
          "height": 86
        }
      },
      "source": [
        "import numpy as np\n",
        "print(\"Checking the unique values in y_train ==>\")\n",
        "show = pro_gress()\n",
        "np.unique(y_train)"
      ],
      "execution_count": 70,
      "outputs": [
        {
          "output_type": "stream",
          "text": [
            "Checking the unique values in y_train ==>\n"
          ],
          "name": "stdout"
        },
        {
          "output_type": "stream",
          "text": [
            "Processing: 100% |=============================================| Time:  0:00:01\n"
          ],
          "name": "stderr"
        },
        {
          "output_type": "stream",
          "text": [
            "Done!!\n"
          ],
          "name": "stdout"
        },
        {
          "output_type": "execute_result",
          "data": {
            "text/plain": [
              "array([0, 1, 2, 3, 4, 5, 6, 7, 8, 9], dtype=uint8)"
            ]
          },
          "metadata": {
            "tags": []
          },
          "execution_count": 70
        }
      ]
    },
    {
      "cell_type": "markdown",
      "metadata": {
        "id": "s5OzVtmo9JMB",
        "colab_type": "text"
      },
      "source": [
        "Creating dataset  having digits from range 0-4"
      ]
    },
    {
      "cell_type": "code",
      "metadata": {
        "colab_type": "code",
        "id": "1807m1CL5sXT",
        "colab": {
          "base_uri": "https://localhost:8080/",
          "height": 52
        },
        "outputId": "4b42bb3c-c497-4240-f692-60aa2a8e271b"
      },
      "source": [
        "show = pro_gress()\n",
        "X_train_u5 = X_train[y_train<5]\n",
        "X_test_u5 =X_test[y_test<5]\n",
        "y_train_u5 = y_train[y_train<5]\n",
        "y_test_u5 = y_test[y_test<5]"
      ],
      "execution_count": 71,
      "outputs": [
        {
          "output_type": "stream",
          "text": [
            "Processing: 100% |=============================================| Time:  0:00:01\n"
          ],
          "name": "stderr"
        },
        {
          "output_type": "stream",
          "text": [
            "Done!!\n"
          ],
          "name": "stdout"
        }
      ]
    },
    {
      "cell_type": "code",
      "metadata": {
        "id": "IH0lejBr2Dz1",
        "colab_type": "code",
        "outputId": "134bbd16-07ef-49c0-e326-e4ea4aa8bae8",
        "colab": {
          "base_uri": "https://localhost:8080/",
          "height": 890
        }
      },
      "source": [
        "print(\"Plotting figures for assuring the dataset subsetting..\")\n",
        "plt.figure(figsize=(12,12))\n",
        "for i in range(0,100):\n",
        "  plt.subplot(10,10,i+1)\n",
        "  plt.tight_layout()\n",
        "  plt.imshow(X_train_u5[i])\n",
        "  plt.xlabel(y_train_u5[i])\n",
        "  i += 1"
      ],
      "execution_count": 72,
      "outputs": [
        {
          "output_type": "stream",
          "text": [
            "Plotting figures for assuring the dataset subsetting..\n"
          ],
          "name": "stdout"
        },
        {
          "output_type": "display_data",
          "data": {
            "image/png": "[encoded data removed]",
            "text/plain": [
              "<Figure size 864x864 with 100 Axes>"
            ]
          },
          "metadata": {
            "tags": []
          }
        }
      ]
    },
    {
      "cell_type": "markdown",
      "metadata": {
        "id": "SzejGkGk9YYX",
        "colab_type": "text"
      },
      "source": [
        "Creating dataset having digits range from 5-9"
      ]
    },
    {
      "cell_type": "code",
      "metadata": {
        "id": "skjjHzJu9jCI",
        "colab_type": "code",
        "colab": {}
      },
      "source": [
        "X_train_a5 = X_train[y_train>=5]\n",
        "X_test_a5 = X_test[y_test>=5]\n",
        "y_train_a5 = y_train[y_train>=5]\n",
        "y_test_a5 = y_test[y_test>=5]"
      ],
      "execution_count": 0,
      "outputs": []
    },
    {
      "cell_type": "code",
      "metadata": {
        "id": "g9dP1z-iUCU8",
        "colab_type": "code",
        "outputId": "8a13a682-3791-467f-b896-5eb47de523e8",
        "colab": {
          "base_uri": "https://localhost:8080/",
          "height": 890
        }
      },
      "source": [
        "print(\"Checking for the other subset..\")\n",
        "plt.figure(figsize=(12,12))\n",
        "for i in range(0,100):\n",
        "  plt.subplot(10,10,i+1)\n",
        "  plt.tight_layout()\n",
        "  plt.imshow(X_train_a5[i])\n",
        "  plt.xlabel(y_train_a5[i])\n",
        "  i += 1"
      ],
      "execution_count": 74,
      "outputs": [
        {
          "output_type": "stream",
          "text": [
            "Checking for the other subset..\n"
          ],
          "name": "stdout"
        },
        {
          "output_type": "display_data",
          "data": {
            "image/png": "[encoded data removed]",
            "text/plain": [
              "<Figure size 864x864 with 100 Axes>"
            ]
          },
          "metadata": {
            "tags": []
          }
        }
      ]
    },
    {
      "cell_type": "markdown",
      "metadata": {
        "colab_type": "text",
        "id": "M9jKcF1z5sXV"
      },
      "source": [
        "## Question 2"
      ]
    },
    {
      "cell_type": "markdown",
      "metadata": {
        "colab_type": "text",
        "id": "NMo7lvwQ5sXW"
      },
      "source": [
        "### Print shape of the data\n",
        "- print shape of all variables of both the datasets you created"
      ]
    },
    {
      "cell_type": "code",
      "metadata": {
        "colab_type": "code",
        "id": "kH7ZjEoH5sXW",
        "outputId": "f4743f91-4686-4df8-c44e-dec2065626c3",
        "colab": {
          "base_uri": "https://localhost:8080/",
          "height": 155
        }
      },
      "source": [
        "print(\"The shape of X_train having digits below 5 is:==>\",X_train_u5.shape)\n",
        "print(\"The shape of X_test having digits below 5 is:==>\",X_test_u5.shape)\n",
        "print(\"The shape of y_train having digits below 5 is:==>\",y_train_u5.shape)\n",
        "print(\"The shape of y_test having digits below 5 is:==>\",y_test_u5.shape)\n",
        "print(\"The shape of X_train having digits above 5 is:==>\",X_train_a5.shape)\n",
        "print(\"The shape of X_test having digits above 5 is:==>\",X_test_a5.shape)\n",
        "print(\"The shape of y_train having digits above 5 is:==>\",y_train_a5.shape)\n",
        "print(\"The shape of y_test having digits above 5 is:==>\",y_test_a5.shape)"
      ],
      "execution_count": 75,
      "outputs": [
        {
          "output_type": "stream",
          "text": [
            "The shape of X_train having digits below 5 is:==> (30596, 28, 28)\n",
            "The shape of X_test having digits below 5 is:==> (5139, 28, 28)\n",
            "The shape of y_train having digits below 5 is:==> (30596,)\n",
            "The shape of y_test having digits below 5 is:==> (5139,)\n",
            "The shape of X_train having digits above 5 is:==> (29404, 28, 28)\n",
            "The shape of X_test having digits above 5 is:==> (4861, 28, 28)\n",
            "The shape of y_train having digits above 5 is:==> (29404,)\n",
            "The shape of y_test having digits above 5 is:==> (4861,)\n"
          ],
          "name": "stdout"
        }
      ]
    },
    {
      "cell_type": "markdown",
      "metadata": {
        "colab_type": "text",
        "id": "IUU4PkKU5sXY"
      },
      "source": [
        "## Question 3"
      ]
    },
    {
      "cell_type": "markdown",
      "metadata": {
        "colab_type": "text",
        "id": "4I8ajqdt5sXY"
      },
      "source": [
        "### Reshape data\n",
        "- reshape first dataset\n",
        "- To be able to use the dataset in Keras, we need 4-dims numpy arrays. \n",
        "- reshape features to pass it to a Conv2D layer\n",
        "- channel = 1\n",
        "- reshape features of first dataset only\n",
        "- do not reshape labels"
      ]
    },
    {
      "cell_type": "code",
      "metadata": {
        "colab_type": "code",
        "id": "38wgBEcz5sXa",
        "colab": {
          "base_uri": "https://localhost:8080/",
          "height": 69
        },
        "outputId": "a7ba5861-a105-41a3-a5cc-5c9306b548a4"
      },
      "source": [
        "print(\"Reshaping the data..\")\n",
        "show = pro_gress()\n",
        "x_trial=X_train_u5.reshape(30596,28,28,1)"
      ],
      "execution_count": 76,
      "outputs": [
        {
          "output_type": "stream",
          "text": [
            "Reshaping the data..\n"
          ],
          "name": "stdout"
        },
        {
          "output_type": "stream",
          "text": [
            "Processing: 100% |=============================================| Time:  0:00:01\n"
          ],
          "name": "stderr"
        },
        {
          "output_type": "stream",
          "text": [
            "Done!!\n"
          ],
          "name": "stdout"
        }
      ]
    },
    {
      "cell_type": "code",
      "metadata": {
        "id": "RBybxgfnBa5t",
        "colab_type": "code",
        "outputId": "ce60857a-4800-4970-efbe-9a4e7f264dd5",
        "colab": {
          "base_uri": "https://localhost:8080/",
          "height": 34
        }
      },
      "source": [
        "print(\"After reshaping the train data of first dataset==>\",x_trial.shape)"
      ],
      "execution_count": 77,
      "outputs": [
        {
          "output_type": "stream",
          "text": [
            "After reshaping the train data of first dataset==> (30596, 28, 28, 1)\n"
          ],
          "name": "stdout"
        }
      ]
    },
    {
      "cell_type": "code",
      "metadata": {
        "id": "XeizRYemBahN",
        "colab_type": "code",
        "colab": {}
      },
      "source": [
        "x_trial_te = X_test_u5.reshape(5139,28,28,1)"
      ],
      "execution_count": 0,
      "outputs": []
    },
    {
      "cell_type": "code",
      "metadata": {
        "id": "GcwEk3s134eP",
        "colab_type": "code",
        "colab": {
          "base_uri": "https://localhost:8080/",
          "height": 34
        },
        "outputId": "d95b9380-c490-456a-d299-a2329dd1feef"
      },
      "source": [
        "print(\"After reshaping the test data of first dataset==>\",x_trial_te.shape)"
      ],
      "execution_count": 79,
      "outputs": [
        {
          "output_type": "stream",
          "text": [
            "After reshaping the test data of first dataset==> (5139, 28, 28, 1)\n"
          ],
          "name": "stdout"
        }
      ]
    },
    {
      "cell_type": "markdown",
      "metadata": {
        "colab_type": "text",
        "id": "_5H-BtNm5sXg"
      },
      "source": [
        "## Question 4"
      ]
    },
    {
      "cell_type": "markdown",
      "metadata": {
        "colab_type": "text",
        "id": "2ahCMtCl5sXh"
      },
      "source": [
        "### Normalize data\n",
        "- normalize first dataset\n",
        "- we must normalize our data as it is always required in neural network models\n",
        "- we can achieve this by dividing the RGB codes to 255 (which is the maximum RGB code minus the minimum RGB code)\n",
        "- normalize X_train and X_test\n",
        "- make sure that the values are float so that we can get decimal points after division"
      ]
    },
    {
      "cell_type": "code",
      "metadata": {
        "colab_type": "code",
        "id": "z4mti7pg5sXj",
        "colab": {
          "base_uri": "https://localhost:8080/",
          "height": 69
        },
        "outputId": "cd8083cf-0b28-47ef-aeba-ae6d5727c3cd"
      },
      "source": [
        "print(\"Normalizing the first dataset..\")\n",
        "x_trial = x_trial/255\n",
        "x_trial_te = x_trial_te/255 \n",
        "show = pro_gress()"
      ],
      "execution_count": 80,
      "outputs": [
        {
          "output_type": "stream",
          "text": [
            "Normalizing the first dataset..\n"
          ],
          "name": "stdout"
        },
        {
          "output_type": "stream",
          "text": [
            "Processing: 100% |=============================================| Time:  0:00:01\n"
          ],
          "name": "stderr"
        },
        {
          "output_type": "stream",
          "text": [
            "Done!!\n"
          ],
          "name": "stdout"
        }
      ]
    },
    {
      "cell_type": "markdown",
      "metadata": {
        "colab_type": "text",
        "id": "TfQ6545D5sXp"
      },
      "source": [
        "### Print shape of data and number of images\n",
        "- for first dataset\n",
        "- print shape of X_train\n",
        "- print number of images in X_train\n",
        "- print number of images in X_test"
      ]
    },
    {
      "cell_type": "code",
      "metadata": {
        "colab_type": "code",
        "id": "uQfQXZMo5sXp",
        "outputId": "f6bf98fb-7025-4e83-f0ba-b735714f5505",
        "colab": {
          "base_uri": "https://localhost:8080/",
          "height": 69
        }
      },
      "source": [
        "print(\"The shape of X_train having digits below 5 is:==>\",x_trial.shape)\n",
        "print(\"The number of images in X_train is:==>\",x_trial.shape[0])\n",
        "print(\"The number of images in X_test is:==>\",x_trial_te.shape[0])"
      ],
      "execution_count": 81,
      "outputs": [
        {
          "output_type": "stream",
          "text": [
            "The shape of X_train having digits below 5 is:==> (30596, 28, 28, 1)\n",
            "The number of images in X_train is:==> 30596\n",
            "The number of images in X_test is:==> 5139\n"
          ],
          "name": "stdout"
        }
      ]
    },
    {
      "cell_type": "markdown",
      "metadata": {
        "colab_type": "text",
        "id": "9oFjomSh5sXu"
      },
      "source": [
        "## Question 5"
      ]
    },
    {
      "cell_type": "markdown",
      "metadata": {
        "colab_type": "text",
        "id": "2lEFQQNk5sXu"
      },
      "source": [
        "### One-hot encode the class vector\n",
        "- encode labels of first dataset\n",
        "- convert class vectors (integers) to binary class matrix\n",
        "- convert y_train and y_test\n",
        "- number of classes: 5\n",
        "- we are doing this to use categorical_crossentropy as loss\n",
        "\n",
        "Hint: you can use tensorflow.keras.utils.to_categorical"
      ]
    },
    {
      "cell_type": "code",
      "metadata": {
        "colab_type": "code",
        "id": "aejx3Zb35sXv",
        "colab": {
          "base_uri": "https://localhost:8080/",
          "height": 69
        },
        "outputId": "85f7ca97-048a-47f9-c119-5435628d4aaa"
      },
      "source": [
        "print(\"One hot encoding the labels of first dataset :-->\")\n",
        "import tensorflow as tf\n",
        "y_train_u51 = tf.keras.utils.to_categorical(y_train_u5,num_classes=5)\n",
        "y_test_u51 = tf.keras.utils.to_categorical(y_test_u5,num_classes=5)\n",
        "show = pro_gress()"
      ],
      "execution_count": 82,
      "outputs": [
        {
          "output_type": "stream",
          "text": [
            "One hot encoding the labels of first dataset :-->\n"
          ],
          "name": "stdout"
        },
        {
          "output_type": "stream",
          "text": [
            "Processing: 100% |=============================================| Time:  0:00:01\n"
          ],
          "name": "stderr"
        },
        {
          "output_type": "stream",
          "text": [
            "Done!!\n"
          ],
          "name": "stdout"
        }
      ]
    },
    {
      "cell_type": "markdown",
      "metadata": {
        "colab_type": "text",
        "id": "PlkiipRA5sXw"
      },
      "source": [
        "## Question 6\n",
        "We will build our model by using Keras."
      ]
    },
    {
      "cell_type": "markdown",
      "metadata": {
        "colab_type": "text",
        "id": "KzYMC_xm5sXx"
      },
      "source": [
        "### Initialize a sequential model\n",
        "- define a sequential model\n",
        "- add 2 convolutional layers\n",
        "    - no of filters: 32\n",
        "    - kernel size: 3x3\n",
        "    - activation: \"relu\"\n",
        "    - input shape: (28, 28, 1) for first layer\n",
        "- add a max pooling layer of size 2x2\n",
        "- add a dropout layer\n",
        "    - dropout layers fight with the overfitting by disregarding some of the neurons while training\n",
        "    - use dropout rate 0.2"
      ]
    },
    {
      "cell_type": "code",
      "metadata": {
        "colab_type": "code",
        "id": "mDr-HKl-5sXx",
        "colab": {
          "base_uri": "https://localhost:8080/",
          "height": 34
        },
        "outputId": "0a99c9c0-14a7-4cb5-9305-de37ab985cac"
      },
      "source": [
        "print(\"Building the model..\")\n",
        "from tensorflow.keras import models,layers\n",
        "model = models.Sequential()\n",
        "model.add(layers.Conv2D(32,kernel_size=(3,3),input_shape=(28,28,1),activation='relu'))\n",
        "model.add(layers.BatchNormalization())\n",
        "model.add(layers.Conv2D(64,kernel_size=(3,3),activation='relu'))"
      ],
      "execution_count": 83,
      "outputs": [
        {
          "output_type": "stream",
          "text": [
            "Building the model..\n"
          ],
          "name": "stdout"
        }
      ]
    },
    {
      "cell_type": "markdown",
      "metadata": {
        "colab_type": "text",
        "id": "k2RaPWiP5sXz"
      },
      "source": [
        "## Question 7"
      ]
    },
    {
      "cell_type": "markdown",
      "metadata": {
        "colab_type": "text",
        "id": "4ajGIM6t5sXz"
      },
      "source": [
        "### Add classification layers\n",
        "- do this after doing question 6\n",
        "- flatten the data\n",
        "    - add Flatten later\n",
        "    - flatten layers flatten 2D arrays to 1D array before building the fully connected layers\n",
        "- add 2 dense layers\n",
        "    - number of neurons in first layer: 128\n",
        "    - number of neurons in last layer: number of classes\n",
        "    - activation function in first layer: relu\n",
        "    - activation function in last layer: softmax\n",
        "    - we may experiment with any number of neurons for the first Dense layer; however, the final Dense layer must have neurons equal to the number of output classes\n",
        "- you can add a dropout layer in between, if necessary"
      ]
    },
    {
      "cell_type": "code",
      "metadata": {
        "colab_type": "code",
        "id": "jBxWAN265sX0",
        "colab": {}
      },
      "source": [
        "model.add(layers.Flatten())\n",
        "model.add(layers.Dense(128,activation='relu'))\n",
        "model.add(layers.Dropout(0.25))\n",
        "model.add(layers.Dense(5,activation='softmax'))"
      ],
      "execution_count": 0,
      "outputs": []
    },
    {
      "cell_type": "markdown",
      "metadata": {
        "colab_type": "text",
        "id": "Lhtm4d5K5sX1"
      },
      "source": [
        "## Question 8"
      ]
    },
    {
      "cell_type": "markdown",
      "metadata": {
        "colab_type": "text",
        "id": "SmXg8EaF5sX2"
      },
      "source": [
        "### Compile and fit the model\n",
        "- compile your model\n",
        "    - loss: \"categorical_crossentropy\"\n",
        "    - metrics: \"accuracy\"\n",
        "    - optimizer: \"sgd\"\n",
        "- fit your model\n",
        "    - give train data - features and labels\n",
        "    - batch size: 128\n",
        "    - epochs: 10\n",
        "    - give validation data - features and labels"
      ]
    },
    {
      "cell_type": "code",
      "metadata": {
        "colab_type": "code",
        "id": "cgclxC8s5sX4",
        "colab": {}
      },
      "source": [
        "model.compile(optimizer='sgd',loss='categorical_crossentropy',metrics=['accuracy'])"
      ],
      "execution_count": 0,
      "outputs": []
    },
    {
      "cell_type": "code",
      "metadata": {
        "id": "07CrOJG8lp7C",
        "colab_type": "code",
        "colab": {
          "base_uri": "https://localhost:8080/",
          "height": 397
        },
        "outputId": "32edf5cd-08e3-4f8f-b8c1-7d92bca0daa3"
      },
      "source": [
        "model.summary()"
      ],
      "execution_count": 86,
      "outputs": [
        {
          "output_type": "stream",
          "text": [
            "Model: \"sequential_1\"\n",
            "_________________________________________________________________\n",
            "Layer (type)                 Output Shape              Param #   \n",
            "=================================================================\n",
            "conv2d_2 (Conv2D)            (None, 26, 26, 32)        320       \n",
            "_________________________________________________________________\n",
            "batch_normalization_1 (Batch (None, 26, 26, 32)        128       \n",
            "_________________________________________________________________\n",
            "conv2d_3 (Conv2D)            (None, 24, 24, 64)        18496     \n",
            "_________________________________________________________________\n",
            "flatten_1 (Flatten)          (None, 36864)             0         \n",
            "_________________________________________________________________\n",
            "dense_2 (Dense)              (None, 128)               4718720   \n",
            "_________________________________________________________________\n",
            "dropout_1 (Dropout)          (None, 128)               0         \n",
            "_________________________________________________________________\n",
            "dense_3 (Dense)              (None, 5)                 645       \n",
            "=================================================================\n",
            "Total params: 4,738,309\n",
            "Trainable params: 4,738,245\n",
            "Non-trainable params: 64\n",
            "_________________________________________________________________\n"
          ],
          "name": "stdout"
        }
      ]
    },
    {
      "cell_type": "code",
      "metadata": {
        "id": "t5-LSy-cKNny",
        "colab_type": "code",
        "outputId": "966ec6cb-5750-4d1f-f64e-cd474a2caa7c",
        "colab": {
          "base_uri": "https://localhost:8080/",
          "height": 397
        }
      },
      "source": [
        "model.fit(x_trial,y_train_u51,batch_size=128,epochs=10,validation_data=(x_trial_te,y_test_u51))"
      ],
      "execution_count": 87,
      "outputs": [
        {
          "output_type": "stream",
          "text": [
            "Train on 30596 samples, validate on 5139 samples\n",
            "Epoch 1/10\n",
            "30596/30596 [==============================] - 2s 77us/sample - loss: 0.1421 - accuracy: 0.9557 - val_loss: 0.4098 - val_accuracy: 0.9821\n",
            "Epoch 2/10\n",
            "30596/30596 [==============================] - 2s 59us/sample - loss: 0.0559 - accuracy: 0.9831 - val_loss: 0.0537 - val_accuracy: 0.9916\n",
            "Epoch 3/10\n",
            "30596/30596 [==============================] - 2s 59us/sample - loss: 0.0368 - accuracy: 0.9891 - val_loss: 0.0239 - val_accuracy: 0.9916\n",
            "Epoch 4/10\n",
            "30596/30596 [==============================] - 2s 61us/sample - loss: 0.0295 - accuracy: 0.9913 - val_loss: 0.0168 - val_accuracy: 0.9940\n",
            "Epoch 5/10\n",
            "30596/30596 [==============================] - 2s 60us/sample - loss: 0.0222 - accuracy: 0.9936 - val_loss: 0.0149 - val_accuracy: 0.9947\n",
            "Epoch 6/10\n",
            "30596/30596 [==============================] - 2s 59us/sample - loss: 0.0188 - accuracy: 0.9949 - val_loss: 0.0124 - val_accuracy: 0.9953\n",
            "Epoch 7/10\n",
            "30596/30596 [==============================] - 2s 59us/sample - loss: 0.0148 - accuracy: 0.9964 - val_loss: 0.0122 - val_accuracy: 0.9959\n",
            "Epoch 8/10\n",
            "30596/30596 [==============================] - 2s 61us/sample - loss: 0.0132 - accuracy: 0.9965 - val_loss: 0.0115 - val_accuracy: 0.9959\n",
            "Epoch 9/10\n",
            "30596/30596 [==============================] - 2s 62us/sample - loss: 0.0117 - accuracy: 0.9968 - val_loss: 0.0107 - val_accuracy: 0.9965\n",
            "Epoch 10/10\n",
            "30596/30596 [==============================] - 2s 62us/sample - loss: 0.0103 - accuracy: 0.9973 - val_loss: 0.0116 - val_accuracy: 0.9967\n"
          ],
          "name": "stdout"
        },
        {
          "output_type": "execute_result",
          "data": {
            "text/plain": [
              "<tensorflow.python.keras.callbacks.History at 0x7fb11fcd1d68>"
            ]
          },
          "metadata": {
            "tags": []
          },
          "execution_count": 87
        }
      ]
    },
    {
      "cell_type": "markdown",
      "metadata": {
        "colab_type": "text",
        "id": "oSVZUu3p5sX5"
      },
      "source": [
        "## Question 9"
      ]
    },
    {
      "cell_type": "markdown",
      "metadata": {
        "colab_type": "text",
        "id": "Y5TQ3yLV5sX6"
      },
      "source": [
        "### Evaluate model\n",
        "- evaluate your model and get accuracy\n",
        "- use test features and labels"
      ]
    },
    {
      "cell_type": "code",
      "metadata": {
        "colab_type": "code",
        "id": "bBvuD3ba5sX7",
        "colab": {
          "base_uri": "https://localhost:8080/",
          "height": 34
        },
        "outputId": "d4159b96-fb8c-40d8-e726-80e3742026e0"
      },
      "source": [
        "print(\"Getting y_pred to get accuracy..\")\n",
        "y_pred = model.predict(x_trial_te)"
      ],
      "execution_count": 88,
      "outputs": [
        {
          "output_type": "stream",
          "text": [
            "Getting y_pred to get accuracy..\n"
          ],
          "name": "stdout"
        }
      ]
    },
    {
      "cell_type": "code",
      "metadata": {
        "id": "_OaZHnQlNnk3",
        "colab_type": "code",
        "outputId": "5931d3ce-30dc-4392-bc5c-a03c9e84ea3d",
        "colab": {
          "base_uri": "https://localhost:8080/",
          "height": 54
        }
      },
      "source": [
        "import numpy as np\n",
        "out = []\n",
        "for i in y_pred:\n",
        "  out.append(np.argmax(i))\n",
        "print(out)"
      ],
      "execution_count": 89,
      "outputs": [
        {
          "output_type": "stream",
          "text": [
            "[2, 1, 0, 4, 1, 4, 0, 0, 1, 3, 4, 4, 0, 4, 0, 1, 3, 1, 3, 4, 2, 1, 2, 1, 1, 4, 2, 3, 1, 2, 4, 4, 3, 0, 4, 1, 3, 4, 4, 3, 0, 0, 2, 1, 3, 2, 2, 4, 3, 1, 3, 3, 1, 4, 1, 0, 4, 2, 1, 4, 3, 4, 4, 4, 2, 4, 0, 1, 0, 1, 4, 3, 1, 1, 2, 0, 2, 1, 0, 3, 4, 4, 4, 4, 1, 4, 4, 2, 3, 2, 1, 1, 1, 0, 2, 0, 1, 1, 1, 0, 0, 3, 1, 4, 2, 3, 1, 1, 1, 3, 2, 4, 3, 0, 3, 2, 2, 1, 2, 4, 1, 3, 3, 2, 2, 4, 1, 2, 3, 0, 4, 4, 2, 4, 1, 2, 2, 1, 1, 0, 3, 0, 1, 4, 1, 2, 1, 2, 2, 4, 1, 2, 2, 0, 4, 0, 0, 2, 4, 1, 2, 4, 0, 2, 4, 3, 3, 0, 0, 3, 1, 2, 2, 3, 0, 4, 2, 0, 1, 1, 2, 1, 3, 3, 1, 3, 1, 0, 1, 3, 1, 1, 1, 4, 2, 2, 0, 3, 2, 0, 4, 1, 1, 4, 0, 3, 3, 1, 2, 1, 2, 1, 2, 4, 4, 2, 3, 2, 4, 0, 3, 1, 1, 2, 1, 4, 2, 2, 0, 4, 1, 4, 1, 4, 3, 0, 0, 3, 0, 2, 4, 3, 3, 3, 2, 3, 1, 2, 0, 3, 2, 1, 4, 1, 2, 1, 4, 0, 1, 0, 2, 3, 4, 0, 3, 2, 1, 3, 1, 3, 4, 2, 2, 3, 2, 4, 1, 3, 0, 3, 3, 1, 3, 4, 4, 4, 2, 1, 2, 4, 4, 0, 0, 2, 3, 2, 0, 4, 4, 0, 0, 4, 0, 3, 4, 3, 3, 3, 3, 3, 0, 2, 1, 0, 4, 3, 0, 3, 0, 0, 2, 4, 0, 2, 2, 3, 1, 1, 0, 4, 2, 3, 2, 2, 2, 2, 3, 1, 0, 2, 0, 2, 1, 3, 1, 2, 0, 3, 1, 4, 0, 1, 4, 3, 4, 1, 1, 3, 1, 3, 3, 3, 2, 1, 1, 4, 4, 3, 1, 0, 0, 4, 4, 4, 0, 2, 1, 3, 4, 0, 4, 0, 1, 3, 2, 2, 3, 1, 4, 2, 4, 2, 0, 2, 1, 3, 4, 1, 0, 4, 3, 1, 1, 4, 4, 4, 0, 2, 4, 1, 1, 4, 1, 4, 2, 4, 1, 3, 3, 1, 4, 4, 1, 3, 0, 3, 2, 1, 2, 3, 4, 4, 0, 3, 3, 1, 3, 3, 2, 1, 3, 0, 2, 1, 1, 4, 2, 4, 2, 1, 1, 1, 2, 4, 1, 4, 0, 3, 1, 3, 1, 0, 0, 3, 2, 2, 3, 2, 2, 0, 2, 2, 4, 3, 0, 3, 2, 1, 3, 2, 2, 3, 0, 0, 1, 4, 4, 0, 2, 1, 4, 4, 3, 4, 1, 2, 1, 2, 2, 3, 2, 3, 2, 3, 1, 4, 0, 3, 3, 2, 3, 2, 1, 1, 4, 1, 3, 3, 4, 1, 1, 1, 4, 4, 4, 0, 2, 2, 3, 1, 1, 2, 0, 3, 1, 2, 1, 2, 3, 0, 1, 2, 2, 0, 0, 2, 1, 1, 0, 4, 1, 4, 2, 1, 3, 4, 4, 1, 1, 3, 1, 2, 0, 2, 1, 1, 1, 3, 4, 0, 2, 2, 4, 2, 1, 2, 4, 4, 4, 0, 3, 2, 2, 3, 3, 3, 3, 1, 2, 4, 4, 4, 1, 0, 3, 0, 3, 1, 3, 3, 4, 4, 3, 4, 0, 3, 3, 1, 2, 3, 1, 1, 2, 1, 4, 4, 4, 4, 0, 3, 0, 2, 4, 4, 4, 4, 4, 3, 4, 3, 2, 0, 2, 4, 1, 1, 2, 2, 0, 1, 0, 1, 0, 0, 1, 0, 3, 3, 2, 3, 2, 1, 1, 1, 3, 0, 0, 4, 0, 2, 2, 4, 0, 1, 2, 1, 3, 1, 4, 2, 0, 2, 4, 1, 2, 1, 0, 2, 4, 4, 3, 2, 4, 0, 0, 4, 4, 3, 4, 1, 3, 0, 3, 3, 0, 1, 0, 3, 4, 4, 1, 2, 1, 4, 3, 4, 4, 3, 1, 3, 1, 4, 1, 4, 0, 2, 2, 2, 1, 2, 4, 2, 2, 2, 1, 1, 2, 3, 2, 4, 1, 1, 2, 3, 1, 2, 2, 2, 0, 2, 4, 3, 3, 0, 4, 1, 2, 1, 0, 2, 1, 0, 2, 0, 2, 2, 0, 2, 4, 0, 4, 4, 1, 3, 4, 1, 2, 2, 1, 4, 0, 4, 3, 0, 2, 1, 2, 4, 0, 0, 2, 4, 2, 3, 4, 0, 3, 3, 3, 3, 1, 1, 2, 0, 4, 3, 3, 3, 3, 0, 2, 4, 4, 3, 2, 1, 4, 0, 2, 3, 0, 1, 1, 4, 3, 0, 0, 0, 2, 3, 4, 2, 4, 1, 4, 2, 4, 1, 4, 0, 4, 0, 0, 4, 2, 4, 4, 1, 2, 3, 3, 0, 0, 3, 4, 3, 3, 1, 2, 3, 3, 3, 2, 0, 3, 3, 4, 3, 3, 0, 2, 0, 0, 4, 3, 1, 1, 4, 4, 0, 2, 1, 2, 1, 4, 0, 4, 2, 2, 1, 2, 1, 3, 4, 1, 1, 1, 2, 4, 4, 3, 2, 3, 2, 3, 1, 0, 2, 0, 4, 1, 4, 1, 0, 2, 0, 0, 1, 4, 2, 0, 4, 0, 3, 1, 1, 3, 3, 4, 1, 3, 0, 3, 3, 0, 2, 4, 1, 0, 1, 0, 3, 0, 3, 1, 4, 0, 3, 2, 1, 0, 0, 4, 3, 1, 1, 4, 3, 2, 1, 0, 2, 0, 3, 3, 2, 3, 3, 0, 0, 2, 4, 4, 2, 1, 2, 0, 3, 1, 1, 3, 1, 1, 1, 3, 1, 2, 3, 0, 2, 0, 1, 3, 4, 3, 1, 4, 2, 4, 4, 1, 1, 0, 2, 4, 1, 1, 1, 3, 2, 2, 0, 2, 1, 0, 1, 0, 1, 3, 2, 0, 4, 1, 3, 4, 3, 2, 3, 4, 2, 2, 1, 2, 4, 1, 0, 1, 2, 3, 4, 2, 4, 0, 3, 4, 2, 0, 3, 4, 4, 3, 2, 4, 1, 0, 1, 4, 2, 1, 1, 0, 3, 4, 4, 3, 1, 3, 4, 1, 1, 1, 1, 3, 4, 0, 3, 1, 3, 3, 0, 1, 1, 0, 4, 2, 3, 4, 1, 4, 2, 2, 0, 0, 0, 3, 1, 3, 4, 3, 3, 3, 0, 2, 3, 4, 2, 3, 0, 4, 2, 4, 0, 0, 2, 3, 0, 2, 3, 2, 2, 4, 4, 2, 4, 2, 0, 3, 4, 2, 1, 1, 2, 3, 4, 4, 3, 3, 1, 0, 2, 2, 1, 4, 1, 4, 1, 4, 3, 1, 2, 0, 1, 4, 2, 0, 2, 0, 0, 2, 4, 2, 2, 4, 4, 0, 4, 4, 0, 0, 4, 1, 3, 4, 0, 1, 3, 3, 1, 0, 1, 2, 1, 2, 4, 4, 2, 2, 3, 4, 1, 2, 1, 4, 4, 1, 2, 1, 1, 1, 3, 3, 1, 3, 1, 3, 0, 0, 2, 2, 3, 1, 3, 0, 3, 4, 4, 3, 2, 3, 1, 1, 0, 4, 1, 0, 2, 0, 0, 4, 0, 1, 4, 4, 4, 1, 3, 3, 2, 3, 2, 2, 1, 1, 1, 1, 1, 4, 3, 1, 4, 0, 4, 4, 2, 4, 0, 0, 1, 0, 0, 4, 2, 2, 3, 4, 2, 2, 1, 4, 4, 0, 4, 3, 3, 1, 0, 1, 2, 2, 1, 0, 1, 1, 3, 3, 2, 3, 2, 2, 1, 0, 4, 2, 2, 4, 3, 1, 2, 4, 0, 3, 3, 0, 4, 2, 0, 2, 4, 1, 2, 0, 2, 0, 4, 4, 2, 0, 2, 2, 4, 4, 2, 3, 3, 2, 1, 0, 4, 1, 3, 4, 2, 1, 3, 1, 0, 1, 4, 0, 3, 3, 0, 4, 1, 3, 3, 1, 3, 0, 3, 3, 0, 0, 2, 3, 1, 3, 3, 1, 0, 0, 3, 2, 1, 2, 2, 1, 4, 4, 3, 0, 2, 3, 3, 2, 1, 0, 3, 4, 0, 3, 3, 2, 0, 3, 0, 4, 3, 0, 2, 1, 0, 0, 4, 4, 0, 1, 2, 3, 2, 2, 1, 4, 1, 4, 2, 4, 3, 4, 3, 0, 1, 3, 1, 2, 4, 0, 1, 1, 1, 0, 4, 4, 3, 0, 0, 4, 3, 0, 1, 1, 3, 1, 2, 2, 3, 0, 1, 2, 3, 1, 0, 0, 2, 1, 3, 1, 0, 0, 0, 0, 3, 3, 4, 3, 0, 4, 0, 2, 2, 3, 1, 2, 1, 1, 0, 3, 2, 1, 4, 4, 3, 0, 3, 1, 1, 0, 4, 4, 0, 1, 0, 1, 1, 4, 4, 4, 2, 3, 0, 4, 2, 3, 2, 2, 3, 1, 1, 3, 4, 0, 4, 1, 4, 1, 3, 4, 3, 1, 4, 4, 2, 3, 0, 4, 0, 4, 4, 1, 2, 3, 4, 2, 1, 3, 4, 2, 2, 3, 3, 1, 3, 0, 4, 0, 4, 2, 0, 1, 0, 3, 1, 1, 3, 3, 0, 3, 2, 0, 4, 1, 2, 0, 1, 2, 3, 2, 1, 1, 3, 0, 3, 3, 3, 0, 1, 4, 0, 1, 2, 3, 0, 1, 3, 0, 4, 1, 0, 2, 4, 4, 1, 1, 4, 0, 2, 2, 1, 4, 0, 0, 3, 2, 2, 3, 1, 0, 2, 4, 4, 1, 2, 1, 3, 4, 0, 3, 3, 2, 3, 3, 3, 4, 0, 2, 0, 1, 3, 4, 1, 1, 3, 2, 2, 3, 3, 4, 2, 3, 4, 1, 1, 2, 3, 3, 1, 4, 2, 4, 3, 0, 2, 1, 3, 1, 3, 2, 1, 4, 4, 3, 4, 0, 4, 4, 1, 2, 3, 0, 0, 2, 0, 4, 0, 3, 4, 2, 1, 2, 1, 2, 0, 1, 2, 1, 0, 3, 0, 3, 2, 0, 1, 4, 2, 1, 1, 4, 4, 4, 4, 1, 2, 0, 0, 1, 4, 3, 4, 2, 0, 1, 1, 2, 2, 2, 1, 2, 3, 1, 0, 0, 2, 1, 0, 1, 2, 1, 4, 2, 1, 4, 3, 3, 4, 3, 4, 2, 0, 4, 3, 3, 2, 0, 0, 0, 1, 0, 0, 2, 1, 0, 0, 3, 2, 3, 4, 2, 2, 4, 0, 0, 1, 1, 1, 2, 4, 0, 0, 3, 4, 2, 0, 4, 0, 2, 4, 1, 1, 3, 2, 1, 4, 3, 2, 4, 0, 4, 3, 3, 4, 0, 0, 2, 0, 1, 1, 1, 4, 1, 4, 3, 1, 1, 2, 2, 4, 1, 0, 3, 4, 0, 0, 3, 3, 0, 1, 1, 1, 3, 1, 0, 4, 1, 4, 3, 1, 2, 3, 3, 0, 1, 0, 2, 3, 3, 3, 2, 4, 3, 4, 0, 4, 4, 2, 2, 2, 0, 2, 2, 3, 4, 2, 4, 3, 3, 4, 3, 1, 4, 4, 0, 0, 4, 4, 4, 4, 1, 2, 3, 3, 4, 4, 1, 2, 4, 4, 0, 2, 2, 3, 0, 1, 0, 1, 1, 4, 1, 2, 2, 1, 1, 1, 4, 0, 4, 2, 4, 0, 4, 3, 4, 0, 1, 2, 3, 0, 1, 1, 0, 1, 3, 0, 1, 1, 0, 1, 1, 4, 2, 2, 3, 0, 2, 2, 1, 3, 4, 1, 2, 4, 0, 1, 0, 3, 2, 4, 4, 3, 1, 2, 0, 2, 0, 1, 4, 3, 2, 0, 0, 3, 3, 4, 4, 0, 4, 4, 2, 2, 1, 0, 0, 3, 3, 3, 1, 3, 1, 3, 1, 4, 4, 1, 0, 1, 3, 0, 3, 4, 2, 2, 0, 2, 1, 1, 4, 1, 2, 1, 3, 1, 0, 4, 4, 3, 2, 2, 0, 0, 0, 1, 2, 3, 1, 2, 0, 4, 2, 3, 3, 4, 0, 2, 3, 2, 4, 1, 2, 0, 0, 1, 1, 1, 2, 0, 4, 1, 0, 0, 4, 2, 0, 1, 0, 3, 3, 2, 1, 0, 2, 3, 2, 3, 0, 2, 2, 4, 3, 1, 2, 1, 1, 1, 2, 2, 1, 4, 0, 4, 0, 3, 3, 2, 2, 3, 3, 4, 2, 0, 3, 2, 3, 4, 1, 3, 3, 0, 0, 1, 2, 0, 1, 3, 4, 4, 4, 3, 3, 1, 1, 1, 4, 1, 1, 4, 3, 1, 0, 4, 1, 3, 4, 1, 0, 0, 1, 1, 2, 1, 4, 0, 3, 4, 0, 1, 2, 1, 4, 0, 3, 2, 1, 0, 4, 1, 1, 0, 0, 0, 3, 1, 3, 0, 0, 3, 2, 2, 2, 1, 1, 3, 3, 1, 2, 2, 2, 3, 2, 3, 2, 2, 1, 1, 0, 1, 2, 0, 1, 0, 2, 0, 2, 3, 3, 0, 2, 1, 1, 1, 1, 4, 2, 2, 1, 1, 2, 1, 1, 0, 2, 0, 2, 1, 1, 4, 4, 1, 4, 1, 2, 2, 2, 0, 1, 1, 4, 3, 4, 3, 4, 0, 4, 1, 3, 0, 3, 3, 2, 4, 1, 2, 3, 4, 2, 1, 1, 4, 4, 1, 4, 4, 3, 1, 2, 2, 3, 3, 0, 2, 0, 0, 0, 3, 0, 4, 1, 2, 1, 1, 3, 1, 3, 4, 3, 1, 0, 4, 2, 0, 1, 0, 1, 4, 3, 3, 1, 2, 2, 2, 0, 2, 0, 1, 3, 0, 3, 0, 2, 0, 0, 3, 2, 0, 4, 4, 4, 4, 2, 2, 1, 2, 0, 3, 4, 3, 2, 2, 0, 0, 3, 1, 4, 2, 2, 4, 2, 1, 3, 4, 0, 3, 3, 4, 2, 3, 2, 0, 0, 1, 2, 2, 0, 4, 0, 4, 4, 3, 0, 0, 4, 2, 0, 4, 2, 4, 4, 1, 3, 3, 0, 3, 2, 2, 2, 1, 3, 2, 4, 0, 1, 2, 4, 2, 1, 1, 3, 0, 3, 0, 3, 1, 3, 3, 1, 3, 0, 4, 2, 2, 3, 0, 4, 2, 2, 1, 1, 4, 2, 1, 4, 4, 1, 3, 2, 3, 1, 1, 4, 2, 1, 1, 4, 3, 1, 1, 0, 3, 1, 4, 0, 3, 0, 2, 0, 3, 2, 0, 3, 0, 2, 3, 2, 3, 0, 0, 1, 1, 3, 0, 1, 4, 1, 1, 2, 3, 4, 3, 2, 2, 1, 0, 1, 0, 1, 2, 1, 1, 3, 1, 4, 3, 2, 1, 2, 2, 2, 3, 2, 1, 0, 1, 0, 4, 2, 2, 3, 1, 1, 1, 2, 4, 0, 3, 0, 4, 4, 1, 3, 0, 3, 1, 1, 4, 3, 4, 1, 2, 0, 1, 0, 3, 4, 3, 0, 4, 3, 2, 3, 4, 0, 2, 1, 3, 2, 4, 2, 3, 0, 0, 4, 4, 3, 0, 3, 3, 4, 1, 2, 1, 3, 0, 1, 1, 4, 0, 1, 4, 1, 2, 1, 1, 3, 2, 1, 2, 0, 3, 0, 2, 0, 4, 3, 4, 2, 1, 3, 2, 4, 3, 1, 4, 4, 4, 1, 2, 0, 1, 3, 1, 3, 4, 1, 1, 1, 0, 0, 2, 3, 2, 2, 2, 4, 1, 2, 1, 1, 2, 0, 0, 0, 2, 2, 2, 2, 2, 1, 3, 4, 4, 1, 2, 3, 1, 2, 4, 3, 0, 2, 3, 2, 4, 0, 3, 4, 1, 0, 0, 1, 1, 2, 3, 4, 2, 1, 4, 3, 0, 4, 0, 0, 1, 2, 3, 4, 0, 1, 2, 3, 4, 0, 1, 2, 3, 4, 3, 4, 3, 4, 0, 1, 3, 4, 3, 0, 1, 4, 4, 2, 0, 2, 1, 1, 1, 1, 2, 4, 2, 4, 4, 2, 0, 0, 1, 1, 2, 2, 4, 0, 2, 4, 2, 1, 1, 0, 0, 3, 0, 3, 3, 0, 1, 2, 3, 4, 0, 1, 2, 3, 4, 0, 1, 2, 3, 4, 4, 4, 3, 3, 1, 2, 4, 2, 1, 4, 4, 4, 4, 1, 1, 1, 3, 3, 3, 2, 2, 3, 3, 1, 1, 3, 4, 0, 0, 0, 3, 3, 0, 2, 0, 1, 0, 1, 0, 4, 0, 1, 0, 4, 2, 2, 2, 0, 1, 2, 3, 4, 0, 1, 2, 3, 4, 0, 1, 2, 3, 4, 0, 0, 0, 2, 3, 4, 1, 1, 1, 4, 0, 0, 4, 1, 1, 3, 3, 3, 1, 4, 3, 0, 2, 2, 0, 4, 3, 4, 1, 0, 4, 3, 3, 3, 1, 4, 2, 2, 0, 0, 1, 2, 3, 1, 2, 2, 2, 4, 4, 0, 1, 0, 1, 2, 3, 4, 0, 1, 2, 3, 4, 4, 2, 0, 0, 1, 0, 2, 4, 4, 1, 0, 4, 3, 4, 2, 0, 0, 1, 3, 2, 1, 0, 1, 1, 0, 4, 3, 0, 3, 4, 2, 4, 1, 3, 0, 1, 2, 1, 3, 2, 1, 4, 2, 3, 0, 1, 2, 3, 4, 0, 1, 2, 3, 4, 0, 1, 2, 1, 4, 0, 0, 0, 1, 1, 2, 3, 2, 3, 1, 2, 1, 1, 1, 0, 3, 4, 2, 4, 4, 2, 4, 1, 0, 3, 4, 3, 0, 3, 1, 1, 0, 0, 1, 2, 3, 4, 0, 1, 2, 3, 4, 0, 1, 2, 3, 4, 3, 3, 2, 3, 2, 1, 4, 3, 3, 2, 1, 3, 2, 1, 2, 1, 1, 0, 0, 0, 1, 4, 1, 2, 0, 0, 3, 4, 4, 1, 0, 0, 0, 3, 1, 4, 2, 0, 4, 4, 1, 3, 3, 3, 4, 2, 2, 0, 4, 0, 1, 2, 3, 4, 0, 1, 2, 3, 0, 1, 2, 3, 4, 1, 3, 2, 0, 0, 4, 1, 3, 2, 1, 2, 3, 3, 2, 2, 4, 1, 0, 3, 4, 1, 2, 1, 0, 4, 1, 3, 2, 3, 0, 1, 1, 0, 3, 3, 4, 4, 0, 2, 4, 2, 3, 4, 0, 0, 2, 0, 1, 4, 0, 1, 2, 3, 4, 0, 1, 2, 3, 4, 1, 3, 2, 0, 0, 1, 1, 3, 2, 1, 3, 2, 0, 1, 0, 3, 1, 2, 1, 0, 4, 1, 3, 2, 3, 1, 1, 0, 2, 4, 2, 3, 4, 4, 0, 0, 2, 0, 1, 2, 3, 4, 0, 1, 2, 3, 4, 0, 1, 2, 3, 4, 0, 4, 1, 3, 0, 4, 1, 4, 0, 2, 1, 4, 0, 0, 1, 0, 1, 0, 1, 1, 3, 2, 3, 1, 4, 2, 0, 0, 4, 4, 3, 4, 2, 3, 3, 2, 2, 4, 0, 2, 1, 3, 3, 2, 2, 2, 1, 3, 1, 3, 0, 1, 2, 3, 4, 0, 1, 2, 3, 4, 0, 1, 2, 3, 4, 1, 2, 3, 0, 0, 4, 1, 4, 3, 2, 3, 1, 2, 1, 2, 0, 1, 3, 0, 2, 2, 1, 0, 0, 0, 2, 0, 1, 4, 3, 0, 1, 4, 4, 3, 4, 2, 1, 3, 1, 0, 4, 3, 4, 4, 3, 2, 0, 1, 2, 3, 4, 0, 1, 2, 3, 4, 0, 1, 2, 3, 4, 0, 3, 2, 4, 1, 1, 2, 3, 1, 1, 1, 2, 1, 2, 0, 2, 0, 4, 1, 3, 4, 0, 3, 0, 4, 2, 4, 4, 3, 4, 2, 1, 1, 2, 0, 2, 4, 3, 0, 0, 0, 3, 3, 0, 4, 3, 4, 2, 1, 0, 1, 2, 3, 4, 0, 1, 2, 3, 4, 0, 1, 2, 3, 4, 2, 1, 2, 0, 0, 2, 3, 0, 2, 1, 2, 4, 3, 4, 4, 3, 3, 4, 1, 1, 4, 3, 3, 3, 0, 2, 3, 2, 4, 1, 0, 0, 1, 1, 2, 3, 4, 2, 1, 3, 2, 0, 0, 4, 0, 0, 1, 2, 3, 4, 0, 1, 2, 3, 0, 1, 2, 3, 4, 3, 0, 3, 1, 4, 0, 2, 3, 2, 1, 2, 0, 1, 0, 4, 4, 0, 2, 3, 1, 1, 4, 0, 3, 2, 2, 3, 1, 3, 1, 0, 3, 2, 1, 4, 3, 2, 2, 0, 1, 2, 4, 0, 1, 2, 3, 4, 1, 2, 3, 4, 1, 0, 4, 3, 4, 4, 2, 1, 0, 4, 2, 3, 3, 2, 0, 3, 3, 1, 2, 3, 4, 0, 2, 4, 0, 2, 4, 0, 0, 3, 2, 0, 1, 0, 1, 2, 2, 2, 1, 0, 1, 1, 3, 4, 1, 0, 1, 2, 3, 4, 0, 1, 2, 3, 4, 0, 1, 4, 1, 3, 3, 1, 0, 1, 3, 2, 1, 1, 3, 1, 4, 1, 4, 3, 1, 4, 4, 2, 4, 4, 0, 1, 2, 3, 4, 0, 1, 2, 3, 4, 0, 1, 2, 3, 4, 1, 3, 1, 2, 1, 4, 3, 4, 4, 3, 4, 1, 2, 3, 1, 0, 1, 0, 0, 2, 1, 1, 4, 0, 4, 3, 0, 3, 4, 0, 2, 0, 4, 0, 1, 2, 0, 1, 3, 3, 0, 2, 2, 0, 1, 2, 3, 4, 0, 1, 2, 3, 4, 0, 1, 2, 3, 4, 2, 1, 2, 0, 0, 2, 3, 0, 0, 2, 1, 2, 4, 3, 4, 4, 3, 3, 4, 4, 1, 1, 4, 3, 3, 3, 0, 2, 3, 1, 2, 4, 1, 0, 0, 1, 1, 2, 3, 4, 2, 1, 4, 1, 3, 2, 0, 0, 4, 0, 0, 1, 2, 3, 4, 0, 1, 2, 3, 4, 0, 1, 2, 3, 4, 3, 0, 1, 0, 0, 1, 0, 0, 3, 4, 3, 1, 0, 0, 3, 4, 3, 2, 4, 2, 4, 4, 4, 1, 2, 2, 1, 3, 2, 4, 3, 2, 2, 1, 2, 1, 2, 1, 3, 3, 0, 4, 0, 3, 4, 4, 1, 0, 0, 1, 2, 3, 4, 0, 1, 2, 3, 4, 0, 1, 2, 3, 4, 4, 0, 4, 0, 1, 1, 4, 2, 4, 3, 2, 4, 4, 3, 3, 0, 2, 3, 3, 2, 1, 4, 0, 3, 3, 0, 2, 4, 1, 0, 3, 2, 1, 2, 4, 2, 2, 3, 0, 0, 2, 1, 1, 0, 4, 3, 1, 1, 0, 1, 4, 1, 2, 3, 4, 0, 1, 2, 3, 4, 4, 0, 0, 2, 4, 3, 3, 2, 3, 3, 0, 1, 4, 0, 3, 1, 0, 1, 1, 2, 0, 1, 3, 2, 2, 2, 1, 3, 2, 3, 4, 3, 1, 0, 3, 0, 1, 0, 2, 0, 1, 2, 3, 4, 0, 1, 2, 3, 4, 0, 1, 2, 3, 4, 1, 4, 1, 2, 3, 3, 4, 0, 1, 2, 1, 1, 3, 2, 2, 3, 0, 4, 3, 0, 4, 1, 4, 0, 1, 2, 2, 2, 3, 1, 0, 2, 4, 0, 2, 3, 4, 0, 0, 1, 3, 4, 0, 0, 2, 4, 4, 1, 3, 3, 1, 2, 3, 4, 1, 2, 3, 4, 0, 1, 2, 4, 1, 2, 4, 1, 4, 1, 4, 4, 3, 4, 3, 3, 0, 1, 0, 1, 0, 0, 1, 4, 2, 3, 1, 0, 1, 2, 3, 2, 4, 3, 3, 1, 2, 2, 3, 0, 2, 4, 0, 2, 4, 2, 3, 0, 0, 1, 2, 3, 4, 0, 1, 2, 3, 4, 0, 1, 2, 3, 4, 0, 0, 2, 3, 4, 3, 3, 0, 1, 0, 4, 1, 1, 2, 0, 1, 3, 2, 2, 4, 2, 1, 1, 2, 4, 3, 1, 0, 3, 0, 1, 0, 2, 0, 1, 2, 3, 4, 0, 1, 2, 3, 4, 0, 1, 2, 3, 4, 2, 1, 2, 1, 3, 3, 0, 4, 0, 3, 4, 1, 1, 4, 4, 1, 4, 0, 3, 3, 2, 2, 2, 1, 2, 0, 3, 3, 0, 4, 0, 0, 0, 4, 0, 1, 2, 3, 2, 1, 3, 1, 0, 2, 1, 4, 0, 1, 2, 3, 4, 0, 1, 2, 3, 4, 0, 1, 2, 3, 4, 4, 2, 3, 4, 3, 2, 2, 4, 0, 2, 0, 1, 1, 2, 2, 1, 0, 2, 3, 3, 1, 3, 1, 0, 1, 1, 2, 0, 4, 0, 3, 1, 3, 0, 3, 1, 4, 4, 0, 4, 0, 1, 2, 3, 0, 1, 2, 3, 0, 1, 2, 3, 0, 0, 1, 0, 3, 2, 4, 1, 0, 4, 4, 2, 0, 0, 1, 3, 2, 1, 0, 1, 1, 3, 0, 2, 4, 1, 0, 1, 2, 1, 2, 1, 2, 3, 0, 1, 2, 3, 4, 0, 1, 2, 3, 4, 0, 1, 2, 3, 4, 0, 3, 1, 4, 1, 4, 2, 1, 3, 4, 3, 4, 2, 0, 0, 1, 2, 3, 2, 3, 4, 1, 1, 0, 3, 4, 3, 0, 2, 1, 0, 1, 0, 2, 3, 0, 2, 3, 4, 2, 4, 1, 2, 1, 3, 4, 4, 0, 0, 0, 1, 1, 3, 4, 0, 1, 2, 3, 4, 0, 1, 2, 3, 4, 0, 1, 3, 1, 1, 2, 4, 1, 4, 0, 1, 1, 2, 4, 2, 0, 2, 1, 0, 3, 0, 1, 2, 3, 4, 0, 1, 2, 3, 4, 0, 1, 2, 3, 4, 0, 2, 3, 4, 3, 1, 2, 3, 0, 1, 2, 1, 3, 2, 3, 0, 2, 4, 4, 0, 3, 1, 4, 4, 0, 0, 2, 0, 3, 4, 4, 3, 2, 0, 3, 1, 4, 0, 4, 2, 3, 0, 1, 1, 1, 4, 2, 1, 0, 1, 2, 3, 4, 0, 1, 2, 3, 4, 0, 1, 2, 3, 4, 1, 4, 3, 3, 0, 4, 3, 0, 4, 0, 1, 1, 3, 2, 3, 2, 3, 1, 1, 1, 0, 3, 4, 2, 4, 4, 2, 4, 2, 2, 2, 1, 0, 3, 4, 0, 3, 0, 1, 0, 0, 1, 2, 3, 4, 0, 1, 2, 3, 4, 0, 1, 2, 3, 4, 2, 1, 4, 3, 0, 1, 4, 3, 2, 0, 0, 0, 1, 4, 3, 2, 4, 1, 3, 4, 4, 3, 2, 3, 0, 4, 1, 3, 1, 2, 0, 1, 3, 3, 1, 4, 3, 2, 1, 4, 1, 0, 1, 2, 3, 4, 0, 1, 2, 3, 4, 0, 1, 2, 3, 4, 0, 2, 3, 4, 3, 1, 3, 0, 1, 2, 1, 3, 2, 0, 2, 4, 0, 3, 1, 4, 0, 0, 3, 4, 2, 1, 4, 0, 4, 2, 3, 0, 1, 1, 1, 1, 2, 1, 0, 1, 2, 3, 4, 0, 1, 2, 3, 4, 0, 1, 2, 3, 1, 0, 4, 3, 4, 4, 2, 1, 0, 4, 2, 2, 0, 3, 3, 1, 2, 3, 1, 3, 4, 0, 2, 4, 0, 2, 4, 0, 0, 3, 2, 4, 0, 1, 0, 1, 2, 2, 2, 1, 3, 0, 1, 1, 3, 4, 4, 1, 0, 1, 2, 3, 4, 0, 1, 2, 3, 4, 0, 1, 2, 3, 4, 3, 3, 2, 3, 2, 1, 4, 2, 3, 2, 1, 3, 2, 1, 2, 1, 1, 0, 0, 0, 1, 4, 1, 2, 0, 0, 3, 4, 4, 4, 1, 0, 0, 0, 3, 1, 4, 0, 4, 4, 1, 3, 3, 3, 4, 2, 2, 0, 4, 0, 1, 2, 3, 4, 0, 1, 2, 3, 4, 0, 1, 2, 3, 4, 4, 2, 4, 4, 2, 3, 3, 2, 0, 0, 1, 0, 3, 3, 0, 0, 3, 4, 1, 3, 0, 3, 0, 2, 1, 1, 3, 4, 2, 0, 4, 1, 2, 1, 0, 4, 2, 3, 1, 2, 2, 3, 0, 1, 2, 3, 4, 0, 1, 2, 3, 4, 0, 1, 2, 1, 3, 4, 2, 4, 3, 4, 2, 0, 3, 4, 3, 4, 4, 2, 2, 3, 1, 3, 2, 3, 1, 0, 1, 1, 3, 0, 1, 1, 4, 0, 0, 4, 1, 0, 1, 1, 0, 1, 2, 3, 4, 2, 3, 4, 0, 1, 2, 3, 1, 3, 1, 2, 4, 4, 0, 0, 1, 2, 2, 4, 2, 1, 1, 0, 3, 3, 0, 1, 2, 3, 4, 0, 1, 2, 3, 4, 0, 1, 2, 3, 4, 1, 0, 1, 2, 4, 4, 3, 4, 4, 4, 0, 3, 2, 1, 3, 2, 1, 1, 2, 1, 3, 4, 2, 2, 0, 2, 0, 1, 1, 2, 4, 2, 1, 3, 3, 0, 0, 3, 0, 2, 1, 0, 3, 3, 0, 1, 2, 3, 4, 0, 1, 2, 3, 4, 0, 1, 2, 3, 4, 4, 2, 4, 2, 3, 3, 0, 0, 1, 0, 4, 2, 3, 3, 0, 3, 4, 1, 3, 0, 3, 0, 1, 0, 2, 1, 4, 1, 2, 3, 0, 1, 2, 4, 0, 1, 3, 4, 0, 1, 3, 4, 1, 1, 0, 0, 1, 2, 2, 3, 3, 2, 0, 0, 1, 2, 4, 1, 0, 3, 4, 1, 1, 0, 2, 3, 4, 1, 2, 4, 1, 4, 2, 0, 4, 1, 0, 2, 3, 3, 0, 1, 2, 3, 4, 0, 1, 2, 3, 4, 0, 1, 2, 3, 1, 0, 1, 0, 4, 1, 3, 4, 4, 0, 1, 2, 2, 0, 3, 3, 3, 1, 1, 0, 1, 0, 0, 2, 1, 1, 3, 2, 4, 0, 2, 0, 0, 3, 1, 3, 2, 4, 4, 3, 2, 2, 3, 2, 4, 1, 2, 0, 1, 2, 3, 4, 0, 1, 2, 3, 4, 0, 1, 2, 3, 4, 1, 0, 1, 2, 3, 4, 4, 0, 0, 2, 3, 4, 4, 1, 4, 0, 2, 3, 1, 4, 4, 0, 1, 3, 3, 3, 4, 2, 1, 2, 2, 3, 3, 3, 0, 1, 4, 1, 1, 2, 2, 1, 0, 1, 2, 3, 4, 0, 1, 2, 3, 4, 0, 1, 2, 3, 4, 0, 0, 1, 2, 3, 4, 1, 1, 1, 4, 0, 0, 1, 1, 3, 3, 3, 1, 1, 3, 0, 2, 0, 4, 3, 4, 1, 0, 3, 1, 4, 2, 0, 0, 1, 2, 3, 1, 2, 2, 0, 1, 2, 3, 4, 0, 1, 2, 3, 4, 0, 1, 2, 3, 4, 4, 1, 4, 0, 3, 4, 3, 2, 2, 0, 0, 3, 1, 0, 3, 0, 4, 4, 2, 1, 1, 2, 4, 3, 4, 3, 0, 4, 1, 1, 3, 2, 1, 0, 0, 1, 2, 3, 4, 0, 1, 2, 3, 4, 0, 1, 2, 3, 4, 0, 3, 2, 4, 1, 1, 2, 3, 1, 1, 1, 2, 1, 2, 0, 2, 3, 4, 0, 4, 2, 4, 3, 4, 2, 1, 1, 0, 2, 3, 3, 0, 3, 2, 1, 0, 1, 0, 1, 2, 3, 4, 0, 1, 2, 3, 4, 4, 1, 3, 4, 4, 0, 1, 2, 2, 0, 3, 3, 3, 1, 4, 0, 1, 0, 0, 2, 1, 1, 4, 0, 0, 3, 1, 2, 4, 4, 3, 4, 1, 2, 0, 1, 2, 3, 4, 0, 1, 2, 3, 4]\n"
          ],
          "name": "stdout"
        }
      ]
    },
    {
      "cell_type": "code",
      "metadata": {
        "id": "stoCBTXpOGeZ",
        "colab_type": "code",
        "outputId": "e9035509-b244-4753-80d6-cbf0c7da13fe",
        "colab": {
          "base_uri": "https://localhost:8080/",
          "height": 259
        }
      },
      "source": [
        "from sklearn.metrics import accuracy_score,classification_report\n",
        "acc = accuracy_score(y_test_u5,out)\n",
        "report=classification_report(y_test_u5,out)\n",
        "print(\"This is the obtained accuracy {}%\".format(acc*100))\n",
        "print(\"This is the report with the detailed scoring of F1 scores,precision & accuracy:-\")\n",
        "print(report)"
      ],
      "execution_count": 90,
      "outputs": [
        {
          "output_type": "stream",
          "text": [
            "This is the obtained accuracy 99.66919634170071%\n",
            "This is the report with the detailed scoring of F1 scores,precision & accuracy:-\n",
            "              precision    recall  f1-score   support\n",
            "\n",
            "           0       1.00      1.00      1.00       980\n",
            "           1       1.00      1.00      1.00      1135\n",
            "           2       1.00      0.99      0.99      1032\n",
            "           3       0.99      1.00      1.00      1010\n",
            "           4       1.00      1.00      1.00       982\n",
            "\n",
            "    accuracy                           1.00      5139\n",
            "   macro avg       1.00      1.00      1.00      5139\n",
            "weighted avg       1.00      1.00      1.00      5139\n",
            "\n"
          ],
          "name": "stdout"
        }
      ]
    },
    {
      "cell_type": "markdown",
      "metadata": {
        "colab_type": "text",
        "id": "8aUzOh9m5sX-"
      },
      "source": [
        "## Question 10"
      ]
    },
    {
      "cell_type": "markdown",
      "metadata": {
        "colab_type": "text",
        "id": "srd-YYNH5sX-"
      },
      "source": [
        "## Transfer learning\n",
        "Now we will apply this model on second dataset (5-9 digits)\n",
        "\n",
        "- fix the first convolution layers so that the weights in the convolution layers dont get updated in the process of training\n",
        "- get the second dataset\n",
        "- train the last 2 dense layers\n",
        "- predict the accuracy and loss"
      ]
    },
    {
      "cell_type": "markdown",
      "metadata": {
        "colab_type": "text",
        "id": "KvhdH7D55sYA"
      },
      "source": [
        "### Make only dense layers trainable\n",
        "- set trainalble = False for all layers other than Dense layers"
      ]
    },
    {
      "cell_type": "code",
      "metadata": {
        "colab_type": "code",
        "id": "brN7VZHFaEJ4",
        "colab": {
          "base_uri": "https://localhost:8080/",
          "height": 34
        },
        "outputId": "2430bc95-569c-4db9-d6bc-8ab94c1e1bf3"
      },
      "source": [
        "print(\"The no. of layers in the model ==>\",len(model.layers))"
      ],
      "execution_count": 91,
      "outputs": [
        {
          "output_type": "stream",
          "text": [
            "The no. of layers in the model ==> 7\n"
          ],
          "name": "stdout"
        }
      ]
    },
    {
      "cell_type": "code",
      "metadata": {
        "id": "W9HgrZZGDVGs",
        "colab_type": "code",
        "colab": {
          "base_uri": "https://localhost:8080/",
          "height": 86
        },
        "outputId": "65400afb-6d76-4df0-c41a-4b73de69ab76"
      },
      "source": [
        "print(\"Checking the layers since the Conv layers has to be freezed\")\n",
        "model.layers[:3]"
      ],
      "execution_count": 92,
      "outputs": [
        {
          "output_type": "stream",
          "text": [
            "Checking the layers since the Conv layers has to be freezed\n"
          ],
          "name": "stdout"
        },
        {
          "output_type": "execute_result",
          "data": {
            "text/plain": [
              "[<tensorflow.python.keras.layers.convolutional.Conv2D at 0x7fb120a77b70>,\n",
              " <tensorflow.python.keras.layers.normalization_v2.BatchNormalization at 0x7fb11f33ecf8>,\n",
              " <tensorflow.python.keras.layers.convolutional.Conv2D at 0x7fb11f851cf8>]"
            ]
          },
          "metadata": {
            "tags": []
          },
          "execution_count": 92
        }
      ]
    },
    {
      "cell_type": "code",
      "metadata": {
        "id": "XO3MTLDuDK3S",
        "colab_type": "code",
        "colab": {
          "base_uri": "https://localhost:8080/",
          "height": 69
        },
        "outputId": "cebe4e96-c36f-4c67-8b4f-0582a84f134c"
      },
      "source": [
        "print(\"Freezing the model..\")\n",
        "for layer in model.layers[:3]:\n",
        "  layer.trainable = False\n",
        "show = pro_gress()  "
      ],
      "execution_count": 93,
      "outputs": [
        {
          "output_type": "stream",
          "text": [
            "Freezing the model..\n"
          ],
          "name": "stdout"
        },
        {
          "output_type": "stream",
          "text": [
            "Processing: 100% |=============================================| Time:  0:00:01\n"
          ],
          "name": "stderr"
        },
        {
          "output_type": "stream",
          "text": [
            "Done!!\n"
          ],
          "name": "stdout"
        }
      ]
    },
    {
      "cell_type": "markdown",
      "metadata": {
        "colab_type": "text",
        "id": "FYR9VGzO5sYE"
      },
      "source": [
        "### Modify data\n",
        "- in your second data, class labels will start from 5 to 9 but for keras.utils.to_categorical the labels should start from 0\n",
        "- so you need to subtract 5 from train and test labels"
      ]
    },
    {
      "cell_type": "code",
      "metadata": {
        "colab_type": "code",
        "id": "lC5W75L35sYF",
        "colab": {
          "base_uri": "https://localhost:8080/",
          "height": 86
        },
        "outputId": "bfa85123-d149-40f7-e590-d7813c06cef9"
      },
      "source": [
        "print(\"Since the requirement of the keras .to_categorical function is that the value should start from 0 , so converting the values..\")\n",
        "y_train_a52 = y_train_a5 - 5\n",
        "y_test_a52 = y_test_a5 - 5\n",
        "show = pro_gress()\n",
        "print(\"Checking the values present in the labels now==>\", np.unique(y_test_a52))"
      ],
      "execution_count": 94,
      "outputs": [
        {
          "output_type": "stream",
          "text": [
            "Since the requirement of the keras .to_categorical function is that the value should start from 0 , so converting the values..\n"
          ],
          "name": "stdout"
        },
        {
          "output_type": "stream",
          "text": [
            "Processing: 100% |=============================================| Time:  0:00:01\n"
          ],
          "name": "stderr"
        },
        {
          "output_type": "stream",
          "text": [
            "Done!!\n",
            "Checking the values present in the labels now==> [0 1 2 3 4]\n"
          ],
          "name": "stdout"
        }
      ]
    },
    {
      "cell_type": "markdown",
      "metadata": {
        "colab_type": "text",
        "id": "YGY3OTBt5sYG"
      },
      "source": [
        "### Reshape data\n",
        "- reshape second dataset\n",
        "- To be able to use the dataset in Keras, we need 4-dims numpy arrays. \n",
        "- reshape features to pass it to a Conv2D layer\n",
        "- channel = 1\n",
        "- reshape features of first dataset only\n",
        "- do not reshape labels"
      ]
    },
    {
      "cell_type": "code",
      "metadata": {
        "colab_type": "code",
        "id": "0V7RUlRD5sYH",
        "colab": {
          "base_uri": "https://localhost:8080/",
          "height": 69
        },
        "outputId": "834025b7-4442-4e61-e987-fc7ff561a868"
      },
      "source": [
        "print(\"Checking the second dataset..\")\n",
        "x_tr1 = X_train_a5.reshape(29404,28,28,1)\n",
        "x_tes1 = X_test_a5.reshape(4861,28,28,1)\n",
        "show = pro_gress()"
      ],
      "execution_count": 95,
      "outputs": [
        {
          "output_type": "stream",
          "text": [
            "Checking the second dataset..\n"
          ],
          "name": "stdout"
        },
        {
          "output_type": "stream",
          "text": [
            "Processing: 100% |=============================================| Time:  0:00:01\n"
          ],
          "name": "stderr"
        },
        {
          "output_type": "stream",
          "text": [
            "Done!!\n"
          ],
          "name": "stdout"
        }
      ]
    },
    {
      "cell_type": "markdown",
      "metadata": {
        "colab_type": "text",
        "id": "c7omqMQH5sYJ"
      },
      "source": [
        "### Normalize data\n",
        "- normalize second data\n",
        "- we must normalize our data as it is always required in neural network models\n",
        "- we can achieve this by dividing the RGB codes to 255 (which is the maximum RGB code minus the minimum RGB code)\n",
        "- normalize X_train and X_test\n",
        "- make sure that the values are float so that we can get decimal points after division"
      ]
    },
    {
      "cell_type": "code",
      "metadata": {
        "colab_type": "code",
        "id": "PEFYNHRp5sYJ",
        "colab": {
          "base_uri": "https://localhost:8080/",
          "height": 69
        },
        "outputId": "50f8f24b-fd75-43f9-bb18-0eec4d408d46"
      },
      "source": [
        "print(\"Normalizing the second dataset..\")\n",
        "x_tr1 = x_tr1/255\n",
        "x_tes1 = x_tes1/255\n",
        "show = pro_gress()"
      ],
      "execution_count": 96,
      "outputs": [
        {
          "output_type": "stream",
          "text": [
            "Normalizing the second dataset..\n"
          ],
          "name": "stdout"
        },
        {
          "output_type": "stream",
          "text": [
            "Processing: 100% |=============================================| Time:  0:00:01\n"
          ],
          "name": "stderr"
        },
        {
          "output_type": "stream",
          "text": [
            "Done!!\n"
          ],
          "name": "stdout"
        }
      ]
    },
    {
      "cell_type": "markdown",
      "metadata": {
        "colab_type": "text",
        "id": "0OfdlF655sYM"
      },
      "source": [
        "### Print shape of data and number of images\n",
        "- print shape of X_train\n",
        "- print number of images in X_train\n",
        "- print number of images in X_test"
      ]
    },
    {
      "cell_type": "code",
      "metadata": {
        "colab_type": "code",
        "id": "bZEkCQ-P5sYO",
        "colab": {
          "base_uri": "https://localhost:8080/",
          "height": 69
        },
        "outputId": "43f1ccef-fead-479f-c991-015c4210d782"
      },
      "source": [
        "print(\"The shape of X_train having digits below 5 is:==>\",x_tr1.shape)\n",
        "print(\"The number of images in X_train is:==>\",x_tr1.shape[0])\n",
        "print(\"The number of images in X_test is:==>\",x_tes1.shape[0])"
      ],
      "execution_count": 97,
      "outputs": [
        {
          "output_type": "stream",
          "text": [
            "The shape of X_train having digits below 5 is:==> (29404, 28, 28, 1)\n",
            "The number of images in X_train is:==> 29404\n",
            "The number of images in X_test is:==> 4861\n"
          ],
          "name": "stdout"
        }
      ]
    },
    {
      "cell_type": "markdown",
      "metadata": {
        "colab_type": "text",
        "id": "c_3-0Qwo5sYQ"
      },
      "source": [
        "### One-hot encode the class vector\n",
        "- convert class vectors (integers) to binary class matrix\n",
        "- convert y_train and y_test\n",
        "- number of classes: 5\n",
        "- we are doing this to use categorical_crossentropy as loss\n",
        "\n",
        "Hint: you can use tensorflow.keras.utils.to_categorical"
      ]
    },
    {
      "cell_type": "code",
      "metadata": {
        "colab_type": "code",
        "id": "k46Me5Re5sYR",
        "colab": {
          "base_uri": "https://localhost:8080/",
          "height": 69
        },
        "outputId": "50c1290c-3a56-4da2-ed47-233c6dec96f8"
      },
      "source": [
        "print(\"One hot encoding the labels of 2nd dataset now..\")\n",
        "y_train_a51 = tf.keras.utils.to_categorical(y_train_a52,num_classes=5)\n",
        "y_test_a51 = tf.keras.utils.to_categorical(y_test_a52,num_classes=5)\n",
        "show = pro_gress()"
      ],
      "execution_count": 98,
      "outputs": [
        {
          "output_type": "stream",
          "text": [
            "One hot encoding the labels of 2nd dataset now..\n"
          ],
          "name": "stdout"
        },
        {
          "output_type": "stream",
          "text": [
            "Processing: 100% |=============================================| Time:  0:00:01\n"
          ],
          "name": "stderr"
        },
        {
          "output_type": "stream",
          "text": [
            "Done!!\n"
          ],
          "name": "stdout"
        }
      ]
    },
    {
      "cell_type": "markdown",
      "metadata": {
        "colab_type": "text",
        "id": "D9xEoW515sYS"
      },
      "source": [
        "### Fit the model\n",
        "- give train data - features and labels\n",
        "- batch size: 128\n",
        "- epochs: 10\n",
        "- give validation data - features and labels"
      ]
    },
    {
      "cell_type": "code",
      "metadata": {
        "id": "T0xODLN7JoGO",
        "colab_type": "code",
        "colab": {}
      },
      "source": [
        "model.compile(optimizer='sgd',loss='categorical_crossentropy',metrics=['accuracy'])"
      ],
      "execution_count": 0,
      "outputs": []
    },
    {
      "cell_type": "code",
      "metadata": {
        "id": "c7TGvxGvJhtM",
        "colab_type": "code",
        "colab": {
          "base_uri": "https://localhost:8080/",
          "height": 397
        },
        "outputId": "c7696086-a386-4a3d-d446-4b857f1b2789"
      },
      "source": [
        "model.summary()"
      ],
      "execution_count": 100,
      "outputs": [
        {
          "output_type": "stream",
          "text": [
            "Model: \"sequential_1\"\n",
            "_________________________________________________________________\n",
            "Layer (type)                 Output Shape              Param #   \n",
            "=================================================================\n",
            "conv2d_2 (Conv2D)            (None, 26, 26, 32)        320       \n",
            "_________________________________________________________________\n",
            "batch_normalization_1 (Batch (None, 26, 26, 32)        128       \n",
            "_________________________________________________________________\n",
            "conv2d_3 (Conv2D)            (None, 24, 24, 64)        18496     \n",
            "_________________________________________________________________\n",
            "flatten_1 (Flatten)          (None, 36864)             0         \n",
            "_________________________________________________________________\n",
            "dense_2 (Dense)              (None, 128)               4718720   \n",
            "_________________________________________________________________\n",
            "dropout_1 (Dropout)          (None, 128)               0         \n",
            "_________________________________________________________________\n",
            "dense_3 (Dense)              (None, 5)                 645       \n",
            "=================================================================\n",
            "Total params: 4,738,309\n",
            "Trainable params: 4,719,365\n",
            "Non-trainable params: 18,944\n",
            "_________________________________________________________________\n"
          ],
          "name": "stdout"
        }
      ]
    },
    {
      "cell_type": "code",
      "metadata": {
        "colab_type": "code",
        "id": "B6f-XAc-5sYT",
        "colab": {
          "base_uri": "https://localhost:8080/",
          "height": 397
        },
        "outputId": "cf1ce7e1-d675-479f-d492-0e6aaf09c164"
      },
      "source": [
        "model.fit(x_tr1,y_train_a51,batch_size=128,epochs=10,validation_data=(x_tes1,y_test_a51))"
      ],
      "execution_count": 101,
      "outputs": [
        {
          "output_type": "stream",
          "text": [
            "Train on 29404 samples, validate on 4861 samples\n",
            "Epoch 1/10\n",
            "29404/29404 [==============================] - 2s 53us/sample - loss: 0.2082 - accuracy: 0.9361 - val_loss: 0.0668 - val_accuracy: 0.9778\n",
            "Epoch 2/10\n",
            "29404/29404 [==============================] - 1s 41us/sample - loss: 0.0748 - accuracy: 0.9773 - val_loss: 0.0499 - val_accuracy: 0.9856\n",
            "Epoch 3/10\n",
            "29404/29404 [==============================] - 1s 41us/sample - loss: 0.0554 - accuracy: 0.9830 - val_loss: 0.0416 - val_accuracy: 0.9862\n",
            "Epoch 4/10\n",
            "29404/29404 [==============================] - 1s 41us/sample - loss: 0.0447 - accuracy: 0.9870 - val_loss: 0.0381 - val_accuracy: 0.9883\n",
            "Epoch 5/10\n",
            "29404/29404 [==============================] - 1s 40us/sample - loss: 0.0378 - accuracy: 0.9886 - val_loss: 0.0367 - val_accuracy: 0.9881\n",
            "Epoch 6/10\n",
            "29404/29404 [==============================] - 1s 40us/sample - loss: 0.0322 - accuracy: 0.9904 - val_loss: 0.0326 - val_accuracy: 0.9885\n",
            "Epoch 7/10\n",
            "29404/29404 [==============================] - 1s 40us/sample - loss: 0.0288 - accuracy: 0.9917 - val_loss: 0.0323 - val_accuracy: 0.9891\n",
            "Epoch 8/10\n",
            "29404/29404 [==============================] - 1s 40us/sample - loss: 0.0262 - accuracy: 0.9920 - val_loss: 0.0289 - val_accuracy: 0.9907\n",
            "Epoch 9/10\n",
            "29404/29404 [==============================] - 1s 40us/sample - loss: 0.0223 - accuracy: 0.9938 - val_loss: 0.0277 - val_accuracy: 0.9914\n",
            "Epoch 10/10\n",
            "29404/29404 [==============================] - 1s 40us/sample - loss: 0.0209 - accuracy: 0.9940 - val_loss: 0.0277 - val_accuracy: 0.9914\n"
          ],
          "name": "stdout"
        },
        {
          "output_type": "execute_result",
          "data": {
            "text/plain": [
              "<tensorflow.python.keras.callbacks.History at 0x7fb11fa7e240>"
            ]
          },
          "metadata": {
            "tags": []
          },
          "execution_count": 101
        }
      ]
    },
    {
      "cell_type": "markdown",
      "metadata": {
        "colab_type": "text",
        "id": "85ginrII5sYV"
      },
      "source": [
        "### Evaluate model\n",
        "- evaluate your model and get accuracy\n",
        "- use test features and labels"
      ]
    },
    {
      "cell_type": "code",
      "metadata": {
        "colab_type": "code",
        "id": "k11-vrsm5sYW",
        "colab": {}
      },
      "source": [
        "y_pred1 = model.predict(x_tes1)"
      ],
      "execution_count": 0,
      "outputs": []
    },
    {
      "cell_type": "code",
      "metadata": {
        "id": "T_l4_xRXKYx6",
        "colab_type": "code",
        "colab": {
          "base_uri": "https://localhost:8080/",
          "height": 54
        },
        "outputId": "671db0bc-ea0d-4ca7-bec2-0c73abdcbd21"
      },
      "source": [
        "out1 = []\n",
        "for i1 in y_pred1:\n",
        "  out1.append(np.argmax(i1))\n",
        "print(out1)  "
      ],
      "execution_count": 103,
      "outputs": [
        {
          "output_type": "stream",
          "text": [
            "[2, 4, 0, 4, 1, 4, 0, 4, 2, 4, 1, 1, 0, 2, 2, 2, 2, 0, 1, 0, 0, 1, 4, 0, 2, 3, 4, 2, 1, 2, 4, 2, 4, 2, 2, 1, 2, 3, 2, 1, 1, 4, 2, 1, 4, 1, 0, 4, 4, 4, 3, 2, 4, 2, 4, 0, 2, 1, 2, 4, 0, 3, 0, 1, 1, 0, 2, 3, 1, 1, 2, 2, 3, 4, 4, 0, 0, 0, 1, 1, 0, 1, 0, 0, 2, 2, 3, 3, 3, 0, 3, 4, 0, 4, 1, 1, 4, 0, 4, 0, 4, 4, 1, 0, 0, 2, 2, 3, 2, 3, 3, 2, 4, 0, 4, 3, 2, 4, 0, 2, 2, 3, 1, 3, 0, 2, 2, 4, 3, 3, 4, 4, 3, 4, 2, 0, 4, 1, 0, 3, 4, 3, 2, 2, 4, 1, 0, 0, 4, 4, 2, 0, 4, 2, 3, 1, 0, 1, 3, 0, 0, 0, 1, 3, 0, 2, 4, 1, 0, 1, 0, 1, 2, 3, 3, 0, 2, 1, 1, 4, 3, 1, 4, 0, 0, 3, 3, 0, 2, 2, 0, 2, 4, 2, 4, 4, 4, 3, 3, 0, 4, 3, 3, 2, 1, 1, 1, 4, 4, 1, 3, 0, 1, 1, 1, 3, 3, 2, 0, 3, 4, 1, 3, 0, 4, 4, 2, 0, 3, 4, 4, 0, 2, 3, 4, 1, 4, 0, 1, 0, 2, 1, 1, 0, 3, 4, 2, 3, 4, 1, 3, 0, 3, 3, 2, 2, 3, 2, 2, 4, 1, 4, 4, 3, 1, 1, 0, 3, 4, 2, 3, 3, 2, 1, 0, 3, 4, 1, 3, 4, 4, 1, 3, 1, 3, 0, 2, 3, 1, 4, 2, 0, 3, 1, 1, 2, 4, 4, 3, 4, 2, 0, 4, 3, 0, 2, 1, 2, 0, 3, 2, 4, 3, 1, 2, 2, 4, 4, 0, 2, 4, 2, 1, 4, 2, 3, 1, 2, 3, 0, 3, 0, 2, 2, 2, 4, 3, 0, 0, 3, 3, 3, 1, 2, 1, 2, 1, 4, 1, 0, 1, 2, 0, 2, 4, 4, 3, 0, 1, 2, 4, 0, 0, 3, 0, 1, 3, 4, 0, 3, 0, 3, 3, 3, 2, 0, 4, 1, 1, 1, 2, 2, 2, 4, 1, 3, 2, 2, 2, 2, 2, 2, 0, 0, 2, 1, 1, 4, 3, 0, 0, 1, 3, 4, 3, 3, 3, 3, 2, 4, 1, 1, 4, 0, 2, 3, 1, 4, 2, 2, 4, 3, 3, 2, 4, 2, 0, 0, 3, 1, 1, 2, 1, 1, 2, 4, 2, 0, 1, 4, 0, 2, 3, 4, 1, 4, 0, 1, 0, 3, 1, 2, 1, 4, 3, 4, 4, 0, 4, 2, 3, 2, 4, 0, 1, 3, 2, 0, 3, 3, 0, 3, 1, 3, 0, 3, 4, 0, 4, 3, 2, 4, 4, 3, 0, 2, 0, 3, 1, 4, 0, 1, 4, 0, 4, 0, 4, 2, 3, 2, 1, 2, 3, 0, 4, 2, 4, 1, 4, 1, 2, 0, 0, 2, 3, 2, 3, 2, 1, 3, 3, 2, 4, 0, 2, 0, 2, 2, 0, 0, 3, 1, 4, 1, 2, 1, 1, 2, 4, 0, 0, 3, 2, 2, 2, 1, 0, 4, 3, 2, 0, 4, 2, 1, 3, 1, 3, 3, 2, 1, 1, 2, 4, 3, 0, 3, 2, 4, 3, 1, 0, 3, 0, 2, 0, 2, 0, 3, 3, 1, 0, 4, 0, 3, 2, 1, 3, 3, 0, 2, 4, 0, 4, 2, 0, 3, 3, 0, 1, 1, 1, 0, 4, 1, 4, 4, 4, 3, 3, 3, 2, 4, 3, 3, 2, 4, 2, 0, 1, 0, 0, 0, 4, 1, 2, 2, 3, 2, 2, 2, 1, 2, 3, 2, 2, 0, 3, 1, 0, 1, 0, 4, 4, 2, 1, 1, 3, 0, 3, 4, 3, 1, 2, 0, 0, 2, 3, 4, 4, 1, 0, 4, 3, 4, 4, 3, 4, 1, 4, 3, 3, 1, 0, 4, 1, 4, 4, 1, 1, 0, 3, 0, 0, 3, 0, 0, 3, 1, 0, 2, 1, 4, 1, 4, 1, 4, 0, 2, 2, 2, 2, 3, 2, 4, 3, 2, 2, 4, 0, 4, 2, 0, 4, 3, 3, 0, 2, 4, 1, 1, 2, 3, 2, 2, 4, 0, 4, 4, 3, 4, 3, 3, 2, 2, 2, 3, 3, 1, 3, 3, 2, 1, 1, 1, 2, 3, 3, 1, 2, 1, 4, 2, 4, 4, 0, 1, 2, 3, 1, 0, 4, 2, 1, 4, 0, 4, 1, 0, 0, 0, 4, 1, 4, 4, 4, 3, 0, 4, 2, 1, 3, 3, 4, 4, 3, 0, 2, 0, 3, 1, 0, 0, 1, 3, 3, 1, 0, 3, 4, 4, 1, 2, 3, 2, 2, 0, 2, 4, 2, 3, 2, 3, 2, 1, 4, 1, 2, 1, 3, 2, 4, 1, 4, 0, 2, 0, 2, 0, 3, 3, 3, 0, 2, 2, 3, 2, 4, 3, 2, 2, 4, 4, 2, 4, 2, 1, 4, 2, 2, 2, 0, 4, 3, 2, 1, 1, 4, 1, 3, 4, 3, 1, 0, 0, 0, 2, 3, 4, 1, 4, 1, 3, 1, 1, 3, 0, 0, 4, 4, 0, 2, 3, 3, 0, 1, 4, 3, 2, 1, 2, 1, 3, 4, 0, 3, 4, 0, 2, 4, 1, 4, 1, 0, 0, 3, 3, 1, 0, 2, 1, 2, 0, 2, 2, 1, 0, 2, 3, 1, 3, 0, 2, 2, 1, 4, 0, 3, 3, 3, 4, 2, 0, 3, 1, 0, 1, 3, 1, 2, 1, 4, 1, 1, 1, 4, 1, 4, 0, 1, 0, 1, 0, 3, 1, 4, 4, 2, 4, 0, 2, 1, 2, 0, 0, 0, 2, 0, 3, 1, 0, 1, 2, 4, 3, 3, 4, 3, 1, 2, 1, 2, 0, 3, 1, 4, 2, 0, 0, 0, 1, 4, 4, 2, 3, 2, 1, 3, 0, 3, 0, 2, 3, 3, 0, 0, 2, 1, 1, 3, 3, 2, 0, 3, 1, 2, 0, 1, 1, 2, 3, 2, 1, 3, 4, 3, 1, 3, 1, 0, 1, 4, 0, 3, 2, 3, 1, 3, 3, 3, 0, 4, 2, 4, 0, 2, 1, 2, 4, 1, 3, 0, 3, 1, 3, 4, 3, 0, 1, 4, 3, 2, 0, 3, 4, 1, 4, 3, 2, 0, 2, 2, 0, 2, 4, 3, 0, 4, 2, 4, 4, 2, 4, 1, 2, 2, 3, 3, 4, 2, 2, 0, 0, 2, 1, 3, 2, 0, 4, 1, 3, 3, 2, 3, 4, 4, 2, 2, 4, 1, 0, 4, 2, 1, 2, 2, 1, 0, 4, 4, 2, 4, 0, 3, 1, 1, 4, 3, 2, 1, 1, 2, 2, 4, 3, 3, 1, 4, 1, 3, 3, 3, 2, 0, 4, 2, 0, 4, 3, 4, 1, 3, 3, 4, 1, 3, 4, 2, 4, 0, 4, 3, 0, 1, 4, 1, 0, 2, 1, 1, 3, 1, 1, 3, 1, 4, 2, 0, 4, 4, 2, 2, 1, 2, 1, 0, 2, 4, 4, 4, 2, 2, 1, 3, 2, 0, 4, 0, 3, 2, 2, 0, 0, 4, 1, 1, 4, 2, 0, 1, 3, 4, 0, 0, 2, 4, 3, 3, 0, 0, 0, 0, 3, 1, 2, 2, 2, 2, 0, 4, 0, 0, 2, 2, 3, 1, 0, 4, 3, 4, 0, 2, 4, 2, 2, 0, 3, 3, 1, 4, 0, 2, 0, 2, 3, 1, 0, 3, 0, 3, 1, 2, 2, 4, 3, 4, 3, 2, 1, 0, 2, 4, 3, 1, 0, 1, 2, 2, 3, 0, 0, 2, 1, 4, 1, 0, 4, 0, 0, 3, 4, 4, 2, 4, 0, 0, 2, 1, 2, 1, 1, 4, 1, 3, 0, 1, 2, 1, 4, 2, 1, 1, 3, 4, 2, 0, 3, 2, 1, 1, 1, 4, 3, 1, 4, 1, 1, 0, 4, 0, 0, 3, 0, 4, 1, 3, 0, 1, 4, 3, 1, 1, 0, 0, 3, 1, 0, 2, 3, 0, 4, 0, 2, 2, 1, 0, 1, 1, 0, 2, 3, 2, 0, 2, 2, 2, 4, 1, 3, 0, 2, 3, 4, 0, 3, 4, 4, 3, 1, 3, 4, 1, 3, 4, 2, 4, 1, 4, 2, 2, 2, 4, 3, 3, 3, 0, 3, 4, 0, 3, 0, 2, 4, 0, 1, 0, 4, 0, 4, 4, 0, 1, 4, 3, 2, 4, 1, 0, 3, 0, 0, 0, 4, 3, 2, 4, 4, 2, 2, 0, 0, 4, 3, 1, 4, 1, 4, 0, 0, 3, 2, 1, 3, 1, 4, 3, 4, 4, 0, 4, 2, 2, 3, 1, 0, 3, 0, 1, 1, 1, 4, 1, 2, 2, 4, 3, 1, 0, 2, 2, 4, 1, 2, 2, 2, 3, 1, 3, 3, 1, 3, 3, 4, 2, 2, 1, 3, 0, 0, 2, 0, 2, 0, 2, 2, 2, 2, 3, 0, 0, 0, 1, 0, 1, 2, 2, 0, 1, 1, 2, 3, 1, 1, 0, 4, 4, 3, 1, 0, 3, 1, 4, 2, 2, 3, 1, 4, 2, 4, 0, 1, 1, 1, 0, 2, 3, 1, 2, 4, 2, 3, 3, 0, 4, 2, 3, 3, 3, 2, 1, 2, 3, 1, 0, 1, 3, 2, 2, 1, 4, 4, 3, 3, 1, 1, 2, 3, 1, 1, 1, 0, 2, 3, 3, 4, 4, 3, 2, 2, 0, 2, 1, 2, 1, 1, 2, 2, 0, 0, 3, 2, 3, 0, 3, 3, 2, 2, 1, 2, 0, 0, 0, 4, 3, 1, 3, 1, 0, 3, 2, 1, 2, 2, 2, 2, 1, 3, 1, 4, 0, 2, 3, 2, 2, 1, 1, 4, 4, 3, 1, 4, 0, 4, 1, 1, 2, 2, 1, 1, 4, 3, 0, 4, 0, 0, 2, 1, 2, 1, 2, 4, 1, 1, 3, 2, 1, 1, 2, 2, 4, 4, 2, 0, 3, 4, 0, 0, 4, 3, 4, 4, 4, 4, 1, 4, 3, 2, 2, 3, 4, 3, 4, 4, 2, 0, 4, 3, 3, 1, 3, 4, 3, 1, 2, 4, 4, 2, 0, 4, 1, 1, 1, 0, 4, 1, 3, 0, 1, 0, 0, 1, 3, 1, 0, 3, 0, 0, 2, 2, 2, 3, 2, 3, 2, 4, 3, 2, 0, 0, 4, 2, 0, 4, 1, 1, 2, 2, 1, 2, 1, 4, 0, 1, 0, 3, 3, 3, 0, 2, 3, 3, 0, 2, 2, 3, 0, 2, 0, 2, 1, 3, 0, 4, 1, 4, 2, 1, 3, 0, 1, 4, 1, 1, 0, 2, 4, 1, 0, 3, 3, 3, 3, 4, 4, 1, 2, 1, 4, 2, 2, 2, 4, 1, 4, 2, 3, 2, 3, 2, 1, 1, 1, 0, 2, 2, 0, 4, 0, 3, 4, 4, 1, 0, 2, 3, 3, 0, 3, 3, 4, 0, 4, 3, 0, 4, 2, 1, 1, 0, 3, 3, 0, 3, 0, 3, 4, 4, 1, 0, 1, 3, 4, 3, 1, 2, 0, 2, 4, 4, 3, 1, 2, 4, 1, 2, 0, 4, 4, 4, 0, 4, 0, 3, 4, 3, 4, 3, 4, 0, 2, 4, 3, 4, 3, 4, 4, 1, 3, 4, 4, 0, 4, 3, 0, 0, 1, 0, 3, 0, 1, 1, 0, 0, 2, 1, 4, 4, 4, 0, 0, 1, 3, 1, 2, 1, 1, 3, 4, 3, 0, 3, 0, 0, 0, 1, 3, 4, 4, 0, 2, 4, 1, 2, 2, 1, 1, 4, 4, 4, 3, 3, 1, 4, 2, 0, 2, 4, 4, 1, 2, 1, 4, 3, 4, 4, 1, 3, 1, 2, 2, 4, 0, 1, 4, 3, 1, 4, 2, 1, 0, 2, 0, 0, 3, 0, 2, 1, 2, 0, 3, 0, 2, 3, 0, 4, 1, 2, 3, 4, 2, 3, 4, 0, 4, 3, 2, 4, 2, 2, 0, 4, 3, 3, 3, 0, 2, 3, 4, 3, 3, 1, 3, 4, 2, 0, 1, 4, 3, 3, 1, 3, 3, 2, 4, 3, 2, 2, 0, 4, 4, 3, 1, 4, 3, 4, 2, 0, 4, 4, 4, 1, 0, 4, 2, 2, 0, 1, 3, 1, 4, 1, 4, 2, 2, 3, 0, 2, 2, 0, 2, 3, 3, 0, 4, 0, 4, 2, 1, 4, 1, 4, 3, 3, 1, 3, 0, 0, 4, 4, 0, 0, 0, 4, 4, 4, 4, 1, 4, 3, 4, 4, 2, 2, 4, 4, 0, 4, 0, 3, 0, 4, 0, 0, 4, 0, 4, 4, 4, 2, 0, 4, 0, 4, 1, 0, 0, 4, 1, 1, 0, 0, 2, 4, 0, 0, 3, 4, 0, 0, 4, 3, 3, 0, 3, 3, 0, 3, 0, 4, 1, 3, 3, 2, 1, 1, 3, 3, 2, 4, 4, 4, 4, 3, 1, 1, 1, 4, 3, 0, 0, 2, 4, 4, 4, 3, 2, 3, 4, 1, 0, 1, 4, 1, 1, 3, 2, 4, 3, 2, 2, 0, 0, 1, 1, 2, 2, 0, 2, 3, 4, 4, 1, 2, 3, 2, 1, 4, 2, 3, 2, 2, 1, 4, 4, 4, 3, 4, 1, 3, 3, 0, 2, 3, 0, 2, 4, 0, 2, 2, 3, 3, 1, 0, 4, 2, 4, 4, 4, 1, 4, 2, 1, 2, 2, 0, 4, 3, 3, 0, 2, 1, 0, 4, 4, 1, 1, 4, 2, 0, 1, 3, 1, 3, 4, 2, 4, 1, 1, 1, 1, 2, 2, 3, 1, 3, 4, 3, 0, 4, 3, 4, 0, 4, 1, 2, 2, 4, 2, 4, 4, 4, 3, 2, 3, 4, 2, 2, 4, 1, 4, 4, 4, 1, 0, 2, 4, 2, 1, 0, 2, 1, 1, 4, 4, 1, 1, 4, 3, 0, 0, 2, 0, 3, 3, 0, 2, 3, 4, 2, 3, 2, 3, 3, 2, 2, 3, 0, 3, 4, 3, 3, 2, 4, 0, 0, 1, 0, 2, 4, 0, 2, 3, 1, 2, 2, 4, 1, 3, 1, 3, 2, 2, 4, 3, 1, 4, 2, 3, 0, 0, 2, 1, 2, 3, 3, 2, 3, 4, 3, 0, 3, 0, 1, 1, 4, 2, 1, 3, 4, 4, 0, 3, 4, 3, 3, 1, 3, 2, 4, 2, 3, 2, 0, 2, 4, 1, 3, 2, 1, 1, 4, 2, 0, 3, 0, 3, 1, 1, 2, 4, 0, 1, 4, 2, 1, 0, 4, 4, 2, 3, 1, 0, 1, 2, 2, 0, 4, 4, 3, 1, 2, 3, 3, 4, 2, 4, 4, 2, 0, 4, 3, 0, 1, 3, 3, 4, 4, 2, 2, 2, 4, 4, 3, 1, 4, 1, 3, 1, 4, 3, 4, 0, 0, 4, 4, 4, 1, 1, 2, 3, 4, 2, 3, 4, 0, 1, 2, 3, 4, 3, 2, 3, 1, 4, 2, 4, 3, 2, 4, 0, 1, 1, 2, 2, 0, 4, 0, 3, 4, 2, 2, 0, 2, 1, 1, 1, 3, 2, 2, 3, 4, 1, 0, 4, 1, 4, 3, 3, 4, 1, 0, 1, 2, 0, 1, 2, 3, 4, 0, 1, 2, 3, 0, 3, 2, 2, 2, 4, 3, 3, 0, 3, 2, 0, 0, 0, 3, 1, 3, 2, 0, 0, 3, 4, 1, 1, 4, 4, 1, 0, 0, 3, 1, 0, 1, 3, 4, 2, 1, 3, 2, 2, 4, 2, 4, 2, 4, 1, 1, 4, 4, 0, 1, 2, 3, 4, 0, 1, 2, 3, 4, 0, 1, 2, 3, 4, 3, 0, 1, 1, 3, 2, 4, 2, 4, 2, 2, 0, 2, 1, 4, 2, 0, 1, 3, 4, 0, 3, 0, 4, 1, 1, 3, 2, 0, 2, 2, 2, 4, 0, 4, 3, 4, 1, 3, 3, 1, 4, 3, 4, 0, 1, 3, 1, 0, 0, 1, 2, 3, 4, 0, 1, 2, 3, 4, 0, 1, 2, 3, 4, 2, 4, 0, 3, 3, 2, 3, 1, 0, 4, 0, 4, 1, 3, 2, 2, 1, 1, 2, 0, 3, 0, 1, 2, 1, 2, 0, 3, 4, 3, 3, 2, 1, 2, 1, 4, 0, 1, 2, 0, 3, 4, 4, 0, 3, 2, 2, 4, 1, 2, 3, 4, 3, 3, 2, 2, 1, 2, 2, 4, 1, 3, 0, 0, 0, 0, 4, 2, 3, 0, 4, 1, 4, 3, 4, 3, 1, 0, 1, 2, 3, 4, 0, 1, 2, 3, 4, 0, 1, 2, 3, 4, 0, 4, 0, 0, 4, 2, 3, 4, 3, 3, 2, 3, 2, 2, 3, 2, 0, 1, 0, 2, 1, 0, 2, 4, 4, 3, 3, 3, 1, 0, 4, 2, 1, 1, 1, 0, 3, 1, 4, 4, 0, 4, 2, 3, 0, 1, 2, 1, 4, 0, 1, 2, 3, 4, 0, 1, 0, 1, 3, 2, 3, 2, 0, 4, 4, 1, 4, 3, 1, 0, 1, 3, 2, 3, 3, 0, 4, 4, 4, 1, 2, 4, 1, 2, 3, 2, 4, 1, 0, 3, 4, 0, 2, 1, 4, 1, 0, 1, 0, 1, 2, 3, 4, 0, 1, 2, 3, 0, 1, 2, 3, 4, 3, 2, 2, 0, 3, 2, 0, 4, 4, 4, 0, 3, 3, 1, 3, 1, 0, 1, 2, 0, 4, 4, 1, 1, 2, 3, 2, 4, 1, 0, 3, 0, 2, 1, 4, 1, 0, 1, 0, 1, 2, 3, 4, 0, 1, 2, 3, 4, 0, 1, 2, 3, 4, 3, 1, 0, 1, 3, 4, 4, 0, 3, 4, 0, 0, 0, 2, 1, 2, 1, 3, 4, 0, 2, 4, 3, 1, 3, 2, 2, 2, 3, 1, 4, 3, 2, 0, 1, 1, 4, 1, 1, 4, 0, 0, 4, 2, 3, 2, 0, 2, 4, 3, 0, 1, 2, 3, 4, 0, 1, 2, 3, 4, 0, 1, 2, 3, 4, 1, 0, 2, 1, 2, 4, 1, 2, 0, 2, 1, 4, 4, 1, 1, 1, 0, 3, 0, 3, 0, 2, 0, 2, 3, 3, 3, 0, 4, 2, 3, 2, 0, 4, 1, 4, 2, 2, 4, 3, 3, 1, 0, 1, 2, 3, 4, 0, 1, 2, 3, 4, 0, 1, 2, 3, 4, 3, 4, 0, 0, 1, 3, 4, 2, 0, 4, 1, 4, 4, 0, 1, 3, 2, 2, 0, 3, 4, 3, 4, 1, 2, 0, 1, 1, 3, 2, 2, 2, 0, 3, 0, 0, 1, 0, 2, 1, 3, 3, 1, 1, 4, 4, 3, 2, 2, 0, 1, 2, 3, 4, 0, 1, 2, 3, 0, 1, 2, 3, 2, 0, 3, 2, 3, 3, 1, 2, 1, 1, 3, 3, 2, 2, 2, 2, 2, 0, 3, 4, 2, 2, 0, 0, 1, 1, 0, 0, 4, 4, 3, 1, 4, 1, 3, 3, 0, 1, 4, 3, 4, 0, 0, 4, 4, 4, 1, 2, 3, 4, 2, 3, 4, 2, 3, 4, 2, 3, 2, 1, 1, 3, 3, 2, 0, 3, 1, 0, 3, 0, 4, 2, 0, 3, 3, 3, 4, 1, 0, 2, 4, 4, 4, 1, 4, 3, 0, 4, 0, 3, 4, 0, 0, 1, 0, 1, 2, 0, 0, 1, 1, 3, 1, 4, 2, 4, 4, 2, 0, 2, 2, 3, 2, 3, 2, 1, 4, 3, 1, 0, 2, 0, 2, 1, 2, 4, 2, 4, 0, 3, 1, 1, 3, 2, 0, 2, 4, 3, 1, 3, 4, 0, 1, 2, 3, 4, 2, 3, 4, 2, 3, 4, 4, 3, 4, 3, 2, 2, 2, 1, 1, 1, 4, 2, 1, 2, 4, 2, 1, 3, 1, 4, 1, 2, 0, 1, 2, 3, 4, 0, 1, 4, 2, 3, 0, 2, 2, 3, 4, 2, 0, 4, 1, 3, 2, 2, 1, 3, 2, 1, 4, 1, 0, 3, 1, 4, 1, 4, 4, 0, 2, 1, 4, 0, 1, 2, 3, 4, 0, 1, 2, 3, 4, 0, 1, 2, 3, 4, 2, 0, 3, 2, 3, 3, 1, 2, 1, 1, 3, 3, 2, 2, 2, 2, 2, 0, 3, 0, 4, 2, 2, 0, 0, 1, 0, 0, 4, 4, 3, 1, 4, 1, 3, 3, 0, 1, 4, 3, 4, 0, 0, 4, 4, 4, 4, 1, 1, 0, 1, 2, 3, 4, 0, 1, 2, 3, 4, 0, 1, 2, 3, 4, 3, 2, 2, 0, 0, 1, 4, 3, 0, 4, 0, 4, 2, 1, 4, 0, 2, 1, 4, 4, 0, 3, 4, 3, 3, 1, 0, 1, 2, 4, 3, 2, 0, 2, 2, 3, 3, 0, 1, 1, 2, 1, 4, 4, 3, 1, 1, 0, 1, 2, 3, 4, 0, 1, 2, 3, 4, 0, 1, 2, 3, 4, 2, 2, 4, 0, 3, 4, 2, 3, 1, 4, 4, 0, 3, 1, 2, 1, 3, 1, 4, 3, 1, 2, 3, 3, 4, 4, 0, 4, 2, 0, 3, 2, 2, 3, 4, 2, 1, 0, 1, 1, 0, 3, 1, 1, 4, 0, 1, 2, 3, 4, 0, 1, 2, 0, 1, 2, 3, 4, 3, 2, 3, 1, 1, 1, 2, 3, 4, 4, 2, 3, 4, 2, 1, 0, 0, 4, 4, 3, 4, 4, 4, 1, 3, 2, 0, 3, 2, 2, 0, 1, 2, 3, 4, 0, 1, 2, 3, 4, 0, 1, 2, 3, 4, 2, 3, 0, 1, 0, 2, 3, 1, 3, 1, 0, 4, 2, 4, 0, 1, 2, 1, 4, 3, 1, 1, 4, 0, 0, 2, 2, 4, 1, 4, 2, 3, 3, 3, 0, 2, 4, 3, 3, 4, 4, 3, 4, 1, 0, 1, 2, 2, 0, 0, 0, 1, 1, 0, 1, 2, 3, 2, 4, 1, 3, 0, 2, 3, 0, 1, 2, 1, 1, 3, 2, 0, 3, 0, 0, 3, 4, 2, 1, 4, 4, 1, 2, 4, 0, 0, 2, 0, 3, 4, 4, 2, 2, 4, 4, 0, 4, 3, 3, 1, 2, 0, 1, 2, 3, 4, 0, 1, 2, 3, 4, 0, 1, 2, 3, 4, 2, 1, 0, 0, 2, 3, 1, 1, 1, 1, 3, 3, 4, 0, 4, 2, 3, 4, 2, 1, 0, 0, 4, 4, 0, 2, 1, 3, 4, 4, 4, 1, 3, 2, 0, 3, 2, 2, 0, 1, 2, 3, 4, 0, 3, 4, 0, 1, 2, 3, 4, 4, 4, 3, 0, 2, 2, 2, 0, 2, 4, 4, 2, 0, 3, 3, 3, 1, 1, 1, 0, 0, 0, 2, 0, 4, 1, 4, 1, 3, 3, 3, 2, 4, 0, 4, 2, 1, 4, 1, 2, 1, 3, 0, 3, 3, 1, 0, 1, 2, 3, 4, 0, 1, 2, 3, 4, 0, 1, 2, 3, 4, 2, 1, 2, 1, 3, 2, 3, 1, 4, 3, 3, 3, 0, 1, 0, 4, 1, 3, 1, 0, 4, 2, 0, 4, 2, 3, 3, 4, 0, 0, 4, 3, 1, 0, 3, 1, 2, 0, 4, 4, 4, 0, 1, 2, 3, 0, 1, 2, 3, 4, 0, 1, 2, 3, 4, 4, 2, 4, 0, 3, 3, 4, 2, 3, 1, 4, 0, 1, 4, 4, 1, 3, 2, 2, 1, 1, 2, 2, 1, 2, 0, 3, 3, 3, 2, 1, 3, 2, 1, 4, 0, 1, 2, 3, 4, 0, 1, 2, 3, 4, 0, 1, 2, 3, 4, 3, 4, 0, 2, 1, 3, 0, 1, 2, 3, 2, 0, 4, 0, 0, 2, 3, 4, 4, 2, 4, 2, 3, 3, 1, 3, 4, 1, 1, 3, 4, 2, 0, 0, 3, 0, 1, 1, 1, 2, 4, 3, 0, 2, 4, 0, 1, 2, 3, 4, 0, 1, 2, 3, 4, 0, 1, 4, 0, 4, 1, 3, 4, 1, 1, 3, 2, 4, 2, 1, 0, 1, 2, 3, 4, 0, 1, 2, 3, 4, 0, 1, 2, 3, 4, 3, 1, 0, 4, 2, 3, 0, 0, 1, 0, 2, 2, 1, 0, 4, 4, 3, 4, 0, 2, 2, 1, 0, 1, 1, 1, 2, 2, 4, 3, 4, 1, 4, 0, 3, 3, 2, 3, 0, 4, 4, 0, 2, 3, 1, 1, 3, 3, 2, 3, 4, 1, 2, 3, 4, 2, 3, 4, 0, 4, 0, 3, 1, 2, 2, 2, 1, 4, 1, 3, 3, 4, 0, 3, 3, 2, 2, 1, 2, 2, 4, 2, 4, 1, 0, 3, 0, 4, 1, 4, 1, 3, 1, 0, 1, 2, 2, 3, 4, 2, 0, 1, 4, 4, 4, 2, 1, 1, 4, 3, 1, 0, 2, 2, 2, 1, 2, 2, 2, 4, 3, 1, 3, 0, 3, 0, 2, 2, 4, 1, 4, 2, 4, 1, 4, 3, 3, 1, 0, 0, 1, 0, 0, 1, 2, 3, 4, 0, 1, 2, 3, 4, 0, 1, 2, 3, 4, 1, 4, 2, 3, 0, 2, 1, 0, 4, 4, 3, 4, 0, 2, 2, 1, 1, 1, 2, 3, 4, 3, 2, 3, 0, 4, 4, 0, 2, 1, 1, 3, 0, 1, 2, 3, 4, 0, 1, 2, 3, 0, 1, 2, 3, 0, 1, 1, 3, 1, 4, 2, 4, 4, 4, 0, 1, 2, 2, 3, 2, 3, 2, 1, 4, 3, 1, 0, 2, 0, 3, 1, 2, 4, 2, 4, 0, 1, 0, 1, 3, 2, 0, 0, 2, 0, 3, 4, 0, 3, 1, 3, 4, 0, 1, 2, 3, 4, 0, 1, 2, 3, 4, 0, 1, 2, 3, 4, 0, 4, 0, 0, 4, 2, 3, 4, 3, 3, 2, 3, 1, 2, 2, 3, 2, 0, 1, 0, 2, 1, 0, 2, 4, 4, 3, 3, 1, 0, 4, 2, 1, 1, 0, 3, 1, 4, 4, 0, 4, 2, 3, 0, 1, 2, 1, 4, 0, 1, 2, 3, 4, 0, 1, 2, 3, 4, 0, 1, 2, 3, 4, 1, 1, 2, 0, 0, 2, 4, 4, 3, 4, 0, 1, 1, 0, 0, 3, 0, 3, 1, 2, 3, 2, 3, 0, 4, 2, 1, 2, 1, 1, 2, 4, 3, 1, 4, 4, 4, 1, 2, 4, 0, 2, 3, 2, 3, 4, 2, 3, 4, 2, 3, 4, 3, 4, 1, 0, 3, 1, 0, 4, 4, 4, 2, 3, 2, 4, 3, 0, 3, 1, 1, 2, 4, 0, 2, 3, 0, 1, 4, 1, 1, 4, 2, 1, 2, 0, 1, 2, 2, 3, 1, 4, 2, 4, 4, 1, 2, 0, 2, 1, 1, 3, 2, 2, 1, 1, 4, 3, 4, 1, 0, 1, 2, 3, 4, 0, 1, 2, 3, 4, 0, 1, 2, 3, 4, 1, 3, 4, 4, 2, 3, 2, 0, 3, 2, 0, 3, 0, 0, 1, 3, 1, 1, 0, 0, 3, 1, 3, 2, 4, 4, 1, 2, 1, 1, 3, 2, 4, 0, 0, 3, 2, 4, 2, 2, 4, 2, 3, 0, 1, 0, 1, 2, 3, 4, 0, 1, 2, 3, 4, 2, 3, 4, 1, 1, 2, 3, 4, 4, 4, 1, 0, 0, 3, 1, 2, 3, 4, 1, 2, 4, 1, 4, 4, 4, 1, 2, 0, 2, 3, 0, 1, 2, 3, 4, 0, 1, 2, 3, 2, 3, 4, 2, 0, 0, 4, 4, 2, 0, 4, 2, 2, 1, 3, 1, 2, 0, 3, 1, 4, 3, 3, 2, 3, 2, 2, 0, 3, 0, 1, 0, 0, 2, 1, 0, 3, 1, 4, 0, 1, 4, 1, 1, 0, 1, 2, 3, 4, 0, 1, 2, 3, 4, 0, 1, 2, 3, 4, 0, 2, 0, 3, 1, 4, 4, 3, 2, 4, 3, 2, 3, 0, 4, 1, 1, 0, 0, 4, 3, 1, 1, 2, 2, 3, 3, 2, 3, 1, 2, 1, 3, 2, 0, 4, 4, 2, 4, 1, 0, 0, 0, 4, 2, 0, 1, 2, 3, 4, 0, 1, 2, 3, 4, 0, 1, 2, 3, 4, 2, 0, 1, 4, 1, 1, 0, 2, 4, 2, 4, 0, 2, 4, 4, 1, 3, 2, 4, 3, 3, 2, 2, 1, 4, 3, 2, 3, 3, 2, 4, 0, 0, 2, 4, 0, 1, 0, 3, 1, 0, 0, 1, 2, 3, 4, 0, 1, 2, 3, 4, 0, 1, 2, 3, 3, 1, 2, 2, 2, 2, 2, 2, 0, 2, 1, 4, 2, 1, 3, 4, 0, 3, 0, 4, 1, 1, 3, 2, 0, 2, 3, 2, 1, 3, 3, 1, 4, 0, 0, 1, 2, 3, 4, 0, 1, 2, 3, 4, 1, 1, 2, 3, 4, 2, 1, 4, 4, 2, 3, 2, 0, 3, 0, 0, 3, 1, 3, 2, 4, 4, 0, 2, 2, 1, 1, 0, 1, 3, 2, 1, 4, 4, 0, 2, 1, 1, 2, 3, 4, 0, 1, 2, 3, 2, 3, 4, 3, 4, 0, 0, 1, 3, 2, 0, 1, 4, 2, 2, 0, 3, 4, 3, 1, 2, 1, 3, 2, 2, 2, 0, 3, 0, 0, 2, 1, 3, 1, 4, 4, 3, 2, 2, 2, 3, 4, 0, 1, 2, 3, 2, 3, 4, 2, 3, 1, 4, 3, 2, 4, 3, 2, 3, 1, 1, 0, 4, 1, 1, 2, 2, 3, 1, 2, 1, 3, 2, 0, 4, 1, 2, 1, 1, 0, 1, 2, 3, 4, 0, 1]\n"
          ],
          "name": "stdout"
        }
      ]
    },
    {
      "cell_type": "code",
      "metadata": {
        "id": "K-slbJ96K92C",
        "colab_type": "code",
        "colab": {
          "base_uri": "https://localhost:8080/",
          "height": 34
        },
        "outputId": "4d8c5e63-934a-4e11-f0c0-b3cf3396006a"
      },
      "source": [
        "len(out1)"
      ],
      "execution_count": 104,
      "outputs": [
        {
          "output_type": "execute_result",
          "data": {
            "text/plain": [
              "4861"
            ]
          },
          "metadata": {
            "tags": []
          },
          "execution_count": 104
        }
      ]
    },
    {
      "cell_type": "code",
      "metadata": {
        "id": "KyoeQEhiKm8M",
        "colab_type": "code",
        "colab": {
          "base_uri": "https://localhost:8080/",
          "height": 34
        },
        "outputId": "f4d099bb-b4a8-4eb3-91df-c339f8c7344b"
      },
      "source": [
        "print(\"Converting back to original labels so as to evaluate the performance.\")\n",
        "out2 = [i1+5 for i1 in out1]"
      ],
      "execution_count": 157,
      "outputs": [
        {
          "output_type": "stream",
          "text": [
            "Converting back to original labels so as to evaluate the performance.\n"
          ],
          "name": "stdout"
        }
      ]
    },
    {
      "cell_type": "code",
      "metadata": {
        "id": "1UnNhbz1Upee",
        "colab_type": "code",
        "colab": {
          "base_uri": "https://localhost:8080/",
          "height": 34
        },
        "outputId": "6e3ad9e9-fb9f-4224-e35d-f9c12ecc50fd"
      },
      "source": [
        "len(out2)"
      ],
      "execution_count": 106,
      "outputs": [
        {
          "output_type": "execute_result",
          "data": {
            "text/plain": [
              "4861"
            ]
          },
          "metadata": {
            "tags": []
          },
          "execution_count": 106
        }
      ]
    },
    {
      "cell_type": "code",
      "metadata": {
        "id": "mbAe5_fZRh5l",
        "colab_type": "code",
        "colab": {
          "base_uri": "https://localhost:8080/",
          "height": 54
        },
        "outputId": "8ec07cc1-50cd-4bfc-87c5-b73e669abcd9"
      },
      "source": [
        "print(out2)"
      ],
      "execution_count": 107,
      "outputs": [
        {
          "output_type": "stream",
          "text": [
            "[7, 9, 5, 9, 6, 9, 5, 9, 7, 9, 6, 6, 5, 7, 7, 7, 7, 5, 6, 5, 5, 6, 9, 5, 7, 8, 9, 7, 6, 7, 9, 7, 9, 7, 7, 6, 7, 8, 7, 6, 6, 9, 7, 6, 9, 6, 5, 9, 9, 9, 8, 7, 9, 7, 9, 5, 7, 6, 7, 9, 5, 8, 5, 6, 6, 5, 7, 8, 6, 6, 7, 7, 8, 9, 9, 5, 5, 5, 6, 6, 5, 6, 5, 5, 7, 7, 8, 8, 8, 5, 8, 9, 5, 9, 6, 6, 9, 5, 9, 5, 9, 9, 6, 5, 5, 7, 7, 8, 7, 8, 8, 7, 9, 5, 9, 8, 7, 9, 5, 7, 7, 8, 6, 8, 5, 7, 7, 9, 8, 8, 9, 9, 8, 9, 7, 5, 9, 6, 5, 8, 9, 8, 7, 7, 9, 6, 5, 5, 9, 9, 7, 5, 9, 7, 8, 6, 5, 6, 8, 5, 5, 5, 6, 8, 5, 7, 9, 6, 5, 6, 5, 6, 7, 8, 8, 5, 7, 6, 6, 9, 8, 6, 9, 5, 5, 8, 8, 5, 7, 7, 5, 7, 9, 7, 9, 9, 9, 8, 8, 5, 9, 8, 8, 7, 6, 6, 6, 9, 9, 6, 8, 5, 6, 6, 6, 8, 8, 7, 5, 8, 9, 6, 8, 5, 9, 9, 7, 5, 8, 9, 9, 5, 7, 8, 9, 6, 9, 5, 6, 5, 7, 6, 6, 5, 8, 9, 7, 8, 9, 6, 8, 5, 8, 8, 7, 7, 8, 7, 7, 9, 6, 9, 9, 8, 6, 6, 5, 8, 9, 7, 8, 8, 7, 6, 5, 8, 9, 6, 8, 9, 9, 6, 8, 6, 8, 5, 7, 8, 6, 9, 7, 5, 8, 6, 6, 7, 9, 9, 8, 9, 7, 5, 9, 8, 5, 7, 6, 7, 5, 8, 7, 9, 8, 6, 7, 7, 9, 9, 5, 7, 9, 7, 6, 9, 7, 8, 6, 7, 8, 5, 8, 5, 7, 7, 7, 9, 8, 5, 5, 8, 8, 8, 6, 7, 6, 7, 6, 9, 6, 5, 6, 7, 5, 7, 9, 9, 8, 5, 6, 7, 9, 5, 5, 8, 5, 6, 8, 9, 5, 8, 5, 8, 8, 8, 7, 5, 9, 6, 6, 6, 7, 7, 7, 9, 6, 8, 7, 7, 7, 7, 7, 7, 5, 5, 7, 6, 6, 9, 8, 5, 5, 6, 8, 9, 8, 8, 8, 8, 7, 9, 6, 6, 9, 5, 7, 8, 6, 9, 7, 7, 9, 8, 8, 7, 9, 7, 5, 5, 8, 6, 6, 7, 6, 6, 7, 9, 7, 5, 6, 9, 5, 7, 8, 9, 6, 9, 5, 6, 5, 8, 6, 7, 6, 9, 8, 9, 9, 5, 9, 7, 8, 7, 9, 5, 6, 8, 7, 5, 8, 8, 5, 8, 6, 8, 5, 8, 9, 5, 9, 8, 7, 9, 9, 8, 5, 7, 5, 8, 6, 9, 5, 6, 9, 5, 9, 5, 9, 7, 8, 7, 6, 7, 8, 5, 9, 7, 9, 6, 9, 6, 7, 5, 5, 7, 8, 7, 8, 7, 6, 8, 8, 7, 9, 5, 7, 5, 7, 7, 5, 5, 8, 6, 9, 6, 7, 6, 6, 7, 9, 5, 5, 8, 7, 7, 7, 6, 5, 9, 8, 7, 5, 9, 7, 6, 8, 6, 8, 8, 7, 6, 6, 7, 9, 8, 5, 8, 7, 9, 8, 6, 5, 8, 5, 7, 5, 7, 5, 8, 8, 6, 5, 9, 5, 8, 7, 6, 8, 8, 5, 7, 9, 5, 9, 7, 5, 8, 8, 5, 6, 6, 6, 5, 9, 6, 9, 9, 9, 8, 8, 8, 7, 9, 8, 8, 7, 9, 7, 5, 6, 5, 5, 5, 9, 6, 7, 7, 8, 7, 7, 7, 6, 7, 8, 7, 7, 5, 8, 6, 5, 6, 5, 9, 9, 7, 6, 6, 8, 5, 8, 9, 8, 6, 7, 5, 5, 7, 8, 9, 9, 6, 5, 9, 8, 9, 9, 8, 9, 6, 9, 8, 8, 6, 5, 9, 6, 9, 9, 6, 6, 5, 8, 5, 5, 8, 5, 5, 8, 6, 5, 7, 6, 9, 6, 9, 6, 9, 5, 7, 7, 7, 7, 8, 7, 9, 8, 7, 7, 9, 5, 9, 7, 5, 9, 8, 8, 5, 7, 9, 6, 6, 7, 8, 7, 7, 9, 5, 9, 9, 8, 9, 8, 8, 7, 7, 7, 8, 8, 6, 8, 8, 7, 6, 6, 6, 7, 8, 8, 6, 7, 6, 9, 7, 9, 9, 5, 6, 7, 8, 6, 5, 9, 7, 6, 9, 5, 9, 6, 5, 5, 5, 9, 6, 9, 9, 9, 8, 5, 9, 7, 6, 8, 8, 9, 9, 8, 5, 7, 5, 8, 6, 5, 5, 6, 8, 8, 6, 5, 8, 9, 9, 6, 7, 8, 7, 7, 5, 7, 9, 7, 8, 7, 8, 7, 6, 9, 6, 7, 6, 8, 7, 9, 6, 9, 5, 7, 5, 7, 5, 8, 8, 8, 5, 7, 7, 8, 7, 9, 8, 7, 7, 9, 9, 7, 9, 7, 6, 9, 7, 7, 7, 5, 9, 8, 7, 6, 6, 9, 6, 8, 9, 8, 6, 5, 5, 5, 7, 8, 9, 6, 9, 6, 8, 6, 6, 8, 5, 5, 9, 9, 5, 7, 8, 8, 5, 6, 9, 8, 7, 6, 7, 6, 8, 9, 5, 8, 9, 5, 7, 9, 6, 9, 6, 5, 5, 8, 8, 6, 5, 7, 6, 7, 5, 7, 7, 6, 5, 7, 8, 6, 8, 5, 7, 7, 6, 9, 5, 8, 8, 8, 9, 7, 5, 8, 6, 5, 6, 8, 6, 7, 6, 9, 6, 6, 6, 9, 6, 9, 5, 6, 5, 6, 5, 8, 6, 9, 9, 7, 9, 5, 7, 6, 7, 5, 5, 5, 7, 5, 8, 6, 5, 6, 7, 9, 8, 8, 9, 8, 6, 7, 6, 7, 5, 8, 6, 9, 7, 5, 5, 5, 6, 9, 9, 7, 8, 7, 6, 8, 5, 8, 5, 7, 8, 8, 5, 5, 7, 6, 6, 8, 8, 7, 5, 8, 6, 7, 5, 6, 6, 7, 8, 7, 6, 8, 9, 8, 6, 8, 6, 5, 6, 9, 5, 8, 7, 8, 6, 8, 8, 8, 5, 9, 7, 9, 5, 7, 6, 7, 9, 6, 8, 5, 8, 6, 8, 9, 8, 5, 6, 9, 8, 7, 5, 8, 9, 6, 9, 8, 7, 5, 7, 7, 5, 7, 9, 8, 5, 9, 7, 9, 9, 7, 9, 6, 7, 7, 8, 8, 9, 7, 7, 5, 5, 7, 6, 8, 7, 5, 9, 6, 8, 8, 7, 8, 9, 9, 7, 7, 9, 6, 5, 9, 7, 6, 7, 7, 6, 5, 9, 9, 7, 9, 5, 8, 6, 6, 9, 8, 7, 6, 6, 7, 7, 9, 8, 8, 6, 9, 6, 8, 8, 8, 7, 5, 9, 7, 5, 9, 8, 9, 6, 8, 8, 9, 6, 8, 9, 7, 9, 5, 9, 8, 5, 6, 9, 6, 5, 7, 6, 6, 8, 6, 6, 8, 6, 9, 7, 5, 9, 9, 7, 7, 6, 7, 6, 5, 7, 9, 9, 9, 7, 7, 6, 8, 7, 5, 9, 5, 8, 7, 7, 5, 5, 9, 6, 6, 9, 7, 5, 6, 8, 9, 5, 5, 7, 9, 8, 8, 5, 5, 5, 5, 8, 6, 7, 7, 7, 7, 5, 9, 5, 5, 7, 7, 8, 6, 5, 9, 8, 9, 5, 7, 9, 7, 7, 5, 8, 8, 6, 9, 5, 7, 5, 7, 8, 6, 5, 8, 5, 8, 6, 7, 7, 9, 8, 9, 8, 7, 6, 5, 7, 9, 8, 6, 5, 6, 7, 7, 8, 5, 5, 7, 6, 9, 6, 5, 9, 5, 5, 8, 9, 9, 7, 9, 5, 5, 7, 6, 7, 6, 6, 9, 6, 8, 5, 6, 7, 6, 9, 7, 6, 6, 8, 9, 7, 5, 8, 7, 6, 6, 6, 9, 8, 6, 9, 6, 6, 5, 9, 5, 5, 8, 5, 9, 6, 8, 5, 6, 9, 8, 6, 6, 5, 5, 8, 6, 5, 7, 8, 5, 9, 5, 7, 7, 6, 5, 6, 6, 5, 7, 8, 7, 5, 7, 7, 7, 9, 6, 8, 5, 7, 8, 9, 5, 8, 9, 9, 8, 6, 8, 9, 6, 8, 9, 7, 9, 6, 9, 7, 7, 7, 9, 8, 8, 8, 5, 8, 9, 5, 8, 5, 7, 9, 5, 6, 5, 9, 5, 9, 9, 5, 6, 9, 8, 7, 9, 6, 5, 8, 5, 5, 5, 9, 8, 7, 9, 9, 7, 7, 5, 5, 9, 8, 6, 9, 6, 9, 5, 5, 8, 7, 6, 8, 6, 9, 8, 9, 9, 5, 9, 7, 7, 8, 6, 5, 8, 5, 6, 6, 6, 9, 6, 7, 7, 9, 8, 6, 5, 7, 7, 9, 6, 7, 7, 7, 8, 6, 8, 8, 6, 8, 8, 9, 7, 7, 6, 8, 5, 5, 7, 5, 7, 5, 7, 7, 7, 7, 8, 5, 5, 5, 6, 5, 6, 7, 7, 5, 6, 6, 7, 8, 6, 6, 5, 9, 9, 8, 6, 5, 8, 6, 9, 7, 7, 8, 6, 9, 7, 9, 5, 6, 6, 6, 5, 7, 8, 6, 7, 9, 7, 8, 8, 5, 9, 7, 8, 8, 8, 7, 6, 7, 8, 6, 5, 6, 8, 7, 7, 6, 9, 9, 8, 8, 6, 6, 7, 8, 6, 6, 6, 5, 7, 8, 8, 9, 9, 8, 7, 7, 5, 7, 6, 7, 6, 6, 7, 7, 5, 5, 8, 7, 8, 5, 8, 8, 7, 7, 6, 7, 5, 5, 5, 9, 8, 6, 8, 6, 5, 8, 7, 6, 7, 7, 7, 7, 6, 8, 6, 9, 5, 7, 8, 7, 7, 6, 6, 9, 9, 8, 6, 9, 5, 9, 6, 6, 7, 7, 6, 6, 9, 8, 5, 9, 5, 5, 7, 6, 7, 6, 7, 9, 6, 6, 8, 7, 6, 6, 7, 7, 9, 9, 7, 5, 8, 9, 5, 5, 9, 8, 9, 9, 9, 9, 6, 9, 8, 7, 7, 8, 9, 8, 9, 9, 7, 5, 9, 8, 8, 6, 8, 9, 8, 6, 7, 9, 9, 7, 5, 9, 6, 6, 6, 5, 9, 6, 8, 5, 6, 5, 5, 6, 8, 6, 5, 8, 5, 5, 7, 7, 7, 8, 7, 8, 7, 9, 8, 7, 5, 5, 9, 7, 5, 9, 6, 6, 7, 7, 6, 7, 6, 9, 5, 6, 5, 8, 8, 8, 5, 7, 8, 8, 5, 7, 7, 8, 5, 7, 5, 7, 6, 8, 5, 9, 6, 9, 7, 6, 8, 5, 6, 9, 6, 6, 5, 7, 9, 6, 5, 8, 8, 8, 8, 9, 9, 6, 7, 6, 9, 7, 7, 7, 9, 6, 9, 7, 8, 7, 8, 7, 6, 6, 6, 5, 7, 7, 5, 9, 5, 8, 9, 9, 6, 5, 7, 8, 8, 5, 8, 8, 9, 5, 9, 8, 5, 9, 7, 6, 6, 5, 8, 8, 5, 8, 5, 8, 9, 9, 6, 5, 6, 8, 9, 8, 6, 7, 5, 7, 9, 9, 8, 6, 7, 9, 6, 7, 5, 9, 9, 9, 5, 9, 5, 8, 9, 8, 9, 8, 9, 5, 7, 9, 8, 9, 8, 9, 9, 6, 8, 9, 9, 5, 9, 8, 5, 5, 6, 5, 8, 5, 6, 6, 5, 5, 7, 6, 9, 9, 9, 5, 5, 6, 8, 6, 7, 6, 6, 8, 9, 8, 5, 8, 5, 5, 5, 6, 8, 9, 9, 5, 7, 9, 6, 7, 7, 6, 6, 9, 9, 9, 8, 8, 6, 9, 7, 5, 7, 9, 9, 6, 7, 6, 9, 8, 9, 9, 6, 8, 6, 7, 7, 9, 5, 6, 9, 8, 6, 9, 7, 6, 5, 7, 5, 5, 8, 5, 7, 6, 7, 5, 8, 5, 7, 8, 5, 9, 6, 7, 8, 9, 7, 8, 9, 5, 9, 8, 7, 9, 7, 7, 5, 9, 8, 8, 8, 5, 7, 8, 9, 8, 8, 6, 8, 9, 7, 5, 6, 9, 8, 8, 6, 8, 8, 7, 9, 8, 7, 7, 5, 9, 9, 8, 6, 9, 8, 9, 7, 5, 9, 9, 9, 6, 5, 9, 7, 7, 5, 6, 8, 6, 9, 6, 9, 7, 7, 8, 5, 7, 7, 5, 7, 8, 8, 5, 9, 5, 9, 7, 6, 9, 6, 9, 8, 8, 6, 8, 5, 5, 9, 9, 5, 5, 5, 9, 9, 9, 9, 6, 9, 8, 9, 9, 7, 7, 9, 9, 5, 9, 5, 8, 5, 9, 5, 5, 9, 5, 9, 9, 9, 7, 5, 9, 5, 9, 6, 5, 5, 9, 6, 6, 5, 5, 7, 9, 5, 5, 8, 9, 5, 5, 9, 8, 8, 5, 8, 8, 5, 8, 5, 9, 6, 8, 8, 7, 6, 6, 8, 8, 7, 9, 9, 9, 9, 8, 6, 6, 6, 9, 8, 5, 5, 7, 9, 9, 9, 8, 7, 8, 9, 6, 5, 6, 9, 6, 6, 8, 7, 9, 8, 7, 7, 5, 5, 6, 6, 7, 7, 5, 7, 8, 9, 9, 6, 7, 8, 7, 6, 9, 7, 8, 7, 7, 6, 9, 9, 9, 8, 9, 6, 8, 8, 5, 7, 8, 5, 7, 9, 5, 7, 7, 8, 8, 6, 5, 9, 7, 9, 9, 9, 6, 9, 7, 6, 7, 7, 5, 9, 8, 8, 5, 7, 6, 5, 9, 9, 6, 6, 9, 7, 5, 6, 8, 6, 8, 9, 7, 9, 6, 6, 6, 6, 7, 7, 8, 6, 8, 9, 8, 5, 9, 8, 9, 5, 9, 6, 7, 7, 9, 7, 9, 9, 9, 8, 7, 8, 9, 7, 7, 9, 6, 9, 9, 9, 6, 5, 7, 9, 7, 6, 5, 7, 6, 6, 9, 9, 6, 6, 9, 8, 5, 5, 7, 5, 8, 8, 5, 7, 8, 9, 7, 8, 7, 8, 8, 7, 7, 8, 5, 8, 9, 8, 8, 7, 9, 5, 5, 6, 5, 7, 9, 5, 7, 8, 6, 7, 7, 9, 6, 8, 6, 8, 7, 7, 9, 8, 6, 9, 7, 8, 5, 5, 7, 6, 7, 8, 8, 7, 8, 9, 8, 5, 8, 5, 6, 6, 9, 7, 6, 8, 9, 9, 5, 8, 9, 8, 8, 6, 8, 7, 9, 7, 8, 7, 5, 7, 9, 6, 8, 7, 6, 6, 9, 7, 5, 8, 5, 8, 6, 6, 7, 9, 5, 6, 9, 7, 6, 5, 9, 9, 7, 8, 6, 5, 6, 7, 7, 5, 9, 9, 8, 6, 7, 8, 8, 9, 7, 9, 9, 7, 5, 9, 8, 5, 6, 8, 8, 9, 9, 7, 7, 7, 9, 9, 8, 6, 9, 6, 8, 6, 9, 8, 9, 5, 5, 9, 9, 9, 6, 6, 7, 8, 9, 7, 8, 9, 5, 6, 7, 8, 9, 8, 7, 8, 6, 9, 7, 9, 8, 7, 9, 5, 6, 6, 7, 7, 5, 9, 5, 8, 9, 7, 7, 5, 7, 6, 6, 6, 8, 7, 7, 8, 9, 6, 5, 9, 6, 9, 8, 8, 9, 6, 5, 6, 7, 5, 6, 7, 8, 9, 5, 6, 7, 8, 5, 8, 7, 7, 7, 9, 8, 8, 5, 8, 7, 5, 5, 5, 8, 6, 8, 7, 5, 5, 8, 9, 6, 6, 9, 9, 6, 5, 5, 8, 6, 5, 6, 8, 9, 7, 6, 8, 7, 7, 9, 7, 9, 7, 9, 6, 6, 9, 9, 5, 6, 7, 8, 9, 5, 6, 7, 8, 9, 5, 6, 7, 8, 9, 8, 5, 6, 6, 8, 7, 9, 7, 9, 7, 7, 5, 7, 6, 9, 7, 5, 6, 8, 9, 5, 8, 5, 9, 6, 6, 8, 7, 5, 7, 7, 7, 9, 5, 9, 8, 9, 6, 8, 8, 6, 9, 8, 9, 5, 6, 8, 6, 5, 5, 6, 7, 8, 9, 5, 6, 7, 8, 9, 5, 6, 7, 8, 9, 7, 9, 5, 8, 8, 7, 8, 6, 5, 9, 5, 9, 6, 8, 7, 7, 6, 6, 7, 5, 8, 5, 6, 7, 6, 7, 5, 8, 9, 8, 8, 7, 6, 7, 6, 9, 5, 6, 7, 5, 8, 9, 9, 5, 8, 7, 7, 9, 6, 7, 8, 9, 8, 8, 7, 7, 6, 7, 7, 9, 6, 8, 5, 5, 5, 5, 9, 7, 8, 5, 9, 6, 9, 8, 9, 8, 6, 5, 6, 7, 8, 9, 5, 6, 7, 8, 9, 5, 6, 7, 8, 9, 5, 9, 5, 5, 9, 7, 8, 9, 8, 8, 7, 8, 7, 7, 8, 7, 5, 6, 5, 7, 6, 5, 7, 9, 9, 8, 8, 8, 6, 5, 9, 7, 6, 6, 6, 5, 8, 6, 9, 9, 5, 9, 7, 8, 5, 6, 7, 6, 9, 5, 6, 7, 8, 9, 5, 6, 5, 6, 8, 7, 8, 7, 5, 9, 9, 6, 9, 8, 6, 5, 6, 8, 7, 8, 8, 5, 9, 9, 9, 6, 7, 9, 6, 7, 8, 7, 9, 6, 5, 8, 9, 5, 7, 6, 9, 6, 5, 6, 5, 6, 7, 8, 9, 5, 6, 7, 8, 5, 6, 7, 8, 9, 8, 7, 7, 5, 8, 7, 5, 9, 9, 9, 5, 8, 8, 6, 8, 6, 5, 6, 7, 5, 9, 9, 6, 6, 7, 8, 7, 9, 6, 5, 8, 5, 7, 6, 9, 6, 5, 6, 5, 6, 7, 8, 9, 5, 6, 7, 8, 9, 5, 6, 7, 8, 9, 8, 6, 5, 6, 8, 9, 9, 5, 8, 9, 5, 5, 5, 7, 6, 7, 6, 8, 9, 5, 7, 9, 8, 6, 8, 7, 7, 7, 8, 6, 9, 8, 7, 5, 6, 6, 9, 6, 6, 9, 5, 5, 9, 7, 8, 7, 5, 7, 9, 8, 5, 6, 7, 8, 9, 5, 6, 7, 8, 9, 5, 6, 7, 8, 9, 6, 5, 7, 6, 7, 9, 6, 7, 5, 7, 6, 9, 9, 6, 6, 6, 5, 8, 5, 8, 5, 7, 5, 7, 8, 8, 8, 5, 9, 7, 8, 7, 5, 9, 6, 9, 7, 7, 9, 8, 8, 6, 5, 6, 7, 8, 9, 5, 6, 7, 8, 9, 5, 6, 7, 8, 9, 8, 9, 5, 5, 6, 8, 9, 7, 5, 9, 6, 9, 9, 5, 6, 8, 7, 7, 5, 8, 9, 8, 9, 6, 7, 5, 6, 6, 8, 7, 7, 7, 5, 8, 5, 5, 6, 5, 7, 6, 8, 8, 6, 6, 9, 9, 8, 7, 7, 5, 6, 7, 8, 9, 5, 6, 7, 8, 5, 6, 7, 8, 7, 5, 8, 7, 8, 8, 6, 7, 6, 6, 8, 8, 7, 7, 7, 7, 7, 5, 8, 9, 7, 7, 5, 5, 6, 6, 5, 5, 9, 9, 8, 6, 9, 6, 8, 8, 5, 6, 9, 8, 9, 5, 5, 9, 9, 9, 6, 7, 8, 9, 7, 8, 9, 7, 8, 9, 7, 8, 7, 6, 6, 8, 8, 7, 5, 8, 6, 5, 8, 5, 9, 7, 5, 8, 8, 8, 9, 6, 5, 7, 9, 9, 9, 6, 9, 8, 5, 9, 5, 8, 9, 5, 5, 6, 5, 6, 7, 5, 5, 6, 6, 8, 6, 9, 7, 9, 9, 7, 5, 7, 7, 8, 7, 8, 7, 6, 9, 8, 6, 5, 7, 5, 7, 6, 7, 9, 7, 9, 5, 8, 6, 6, 8, 7, 5, 7, 9, 8, 6, 8, 9, 5, 6, 7, 8, 9, 7, 8, 9, 7, 8, 9, 9, 8, 9, 8, 7, 7, 7, 6, 6, 6, 9, 7, 6, 7, 9, 7, 6, 8, 6, 9, 6, 7, 5, 6, 7, 8, 9, 5, 6, 9, 7, 8, 5, 7, 7, 8, 9, 7, 5, 9, 6, 8, 7, 7, 6, 8, 7, 6, 9, 6, 5, 8, 6, 9, 6, 9, 9, 5, 7, 6, 9, 5, 6, 7, 8, 9, 5, 6, 7, 8, 9, 5, 6, 7, 8, 9, 7, 5, 8, 7, 8, 8, 6, 7, 6, 6, 8, 8, 7, 7, 7, 7, 7, 5, 8, 5, 9, 7, 7, 5, 5, 6, 5, 5, 9, 9, 8, 6, 9, 6, 8, 8, 5, 6, 9, 8, 9, 5, 5, 9, 9, 9, 9, 6, 6, 5, 6, 7, 8, 9, 5, 6, 7, 8, 9, 5, 6, 7, 8, 9, 8, 7, 7, 5, 5, 6, 9, 8, 5, 9, 5, 9, 7, 6, 9, 5, 7, 6, 9, 9, 5, 8, 9, 8, 8, 6, 5, 6, 7, 9, 8, 7, 5, 7, 7, 8, 8, 5, 6, 6, 7, 6, 9, 9, 8, 6, 6, 5, 6, 7, 8, 9, 5, 6, 7, 8, 9, 5, 6, 7, 8, 9, 7, 7, 9, 5, 8, 9, 7, 8, 6, 9, 9, 5, 8, 6, 7, 6, 8, 6, 9, 8, 6, 7, 8, 8, 9, 9, 5, 9, 7, 5, 8, 7, 7, 8, 9, 7, 6, 5, 6, 6, 5, 8, 6, 6, 9, 5, 6, 7, 8, 9, 5, 6, 7, 5, 6, 7, 8, 9, 8, 7, 8, 6, 6, 6, 7, 8, 9, 9, 7, 8, 9, 7, 6, 5, 5, 9, 9, 8, 9, 9, 9, 6, 8, 7, 5, 8, 7, 7, 5, 6, 7, 8, 9, 5, 6, 7, 8, 9, 5, 6, 7, 8, 9, 7, 8, 5, 6, 5, 7, 8, 6, 8, 6, 5, 9, 7, 9, 5, 6, 7, 6, 9, 8, 6, 6, 9, 5, 5, 7, 7, 9, 6, 9, 7, 8, 8, 8, 5, 7, 9, 8, 8, 9, 9, 8, 9, 6, 5, 6, 7, 7, 5, 5, 5, 6, 6, 5, 6, 7, 8, 7, 9, 6, 8, 5, 7, 8, 5, 6, 7, 6, 6, 8, 7, 5, 8, 5, 5, 8, 9, 7, 6, 9, 9, 6, 7, 9, 5, 5, 7, 5, 8, 9, 9, 7, 7, 9, 9, 5, 9, 8, 8, 6, 7, 5, 6, 7, 8, 9, 5, 6, 7, 8, 9, 5, 6, 7, 8, 9, 7, 6, 5, 5, 7, 8, 6, 6, 6, 6, 8, 8, 9, 5, 9, 7, 8, 9, 7, 6, 5, 5, 9, 9, 5, 7, 6, 8, 9, 9, 9, 6, 8, 7, 5, 8, 7, 7, 5, 6, 7, 8, 9, 5, 8, 9, 5, 6, 7, 8, 9, 9, 9, 8, 5, 7, 7, 7, 5, 7, 9, 9, 7, 5, 8, 8, 8, 6, 6, 6, 5, 5, 5, 7, 5, 9, 6, 9, 6, 8, 8, 8, 7, 9, 5, 9, 7, 6, 9, 6, 7, 6, 8, 5, 8, 8, 6, 5, 6, 7, 8, 9, 5, 6, 7, 8, 9, 5, 6, 7, 8, 9, 7, 6, 7, 6, 8, 7, 8, 6, 9, 8, 8, 8, 5, 6, 5, 9, 6, 8, 6, 5, 9, 7, 5, 9, 7, 8, 8, 9, 5, 5, 9, 8, 6, 5, 8, 6, 7, 5, 9, 9, 9, 5, 6, 7, 8, 5, 6, 7, 8, 9, 5, 6, 7, 8, 9, 9, 7, 9, 5, 8, 8, 9, 7, 8, 6, 9, 5, 6, 9, 9, 6, 8, 7, 7, 6, 6, 7, 7, 6, 7, 5, 8, 8, 8, 7, 6, 8, 7, 6, 9, 5, 6, 7, 8, 9, 5, 6, 7, 8, 9, 5, 6, 7, 8, 9, 8, 9, 5, 7, 6, 8, 5, 6, 7, 8, 7, 5, 9, 5, 5, 7, 8, 9, 9, 7, 9, 7, 8, 8, 6, 8, 9, 6, 6, 8, 9, 7, 5, 5, 8, 5, 6, 6, 6, 7, 9, 8, 5, 7, 9, 5, 6, 7, 8, 9, 5, 6, 7, 8, 9, 5, 6, 9, 5, 9, 6, 8, 9, 6, 6, 8, 7, 9, 7, 6, 5, 6, 7, 8, 9, 5, 6, 7, 8, 9, 5, 6, 7, 8, 9, 8, 6, 5, 9, 7, 8, 5, 5, 6, 5, 7, 7, 6, 5, 9, 9, 8, 9, 5, 7, 7, 6, 5, 6, 6, 6, 7, 7, 9, 8, 9, 6, 9, 5, 8, 8, 7, 8, 5, 9, 9, 5, 7, 8, 6, 6, 8, 8, 7, 8, 9, 6, 7, 8, 9, 7, 8, 9, 5, 9, 5, 8, 6, 7, 7, 7, 6, 9, 6, 8, 8, 9, 5, 8, 8, 7, 7, 6, 7, 7, 9, 7, 9, 6, 5, 8, 5, 9, 6, 9, 6, 8, 6, 5, 6, 7, 7, 8, 9, 7, 5, 6, 9, 9, 9, 7, 6, 6, 9, 8, 6, 5, 7, 7, 7, 6, 7, 7, 7, 9, 8, 6, 8, 5, 8, 5, 7, 7, 9, 6, 9, 7, 9, 6, 9, 8, 8, 6, 5, 5, 6, 5, 5, 6, 7, 8, 9, 5, 6, 7, 8, 9, 5, 6, 7, 8, 9, 6, 9, 7, 8, 5, 7, 6, 5, 9, 9, 8, 9, 5, 7, 7, 6, 6, 6, 7, 8, 9, 8, 7, 8, 5, 9, 9, 5, 7, 6, 6, 8, 5, 6, 7, 8, 9, 5, 6, 7, 8, 5, 6, 7, 8, 5, 6, 6, 8, 6, 9, 7, 9, 9, 9, 5, 6, 7, 7, 8, 7, 8, 7, 6, 9, 8, 6, 5, 7, 5, 8, 6, 7, 9, 7, 9, 5, 6, 5, 6, 8, 7, 5, 5, 7, 5, 8, 9, 5, 8, 6, 8, 9, 5, 6, 7, 8, 9, 5, 6, 7, 8, 9, 5, 6, 7, 8, 9, 5, 9, 5, 5, 9, 7, 8, 9, 8, 8, 7, 8, 6, 7, 7, 8, 7, 5, 6, 5, 7, 6, 5, 7, 9, 9, 8, 8, 6, 5, 9, 7, 6, 6, 5, 8, 6, 9, 9, 5, 9, 7, 8, 5, 6, 7, 6, 9, 5, 6, 7, 8, 9, 5, 6, 7, 8, 9, 5, 6, 7, 8, 9, 6, 6, 7, 5, 5, 7, 9, 9, 8, 9, 5, 6, 6, 5, 5, 8, 5, 8, 6, 7, 8, 7, 8, 5, 9, 7, 6, 7, 6, 6, 7, 9, 8, 6, 9, 9, 9, 6, 7, 9, 5, 7, 8, 7, 8, 9, 7, 8, 9, 7, 8, 9, 8, 9, 6, 5, 8, 6, 5, 9, 9, 9, 7, 8, 7, 9, 8, 5, 8, 6, 6, 7, 9, 5, 7, 8, 5, 6, 9, 6, 6, 9, 7, 6, 7, 5, 6, 7, 7, 8, 6, 9, 7, 9, 9, 6, 7, 5, 7, 6, 6, 8, 7, 7, 6, 6, 9, 8, 9, 6, 5, 6, 7, 8, 9, 5, 6, 7, 8, 9, 5, 6, 7, 8, 9, 6, 8, 9, 9, 7, 8, 7, 5, 8, 7, 5, 8, 5, 5, 6, 8, 6, 6, 5, 5, 8, 6, 8, 7, 9, 9, 6, 7, 6, 6, 8, 7, 9, 5, 5, 8, 7, 9, 7, 7, 9, 7, 8, 5, 6, 5, 6, 7, 8, 9, 5, 6, 7, 8, 9, 7, 8, 9, 6, 6, 7, 8, 9, 9, 9, 6, 5, 5, 8, 6, 7, 8, 9, 6, 7, 9, 6, 9, 9, 9, 6, 7, 5, 7, 8, 5, 6, 7, 8, 9, 5, 6, 7, 8, 7, 8, 9, 7, 5, 5, 9, 9, 7, 5, 9, 7, 7, 6, 8, 6, 7, 5, 8, 6, 9, 8, 8, 7, 8, 7, 7, 5, 8, 5, 6, 5, 5, 7, 6, 5, 8, 6, 9, 5, 6, 9, 6, 6, 5, 6, 7, 8, 9, 5, 6, 7, 8, 9, 5, 6, 7, 8, 9, 5, 7, 5, 8, 6, 9, 9, 8, 7, 9, 8, 7, 8, 5, 9, 6, 6, 5, 5, 9, 8, 6, 6, 7, 7, 8, 8, 7, 8, 6, 7, 6, 8, 7, 5, 9, 9, 7, 9, 6, 5, 5, 5, 9, 7, 5, 6, 7, 8, 9, 5, 6, 7, 8, 9, 5, 6, 7, 8, 9, 7, 5, 6, 9, 6, 6, 5, 7, 9, 7, 9, 5, 7, 9, 9, 6, 8, 7, 9, 8, 8, 7, 7, 6, 9, 8, 7, 8, 8, 7, 9, 5, 5, 7, 9, 5, 6, 5, 8, 6, 5, 5, 6, 7, 8, 9, 5, 6, 7, 8, 9, 5, 6, 7, 8, 8, 6, 7, 7, 7, 7, 7, 7, 5, 7, 6, 9, 7, 6, 8, 9, 5, 8, 5, 9, 6, 6, 8, 7, 5, 7, 8, 7, 6, 8, 8, 6, 9, 5, 5, 6, 7, 8, 9, 5, 6, 7, 8, 9, 6, 6, 7, 8, 9, 7, 6, 9, 9, 7, 8, 7, 5, 8, 5, 5, 8, 6, 8, 7, 9, 9, 5, 7, 7, 6, 6, 5, 6, 8, 7, 6, 9, 9, 5, 7, 6, 6, 7, 8, 9, 5, 6, 7, 8, 7, 8, 9, 8, 9, 5, 5, 6, 8, 7, 5, 6, 9, 7, 7, 5, 8, 9, 8, 6, 7, 6, 8, 7, 7, 7, 5, 8, 5, 5, 7, 6, 8, 6, 9, 9, 8, 7, 7, 7, 8, 9, 5, 6, 7, 8, 7, 8, 9, 7, 8, 6, 9, 8, 7, 9, 8, 7, 8, 6, 6, 5, 9, 6, 6, 7, 7, 8, 6, 7, 6, 8, 7, 5, 9, 6, 7, 6, 6, 5, 6, 7, 8, 9, 5, 6]\n"
          ],
          "name": "stdout"
        }
      ]
    },
    {
      "cell_type": "code",
      "metadata": {
        "id": "Oz9R0JuUR3Sz",
        "colab_type": "code",
        "colab": {
          "base_uri": "https://localhost:8080/",
          "height": 259
        },
        "outputId": "f14f8e9f-b1ee-4766-ac47-e0ec2a3a1fc9"
      },
      "source": [
        "from sklearn.metrics import accuracy_score,classification_report\n",
        "acc0 = accuracy_score(y_test_a5,out2)\n",
        "report0=classification_report(y_test_a5,out2)\n",
        "print(\"This is the obtained accuracy {}%\".format(acc0*100))\n",
        "print(\"This is the report with the detailed scoring of F1 scores,precision & accuracy:-\")\n",
        "print(report0)"
      ],
      "execution_count": 108,
      "outputs": [
        {
          "output_type": "stream",
          "text": [
            "This is the obtained accuracy 99.13598025097716%\n",
            "This is the report with the detailed scoring of F1 scores,precision & accuracy:-\n",
            "              precision    recall  f1-score   support\n",
            "\n",
            "           5       0.99      0.99      0.99       892\n",
            "           6       0.99      0.99      0.99       958\n",
            "           7       0.99      1.00      0.99      1028\n",
            "           8       0.99      0.99      0.99       974\n",
            "           9       0.99      0.99      0.99      1009\n",
            "\n",
            "    accuracy                           0.99      4861\n",
            "   macro avg       0.99      0.99      0.99      4861\n",
            "weighted avg       0.99      0.99      0.99      4861\n",
            "\n"
          ],
          "name": "stdout"
        }
      ]
    },
    {
      "cell_type": "markdown",
      "metadata": {
        "colab_type": "text",
        "id": "dTNhSDqn5sYY"
      },
      "source": [
        "-----------------------------------------------------------------------------"
      ]
    },
    {
      "cell_type": "markdown",
      "metadata": {
        "colab_type": "text",
        "id": "FU-HwvIdH0M-"
      },
      "source": [
        "# Sentiment analysis \n",
        "\n",
        "The objective of the second problem is to perform Sentiment analysis from the tweets collected from the users targeted at various mobile devices.\n",
        "Based on the tweet posted by a user (text), we will classify if the sentiment of the user targeted at a particular mobile device is positive or not."
      ]
    },
    {
      "cell_type": "markdown",
      "metadata": {
        "colab_type": "text",
        "id": "aIWWfNks5sYa"
      },
      "source": [
        "## Question 1"
      ]
    },
    {
      "cell_type": "markdown",
      "metadata": {
        "colab_type": "text",
        "id": "nAQDiZHRH0M_"
      },
      "source": [
        "### Read the data\n",
        "- read tweets.csv\n",
        "- use latin encoding if it gives encoding error while loading"
      ]
    },
    {
      "cell_type": "code",
      "metadata": {
        "id": "_srxKOGFViWe",
        "colab_type": "code",
        "colab": {
          "base_uri": "https://localhost:8080/",
          "height": 124
        },
        "outputId": "abe43345-674b-4ab5-95ca-f75ee7f70f3d"
      },
      "source": [
        "from google.colab import drive\n",
        "drive.mount('/content/drive/')"
      ],
      "execution_count": 109,
      "outputs": [
        {
          "output_type": "stream",
          "text": [
            "Go to this URL in a browser: https://accounts.google.com/o/oauth2/auth?client_id=947318989803-6bn6qk8qdgf4n4g3pfee6491hc0brc4i.apps.googleusercontent.com&redirect_uri=urn%3aietf%3awg%3aoauth%3a2.0%3aoob&response_type=code&scope=email%20https%3a%2f%2fwww.googleapis.com%2fauth%2fdocs.test%20https%3a%2f%2fwww.googleapis.com%2fauth%2fdrive%20https%3a%2f%2fwww.googleapis.com%2fauth%2fdrive.photos.readonly%20https%3a%2f%2fwww.googleapis.com%2fauth%2fpeopleapi.readonly\n",
            "\n",
            "Enter your authorization code:\n",
            "··········\n",
            "Mounted at /content/drive/\n"
          ],
          "name": "stdout"
        }
      ]
    },
    {
      "cell_type": "code",
      "metadata": {
        "colab_type": "code",
        "id": "3eXGIe-SH0NA",
        "colab": {}
      },
      "source": [
        "import pandas as pd\n",
        "df = pd.read_csv('/content/drive/My Drive/AI/Labs/Internal/8th/tweets.csv',encoding='unicode_escape')"
      ],
      "execution_count": 0,
      "outputs": []
    },
    {
      "cell_type": "code",
      "metadata": {
        "id": "zTtK_SSpYmyp",
        "colab_type": "code",
        "colab": {
          "base_uri": "https://localhost:8080/",
          "height": 198
        },
        "outputId": "9a4bc8c7-574c-4b65-8ba1-1ca3f72319d1"
      },
      "source": [
        "df.head()"
      ],
      "execution_count": 111,
      "outputs": [
        {
          "output_type": "execute_result",
          "data": {
            "text/html": [
              "<div>\n",
              "<style scoped>\n",
              "    .dataframe tbody tr th:only-of-type {\n",
              "        vertical-align: middle;\n",
              "    }\n",
              "\n",
              "    .dataframe tbody tr th {\n",
              "        vertical-align: top;\n",
              "    }\n",
              "\n",
              "    .dataframe thead th {\n",
              "        text-align: right;\n",
              "    }\n",
              "</style>\n",
              "<table border=\"1\" class=\"dataframe\">\n",
              "  <thead>\n",
              "    <tr style=\"text-align: right;\">\n",
              "      <th></th>\n",
              "      <th>tweet_text</th>\n",
              "      <th>emotion_in_tweet_is_directed_at</th>\n",
              "      <th>is_there_an_emotion_directed_at_a_brand_or_product</th>\n",
              "    </tr>\n",
              "  </thead>\n",
              "  <tbody>\n",
              "    <tr>\n",
              "      <th>0</th>\n",
              "      <td>.@wesley83 I have a 3G iPhone. After 3 hrs twe...</td>\n",
              "      <td>iPhone</td>\n",
              "      <td>Negative emotion</td>\n",
              "    </tr>\n",
              "    <tr>\n",
              "      <th>1</th>\n",
              "      <td>@jessedee Know about @fludapp ? Awesome iPad/i...</td>\n",
              "      <td>iPad or iPhone App</td>\n",
              "      <td>Positive emotion</td>\n",
              "    </tr>\n",
              "    <tr>\n",
              "      <th>2</th>\n",
              "      <td>@swonderlin Can not wait for #iPad 2 also. The...</td>\n",
              "      <td>iPad</td>\n",
              "      <td>Positive emotion</td>\n",
              "    </tr>\n",
              "    <tr>\n",
              "      <th>3</th>\n",
              "      <td>@sxsw I hope this year's festival isn't as cra...</td>\n",
              "      <td>iPad or iPhone App</td>\n",
              "      <td>Negative emotion</td>\n",
              "    </tr>\n",
              "    <tr>\n",
              "      <th>4</th>\n",
              "      <td>@sxtxstate great stuff on Fri #SXSW: Marissa M...</td>\n",
              "      <td>Google</td>\n",
              "      <td>Positive emotion</td>\n",
              "    </tr>\n",
              "  </tbody>\n",
              "</table>\n",
              "</div>"
            ],
            "text/plain": [
              "                                          tweet_text  ... is_there_an_emotion_directed_at_a_brand_or_product\n",
              "0  .@wesley83 I have a 3G iPhone. After 3 hrs twe...  ...                                   Negative emotion\n",
              "1  @jessedee Know about @fludapp ? Awesome iPad/i...  ...                                   Positive emotion\n",
              "2  @swonderlin Can not wait for #iPad 2 also. The...  ...                                   Positive emotion\n",
              "3  @sxsw I hope this year's festival isn't as cra...  ...                                   Negative emotion\n",
              "4  @sxtxstate great stuff on Fri #SXSW: Marissa M...  ...                                   Positive emotion\n",
              "\n",
              "[5 rows x 3 columns]"
            ]
          },
          "metadata": {
            "tags": []
          },
          "execution_count": 111
        }
      ]
    },
    {
      "cell_type": "code",
      "metadata": {
        "id": "VqGX-Mrow4SR",
        "colab_type": "code",
        "colab": {
          "base_uri": "https://localhost:8080/",
          "height": 34
        },
        "outputId": "2f73f495-8429-478f-aee8-fe45344f8ef0"
      },
      "source": [
        "df.shape"
      ],
      "execution_count": 112,
      "outputs": [
        {
          "output_type": "execute_result",
          "data": {
            "text/plain": [
              "(9093, 3)"
            ]
          },
          "metadata": {
            "tags": []
          },
          "execution_count": 112
        }
      ]
    },
    {
      "cell_type": "markdown",
      "metadata": {
        "colab_type": "text",
        "id": "39pqw0aE5sYe"
      },
      "source": [
        "### Drop null values\n",
        "- drop all the rows with null values"
      ]
    },
    {
      "cell_type": "code",
      "metadata": {
        "id": "1On1mdpStA0D",
        "colab_type": "code",
        "colab": {
          "base_uri": "https://localhost:8080/",
          "height": 104
        },
        "outputId": "f3f619f1-9150-4115-f72f-2a2feb04891e"
      },
      "source": [
        "print(\"Checking the null values..\")\n",
        "df.isna().sum()"
      ],
      "execution_count": 117,
      "outputs": [
        {
          "output_type": "stream",
          "text": [
            "Checking the null values..\n"
          ],
          "name": "stdout"
        },
        {
          "output_type": "execute_result",
          "data": {
            "text/plain": [
              "tweet_text                                            0\n",
              "emotion_in_tweet_is_directed_at                       0\n",
              "is_there_an_emotion_directed_at_a_brand_or_product    0\n",
              "dtype: int64"
            ]
          },
          "metadata": {
            "tags": []
          },
          "execution_count": 117
        }
      ]
    },
    {
      "cell_type": "code",
      "metadata": {
        "id": "NomW7K3luvD-",
        "colab_type": "code",
        "colab": {
          "base_uri": "https://localhost:8080/",
          "height": 69
        },
        "outputId": "3979a251-3441-4eab-f426-1408c180bc5a"
      },
      "source": [
        "print(\"Dropping the null values..\")\n",
        "df.dropna(inplace=True)\n",
        "show = pro_gress()"
      ],
      "execution_count": 119,
      "outputs": [
        {
          "output_type": "stream",
          "text": [
            "Dropping the null values..\n"
          ],
          "name": "stdout"
        },
        {
          "output_type": "stream",
          "text": [
            "Processing: 100% |=============================================| Time:  0:00:01\n"
          ],
          "name": "stderr"
        },
        {
          "output_type": "stream",
          "text": [
            "Done!!\n"
          ],
          "name": "stdout"
        }
      ]
    },
    {
      "cell_type": "code",
      "metadata": {
        "colab_type": "code",
        "id": "BF_69oyI5sYf",
        "colab": {
          "base_uri": "https://localhost:8080/",
          "height": 104
        },
        "outputId": "2cac8fbe-5599-4345-d294-df543ab04c5f"
      },
      "source": [
        "print(\"Checking the presence of null values  after dropping..\")\n",
        "df.isna().sum()"
      ],
      "execution_count": 120,
      "outputs": [
        {
          "output_type": "stream",
          "text": [
            "Checking the presence of null values  after dropping..\n"
          ],
          "name": "stdout"
        },
        {
          "output_type": "execute_result",
          "data": {
            "text/plain": [
              "tweet_text                                            0\n",
              "emotion_in_tweet_is_directed_at                       0\n",
              "is_there_an_emotion_directed_at_a_brand_or_product    0\n",
              "dtype: int64"
            ]
          },
          "metadata": {
            "tags": []
          },
          "execution_count": 120
        }
      ]
    },
    {
      "cell_type": "code",
      "metadata": {
        "id": "vWyhommoxC0L",
        "colab_type": "code",
        "colab": {
          "base_uri": "https://localhost:8080/",
          "height": 34
        },
        "outputId": "764b63d0-3a23-44aa-9aaa-e50054548dc1"
      },
      "source": [
        "df.shape"
      ],
      "execution_count": 121,
      "outputs": [
        {
          "output_type": "execute_result",
          "data": {
            "text/plain": [
              "(3291, 3)"
            ]
          },
          "metadata": {
            "tags": []
          },
          "execution_count": 121
        }
      ]
    },
    {
      "cell_type": "markdown",
      "metadata": {
        "colab_type": "text",
        "id": "0bm4bDiy5sYg"
      },
      "source": [
        "### Print the dataframe\n",
        "- print initial 5 rows of the data\n",
        "- use df.head()"
      ]
    },
    {
      "cell_type": "code",
      "metadata": {
        "colab_type": "code",
        "id": "ceSlvAVa5sYh",
        "scrolled": true,
        "colab": {
          "base_uri": "https://localhost:8080/",
          "height": 198
        },
        "outputId": "86e4b986-9e1b-4819-ebdb-eebffa9b9bab"
      },
      "source": [
        "df.head()"
      ],
      "execution_count": 122,
      "outputs": [
        {
          "output_type": "execute_result",
          "data": {
            "text/html": [
              "<div>\n",
              "<style scoped>\n",
              "    .dataframe tbody tr th:only-of-type {\n",
              "        vertical-align: middle;\n",
              "    }\n",
              "\n",
              "    .dataframe tbody tr th {\n",
              "        vertical-align: top;\n",
              "    }\n",
              "\n",
              "    .dataframe thead th {\n",
              "        text-align: right;\n",
              "    }\n",
              "</style>\n",
              "<table border=\"1\" class=\"dataframe\">\n",
              "  <thead>\n",
              "    <tr style=\"text-align: right;\">\n",
              "      <th></th>\n",
              "      <th>tweet_text</th>\n",
              "      <th>emotion_in_tweet_is_directed_at</th>\n",
              "      <th>is_there_an_emotion_directed_at_a_brand_or_product</th>\n",
              "    </tr>\n",
              "  </thead>\n",
              "  <tbody>\n",
              "    <tr>\n",
              "      <th>0</th>\n",
              "      <td>.@wesley83 I have a 3G iPhone. After 3 hrs twe...</td>\n",
              "      <td>iPhone</td>\n",
              "      <td>Negative emotion</td>\n",
              "    </tr>\n",
              "    <tr>\n",
              "      <th>1</th>\n",
              "      <td>@jessedee Know about @fludapp ? Awesome iPad/i...</td>\n",
              "      <td>iPad or iPhone App</td>\n",
              "      <td>Positive emotion</td>\n",
              "    </tr>\n",
              "    <tr>\n",
              "      <th>2</th>\n",
              "      <td>@swonderlin Can not wait for #iPad 2 also. The...</td>\n",
              "      <td>iPad</td>\n",
              "      <td>Positive emotion</td>\n",
              "    </tr>\n",
              "    <tr>\n",
              "      <th>3</th>\n",
              "      <td>@sxsw I hope this year's festival isn't as cra...</td>\n",
              "      <td>iPad or iPhone App</td>\n",
              "      <td>Negative emotion</td>\n",
              "    </tr>\n",
              "    <tr>\n",
              "      <th>4</th>\n",
              "      <td>@sxtxstate great stuff on Fri #SXSW: Marissa M...</td>\n",
              "      <td>Google</td>\n",
              "      <td>Positive emotion</td>\n",
              "    </tr>\n",
              "  </tbody>\n",
              "</table>\n",
              "</div>"
            ],
            "text/plain": [
              "                                          tweet_text  ... is_there_an_emotion_directed_at_a_brand_or_product\n",
              "0  .@wesley83 I have a 3G iPhone. After 3 hrs twe...  ...                                   Negative emotion\n",
              "1  @jessedee Know about @fludapp ? Awesome iPad/i...  ...                                   Positive emotion\n",
              "2  @swonderlin Can not wait for #iPad 2 also. The...  ...                                   Positive emotion\n",
              "3  @sxsw I hope this year's festival isn't as cra...  ...                                   Negative emotion\n",
              "4  @sxtxstate great stuff on Fri #SXSW: Marissa M...  ...                                   Positive emotion\n",
              "\n",
              "[5 rows x 3 columns]"
            ]
          },
          "metadata": {
            "tags": []
          },
          "execution_count": 122
        }
      ]
    },
    {
      "cell_type": "markdown",
      "metadata": {
        "colab_type": "text",
        "id": "jcWfPVqG5sYi"
      },
      "source": [
        "## Question 2"
      ]
    },
    {
      "cell_type": "markdown",
      "metadata": {
        "colab_type": "text",
        "id": "JBbAeip_5sYj"
      },
      "source": [
        "### Preprocess data\n",
        "- convert all text to lowercase - use .lower()\n",
        "- select only numbers, alphabets, and #+_ from text - use re.sub()\n",
        "- strip all the text - use .strip()\n",
        "    - this is for removing extra spaces"
      ]
    },
    {
      "cell_type": "code",
      "metadata": {
        "colab_type": "code",
        "id": "PE4Bn_YT5sYj",
        "colab": {
          "base_uri": "https://localhost:8080/",
          "height": 69
        },
        "outputId": "873c04ce-eb18-4761-a09f-f8eddb16e0c3"
      },
      "source": [
        "print(\"Pre-processing the values..\")\n",
        "import re\n",
        "df['tweet_text'] = df['tweet_text'].map(lambda s: re.sub('[^0-9a-z #+_]','',s))\n",
        "df['tweet_text'] = df['tweet_text'].map(lambda s: s.lower())\n",
        "show=pro_gress()"
      ],
      "execution_count": 124,
      "outputs": [
        {
          "output_type": "stream",
          "text": [
            "Pre-processing the values..\n"
          ],
          "name": "stdout"
        },
        {
          "output_type": "stream",
          "text": [
            "Processing: 100% |=============================================| Time:  0:00:01\n"
          ],
          "name": "stderr"
        },
        {
          "output_type": "stream",
          "text": [
            "Done!!\n"
          ],
          "name": "stdout"
        }
      ]
    },
    {
      "cell_type": "markdown",
      "metadata": {
        "colab_type": "text",
        "id": "QlMvbtrK5sYl"
      },
      "source": [
        "print dataframe"
      ]
    },
    {
      "cell_type": "code",
      "metadata": {
        "colab_type": "code",
        "id": "afocjaUn5sYm",
        "colab": {
          "base_uri": "https://localhost:8080/",
          "height": 408
        },
        "outputId": "aa09aa0e-1d80-4f56-cce0-d8aca5fb4a05"
      },
      "source": [
        "df"
      ],
      "execution_count": 125,
      "outputs": [
        {
          "output_type": "execute_result",
          "data": {
            "text/html": [
              "<div>\n",
              "<style scoped>\n",
              "    .dataframe tbody tr th:only-of-type {\n",
              "        vertical-align: middle;\n",
              "    }\n",
              "\n",
              "    .dataframe tbody tr th {\n",
              "        vertical-align: top;\n",
              "    }\n",
              "\n",
              "    .dataframe thead th {\n",
              "        text-align: right;\n",
              "    }\n",
              "</style>\n",
              "<table border=\"1\" class=\"dataframe\">\n",
              "  <thead>\n",
              "    <tr style=\"text-align: right;\">\n",
              "      <th></th>\n",
              "      <th>tweet_text</th>\n",
              "      <th>emotion_in_tweet_is_directed_at</th>\n",
              "      <th>is_there_an_emotion_directed_at_a_brand_or_product</th>\n",
              "    </tr>\n",
              "  </thead>\n",
              "  <tbody>\n",
              "    <tr>\n",
              "      <th>0</th>\n",
              "      <td>wesley83  have a 3 ihone fter 3 hrs tweeting a...</td>\n",
              "      <td>iPhone</td>\n",
              "      <td>Negative emotion</td>\n",
              "    </tr>\n",
              "    <tr>\n",
              "      <th>1</th>\n",
              "      <td>jessedee now about fludapp  wesome iadihone ap...</td>\n",
              "      <td>iPad or iPhone App</td>\n",
              "      <td>Positive emotion</td>\n",
              "    </tr>\n",
              "    <tr>\n",
              "      <th>2</th>\n",
              "      <td>swonderlin an not wait for #iad 2 also hey sho...</td>\n",
              "      <td>iPad</td>\n",
              "      <td>Positive emotion</td>\n",
              "    </tr>\n",
              "    <tr>\n",
              "      <th>3</th>\n",
              "      <td>sxsw  hope this years festival isnt as crashy ...</td>\n",
              "      <td>iPad or iPhone App</td>\n",
              "      <td>Negative emotion</td>\n",
              "    </tr>\n",
              "    <tr>\n",
              "      <th>4</th>\n",
              "      <td>sxtxstate great stuff on ri # arissa ayer oogl...</td>\n",
              "      <td>Google</td>\n",
              "      <td>Positive emotion</td>\n",
              "    </tr>\n",
              "    <tr>\n",
              "      <th>...</th>\n",
              "      <td>...</td>\n",
              "      <td>...</td>\n",
              "      <td>...</td>\n",
              "    </tr>\n",
              "    <tr>\n",
              "      <th>9077</th>\n",
              "      <td>mention your  guy just convinced me to switch ...</td>\n",
              "      <td>iPhone</td>\n",
              "      <td>Positive emotion</td>\n",
              "    </tr>\n",
              "    <tr>\n",
              "      <th>9079</th>\n",
              "      <td>quotpapyrussort of like the ipadquot  nice ol ...</td>\n",
              "      <td>iPad</td>\n",
              "      <td>Positive emotion</td>\n",
              "    </tr>\n",
              "    <tr>\n",
              "      <th>9080</th>\n",
              "      <td>iller says oogle  quotmight be run over by the...</td>\n",
              "      <td>Other Google product or service</td>\n",
              "      <td>Negative emotion</td>\n",
              "    </tr>\n",
              "    <tr>\n",
              "      <th>9085</th>\n",
              "      <td>ve always used amera+ for my ihone bc it has a...</td>\n",
              "      <td>iPad or iPhone App</td>\n",
              "      <td>Positive emotion</td>\n",
              "    </tr>\n",
              "    <tr>\n",
              "      <th>9088</th>\n",
              "      <td>pad everywhere # link</td>\n",
              "      <td>iPad</td>\n",
              "      <td>Positive emotion</td>\n",
              "    </tr>\n",
              "  </tbody>\n",
              "</table>\n",
              "<p>3291 rows × 3 columns</p>\n",
              "</div>"
            ],
            "text/plain": [
              "                                             tweet_text  ... is_there_an_emotion_directed_at_a_brand_or_product\n",
              "0     wesley83  have a 3 ihone fter 3 hrs tweeting a...  ...                                   Negative emotion\n",
              "1     jessedee now about fludapp  wesome iadihone ap...  ...                                   Positive emotion\n",
              "2     swonderlin an not wait for #iad 2 also hey sho...  ...                                   Positive emotion\n",
              "3     sxsw  hope this years festival isnt as crashy ...  ...                                   Negative emotion\n",
              "4     sxtxstate great stuff on ri # arissa ayer oogl...  ...                                   Positive emotion\n",
              "...                                                 ...  ...                                                ...\n",
              "9077  mention your  guy just convinced me to switch ...  ...                                   Positive emotion\n",
              "9079  quotpapyrussort of like the ipadquot  nice ol ...  ...                                   Positive emotion\n",
              "9080  iller says oogle  quotmight be run over by the...  ...                                   Negative emotion\n",
              "9085  ve always used amera+ for my ihone bc it has a...  ...                                   Positive emotion\n",
              "9088                              pad everywhere # link  ...                                   Positive emotion\n",
              "\n",
              "[3291 rows x 3 columns]"
            ]
          },
          "metadata": {
            "tags": []
          },
          "execution_count": 125
        }
      ]
    },
    {
      "cell_type": "markdown",
      "metadata": {
        "colab_type": "text",
        "id": "bcTUnvtg5sYn"
      },
      "source": [
        "## Question 3"
      ]
    },
    {
      "cell_type": "markdown",
      "metadata": {
        "colab_type": "text",
        "id": "4gnaeSXZ5sYo"
      },
      "source": [
        "### Preprocess data\n",
        "- in column \"is_there_an_emotion_directed_at_a_brand_or_product\"\n",
        "    - select only those rows where value equal to \"positive emotion\" or \"negative emotion\"\n",
        "- find the value counts of \"positive emotion\" and \"negative emotion\""
      ]
    },
    {
      "cell_type": "code",
      "metadata": {
        "colab_type": "code",
        "id": "nLewJh_35sYp",
        "colab": {
          "base_uri": "https://localhost:8080/",
          "height": 34
        },
        "outputId": "683dba7e-7d9f-45af-8a17-ffa9eb5123a2"
      },
      "source": [
        "pos = df[df['is_there_an_emotion_directed_at_a_brand_or_product'] == 'Positive emotion']\n",
        "print(\"The no of positive emotions seems to be ==> \",pos.shape[0])"
      ],
      "execution_count": 127,
      "outputs": [
        {
          "output_type": "stream",
          "text": [
            "The no of positive emotions seems to be ==>  2672\n"
          ],
          "name": "stdout"
        }
      ]
    },
    {
      "cell_type": "code",
      "metadata": {
        "colab_type": "code",
        "id": "3VFYB4eh5sYr",
        "colab": {
          "base_uri": "https://localhost:8080/",
          "height": 34
        },
        "outputId": "cd122900-ace3-4259-f20b-2ea27956975c"
      },
      "source": [
        "neg = df[df['is_there_an_emotion_directed_at_a_brand_or_product'] == 'Negative emotion']\n",
        "print(\"The no of negative emotions seems to be ==> \",neg.shape[0])"
      ],
      "execution_count": 128,
      "outputs": [
        {
          "output_type": "stream",
          "text": [
            "The no of negative emotions seems to be ==>  519\n"
          ],
          "name": "stdout"
        }
      ]
    },
    {
      "cell_type": "code",
      "metadata": {
        "id": "x3Km2zeb4FOs",
        "colab_type": "code",
        "colab": {
          "base_uri": "https://localhost:8080/",
          "height": 69
        },
        "outputId": "f149e5f2-4a9b-469d-90af-d96aadf3ecf4"
      },
      "source": [
        "print(\"The math doesn't seem to work..Let's check for all the values..\")\n",
        "df['is_there_an_emotion_directed_at_a_brand_or_product'].unique()"
      ],
      "execution_count": 130,
      "outputs": [
        {
          "output_type": "stream",
          "text": [
            "The math doesn't seem to work..Let's check for all the values..\n"
          ],
          "name": "stdout"
        },
        {
          "output_type": "execute_result",
          "data": {
            "text/plain": [
              "array(['Negative emotion', 'Positive emotion',\n",
              "       'No emotion toward brand or product', \"I can't tell\"], dtype=object)"
            ]
          },
          "metadata": {
            "tags": []
          },
          "execution_count": 130
        }
      ]
    },
    {
      "cell_type": "code",
      "metadata": {
        "id": "HEkPd6Rr5C_L",
        "colab_type": "code",
        "colab": {
          "base_uri": "https://localhost:8080/",
          "height": 121
        },
        "outputId": "e8d1a2b5-159f-41ec-f82e-9222e774bc44"
      },
      "source": [
        "print(\"The count of each emotion..\")\n",
        "df['is_there_an_emotion_directed_at_a_brand_or_product'].value_counts()"
      ],
      "execution_count": 132,
      "outputs": [
        {
          "output_type": "stream",
          "text": [
            "The count of each emotion..\n"
          ],
          "name": "stdout"
        },
        {
          "output_type": "execute_result",
          "data": {
            "text/plain": [
              "Positive emotion                      2672\n",
              "Negative emotion                       519\n",
              "No emotion toward brand or product      91\n",
              "I can't tell                             9\n",
              "Name: is_there_an_emotion_directed_at_a_brand_or_product, dtype: int64"
            ]
          },
          "metadata": {
            "tags": []
          },
          "execution_count": 132
        }
      ]
    },
    {
      "cell_type": "code",
      "metadata": {
        "id": "jPEQZszn6pJ2",
        "colab_type": "code",
        "colab": {
          "base_uri": "https://localhost:8080/",
          "height": 405
        },
        "outputId": "51b0f8bc-ea71-46a9-d0ca-370d211cb1eb"
      },
      "source": [
        "import matplotlib.pyplot as plt\n",
        "plt.figure(figsize=(12,6))\n",
        "import seaborn as sns\n",
        "sns.countplot(y=df['is_there_an_emotion_directed_at_a_brand_or_product'],data=df)"
      ],
      "execution_count": 133,
      "outputs": [
        {
          "output_type": "execute_result",
          "data": {
            "text/plain": [
              "<matplotlib.axes._subplots.AxesSubplot at 0x7fb1230b1588>"
            ]
          },
          "metadata": {
            "tags": []
          },
          "execution_count": 133
        },
        {
          "output_type": "display_data",
          "data": {
            "image/png": "[encoded data removed]",
            "text/plain": [
              "<Figure size 864x432 with 1 Axes>"
            ]
          },
          "metadata": {
            "tags": []
          }
        }
      ]
    },
    {
      "cell_type": "code",
      "metadata": {
        "id": "kleanzKxCyZ6",
        "colab_type": "code",
        "colab": {
          "base_uri": "https://localhost:8080/",
          "height": 69
        },
        "outputId": "501c478d-9256-46ff-b122-ed6830019c49"
      },
      "source": [
        "print(\"Filtering out to keep only the positive & negative emotion..\")\n",
        "emotions = ['Positive emotion','Negative emotion']\n",
        "tw_df = df[df['is_there_an_emotion_directed_at_a_brand_or_product'].isin(emotions)]\n",
        "show = pro_gress()"
      ],
      "execution_count": 134,
      "outputs": [
        {
          "output_type": "stream",
          "text": [
            "Filtering out to keep only the positive & negative emotion..\n"
          ],
          "name": "stdout"
        },
        {
          "output_type": "stream",
          "text": [
            "Processing: 100% |=============================================| Time:  0:00:01\n"
          ],
          "name": "stderr"
        },
        {
          "output_type": "stream",
          "text": [
            "Done!!\n"
          ],
          "name": "stdout"
        }
      ]
    },
    {
      "cell_type": "code",
      "metadata": {
        "id": "3QYkNPvRExN3",
        "colab_type": "code",
        "colab": {
          "base_uri": "https://localhost:8080/",
          "height": 34
        },
        "outputId": "ee268697-20fd-42e1-f4ab-9e91ad26c8af"
      },
      "source": [
        "print(\"Checking the shape==>\",tw_df.shape)"
      ],
      "execution_count": 135,
      "outputs": [
        {
          "output_type": "stream",
          "text": [
            "Checking the shape==> (3191, 3)\n"
          ],
          "name": "stdout"
        }
      ]
    },
    {
      "cell_type": "code",
      "metadata": {
        "id": "vsKymk8RE1mL",
        "colab_type": "code",
        "colab": {
          "base_uri": "https://localhost:8080/",
          "height": 34
        },
        "outputId": "d7b79e42-895f-4dd0-de95-8204abb4d70a"
      },
      "source": [
        "print(\"Confirming the filter process result..\",tw_df.is_there_an_emotion_directed_at_a_brand_or_product.unique(),\"seems we've what we wanted!!\")"
      ],
      "execution_count": 138,
      "outputs": [
        {
          "output_type": "stream",
          "text": [
            "Confirming the filter process result.. ['Negative emotion' 'Positive emotion'] seems we've what we wanted!!\n"
          ],
          "name": "stdout"
        }
      ]
    },
    {
      "cell_type": "code",
      "metadata": {
        "id": "3GS8aHpfIzFy",
        "colab_type": "code",
        "colab": {
          "base_uri": "https://localhost:8080/",
          "height": 408
        },
        "outputId": "015428c2-ea38-43f0-d09b-b3cf180c8e9b"
      },
      "source": [
        "tw_df"
      ],
      "execution_count": 137,
      "outputs": [
        {
          "output_type": "execute_result",
          "data": {
            "text/html": [
              "<div>\n",
              "<style scoped>\n",
              "    .dataframe tbody tr th:only-of-type {\n",
              "        vertical-align: middle;\n",
              "    }\n",
              "\n",
              "    .dataframe tbody tr th {\n",
              "        vertical-align: top;\n",
              "    }\n",
              "\n",
              "    .dataframe thead th {\n",
              "        text-align: right;\n",
              "    }\n",
              "</style>\n",
              "<table border=\"1\" class=\"dataframe\">\n",
              "  <thead>\n",
              "    <tr style=\"text-align: right;\">\n",
              "      <th></th>\n",
              "      <th>tweet_text</th>\n",
              "      <th>emotion_in_tweet_is_directed_at</th>\n",
              "      <th>is_there_an_emotion_directed_at_a_brand_or_product</th>\n",
              "    </tr>\n",
              "  </thead>\n",
              "  <tbody>\n",
              "    <tr>\n",
              "      <th>0</th>\n",
              "      <td>wesley83  have a 3 ihone fter 3 hrs tweeting a...</td>\n",
              "      <td>iPhone</td>\n",
              "      <td>Negative emotion</td>\n",
              "    </tr>\n",
              "    <tr>\n",
              "      <th>1</th>\n",
              "      <td>jessedee now about fludapp  wesome iadihone ap...</td>\n",
              "      <td>iPad or iPhone App</td>\n",
              "      <td>Positive emotion</td>\n",
              "    </tr>\n",
              "    <tr>\n",
              "      <th>2</th>\n",
              "      <td>swonderlin an not wait for #iad 2 also hey sho...</td>\n",
              "      <td>iPad</td>\n",
              "      <td>Positive emotion</td>\n",
              "    </tr>\n",
              "    <tr>\n",
              "      <th>3</th>\n",
              "      <td>sxsw  hope this years festival isnt as crashy ...</td>\n",
              "      <td>iPad or iPhone App</td>\n",
              "      <td>Negative emotion</td>\n",
              "    </tr>\n",
              "    <tr>\n",
              "      <th>4</th>\n",
              "      <td>sxtxstate great stuff on ri # arissa ayer oogl...</td>\n",
              "      <td>Google</td>\n",
              "      <td>Positive emotion</td>\n",
              "    </tr>\n",
              "    <tr>\n",
              "      <th>...</th>\n",
              "      <td>...</td>\n",
              "      <td>...</td>\n",
              "      <td>...</td>\n",
              "    </tr>\n",
              "    <tr>\n",
              "      <th>9077</th>\n",
              "      <td>mention your  guy just convinced me to switch ...</td>\n",
              "      <td>iPhone</td>\n",
              "      <td>Positive emotion</td>\n",
              "    </tr>\n",
              "    <tr>\n",
              "      <th>9079</th>\n",
              "      <td>quotpapyrussort of like the ipadquot  nice ol ...</td>\n",
              "      <td>iPad</td>\n",
              "      <td>Positive emotion</td>\n",
              "    </tr>\n",
              "    <tr>\n",
              "      <th>9080</th>\n",
              "      <td>iller says oogle  quotmight be run over by the...</td>\n",
              "      <td>Other Google product or service</td>\n",
              "      <td>Negative emotion</td>\n",
              "    </tr>\n",
              "    <tr>\n",
              "      <th>9085</th>\n",
              "      <td>ve always used amera+ for my ihone bc it has a...</td>\n",
              "      <td>iPad or iPhone App</td>\n",
              "      <td>Positive emotion</td>\n",
              "    </tr>\n",
              "    <tr>\n",
              "      <th>9088</th>\n",
              "      <td>pad everywhere # link</td>\n",
              "      <td>iPad</td>\n",
              "      <td>Positive emotion</td>\n",
              "    </tr>\n",
              "  </tbody>\n",
              "</table>\n",
              "<p>3191 rows × 3 columns</p>\n",
              "</div>"
            ],
            "text/plain": [
              "                                             tweet_text  ... is_there_an_emotion_directed_at_a_brand_or_product\n",
              "0     wesley83  have a 3 ihone fter 3 hrs tweeting a...  ...                                   Negative emotion\n",
              "1     jessedee now about fludapp  wesome iadihone ap...  ...                                   Positive emotion\n",
              "2     swonderlin an not wait for #iad 2 also hey sho...  ...                                   Positive emotion\n",
              "3     sxsw  hope this years festival isnt as crashy ...  ...                                   Negative emotion\n",
              "4     sxtxstate great stuff on ri # arissa ayer oogl...  ...                                   Positive emotion\n",
              "...                                                 ...  ...                                                ...\n",
              "9077  mention your  guy just convinced me to switch ...  ...                                   Positive emotion\n",
              "9079  quotpapyrussort of like the ipadquot  nice ol ...  ...                                   Positive emotion\n",
              "9080  iller says oogle  quotmight be run over by the...  ...                                   Negative emotion\n",
              "9085  ve always used amera+ for my ihone bc it has a...  ...                                   Positive emotion\n",
              "9088                              pad everywhere # link  ...                                   Positive emotion\n",
              "\n",
              "[3191 rows x 3 columns]"
            ]
          },
          "metadata": {
            "tags": []
          },
          "execution_count": 137
        }
      ]
    },
    {
      "cell_type": "markdown",
      "metadata": {
        "colab_type": "text",
        "id": "6icGcVTE5sYz"
      },
      "source": [
        "## Question 4"
      ]
    },
    {
      "cell_type": "markdown",
      "metadata": {
        "colab_type": "text",
        "id": "Rg0rSepj5sYz"
      },
      "source": [
        "### Encode labels\n",
        "- in column \"is_there_an_emotion_directed_at_a_brand_or_product\"\n",
        "    - change \"positive emotion\" to 1\n",
        "    - change \"negative emotion\" to 0\n",
        "- use map function to replace values"
      ]
    },
    {
      "cell_type": "code",
      "metadata": {
        "colab_type": "code",
        "id": "YftKwFv7H0N9",
        "colab": {
          "base_uri": "https://localhost:8080/",
          "height": 69
        },
        "outputId": "ea541a2a-0f23-48ba-edd3-c6158d030cfc"
      },
      "source": [
        "print(\"Changing positive & negative emotion to 1 & 0 respectively..\")\n",
        "tw_df.is_there_an_emotion_directed_at_a_brand_or_product = tw_df.is_there_an_emotion_directed_at_a_brand_or_product.map({'Positive emotion':1,'Negative emotion':0})\n",
        "show=pro_gress()"
      ],
      "execution_count": 139,
      "outputs": [
        {
          "output_type": "stream",
          "text": [
            "Changing positive & negative emotion to 1 & 0 respectively..\n"
          ],
          "name": "stdout"
        },
        {
          "output_type": "stream",
          "text": [
            "Processing: 100% |=============================================| Time:  0:00:01\n"
          ],
          "name": "stderr"
        },
        {
          "output_type": "stream",
          "text": [
            "Done!!\n"
          ],
          "name": "stdout"
        }
      ]
    },
    {
      "cell_type": "code",
      "metadata": {
        "id": "CCbnbxZFGH_c",
        "colab_type": "code",
        "colab": {
          "base_uri": "https://localhost:8080/",
          "height": 86
        },
        "outputId": "0ebeb670-71ae-4167-fa57-19687781adc9"
      },
      "source": [
        "print(tw_df.is_there_an_emotion_directed_at_a_brand_or_product.value_counts())\n",
        "print(\"So the emotions have been changed successfully to 1 & 0.\")"
      ],
      "execution_count": 142,
      "outputs": [
        {
          "output_type": "stream",
          "text": [
            "1    2672\n",
            "0     519\n",
            "Name: is_there_an_emotion_directed_at_a_brand_or_product, dtype: int64\n",
            "So the emotions have been changed successfully to 1 & 0.\n"
          ],
          "name": "stdout"
        }
      ]
    },
    {
      "cell_type": "markdown",
      "metadata": {
        "colab_type": "text",
        "id": "sC1qSe3h5sY2"
      },
      "source": [
        "## Question 5"
      ]
    },
    {
      "cell_type": "markdown",
      "metadata": {
        "colab_type": "text",
        "id": "aWlAN_Ts5sY2"
      },
      "source": [
        "### Get feature and label\n",
        "- get column \"tweet_text\" as feature\n",
        "- get column \"is_there_an_emotion_directed_at_a_brand_or_product\" as label"
      ]
    },
    {
      "cell_type": "code",
      "metadata": {
        "colab_type": "code",
        "id": "9A3sOZzR5sY4",
        "colab": {
          "base_uri": "https://localhost:8080/",
          "height": 34
        },
        "outputId": "268a062e-1d9f-4c4f-849e-49c7662a5a9b"
      },
      "source": [
        "print(\"Setting feature & labels.\")\n",
        "X = tw_df.tweet_text\n",
        "y = tw_df.is_there_an_emotion_directed_at_a_brand_or_product"
      ],
      "execution_count": 143,
      "outputs": [
        {
          "output_type": "stream",
          "text": [
            "Setting feature & labels.\n"
          ],
          "name": "stdout"
        }
      ]
    },
    {
      "cell_type": "markdown",
      "metadata": {
        "colab_type": "text",
        "id": "3YErwYLCH0N_"
      },
      "source": [
        "### Create train and test data\n",
        "- use train_test_split to get train and test set\n",
        "- set a random_state\n",
        "- test_size: 0.25"
      ]
    },
    {
      "cell_type": "code",
      "metadata": {
        "colab_type": "code",
        "id": "lNkwrGgEH0OA",
        "colab": {
          "base_uri": "https://localhost:8080/",
          "height": 69
        },
        "outputId": "67503567-3986-4e69-c371-71b514129805"
      },
      "source": [
        "print(\"Splitting in train & test set..\")\n",
        "from sklearn.model_selection import train_test_split\n",
        "X_train,X_test,y_train,y_test = train_test_split(X,y,test_size=0.25)\n",
        "show=pro_gress()"
      ],
      "execution_count": 144,
      "outputs": [
        {
          "output_type": "stream",
          "text": [
            "Splitting in train & test set..\n"
          ],
          "name": "stdout"
        },
        {
          "output_type": "stream",
          "text": [
            "Processing: 100% |=============================================| Time:  0:00:01\n"
          ],
          "name": "stderr"
        },
        {
          "output_type": "stream",
          "text": [
            "Done!!\n"
          ],
          "name": "stdout"
        }
      ]
    },
    {
      "cell_type": "code",
      "metadata": {
        "id": "eltPumalJSNZ",
        "colab_type": "code",
        "colab": {
          "base_uri": "https://localhost:8080/",
          "height": 86
        },
        "outputId": "9c340726-9573-47ae-e715-07240ab2bbf3"
      },
      "source": [
        "print(\"The shape of X_train is==>\",X_train.shape)\n",
        "print(\"The shape of X_test is==>\",X_test.shape)\n",
        "print(\"The shape of y_train is==>\",y_train.shape)\n",
        "print(\"The shape of y_test is==>\",y_test.shape)"
      ],
      "execution_count": 145,
      "outputs": [
        {
          "output_type": "stream",
          "text": [
            "The shape of X_train is==> (2393,)\n",
            "The shape of X_test is==> (798,)\n",
            "The shape of y_train is==> (2393,)\n",
            "The shape of y_test is==> (798,)\n"
          ],
          "name": "stdout"
        }
      ]
    },
    {
      "cell_type": "markdown",
      "metadata": {
        "colab_type": "text",
        "id": "gMok2IX35sY8"
      },
      "source": [
        "## Question 6"
      ]
    },
    {
      "cell_type": "markdown",
      "metadata": {
        "colab_type": "text",
        "id": "dSqYjPuT5sY8"
      },
      "source": [
        "### Vectorize data\n",
        "- create document-term matrix\n",
        "- use CountVectorizer()\n",
        "    - ngram_range: (1, 2)\n",
        "    - stop_words: 'english'\n",
        "    - min_df: 2   \n",
        "- do fit_transform on X_train\n",
        "- do transform on X_test"
      ]
    },
    {
      "cell_type": "code",
      "metadata": {
        "colab_type": "code",
        "id": "bb9PnnqT5sY8",
        "colab": {
          "base_uri": "https://localhost:8080/",
          "height": 138
        },
        "outputId": "7a5b269c-4c6f-4dbc-fffe-b387d0a884c4"
      },
      "source": [
        "print(\"Importing CountVectorizer & setting the required parameters..\")\n",
        "from sklearn.feature_extraction.text import CountVectorizer\n",
        "vec = CountVectorizer(stop_words='english',ngram_range=(1,2),min_df=2)\n",
        "show=pro_gress()\n",
        "print(\"\\nTransforming the train & test features into document-term matrix..\")\n",
        "X_train = vec.fit_transform(X_train)\n",
        "X_test = vec.transform(X_test)\n",
        "show=pro_gress()"
      ],
      "execution_count": 146,
      "outputs": [
        {
          "output_type": "stream",
          "text": [
            "Importing CountVectorizer & setting the required parameters..\n"
          ],
          "name": "stdout"
        },
        {
          "output_type": "stream",
          "text": [
            "Processing: 100% |=============================================| Time:  0:00:01\n"
          ],
          "name": "stderr"
        },
        {
          "output_type": "stream",
          "text": [
            "Done!!\n",
            "\n",
            "Transforming the train & test features into document-term matrix..\n"
          ],
          "name": "stdout"
        },
        {
          "output_type": "stream",
          "text": [
            "Processing: 100% |=============================================| Time:  0:00:01\n"
          ],
          "name": "stderr"
        },
        {
          "output_type": "stream",
          "text": [
            "Done!!\n"
          ],
          "name": "stdout"
        }
      ]
    },
    {
      "cell_type": "markdown",
      "metadata": {
        "colab_type": "text",
        "id": "qanDXve15sY_"
      },
      "source": [
        "## Question 7"
      ]
    },
    {
      "cell_type": "markdown",
      "metadata": {
        "colab_type": "text",
        "id": "uMaRNFkV5sY_"
      },
      "source": [
        "### Select classifier logistic regression\n",
        "- use logistic regression for predicting sentiment of the given tweet\n",
        "- initialize classifier"
      ]
    },
    {
      "cell_type": "code",
      "metadata": {
        "colab_type": "code",
        "id": "GT3dNgB55sZA",
        "colab": {
          "base_uri": "https://localhost:8080/",
          "height": 69
        },
        "outputId": "263ad073-b9b3-4492-98ea-2fd455fb5daf"
      },
      "source": [
        "print(\"Initializing Logistic Regression model..\")\n",
        "from sklearn.linear_model import LogisticRegression\n",
        "logreg = LogisticRegression()\n",
        "show = pro_gress()"
      ],
      "execution_count": 148,
      "outputs": [
        {
          "output_type": "stream",
          "text": [
            "Initializing Logistic Regression model..\n"
          ],
          "name": "stdout"
        },
        {
          "output_type": "stream",
          "text": [
            "Processing: 100% |=============================================| Time:  0:00:01\n"
          ],
          "name": "stderr"
        },
        {
          "output_type": "stream",
          "text": [
            "Done!!\n"
          ],
          "name": "stdout"
        }
      ]
    },
    {
      "cell_type": "markdown",
      "metadata": {
        "colab_type": "text",
        "id": "pqQ6_HX35sZD"
      },
      "source": [
        "### Fit the classifer\n",
        "- fit logistic regression classifier"
      ]
    },
    {
      "cell_type": "code",
      "metadata": {
        "colab_type": "code",
        "id": "EIzvnNkq5sZD",
        "colab": {
          "base_uri": "https://localhost:8080/",
          "height": 121
        },
        "outputId": "87f85b6a-74b1-4d5f-f30c-284e8f314483"
      },
      "source": [
        "print(\"Fitting the model..\\n\", logreg.fit(X_train,y_train))"
      ],
      "execution_count": 150,
      "outputs": [
        {
          "output_type": "stream",
          "text": [
            "Fitting the model..\n",
            " LogisticRegression(C=1.0, class_weight=None, dual=False, fit_intercept=True,\n",
            "                   intercept_scaling=1, l1_ratio=None, max_iter=100,\n",
            "                   multi_class='auto', n_jobs=None, penalty='l2',\n",
            "                   random_state=None, solver='lbfgs', tol=0.0001, verbose=0,\n",
            "                   warm_start=False)\n"
          ],
          "name": "stdout"
        }
      ]
    },
    {
      "cell_type": "markdown",
      "metadata": {
        "colab_type": "text",
        "id": "SZpMsYQF5sZF"
      },
      "source": [
        "## Question 8"
      ]
    },
    {
      "cell_type": "markdown",
      "metadata": {
        "colab_type": "text",
        "id": "KGnQnUww5sZF"
      },
      "source": [
        "### Select classifier naive bayes\n",
        "- use naive bayes for predicting sentiment of the given tweet\n",
        "- initialize classifier\n",
        "- use MultinomialNB"
      ]
    },
    {
      "cell_type": "code",
      "metadata": {
        "colab_type": "code",
        "id": "2AbVYssaH0OE",
        "colab": {
          "base_uri": "https://localhost:8080/",
          "height": 69
        },
        "outputId": "4fcb0fd7-bf26-4c81-e414-c30560d2f6f9"
      },
      "source": [
        "print(\"Initializing Naive bayes model..\")\n",
        "from sklearn.naive_bayes import MultinomialNB\n",
        "nb = MultinomialNB()\n",
        "show = pro_gress()"
      ],
      "execution_count": 151,
      "outputs": [
        {
          "output_type": "stream",
          "text": [
            "Initializing Naive bayes model..\n"
          ],
          "name": "stdout"
        },
        {
          "output_type": "stream",
          "text": [
            "Processing: 100% |=============================================| Time:  0:00:01\n"
          ],
          "name": "stderr"
        },
        {
          "output_type": "stream",
          "text": [
            "Done!!\n"
          ],
          "name": "stdout"
        }
      ]
    },
    {
      "cell_type": "markdown",
      "metadata": {
        "colab_type": "text",
        "id": "QEaG942m5sZI"
      },
      "source": [
        "### Fit the classifer\n",
        "- fit naive bayes classifier"
      ]
    },
    {
      "cell_type": "code",
      "metadata": {
        "colab_type": "code",
        "id": "rLwRBj1R5sZI",
        "colab": {
          "base_uri": "https://localhost:8080/",
          "height": 52
        },
        "outputId": "5d42a3d5-c4d9-4ab9-f55c-b3395b10625d"
      },
      "source": [
        "print(\"Fitting the model..\\n\",nb.fit(X_train,y_train))"
      ],
      "execution_count": 152,
      "outputs": [
        {
          "output_type": "stream",
          "text": [
            "Fitting the model..\n",
            " MultinomialNB(alpha=1.0, class_prior=None, fit_prior=True)\n"
          ],
          "name": "stdout"
        }
      ]
    },
    {
      "cell_type": "markdown",
      "metadata": {
        "colab_type": "text",
        "id": "A7mgwYDJ5sZM"
      },
      "source": [
        "## Question 9"
      ]
    },
    {
      "cell_type": "markdown",
      "metadata": {
        "colab_type": "text",
        "id": "sZkA3tce5sZN"
      },
      "source": [
        "### Make predictions on logistic regression\n",
        "- use your trained logistic regression model to make predictions on X_test"
      ]
    },
    {
      "cell_type": "code",
      "metadata": {
        "colab_type": "code",
        "id": "l3f0M1ch5sZO",
        "colab": {
          "base_uri": "https://localhost:8080/",
          "height": 69
        },
        "outputId": "ead2d38e-3af6-4df5-db86-e59f2788b637"
      },
      "source": [
        "print(\"Making predictions based on logistic model..\")\n",
        "y_pred = logreg.predict(X_test)\n",
        "show = pro_gress()"
      ],
      "execution_count": 153,
      "outputs": [
        {
          "output_type": "stream",
          "text": [
            "Making predictions based on logistic model..\n"
          ],
          "name": "stdout"
        },
        {
          "output_type": "stream",
          "text": [
            "Processing: 100% |=============================================| Time:  0:00:01\n"
          ],
          "name": "stderr"
        },
        {
          "output_type": "stream",
          "text": [
            "Done!!\n"
          ],
          "name": "stdout"
        }
      ]
    },
    {
      "cell_type": "markdown",
      "metadata": {
        "colab_type": "text",
        "id": "lrIxjMUB5sZQ"
      },
      "source": [
        "### Make predictions on naive bayes\n",
        "- use your trained naive bayes model to make predictions on X_test\n",
        "- use a different variable name to store predictions so that they are kept separately"
      ]
    },
    {
      "cell_type": "code",
      "metadata": {
        "colab_type": "code",
        "id": "ZSQnwyLU5sZQ",
        "colab": {
          "base_uri": "https://localhost:8080/",
          "height": 69
        },
        "outputId": "88d2ee9e-7d01-4b2e-b5e8-09feffc82f10"
      },
      "source": [
        "print(\"Making predictions based on naive bayes model..\")\n",
        "y_pred1 = nb.predict(X_test)\n",
        "show = pro_gress()"
      ],
      "execution_count": 154,
      "outputs": [
        {
          "output_type": "stream",
          "text": [
            "Making predictions based on naive bayes model..\n"
          ],
          "name": "stdout"
        },
        {
          "output_type": "stream",
          "text": [
            "Processing: 100% |=============================================| Time:  0:00:01\n"
          ],
          "name": "stderr"
        },
        {
          "output_type": "stream",
          "text": [
            "Done!!\n"
          ],
          "name": "stdout"
        }
      ]
    },
    {
      "cell_type": "markdown",
      "metadata": {
        "colab_type": "text",
        "id": "rwXQUE7b5sZS"
      },
      "source": [
        "## Question 10"
      ]
    },
    {
      "cell_type": "markdown",
      "metadata": {
        "colab_type": "text",
        "id": "E6SITIE75sZT"
      },
      "source": [
        "### Calculate accuracy of logistic regression\n",
        "- check accuracy of logistic regression classifer\n",
        "- use sklearn.metrics.accuracy_score"
      ]
    },
    {
      "cell_type": "code",
      "metadata": {
        "colab_type": "code",
        "id": "clv2X0kKH0Ok",
        "colab": {
          "base_uri": "https://localhost:8080/",
          "height": 207
        },
        "outputId": "aedb0045-a12d-4baf-a517-5b14721ea872"
      },
      "source": [
        "from sklearn.metrics import accuracy_score,classification_report\n",
        "acc1 = accuracy_score(y_test,y_pred)\n",
        "report1=classification_report(y_test,y_pred)\n",
        "print(\"This is the obtained accuracy {}%\".format(acc1*100))\n",
        "print(\"This is the report with the detailed scoring of F1 scores,precision & accuracy:-\")\n",
        "print(report1)"
      ],
      "execution_count": 155,
      "outputs": [
        {
          "output_type": "stream",
          "text": [
            "This is the obtained accuracy 88.09523809523809%\n",
            "This is the report with the detailed scoring of F1 scores,precision & accuracy:-\n",
            "              precision    recall  f1-score   support\n",
            "\n",
            "           0       0.79      0.36      0.49       129\n",
            "           1       0.89      0.98      0.93       669\n",
            "\n",
            "    accuracy                           0.88       798\n",
            "   macro avg       0.84      0.67      0.71       798\n",
            "weighted avg       0.87      0.88      0.86       798\n",
            "\n"
          ],
          "name": "stdout"
        }
      ]
    },
    {
      "cell_type": "markdown",
      "metadata": {
        "colab_type": "text",
        "id": "1Fd_Gnd05sZV"
      },
      "source": [
        "### Calculate accuracy of naive bayes\n",
        "- check accuracy of naive bayes classifer\n",
        "- use sklearn.metrics.accuracy_score"
      ]
    },
    {
      "cell_type": "code",
      "metadata": {
        "colab_type": "code",
        "id": "d32uBpHi5sZW",
        "colab": {
          "base_uri": "https://localhost:8080/",
          "height": 207
        },
        "outputId": "d7271efe-6611-445c-ab56-79eb0e3c7cc4"
      },
      "source": [
        "from sklearn.metrics import accuracy_score,classification_report\n",
        "acc2 = accuracy_score(y_test,y_pred1)\n",
        "report2=classification_report(y_test,y_pred1)\n",
        "print(\"This is the obtained accuracy {}%\".format(acc2*100))\n",
        "print(\"This is the report with the detailed scoring of F1 scores,precision & accuracy:-\")\n",
        "print(report2)"
      ],
      "execution_count": 156,
      "outputs": [
        {
          "output_type": "stream",
          "text": [
            "This is the obtained accuracy 87.468671679198%\n",
            "This is the report with the detailed scoring of F1 scores,precision & accuracy:-\n",
            "              precision    recall  f1-score   support\n",
            "\n",
            "           0       0.76      0.33      0.46       129\n",
            "           1       0.88      0.98      0.93       669\n",
            "\n",
            "    accuracy                           0.87       798\n",
            "   macro avg       0.82      0.65      0.69       798\n",
            "weighted avg       0.86      0.87      0.85       798\n",
            "\n"
          ],
          "name": "stdout"
        }
      ]
    }
  ]
}